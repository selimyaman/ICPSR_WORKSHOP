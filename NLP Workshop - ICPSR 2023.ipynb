{
  "cells": [
    {
      "attachments": {},
      "cell_type": "markdown",
      "metadata": {},
      "source": [
        "<a href=\"https://colab.research.google.com/drive/1sQuW2QY6MMI1R2cgIg7QFh0aXGNib0KD?usp=sharing\" target=\"_parent\"><img src=\"https://colab.research.google.com/assets/colab-badge.svg\" alt=\"Open In Colab\"/></a>"
      ]
    },
    {
      "attachments": {},
      "cell_type": "markdown",
      "metadata": {
        "id": "47O4RPQ7fskz"
      },
      "source": [
        "##  🧑‍💻 Workshop Notebook 🧑‍💻\n",
        "\n",
        "📅 ICPSR 2023 tutorial\n",
        "\n",
        "These materials are for the NLP Workshop as a supplement to Machine Learning Course at [ICPSR 2023](https://www.icpsr.umich.edu/web/pages/sumprog/), and some parts are adapted from Moritz Laurer's [Github Repo](https://github.com/MoritzLaurer)\n",
        "\n",
        "👨‍🏫 By [Selim Yaman](https://twitter.com/selimyaman_)"
      ]
    },
    {
      "attachments": {},
      "cell_type": "markdown",
      "metadata": {
        "id": "bCzLYg11MctY"
      },
      "source": [
        "## Activate a GPU runtime"
      ]
    },
    {
      "attachments": {},
      "cell_type": "markdown",
      "metadata": {
        "id": "OZoAtCy_MhnU"
      },
      "source": [
        "In order to run this notebook on a GPU, click on \"Runtime\" > \"Change runtime type\" > select \"GPU\" in the menu bar in to top left. Training a Transformer is much faster on a GPU. Given Google's usage limits for GPUs, I would suggest to first test your non-training code on a CPU (Hardware accelerator \"None\" instead of GPU) and only use the GPU once you know that everything is working."
      ]
    },
    {
      "attachments": {},
      "cell_type": "markdown",
      "metadata": {
        "id": "VOeUg4_YpxC7"
      },
      "source": [
        "## Install relevant packages"
      ]
    },
    {
      "cell_type": "code",
      "execution_count": 1,
      "metadata": {
        "colab": {
          "base_uri": "https://localhost:8080/",
          "height": 1000
        },
        "id": "qIjwLsME0KiW",
        "outputId": "8141b78f-d7bc-4a11-9be2-4e19f827ebcf"
      },
      "outputs": [
        {
          "name": "stdout",
          "output_type": "stream",
          "text": [
            "Collecting transformers[sentencepiece]==4.28\n",
            "  Downloading transformers-4.28.0-py3-none-any.whl (7.0 MB)\n",
            "\u001b[2K     \u001b[90m━━━━━━━━━━━━━━━━━━━━━━━━━━━━━━━━━━━━━━━━\u001b[0m \u001b[32m7.0/7.0 MB\u001b[0m \u001b[31m57.5 MB/s\u001b[0m eta \u001b[36m0:00:00\u001b[0m\n",
            "\u001b[?25hRequirement already satisfied: filelock in /usr/local/lib/python3.10/dist-packages (from transformers[sentencepiece]==4.28) (3.12.2)\n",
            "Collecting huggingface-hub<1.0,>=0.11.0 (from transformers[sentencepiece]==4.28)\n",
            "  Downloading huggingface_hub-0.15.1-py3-none-any.whl (236 kB)\n",
            "\u001b[2K     \u001b[90m━━━━━━━━━━━━━━━━━━━━━━━━━━━━━━━━━━━━━━\u001b[0m \u001b[32m236.8/236.8 kB\u001b[0m \u001b[31m30.7 MB/s\u001b[0m eta \u001b[36m0:00:00\u001b[0m\n",
            "\u001b[?25hRequirement already satisfied: numpy>=1.17 in /usr/local/lib/python3.10/dist-packages (from transformers[sentencepiece]==4.28) (1.22.4)\n",
            "Requirement already satisfied: packaging>=20.0 in /usr/local/lib/python3.10/dist-packages (from transformers[sentencepiece]==4.28) (23.1)\n",
            "Requirement already satisfied: pyyaml>=5.1 in /usr/local/lib/python3.10/dist-packages (from transformers[sentencepiece]==4.28) (6.0)\n",
            "Requirement already satisfied: regex!=2019.12.17 in /usr/local/lib/python3.10/dist-packages (from transformers[sentencepiece]==4.28) (2022.10.31)\n",
            "Requirement already satisfied: requests in /usr/local/lib/python3.10/dist-packages (from transformers[sentencepiece]==4.28) (2.27.1)\n",
            "Collecting tokenizers!=0.11.3,<0.14,>=0.11.1 (from transformers[sentencepiece]==4.28)\n",
            "  Downloading tokenizers-0.13.3-cp310-cp310-manylinux_2_17_x86_64.manylinux2014_x86_64.whl (7.8 MB)\n",
            "\u001b[2K     \u001b[90m━━━━━━━━━━━━━━━━━━━━━━━━━━━━━━━━━━━━━━━━\u001b[0m \u001b[32m7.8/7.8 MB\u001b[0m \u001b[31m106.6 MB/s\u001b[0m eta \u001b[36m0:00:00\u001b[0m\n",
            "\u001b[?25hRequirement already satisfied: tqdm>=4.27 in /usr/local/lib/python3.10/dist-packages (from transformers[sentencepiece]==4.28) (4.65.0)\n",
            "Collecting sentencepiece!=0.1.92,>=0.1.91 (from transformers[sentencepiece]==4.28)\n",
            "  Downloading sentencepiece-0.1.99-cp310-cp310-manylinux_2_17_x86_64.manylinux2014_x86_64.whl (1.3 MB)\n",
            "\u001b[2K     \u001b[90m━━━━━━━━━━━━━━━━━━━━━━━━━━━━━━━━━━━━━━━━\u001b[0m \u001b[32m1.3/1.3 MB\u001b[0m \u001b[31m85.6 MB/s\u001b[0m eta \u001b[36m0:00:00\u001b[0m\n",
            "\u001b[?25hCollecting protobuf<=3.20.2 (from transformers[sentencepiece]==4.28)\n",
            "  Downloading protobuf-3.20.2-cp310-cp310-manylinux_2_12_x86_64.manylinux2010_x86_64.whl (1.1 MB)\n",
            "\u001b[2K     \u001b[90m━━━━━━━━━━━━━━━━━━━━━━━━━━━━━━━━━━━━━━━━\u001b[0m \u001b[32m1.1/1.1 MB\u001b[0m \u001b[31m57.4 MB/s\u001b[0m eta \u001b[36m0:00:00\u001b[0m\n",
            "\u001b[?25hRequirement already satisfied: fsspec in /usr/local/lib/python3.10/dist-packages (from huggingface-hub<1.0,>=0.11.0->transformers[sentencepiece]==4.28) (2023.6.0)\n",
            "Requirement already satisfied: typing-extensions>=3.7.4.3 in /usr/local/lib/python3.10/dist-packages (from huggingface-hub<1.0,>=0.11.0->transformers[sentencepiece]==4.28) (4.6.3)\n",
            "Requirement already satisfied: urllib3<1.27,>=1.21.1 in /usr/local/lib/python3.10/dist-packages (from requests->transformers[sentencepiece]==4.28) (1.26.16)\n",
            "Requirement already satisfied: certifi>=2017.4.17 in /usr/local/lib/python3.10/dist-packages (from requests->transformers[sentencepiece]==4.28) (2023.5.7)\n",
            "Requirement already satisfied: charset-normalizer~=2.0.0 in /usr/local/lib/python3.10/dist-packages (from requests->transformers[sentencepiece]==4.28) (2.0.12)\n",
            "Requirement already satisfied: idna<4,>=2.5 in /usr/local/lib/python3.10/dist-packages (from requests->transformers[sentencepiece]==4.28) (3.4)\n",
            "Installing collected packages: tokenizers, sentencepiece, protobuf, huggingface-hub, transformers\n",
            "  Attempting uninstall: protobuf\n",
            "    Found existing installation: protobuf 3.20.3\n",
            "    Uninstalling protobuf-3.20.3:\n",
            "      Successfully uninstalled protobuf-3.20.3\n",
            "\u001b[31mERROR: pip's dependency resolver does not currently take into account all the packages that are installed. This behaviour is the source of the following dependency conflicts.\n",
            "tensorflow 2.12.0 requires protobuf!=4.21.0,!=4.21.1,!=4.21.2,!=4.21.3,!=4.21.4,!=4.21.5,<5.0.0dev,>=3.20.3, but you have protobuf 3.20.2 which is incompatible.\n",
            "tensorflow-metadata 1.13.1 requires protobuf<5,>=3.20.3, but you have protobuf 3.20.2 which is incompatible.\u001b[0m\u001b[31m\n",
            "\u001b[0mSuccessfully installed huggingface-hub-0.15.1 protobuf-3.20.2 sentencepiece-0.1.99 tokenizers-0.13.3 transformers-4.28.0\n"
          ]
        },
        {
          "data": {
            "application/vnd.colab-display-data+json": {
              "pip_warning": {
                "packages": [
                  "google"
                ]
              }
            }
          },
          "metadata": {},
          "output_type": "display_data"
        },
        {
          "name": "stdout",
          "output_type": "stream",
          "text": [
            "Collecting datasets==2.12\n",
            "  Downloading datasets-2.12.0-py3-none-any.whl (474 kB)\n",
            "\u001b[2K     \u001b[90m━━━━━━━━━━━━━━━━━━━━━━━━━━━━━━━━━━━━━━\u001b[0m \u001b[32m474.6/474.6 kB\u001b[0m \u001b[31m18.1 MB/s\u001b[0m eta \u001b[36m0:00:00\u001b[0m\n",
            "\u001b[?25hRequirement already satisfied: numpy>=1.17 in /usr/local/lib/python3.10/dist-packages (from datasets==2.12) (1.22.4)\n",
            "Requirement already satisfied: pyarrow>=8.0.0 in /usr/local/lib/python3.10/dist-packages (from datasets==2.12) (9.0.0)\n",
            "Collecting dill<0.3.7,>=0.3.0 (from datasets==2.12)\n",
            "  Downloading dill-0.3.6-py3-none-any.whl (110 kB)\n",
            "\u001b[2K     \u001b[90m━━━━━━━━━━━━━━━━━━━━━━━━━━━━━━━━━━━━━━\u001b[0m \u001b[32m110.5/110.5 kB\u001b[0m \u001b[31m16.7 MB/s\u001b[0m eta \u001b[36m0:00:00\u001b[0m\n",
            "\u001b[?25hRequirement already satisfied: pandas in /usr/local/lib/python3.10/dist-packages (from datasets==2.12) (1.5.3)\n",
            "Requirement already satisfied: requests>=2.19.0 in /usr/local/lib/python3.10/dist-packages (from datasets==2.12) (2.27.1)\n",
            "Requirement already satisfied: tqdm>=4.62.1 in /usr/local/lib/python3.10/dist-packages (from datasets==2.12) (4.65.0)\n",
            "Collecting xxhash (from datasets==2.12)\n",
            "  Downloading xxhash-3.2.0-cp310-cp310-manylinux_2_17_x86_64.manylinux2014_x86_64.whl (212 kB)\n",
            "\u001b[2K     \u001b[90m━━━━━━━━━━━━━━━━━━━━━━━━━━━━━━━━━━━━━━\u001b[0m \u001b[32m212.5/212.5 kB\u001b[0m \u001b[31m27.5 MB/s\u001b[0m eta \u001b[36m0:00:00\u001b[0m\n",
            "\u001b[?25hCollecting multiprocess (from datasets==2.12)\n",
            "  Downloading multiprocess-0.70.14-py310-none-any.whl (134 kB)\n",
            "\u001b[2K     \u001b[90m━━━━━━━━━━━━━━━━━━━━━━━━━━━━━━━━━━━━━━\u001b[0m \u001b[32m134.3/134.3 kB\u001b[0m \u001b[31m19.2 MB/s\u001b[0m eta \u001b[36m0:00:00\u001b[0m\n",
            "\u001b[?25hRequirement already satisfied: fsspec[http]>=2021.11.1 in /usr/local/lib/python3.10/dist-packages (from datasets==2.12) (2023.6.0)\n",
            "Requirement already satisfied: aiohttp in /usr/local/lib/python3.10/dist-packages (from datasets==2.12) (3.8.4)\n",
            "Requirement already satisfied: huggingface-hub<1.0.0,>=0.11.0 in /usr/local/lib/python3.10/dist-packages (from datasets==2.12) (0.15.1)\n",
            "Requirement already satisfied: packaging in /usr/local/lib/python3.10/dist-packages (from datasets==2.12) (23.1)\n",
            "Collecting responses<0.19 (from datasets==2.12)\n",
            "  Downloading responses-0.18.0-py3-none-any.whl (38 kB)\n",
            "Requirement already satisfied: pyyaml>=5.1 in /usr/local/lib/python3.10/dist-packages (from datasets==2.12) (6.0)\n",
            "Requirement already satisfied: attrs>=17.3.0 in /usr/local/lib/python3.10/dist-packages (from aiohttp->datasets==2.12) (23.1.0)\n",
            "Requirement already satisfied: charset-normalizer<4.0,>=2.0 in /usr/local/lib/python3.10/dist-packages (from aiohttp->datasets==2.12) (2.0.12)\n",
            "Requirement already satisfied: multidict<7.0,>=4.5 in /usr/local/lib/python3.10/dist-packages (from aiohttp->datasets==2.12) (6.0.4)\n",
            "Requirement already satisfied: async-timeout<5.0,>=4.0.0a3 in /usr/local/lib/python3.10/dist-packages (from aiohttp->datasets==2.12) (4.0.2)\n",
            "Requirement already satisfied: yarl<2.0,>=1.0 in /usr/local/lib/python3.10/dist-packages (from aiohttp->datasets==2.12) (1.9.2)\n",
            "Requirement already satisfied: frozenlist>=1.1.1 in /usr/local/lib/python3.10/dist-packages (from aiohttp->datasets==2.12) (1.3.3)\n",
            "Requirement already satisfied: aiosignal>=1.1.2 in /usr/local/lib/python3.10/dist-packages (from aiohttp->datasets==2.12) (1.3.1)\n",
            "Requirement already satisfied: filelock in /usr/local/lib/python3.10/dist-packages (from huggingface-hub<1.0.0,>=0.11.0->datasets==2.12) (3.12.2)\n",
            "Requirement already satisfied: typing-extensions>=3.7.4.3 in /usr/local/lib/python3.10/dist-packages (from huggingface-hub<1.0.0,>=0.11.0->datasets==2.12) (4.6.3)\n",
            "Requirement already satisfied: urllib3<1.27,>=1.21.1 in /usr/local/lib/python3.10/dist-packages (from requests>=2.19.0->datasets==2.12) (1.26.16)\n",
            "Requirement already satisfied: certifi>=2017.4.17 in /usr/local/lib/python3.10/dist-packages (from requests>=2.19.0->datasets==2.12) (2023.5.7)\n",
            "Requirement already satisfied: idna<4,>=2.5 in /usr/local/lib/python3.10/dist-packages (from requests>=2.19.0->datasets==2.12) (3.4)\n",
            "Requirement already satisfied: python-dateutil>=2.8.1 in /usr/local/lib/python3.10/dist-packages (from pandas->datasets==2.12) (2.8.2)\n",
            "Requirement already satisfied: pytz>=2020.1 in /usr/local/lib/python3.10/dist-packages (from pandas->datasets==2.12) (2022.7.1)\n",
            "Requirement already satisfied: six>=1.5 in /usr/local/lib/python3.10/dist-packages (from python-dateutil>=2.8.1->pandas->datasets==2.12) (1.16.0)\n",
            "Installing collected packages: xxhash, dill, responses, multiprocess, datasets\n",
            "Successfully installed datasets-2.12.0 dill-0.3.6 multiprocess-0.70.14 responses-0.18.0 xxhash-3.2.0\n",
            "Collecting optuna==3.1\n",
            "  Downloading optuna-3.1.0-py3-none-any.whl (365 kB)\n",
            "\u001b[2K     \u001b[90m━━━━━━━━━━━━━━━━━━━━━━━━━━━━━━━━━━━━━━\u001b[0m \u001b[32m365.3/365.3 kB\u001b[0m \u001b[31m16.7 MB/s\u001b[0m eta \u001b[36m0:00:00\u001b[0m\n",
            "\u001b[?25hCollecting alembic>=1.5.0 (from optuna==3.1)\n",
            "  Downloading alembic-1.11.1-py3-none-any.whl (224 kB)\n",
            "\u001b[2K     \u001b[90m━━━━━━━━━━━━━━━━━━━━━━━━━━━━━━━━━━━━━━\u001b[0m \u001b[32m224.5/224.5 kB\u001b[0m \u001b[31m29.5 MB/s\u001b[0m eta \u001b[36m0:00:00\u001b[0m\n",
            "\u001b[?25hCollecting cmaes>=0.9.1 (from optuna==3.1)\n",
            "  Downloading cmaes-0.9.1-py3-none-any.whl (21 kB)\n",
            "Collecting colorlog (from optuna==3.1)\n",
            "  Downloading colorlog-6.7.0-py2.py3-none-any.whl (11 kB)\n",
            "Requirement already satisfied: numpy in /usr/local/lib/python3.10/dist-packages (from optuna==3.1) (1.22.4)\n",
            "Requirement already satisfied: packaging>=20.0 in /usr/local/lib/python3.10/dist-packages (from optuna==3.1) (23.1)\n",
            "Requirement already satisfied: sqlalchemy>=1.3.0 in /usr/local/lib/python3.10/dist-packages (from optuna==3.1) (2.0.16)\n",
            "Requirement already satisfied: tqdm in /usr/local/lib/python3.10/dist-packages (from optuna==3.1) (4.65.0)\n",
            "Requirement already satisfied: PyYAML in /usr/local/lib/python3.10/dist-packages (from optuna==3.1) (6.0)\n",
            "Collecting Mako (from alembic>=1.5.0->optuna==3.1)\n",
            "  Downloading Mako-1.2.4-py3-none-any.whl (78 kB)\n",
            "\u001b[2K     \u001b[90m━━━━━━━━━━━━━━━━━━━━━━━━━━━━━━━━━━━━━━━━\u001b[0m \u001b[32m78.7/78.7 kB\u001b[0m \u001b[31m10.8 MB/s\u001b[0m eta \u001b[36m0:00:00\u001b[0m\n",
            "\u001b[?25hRequirement already satisfied: typing-extensions>=4 in /usr/local/lib/python3.10/dist-packages (from alembic>=1.5.0->optuna==3.1) (4.6.3)\n",
            "Requirement already satisfied: greenlet!=0.4.17 in /usr/local/lib/python3.10/dist-packages (from sqlalchemy>=1.3.0->optuna==3.1) (2.0.2)\n",
            "Requirement already satisfied: MarkupSafe>=0.9.2 in /usr/local/lib/python3.10/dist-packages (from Mako->alembic>=1.5.0->optuna==3.1) (2.1.3)\n",
            "Installing collected packages: Mako, colorlog, cmaes, alembic, optuna\n",
            "Successfully installed Mako-1.2.4 alembic-1.11.1 cmaes-0.9.1 colorlog-6.7.0 optuna-3.1.0\n"
          ]
        }
      ],
      "source": [
        "!pip install transformers[sentencepiece]==4.28\n",
        "!pip install datasets==2.12\n",
        "!pip install optuna==3.1"
      ]
    },
    {
      "cell_type": "code",
      "execution_count": 2,
      "metadata": {
        "id": "FT5nV1J3p4t5"
      },
      "outputs": [],
      "source": [
        "## Load general packages\n",
        "# some more specialised packages are loaded in each sub section\n",
        "import pandas as pd\n",
        "import numpy as np\n",
        "from google.colab.data_table import DataTable"
      ]
    },
    {
      "cell_type": "code",
      "execution_count": 3,
      "metadata": {
        "id": "WaGAh8DJwvKV"
      },
      "outputs": [],
      "source": [
        "# set random seed for reproducibility\n",
        "SEED_GLOBAL = 123\n",
        "np.random.seed(SEED_GLOBAL)"
      ]
    },
    {
      "attachments": {},
      "cell_type": "markdown",
      "metadata": {
        "id": "8_DkNjuVo2iK"
      },
      "source": [
        "## Download data"
      ]
    },
    {
      "cell_type": "code",
      "execution_count": 4,
      "metadata": {
        "colab": {
          "base_uri": "https://localhost:8080/"
        },
        "id": "3ZJWT5pN1CE_",
        "outputId": "00b74aa7-1a4f-45e8-dbc4-d1cd8d3dfb9b"
      },
      "outputs": [
        {
          "name": "stdout",
          "output_type": "stream",
          "text": [
            "Length of training and test sets:  3204  (train)  800  (test).\n"
          ]
        }
      ],
      "source": [
        "## Download the cleaned train and test data github\n",
        "df_train = pd.read_csv(\"https://raw.githubusercontent.com/selimyaman/ICPSR_WORKSHOP/master/political_tweets_example_clean_train.csv\")\n",
        "df_train.drop(df_train.columns[0], axis=1, inplace=True)\n",
        "\n",
        "df_test = pd.read_csv(\"https://raw.githubusercontent.com/selimyaman/ICPSR_WORKSHOP/master/political_tweets_example_clean_test.csv\")\n",
        "df_test.drop(df_test.columns[0], axis=1, inplace=True)\n",
        "\n",
        "\n",
        "print(\"Length of training and test sets: \", len(df_train), \" (train) \", len(df_test), \" (test).\") # I split the dataset 80-20"
      ]
    },
    {
      "cell_type": "code",
      "execution_count": 5,
      "metadata": {
        "colab": {
          "base_uri": "https://localhost:8080/",
          "height": 206
        },
        "id": "tkHdfLWRd7PA",
        "outputId": "a0182690-f03c-4eb6-d7c2-53037a1d125e"
      },
      "outputs": [
        {
          "data": {
            "text/html": [
              "\n",
              "  <div id=\"df-bb708610-4566-49fd-894e-aae7be09460f\">\n",
              "    <div class=\"colab-df-container\">\n",
              "      <div>\n",
              "<style scoped>\n",
              "    .dataframe tbody tr th:only-of-type {\n",
              "        vertical-align: middle;\n",
              "    }\n",
              "\n",
              "    .dataframe tbody tr th {\n",
              "        vertical-align: top;\n",
              "    }\n",
              "\n",
              "    .dataframe thead th {\n",
              "        text-align: right;\n",
              "    }\n",
              "</style>\n",
              "<table border=\"1\" class=\"dataframe\">\n",
              "  <thead>\n",
              "    <tr style=\"text-align: right;\">\n",
              "      <th></th>\n",
              "      <th>label</th>\n",
              "      <th>text</th>\n",
              "      <th>label_text</th>\n",
              "    </tr>\n",
              "  </thead>\n",
              "  <tbody>\n",
              "    <tr>\n",
              "      <th>0</th>\n",
              "      <td>1</td>\n",
              "      <td>Global Voices Online Â» Alex Castro: A liberal...</td>\n",
              "      <td>political</td>\n",
              "    </tr>\n",
              "    <tr>\n",
              "      <th>1</th>\n",
              "      <td>1</td>\n",
              "      <td>Do the Conservatives Have a Death Wish? http:/...</td>\n",
              "      <td>political</td>\n",
              "    </tr>\n",
              "    <tr>\n",
              "      <th>2</th>\n",
              "      <td>1</td>\n",
              "      <td>RT @AllianceAlert: * House Dems ask for civili...</td>\n",
              "      <td>political</td>\n",
              "    </tr>\n",
              "    <tr>\n",
              "      <th>3</th>\n",
              "      <td>1</td>\n",
              "      <td>RT @AdamSmithInst Quote of the week: My politi...</td>\n",
              "      <td>political</td>\n",
              "    </tr>\n",
              "    <tr>\n",
              "      <th>4</th>\n",
              "      <td>1</td>\n",
              "      <td>@mystic23 I also think that most liberals don'...</td>\n",
              "      <td>political</td>\n",
              "    </tr>\n",
              "  </tbody>\n",
              "</table>\n",
              "</div>\n",
              "      <button class=\"colab-df-convert\" onclick=\"convertToInteractive('df-bb708610-4566-49fd-894e-aae7be09460f')\"\n",
              "              title=\"Convert this dataframe to an interactive table.\"\n",
              "              style=\"display:none;\">\n",
              "        \n",
              "  <svg xmlns=\"http://www.w3.org/2000/svg\" height=\"24px\"viewBox=\"0 0 24 24\"\n",
              "       width=\"24px\">\n",
              "    <path d=\"M0 0h24v24H0V0z\" fill=\"none\"/>\n",
              "    <path d=\"M18.56 5.44l.94 2.06.94-2.06 2.06-.94-2.06-.94-.94-2.06-.94 2.06-2.06.94zm-11 1L8.5 8.5l.94-2.06 2.06-.94-2.06-.94L8.5 2.5l-.94 2.06-2.06.94zm10 10l.94 2.06.94-2.06 2.06-.94-2.06-.94-.94-2.06-.94 2.06-2.06.94z\"/><path d=\"M17.41 7.96l-1.37-1.37c-.4-.4-.92-.59-1.43-.59-.52 0-1.04.2-1.43.59L10.3 9.45l-7.72 7.72c-.78.78-.78 2.05 0 2.83L4 21.41c.39.39.9.59 1.41.59.51 0 1.02-.2 1.41-.59l7.78-7.78 2.81-2.81c.8-.78.8-2.07 0-2.86zM5.41 20L4 18.59l7.72-7.72 1.47 1.35L5.41 20z\"/>\n",
              "  </svg>\n",
              "      </button>\n",
              "      \n",
              "  <style>\n",
              "    .colab-df-container {\n",
              "      display:flex;\n",
              "      flex-wrap:wrap;\n",
              "      gap: 12px;\n",
              "    }\n",
              "\n",
              "    .colab-df-convert {\n",
              "      background-color: #E8F0FE;\n",
              "      border: none;\n",
              "      border-radius: 50%;\n",
              "      cursor: pointer;\n",
              "      display: none;\n",
              "      fill: #1967D2;\n",
              "      height: 32px;\n",
              "      padding: 0 0 0 0;\n",
              "      width: 32px;\n",
              "    }\n",
              "\n",
              "    .colab-df-convert:hover {\n",
              "      background-color: #E2EBFA;\n",
              "      box-shadow: 0px 1px 2px rgba(60, 64, 67, 0.3), 0px 1px 3px 1px rgba(60, 64, 67, 0.15);\n",
              "      fill: #174EA6;\n",
              "    }\n",
              "\n",
              "    [theme=dark] .colab-df-convert {\n",
              "      background-color: #3B4455;\n",
              "      fill: #D2E3FC;\n",
              "    }\n",
              "\n",
              "    [theme=dark] .colab-df-convert:hover {\n",
              "      background-color: #434B5C;\n",
              "      box-shadow: 0px 1px 3px 1px rgba(0, 0, 0, 0.15);\n",
              "      filter: drop-shadow(0px 1px 2px rgba(0, 0, 0, 0.3));\n",
              "      fill: #FFFFFF;\n",
              "    }\n",
              "  </style>\n",
              "\n",
              "      <script>\n",
              "        const buttonEl =\n",
              "          document.querySelector('#df-bb708610-4566-49fd-894e-aae7be09460f button.colab-df-convert');\n",
              "        buttonEl.style.display =\n",
              "          google.colab.kernel.accessAllowed ? 'block' : 'none';\n",
              "\n",
              "        async function convertToInteractive(key) {\n",
              "          const element = document.querySelector('#df-bb708610-4566-49fd-894e-aae7be09460f');\n",
              "          const dataTable =\n",
              "            await google.colab.kernel.invokeFunction('convertToInteractive',\n",
              "                                                     [key], {});\n",
              "          if (!dataTable) return;\n",
              "\n",
              "          const docLinkHtml = 'Like what you see? Visit the ' +\n",
              "            '<a target=\"_blank\" href=https://colab.research.google.com/notebooks/data_table.ipynb>data table notebook</a>'\n",
              "            + ' to learn more about interactive tables.';\n",
              "          element.innerHTML = '';\n",
              "          dataTable['output_type'] = 'display_data';\n",
              "          await google.colab.output.renderOutput(dataTable, element);\n",
              "          const docLink = document.createElement('div');\n",
              "          docLink.innerHTML = docLinkHtml;\n",
              "          element.appendChild(docLink);\n",
              "        }\n",
              "      </script>\n",
              "    </div>\n",
              "  </div>\n",
              "  "
            ],
            "text/plain": [
              "   label                                               text label_text\n",
              "0      1  Global Voices Online Â» Alex Castro: A liberal...  political\n",
              "1      1  Do the Conservatives Have a Death Wish? http:/...  political\n",
              "2      1  RT @AllianceAlert: * House Dems ask for civili...  political\n",
              "3      1  RT @AdamSmithInst Quote of the week: My politi...  political\n",
              "4      1  @mystic23 I also think that most liberals don'...  political"
            ]
          },
          "execution_count": 5,
          "metadata": {},
          "output_type": "execute_result"
        }
      ],
      "source": [
        "# make sure everything looks correct:\n",
        "df_train.head()"
      ]
    },
    {
      "attachments": {},
      "cell_type": "markdown",
      "metadata": {
        "id": "LvNpgSDGP47D"
      },
      "source": [
        "**If you want to run the notebook on your own dataset:**\n",
        "\n",
        "You can load your own training and test data above to fine-tune your own model. Your own dataframe only needs three columns to be compatible with the code below:\n",
        "- **label** column with a numeric label;\n",
        "- **label_text** column with the label name in plain language,\n",
        "- **text** column with the texts for training (you might need to delete/adapt the text preparation code cell below for your dataset)."
      ]
    },
    {
      "cell_type": "code",
      "execution_count": 6,
      "metadata": {
        "colab": {
          "base_uri": "https://localhost:8080/",
          "height": 71
        },
        "id": "9NNdV5ee1DYK",
        "outputId": "4d372413-308f-40d5-92a5-4c889ad1de25"
      },
      "outputs": [
        {
          "data": {
            "application/vnd.google.colaboratory.intrinsic+json": {
              "type": "string"
            },
            "text/plain": [
              "'\\nfrom google.colab import drive\\nimport os\\ndrive.mount(\\'/content/drive\\', force_remount=False)\\n\\n# set the path to your data\\nos.chdir(\"/content/drive/My Drive/PhD/other/chapter2/data\")\\nprint(os.getcwd())\\n\\ndf_train = pd.read_csv(\"./df_manifesto_morality_train.csv\")\\ndf_test = pd.read_csv(\"./df_manifesto_morality_test.csv\")\\nprint(\"Length of training and test sets: \", len(df_train), \" (train) \", len(df_test), \" (test).\")\\n'"
            ]
          },
          "execution_count": 6,
          "metadata": {},
          "output_type": "execute_result"
        }
      ],
      "source": [
        "## alternatively, you can also load your own .csv files from Google Drive\n",
        "\"\"\"\n",
        "from google.colab import drive\n",
        "import os\n",
        "drive.mount('/content/drive', force_remount=False)\n",
        "\n",
        "# set the path to your data\n",
        "os.chdir(\"/content/drive/My Drive/PhD/other/chapter2/data\")\n",
        "print(os.getcwd())\n",
        "\n",
        "df_train = pd.read_csv(\"./df_manifesto_morality_train.csv\")\n",
        "df_test = pd.read_csv(\"./df_manifesto_morality_test.csv\")\n",
        "print(\"Length of training and test sets: \", len(df_train), \" (train) \", len(df_test), \" (test).\")\n",
        "\"\"\"\n"
      ]
    },
    {
      "cell_type": "code",
      "execution_count": 7,
      "metadata": {
        "colab": {
          "base_uri": "https://localhost:8080/"
        },
        "id": "0-SPaNcdogiu",
        "outputId": "7a40cf67-774f-4333-deb6-122c517176a5"
      },
      "outputs": [
        {
          "name": "stdout",
          "output_type": "stream",
          "text": [
            "Length of training and test sets after sampling:  1000  (train)  800  (test).\n"
          ]
        }
      ],
      "source": [
        "# optional: use training data sample size of e.g. 1000 for faster testing\n",
        "sample_size = 1000\n",
        "df_train = df_train.sample(n=min(sample_size, len(df_train)), random_state=SEED_GLOBAL).copy(deep=True)\n",
        "df_test = df_test.sample(n=min(sample_size*4, len(df_test)), random_state=SEED_GLOBAL).copy(deep=True)\n",
        "\n",
        "print(\"Length of training and test sets after sampling: \", len(df_train), \" (train) \", len(df_test), \" (test).\")\n"
      ]
    },
    {
      "cell_type": "code",
      "execution_count": 8,
      "metadata": {
        "colab": {
          "base_uri": "https://localhost:8080/"
        },
        "id": "wzAJybXMnN1V",
        "outputId": "bc1e7440-09d4-4a83-d225-b4df332dd33e"
      },
      "outputs": [
        {
          "name": "stdout",
          "output_type": "stream",
          "text": [
            "Train set label distribution:\n",
            " non-political    584\n",
            "political        416\n",
            "Name: label_text, dtype: int64 \n",
            "\n",
            "Test set label distribution:\n",
            " non-political    452\n",
            "political        348\n",
            "Name: label_text, dtype: int64\n"
          ]
        }
      ],
      "source": [
        "## inspect the data\n",
        "# label distribution train set\n",
        "print(\"Train set label distribution:\\n\", df_train.label_text.value_counts(), \"\\n\")\n",
        "# label distribution test set\n",
        "print(\"Test set label distribution:\\n\", df_test.label_text.value_counts())\n"
      ]
    },
    {
      "cell_type": "code",
      "execution_count": 9,
      "metadata": {
        "colab": {
          "base_uri": "https://localhost:8080/",
          "height": 207
        },
        "id": "Bk9yc_ppraUa",
        "outputId": "2e4a7cde-8fce-4438-ac45-1728772bbd3b"
      },
      "outputs": [
        {
          "data": {
            "application/vnd.google.colaboratory.module+javascript": "\n      import \"https://ssl.gstatic.com/colaboratory/data_table/881c4a0d49046431/data_table.js\";\n\n      const table = window.createDataTable({\n        data: [[{\n            'v': 2573,\n            'f': \"2573\",\n        },\n{\n            'v': 0,\n            'f': \"0\",\n        },\n\"en with an extra hour of sleep, Monday is still Monday. Why the fuck am I always making the coffee around here?\",\n\"non-political\"],\n [{\n            'v': 2853,\n            'f': \"2853\",\n        },\n{\n            'v': 0,\n            'f': \"0\",\n        },\n\"aux #Saints! <3 Psh, and the Falcons used to be our \\\"rivals\\\" bwahahahaha #whodat #blackandgold\",\n\"non-political\"],\n [{\n            'v': 1196,\n            'f': \"1196\",\n        },\n{\n            'v': 1,\n            'f': \"1\",\n        },\n\"We are broadcasting a very special Request Show for our troops out in Afghanistan, on Sunday 20 December between 12... http://bit.ly/6Dr3co\",\n\"political\"],\n [{\n            'v': 602,\n            'f': \"602\",\n        },\n{\n            'v': 1,\n            'f': \"1\",\n        },\n\"RT @jackiewalorski: What a deal! Obama's going to provide ALL this with no tax increase!! Incredible...hang on to your wallet.\",\n\"political\"],\n [{\n            'v': 984,\n            'f': \"984\",\n        },\n{\n            'v': 1,\n            'f': \"1\",\n        },\n\"With the billions congress wastes spending on stupid crap every year-we could've ended both middle east wars and fixed the economy years ago\",\n\"political\"],\n [{\n            'v': 1943,\n            'f': \"1943\",\n        },\n{\n            'v': 0,\n            'f': \"0\",\n        },\n\"armville naunsa na tawn to ako farmville, cafe world, rollercoaster kingdom, pet s.. http://bit.ly/2UsKhZ >>> Meeewwwhhhhh\",\n\"non-political\"],\n [{\n            'v': 1619,\n            'f': \"1619\",\n        },\n{\n            'v': 0,\n            'f': \"0\",\n        },\n\"yin' to enjoy this beautiful Halloween Night!!!\",\n\"non-political\"],\n [{\n            'v': 2151,\n            'f': \"2151\",\n        },\n{\n            'v': 0,\n            'f': \"0\",\n        },\n\"ok the \\\"Com qual dos Jonas vc namoraria/casaria ?\\\" quiz & got: Kevin Jonas! What about you? \\u00e2\\u017e\\u0153 http://bit.ly/43BGwd\",\n\"non-political\"],\n [{\n            'v': 2053,\n            'f': \"2053\",\n        },\n{\n            'v': 0,\n            'f': \"0\",\n        },\n\"emDotLifer i still have love for you though Mo :-)\",\n\"non-political\"],\n [{\n            'v': 1497,\n            'f': \"1497\",\n        },\n{\n            'v': 1,\n            'f': \"1\",\n        },\n\"McNerney draws challenger: RT @lvorderbrueggen Republican enters CD11 race. http://bit.ly/EToJ5\",\n\"political\"],\n [{\n            'v': 627,\n            'f': \"627\",\n        },\n{\n            'v': 1,\n            'f': \"1\",\n        },\n\"RT @rsmccain #Copenhagen Obama's Massive FAIL http://tinyurl.com/ykx6nyv (Let It Snow!) PLZ Re-Tweet #tcot #tlot\",\n\"political\"],\n [{\n            'v': 43,\n            'f': \"43\",\n        },\n{\n            'v': 1,\n            'f': \"1\",\n        },\n\"Is the \\\"C\\\" in \\\"C Street\\\" for \\\"Christian Conservative\\\" or \\\"Cultlike?\\\" http://bit.ly/RQjpT\",\n\"political\"],\n [{\n            'v': 2427,\n            'f': \"2427\",\n        },\n{\n            'v': 0,\n            'f': \"0\",\n        },\n\"tched this is it w/ the cousins. my first time at an imax since i was......... 4? =/ then we all went biking around the village\",\n\"non-political\"],\n [{\n            'v': 2845,\n            'f': \"2845\",\n        },\n{\n            'v': 0,\n            'f': \"0\",\n        },\n\"m my sister went & left me alone watching #BOO :(\",\n\"non-political\"],\n [{\n            'v': 1067,\n            'f': \"1067\",\n        },\n{\n            'v': 1,\n            'f': \"1\",\n        },\n\"@mechanicsburg Enjoy! The economy may be in the dump but the trains still run! Say to Tom and Sandy for me.\",\n\"political\"],\n [{\n            'v': 1949,\n            'f': \"1949\",\n        },\n{\n            'v': 0,\n            'f': \"0\",\n        },\n\"tes waking up and still being sick, I sound like an old man with a severe case of asthma\",\n\"non-political\"],\n [{\n            'v': 735,\n            'f': \"735\",\n        },\n{\n            'v': 1,\n            'f': \"1\",\n        },\n\"RT @colombiancoffee: Two DeKalb Cnty Officers suspended for allegedly performing bckgrnd chk on Pres Obama http://bit.ly/qwMJI /NOT Racists!\",\n\"political\"],\n [{\n            'v': 1698,\n            'f': \"1698\",\n        },\n{\n            'v': 0,\n            'f': \"0\",\n        },\n\"w... tonight was so much fun ! and i got to spend it with my babe <3\",\n\"non-political\"],\n [{\n            'v': 1533,\n            'f': \"1533\",\n        },\n{\n            'v': 1,\n            'f': \"1\",\n        },\n\"Senate Twitter Smackdown! Specter and Grassley Get Into It On ... http://bit.ly/RPfJr\",\n\"political\"],\n [{\n            'v': 2371,\n            'f': \"2371\",\n        },\n{\n            'v': 0,\n            'f': \"0\",\n        },\n\"\\u2013\\u00e9\\u00aa\\u00a8\\u00e3\\u0081\\u00af\\u00e3\\u0081\\u02dc\\u00e3\\u201a\\u0081\\u00e3\\u0081\\u00be\\u00e3\\u0081\\u2014\\u00e3\\u0081\\u0178\\u00ef\\u00bc\\u0081\",\n\"non-political\"],\n [{\n            'v': 3144,\n            'f': \"3144\",\n        },\n{\n            'v': 0,\n            'f': \"0\",\n        },\n\" @safiDRED I'm so GANGSTA , I sleep with pillowcases full of rocks cuz I'm too G for comfort . <----- where u gettin this shit from lol\",\n\"non-political\"],\n [{\n            'v': 2891,\n            'f': \"2891\",\n        },\n{\n            'v': 0,\n            'f': \"0\",\n        },\n\"\\u009d\\u00e3\\u0081\\u2020\\u00e3\\u0081\\u009d\\u00e3\\u0081\\u2020\\u00e3\\u20ac\\u0081\\u00e3\\u0081\\u201a\\u00e3\\u0081\\u00be\\u00e3\\u201a\\u0160\\u00e8\\u00a7\\u00a6\\u00e3\\u201a\\u0152\\u00e3\\u201a\\u2030\\u00e3\\u201a\\u0152\\u00e3\\u0081\\u00a6\\u00e3\\u0081\\u00aa\\u00e3\\u0081\\u201e\\u00e3\\u0081\\u2018\\u00e3\\u0081\\u00a9\\u00e3\\u20ac\\u0081\\u00e3\\u0081\\u201c\\u00e3\\u201a\\u0152\\u00e3\\u201a\\u201a\\u00e8\\u00a6\\u2013\\u00e8\\u0081\\u00b4\\u00e6\\u017d\\u00a8\\u00e5\\u00a5\\u00a8\\u00ef\\u00bc\\u0161\\u00e3\\u20ac\\u0090\\u00e6\\u0160\\u2022\\u00e3\\u201a\\u00b3\\u00e3\\u0192\\u00a1\\u00e3\\u20ac\\u2018\\u00e3\\u0081\\u00b2\\u00e3\\u0081\\u0090\\u00e3\\u201a\\u2030\\u00e3\\u0081\\u2014\\u00e3\\u0081\\u00ae\\u00e3\\u0081\\u00aa\\u00e3\\u0081\\u008f\\u00e9\\u00a0\\u0192\\u00e3\\u0081\\u00ab\\u00e3\\u20ac\\u0090\\u00ef\\u00bc\\u00b3\\u00ef\\u00bc\\u00a1\\u00ef\\u00bc\\u2020\\u00ef\\u00bc\\u00a3\\u00ef\\u00bc\\u00a1\\u00e3\\u20ac\\u2018\\u00ef\\u00bc\\u0161http://www.nicovideo.jp/watch/nm8102909\",\n\"non-political\"],\n [{\n            'v': 1621,\n            'f': \"1621\",\n        },\n{\n            'v': 0,\n            'f': \"0\",\n        },\n\"ying to make somebody love you is about as useless as trying to control who you fall in love with\",\n\"non-political\"],\n [{\n            'v': 2054,\n            'f': \"2054\",\n        },\n{\n            'v': 0,\n            'f': \"0\",\n        },\n\"ean2014 *grabs another heavy box* Jeez Chuck is going to think his holidays have all come at once!\",\n\"non-political\"],\n [{\n            'v': 189,\n            'f': \"189\",\n        },\n{\n            'v': 0,\n            'f': \"0\",\n        },\n\"n archief van de anarchie is m.i. een contradictie RT @EricHennekam: Anarchism Web Archive http://webarchives.cdlib.org/a/Anarchism\",\n\"non-political\"],\n [{\n            'v': 344,\n            'f': \"344\",\n        },\n{\n            'v': 1,\n            'f': \"1\",\n        },\n\"Bring back HUAC RT @RichyOmony #classicmoviequotes \\\"Boy, don't start no communist sh!t\\\"\",\n\"political\"],\n [{\n            'v': 814,\n            'f': \"814\",\n        },\n{\n            'v': 1,\n            'f': \"1\",\n        },\n\"I don't want to wait until the economy is better and we're comfortable-we made that mistake before. Mayor Jackson on Sustainable Cleveland\",\n\"political\"],\n [{\n            'v': 2596,\n            'f': \"2596\",\n        },\n{\n            'v': 0,\n            'f': \"0\",\n        },\n\"m down to my last ammo..need to recharge my batt..need back up! Does anyone copy?? Need back up!!\",\n\"non-political\"],\n [{\n            'v': 1569,\n            'f': \"1569\",\n        },\n{\n            'v': 1,\n            'f': \"1\",\n        },\n\"@cspanwj Is Iraq the Republican war and Afganistan the Democrat War?\",\n\"political\"],\n [{\n            'v': 2177,\n            'f': \"2177\",\n        },\n{\n            'v': 0,\n            'f': \"0\",\n        },\n\", I said to heck with game and took kids out 2 play. Came back to 24-20. Minn immediately scored. Maybe we shld turn lights on in yrd.\",\n\"non-political\"],\n [{\n            'v': 1600,\n            'f': \"1600\",\n        },\n{\n            'v': 0,\n            'f': \"0\",\n        },\n\"eroween THE STORY OF IEROWEEN! THE VIDEO ->>>>>>>>>>>>>>>>>>>>>> http://bit.ly/2VFPAV <<<< JUST FOR FRANK !!! \\u00c3\\u00a7\",\n\"non-political\"],\n [{\n            'v': 1032,\n            'f': \"1032\",\n        },\n{\n            'v': 0,\n            'f': \"0\",\n        },\n\"\\u201c Fiktive stemmelokaler brukt til fusk i Afghanistan: Mange av stemmene til Afghanistans president Hamid Karzai .. http://snipurl.com/rnfto\",\n\"non-political\"],\n [{\n            'v': 1617,\n            'f': \"1617\",\n        },\n{\n            'v': 0,\n            'f': \"0\",\n        },\n\"iends guilted me into passing out candy tonight. But I forgot to buy some. So I guess I won't. Darn.\",\n\"non-political\"],\n [{\n            'v': 2805,\n            'f': \"2805\",\n        },\n{\n            'v': 0,\n            'f': \"0\",\n        },\n\"\\u00a1\\u00e3\\u0192\\u00ab\\u00e3\\u0192\\u017e\\u00e3\\u201a\\u00ac\\u00e3\\u0081\\u00a8\\u00e3\\u0192\\u2013\\u00e3\\u0192\\u00ad\\u00e3\\u201a\\u00b0\\u00e3\\u0081\\u00a7\\u00e7\\u00a8\\u00bc\\u00e3\\u0081\\u0090\\u00e3\\u201a\\u00a2\\u00e3\\u0192\\u2022\\u00e3\\u201a\\u00a3\\u00e3\\u0192\\u00aa\\u00e3\\u201a\\u00a8\\u00e3\\u201a\\u00a4\\u00e3\\u0192\\u02c6\\u00e3\\u0081\\u00ae\\u00e7\\u00ac\\u00ac\\u00e4\\u00b8\\u20ac\\u00e6\\u00ad\\u00a9 : \\u00e8\\u00b6\\u2026\\u00e5\\u02c6\\u009d\\u00e5\\u00bf\\u0192\\u00e8\\u20ac\\u2026\\u00e3\\u0081\\u2022\\u00e3\\u201a\\u201c\\u00e7\\u201d\\u00a8\\u00e3\\u201a\\u00a2\\u00e3\\u0192\\u2022\\u00e3\\u201a\\u00a3\\u00e3\\u0192\\u00aa\\u00e8\\u00ac\\u203a\\u00e5\\u00ba\\u00a7\\u00e3\\u20ac\\u20ac\\u00e7\\u203a\\u00ae\\u00e6\\u00ac\\u00a1 http://bit.ly/2ELQGA\",\n\"non-political\"],\n [{\n            'v': 649,\n            'f': \"649\",\n        },\n{\n            'v': 1,\n            'f': \"1\",\n        },\n\"Obama's Colorado Heath Care Town Hall is a joke...total joke and an insult to Colorado and the United States.\",\n\"political\"],\n [{\n            'v': 2550,\n            'f': \"2550\",\n        },\n{\n            'v': 0,\n            'f': \"0\",\n        },\n\"ollieLovesYou but you know Hollywood is going to run with it. That Movie looks SCArY!!\",\n\"non-political\"],\n [{\n            'v': 1066,\n            'f': \"1066\",\n        },\n{\n            'v': 1,\n            'f': \"1\",\n        },\n\"A measure of U.S. participants\\u00e2\\u20ac\\u2122 confidence in the world\\u00e2\\u20ac\\u2122s largest economy rose to 47.3 from 29.5, the survey showed.\",\n\"political\"],\n [{\n            'v': 647,\n            'f': \"647\",\n        },\n{\n            'v': 1,\n            'f': \"1\",\n        },\n\"RT @foxnewspolitics: The Radicalization of Obama's 'Green Czar': Van Jones was arrested in San Francisco in 1992 for... http://bit.ly/NMghu\",\n\"political\"],\n [{\n            'v': 289,\n            'f': \"289\",\n        },\n{\n            'v': 1,\n            'f': \"1\",\n        },\n\"@TPO_Hisself No, I want to REFUSE Socialism!!\",\n\"political\"],\n [{\n            'v': 1980,\n            'f': \"1980\",\n        },\n{\n            'v': 0,\n            'f': \"0\",\n        },\n\" @PaintQualityIns Sign up for our upcoming webinar on paint tips and color trends. Registration is at www.paintquality.com\",\n\"non-political\"],\n [{\n            'v': 1710,\n            'f': \"1710\",\n        },\n{\n            'v': 0,\n            'f': \"0\",\n        },\n\"ullenluv hey lady u still on? How's ur nite going so far?\",\n\"non-political\"],\n [{\n            'v': 2898,\n            'f': \"2898\",\n        },\n{\n            'v': 0,\n            'f': \"0\",\n        },\n\"hn n Kate plus eight She says as parent she could fill 10 book contract! Sounds like a plug to me. Kate you have to raise kids to know how\",\n\"non-political\"],\n [{\n            'v': 2146,\n            'f': \"2146\",\n        },\n{\n            'v': 0,\n            'f': \"0\",\n        },\n\"ndysBoBandy For why did you hate music for 4 hours? That hurts my heart!\",\n\"non-political\"],\n [{\n            'v': 2708,\n            'f': \"2708\",\n        },\n{\n            'v': 0,\n            'f': \"0\",\n        },\n\" @lauriebabiiee @purple_kizzes lol FINALLY i literally feel like i havent seen you in a month! ...(aww lol. i feel the same waay.:)...)\",\n\"non-political\"],\n [{\n            'v': 1678,\n            'f': \"1678\",\n        },\n{\n            'v': 0,\n            'f': \"0\",\n        },\n\": Where do you live right now?: wow you live in the Mid East? how is it over there? i know, me 2 http://tinyurl.com/ybmv8tu\",\n\"non-political\"],\n [{\n            'v': 188,\n            'f': \"188\",\n        },\n{\n            'v': 1,\n            'f': \"1\",\n        },\n\"@lizarddawg It's not advocating Socialism if your idea of single-payer is the patient paying 100% at time of service #PATMOS #HandsOff\",\n\"political\"],\n [{\n            'v': 2024,\n            'f': \"2024\",\n        },\n{\n            'v': 0,\n            'f': \"0\",\n        },\n\"learlyItsTati no worries I got it!!\",\n\"non-political\"],\n [{\n            'v': 1598,\n            'f': \"1598\",\n        },\n{\n            'v': 0,\n            'f': \"0\",\n        },\n\"ve our H.S. & colleges failed us? Part of the 1st 2 yr req.curr. should include Am.Gov./Capitalism 101 #GOP #DEM #liberal #p2 #teaparty\",\n\"non-political\"],\n [{\n            'v': 537,\n            'f': \"537\",\n        },\n{\n            'v': 1,\n            'f': \"1\",\n        },\n\"I hate people like Cam, who assume that Obama is god, and the rest of us are idiots for believing in the REAL God.\",\n\"political\"],\n [{\n            'v': 1886,\n            'f': \"1886\",\n        },\n{\n            'v': 0,\n            'f': \"0\",\n        },\n\"\\u2020\\u00e3\\u201a\\u008f\\u00e3\\u20ac\\u0153\\u00e3\\u20ac\\u0153\\u00e3\\u20ac\\u0153\\u00e2\\u20ac\\u00a6\\u00e3\\u0081\\u00aa\\u00e3\\u201a\\u201c\\u00e3\\u0081\\u2039\\u00e3\\u0081\\u2122\\u00e3\\u0081\\u00a3\\u00e3\\u0081\\u2019\\u00e3\\u0192\\u00bc\\u00e3\\u0192\\u00a4\\u00e3\\u0081\\u00aa\\u00e3\\u201a\\u00ab\\u00e3\\u0192\\u00b3\\u00e3\\u201a\\u00b8\\u00e3\\u0081\\u00a3\\u00e3\\u0081\\u2122\\u00e3\\u201a\\u02c6\\u00ef\\u00bc\\u0178\",\n\"non-political\"],\n [{\n            'v': 835,\n            'f': \"835\",\n        },\n{\n            'v': 1,\n            'f': \"1\",\n        },\n\"RT @hashmarket: RT @marialavis Vive la resistance! :) @RyanIsHungry \\\"All over the country, the underground fruit economy is growing.\\\" ht ...\",\n\"political\"],\n [{\n            'v': 1754,\n            'f': \"1754\",\n        },\n{\n            'v': 0,\n            'f': \"0\",\n        },\n\"e aburrimiento:(\",\n\"non-political\"],\n [{\n            'v': 244,\n            'f': \"244\",\n        },\n{\n            'v': 0,\n            'f': \"0\",\n        },\n\" the fringes or in our own center? | Geek Feminism Blog http://bit.ly/jguKp #osbridge\",\n\"non-political\"],\n [{\n            'v': 1170,\n            'f': \"1170\",\n        },\n{\n            'v': 1,\n            'f': \"1\",\n        },\n\"Interesting: NRA threats on Sotomayor met with shrugs (AP) http://bit.ly/hhfUr @powerpro\",\n\"political\"],\n [{\n            'v': 1595,\n            'f': \"1595\",\n        },\n{\n            'v': 1,\n            'f': \"1\",\n        },\n\"@arditord bro do you know? I got an urgent info from our fellow in China (Dean), he said that Chinesse Government has blocked Facebook\",\n\"political\"],\n [{\n            'v': 2048,\n            'f': \"2048\",\n        },\n{\n            'v': 0,\n            'f': \"0\",\n        },\n\"dio church reminded me this morning to \\\"LOVE THY NEIGHBOR AS THYSELF\\\". Great way to start my Sunday by loving you beautiful people! =-D.\",\n\"non-political\"],\n [{\n            'v': 2696,\n            'f': \"2696\",\n        },\n{\n            'v': 0,\n            'f': \"0\",\n        },\n\" @wfitzsimmons: Sleeping pills & beer=bad idea. Passed out in plane isle, came to as attendant yelled for a doctor. Ha!\",\n\"non-political\"],\n [{\n            'v': 1970,\n            'f': \"1970\",\n        },\n{\n            'v': 0,\n            'f': \"0\",\n        },\n\" @kabyeyou: Wack right RT @Liberiangyal: So i saw Paranormal Activity and..yea...<--it ddnt live up to the hype\",\n\"non-political\"],\n [{\n            'v': 2830,\n            'f': \"2830\",\n        },\n{\n            'v': 0,\n            'f': \"0\",\n        },\n\"feel its the only way to be, Most people wake up trying to be ruff,rugged & raw... Its like u wanna be a super thug over pancakes? Lmao\",\n\"non-political\"],\n [{\n            'v': 2434,\n            'f': \"2434\",\n        },\n{\n            'v': 0,\n            'f': \"0\",\n        },\n\"\\u0090\\u00e6\\u00a7\\u2039\\u00e6\\u00ad\\u00b3\\u00e3\\u0081\\u201e\\u00e3\\u0081\\u00a3\\u00e3\\u0081\\u0178\\u00e6\\u201e\\u0178\\u00e3\\u0081\\u02dc\\u00e3\\u0081\\u2039\\u00e3\\u0081\\u00aa\\u00e3\\u20ac\\u201a RT @nayouhei: \\u00e7\\u008f\\u00be\\u00e9\\u2021\\u2018\\u00e5\\u00bc\\u2022\\u00e3\\u0081\\u008d\\u00e5\\u2021\\u00ba\\u00e3\\u0081\\u2014\\u00e3\\u0081\\u0178\\u00e7\\u201d\\u00b7\\u00e3\\u0081\\u00ae\\u00e7\\u201d\\u00bb\\u00e5\\u0192\\u008f\\u00e5\\u2026\\u00ac\\u00e9\\u2013\\u2039\\u00e3\\u20ac\\u20ac\\u00e3\\u20ac\\u20ac\\u00e3\\u20ac\\u20achttp://bit.ly/2dnUyc\",\n\"non-political\"],\n [{\n            'v': 2320,\n            'f': \"2320\",\n        },\n{\n            'v': 0,\n            'f': \"0\",\n        },\n\"afaBBmiss3s well...i'm in Australia and it's around 3:30 in the afternoon lol\",\n\"non-political\"],\n [{\n            'v': 658,\n            'f': \"658\",\n        },\n{\n            'v': 1,\n            'f': \"1\",\n        },\n\"RT @drelady: RT @BravoAndy best chant so far: \\\"yo, obama, let mama marry mama!\\\" ...WISH I COULD BE THERE!.. #NEM\",\n\"political\"],\n [{\n            'v': 1909,\n            'f': \"1909\",\n        },\n{\n            'v': 0,\n            'f': \"0\",\n        },\n\"lakka Povathu Yaaru Junior - 01-11-2009 - Kalakka Povathu Yaaru Junior - Vijay Tv Shows - Part 1: Video: Kala.. http://bit.ly/bwYXY\",\n\"non-political\"],\n [{\n            'v': 2783,\n            'f': \"2783\",\n        },\n{\n            'v': 0,\n            'f': \"0\",\n        },\n\"ll crap, that drive went no where. What happened with you all Falcons. Now we got to punt now.\",\n\"non-political\"],\n [{\n            'v': 80,\n            'f': \"80\",\n        },\n{\n            'v': 1,\n            'f': \"1\",\n        },\n\"Conservative Party Leader Repeats Labour\\u00e2\\u20ac\\u2122s Afghanistan Lie : The British National Party http://bit.ly/1BQtY\",\n\"political\"],\n [{\n            'v': 45,\n            'f': \"45\",\n        },\n{\n            'v': 0,\n            'f': \"0\",\n        },\n\"nator Ted Kennedy , the indefatigable liberal icon has died http://is.gd/2z4wh\",\n\"non-political\"],\n [{\n            'v': 2524,\n            'f': \"2524\",\n        },\n{\n            'v': 0,\n            'f': \"0\",\n        },\n\"RINArockstarr My Dream is To Stay on My Grind and get that paper like you; And also too cop that new album when it come out....= )\",\n\"non-political\"],\n [{\n            'v': 1855,\n            'f': \"1855\",\n        },\n{\n            'v': 0,\n            'f': \"0\",\n        },\n\" @TheDailyBlonde: NYC Marathon 2009 Uses Social Media to Track Results - http://tinyurl.com/yk5s9cp\",\n\"non-political\"],\n [{\n            'v': 2368,\n            'f': \"2368\",\n        },\n{\n            'v': 0,\n            'f': \"0\",\n        },\n\" Little Roo Baby Carrier Slipcover Giveaway http://bit.ly/C5lHi\",\n\"non-political\"],\n [{\n            'v': 987,\n            'f': \"987\",\n        },\n{\n            'v': 1,\n            'f': \"1\",\n        },\n\"CNN Poll: Obama receives a C on the economy - http://tinyurl.com/nlakbo\",\n\"political\"],\n [{\n            'v': 85,\n            'f': \"85\",\n        },\n{\n            'v': 1,\n            'f': \"1\",\n        },\n\"That's Czary! RT @tuansenangbesar Komunis and communism is 2 different things. If you haven't read economic history.\",\n\"political\"],\n [{\n            'v': 3195,\n            'f': \"3195\",\n        },\n{\n            'v': 0,\n            'f': \"0\",\n        },\n\"m bout to pass out. I'm mad sleepy.\",\n\"non-political\"],\n [{\n            'v': 2909,\n            'f': \"2909\",\n        },\n{\n            'v': 0,\n            'f': \"0\",\n        },\n\"ll, I shall be off now, as it's 5.40pm--time to get my dinner! Until we tweet again, stay safe, keep well and be good! ;)\",\n\"non-political\"],\n [{\n            'v': 2328,\n            'f': \"2328\",\n        },\n{\n            'v': 0,\n            'f': \"0\",\n        },\n\"rincook81 haha...well I\\\"m ok with asking @jakeofficial for lunch...it's the rest I might loose my courage for if he doesn't respond!!\",\n\"non-political\"],\n [{\n            'v': 2746,\n            'f': \"2746\",\n        },\n{\n            'v': 0,\n            'f': \"0\",\n        },\n\"obActionDay09: Take Action: 10 Steps for Landing an Entry-Level Job http://ow.ly/y6Vm #CareerCollective Please RT!\",\n\"non-political\"],\n [{\n            'v': 1275,\n            'f': \"1275\",\n        },\n{\n            'v': 0,\n            'f': \"0\",\n        },\n\"ee Government Grants - Part 1 http://bit.ly/DOJT4\",\n\"non-political\"],\n [{\n            'v': 1529,\n            'f': \"1529\",\n        },\n{\n            'v': 1,\n            'f': \"1\",\n        },\n\"Kennedy's absence leaves Senate void of dealmaker (AP): AP - In an era of bitter political division, Sen. Edward.. http://tinyurl.com/l6pdhp\",\n\"political\"],\n [{\n            'v': 1681,\n            'f': \"1681\",\n        },\n{\n            'v': 0,\n            'f': \"0\",\n        },\n\" nunca andei de dinossauro [2]\",\n\"non-political\"],\n [{\n            'v': 1757,\n            'f': \"1757\",\n        },\n{\n            'v': 0,\n            'f': \"0\",\n        },\n\"iwinana I don't know, but you might try putting http://bit.ly/44JzH and see what comes up. :) Or,look in a search engine for it.\",\n\"non-political\"],\n [{\n            'v': 952,\n            'f': \"952\",\n        },\n{\n            'v': 1,\n            'f': \"1\",\n        },\n\"Video about Soldiers sponsoring a day of fun for children at a Tikrit, Iraq orphanage: http://dvidshub.net/r/d5gkli\",\n\"political\"],\n [{\n            'v': 1428,\n            'f': \"1428\",\n        },\n{\n            'v': 1,\n            'f': \"1\",\n        },\n\"RT @AlterNet Hawks in Congress Willing to Shell Out Trillions for War, but Won't Help Americans Get Decent Health-Care http://bit.ly/18oe85\",\n\"political\"],\n [{\n            'v': 1918,\n            'f': \"1918\",\n        },\n{\n            'v': 0,\n            'f': \"0\",\n        },\n\"enjaminmadden @JoelMadden you guys don't share a hotel room?\",\n\"non-political\"],\n [{\n            'v': 1298,\n            'f': \"1298\",\n        },\n{\n            'v': 1,\n            'f': \"1\",\n        },\n\"There'll be nowhere to run from the new world government http://bit.ly/8YAzrl\",\n\"political\"],\n [{\n            'v': 553,\n            'f': \"553\",\n        },\n{\n            'v': 1,\n            'f': \"1\",\n        },\n\"I just took the \\\"Qual o seu n\\u00c3\\u00advel de ingl\\u00c3\\u00aas?\\\" quiz and got: Dou aulas pro Obama!! Try it \\u00e2\\u017e\\u00a4 http://bit.ly/lhj1T\",\n\"political\"],\n [{\n            'v': 1077,\n            'f': \"1077\",\n        },\n{\n            'v': 1,\n            'f': \"1\",\n        },\n\"I'm soooo expecting 1800$ ounce spot #gold in the next 6 months. The #economy and american #finance has never been so easy to predict!! =)\",\n\"political\"],\n [{\n            'v': 823,\n            'f': \"823\",\n        },\n{\n            'v': 1,\n            'f': \"1\",\n        },\n\"RT @NatGeoChannel: Days after 9/11, CIA agents go to Afghanistan w/ a mission to hunt down al Qaeda & Osama bin Laden. http://ow.ly/smyp\",\n\"political\"],\n [{\n            'v': 1084,\n            'f': \"1084\",\n        },\n{\n            'v': 1,\n            'f': \"1\",\n        },\n\"http://plazacentre.net : The Caning of Kartika: The Legalities and Malaysia's International Standing with Afghanistan, Iran and Sudan\",\n\"political\"],\n [{\n            'v': 1315,\n            'f': \"1315\",\n        },\n{\n            'v': 1,\n            'f': \"1\",\n        },\n\"Subcommittee Examines Federal Government\\u00e2\\u20ac\\u2122s Role in the R&D of Converting Biomass for Heat and Electricity: http://twurl.nl/5r7jpx\",\n\"political\"],\n [{\n            'v': 852,\n            'f': \"852\",\n        },\n{\n            'v': 1,\n            'f': \"1\",\n        },\n\"RT @1D4TW: UN's Kai Eide has been lecturing Karzai, as if Eide were the Colonial Governor of #Afghanistan (http://bit.ly/3T3rQP)\",\n\"political\"],\n [{\n            'v': 1592,\n            'f': \"1592\",\n        },\n{\n            'v': 1,\n            'f': \"1\",\n        },\n\"@foxandfriends $1.1 million for 2 lbs frozen ham sliced. Can our government be anymore out their minds? http://tr.im/t447\",\n\"political\"],\n [{\n            'v': 759,\n            'f': \"759\",\n        },\n{\n            'v': 1,\n            'f': \"1\",\n        },\n\"RT @TGIF_HonAdv: So, Hawaii has Jake Shimabukuro and Bette Midler playing for The Queen tonight, and Makana for Obama tomorrow. How cool ...\",\n\"political\"],\n [{\n            'v': 1313,\n            'f': \"1313\",\n        },\n{\n            'v': 1,\n            'f': \"1\",\n        },\n\"Senator Byrd: The Longest-Serving Member of Congress - http://foxrad.io/5a\",\n\"political\"],\n [{\n            'v': 605,\n            'f': \"605\",\n        },\n{\n            'v': 1,\n            'f': \"1\",\n        },\n\"Biden is there with Obama, Gates and Crowley. I guess they wanted to balance the colors out? #p2\",\n\"political\"],\n [{\n            'v': 3085,\n            'f': \"3085\",\n        },\n{\n            'v': 0,\n            'f': \"0\",\n        },\n\"al Madrid star Ronaldo to join forces with Joe Jackson - Tribalfootball.com http://bit.ly/1j0Ack #mj\",\n\"non-political\"],\n [{\n            'v': 2362,\n            'f': \"2362\",\n        },\n{\n            'v': 0,\n            'f': \"0\",\n        },\n\"\\u009d\\u00e9\\u0178\\u00b3\\u00e3\\u0192\\u0178\\u00e3\\u201a\\u00af Studie GLAD BMW Z4\\u00e3\\u0081\\u00ae\\u00ef\\u00bc\\u2018\\u00ef\\u00bc\\u0090\\u00ef\\u00bc\\u008f\\u00ef\\u00bc\\u2018\\u00ef\\u00bc\\u00b2\\u00ef\\u00bc\\u00a3\\u00e3\\u201a\\u00ab\\u00e3\\u0192\\u00bc\\u00ef\\u00bc\\u0081\\u00e3\\u0081\\u009d\\u00e3\\u0081\\u2020\\u00e3\\u0081\\u201e\\u00e3\\u0081\\u2020\\u00e3\\u0081\\u00ae\\u00e3\\u201a\\u201a\\u00e3\\u0081\\u201a\\u00e3\\u201a\\u2039\\u00e3\\u0081\\u00ae\\u00e3\\u0081\\u2039 http://bit.ly/3RZrrO\",\n\"non-political\"],\n [{\n            'v': 326,\n            'f': \"326\",\n        },\n{\n            'v': 1,\n            'f': \"1\",\n        },\n\"@Sammie_Rhodes Sammieee! Where are you to help me fight the liberals lol :(\",\n\"political\"],\n [{\n            'v': 2868,\n            'f': \"2868\",\n        },\n{\n            'v': 0,\n            'f': \"0\",\n        },\n\"ougoftheabaci lol... I'll catch up with you tomorrow. #alwaysCarryingTheBadge\",\n\"non-political\"],\n [{\n            'v': 1827,\n            'f': \"1827\",\n        },\n{\n            'v': 0,\n            'f': \"0\",\n        },\n\"g laying down calling it a niteee;MARSHALL MARSHALL =))) Ahhhh leave me direct messeges.and follow me pweseee! NiTE tweeters;\",\n\"non-political\"],\n [{\n            'v': 1166,\n            'f': \"1166\",\n        },\n{\n            'v': 0,\n            'f': \"0\",\n        },\n\"ghanistan: deux civils tu\\u00c3\\u00a9s par l'attentat de Kaboul (officiel) http://bit.ly/LqvL3\",\n\"non-political\"],\n [{\n            'v': 2731,\n            'f': \"2731\",\n        },\n{\n            'v': 0,\n            'f': \"0\",\n        },\n\"ybody ever read R.A.Schwaller de Lubicz?Just started the Sacred Science joint.Working 2 Temple Of Man already got it just aint read it yet\",\n\"non-political\"],\n [{\n            'v': 1892,\n            'f': \"1892\",\n        },\n{\n            'v': 0,\n            'f': \"0\",\n        },\n\"C: Hodgson refuses to write off Reds: Fulham manager Roy Hodgson warns the Premier League's top teams not.. http://bit.ly/NNKTb\",\n\"non-political\"],\n [{\n            'v': 2394,\n            'f': \"2394\",\n        },\n{\n            'v': 0,\n            'f': \"0\",\n        },\n\"igh high boots\\u00e3\\u0081\\u00a3\\u00e3\\u0081\\u00a6\\u00e7\\u009d\\u20ac\\u00e8\\u201e\\u00b1\\u00e3\\u0081\\u0152\\u00e5\\u00a4\\u00a7\\u00e5\\u00a4\\u2030\\u00e3\\u0081\\u009d\\u00e3\\u0081\\u2020\\u00e3\\u0081\\u00a0\\u00e3\\u0081\\u00aa\\u00e3\\u20ac\\u0153\",\n\"non-political\"],\n [{\n            'v': 2586,\n            'f': \"2586\",\n        },\n{\n            'v': 0,\n            'f': \"0\",\n        },\n\"llyan Schwab, daughter of Christine Schwab, will light up the \\u00e2\\u20ac\\u0153Hot Now\\u00e2\\u20ac\\u009d sign at our new location at 1122 Veterans Parkway tomorrow morning\",\n\"non-political\"],\n [{\n            'v': 2606,\n            'f': \"2606\",\n        },\n{\n            'v': 0,\n            'f': \"0\",\n        },\n\" @CamFrikknTastic: I'm n the mood 4 Burger King <-- me 2\",\n\"non-political\"],\n [{\n            'v': 1869,\n            'f': \"1869\",\n        },\n{\n            'v': 0,\n            'f': \"0\",\n        },\n\"Damn Love with My Twitter Background :@\",\n\"non-political\"],\n [{\n            'v': 1706,\n            'f': \"1706\",\n        },\n{\n            'v': 0,\n            'f': \"0\",\n        },\n\"wilightNinjas have you ever read my blog it's hilarious or I hope it is! http://ramblingsof20something.blogspot.com or @kellebelle1981's\",\n\"non-political\"],\n [{\n            'v': 976,\n            'f': \"976\",\n        },\n{\n            'v': 0,\n            'f': \"0\",\n        },\n\"t next to Sam Rockwell's girlfriend on the way back from LA. Question is, why was she flying economy?\",\n\"non-political\"],\n [{\n            'v': 1399,\n            'f': \"1399\",\n        },\n{\n            'v': 1,\n            'f': \"1\",\n        },\n\"ACORN Chief Dodges Congressman's Call to Come Before Congress. http://bit.ly/o7Md0\",\n\"political\"],\n [{\n            'v': 25,\n            'f': \"25\",\n        },\n{\n            'v': 1,\n            'f': \"1\",\n        },\n\"RT @SmartGirlNation New article:Is there room in the Republican tent for conservatives? http://tinyurl.com/ygux6cj @mkhammer @karlrove #tcot\",\n\"political\"],\n [{\n            'v': 2150,\n            'f': \"2150\",\n        },\n{\n            'v': 0,\n            'f': \"0\",\n        },\n\" @LtGenPanda: Best Homework Ever?? [PIC] http://st.bit.ly/2kbEnu *lol*\",\n\"non-political\"],\n [{\n            'v': 2788,\n            'f': \"2788\",\n        },\n{\n            'v': 0,\n            'f': \"0\",\n        },\n\"o, I don't want anything else. That's why I didn't order it\\\" - me in relation to Popeye's offering you more for more $\",\n\"non-political\"],\n [{\n            'v': 1049,\n            'f': \"1049\",\n        },\n{\n            'v': 0,\n            'f': \"0\",\n        },\n\" @SecretsHQ: I just found $20 on the street so I bought 1 copy of The Big Issue for the price of 4. Random stimulus package.\",\n\"non-political\"],\n [{\n            'v': 559,\n            'f': \"559\",\n        },\n{\n            'v': 1,\n            'f': \"1\",\n        },\n\"@lauraflyme We need to destroy every company that took any Obama money. Sink the entire banking sector!\",\n\"political\"],\n [{\n            'v': 2355,\n            'f': \"2355\",\n        },\n{\n            'v': 0,\n            'f': \"0\",\n        },\n\"oeHoes WYR: Joe tie you to the bed and have kinky sex with you or handcuff you to the bed in the doggiestyle position and do you?\",\n\"non-political\"],\n [{\n            'v': 1813,\n            'f': \"1813\",\n        },\n{\n            'v': 0,\n            'f': \"0\",\n        },\n\" @cuball66: \\u00e0\\u00b8\\u201d\\u00e0\\u00b8\\u00b9\\u00e0\\u00b9\\u201a\\u00e0\\u00b8\\u2030\\u00e0\\u00b8\\u00a1\\u00e0\\u00b8\\u00ab\\u00e0\\u00b8\\u2122\\u00e0\\u00b9\\u2030\\u00e0\\u00b8\\u00b2 \\u00e0\\u00b8\\u0153\\u00e0\\u00b8\\u00b9\\u00e0\\u00b9\\u2030\\u00e0\\u00b8\\u2122\\u00e0\\u00b8\\u00b3\\u00e0\\u00b9\\u20ac\\u00e0\\u00b8\\u0160\\u00e0\\u00b8\\u00b5\\u00e0\\u00b8\\u00a2\\u00e0\\u00b8\\u00a3\\u00e0\\u00b9\\u0152 \\u00e0\\u00b8\\u02c6\\u00e0\\u00b8\\u00b8\\u00e0\\u00b8\\u00ac\\u00e0\\u00b8\\u00b2\\u00e0\\u00b8\\u00af \\u00e0\\u00b8\\u203a\\u00e0\\u00b8\\u00a3\\u00e0\\u00b8\\u00b0\\u00e0\\u00b8\\u02c6\\u00e0\\u00b8\\u00b3 \\u00e0\\u00b8\\u2021\\u00e0\\u00b8\\u00b2\\u00e0\\u00b8\\u2122\\u00e0\\u00b8\\u0161\\u00e0\\u00b8\\u00ad\\u00e0\\u00b8\\u00a566 \\u00e0\\u00b8\\u00aa\\u00e0\\u00b8\\u201d \\u00e0\\u00b9\\u2020 \\u00e0\\u00b8\\u00a3\\u00e0\\u00b9\\u2030\\u00e0\\u00b8\\u00ad\\u00e0\\u00b8\\u2122 \\u00e0\\u00b9\\u2020 \\u00e0\\u00b8\\u2014\\u00e0\\u00b8\\u00b5\\u00e0\\u00b9\\u02c6\\u00e0\\u00b8\\u2122\\u00e0\\u00b8\\u00b5\\u00e0\\u00b9\\u02c6... http://bit.ly/3coiKb\",\n\"non-political\"],\n [{\n            'v': 618,\n            'f': \"618\",\n        },\n{\n            'v': 0,\n            'f': \"0\",\n        },\n\"d you see this yet? Obama throw rug @celebrityauto @connectiosprep ( http://bit.ly/3nCqZ5 )\",\n\"non-political\"],\n [{\n            'v': 360,\n            'f': \"360\",\n        },\n{\n            'v': 1,\n            'f': \"1\",\n        },\n\"readin' about socialism and financial an\\u00c3\\u00a1lisis, think i'm going for a coffee and a cigarrete...\",\n\"political\"],\n [{\n            'v': 743,\n            'f': \"743\",\n        },\n{\n            'v': 1,\n            'f': \"1\",\n        },\n\"Obama the Mortal http://bit.ly/1fvErZ His wax-wings have melted! #obama #nobama #liberty #handsoff #astroturf #townhalls #RS #glennbeck\",\n\"political\"],\n [{\n            'v': 1975,\n            'f': \"1975\",\n        },\n{\n            'v': 0,\n            'f': \"0\",\n        },\n\"BdevinMcquiler and i had an extra ticket if u were here u couldve came fam! lol, i was lookin 4 anota Lenny fan!!\",\n\"non-political\"],\n [{\n            'v': 2536,\n            'f': \"2536\",\n        },\n{\n            'v': 0,\n            'f': \"0\",\n        },\n\"ll apart the double helix like a wishbone.\",\n\"non-political\"],\n [{\n            'v': 838,\n            'f': \"838\",\n        },\n{\n            'v': 1,\n            'f': \"1\",\n        },\n\"Denver Post. Stimulus as only created 1,000 jobs in Colorado costing billions http://www.denverpost.com/ci_12975374\",\n\"political\"],\n [{\n            'v': 465,\n            'f': \"465\",\n        },\n{\n            'v': 1,\n            'f': \"1\",\n        },\n\"Obama has failed in selling his health care plan to the American public. http://bit.ly/ymh6x\",\n\"political\"],\n [{\n            'v': 2391,\n            'f': \"2391\",\n        },\n{\n            'v': 0,\n            'f': \"0\",\n        },\n\"goku level 1 ludeeesss....... Hahahahahah http://pic.gd/57fb0f\",\n\"non-political\"],\n [{\n            'v': 1574,\n            'f': \"1574\",\n        },\n{\n            'v': 1,\n            'f': \"1\",\n        },\n\"Government employees being wooed like never before http://bit.ly/yVyEx http://bit.ly/nruQF http://bit.ly/vLHEO h.. http://bit.ly/MEXS2\",\n\"political\"],\n [{\n            'v': 815,\n            'f': \"815\",\n        },\n{\n            'v': 1,\n            'f': \"1\",\n        },\n\"RT @dtapscott: The power of Twitter. I tweet about what's wrong with UK Digital Economy bill. MP @Tom_Watson tweets back that the UK g ...\",\n\"political\"],\n [{\n            'v': 1834,\n            'f': \"1834\",\n        },\n{\n            'v': 0,\n            'f': \"0\",\n        },\n\"st Halloween of my Life! '09\",\n\"non-political\"],\n [{\n            'v': 1407,\n            'f': \"1407\",\n        },\n{\n            'v': 0,\n            'f': \"0\",\n        },\n\"c: [PRESS RELEASE] Olympic Congress Puts Priority on Youth and Athletes: The XIII Olympic Congress today approved a se http://url4.eu/anFB\",\n\"non-political\"],\n [{\n            'v': 2539,\n            'f': \"2539\",\n        },\n{\n            'v': 0,\n            'f': \"0\",\n        },\n\"by made his girl's pum 2 wide lol RT @pamgreenonline for real though, if you have a girlfriend and a baby...why are you talking to me? smh\",\n\"non-political\"],\n [{\n            'v': 428,\n            'f': \"428\",\n        },\n{\n            'v': 1,\n            'f': \"1\",\n        },\n\"If this is true then why would Obama care about yours. http://bit.ly/ZOaq3\",\n\"political\"],\n [{\n            'v': 1450,\n            'f': \"1450\",\n        },\n{\n            'v': 1,\n            'f': \"1\",\n        },\n\"Yemeni forces bomb Shiite rebel stronghold near Saudi border, killing dozens: Government forces bombed Shiite re.. http://bit.ly/IYo8p\",\n\"political\"],\n [{\n            'v': 1071,\n            'f': \"1071\",\n        },\n{\n            'v': 0,\n            'f': \"0\",\n        },\n\"nges Web och Fotoblogg - Varf\\u00c3\\u00b6r Afghanistan?: F\\u00c3\\u00b6r n\\u00c3\\u00a5gra dagar sedan l\\u00c3\\u00a4ste jag en artikel om kriget i Afghani.. http://bit.ly/1aGGzu\",\n\"non-political\"],\n [{\n            'v': 439,\n            'f': \"439\",\n        },\n{\n            'v': 1,\n            'f': \"1\",\n        },\n\"Groups grow impatient with Obama on fate of detainees (McClatchy Newspapers) http://bit.ly/15ri0h\",\n\"political\"],\n [{\n            'v': 2889,\n            'f': \"2889\",\n        },\n{\n            'v': 0,\n            'f': \"0\",\n        },\n\" @__noodle had an old country moment adding more cabbage to the soup to stretch it a \\\"little farther.\\\"\",\n\"non-political\"],\n [{\n            'v': 222,\n            'f': \"222\",\n        },\n{\n            'v': 1,\n            'f': \"1\",\n        },\n\"Off to see the communists, then the nomads, the reformed...ish comunists and some of Europe too.\",\n\"political\"],\n [{\n            'v': 967,\n            'f': \"967\",\n        },\n{\n            'v': 1,\n            'f': \"1\",\n        },\n\"National deficit revised downward by @$262B to $1.58T; toomuch $$ set aside for bailout RT @marcambinder\",\n\"political\"],\n [{\n            'v': 1846,\n            'f': \"1846\",\n        },\n{\n            'v': 0,\n            'f': \"0\",\n        },\n\"enia279 can do same day\",\n\"non-political\"],\n [{\n            'v': 1068,\n            'f': \"1068\",\n        },\n{\n            'v': 1,\n            'f': \"1\",\n        },\n\"RT @worldprayr: U.S. soldier captured in Afghanistan, the military said. Missing since June 30. Pray for his safety and peace for his f ...\",\n\"political\"],\n [{\n            'v': 1207,\n            'f': \"1207\",\n        },\n{\n            'v': 1,\n            'f': \"1\",\n        },\n\"You are envious of me & mine. I have suffered greatly & will not much longer.I hate our government & the Bushes.They are traitors to royalty\",\n\"political\"],\n [{\n            'v': 1840,\n            'f': \"1840\",\n        },\n{\n            'v': 0,\n            'f': \"0\",\n        },\n\"\\u0090\\u00e6\\u0153\\u00aa\\u00e6\\u2030\\u00bf\\u00e8\\u00ab\\u00be\\u00e5\\u00ba\\u0192\\u00e5\\u2018\\u0160\\u00e3\\u20ac\\u2018 \\u00e6\\u0153\\u00ac\\u00e6\\u2014\\u00a5\\u00e3\\u201a\\u201a\\u00e6\\u2014\\u00a5\\u00e6\\u0153\\u00ac\\u00e3\\u201a\\u00b7\\u00e3\\u0192\\u00aa\\u00e3\\u0192\\u00bc\\u00e3\\u201a\\u00ba\\u00e3\\u0081\\u00a7\\u00e7\\u203a\\u203a\\u00e3\\u201a\\u0160\\u00e4\\u00b8\\u0160\\u00e3\\u0081\\u0152\\u00e3\\u0081\\u00a3\\u00e3\\u0081\\u00a6\\u00e3\\u0081\\u00be\\u00e3\\u0081\\u2122\\u00e3\\u20ac\\u201aTweetPlanet http://bit.ly/2JYvg1 Fighters\\u00e6\\u201d\\u00bb\\u00e6\\u2019\\u0192\\u00e4\\u00b8\\u00ad\\u00ef\\u00bc\\u0081\",\n\"non-political\"],\n [{\n            'v': 1317,\n            'f': \"1317\",\n        },\n{\n            'v': 1,\n            'f': \"1\",\n        },\n\"Hot Air \\u00c2\\u00bb Blog Archive \\u00c2\\u00bb Fox News poll: America hates Congress ...: They don&#39;t have to quit their law pract.. http://bit.ly/2dJYAM\",\n\"political\"],\n [{\n            'v': 1293,\n            'f': \"1293\",\n        },\n{\n            'v': 1,\n            'f': \"1\",\n        },\n\"Obama to address joint session of Congress tonight http://tinyurl.com/n6b6l4\",\n\"political\"],\n [{\n            'v': 1245,\n            'f': \"1245\",\n        },\n{\n            'v': 1,\n            'f': \"1\",\n        },\n\"Cook County emphasizes ban on video poker: Andy Shaw of the Better Government Association called video poker &q.. http://bit.ly/3qN66n\",\n\"political\"],\n [{\n            'v': 303,\n            'f': \"303\",\n        },\n{\n            'v': 1,\n            'f': \"1\",\n        },\n\"RT @International_L: @arneishaOC:@International_L Capitalism it is!<<<--- i do LIKE a good LOVE story! lmao/lol I kinda wanna see 9 too :-/\",\n\"political\"],\n [{\n            'v': 2877,\n            'f': \"2877\",\n        },\n{\n            'v': 0,\n            'f': \"0\",\n        },\n\"ading: \\\"Checking out some awesome NEW MOON content...do you have your tickets yet??? http://bit.ly/18cmhg\\\" (http://twitthis.com/q3gp6p)\",\n\"non-political\"],\n [{\n            'v': 137,\n            'f': \"137\",\n        },\n{\n            'v': 1,\n            'f': \"1\",\n        },\n\"The Conservative Party | News | News | Spelman condemns stealth ... http://u.mavrev.com/uj14\",\n\"political\"],\n [{\n            'v': 3015,\n            'f': \"3015\",\n        },\n{\n            'v': 0,\n            'f': \"0\",\n        },\n\"arlicbug rofl. i'd never be angry at YOU! you're no @TimKring. no one is.\",\n\"non-political\"],\n [{\n            'v': 1691,\n            'f': \"1691\",\n        },\n{\n            'v': 0,\n            'f': \"0\",\n        },\n\"8] I just got 100 followers using http://retwt.me/19KAc .\",\n\"non-political\"],\n [{\n            'v': 1801,\n            'f': \"1801\",\n        },\n{\n            'v': 0,\n            'f': \"0\",\n        },\n\"oshuaConkel huzzah! $17 tavern wench costume from Target zombified=Halloween success. Not my most original, but at least I made an effort.\",\n\"non-political\"],\n [{\n            'v': 1824,\n            'f': \"1824\",\n        },\n{\n            'v': 0,\n            'f': \"0\",\n        },\n\"issKatiePrice ignore the haters babe. your beAutiful and kind xx\",\n\"non-political\"],\n [{\n            'v': 2117,\n            'f': \"2117\",\n        },\n{\n            'v': 0,\n            'f': \"0\",\n        },\n\"artyBoyz247 Yo, you fronted again!! Now you promoting a \\\"bashment\\\" so i guess you not in the building 2nite either... SMH\",\n\"non-political\"],\n [{\n            'v': 198,\n            'f': \"198\",\n        },\n{\n            'v': 1,\n            'f': \"1\",\n        },\n\"Recommended @exposeliberals to @MrTweet '@exposeliberals great in exposing the liberals out there' http://bit.ly/VsoH5\",\n\"political\"],\n [{\n            'v': 1361,\n            'f': \"1361\",\n        },\n{\n            'v': 1,\n            'f': \"1\",\n        },\n\"RT @nytimes: NYT NEWS ALERT: Republican Wins Race for Virginia Governor\",\n\"political\"],\n [{\n            'v': 729,\n            'f': \"729\",\n        },\n{\n            'v': 1,\n            'f': \"1\",\n        },\n\"LOL haaaa RT @DJDRAMA Bill Clinton proly got the pole on his plane....They rockin out right now....\",\n\"political\"],\n [{\n            'v': 1090,\n            'f': \"1090\",\n        },\n{\n            'v': 1,\n            'f': \"1\",\n        },\n\"Amid all the bad, sad news about struggling dairy families in this current economy, its great to be able to print... http://bit.ly/13L2yc\",\n\"political\"],\n [{\n            'v': 2258,\n            'f': \"2258\",\n        },\n{\n            'v': 0,\n            'f': \"0\",\n        },\n\"d ALOT of fun 2day wit Nick,Jhonny,Mae and Jess. the steam is blowin away so im ok 4 now.*903-220-3041*\",\n\"non-political\"],\n [{\n            'v': 2252,\n            'f': \"2252\",\n        },\n{\n            'v': 0,\n            'f': \"0\",\n        },\n\"obably getting of to watch tv than school and than working out and tha going to rake at my grams house to get money to save for VIP\",\n\"non-political\"],\n [{\n            'v': 2717,\n            'f': \"2717\",\n        },\n{\n            'v': 0,\n            'f': \"0\",\n        },\n\"rickstorepub LEE! Twitpic those pictures of Wes & I and the boot from Oktoberfest!\",\n\"non-political\"],\n [{\n            'v': 2927,\n            'f': \"2927\",\n        },\n{\n            'v': 0,\n            'f': \"0\",\n        },\n\"rl im prolly younger than you im asian i age slowly im only 19\",\n\"non-political\"],\n [{\n            'v': 1700,\n            'f': \"1700\",\n        },\n{\n            'v': 0,\n            'f': \"0\",\n        },\n\"Mosley OOppps! wrong button\",\n\"non-political\"],\n [{\n            'v': 971,\n            'f': \"971\",\n        },\n{\n            'v': 1,\n            'f': \"1\",\n        },\n\"Failing Marks: Stimulus Bill Report Card http://ff.im/-68yeu\",\n\"political\"],\n [{\n            'v': 2750,\n            'f': \"2750\",\n        },\n{\n            'v': 0,\n            'f': \"0\",\n        },\n\"d dammit it's Teen Jeopardy. Get ready for the easiest questions in the world\",\n\"non-political\"],\n [{\n            'v': 554,\n            'f': \"554\",\n        },\n{\n            'v': 1,\n            'f': \"1\",\n        },\n\"RT @Paceset9999: RT @amer_orphan: Health Care Questions Obama Can\\u00e2\\u20ac\\u2122t Answer By Herman Cain http://twurl.nl/fh7dg8 #obamacare #tcot\",\n\"political\"],\n [{\n            'v': 2114,\n            'f': \"2114\",\n        },\n{\n            'v': 0,\n            'f': \"0\",\n        },\n\"tto on the jealous! RT @btkennett: @nathaneide jealous. That beats Vikes Pack anyday...\",\n\"non-political\"],\n [{\n            'v': 1926,\n            'f': \"1926\",\n        },\n{\n            'v': 0,\n            'f': \"0\",\n        },\n\"didn't drink, and was plenty hydrated. Why do I feel so hungover?\",\n\"non-political\"],\n [{\n            'v': 1605,\n            'f': \"1605\",\n        },\n{\n            'v': 0,\n            'f': \"0\",\n        },\n\"inyourface take pics of the babies...soooo cute\",\n\"non-political\"],\n [{\n            'v': 2858,\n            'f': \"2858\",\n        },\n{\n            'v': 0,\n            'f': \"0\",\n        },\n\" eggs? :) RT @petapixel Cute - If dogs were like cuckoo birds: http://j.mp/3SIwT7\",\n\"non-political\"],\n [{\n            'v': 1993,\n            'f': \"1993\",\n        },\n{\n            'v': 0,\n            'f': \"0\",\n        },\n\"rking on my first video for the new #youtube channel. It's definitely going to be an acoustic cover of Times Like These - Foo Fighters #ff\",\n\"non-political\"],\n [{\n            'v': 1156,\n            'f': \"1156\",\n        },\n{\n            'v': 1,\n            'f': \"1\",\n        },\n\"Job Losses, Manufacturing Probably Eased: US Economy Preview: 29 (Bloomberg) -- Employers in the US probably cut fe... http://bit.ly/53kVIu\",\n\"political\"],\n [{\n            'v': 2824,\n            'f': \"2824\",\n        },\n{\n            'v': 0,\n            'f': \"0\",\n        },\n\"nally home from the hospital and this lil girl has me wrapped all around her finger. Everything I do now is all for her...my inspiration!\",\n\"non-political\"],\n [{\n            'v': 1769,\n            'f': \"1769\",\n        },\n{\n            'v': 0,\n            'f': \"0\",\n        },\n\"a start painting my face every day and sending a daily picture text to @squishycool just for the fuck of it. :)\",\n\"non-political\"],\n [{\n            'v': 2856,\n            'f': \"2856\",\n        },\n{\n            'v': 0,\n            'f': \"0\",\n        },\n\" @NeNeG0Rd0: @__kire worddd it really is u got my laughing cuz u telling the truth <--always do! lol\",\n\"non-political\"],\n [{\n            'v': 1905,\n            'f': \"1905\",\n        },\n{\n            'v': 0,\n            'f': \"0\",\n        },\n\"ere's a crazy china bitch yelling at the other shop assistants in sportslink. Her english cmi\",\n\"non-political\"],\n [{\n            'v': 2435,\n            'f': \"2435\",\n        },\n{\n            'v': 0,\n            'f': \"0\",\n        },\n\"arahsalway I wandered lonely as a pie/That floats on jelly and pastry/When all at once I saw a sandwich/And that looked far more tasty\",\n\"non-political\"],\n [{\n            'v': 2247,\n            'f': \"2247\",\n        },\n{\n            'v': 0,\n            'f': \"0\",\n        },\n\"really should go to bed but I am so tired I can't sleep....\",\n\"non-political\"],\n [{\n            'v': 3035,\n            'f': \"3035\",\n        },\n{\n            'v': 0,\n            'f': \"0\",\n        },\n\" @Spotify: Robbie Williams\\u00e2\\u20ac\\u2122 new album to debut exclusively on Spotify in the UK http://bit.ly/ZKneZ\",\n\"non-political\"],\n [{\n            'v': 2725,\n            'f': \"2725\",\n        },\n{\n            'v': 0,\n            'f': \"0\",\n        },\n\"sh I had a laptop. I wanna go sit in a park or something and write.\",\n\"non-political\"],\n [{\n            'v': 252,\n            'f': \"252\",\n        },\n{\n            'v': 1,\n            'f': \"1\",\n        },\n\"RT @secupp: HuffPo wants u 2 boycott FOXNews advertisers. But, um, MSNBC & CNN advertise on FOX...what's a liberal to do? http://is.gd/2swmJ\",\n\"political\"],\n [{\n            'v': 84,\n            'f': \"84\",\n        },\n{\n            'v': 1,\n            'f': \"1\",\n        },\n\"Meet the New Boss ... RT @TWI_news Civil Libertarians Dismayed by Patriot Amendments? http://bit.ly/2aoqEt\",\n\"political\"],\n [{\n            'v': 1692,\n            'f': \"1692\",\n        },\n{\n            'v': 0,\n            'f': \"0\",\n        },\n\"illies look like shit. I hate every yankee fan. every single fucking one.\",\n\"non-political\"],\n [{\n            'v': 2774,\n            'f': \"2774\",\n        },\n{\n            'v': 0,\n            'f': \"0\",\n        },\n\" just went live with our new website. Check it out at www.navfund.com And if you like it, please become a fan of NAV on Facebook!!\",\n\"non-political\"],\n [{\n            'v': 1515,\n            'f': \"1515\",\n        },\n{\n            'v': 1,\n            'f': \"1\",\n        },\n\"RT @Duddy Government to make a 2.4 per cent cut in spending on the areas of innovation, universities and skills .. http://bit.ly/tlGvK\",\n\"political\"],\n [{\n            'v': 723,\n            'f': \"723\",\n        },\n{\n            'v': 0,\n            'f': \"0\",\n        },\n\" @jessweiss1: Obama!!!! Naughty! http://bit.ly/A0EPQ\",\n\"non-political\"],\n [{\n            'v': 809,\n            'f': \"809\",\n        },\n{\n            'v': 1,\n            'f': \"1\",\n        },\n\"International Security Assistance Force service member killed in eastern Afghanistan http://tinyurl.com/n6hdln\",\n\"political\"],\n [{\n            'v': 1420,\n            'f': \"1420\",\n        },\n{\n            'v': 1,\n            'f': \"1\",\n        },\n\"The government used fear and panic to passes laws or acts to violate our freedom and rights as Sovereign Citizens of the United States!\",\n\"political\"],\n [{\n            'v': 1188,\n            'f': \"1188\",\n        },\n{\n            'v': 1,\n            'f': \"1\",\n        },\n\"RT Liberals Insist On Defeat in Afghanistan | HEADLINE BUNKER http://bit.ly/24a9XJ\",\n\"political\"],\n [{\n            'v': 784,\n            'f': \"784\",\n        },\n{\n            'v': 1,\n            'f': \"1\",\n        },\n\"#inaug09 Soros: Obama Improves Openness: A fine bit of stenography from the always compliant Associated .. http://bit.ly/pWSOo\",\n\"political\"],\n [{\n            'v': 2661,\n            'f': \"2661\",\n        },\n{\n            'v': 0,\n            'f': \"0\",\n        },\n\"cks re-assign Matt Beleskey to the San Antonio Rampage http://bit.ly/2vF4Ve|ANA|home\",\n\"non-political\"],\n [{\n            'v': 2109,\n            'f': \"2109\",\n        },\n{\n            'v': 0,\n            'f': \"0\",\n        },\n\"uit snacks will get you anywhere with small children.\",\n\"non-political\"],\n [{\n            'v': 767,\n            'f': \"767\",\n        },\n{\n            'v': 1,\n            'f': \"1\",\n        },\n\"Health-care reform is now in the hands of the President Obama and Sen. Snowe - Seattle Times http://bit.ly/JS3N5\",\n\"political\"],\n [{\n            'v': 148,\n            'f': \"148\",\n        },\n{\n            'v': 1,\n            'f': \"1\",\n        },\n\"RT @huffingtonpost Reese Schonfeld: Cable News Ratings--Liberals Jump Ship http://bit.ly/PkuM2 l #glenn beck\",\n\"political\"],\n [{\n            'v': 1451,\n            'f': \"1451\",\n        },\n{\n            'v': 0,\n            'f': \"0\",\n        },\n\"look at the 2nd amend case from yesterday - good read at young republican: http://tinyurl.com/melguv -\",\n\"non-political\"],\n [{\n            'v': 134,\n            'f': \"134\",\n        },\n{\n            'v': 1,\n            'f': \"1\",\n        },\n\"RT @randomsubu: Hey Republicans+Conservatives: You gave the world George W Bush. So forgive me if I don't give a s*** about your opinion ...\",\n\"political\"],\n [{\n            'v': 594,\n            'f': \"594\",\n        },\n{\n            'v': 0,\n            'f': \"0\",\n        },\n\"bHay.com Chelsea Clinton s\\u00e1\\u00ba\\u00afp l\\u00c3\\u00aan xe hoa http://bit.ly/rWvc9\",\n\"non-political\"],\n [{\n            'v': 380,\n            'f': \"380\",\n        },\n{\n            'v': 1,\n            'f': \"1\",\n        },\n\"Nightmare in Red RT @Smb4252 @ShannonBabygirl do you even know what the word socialist means?\",\n\"political\"],\n [{\n            'v': 2306,\n            'f': \"2306\",\n        },\n{\n            'v': 0,\n            'f': \"0\",\n        },\n\"hasityNichole girl I hated dat Ej was all over da place I use to get mad and hit my damn stomach *shh dnt tell nobody lol*.\",\n\"non-political\"],\n [{\n            'v': 591,\n            'f': \"591\",\n        },\n{\n            'v': 1,\n            'f': \"1\",\n        },\n\"TOMORROW I WILL GIVE YOU THE NAMES OF THE FALLEN SOLDIERS SINCE OBAMA WENT TO COPENHAGEN AND IGNORED THE PLEAS FOR HELP!.BLOOD ON HIS HANDS!\",\n\"political\"],\n [{\n            'v': 2553,\n            'f': \"2553\",\n        },\n{\n            'v': 0,\n            'f': \"0\",\n        },\n\"eam_Peter i dont no how to rate but i love your show your kids are gorgous and your doing everything right your great xx\",\n\"non-political\"],\n [{\n            'v': 33,\n            'f': \"33\",\n        },\n{\n            'v': 0,\n            'f': \"0\",\n        },\n\"parently, British twitterers are flocking to defend the NHS with #welovethenhs hashtag. Brainwashed socialists.\",\n\"non-political\"],\n [{\n            'v': 319,\n            'f': \"319\",\n        },\n{\n            'v': 1,\n            'f': \"1\",\n        },\n\"@Noelzgal I know, and thats what got us in trouble with the first terrorist attack.. the liberal gov't lives in a fantasy...\",\n\"political\"],\n [{\n            'v': 1144,\n            'f': \"1144\",\n        },\n{\n            'v': 1,\n            'f': \"1\",\n        },\n\"California leads with 36% growth in \\u00e2\\u20ac\\u02dcgreen\\u00e2\\u20ac\\u2122 jobs Jobs in California\\u00e2\\u20ac\\u2122s so-called green economy increased by 36% fr.. http://is.gd/5wx8a\",\n\"political\"],\n [{\n            'v': 2143,\n            'f': \"2143\",\n        },\n{\n            'v': 0,\n            'f': \"0\",\n        },\n\"mTV Host @KerriPom shares her recent trip to Africa Orphanages LIVE Tuesday 8 PM ET @HeartforAfrica http://bit.ly/1lh69L\",\n\"non-political\"],\n [{\n            'v': 1548,\n            'f': \"1548\",\n        },\n{\n            'v': 0,\n            'f': \"0\",\n        },\n\" Federal Government to Offer Cloud Computing Services: The US Federal Government has plans to offer both Softw.. http://bit.ly/JEtOX\",\n\"non-political\"],\n [{\n            'v': 1638,\n            'f': \"1638\",\n        },\n{\n            'v': 0,\n            'f': \"0\",\n        },\n\" congo natty - junglist - if you don't know it then go and find it. Im not talking d/l, go dig through some crates\",\n\"non-political\"],\n [{\n            'v': 2352,\n            'f': \"2352\",\n        },\n{\n            'v': 0,\n            'f': \"0\",\n        },\n\"adem yok RT @Linovee: Panas bgt yak diLuar...adiiuuhh :(\",\n\"non-political\"],\n [{\n            'v': 746,\n            'f': \"746\",\n        },\n{\n            'v': 1,\n            'f': \"1\",\n        },\n\"In Radio Address, Obama Touts Successes of Stimulus Plan - Wall Street Journal: MiamiHerald.comIn Radio Address,.. http://bit.ly/mUYTE\",\n\"political\"],\n [{\n            'v': 184,\n            'f': \"184\",\n        },\n{\n            'v': 1,\n            'f': \"1\",\n        },\n\"Teehee, I love the Socialist Party, and their pathetic attempts to get me to buy their ickle newspaper.\",\n\"political\"],\n [{\n            'v': 2687,\n            'f': \"2687\",\n        },\n{\n            'v': 0,\n            'f': \"0\",\n        },\n\" @2morrowknight: #Important \\u00e2\\u017e\\u00b2 \\\"What to do when your Twitter account is hacked\\\" - http://j.mp/blf5D (via @BuzzEdition @Twitter_Tips)\",\n\"non-political\"],\n [{\n            'v': 758,\n            'f': \"758\",\n        },\n{\n            'v': 1,\n            'f': \"1\",\n        },\n\"RT @BikeLeague Response to McCain and Coburn http://ow.ly/jbnl Bicycling IS transportation!\",\n\"political\"],\n [{\n            'v': 2562,\n            'f': \"2562\",\n        },\n{\n            'v': 0,\n            'f': \"0\",\n        },\n\"itical Illness Insurance Trade Organization Free Membership http://bit.ly/3IFgy8\",\n\"non-political\"],\n [{\n            'v': 2931,\n            'f': \"2931\",\n        },\n{\n            'v': 0,\n            'f': \"0\",\n        },\n\" @rikycoh \\u00d7\\u201d\\u00d7\\u02dc\\u00d7\\u2022\\u00d7\\u00a8 \\u00d7\\u201d\\u00d7\\u2014\\u00d7\\u201c\\u00d7\\u00a9 \\u00d7\\u00a9\\u00d7\\u0153\\u00d7\\u2122 \\u00d7\\u2018\\u00d7\\u2022\\u00d7\\u2122\\u00d7\\u2122\\u00d7\\u00a0\\u00d7\\u02dc \\u00d7\\u017e\\u00d7\\u201c\\u00d7\\u2018\\u00d7\\u00a8 \\u00d7\\u00a2\\u00d7\\u0153 \\u00d7\\u203a\\u00d7\\u00a1\\u00d7\\u00a3, \\u00d7\\u00a8\\u00d7\\u017e\\u00d7\\u00aa \\u00d7\\u2014\\u00d7\\u2122\\u00d7\\u2122\\u00d7\\u009d, \\u00d7\\u2022\\u00d7\\u2122\\u00d7\\u0153\\u00d7\\u201c\\u00d7\\u2122\\u00d7\\u009d http://bit.ly/4dXcLt \\u00d7\\u017e\\u00d7\\u00a2\\u00d7\\u0153\\u00d7\\u201d \\u00d7\\u00aa\\u00d7\\u201d\\u00d7\\u2122\\u00d7\\u2022\\u00d7\\u00aa \\u00d7\\u00a2\\u00d7\\u00a6\\u00d7\\u2022\\u00d7\\u2018\\u00d7\\u2022\\u00d7\\u00aa \\u00d7\\u00a7\\u00d7\\u00a6\\u00d7\\u00aa \\u00d7\\u00a2\\u00d7\\u0153 \\u00d7\\u017e\\u00d7\\u201d \\u00d7\\u00a0\\u00d7\\u201d\\u00d7\\u2122\\u00d7\\u201d \\u00d7\\u017e\\u00d7\\u0090\\u00d7\\u2122\\u00d7\\u00aa\\u00d7\\u00a0\\u00d7\\u2022.\",\n\"non-political\"],\n [{\n            'v': 1587,\n            'f': \"1587\",\n        },\n{\n            'v': 1,\n            'f': \"1\",\n        },\n\"Don't pay for your gas any longer... Instead, the government will pay YOU!: http://ping.fm/lqWHy\",\n\"political\"],\n [{\n            'v': 730,\n            'f': \"730\",\n        },\n{\n            'v': 1,\n            'f': \"1\",\n        },\n\"RT @ttjemery God Almighty pls liberate the USA from Obama & his gangsters.In Jesus name, Amen//@dmooney9 Maybe God is black//OR a gangster!\",\n\"political\"],\n [{\n            'v': 2321,\n            'f': \"2321\",\n        },\n{\n            'v': 0,\n            'f': \"0\",\n        },\n\"XXJaydenJaymes you need to be trippin to watch that one its some crazy shit\",\n\"non-political\"],\n [{\n            'v': 1713,\n            'f': \"1713\",\n        },\n{\n            'v': 0,\n            'f': \"0\",\n        },\n\"\\u00b7\\u00e3\\u0081\\u201e\\u00e9\\u2013\\u201c\\u00e4\\u00ba\\u00ba\\u00e3\\u0081\\u00ab\\u00e4\\u00bc\\u0161\\u00e3\\u0081\\u00a3\\u00e3\\u0081\\u00a6\\u00e3\\u0081\\u201e\\u00e3\\u0081\\u00aa\\u00e3\\u0081\\u201e\\u00e3\\u0081\\u203a\\u00e3\\u0081\\u201e\\u00e3\\u0081\\u2039\\u00e3\\u20ac\\u0081\\u00e4\\u00ba\\u00ba\\u00e9\\u2013\\u201c\\u00e3\\u201a\\u2019\\u00e7\\u203a\\u00b4\\u00e6\\u017d\\u00a5\\u00e8\\u00a6\\u2039\\u00e3\\u201a\\u2039\\u00e3\\u0081\\u00ae\\u00e3\\u0081\\u0152\\u00e5\\u2021\\u201e\\u00e3\\u0081\\u008f\\u00e6\\u20ac\\u2013\\u00e3\\u0081\\u008f\\u00e6\\u201e\\u0178\\u00e3\\u0081\\u02dc\\u00e3\\u201a\\u2039\\u00e3\\u20ac\\u201a\",\n\"non-political\"],\n [{\n            'v': 2370,\n            'f': \"2370\",\n        },\n{\n            'v': 0,\n            'f': \"0\",\n        },\n\"y does India dosent follow the advertiesments they show on TV!!!Guests are god???????\",\n\"non-political\"],\n [{\n            'v': 1849,\n            'f': \"1849\",\n        },\n{\n            'v': 0,\n            'f': \"0\",\n        },\n\"ppy Birthday to my grandpa, the most amazing person who ever lived in this World.\",\n\"non-political\"],\n [{\n            'v': 476,\n            'f': \"476\",\n        },\n{\n            'v': 1,\n            'f': \"1\",\n        },\n\"GO PRESIDENT OBAMA!!!!!! So intelligent, so on point, so educated, so inspirational, they cant trip him up! http://myloc.me/An8M\",\n\"political\"],\n [{\n            'v': 1736,\n            'f': \"1736\",\n        },\n{\n            'v': 0,\n            'f': \"0\",\n        },\n\"ancynaigle think Victorian era w/ robots. Gears and tech and pinafores.\",\n\"non-political\"],\n [{\n            'v': 1854,\n            'f': \"1854\",\n        },\n{\n            'v': 0,\n            'f': \"0\",\n        },\n\"st voted \\\"KIM HYUNG JUN OPPA\\\" on \\\"ss501\\\" vote too \\u00e2\\u017e\\u201d http://bit.ly/10HGch\",\n\"non-political\"],\n [{\n            'v': 2347,\n            'f': \"2347\",\n        },\n{\n            'v': 0,\n            'f': \"0\",\n        },\n\"brane I&apos;m staying at ApacheCon wed and thurs, in SFO on Fri and Sat. I&apos;m pretty sure the &apos;part.. http://tinyurl.com/yfegvym\",\n\"non-political\"],\n [{\n            'v': 2318,\n            'f': \"2318\",\n        },\n{\n            'v': 0,\n            'f': \"0\",\n        },\n\"ninemusic or if there was a fight at the end of EVERY inning..then I would def check it out\",\n\"non-political\"],\n [{\n            'v': 1884,\n            'f': \"1884\",\n        },\n{\n            'v': 0,\n            'f': \"0\",\n        },\n\"anks to Simon Daniel, now all of my nephews are sneakers freaks. They now talking bout Vans, NikeSB, and Supra. Ckckck.\",\n\"non-political\"],\n [{\n            'v': 2848,\n            'f': \"2848\",\n        },\n{\n            'v': 0,\n            'f': \"0\",\n        },\n\"st spent two hours taking photos of boyfriend in bathroom so he has a \\\"headshot\\\" for his interview for the Charmin Bathroom Attendant job.\",\n\"non-political\"],\n [{\n            'v': 854,\n            'f': \"854\",\n        },\n{\n            'v': 1,\n            'f': \"1\",\n        },\n\"Telegraph: Dare to resist this new era of intervention : In 1971, Professor Klaus Schwab wr.. http://bit.ly/8lim2J #economy\",\n\"political\"],\n [{\n            'v': 803,\n            'f': \"803\",\n        },\n{\n            'v': 1,\n            'f': \"1\",\n        },\n\"Do you have one of the 12 certifications and licenses that will be needed in the Green Economy? http://bit.ly/dBcJW\",\n\"political\"],\n [{\n            'v': 2069,\n            'f': \"2069\",\n        },\n{\n            'v': 0,\n            'f': \"0\",\n        },\n\" @MarvinTowler: The teacher must remain the student if the teacher is to grow. ~ Emmanuel\",\n\"non-political\"],\n [{\n            'v': 923,\n            'f': \"923\",\n        },\n{\n            'v': 1,\n            'f': \"1\",\n        },\n\"Puyallup Tribe project uses stimulus funds (http://cli.gs/ZdrRQ) Seattle\",\n\"political\"],\n [{\n            'v': 1057,\n            'f': \"1057\",\n        },\n{\n            'v': 1,\n            'f': \"1\",\n        },\n\"The body of an Aldershot soldier, who died in Afghanistan last week, is being flown home. www.964eagle.co.uk\",\n\"political\"],\n [{\n            'v': 820,\n            'f': \"820\",\n        },\n{\n            'v': 1,\n            'f': \"1\",\n        },\n\"RT @Iranpr The Iran Regime Coup Govt mis-manages the economy is in a death spiral w/in 6 months it will collapse #iranelection }} agreed!\",\n\"political\"],\n [{\n            'v': 418,\n            'f': \"418\",\n        },\n{\n            'v': 1,\n            'f': \"1\",\n        },\n\"Ah and yet again this is why I love Peggy Noonan: A Farewell to Harms: Palin was Bad for Republicans and the Republic http://bit.ly/16Ejmz\",\n\"political\"],\n [{\n            'v': 2257,\n            'f': \"2257\",\n        },\n{\n            'v': 0,\n            'f': \"0\",\n        },\n\"ttle breeding business: http://wp.me/ptzge-1A\",\n\"non-political\"],\n [{\n            'v': 101,\n            'f': \"101\",\n        },\n{\n            'v': 1,\n            'f': \"1\",\n        },\n\"2 of my faves. RT @1txsage1957 Naomi Klein Interviews Michael Moore on the Perils of Capitalism http://is.gd/3Frtb\",\n\"political\"],\n [{\n            'v': 958,\n            'f': \"958\",\n        },\n{\n            'v': 1,\n            'f': \"1\",\n        },\n\"Taliban Open Northern Front in Afghanistan - http://bit.ly/62CyO2 Getting ready for Obama and troop increase stretch em thin\",\n\"political\"],\n [{\n            'v': 590,\n            'f': \"590\",\n        },\n{\n            'v': 1,\n            'f': \"1\",\n        },\n\"@WSJWashington RT: Republicans Blame Obama Policies for Job Losses: using today\\u00e2\\u20ac\\u2122s report on further job losses.. http://tinyurl.com/msakvv\",\n\"political\"],\n [{\n            'v': 1920,\n            'f': \"1920\",\n        },\n{\n            'v': 0,\n            'f': \"0\",\n        },\n\"s, of course, my husband and I will eat what's left in the candy bowl. The true test: what we do with the unopened bags.\",\n\"non-political\"],\n [{\n            'v': 595,\n            'f': \"595\",\n        },\n{\n            'v': 1,\n            'f': \"1\",\n        },\n\"The Gaggle: Obama: 'Scare Tactics' Are Causing Poll Numbers to Drop http://bit.ly/Wkc7P\",\n\"political\"],\n [{\n            'v': 3153,\n            'f': \"3153\",\n        },\n{\n            'v': 0,\n            'f': \"0\",\n        },\n\"nancial Analyst II - Equity Trader (FIN00877-9): Telus Corporation (Edmonton AB): \\\"...analytic and quant.. http://bit.ly/J9rVz\",\n\"non-political\"],\n [{\n            'v': 527,\n            'f': \"527\",\n        },\n{\n            'v': 1,\n            'f': \"1\",\n        },\n\"Don't Wait For Obama's Health Care Reform; Initiate Your Own Health Plan http://is.gd/2Fx0h #green #healthyhome #fb\",\n\"political\"],\n [{\n            'v': 1723,\n            'f': \"1723\",\n        },\n{\n            'v': 0,\n            'f': \"0\",\n        },\n\"ingpongpanda post a pic of ritzs and your costume!!!! Bet it was crazyyy! I wanna see!!\",\n\"non-political\"],\n [{\n            'v': 2123,\n            'f': \"2123\",\n        },\n{\n            'v': 0,\n            'f': \"0\",\n        },\n\" @jessefeitel: #fest8 #phish YEAH!!! WATER IN THE SKY!\",\n\"non-political\"],\n [{\n            'v': 1412,\n            'f': \"1412\",\n        },\n{\n            'v': 1,\n            'f': \"1\",\n        },\n\"RT @sheriffjim: For every action there is an equal and opposite government program. ROTFL\",\n\"political\"],\n [{\n            'v': 1107,\n            'f': \"1107\",\n        },\n{\n            'v': 1,\n            'f': \"1\",\n        },\n\"US troops killed in Afghanistan and Africa http://bit.ly/3WxxK\",\n\"political\"],\n [{\n            'v': 1941,\n            'f': \"1941\",\n        },\n{\n            'v': 0,\n            'f': \"0\",\n        },\n\"ter weeks and weeks of spazzing over this windmill hat I have finally finished it.....and it goes round in the wind :D\",\n\"non-political\"],\n [{\n            'v': 220,\n            'f': \"220\",\n        },\n{\n            'v': 1,\n            'f': \"1\",\n        },\n\"Who will be Liberal Leader on Tuesday evening? http://twtpoll.com/mqy0c2 #twtpoll #spill\",\n\"political\"],\n [{\n            'v': 2986,\n            'f': \"2986\",\n        },\n{\n            'v': 0,\n            'f': \"0\",\n        },\n\"en's \\\"Feel It\\\" from Three 6 and Tiesto coming out? I need this track more than I need oxygen.\",\n\"non-political\"],\n [{\n            'v': 511,\n            'f': \"511\",\n        },\n{\n            'v': 1,\n            'f': \"1\",\n        },\n\"Hail! Obama! I think we should all start our tweets with that so we don't get put the Furher's Enemies List. Does that make Pelosi Mussolini\",\n\"political\"],\n [{\n            'v': 1955,\n            'f': \"1955\",\n        },\n{\n            'v': 0,\n            'f': \"0\",\n        },\n\"edrictan just sent you the cards. don't say you never receive.\",\n\"non-political\"],\n [{\n            'v': 1785,\n            'f': \"1785\",\n        },\n{\n            'v': 0,\n            'f': \"0\",\n        },\n\"metimes you just can't please yourself and those you care about and when you have to chose... It's a fucking problem. Loner 4 life--\",\n\"non-political\"],\n [{\n            'v': 925,\n            'f': \"925\",\n        },\n{\n            'v': 1,\n            'f': \"1\",\n        },\n\"I rarely agree with Sen Graham (R-SC) but I totally agree that we shouldn't 'Rumsfeld' Afghanistan http://bit.ly/FqXob\",\n\"political\"],\n [{\n            'v': 1204,\n            'f': \"1204\",\n        },\n{\n            'v': 0,\n            'f': \"0\",\n        },\n\"teresting article from the Guardian about the need for local government to embrace Open Source Software: http://bit.ly/L5kF2\",\n\"non-political\"],\n [{\n            'v': 2832,\n            'f': \"2832\",\n        },\n{\n            'v': 0,\n            'f': \"0\",\n        },\n\"te: my dog is a giant fraidy cat. He was scared of the rat.\",\n\"non-political\"],\n [{\n            'v': 2669,\n            'f': \"2669\",\n        },\n{\n            'v': 0,\n            'f': \"0\",\n        },\n\"don't even know if i want either of them..but joey and tyler want me to choose..\",\n\"non-political\"],\n [{\n            'v': 957,\n            'f': \"957\",\n        },\n{\n            'v': 1,\n            'f': \"1\",\n        },\n\"Great phrase there. Afghanistan, Pakistan... the world's \\\"Terroristan\\\". http://is.gd/4MH4j\",\n\"political\"],\n [{\n            'v': 2939,\n            'f': \"2939\",\n        },\n{\n            'v': 0,\n            'f': \"0\",\n        },\n\"ny: Sign of the Times and parking tickets for po\\u00e2\\u20ac\\u2122folk http://bit.ly/g0uGq\",\n\"non-political\"],\n [{\n            'v': 1599,\n            'f': \"1599\",\n        },\n{\n            'v': 0,\n            'f': \"0\",\n        },\n\"mping dj sefs mixtape nowww this is my music new skooooool\",\n\"non-political\"],\n [{\n            'v': 2249,\n            'f': \"2249\",\n        },\n{\n            'v': 0,\n            'f': \"0\",\n        },\n\"sten to Adam Lambert 's new single #4YourEntertainment at adamofficial.com now!!!\",\n\"non-political\"],\n [{\n            'v': 2576,\n            'f': \"2576\",\n        },\n{\n            'v': 0,\n            'f': \"0\",\n        },\n\"nsideHoop Popeye Jones accused of drunk driving: Chris Dell of the Dallas Morning News reports: Former Dallas Maverick http://url4.eu/gmJW\",\n\"non-political\"],\n [{\n            'v': 2767,\n            'f': \"2767\",\n        },\n{\n            'v': 0,\n            'f': \"0\",\n        },\n\"esome take on ads RT @nams: http://bit.ly/3aud5P predicted evolution of #facebook #advertising\",\n\"non-political\"],\n [{\n            'v': 2942,\n            'f': \"2942\",\n        },\n{\n            'v': 0,\n            'f': \"0\",\n        },\n\"ddling with my blog post: How to: Delete Files which cannot be deleted http://bit.ly/4cf9k8\",\n\"non-political\"],\n [{\n            'v': 586,\n            'f': \"586\",\n        },\n{\n            'v': 1,\n            'f': \"1\",\n        },\n\"RT @LindaDeMerle: India: \\\"Thousands Rally Against Obama Government\\\" http://ow.ly/pMqa #HCR #HUMANRIGHTS #PROLIFE\",\n\"political\"],\n [{\n            'v': 569,\n            'f': \"569\",\n        },\n{\n            'v': 1,\n            'f': \"1\",\n        },\n\"For Public, Obama Didn&#x2019;t Fill in Health Blanks ... http://qrl.cc/ypj6mo\",\n\"political\"],\n [{\n            'v': 3102,\n            'f': \"3102\",\n        },\n{\n            'v': 0,\n            'f': \"0\",\n        },\n\"posted 12 photos on Facebook in the album \\\"Just Fun\\\" http://bit.ly/2uqBgz\",\n\"non-political\"],\n [{\n            'v': 1134,\n            'f': \"1134\",\n        },\n{\n            'v': 0,\n            'f': \"0\",\n        },\n\"e 1 thing all relationships need to survive is TRUST. It is the glue that holds our net-enabled knowledge economy together - Dan Burrus\",\n\"non-political\"],\n [{\n            'v': 3112,\n            'f': \"3112\",\n        },\n{\n            'v': 0,\n            'f': \"0\",\n        },\n\"ar drivers, If you already can't drive for shit, a cell phone held to your head isn't going to help things..put it down and drive! Idiots.\",\n\"non-political\"],\n [{\n            'v': 1324,\n            'f': \"1324\",\n        },\n{\n            'v': 1,\n            'f': \"1\",\n        },\n\"RT @FoodAllergy We\\u00e2\\u20ac\\u2122re excited to welcome families to Washington, D.C. for the 2009 FAAN Kids\\u00e2\\u20ac\\u2122 Congress on Capitol Hill! #FAANkc #foodallergy\",\n\"political\"],\n [{\n            'v': 423,\n            'f': \"423\",\n        },\n{\n            'v': 1,\n            'f': \"1\",\n        },\n\"BARACK OBAMA is not only not a U.S. citizen, but is also part of a Washington D.C. Al-Qaeda terrorist cell that started in the U.S. Senate.\",\n\"political\"],\n [{\n            'v': 615,\n            'f': \"615\",\n        },\n{\n            'v': 1,\n            'f': \"1\",\n        },\n\"LATE RT @scribeguy Obama administration declassifies sea ice photos kept secret by the Bush folks: http://tinyurl.com/lgxxma\",\n\"political\"],\n [{\n            'v': 1006,\n            'f': \"1006\",\n        },\n{\n            'v': 0,\n            'f': \"0\",\n        },\n\"w the Iraq oil auction works http://url4.eu/2uTV\",\n\"non-political\"],\n [{\n            'v': 429,\n            'f': \"429\",\n        },\n{\n            'v': 1,\n            'f': \"1\",\n        },\n\"RT @argylestyle: I think Nancy Pelosi should end withal great big \\\"fuck you!\\\" at the GOP. But that's just me. // and me\",\n\"political\"],\n [{\n            'v': 15,\n            'f': \"15\",\n        },\n{\n            'v': 0,\n            'f': \"0\",\n        },\n\"MFlint Have a good time mike ,Capitalism ! Whats not to like ! lol!\",\n\"non-political\"],\n [{\n            'v': 1770,\n            'f': \"1770\",\n        },\n{\n            'v': 0,\n            'f': \"0\",\n        },\n\"wnloading No ceilings official leS C waT I partiallY misseD\",\n\"non-political\"],\n [{\n            'v': 364,\n            'f': \"364\",\n        },\n{\n            'v': 1,\n            'f': \"1\",\n        },\n\"A recovering feminist from Berkley on the Left's animus toward Sarah Palin. Hard-hitting-Read @ ur own risk. http://tinyurl.com/ykqrulv\",\n\"political\"],\n [{\n            'v': 2406,\n            'f': \"2406\",\n        },\n{\n            'v': 0,\n            'f': \"0\",\n        },\n\"rtiledare m\\u00c3\\u00b6ts i debatt: \\u00c3\\u2026lands Framtid bjuder in till traditionsenlig partiledardebatt i samband med att lag.. http://bit.ly/2ehDF7\",\n\"non-political\"],\n [{\n            'v': 2030,\n            'f': \"2030\",\n        },\n{\n            'v': 0,\n            'f': \"0\",\n        },\n\"rPeterAndre hi pete howz u loving the songs on new album howz j ,p and h doing hope there ok hope to hear from u soon xxxx team andre x\",\n\"non-political\"],\n [{\n            'v': 1272,\n            'f': \"1272\",\n        },\n{\n            'v': 1,\n            'f': \"1\",\n        },\n\"RT @callcolombia: Netizen News Brief: US Secy Locke: Colombia Trade Pact Not Likely ...: SANTIAGO --The U.S. Congress won't l.. http://b..\",\n\"political\"],\n [{\n            'v': 3161,\n            'f': \"3161\",\n        },\n{\n            'v': 0,\n            'f': \"0\",\n        },\n\"day I want to see\",\n\"non-political\"],\n [{\n            'v': 3075,\n            'f': \"3075\",\n        },\n{\n            'v': 0,\n            'f': \"0\",\n        },\n\"christiner: awh! I wouldve stayed up with you fool!\",\n\"non-political\"],\n [{\n            'v': 804,\n            'f': \"804\",\n        },\n{\n            'v': 1,\n            'f': \"1\",\n        },\n\"RT @drkent: RT @HCR_Now: Bad economy creates spike in gun permits requests: http://bit.ly/kJscr\",\n\"political\"],\n [{\n            'v': 546,\n            'f': \"546\",\n        },\n{\n            'v': 1,\n            'f': \"1\",\n        },\n\"I just took the \\\"Qual o seu n\\u00c3\\u00advel de ingl\\u00c3\\u00aas?\\\" quiz and got: Dou aulas pro Obama!! Try it \\u00e2\\u017e\\u00a4 http://bit.ly/CSYph\",\n\"political\"],\n [{\n            'v': 773,\n            'f': \"773\",\n        },\n{\n            'v': 1,\n            'f': \"1\",\n        },\n\"RT @Bound4LIFE This is right outside Speaker Pelosi's office. http://twitpic.com/bti8m\",\n\"political\"],\n [{\n            'v': 697,\n            'f': \"697\",\n        },\n{\n            'v': 0,\n            'f': \"0\",\n        },\n\" RT @unicornmajik: RT @BluegrassPundit: Very Funny video: Obama And Friends&apos; Holiday Hip Hop: http://bit.ly/7JqwPC #tcot #lol #f..\",\n\"non-political\"],\n [{\n            'v': 1173,\n            'f': \"1173\",\n        },\n{\n            'v': 1,\n            'f': \"1\",\n        },\n\"Napa Cabs Need to Watch Their Backs (Washington Wine on the Rise While the Economy Tanks): http://ping.fm/jSy1j\",\n\"political\"],\n [{\n            'v': 2952,\n            'f': \"2952\",\n        },\n{\n            'v': 0,\n            'f': \"0\",\n        },\n\"'s bloody raining and I have to cycle to college. Not such a good day after all.\",\n\"non-political\"],\n [{\n            'v': 524,\n            'f': \"524\",\n        },\n{\n            'v': 0,\n            'f': \"0\",\n        },\n\" @romanelli We have 2 SU opening game tickets, free to first person who @ replies, must pick up at our office by 11 a.m. in Clinton\",\n\"non-political\"],\n [{\n            'v': 563,\n            'f': \"563\",\n        },\n{\n            'v': 1,\n            'f': \"1\",\n        },\n\"@IdaFlo 0bama last night was better than Clinton's finger wagging @ the world(\\\"I did not have sex...\\\"). He's by far a better liar. #tcot\",\n\"political\"],\n [{\n            'v': 1003,\n            'f': \"1003\",\n        },\n{\n            'v': 1,\n            'f': \"1\",\n        },\n\"@huffingtonpost Will should have said Cheney went to Iraq for Halliburton and oil. Deliberate deception, not dithering.\",\n\"political\"],\n [{\n            'v': 3190,\n            'f': \"3190\",\n        },\n{\n            'v': 0,\n            'f': \"0\",\n        },\n\"\\u00d1\\u008f\\u00d1\\u2013g\\u00d1\\u2013\\u00d0\\u00b8\\u00ce\\u00b1\\u00e2\\u201e\\u201c \\u00c2\\u00ae \\u00e2\\u201e\\u00a2\\u00d1\\u008f\\u00d1\\u201dcus\\u00d1\\u201d i\\u00d0\\u00bci\\u00cf\\u201e\\u00ce\\u00b1\\u00c3\\u00a7\\u00c3\\u00b5\\u00d1\\u201ds\\u00e2\\u201e\\u00a2 \\u00e2\\u2013\\u02c6\\u00e2\\u2022\\u2018\\u00e2\\u2013\\u0152\\u00e2\\u201d\\u201a\\u00e2\\u2022\\u2018\\u00e2\\u2013\\u0152\\u00e2\\u2022\\u2018\\u00e2\\u2013\\u0152\\u00e2\\u201d\\u201a\\u00e2\\u2013\\u02c6\\u00e2\\u201d\\u201a\\u00e2\\u2013\\u0152\\u00e2\\u2022\\u2018\\u00e2\\u201d\\u201a\\u00e2\\u2013\\u02c6\\u00e2\\u2022\\u2018\\u00e2\\u2013\\u02c6\\u00e2\\u2022\\u2018 - -\\u00e2\\u2022\\u2018\\u00e2\\u201d\\u201a\\u00e2\\u2013\\u02c6\\u00e2\\u2022\\u2018\\u00e2\\u2013\\u02c6\\u00e2\\u2022\\u2018\\u00e2\\u2013\\u02c6\\u00e2\\u2022\\u2018\\u00e2\\u2022\\u2018 \\u00e2\\u2013\\u00ba\\u00e2\\u2013\\u00ba\\u00e2\\u2013\\u00ba http://tweepml.org/sucesso-3/ #NSF!!!!!!!!\",\n\"non-political\"],\n [{\n            'v': 387,\n            'f': \"387\",\n        },\n{\n            'v': 1,\n            'f': \"1\",\n        },\n\"RT @Cody_K: T Jefferson. Kinda sounds like wingnuts to me. // are you talking about liberals?\",\n\"political\"],\n [{\n            'v': 235,\n            'f': \"235\",\n        },\n{\n            'v': 0,\n            'f': \"0\",\n        },\n\"ers89 Yeah, the reappropriation of the German aesthetic of the song for black/feminist/etc. USA revolution propaganda. Lots of material.\",\n\"non-political\"],\n [{\n            'v': 1206,\n            'f': \"1206\",\n        },\n{\n            'v': 1,\n            'f': \"1\",\n        },\n\"Anyone read \\\"Government Schools Are Bad for Your Kids: What You Need to Know?\\\": I came across James O.. http://bit.ly/072v7TP\",\n\"political\"],\n [{\n            'v': 1370,\n            'f': \"1370\",\n        },\n{\n            'v': 1,\n            'f': \"1\",\n        },\n\"There's a good chance the call for the Government Accountability Office to audit the U.S. Federal, Real Estate http://short.to/ys2f\",\n\"political\"],\n [{\n            'v': 1290,\n            'f': \"1290\",\n        },\n{\n            'v': 1,\n            'f': \"1\",\n        },\n\"RT @Reuters_Iran:Iran's opposition will keep up government protest: Karoubi http://link.reuters.com/was79c #iranelection\",\n\"political\"],\n [{\n            'v': 204,\n            'f': \"204\",\n        },\n{\n            'v': 1,\n            'f': \"1\",\n        },\n\"Socialists should oppose copyrights & the commodification of knowledge & culture as an obstacle to progress & creativity http://is.gd/2IjkZ\",\n\"political\"],\n [{\n            'v': 1863,\n            'f': \"1863\",\n        },\n{\n            'v': 0,\n            'f': \"0\",\n        },\n\"yped w garrett for a short while earlier.. can't wait to see him in real person tmr :)\",\n\"non-political\"],\n [{\n            'v': 1660,\n            'f': \"1660\",\n        },\n{\n            'v': 0,\n            'f': \"0\",\n        },\n\"treme Halloween Present: My last post showed pictures of Halloween past of my son.\\u00c2\\u00a0 Here he is today, going o.. http://bit.ly/yNgmb\",\n\"non-political\"],\n [{\n            'v': 769,\n            'f': \"769\",\n        },\n{\n            'v': 0,\n            'f': \"0\",\n        },\n\"radyP09 michelle obama (the hot mama) :)\",\n\"non-political\"],\n [{\n            'v': 684,\n            'f': \"684\",\n        },\n{\n            'v': 1,\n            'f': \"1\",\n        },\n\"Two-Thirds of Obama's Online Fundraising Was Via Email http://ff.im/-7gTOe\",\n\"political\"],\n [{\n            'v': 528,\n            'f': \"528\",\n        },\n{\n            'v': 1,\n            'f': \"1\",\n        },\n\"Maybe these \\\"birthers\\\" are on to something. I mean, how could someone so intelligent and articulate as Obama have been born in America?\",\n\"political\"],\n [{\n            'v': 2921,\n            'f': \"2921\",\n        },\n{\n            'v': 0,\n            'f': \"0\",\n        },\n\"lajaran TIK cuma blajar nglompokin nama temen doang ! Ahahhaha\",\n\"non-political\"],\n [{\n            'v': 305,\n            'f': \"305\",\n        },\n{\n            'v': 1,\n            'f': \"1\",\n        },\n\"Liberal Camille Paglia calls for Nancy Pelosi to resign immediately. http://bit.ly/4JGDf\",\n\"political\"],\n [{\n            'v': 2133,\n            'f': \"2133\",\n        },\n{\n            'v': 0,\n            'f': \"0\",\n        },\n\"s the next one in line for san fransico and they kicked me out. LAME.\",\n\"non-political\"],\n [{\n            'v': 1676,\n            'f': \"1676\",\n        },\n{\n            'v': 0,\n            'f': \"0\",\n        },\n\"les Rep jobs Bradford http://bit.ly/MULEk\",\n\"non-political\"],\n [{\n            'v': 2806,\n            'f': \"2806\",\n        },\n{\n            'v': 0,\n            'f': \"0\",\n        },\n\"eek season finale was good. april is too far away for the new season :[\",\n\"non-political\"],\n [{\n            'v': 1903,\n            'f': \"1903\",\n        },\n{\n            'v': 0,\n            'f': \"0\",\n        },\n\"ages (gab): The Complete Wave Guide [ gabimages.blogspot.com ] [shared by 10 people] .. http://bit.ly/OY3Fi\",\n\"non-political\"],\n [{\n            'v': 714,\n            'f': \"714\",\n        },\n{\n            'v': 1,\n            'f': \"1\",\n        },\n\"[CNN_Video] Campbell talks with her panel about the Obama administration's \\\"Cash for Clunkers\\\" car re.. http://digg.com/u19weA\",\n\"political\"],\n [{\n            'v': 1224,\n            'f': \"1224\",\n        },\n{\n            'v': 1,\n            'f': \"1\",\n        },\n\"To Sen. Jon Kyl: The country needs you to support the Senate health reform bill http://bit.ly/r2eoE #hc09 #AZ #85224\",\n\"political\"],\n [{\n            'v': 2033,\n            'f': \"2033\",\n        },\n{\n            'v': 0,\n            'f': \"0\",\n        },\n\" no interior de Sao Paulo no maior t\\u00c3\\u00a9dio... so PC e joga Xbox, \\u00c3\\u00a9 bom mas eu quero saaaaaaaaaaaaaaaaair pra da um roleeeeeeee\",\n\"non-political\"],\n [{\n            'v': 2266,\n            'f': \"2266\",\n        },\n{\n            'v': 0,\n            'f': \"0\",\n        },\n\"obinec soooo here's your @ reply, just a bit later than intended, haha. also i did a twitpic for you too, you should feel special! :P\",\n\"non-political\"],\n [{\n            'v': 2436,\n            'f': \"2436\",\n        },\n{\n            'v': 0,\n            'f': \"0\",\n        },\n\"ce you get it working Borderlands co-op is awesome fun! I love being the rocket man in the car. I BLOW UP YUR SHIT! BOOOOOM!\",\n\"non-political\"],\n [{\n            'v': 1516,\n            'f': \"1516\",\n        },\n{\n            'v': 1,\n            'f': \"1\",\n        },\n\"LIVE from Pittsburgh: Inslee urges netroots to help get Waxman/Markey through Senate: The first of today's after.. http://bit.ly/172V9M\",\n\"political\"],\n [{\n            'v': 2125,\n            'f': \"2125\",\n        },\n{\n            'v': 0,\n            'f': \"0\",\n        },\n\"alClimate: El Nino, Global Warming, and Anomalous U.S. Winter Warmth http://tinyurl.com/ydm4ot7\",\n\"non-political\"],\n [{\n            'v': 2380,\n            'f': \"2380\",\n        },\n{\n            'v': 0,\n            'f': \"0\",\n        },\n\"glilinis ako ng bahay baka sakali matuwa sakin si mommy. hahahaha!\",\n\"non-political\"],\n [{\n            'v': 395,\n            'f': \"395\",\n        },\n{\n            'v': 1,\n            'f': \"1\",\n        },\n\"There's spam on my blog (written by \\\"Barack Obama\\\") that's so entertaining, I'm considering publishing it. Except, of course, it's spam.\",\n\"political\"],\n [{\n            'v': 2182,\n            'f': \"2182\",\n        },\n{\n            'v': 0,\n            'f': \"0\",\n        },\n\" @pedroh96: Meu novo projeto: Customote - Rode comandos customizados pelo Apple Remote - http://bit.ly/2iNK9T (retwittem!)\",\n\"non-political\"],\n [{\n            'v': 698,\n            'f': \"698\",\n        },\n{\n            'v': 1,\n            'f': \"1\",\n        },\n\"Helpful tool to compare the House and Senate health care proposals. http://bit.ly/6bBzQG /via @nytimes -- that's no way to talk about Obama\",\n\"political\"],\n [{\n            'v': 1279,\n            'f': \"1279\",\n        },\n{\n            'v': 0,\n            'f': \"0\",\n        },\n\"e government says 90,000 ppl will die this winter season from the #swine\",\n\"non-political\"],\n [{\n            'v': 1099,\n            'f': \"1099\",\n        },\n{\n            'v': 1,\n            'f': \"1\",\n        },\n\"@fitzrogg treo phones was poppin when I had the 1st generation...then the economy started failing. lol.\",\n\"political\"],\n [{\n            'v': 1260,\n            'f': \"1260\",\n        },\n{\n            'v': 1,\n            'f': \"1\",\n        },\n\"Senate gets clean energy vehicle bill http://bit.ly/6JyJWA\",\n\"political\"],\n [{\n            'v': 1376,\n            'f': \"1376\",\n        },\n{\n            'v': 1,\n            'f': \"1\",\n        },\n\"PUBLISHED: White House Party Crashers Called to Testify Before Congress - Political Hotsheet - CBS News - http://is.gd/5814D\",\n\"political\"],\n [{\n            'v': 1405,\n            'f': \"1405\",\n        },\n{\n            'v': 1,\n            'f': \"1\",\n        },\n\"Government Proposes Limiting Restrictions and Fees on Gift Cards \\u00e2\\u20ac\\u201c The New American: OverTheLimit.info (blog) G.. http://bit.ly/11s51h\",\n\"political\"],\n [{\n            'v': 1394,\n            'f': \"1394\",\n        },\n{\n            'v': 1,\n            'f': \"1\",\n        },\n\"RT @OTOOLEFAN Government #hcr is so BAD that we only reserve it for our PARENTS, OUR VETERANS, OUR SOLDIERS NOW & OUR LAWMAKERS\",\n\"political\"],\n [{\n            'v': 3017,\n            'f': \"3017\",\n        },\n{\n            'v': 0,\n            'f': \"0\",\n        },\n\"u cannot trust God too much, nor trust yourself too little. Spurgeon\",\n\"non-political\"],\n [{\n            'v': 315,\n            'f': \"315\",\n        },\n{\n            'v': 1,\n            'f': \"1\",\n        },\n\"Conservative Bible Project- an effort to re-translate the bible by omitting passages seen as too liberal. http://bit.ly/31c8VM #theocracy\",\n\"political\"],\n [{\n            'v': 3188,\n            'f': \"3188\",\n        },\n{\n            'v': 0,\n            'f': \"0\",\n        },\n\"ama Loves the new album from Every Avenue\\\" #pictureperfect #pictureperfect #pictureperfect\",\n\"non-political\"],\n [{\n            'v': 1845,\n            'f': \"1845\",\n        },\n{\n            'v': 0,\n            'f': \"0\",\n        },\n\"thing to do on a Sunday morning @ 08:18am in front of my computer :/\",\n\"non-political\"],\n [{\n            'v': 1266,\n            'f': \"1266\",\n        },\n{\n            'v': 1,\n            'f': \"1\",\n        },\n\"Entergy CEO: EPA sending Congress message to act (AP) (http://cli.gs/Z5eNG) http://cli.gs/Z5eNG\",\n\"political\"],\n [{\n            'v': 1375,\n            'f': \"1375\",\n        },\n{\n            'v': 1,\n            'f': \"1\",\n        },\n\"Senate Health Bill Draws Fire on Both Sides - New York Times.. http://twit.ac/Yu6I\",\n\"political\"],\n [{\n            'v': 2770,\n            'f': \"2770\",\n        },\n{\n            'v': 0,\n            'f': \"0\",\n        },\n\" @soffe: Next 10 followers of @Soffe get a FREE Fan pack! ~ Already follow @Soffe? Will choose 5 who ReTweet to get one also\",\n\"non-political\"],\n [{\n            'v': 1362,\n            'f': \"1362\",\n        },\n{\n            'v': 1,\n            'f': \"1\",\n        },\n\"Senate Hearings on 'Don't Ask, Don't Tell' Postponed Indefinitely /Towleroad News #gay/ - U.S. Senate Armed ... http://tinyurl.com/yj76ke9\",\n\"political\"],\n [{\n            'v': 2186,\n            'f': \"2186\",\n        },\n{\n            'v': 0,\n            'f': \"0\",\n        },\n\"\\u0160\\u00e3\\u0081\\u00af\\u00e3\\u0081\\u00aa\\u00e3\\u0081\\u2020\\u00e2\\u20ac\\u00a6in\\u00e3\\u201a\\u00b3\\u00e3\\u201a\\u00bf\\u00e3\\u0192\\u201e\\u00e3\\u20ac\\u201a\\u00e3\\u0081\\u201a\\u00e3\\u0081\\u0081\\u00e3\\u20ac\\u0081\\u00e5\\u00ae\\u0152\\u00e7\\u2019\\u00a7\\u00e3\\u0081\\u00aa\\u00e3\\u201a\\u2039\\u00e5\\u00af\\u009d\\u00e8\\u0090\\u00bd\\u00e3\\u0081\\u00a1\\u00e3\\u0081\\u00a8\\u00e3\\u0081\\u00af\\u00e3\\u0081\\u201c\\u00e3\\u0081\\u00ae\\u00e4\\u00ba\\u2039\\u00e3\\u20ac\\u201a\",\n\"non-political\"],\n [{\n            'v': 720,\n            'f': \"720\",\n        },\n{\n            'v': 1,\n            'f': \"1\",\n        },\n\"Ahmadinejad Re-Election Doesn't Deter Obama From Engaging Iran - Bloomberg BBC NewsAhmadinejad Re-Election Doesn&.. http://short.to/fmu9\",\n\"political\"],\n [{\n            'v': 917,\n            'f': \"917\",\n        },\n{\n            'v': 1,\n            'f': \"1\",\n        },\n\"Obama Trumpets Stimulus in New Orleans: Separately, the White House Thursday released a report estimating that 3.. http://bit.ly/1eEYTN\",\n\"political\"],\n [{\n            'v': 343,\n            'f': \"343\",\n        },\n{\n            'v': 1,\n            'f': \"1\",\n        },\n\"Liberals continue to show their business savvy in Boycott of Whole Foods. WFMI stock hits 2009 high. http://bit.ly/MkKVg #tcot #fail\",\n\"political\"],\n [{\n            'v': 632,\n            'f': \"632\",\n        },\n{\n            'v': 1,\n            'f': \"1\",\n        },\n\"I have a way to stop obama and socialism everyone stop working\",\n\"political\"],\n [{\n            'v': 2443,\n            'f': \"2443\",\n        },\n{\n            'v': 0,\n            'f': \"0\",\n        },\n\"mtisdalex3 lol that good\",\n\"non-political\"],\n [{\n            'v': 1402,\n            'f': \"1402\",\n        },\n{\n            'v': 1,\n            'f': \"1\",\n        },\n\"RT @ChicagoDiane: RT @mike_elgan: Another insane press release from the North Korean government. http://bit.ly/MPOd Seems normal to me ;-)\",\n\"political\"],\n [{\n            'v': 1642,\n            'f': \"1642\",\n        },\n{\n            'v': 0,\n            'f': \"0\",\n        },\n\"xzerosetechaves 103\",\n\"non-political\"],\n [{\n            'v': 1390,\n            'f': \"1390\",\n        },\n{\n            'v': 1,\n            'f': \"1\",\n        },\n\"RT @Gbastidas: Hurt woman jornalist by Chavez Supporters in front Congress / FOTO => http://twitpic.com/drbmc #freemediave #PLOE\",\n\"political\"],\n [{\n            'v': 2098,\n            'f': \"2098\",\n        },\n{\n            'v': 0,\n            'f': \"0\",\n        },\n\"\\u00b4 saindo pro rol\\u00c3\\u00aa galera, esse vai ser bom ! SEGURA PE\\u00c3\\u0192O ! HAHA bem, pelo menos pra mim...\",\n\"non-political\"],\n [{\n            'v': 1352,\n            'f': \"1352\",\n        },\n{\n            'v': 0,\n            'f': \"0\",\n        },\n\"ere is a Video Out there where they KILL an Innocent Motor with a government brewed poison.. Sad waste #tcot Don't drink the..\",\n\"non-political\"],\n [{\n            'v': 2006,\n            'f': \"2006\",\n        },\n{\n            'v': 0,\n            'f': \"0\",\n        },\n\"ernandynhap2 Continuar doendo???\",\n\"non-political\"],\n [{\n            'v': 2364,\n            'f': \"2364\",\n        },\n{\n            'v': 0,\n            'f': \"0\",\n        },\n\"\\u008d\\u00e3\\u201a\\u2021\\u00e3\\u0081\\u2020\\u00e3\\u0081\\u00b9\\u00e3\\u201a\\u201c\\u00e3\\u20ac\\u201a\\u00e8\\u2022\\u00aa\\u00e3\\u0081\\u00ae\\u00e8\\u2018\\u2030\\u00e3\\u0081\\u00be\\u00e3\\u0081\\u0153\\u00e3\\u0081\\u201d\\u00e3\\u0081\\u00af\\u00e3\\u201a\\u201c\\u00e3\\u20ac\\u0081\\u00e8\\u0192\\u00a1\\u00e7\\u201c\\u0153\\u00e3\\u0192\\u00af\\u00e3\\u201a\\u00ab\\u00e3\\u0192\\u00a1\\u00e3\\u0081\\u00ae\\u00e3\\u201a\\u00b5\\u00e3\\u0192\\u00a9\\u00e3\\u0192\\u20ac\\u00e3\\u20ac\\u201a(\\u00e4\\u00b8\\u0160\\u00e6\\u00ae\\u00b5) http://yfrog.com/6ymbij\",\n\"non-political\"],\n [{\n            'v': 2565,\n            'f': \"2565\",\n        },\n{\n            'v': 0,\n            'f': \"0\",\n        },\n\" @GuyKawasaki: How to write a sticky blog post http://om.ly/YrOx\",\n\"non-political\"],\n [{\n            'v': 2245,\n            'f': \"2245\",\n        },\n{\n            'v': 0,\n            'f': \"0\",\n        },\n\"usemate insisted on watching X Factor. I got earwormed by Verdi's Dies Irae. Um. I don't think this is how it's meant to work?\",\n\"non-political\"],\n [{\n            'v': 1828,\n            'f': \"1828\",\n        },\n{\n            'v': 0,\n            'f': \"0\",\n        },\n\"iarMango woman you're crazy! you can partyyyyyy :)\",\n\"non-political\"],\n [{\n            'v': 2593,\n            'f': \"2593\",\n        },\n{\n            'v': 0,\n            'f': \"0\",\n        },\n\"eekjames You did it! 1000 followers! Congratulations!\",\n\"non-political\"],\n [{\n            'v': 275,\n            'f': \"275\",\n        },\n{\n            'v': 1,\n            'f': \"1\",\n        },\n\"So let me get this straight\\u00e2\\u20ac\\u00a6 Obama = Socialist AND Nazi? I think education reform better be next on the national agenda.\",\n\"political\"],\n [{\n            'v': 2629,\n            'f': \"2629\",\n        },\n{\n            'v': 0,\n            'f': \"0\",\n        },\n\"jknucklehead my friend cannot figure out the joke. lol i think it's funny though.\",\n\"non-political\"],\n [{\n            'v': 3162,\n            'f': \"3162\",\n        },\n{\n            'v': 0,\n            'f': \"0\",\n        },\n\"mcwild Well I was a bad gamer last night. I quit on a match because I was becoming \\\"that guy\\\". I am -10 in charisma in L4D to my friends.\",\n\"non-political\"],\n [{\n            'v': 2035,\n            'f': \"2035\",\n        },\n{\n            'v': 0,\n            'f': \"0\",\n        },\n\"morrow I'm taking the brother to the Coastal Carolina Fair. Anyone wanna join us?! Eliz can't go =\\\\\",\n\"non-political\"],\n [{\n            'v': 2612,\n            'f': \"2612\",\n        },\n{\n            'v': 0,\n            'f': \"0\",\n        },\n\"rrylcious http://twitpic.com/ff28e - you can have him lashawn and say what you want because i am not stalking you, nor can i care less. i\",\n\"non-political\"],\n [{\n            'v': 1183,\n            'f': \"1183\",\n        },\n{\n            'v': 1,\n            'f': \"1\",\n        },\n\"RT U.S. lacks troops in Afghanistan to outdo Taliban \\u00e2\\u20ac\\u201d Gates | HEADLINE BUNKER http://bit.ly/2YmnkU\",\n\"political\"],\n [{\n            'v': 2305,\n            'f': \"2305\",\n        },\n{\n            'v': 0,\n            'f': \"0\",\n        },\n\"st threw up . . layinq down prolly asleep.\",\n\"non-political\"],\n [{\n            'v': 1008,\n            'f': \"1008\",\n        },\n{\n            'v': 1,\n            'f': \"1\",\n        },\n\"@toddmarrone Her argument was that the economy was better under Bush- the only big change is the sitting President's stance on the issue.\",\n\"political\"],\n [{\n            'v': 1653,\n            'f': \"1653\",\n        },\n{\n            'v': 0,\n            'f': \"0\",\n        },\n\"ird round is better for Spina, he's more active, landing more and Del Valle sat back most of the round. 29-28 Spina\",\n\"non-political\"],\n [{\n            'v': 916,\n            'f': \"916\",\n        },\n{\n            'v': 1,\n            'f': \"1\",\n        },\n\"RT @beltain35: RT @SteveAudio: Attn. journalists, Tiger Woods is NOT important. Health care reform, Afghanistan & record jobless is. Ge ...\",\n\"political\"],\n [{\n            'v': 1318,\n            'f': \"1318\",\n        },\n{\n            'v': 1,\n            'f': \"1\",\n        },\n\":: The Republican Health Care Failure http://www.urbanonramps.com/?p=1639\",\n\"political\"],\n [{\n            'v': 1268,\n            'f': \"1268\",\n        },\n{\n            'v': 1,\n            'f': \"1\",\n        },\n\"Queensland government desperate with Traveston dam referral: The long-awaited \\\"referral\\\" of the proposed Tra.. http://bit.ly/3S6uhA\",\n\"political\"],\n [{\n            'v': 242,\n            'f': \"242\",\n        },\n{\n            'v': 1,\n            'f': \"1\",\n        },\n\"Repost! YOUR OBAMA AT WORK OBAMAS GLOBAL TAX! Progressives Back Obama Push for Global Tax! http://short.to/t6os\",\n\"political\"],\n [{\n            'v': 1563,\n            'f': \"1563\",\n        },\n{\n            'v': 1,\n            'f': \"1\",\n        },\n\"@sorokac it's not Drama, the senate was going to cancel the diabetes research fund, and hes there to help them not do that.\",\n\"political\"],\n [{\n            'v': 1589,\n            'f': \"1589\",\n        },\n{\n            'v': 1,\n            'f': \"1\",\n        },\n\"#wibudget Senate passes conference report 17-15 http://tr.im/pOXB\",\n\"political\"],\n [{\n            'v': 991,\n            'f': \"991\",\n        },\n{\n            'v': 1,\n            'f': \"1\",\n        },\n\"Franken Bones Up Ahead of Sotomayor Hearing: The newest member of the Senate Judiciary... http://bit.ly/TnOBn\",\n\"political\"],\n [{\n            'v': 2646,\n            'f': \"2646\",\n        },\n{\n            'v': 0,\n            'f': \"0\",\n        },\n\"hemarmybird Taylor and I are in love, and I have chiari!\",\n\"non-political\"],\n [{\n            'v': 667,\n            'f': \"667\",\n        },\n{\n            'v': 1,\n            'f': \"1\",\n        },\n\"Aw, man... should I file my Israeli taxes or go rogue, \\\"Palin style\\\"? http://bit.ly/VU56F #israel #aliyah #olehchadash #igoogledisrael\",\n\"political\"],\n [{\n            'v': 2311,\n            'f': \"2311\",\n        },\n{\n            'v': 0,\n            'f': \"0\",\n        },\n\" LOLI!\",\n\"non-political\"],\n [{\n            'v': 1191,\n            'f': \"1191\",\n        },\n{\n            'v': 0,\n            'f': \"0\",\n        },\n\"promised to update you with all the pics for the Abdali Ride (Kuwait/Iraq border) with HOG, here we go >> http://bit.ly/kELoZ (Nov13)\",\n\"non-political\"],\n [{\n            'v': 993,\n            'f': \"993\",\n        },\n{\n            'v': 1,\n            'f': \"1\",\n        },\n\"RT @Eduflack: RT @educationweek: #education Will There Be a 'Sotomayor Effect' on Latino Education? http://tr.im/vMEA\",\n\"political\"],\n [{\n            'v': 973,\n            'f': \"973\",\n        },\n{\n            'v': 1,\n            'f': \"1\",\n        },\n\"Love the job- this year, teaching journalism and 2 sections of 9th Literature for ESOL. Demoralized by economy. Please perk up soon!\",\n\"political\"],\n [{\n            'v': 882,\n            'f': \"882\",\n        },\n{\n            'v': 1,\n            'f': \"1\",\n        },\n\"UPI NewsTrack Business: German Economy Minister Karl-Theodor zu Guttenberg reportedly has said the two sides are.. http://bit.ly/F2HMN\",\n\"political\"],\n [{\n            'v': 2256,\n            'f': \"2256\",\n        },\n{\n            'v': 0,\n            'f': \"0\",\n        },\n\"an Costello Band - It's My Own Fault: http://blip.fm/~fqjtj via @addthis\",\n\"non-political\"],\n [{\n            'v': 1818,\n            'f': \"1818\",\n        },\n{\n            'v': 0,\n            'f': \"0\",\n        },\n\"out.com Italian Food: Most Popular Articles http://tinyurl.com/y9rmfh9\",\n\"non-political\"],\n [{\n            'v': 2683,\n            'f': \"2683\",\n        },\n{\n            'v': 0,\n            'f': \"0\",\n        },\n\"ly 3more hrs to go...Thank you Jesus!\",\n\"non-political\"],\n [{\n            'v': 206,\n            'f': \"206\",\n        },\n{\n            'v': 1,\n            'f': \"1\",\n        },\n\"RT @SoccerSealUSA \\\"The Day I Met Sarah Palin...and the Liberal Media\\\" http://bit.ly/31Iv7N #tcot #ocra #sgp #goingrogue #spwbt #tycot\",\n\"political\"],\n [{\n            'v': 2489,\n            'f': \"2489\",\n        },\n{\n            'v': 0,\n            'f': \"0\",\n        },\n\"am so sad that its is monday, and that halloween is over! but now I can start planning christmas! yay\",\n\"non-political\"],\n [{\n            'v': 2971,\n            'f': \"2971\",\n        },\n{\n            'v': 0,\n            'f': \"0\",\n        },\n\" na informatica com a @fee__carvalho , @ju__morgado ....\",\n\"non-political\"],\n [{\n            'v': 717,\n            'f': \"717\",\n        },\n{\n            'v': 1,\n            'f': \"1\",\n        },\n\"RT @electionsdotfm: White House News: Obama Makes the Case to Small Business http://bit.ly/iCZdN\",\n\"political\"],\n [{\n            'v': 1051,\n            'f': \"1051\",\n        },\n{\n            'v': 1,\n            'f': \"1\",\n        },\n\"RBA Raises Rates (source: Wall Street Journal): The Reserve Bank of Australia raised its cash ra... http://twurl.nl/1tzvvi #economy #stocks\",\n\"political\"],\n [{\n            'v': 2614,\n            'f': \"2614\",\n        },\n{\n            'v': 0,\n            'f': \"0\",\n        },\n\"uryduty remarkably like waiting at the airport. Maybe we should combine these activities to save everyone time.\",\n\"non-political\"],\n [{\n            'v': 228,\n            'f': \"228\",\n        },\n{\n            'v': 1,\n            'f': \"1\",\n        },\n\"Millionaire Filmmaker Michael Moore: \\u00e2\\u20ac\\u02dcCapitalism Did Nothing For Me\\u00e2\\u20ac\\u2122 I think He will hae a \\\"BIG ONE SOON!\\\" H1N1 #why Pepeng ...\",\n\"political\"],\n [{\n            'v': 1395,\n            'f': \"1395\",\n        },\n{\n            'v': 1,\n            'f': \"1\",\n        },\n\"There is one thing Republican and Democrate politicians agree on and that is: We have an Unsustainable Healthcare system.\",\n\"political\"],\n [{\n            'v': 2893,\n            'f': \"2893\",\n        },\n{\n            'v': 1,\n            'f': \"1\",\n        },\n\"RT @CNSNews_Com: Since April, 114 Children Have Died from H1N1 -- but 700,000 Have Died from Abortion http://ow.ly/15Z3dW\",\n\"political\"],\n [{\n            'v': 1578,\n            'f': \"1578\",\n        },\n{\n            'v': 1,\n            'f': \"1\",\n        },\n\"I agree with the lady from california, I am sixty six years old and for the first time in my life I am ashamed of our government.\",\n\"political\"],\n [{\n            'v': 2735,\n            'f': \"2735\",\n        },\n{\n            'v': 0,\n            'f': \"0\",\n        },\n\" @becks112 RT @PigsknLvngLady: 27 outs from winning their 27th championship. Who else baby, but the most hated and LOVED team in Americ..\",\n\"non-political\"],\n [{\n            'v': 1932,\n            'f': \"1932\",\n        },\n{\n            'v': 0,\n            'f': \"0\",\n        },\n\" @IdolStages: David Archuleta & Demi Lovato final show tonight! Atlantic City NJ http://bit.ly/qlIqY (via @AnnieDAFG)\",\n\"non-political\"],\n [{\n            'v': 2837,\n            'f': \"2837\",\n        },\n{\n            'v': 0,\n            'f': \"0\",\n        },\n\"atepatto well done!! congrats! i was going for him but didnt back him! my dads client owns the horse! and the horse is so beautiful!\",\n\"non-political\"],\n [{\n            'v': 1793,\n            'f': \"1793\",\n        },\n{\n            'v': 0,\n            'f': \"0\",\n        },\n\"d a pretty good time talking to the boys in Apt 132 at 3am. Now 2am cause of Daylight Savings. Met Jake & Matt. Hahaha.\",\n\"non-political\"],\n [{\n            'v': 2430,\n            'f': \"2430\",\n        },\n{\n            'v': 0,\n            'f': \"0\",\n        },\n\"\\u00d1\\u0081\\u00d0\\u00b5\\u00d0\\u00bc \\u00d0\\u00bf\\u00d1\\u20ac\\u00d0\\u00b8\\u00d0\\u00b2\\u00d0\\u00b5\\u00d1\\u201a) Hello\",\n\"non-political\"],\n [{\n            'v': 2867,\n            'f': \"2867\",\n        },\n{\n            'v': 0,\n            'f': \"0\",\n        },\n\"st like Obama himself, the Portuguese water dog Ted Kennedy gave... http://tinyurl.com/yhbr2y9\",\n\"non-political\"],\n [{\n            'v': 2096,\n            'f': \"2096\",\n        },\n{\n            'v': 0,\n            'f': \"0\",\n        },\n\"\\u00d0\\u00be\\u00d0\\u00b2\\u00d0\\u00be\\u00d1\\u20ac\\u00d0\\u00b8\\u00d0\\u00bb\\u00d0\\u00bd\\u00d1\\u008f \\u00d1\\u0081\\u00d0\\u00bf\\u00d0\\u00b0\\u00d0\\u00bc - \\u00d0\\u00a1\\u00d0\\u00bc\\u00d0\\u00b5\\u00d1\\u2026\\u00d1\\u0160\\u00d1\\u201a \\u00d0\\u00b5 \\u00d0\\u00b7\\u00d0\\u00b4\\u00d1\\u20ac\\u00d0\\u00b0\\u00d0\\u00b2\\u00d0\\u00b5 18+ - http://tinyurl.com/ydrt8e8\",\n\"non-political\"],\n [{\n            'v': 1693,\n            'f': \"1693\",\n        },\n{\n            'v': 0,\n            'f': \"0\",\n        },\n\"e Tulsa Run was hard work today. Tulsa has a LOT of hills(AKA:steep hills)! I'm grateful for great run partners though. Thanks Kim & John!\",\n\"non-political\"],\n [{\n            'v': 1473,\n            'f': \"1473\",\n        },\n{\n            'v': 1,\n            'f': \"1\",\n        },\n\"RT @PoliticalTicker: \\\"Senate Democrats assured of 60 votes to debate health bill \\\" - http://bit.ly/7LIEZL/ YES!!!! TAKE THAT REPUGLICANS!!!\",\n\"political\"],\n [{\n            'v': 179,\n            'f': \"179\",\n        },\n{\n            'v': 1,\n            'f': \"1\",\n        },\n\"The Constitutional Side Of The Health Care Reform Bill http://bit.ly/7HYZQZ #conservative #hcr #iamthemob #gop\",\n\"political\"],\n [{\n            'v': 2181,\n            'f': \"2181\",\n        },\n{\n            'v': 0,\n            'f': \"0\",\n        },\n\"just flipped over my desk because I was so pumped up from this Cities. Phish rage #f8 #phish #fest8\",\n\"non-political\"],\n [{\n            'v': 935,\n            'f': \"935\",\n        },\n{\n            'v': 1,\n            'f': \"1\",\n        },\n\"So that cash-for-clunkers, housing schemes, and other government stimulus programs ... Lemme get back to you on that. Can you hold?\",\n\"political\"],\n [{\n            'v': 896,\n            'f': \"896\",\n        },\n{\n            'v': 1,\n            'f': \"1\",\n        },\n\"Suicide car bomb kills three in western Iraq - Xinhua: Los Angeles TimesSuicide car bomb kills three in western .. http://bit.ly/XTq5y\",\n\"political\"],\n [{\n            'v': 2361,\n            'f': \"2361\",\n        },\n{\n            'v': 0,\n            'f': \"0\",\n        },\n\"enochus45 hahahahaha\",\n\"non-political\"],\n [{\n            'v': 2705,\n            'f': \"2705\",\n        },\n{\n            'v': 0,\n            'f': \"0\",\n        },\n\"need new ppl to follow, so NEW followers holla at me if im not following you back!!!\",\n\"non-political\"],\n [{\n            'v': 1237,\n            'f': \"1237\",\n        },\n{\n            'v': 1,\n            'f': \"1\",\n        },\n\"(NYT) Kennedy Confidant Is Expected to Take Senate Seat http://bit.ly/pWS5E\",\n\"political\"],\n [{\n            'v': 2520,\n            'f': \"2520\",\n        },\n{\n            'v': 0,\n            'f': \"0\",\n        },\n\" true! RT @StephCalahan: Everyone can have a balanced life. You just need to want it \\u00e2\\u20ac\\u00a6 and act to achieve it. -Mary Ellen Tribby\",\n\"non-political\"],\n [{\n            'v': 3068,\n            'f': \"3068\",\n        },\n{\n            'v': 1,\n            'f': \"1\",\n        },\n\"RT @JTANews IDF general: Hamas rockets can reach Tel Aviv http://bit.ly/20WRuc\",\n\"political\"],\n [{\n            'v': 2588,\n            'f': \"2588\",\n        },\n{\n            'v': 1,\n            'f': \"1\",\n        },\n\"@FreedomWorks Michele Bachmann has asked all who can to gather on Capitol Hill Thursday at noon to protest hc bill and visit members.\",\n\"political\"],\n [{\n            'v': 988,\n            'f': \"988\",\n        },\n{\n            'v': 0,\n            'f': \"0\",\n        },\n\"10 Honda CR-V Goes On Sale Today, Offers More Power and Better Fuel Economy: The 2010 Honda CR-V went on sal.. http://bit.ly/tGI71\",\n\"non-political\"],\n [{\n            'v': 1042,\n            'f': \"1042\",\n        },\n{\n            'v': 1,\n            'f': \"1\",\n        },\n\"U.S. government makes $4B profit on bailout loans to big banks http://bit.ly/jZ4eQ\",\n\"political\"],\n [{\n            'v': 1471,\n            'f': \"1471\",\n        },\n{\n            'v': 1,\n            'f': \"1\",\n        },\n\"RT @BarackObama: Health reform just took a huge step\\u00e2\\u20ac\\u201dbut insurance lobby wrkn hard 2 stp it. Urge Congress 2 pass reform: http://u.nu/6jhi3\",\n\"political\"],\n [{\n            'v': 1414,\n            'f': \"1414\",\n        },\n{\n            'v': 0,\n            'f': \"0\",\n        },\n\"S. government sets up app store: http://ow.ly/pF7O\",\n\"non-political\"],\n [{\n            'v': 2198,\n            'f': \"2198\",\n        },\n{\n            'v': 0,\n            'f': \"0\",\n        },\n\"s CS4 creative suit!!! Can't wait to use it :D\",\n\"non-political\"],\n [{\n            'v': 1559,\n            'f': \"1559\",\n        },\n{\n            'v': 0,\n            'f': \"0\",\n        },\n\"en it pays to buy used -- Government Computer News http://bit.ly/42aqEE\",\n\"non-political\"],\n [{\n            'v': 420,\n            'f': \"420\",\n        },\n{\n            'v': 1,\n            'f': \"1\",\n        },\n\"RT @wyclef: RT @Fun_All_Day: President Clinton, is meeting in Haiti's capitol 2 promote economic growth and jobs. Things are moving fo ...\",\n\"political\"],\n [{\n            'v': 1620,\n            'f': \"1620\",\n        },\n{\n            'v': 0,\n            'f': \"0\",\n        },\n\": @tplayfair Aaaah Mia...SMDH!>RT @therealmiamazin: RT: @gocharms @SimoneMarie \\u00e2\\u20ac\\u00a2wud PAY 2c alyuh & @tplayfair fight! \\u00e2\\u20ac\\u00a2 #justsaying! Lol\",\n\"non-political\"],\n [{\n            'v': 2813,\n            'f': \"2813\",\n        },\n{\n            'v': 0,\n            'f': \"0\",\n        },\n\"ash Pictures Creates New Online Sites with HushMoney.com: In an effort to make their entertaining lineup of f.. http://bit.ly/2hsqOi\",\n\"non-political\"],\n [{\n            'v': 493,\n            'f': \"493\",\n        },\n{\n            'v': 1,\n            'f': \"1\",\n        },\n\"RT @Supernola1: @jemelehill I wish I was Michelle Obama's jumpoff\",\n\"political\"],\n [{\n            'v': 2724,\n            'f': \"2724\",\n        },\n{\n            'v': 0,\n            'f': \"0\",\n        },\n\"ve to pay another fee for my motorcycle class\",\n\"non-political\"],\n [{\n            'v': 909,\n            'f': \"909\",\n        },\n{\n            'v': 0,\n            'f': \"0\",\n        },\n\"tching the new economy with my daddy. oh my god! i'm SUCH a slacker! OLIVIA, MOVE YOUR ASS! okay :)\",\n\"non-political\"],\n [{\n            'v': 3129,\n            'f': \"3129\",\n        },\n{\n            'v': 1,\n            'f': \"1\",\n        },\n\"RT @irishelection Exchequer figures out - deficit is \\u00e2\\u201a\\u00ac23bn http://is.gd/4M6XS Facing 2003 budget revenue. <-- Can we have 2003 prosperity?\",\n\"political\"],\n [{\n            'v': 1436,\n            'f': \"1436\",\n        },\n{\n            'v': 1,\n            'f': \"1\",\n        },\n\"@GarlandEHarris I didn't say that you were but Republican have signs saying that. It is possible. Then Black vote was more evenly split\",\n\"political\"],\n [{\n            'v': 1549,\n            'f': \"1549\",\n        },\n{\n            'v': 1,\n            'f': \"1\",\n        },\n\"UBS and US government reach deal over tax evasion dispute http://bit.ly/oDyiA\",\n\"political\"],\n [{\n            'v': 2796,\n            'f': \"2796\",\n        },\n{\n            'v': 0,\n            'f': \"0\",\n        },\n\": @ZonaBlackBerry: Tema Navidad para 8900 - Zona BlackBerry | Foro BlackBerry http://bit.ly/1PPgq9\",\n\"non-political\"],\n [{\n            'v': 1916,\n            'f': \"1916\",\n        },\n{\n            'v': 0,\n            'f': \"0\",\n        },\n\"ll, last night was a nightmare\",\n\"non-political\"],\n [{\n            'v': 711,\n            'f': \"711\",\n        },\n{\n            'v': 1,\n            'f': \"1\",\n        },\n\"People ask is Obama the Antichrist but are there lots of Antichrists? http://bit.ly/2nTUqV\",\n\"political\"],\n [{\n            'v': 3047,\n            'f': \"3047\",\n        },\n{\n            'v': 0,\n            'f': \"0\",\n        },\n\"wkwkwk,,,dah loakin aj dah,,lumayan buat jajan,,haha RT @Ichenluphicho: waah part nye aje dikasihin jg kagak ada yg sudi nerima awkawkawk\",\n\"non-political\"],\n [{\n            'v': 1611,\n            'f': \"1611\",\n        },\n{\n            'v': 0,\n            'f': \"0\",\n        },\n\"rianhornback LOL How did you guess?\",\n\"non-political\"],\n [{\n            'v': 469,\n            'f': \"469\",\n        },\n{\n            'v': 1,\n            'f': \"1\",\n        },\n\"I just took the \\\"Qual o seu n\\u00c3\\u00advel de ingl\\u00c3\\u00aas?\\\" quiz and got: Dou aulas pro Obama!! Try it \\u00e2\\u017e\\u00a4 http://bit.ly/qbHvw\",\n\"political\"],\n [{\n            'v': 2472,\n            'f': \"2472\",\n        },\n{\n            'v': 0,\n            'f': \"0\",\n        },\n\"ipex review by megabbott in Prescription Drugs: http://rateitall.com/i-2394883\",\n\"non-political\"],\n [{\n            'v': 655,\n            'f': \"655\",\n        },\n{\n            'v': 1,\n            'f': \"1\",\n        },\n\"Obama get lukewarm welcome from Russian media - http://bit.ly/zjuKv\",\n\"political\"],\n [{\n            'v': 1432,\n            'f': \"1432\",\n        },\n{\n            'v': 1,\n            'f': \"1\",\n        },\n\"RT @stoptheliberalsplease join the fight. we need everyone's help in fighting this travesty in the Senate! http://bit.ly/o0kxd #stln #tcot\",\n\"political\"],\n [{\n            'v': 1971,\n            'f': \"1971\",\n        },\n{\n            'v': 0,\n            'f': \"0\",\n        },\n\"OD MORNING my friends hope your night was great and you have a great day\",\n\"non-political\"],\n [{\n            'v': 1461,\n            'f': \"1461\",\n        },\n{\n            'v': 1,\n            'f': \"1\",\n        },\n\"U.S. Senate Considering Bill to Slow the Impacts of e-Waste: Photo via Rojer Could cradle-to-cradle design bec.. http://bit.ly/46pnPv\",\n\"political\"],\n [{\n            'v': 1302,\n            'f': \"1302\",\n        },\n{\n            'v': 1,\n            'f': \"1\",\n        },\n\"Congress rushing to try to save 'cash for clunkers' program: WASHINGTON \\u00e2\\u20ac\\u201d The House raced today to pass le.. http://bit.ly/2VNenW\",\n\"political\"],\n [{\n            'v': 706,\n            'f': \"706\",\n        },\n{\n            'v': 1,\n            'f': \"1\",\n        },\n\"Obama has ordered billions of dollars allocated to creating the \\\"Mark of Beast\\\" microchip we'll all soon have in America http://is.gd/2RkHb\",\n\"political\"],\n [{\n            'v': 2685,\n            'f': \"2685\",\n        },\n{\n            'v': 0,\n            'f': \"0\",\n        },\n\"f...you seek to control God through your obedience, then all your morality is just a way to use God...\\\" TK\",\n\"non-political\"],\n [{\n            'v': 2233,\n            'f': \"2233\",\n        },\n{\n            'v': 0,\n            'f': \"0\",\n        },\n\"ad it broke while you were still on the ground, lesser of evils. RT @mw55: Our plane broke. Thanks to Kurt Busch I'm headed home !\",\n\"non-political\"],\n [{\n            'v': 2229,\n            'f': \"2229\",\n        },\n{\n            'v': 0,\n            'f': \"0\",\n        },\n\"te qet a tattoo that says E.B on my hip on friday . [ Earl Benjamin ] for @benjnewboyz and C.S for myy Aunt .x3\",\n\"non-political\"],\n [{\n            'v': 2589,\n            'f': \"2589\",\n        },\n{\n            'v': 0,\n            'f': \"0\",\n        },\n\"ew! Yoga kicked my booty today! Feel great for a Monday morning though! Time to work!\",\n\"non-political\"],\n [{\n            'v': 1411,\n            'f': \"1411\",\n        },\n{\n            'v': 1,\n            'f': \"1\",\n        },\n\"MSP said the Comelec appears to have delisted only those organizations that were highly critical of the Arroyo government. http://ow.ly/DyeO\",\n\"political\"],\n [{\n            'v': 2279,\n            'f': \"2279\",\n        },\n{\n            'v': 0,\n            'f': \"0\",\n        },\n\"hate people.\",\n\"non-political\"],\n [{\n            'v': 2189,\n            'f': \"2189\",\n        },\n{\n            'v': 0,\n            'f': \"0\",\n        },\n\"\\u2020\\u00e3\\u0081\\u02c6\\u00e3\\u0081\\u02c6\\u00e3\\u0081\\u02c6\\u00e3\\u0081\\u02c6\\u00e3\\u0081\\u02c6\\u00e3\\u0081\\u02c66\\u00e6\\u2122\\u201a\\u00ef\\u00bc\\u0081\\u00ef\\u00bc\\u0178\\u00e3\\u201a\\u008d\\u00e3\\u0081\\u008f\\u00e3\\u0081\\u02dc\\u00ef\\u00bc\\u0081\",\n\"non-political\"],\n [{\n            'v': 805,\n            'f': \"805\",\n        },\n{\n            'v': 1,\n            'f': \"1\",\n        },\n\"RT @huffingtonpost Obama Authorizes 13,000 More Troops For Afghanistan War http://retwt.me/SfDR\",\n\"political\"],\n [{\n            'v': 471,\n            'f': \"471\",\n        },\n{\n            'v': 1,\n            'f': \"1\",\n        },\n\"Brasil acompanha poss\\u00c3\\u00advel entrada de Obama em corrida por 2016: RIO (Reuters) - A poss\\u00c3\\u00advel entrada do pr.. http://bit.ly/E3UZL\",\n\"political\"],\n [{\n            'v': 2194,\n            'f': \"2194\",\n        },\n{\n            'v': 0,\n            'f': \"0\",\n        },\n\"at used to mark victims of the Holocaust is now painted on a military tank at a checkpoint to prevent human movement. http://ow.ly/i/5MI\",\n\"non-political\"],\n [{\n            'v': 995,\n            'f': \"995\",\n        },\n{\n            'v': 1,\n            'f': \"1\",\n        },\n\"Saudi Oil: A Weapon Against Iran http://bit.ly/kYADk #Oil #Iran #IranElection #politics #nuclear #Saudi #Economy (via @RealClearWorld)\",\n\"political\"],\n [{\n            'v': 2918,\n            'f': \"2918\",\n        },\n{\n            'v': 0,\n            'f': \"0\",\n        },\n\"l work and no play makes Jack a dull boy\",\n\"non-political\"],\n [{\n            'v': 736,\n            'f': \"736\",\n        },\n{\n            'v': 1,\n            'f': \"1\",\n        },\n\"Why Sarah Palin should not leave the ... - Hot Air http://bit.ly/2DlkZr\",\n\"political\"],\n [{\n            'v': 1089,\n            'f': \"1089\",\n        },\n{\n            'v': 1,\n            'f': \"1\",\n        },\n\"Obama is going to cause all homeowners to be taxed to death and lose their homes with stimulus packages people ...cont.\",\n\"political\"],\n [{\n            'v': 1356,\n            'f': \"1356\",\n        },\n{\n            'v': 1,\n            'f': \"1\",\n        },\n\"RT @BooksMoore Who the fuck constituted this Senate Finance Committee anyway? It does not remotely resemble our election results.\",\n\"political\"],\n [{\n            'v': 1588,\n            'f': \"1588\",\n        },\n{\n            'v': 1,\n            'f': \"1\",\n        },\n\"RT @vlkun Did you know Ted Kennedy was the first Senator to have a web site? (before senate.gov existed!) http://bit.ly/11VYbW\",\n\"political\"],\n [{\n            'v': 263,\n            'f': \"263\",\n        },\n{\n            'v': 1,\n            'f': \"1\",\n        },\n\"Citizens are Revolting againt the liberal washington 7 months of failure and attempt at dictatorship to the rest of the population WAKEUP\",\n\"political\"],\n [{\n            'v': 994,\n            'f': \"994\",\n        },\n{\n            'v': 1,\n            'f': \"1\",\n        },\n\"Obama to banks: 'Rebuild our economy' http://bit.ly/7enu0Q #cnnmoney\",\n\"political\"],\n [{\n            'v': 2969,\n            'f': \"2969\",\n        },\n{\n            'v': 0,\n            'f': \"0\",\n        },\n\" @PRBristolblog: RT @lyndoman: way social media set up, few people have the balls to be critical. Everyone terrified of losing followers\",\n\"non-political\"],\n [{\n            'v': 541,\n            'f': \"541\",\n        },\n{\n            'v': 1,\n            'f': \"1\",\n        },\n\"Direct message!?! Via tweeter??? LOL RT @cnnbrk: Sources confirm Obama sent a direct message to Iranian leader http://bit.ly/1WjSwB\",\n\"political\"],\n [{\n            'v': 2014,\n            'f': \"2014\",\n        },\n{\n            'v': 0,\n            'f': \"0\",\n        },\n\" I want a Bacon Cheeseburger From wendys ! >:O\",\n\"non-political\"],\n [{\n            'v': 558,\n            'f': \"558\",\n        },\n{\n            'v': 0,\n            'f': \"0\",\n        },\n\"gg: Leno Told Similar Joke About Palin's Daughter http://tinyurl.com/mp535m\",\n\"non-political\"],\n [{\n            'v': 1295,\n            'f': \"1295\",\n        },\n{\n            'v': 1,\n            'f': \"1\",\n        },\n\"Urge members of Congress and senators to pass a global warming bill. http://bit.ly/J4ZOF\",\n\"political\"],\n [{\n            'v': 208,\n            'f': \"208\",\n        },\n{\n            'v': 1,\n            'f': \"1\",\n        },\n\"RT @pwire: GOP congressman says he wants to hunt liberal Democrats... http://pwire.us/F2 #p2\",\n\"political\"],\n [{\n            'v': 1913,\n            'f': \"1913\",\n        },\n{\n            'v': 0,\n            'f': \"0\",\n        },\n\"dibow loved your show keeps me sane with my two little ones!\",\n\"non-political\"],\n [{\n            'v': 1203,\n            'f': \"1203\",\n        },\n{\n            'v': 1,\n            'f': \"1\",\n        },\n\"Heh. RT @michellemalkin: #teaparty sign of the week: \\\"Reduce your government footprint\\\" - http://bit.ly/15J1kA #handsoff #capandtax\",\n\"political\"],\n [{\n            'v': 2466,\n            'f': \"2466\",\n        },\n{\n            'v': 0,\n            'f': \"0\",\n        },\n\"incsem1874 @sidfernando there does seem to be some relenting. I fear zenyatta won't get any East Coast votes, though\",\n\"non-political\"],\n [{\n            'v': 601,\n            'f': \"601\",\n        },\n{\n            'v': 1,\n            'f': \"1\",\n        },\n\"STAD UP AND SAY NO TO THIS STUPID OBAMA HEALTH CARE\",\n\"political\"],\n [{\n            'v': 597,\n            'f': \"597\",\n        },\n{\n            'v': 1,\n            'f': \"1\",\n        },\n\"Rede vor der Uno: Obama warnt vor Klimakatastrophe http://bit.ly/pQiei\",\n\"political\"],\n [{\n            'v': 72,\n            'f': \"72\",\n        },\n{\n            'v': 1,\n            'f': \"1\",\n        },\n\"RT @southsalem O holding yr life/lives of loved ones in Chicago socialist Rationing/Death Panel Hands - No time 2 B Polite #JoeWilson #tcot\",\n\"political\"],\n [{\n            'v': 2283,\n            'f': \"2283\",\n        },\n{\n            'v': 0,\n            'f': \"0\",\n        },\n\"wirlgrrrl Yep. I used the Aplix on the book bag too. And snaps. Gawd. I have 150 nappies here to snap. #FML\",\n\"non-political\"],\n [{\n            'v': 383,\n            'f': \"383\",\n        },\n{\n            'v': 1,\n            'f': \"1\",\n        },\n\"Iran's President Rails Against Capitalism http://bit.ly/2LnprN\",\n\"political\"],\n [{\n            'v': 895,\n            'f': \"895\",\n        },\n{\n            'v': 1,\n            'f': \"1\",\n        },\n\"Sadly..we can't get Cha for Tea on a daily basis anymore..stupid economy raise already so I can get some boba!!...and clothes and charity...\",\n\"political\"],\n [{\n            'v': 1527,\n            'f': \"1527\",\n        },\n{\n            'v': 1,\n            'f': \"1\",\n        },\n\"#justcause u work for the government doesn't mean shit. Bitch u don know obama personally\",\n\"political\"],\n [{\n            'v': 574,\n            'f': \"574\",\n        },\n{\n            'v': 1,\n            'f': \"1\",\n        },\n\"Biofuel development a burning priority for Obama camp -- chicagotribune.com http://bit.ly/8CzLK\",\n\"political\"],\n [{\n            'v': 860,\n            'f': \"860\",\n        },\n{\n            'v': 1,\n            'f': \"1\",\n        },\n\"Photo: Get yourself a Recession iPhone Case! It\\u00e2\\u20ac\\u2122s been a tough economy for a while now, so why not buy a... http://tumblr.com/xlc32bepv\",\n\"political\"],\n [{\n            'v': 3049,\n            'f': \"3049\",\n        },\n{\n            'v': 0,\n            'f': \"0\",\n        },\n\"ANIdotCOM lmao I am not cuff master flex shut up. You work today?\",\n\"non-political\"],\n [{\n            'v': 1820,\n            'f': \"1820\",\n        },\n{\n            'v': 0,\n            'f': \"0\",\n        },\n\"\\u20ac\\u00e0\\u00b8\\u203a\\u00e0\\u00b8\\u00b4\\u00e0\\u00b8\\u201d twit \\u00e0\\u00b8\\u2022\\u00e0\\u00b8\\u00b4\\u00e0\\u00b8\\u201d\\u00e0\\u00b8\\u2022\\u00e0\\u00b8\\u00b2\\u00e0\\u00b8\\u00a1\\u00e0\\u00b8\\u201a\\u00e0\\u00b9\\u02c6\\u00e0\\u00b8\\u00b2\\u00e0\\u00b8\\u00a7\\u00e0\\u00b8\\u00aa\\u00e0\\u00b8\\u00b2\\u00e0\\u00b8\\u00a3\\u00e0\\u00b8\\u203a\\u00e0\\u00b8\\u00a3\\u00e0\\u00b8\\u00b0\\u00e0\\u00b8\\u02c6\\u00e0\\u00b8\\u00b3\\u00e0\\u00b8\\u00a7\\u00e0\\u00b8\\u00b1\\u00e0\\u00b8\\u2122\\u00e0\\u00b8\\u00ab\\u00e0\\u00b8\\u00a2\\u00e0\\u00b8\\u00b8\\u00e0\\u00b8\\u201d ^_^\",\n\"non-political\"],\n [{\n            'v': 1711,\n            'f': \"1711\",\n        },\n{\n            'v': 0,\n            'f': \"0\",\n        },\n\"hollings i want to be together. lets work it out ok. lets be a family again. it's okay. I promise.\",\n\"non-political\"],\n [{\n            'v': 2694,\n            'f': \"2694\",\n        },\n{\n            'v': 0,\n            'f': \"0\",\n        },\n\"ove to get some Cholies Pizza and realized my Solange CD is M.I.A!!!!!\",\n\"non-political\"],\n [{\n            'v': 2101,\n            'f': \"2101\",\n        },\n{\n            'v': 0,\n            'f': \"0\",\n        },\n\"e top of my hair is blonde and the bottom is black :) i love it so much. now my family's here for a belated pat's birthday celebration.\",\n\"non-political\"],\n [{\n            'v': 2277,\n            'f': \"2277\",\n        },\n{\n            'v': 0,\n            'f': \"0\",\n        },\n\"ST BDAY EVER!\",\n\"non-political\"],\n [{\n            'v': 613,\n            'f': \"613\",\n        },\n{\n            'v': 1,\n            'f': \"1\",\n        },\n\"@whitehouse RTPres.Obama\\\"We call on the Iranian govt.to stop violent & unjust actions against its people\\\" #Iranelection, #Tehran, #goodnight\",\n\"political\"],\n [{\n            'v': 2808,\n            'f': \"2808\",\n        },\n{\n            'v': 0,\n            'f': \"0\",\n        },\n\"mos 2 *-* RT @betynha: Ai gente... depois da tuitada da @officialpausini n\\u00c3\\u00a3o vou deixar de ver o Grammy Latino na quinta! /o/\",\n\"non-political\"],\n [{\n            'v': 431,\n            'f': \"431\",\n        },\n{\n            'v': 1,\n            'f': \"1\",\n        },\n\"Times: Obama's Miami fundraiser nets $1.5 million http://bit.ly/2fU8HH #sayfie\",\n\"political\"],\n [{\n            'v': 1379,\n            'f': \"1379\",\n        },\n{\n            'v': 1,\n            'f': \"1\",\n        },\n\"[Tweets]: Government takeover of MRT 3 will not increase fare, management assures http://bit.ly/7483W\",\n\"political\"],\n [{\n            'v': 299,\n            'f': \"299\",\n        },\n{\n            'v': 1,\n            'f': \"1\",\n        },\n\"@carney on CNBC calls the push for home ownership \\\"the most toxic ideology since the fall of communism\\\" (via @antderosa) -- I did say that!\",\n\"political\"],\n [{\n            'v': 1117,\n            'f': \"1117\",\n        },\n{\n            'v': 0,\n            'f': \"0\",\n        },\n\" @tmarketinglady Join me LIVE on my Marketing in A Tough Economy show on #BlogTalkRadio at http://tobtr.com/s/704765 or call (646) 478-05\",\n\"non-political\"],\n [{\n            'v': 1445,\n            'f': \"1445\",\n        },\n{\n            'v': 0,\n            'f': \"0\",\n        },\n\"w post: Event Alert: 16th ITS World Congress \\u00e2\\u20ac\\u201d Sept 21-25, 2009 @ Stockholm, Sweden - http://tinyurl.com/llbqyd\",\n\"non-political\"],\n [{\n            'v': 417,\n            'f': \"417\",\n        },\n{\n            'v': 0,\n            'f': \"0\",\n        },\n\" you were to sing \\\"Rock me Amadeus\\\" with \\\"ba ba ba\\\" backing singers, you would be singing \\\"Barack Obama\\\" if you got the timing right.\",\n\"non-political\"],\n [{\n            'v': 368,\n            'f': \"368\",\n        },\n{\n            'v': 0,\n            'f': \"0\",\n        },\n\" @anarchists: The Peltier Story video from first hand witnesses http://bit.ly/OOHTM make your own mind #indigenous\",\n\"non-political\"],\n [{\n            'v': 646,\n            'f': \"646\",\n        },\n{\n            'v': 1,\n            'f': \"1\",\n        },\n\"After Obama: The anxiety is about an extremist minority. The recent arrest of a group of young Americans who so.. http://bit.ly/1cQLyL\",\n\"political\"],\n [{\n            'v': 2716,\n            'f': \"2716\",\n        },\n{\n            'v': 0,\n            'f': \"0\",\n        },\n\"r Waterloo Road Clip of the Week (2/11/2009) http://bit.ly/3i4c9P\",\n\"non-political\"],\n [{\n            'v': 2316,\n            'f': \"2316\",\n        },\n{\n            'v': 0,\n            'f': \"0\",\n        },\n\"egendaryMe lmao @ grass ass I need to twit u everytime I get high lol. Ps stop pickin on me on my fb status too :)\",\n\"non-political\"],\n [{\n            'v': 236,\n            'f': \"236\",\n        },\n{\n            'v': 0,\n            'f': \"0\",\n        },\n\"rprise! Apparently a logo on the new 2010 Olympic apparel resembles the Conservative Party logo RT @ctvbc: http://bit.ly/LwLah\",\n\"non-political\"],\n [{\n            'v': 728,\n            'f': \"728\",\n        },\n{\n            'v': 1,\n            'f': \"1\",\n        },\n\"Want to know where Obama has eaten in the DC Metro area? http://tr.im/qw3Z #obama (via @washingtonpost)\",\n\"political\"],\n [{\n            'v': 949,\n            'f': \"949\",\n        },\n{\n            'v': 1,\n            'f': \"1\",\n        },\n\"@Jack_Scott Well, his opposition to the Iraq war for one. Most of what he was saying in '83 remains valid - many of his ideas haven't yet...\",\n\"political\"],\n [{\n            'v': 2922,\n            'f': \"2922\",\n        },\n{\n            'v': 0,\n            'f': \"0\",\n        },\n\" @graciasno: Pens\\u00c3\\u00a9 que se me hab\\u00c3\\u00ada desprendido la retina, pero no, solo es el nuevo avatar de @luisricardu << \\u00c2\\u00a1Funciona!\",\n\"non-political\"],\n [{\n            'v': 310,\n            'f': \"310\",\n        },\n{\n            'v': 0,\n            'f': \"0\",\n        },\n\"rking on my speech for the NFRA convention in Reno this Saturday. Topic is Christianity and the origins of capitalism. #fb\",\n\"non-political\"],\n [{\n            'v': 2968,\n            'f': \"2968\",\n        },\n{\n            'v': 0,\n            'f': \"0\",\n        },\n\" @sheydajahanbin: \\u00d8\\u00aa\\u00d9\\u2021\\u00d8\\u00af\\u00db\\u0152\\u00d8\\u00af\\u00d9\\u2021\\u00d8\\u00a7 \\u00d8\\u00a8\\u00d9\\u2021 \\u00d8\\u00ac\\u00d8\\u00a7\\u00db\\u0152\\u00db\\u0152 \\u00d9\\u2020\\u00d9\\u2026\\u00db\\u0152\\u00d8\\u00b1\\u00d8\\u00b3\\u00d8\\u00af\\u00d8\\u0152 \\u00d8\\u00ad\\u00d8\\u00b6\\u00d9\\u02c6\\u00d8\\u00b1 \\u00d9\\u2026\\u00d8\\u00b1\\u00d8\\u00af\\u00d9\\u2026 \\u00d9\\u201a\\u00d8\\u00b7\\u00d8\\u00b9\\u00db\\u0152 \\u00d8\\u00a7\\u00d8\\u00b3\\u00d8\\u00aa | \\u00d8\\u00b4\\u00db\\u0152\\u00d8\\u00af\\u00d8\\u00a7 \\u00d8\\u00ac\\u00d9\\u2021\\u00d8\\u00a7\\u00d9\\u2020\\u00d8\\u00a8\\u00db\\u0152\\u00d9\\u2020 http://ff.im/aUDEz #iranelection #iran\",\n\"non-political\"],\n [{\n            'v': 2442,\n            'f': \"2442\",\n        },\n{\n            'v': 0,\n            'f': \"0\",\n        },\n\"e design I love... from Norway: http://www.bleed.no/ great website and identity (via @Heuserkampf)\",\n\"non-political\"],\n [{\n            'v': 2757,\n            'f': \"2757\",\n        },\n{\n            'v': 0,\n            'f': \"0\",\n        },\n\"he_Darth_Vader And just because she is your wife doesn't mean she is never at fault.\",\n\"non-political\"],\n [{\n            'v': 3109,\n            'f': \"3109\",\n        },\n{\n            'v': 0,\n            'f': \"0\",\n        },\n\"nths later+it still makes me smile 2remember when my Mom called my pink blackberry a raspberry! I think she did so on purpose which rocks!\",\n\"non-political\"],\n [{\n            'v': 2475,\n            'f': \"2475\",\n        },\n{\n            'v': 0,\n            'f': \"0\",\n        },\n\"ubasheshines suba can you send me the picture of me and tyson? pleaseeee and thank you! love\",\n\"non-political\"],\n [{\n            'v': 1103,\n            'f': \"1103\",\n        },\n{\n            'v': 1,\n            'f': \"1\",\n        },\n\"RT @Parsa_SH Open Letter to President Obama on Camp #Ashraf http://bit.ly/159I01 #iraq #iran #humanrights\",\n\"political\"],\n [{\n            'v': 2632,\n            'f': \"2632\",\n        },\n{\n            'v': 0,\n            'f': \"0\",\n        },\n\"risMcBrain haha, ae taco uns hooks in you\",\n\"non-political\"],\n [{\n            'v': 2413,\n            'f': \"2413\",\n        },\n{\n            'v': 0,\n            'f': \"0\",\n        },\n\"ocolom \\u00e3\\u0081\\u009d\\u00e3\\u0081\\u2020\\u00e3\\u0081\\u201e\\u00e3\\u0081\\u02c6\\u00e3\\u0081\\u00b0\\u00e3\\u0081\\u00ad\\u00e4\\u00bb\\u0160\\u00e6\\u2014\\u00a5\\u00e3\\u0081\\u00aa\\u00e3\\u201a\\u201c\\u00e3\\u0081\\u00a8\\u00e3\\u0081\\u00aa\\u00e3\\u0081\\u008f\\u00e3\\u0192\\u00a9\\u00e3\\u0192\\u00bc\\u00e3\\u0192\\u00a1\\u00e3\\u0192\\u00b3\\u00e5\\u00b1\\u2039\\u00e3\\u0081\\u00ab\\u00e5\\u2026\\u00a5\\u00e3\\u0081\\u00a3\\u00e3\\u0081\\u0178\\u00e3\\u201a\\u2030\\u00e6\\u2122\\u00ae\\u00e9\\u20ac\\u0161\\u00e3\\u0081\\u00ab\\u00e8\\u00b1\\u0161\\u00e3\\u0081\\u00ae\\u00e9\\u00a4\\u0152\\u00e3\\u0081\\u00a0\\u00e3\\u0081\\u2022\\u00e3\\u201a\\u0152\\u00e3\\u0081\\u00a6\\u00e3\\u0081\\u00b3\\u00e3\\u0081\\u00a3\\u00e3\\u0081\\u008f\\u00e3\\u201a\\u0160\\u00e3\\u0081\\u2014\\u00e3\\u0081\\u0178\\u00e3\\u0081\\u00ad \\u00e3\\u0081\\u00be\\u00e3\\u0081\\u0161\\u00e3\\u0081\\u008f\\u00e3\\u0081\\u00af\\u00e3\\u0081\\u00aa\\u00e3\\u0081\\u2039\\u00e3\\u0081\\u00a3\\u00e3\\u0081\\u0178\",\n\"non-political\"],\n [{\n            'v': 86,\n            'f': \"86\",\n        },\n{\n            'v': 1,\n            'f': \"1\",\n        },\n\"Liberals are stupid and you can't fix stupid!\",\n\"political\"],\n [{\n            'v': 2345,\n            'f': \"2345\",\n        },\n{\n            'v': 0,\n            'f': \"0\",\n        },\n\"lxi Review Blog \\u00c2\\u00bb Blog Archive \\u00c2\\u00bb Where You can Enjoy Online Casinos http://cli.gs/YVUQU\",\n\"non-political\"],\n [{\n            'v': 2895,\n            'f': \"2895\",\n        },\n{\n            'v': 0,\n            'f': \"0\",\n        },\n\"riglandorf pshh bitch please i gt a Lexus hahaha\",\n\"non-political\"],\n [{\n            'v': 1459,\n            'f': \"1459\",\n        },\n{\n            'v': 1,\n            'f': \"1\",\n        },\n\"Korean government plans to increase its spending by 2.5 percent next year to finance more research and development (R&D)\",\n\"political\"],\n [{\n            'v': 3100,\n            'f': \"3100\",\n        },\n{\n            'v': 0,\n            'f': \"0\",\n        },\n\" @CrossLifeVero: The will of God for the believer is never guilt-motivated but God motivated.... Christ at work in you the hope of Glory.\",\n\"non-political\"],\n [{\n            'v': 2663,\n            'f': \"2663\",\n        },\n{\n            'v': 0,\n            'f': \"0\",\n        },\n\"upernova111 ahh feel better! i woke up at 3AM to a throat on fire and slept through my first two classes today. :/\",\n\"non-political\"],\n [{\n            'v': 3055,\n            'f': \"3055\",\n        },\n{\n            'v': 0,\n            'f': \"0\",\n        },\n\" @sullivanbc: @seacoastcrepes if you can get through the red tape, we'd love to have you in #portsmouthnh {I second that! Good luck!}\",\n\"non-political\"],\n [{\n            'v': 547,\n            'f': \"547\",\n        },\n{\n            'v': 1,\n            'f': \"1\",\n        },\n\"RT @bludworth RT @LasVegasSun: Poll: Either GOP challenger could topple Harry Reid http://bit.ly/tgMVL\",\n\"political\"],\n [{\n            'v': 104,\n            'f': \"104\",\n        },\n{\n            'v': 0,\n            'f': \"0\",\n        },\n\"en I've had a stupid day, I should get a free back rub. I guess that makes me a socialist!\",\n\"non-political\"],\n [{\n            'v': 1703,\n            'f': \"1703\",\n        },\n{\n            'v': 0,\n            'f': \"0\",\n        },\n\"vanLopp definately!! lah! not much just passing out candy and such....how ya' doin?\",\n\"non-political\"],\n [{\n            'v': 1727,\n            'f': \"1727\",\n        },\n{\n            'v': 0,\n            'f': \"0\",\n        },\n\"stening to \\\"Paul McCartney - Nineteen Hundred And Eighty Five\\\" \\u00e2\\u2122\\u00ab http://blip.fm/~fp50n\",\n\"non-political\"],\n [{\n            'v': 257,\n            'f': \"257\",\n        },\n{\n            'v': 1,\n            'f': \"1\",\n        },\n\"@irasocol Apparently, the idea that the education of our youth is a shared community responsibility is one small step from socialism.\",\n\"political\"],\n [{\n            'v': 351,\n            'f': \"351\",\n        },\n{\n            'v': 1,\n            'f': \"1\",\n        },\n\"Brilliant summary. RT @BernardKeane: At The Stump: the Liberals and their singular ineptitude at leadership: http://bit.ly/7v35uL\",\n\"political\"],\n [{\n            'v': 2211,\n            'f': \"2211\",\n        },\n{\n            'v': 0,\n            'f': \"0\",\n        },\n\"it Amigurumi Sea Creatures http://bit.ly/3u7qGt\",\n\"non-political\"],\n [{\n            'v': 565,\n            'f': \"565\",\n        },\n{\n            'v': 1,\n            'f': \"1\",\n        },\n\"IRS halts inquiry into Warroad pastor who endorsed McCain from pulpit http://bit.ly/2yCJ7R Fremont Tax Prep\",\n\"political\"],\n [{\n            'v': 3027,\n            'f': \"3027\",\n        },\n{\n            'v': 0,\n            'f': \"0\",\n        },\n\"areKnuckleDawg you gone walkabout??\",\n\"non-political\"],\n [{\n            'v': 2647,\n            'f': \"2647\",\n        },\n{\n            'v': 0,\n            'f': \"0\",\n        },\n\"fordable vitamins and multivitamins are custom made for you only:Info@ http://bit.ly/idealH #6220206\",\n\"non-political\"],\n [{\n            'v': 1673,\n            'f': \"1673\",\n        },\n{\n            'v': 0,\n            'f': \"0\",\n        },\n\"isteningto david cook - always be my baby\",\n\"non-political\"],\n [{\n            'v': 112,\n            'f': \"112\",\n        },\n{\n            'v': 1,\n            'f': \"1\",\n        },\n\"@ohjaycee haha are all your subs on marxism and communism?\",\n\"political\"],\n [{\n            'v': 1733,\n            'f': \"1733\",\n        },\n{\n            'v': 0,\n            'f': \"0\",\n        },\n\"\\u00a9\\u00e3\\u0081\\u201e\\u00e3\\u0081\\u00a6\\u00e6\\u2013\\u00b0\\u00e5\\u00ae\\u00bf\\u00e3\\u0081\\u00aa\\u00e3\\u0081\\u2020\\u00e3\\u20ac\\u201a http://twitpic.com/ntyl6\",\n\"non-political\"],\n [{\n            'v': 878,\n            'f': \"878\",\n        },\n{\n            'v': 1,\n            'f': \"1\",\n        },\n\"Rudy: stimulus money favoring Dem districts [http://tinyurl.com/na879k]\",\n\"political\"],\n [{\n            'v': 626,\n            'f': \"626\",\n        },\n{\n            'v': 1,\n            'f': \"1\",\n        },\n\"Obama's no fun for political comedians... http://bit.ly/JeRz0\",\n\"political\"],\n [{\n            'v': 501,\n            'f': \"501\",\n        },\n{\n            'v': 1,\n            'f': \"1\",\n        },\n\"Obama snubs Bush, and recognizes helen Thomas in a big way. http://bit.ly/UyMEB via @addthis\",\n\"political\"],\n [{\n            'v': 2609,\n            'f': \"2609\",\n        },\n{\n            'v': 0,\n            'f': \"0\",\n        },\n\"gger the thief you are, lesser chances of being abused ..\",\n\"non-political\"],\n [{\n            'v': 799,\n            'f': \"799\",\n        },\n{\n            'v': 1,\n            'f': \"1\",\n        },\n\"@USACBI boycott Canada USA IRAQ IRAN and the whole world dear ... #israel\",\n\"political\"],\n [{\n            'v': 2580,\n            'f': \"2580\",\n        },\n{\n            'v': 0,\n            'f': \"0\",\n        },\n\"m going to see Anne early or late.. Pick one & come along RT @TheiTGuRlE: Im off. RT @NadiaNataliax3 What time uGo in on Friday ?\",\n\"non-political\"],\n [{\n            'v': 2297,\n            'f': \"2297\",\n        },\n{\n            'v': 0,\n            'f': \"0\",\n        },\n\"AM Vs TV LIVE FROM VEGAS with SPecial Guest Vegas Own Hip Hop Sensation Retna Later BAM will Have another MC DOC http://tiny.cc/XlLMp\",\n\"non-political\"],\n [{\n            'v': 141,\n            'f': \"141\",\n        },\n{\n            'v': 0,\n            'f': \"0\",\n        },\n\"ogressive Starts Plan To Aid Insurance Agents' Online Sales http://ow.ly/15KTWc\",\n\"non-political\"],\n [{\n            'v': 2129,\n            'f': \"2129\",\n        },\n{\n            'v': 0,\n            'f': \"0\",\n        },\n\"earsmanyhats I did! I think I ate enough for the both of us. I don't feel so well! :)\",\n\"non-political\"],\n [{\n            'v': 2280,\n            'f': \"2280\",\n        },\n{\n            'v': 0,\n            'f': \"0\",\n        },\n\"ota_Angelus Voc\\u00c3\\u00aa falou seu tim\\u00c3\\u00a3o, achei que voc\\u00c3\\u00aa fosse corinthiano haha. Mas enfim, voc\\u00c3\\u00aa \\u00c3\\u00a9? Se n\\u00c3\\u00a3o, qual seu tim\\u00c3\\u00a3o? haha\",\n\"non-political\"],\n [{\n            'v': 2307,\n            'f': \"2307\",\n        },\n{\n            'v': 0,\n            'f': \"0\",\n        },\n\"\\u00a5\\u00e6\\u0153\\u00ac\\u00ef\\u00bd\\u00b5\\u00ef\\u00be\\u0153\\u00ef\\u00be\\u0192\\u00ef\\u00be\\u20ac\\u00ef\\u00bc\\u00bc(\\u00ef\\u00bc\\u00beo\\u00ef\\u00bc\\u00be)\\u00ef\\u00bc\\u008f\",\n\"non-political\"],\n [{\n            'v': 3156,\n            'f': \"3156\",\n        },\n{\n            'v': 0,\n            'f': \"0\",\n        },\n\"have found signal in my class, they need to stop blocking it haha\",\n\"non-political\"],\n [{\n            'v': 680,\n            'f': \"680\",\n        },\n{\n            'v': 1,\n            'f': \"1\",\n        },\n\"Twitter News Michelle Obama's Mommy Bloomers | Chicago News on Twitter: What wizened, saggy chin.. http://bit.ly/3uZPwc\",\n\"political\"],\n [{\n            'v': 576,\n            'f': \"576\",\n        },\n{\n            'v': 0,\n            'f': \"0\",\n        },\n\"-BBC: Obama hosts race row beer reunion . More #Obama #news - http://tinyurl.com/ltvgvk\",\n\"non-political\"],\n [{\n            'v': 2358,\n            'f': \"2358\",\n        },\n{\n            'v': 0,\n            'f': \"0\",\n        },\n\"issMurderFabs lol\",\n\"non-political\"],\n [{\n            'v': 1553,\n            'f': \"1553\",\n        },\n{\n            'v': 1,\n            'f': \"1\",\n        },\n\"Curt Schilling says Senate run 'would be fun': A day after writing on his blog that he has \\\"some interest\\\" in ru.. http://bit.ly/4tGyYW\",\n\"political\"],\n [{\n            'v': 996,\n            'f': \"996\",\n        },\n{\n            'v': 1,\n            'f': \"1\",\n        },\n\"Lioness - a film about the first women combat vets from Iraq http://www.youtube.com/user/lionessthefilm\",\n\"political\"],\n [{\n            'v': 1570,\n            'f': \"1570\",\n        },\n{\n            'v': 1,\n            'f': \"1\",\n        },\n\"Senate to vote Thursday on 'cash for clunkers': Senate Majority Leader Harry Reid announced an agreement with Re.. http://bit.ly/1zpTQ9\",\n\"political\"],\n [{\n            'v': 2681,\n            'f': \"2681\",\n        },\n{\n            'v': 0,\n            'f': \"0\",\n        },\n\"miss you friend! i miss you!\",\n\"non-political\"],\n [{\n            'v': 449,\n            'f': \"449\",\n        },\n{\n            'v': 1,\n            'f': \"1\",\n        },\n\"NEW: Obama's George Bush Problem http://bit.ly/1aNFy0\",\n\"political\"],\n [{\n            'v': 2511,\n            'f': \"2511\",\n        },\n{\n            'v': 0,\n            'f': \"0\",\n        },\n\" @wikidsystems: The Shmoo bus? http://bit.ly/3LMjWr. hahaha!\",\n\"non-political\"],\n [{\n            'v': 682,\n            'f': \"682\",\n        },\n{\n            'v': 1,\n            'f': \"1\",\n        },\n\"Good column by @JoeNBC about Pres. Obama's attempt to bring the #2016Olympics home and bipartisanship: http://is.gd/3WuI4 #politics\",\n\"political\"],\n [{\n            'v': 661,\n            'f': \"661\",\n        },\n{\n            'v': 1,\n            'f': \"1\",\n        },\n\"WSJ covered Obama's decision to go to Copenhagen http://tinyurl.com/yczfer9. Vote at http://tinyurl.com/dbxh22.\",\n\"political\"],\n [{\n            'v': 670,\n            'f': \"670\",\n        },\n{\n            'v': 1,\n            'f': \"1\",\n        },\n\"What\\u00e2\\u20ac\\u2122s Obama Leaving Out of His Prescription for America?http://bit.ly/4x0Urb\",\n\"political\"],\n [{\n            'v': 1596,\n            'f': \"1596\",\n        },\n{\n            'v': 1,\n            'f': \"1\",\n        },\n\"@senjohnmccain Are you for or against a government-run plan? What will Canadians do, if we wreck our system? #handsoff http://bit.ly/16zQ2P\",\n\"political\"],\n [{\n            'v': 3000,\n            'f': \"3000\",\n        },\n{\n            'v': 0,\n            'f': \"0\",\n        },\n\"e best way to get 100 followers faster is using http://snipurl.com/sg0r1 .\",\n\"non-political\"],\n [{\n            'v': 2504,\n            'f': \"2504\",\n        },\n{\n            'v': 0,\n            'f': \"0\",\n        },\n\"sting on Saturday 7th November - \\\"For the start & end of a meal\\\". In the shop. Just turn up.\",\n\"non-political\"],\n [{\n            'v': 2638,\n            'f': \"2638\",\n        },\n{\n            'v': 0,\n            'f': \"0\",\n        },\n\"od morning and happy Monday! Hope people are enjoying that extra hour ;) ... before we all get used to it that is\",\n\"non-political\"],\n [{\n            'v': 3076,\n            'f': \"3076\",\n        },\n{\n            'v': 0,\n            'f': \"0\",\n        },\n\"need 10 CL pva's ASAP will pay for quality and service by seeker28 http://bit.ly/1Y3M3E\",\n\"non-political\"],\n [{\n            'v': 3073,\n            'f': \"3073\",\n        },\n{\n            'v': 0,\n            'f': \"0\",\n        },\n\"y Stories are an Effective Communication Tool for Your Blog: As I write this it is the first Tuesday morning of a ... http://bit.ly/10VFgc\",\n\"non-political\"],\n [{\n            'v': 127,\n            'f': \"127\",\n        },\n{\n            'v': 1,\n            'f': \"1\",\n        },\n\"#Digg this: Socialists: Big Losers in German Vote - Merkel Wins http://digg.com/u1DDBd #digguser [RT]\",\n\"political\"],\n [{\n            'v': 972,\n            'f': \"972\",\n        },\n{\n            'v': 1,\n            'f': \"1\",\n        },\n\"rt @vtel001 Israel's lively start-up culture keeps economy thriving - http://bit.ly/aLLNP #cnn #israel #palestine #bds #diversify #bdsfail\",\n\"political\"],\n [{\n            'v': 2945,\n            'f': \"2945\",\n        },\n{\n            'v': 0,\n            'f': \"0\",\n        },\n\"lckshpby poop. Vancen from bgoz is organising the tour for April. Yayyyyyyyyy\",\n\"non-political\"],\n [{\n            'v': 2135,\n            'f': \"2135\",\n        },\n{\n            'v': 0,\n            'f': \"0\",\n        },\n\"heworst going out wit someone and they say \\\"aw man I forgot my money\\\"\",\n\"non-political\"],\n [{\n            'v': 94,\n            'f': \"94\",\n        },\n{\n            'v': 0,\n            'f': \"0\",\n        },\n\"love360 You're delusional, and have still provided NO EVIDENCE. I'm honestly wondering if this is a racial/nationalist issue for you.\",\n\"non-political\"],\n [{\n            'v': 103,\n            'f': \"103\",\n        },\n{\n            'v': 1,\n            'f': \"1\",\n        },\n\"@VetsOnTheWatch Libs must hate it when conservatives take their ad-hominems and use them as proud monikers to show who we are.\",\n\"political\"],\n [{\n            'v': 2326,\n            'f': \"2326\",\n        },\n{\n            'v': 0,\n            'f': \"0\",\n        },\n\"vin the Magic Mouse; not so much the hangover.\",\n\"non-political\"],\n [{\n            'v': 2042,\n            'f': \"2042\",\n        },\n{\n            'v': 0,\n            'f': \"0\",\n        },\n\" the Broncos lose to the Ravens I will brutally murder Ray Lewis.\",\n\"non-political\"],\n [{\n            'v': 777,\n            'f': \"777\",\n        },\n{\n            'v': 1,\n            'f': \"1\",\n        },\n\"De-baptism's?? - (Political Hotwire) http://bit.ly/fCt9p #tcot #obama\",\n\"political\"],\n [{\n            'v': 901,\n            'f': \"901\",\n        },\n{\n            'v': 1,\n            'f': \"1\",\n        },\n\"White House: 'Cheney failed on Afghanistan' http://bit.ly/XPVoh http://bit.ly/1zdKiC\",\n\"political\"],\n [{\n            'v': 2269,\n            'f': \"2269\",\n        },\n{\n            'v': 0,\n            'f': \"0\",\n        },\n\"lking with some peple on myspace while watching tv and eating popcorns:) how's everyone doing?\",\n\"non-political\"],\n [{\n            'v': 3060,\n            'f': \"3060\",\n        },\n{\n            'v': 0,\n            'f': \"0\",\n        },\n\"tta love old school tv in the morning. man saved by the bell is cheeeeesy\",\n\"non-political\"],\n [{\n            'v': 2068,\n            'f': \"2068\",\n        },\n{\n            'v': 0,\n            'f': \"0\",\n        },\n\"ke this from Kurt Herbert Alder \\\"Tradition is what you resort to when you don't have the time or the money to do it right.\\\"\",\n\"non-political\"],\n [{\n            'v': 335,\n            'f': \"335\",\n        },\n{\n            'v': 1,\n            'f': \"1\",\n        },\n\"RT @impolitical: Conservatives strike \\\"gender equality\\\" from Canadian foreign policy http://bit.ly/47E3zH\",\n\"political\"],\n [{\n            'v': 440,\n            'f': \"440\",\n        },\n{\n            'v': 1,\n            'f': \"1\",\n        },\n\"RT foxnews President Obama Statement on Iran. Statement by President Barack Obama on Iran November... http://tinyurl.com/yfadmpu\",\n\"political\"],\n [{\n            'v': 3010,\n            'f': \"3010\",\n        },\n{\n            'v': 0,\n            'f': \"0\",\n        },\n\"This afternoon I'm going to watch the Michael Jackson film. This is it.\",\n\"non-political\"],\n [{\n            'v': 2791,\n            'f': \"2791\",\n        },\n{\n            'v': 0,\n            'f': \"0\",\n        },\n\"ck.. and only a tweet from @patkSTEREOS would make my day and make me feel somewhat better. i love you pat! -xo\\u00e2\\u2122\\u00a5 (tweet back?)\",\n\"non-political\"],\n [{\n            'v': 2892,\n            'f': \"2892\",\n        },\n{\n            'v': 0,\n            'f': \"0\",\n        },\n\"w to downgrade the psp from firmware 6.10 to 3.75???? anyone please reply???\",\n\"non-political\"],\n [{\n            'v': 2155,\n            'f': \"2155\",\n        },\n{\n            'v': 0,\n            'f': \"0\",\n        },\n\"onajkgirl ;) you seen some of the follows? one in particular\",\n\"non-political\"],\n [{\n            'v': 3174,\n            'f': \"3174\",\n        },\n{\n            'v': 0,\n            'f': \"0\",\n        },\n\"ould I stay my sick ass at home, people? Whats the verdict? I don't usually do sick days. I normally just push through it. Well?\",\n\"non-political\"],\n [{\n            'v': 2506,\n            'f': \"2506\",\n        },\n{\n            'v': 0,\n            'f': \"0\",\n        },\n\"like training ppl . it's awesome . but I much rather go home . I think I have the flu! this doesn't feel like a normal cold!\",\n\"non-political\"],\n [{\n            'v': 1930,\n            'f': \"1930\",\n        },\n{\n            'v': 0,\n            'f': \"0\",\n        },\n\"es Webladen (L\\u00c3\\u00bcbeck, von LobUndTadel): 5 von 5 Punkten Hier bekommt man Bildwebereien, transparent gewebte Be.. http://bit.ly/dHEFg\",\n\"non-political\"],\n [{\n            'v': 119,\n            'f': \"119\",\n        },\n{\n            'v': 1,\n            'f': \"1\",\n        },\n\"Sigh.Of course the liberal chimes in.. If you think something like that is nasty , ur \\\" homophobic\\\" or \\\" not open minded\\\". @prettipancakes\",\n\"political\"],\n [{\n            'v': 2804,\n            'f': \"2804\",\n        },\n{\n            'v': 0,\n            'f': \"0\",\n        },\n\"w Is Ray-J Looking For Love And He About To Have A Child\",\n\"non-political\"],\n [{\n            'v': 353,\n            'f': \"353\",\n        },\n{\n            'v': 1,\n            'f': \"1\",\n        },\n\"I have no sympathy for dumb liberals who make a million jobs evaporate under their watch. I loved it! Victory for ... http://bit.ly/3PQklJ\",\n\"political\"],\n [{\n            'v': 1751,\n            'f': \"1751\",\n        },\n{\n            'v': 0,\n            'f': \"0\",\n        },\n\"like how none of the little kids come to my house cause my drive way is scarey haha. More candy for me!\",\n\"non-political\"],\n [{\n            'v': 2251,\n            'f': \"2251\",\n        },\n{\n            'v': 0,\n            'f': \"0\",\n        },\n\"DUBSLBCgirl heehee. She might have the title.\",\n\"non-political\"],\n [{\n            'v': 314,\n            'f': \"314\",\n        },\n{\n            'v': 1,\n            'f': \"1\",\n        },\n\"RT @TimOwensby \\\"Life doesn't last longer in socialist countries; it just feels like it.\\\" - Ann Coulter http://bit.ly/YiSPA #ocra #hcr #hc09\",\n\"political\"],\n [{\n            'v': 1477,\n            'f': \"1477\",\n        },\n{\n            'v': 1,\n            'f': \"1\",\n        },\n\"RT @Paloma: \\\"British government tells civil servants to tweet\\\" http://tr.im/BritishTW1\",\n\"political\"],\n [{\n            'v': 2722,\n            'f': \"2722\",\n        },\n{\n            'v': 0,\n            'f': \"0\",\n        },\n\"d you know that you could sign up to SponsoredTweets & make some money tweeting! http://bit.ly/3F9FaX #ad\",\n\"non-political\"],\n [{\n            'v': 249,\n            'f': \"249\",\n        },\n{\n            'v': 1,\n            'f': \"1\",\n        },\n\"America has grown up, despite liberal missives. The business world is well developed and capable of renewal. US govt expansion is not!\",\n\"political\"],\n [{\n            'v': 2953,\n            'f': \"2953\",\n        },\n{\n            'v': 0,\n            'f': \"0\",\n        },\n\"D RT @inquirerdotnet: Gov't employees to get tax-free 14th month pay, P15K cash gift http://tinyurl.com/ydn4clq\",\n\"non-political\"],\n [{\n            'v': 577,\n            'f': \"577\",\n        },\n{\n            'v': 1,\n            'f': \"1\",\n        },\n\"Obama organizers concerned about Palin's health-care clout: http://bit.ly/32tjQb\",\n\"political\"],\n [{\n            'v': 1800,\n            'f': \"1800\",\n        },\n{\n            'v': 0,\n            'f': \"0\",\n        },\n\"g. did i tell you how much i love Phil Collins? &lt;3\",\n\"non-political\"],\n [{\n            'v': 216,\n            'f': \"216\",\n        },\n{\n            'v': 1,\n            'f': \"1\",\n        },\n\"@stopbeck mayB Lexus has found out that it is mostly the conservatives are the 1's who drive and can afford their sticker price?\",\n\"political\"],\n [{\n            'v': 1973,\n            'f': \"1973\",\n        },\n{\n            'v': 0,\n            'f': \"0\",\n        },\n\"tp://www.griph1n1.com.ua/\",\n\"non-political\"],\n [{\n            'v': 3143,\n            'f': \"3143\",\n        },\n{\n            'v': 0,\n            'f': \"0\",\n        },\n\" @dotkite: 2 operational years for Dot Kite in Athens. Learn more http://bit.ly/1LckPk\",\n\"non-political\"],\n [{\n            'v': 818,\n            'f': \"818\",\n        },\n{\n            'v': 1,\n            'f': \"1\",\n        },\n\"Counterinsurgency, Airstrikes and Incoherence in Afghanistan and related posts @ (http://cli.gs/eerPB)\",\n\"political\"],\n [{\n            'v': 336,\n            'f': \"336\",\n        },\n{\n            'v': 1,\n            'f': \"1\",\n        },\n\"Progressive health care reform involves providing opportunity for individuals to increase their personal wealth & health. Public opt doesn't\",\n\"political\"],\n [{\n            'v': 2773,\n            'f': \"2773\",\n        },\n{\n            'v': 0,\n            'f': \"0\",\n        },\n\"iedre_Vance No kiddin'. *he selects an open faced cannoli* Gotta talk with the owner about that. Oh wait... *grins* -I- am the owner.\",\n\"non-political\"],\n [{\n            'v': 265,\n            'f': \"265\",\n        },\n{\n            'v': 1,\n            'f': \"1\",\n        },\n\"CBCtop: Tories making inroads in Toronto, poll suggests: After a summer that saw the federal Conservatives and Liberals http://url4.eu/Vl97\",\n\"political\"],\n [{\n            'v': 1337,\n            'f': \"1337\",\n        },\n{\n            'v': 1,\n            'f': \"1\",\n        },\n\"@cnn @Foxnews 202.224.3121 TELL DEMOCRATS REPUBLICANS & ANY OTHER LIAR WHO VOTES FOR GOVERNMENT RUN HEALTHCARE INSURANCE TO PACK THEIR BAGS\",\n\"political\"],\n [{\n            'v': 2259,\n            'f': \"2259\",\n        },\n{\n            'v': 0,\n            'f': \"0\",\n        },\n\"ys http://tinyurl.com/mgfww2 http://plurk.com/p/2h79d3\",\n\"non-political\"],\n [{\n            'v': 707,\n            'f': \"707\",\n        },\n{\n            'v': 1,\n            'f': \"1\",\n        },\n\"RT @rdickerhoof In the time it takes to read Pelosi's bill, you could have read the Constitution 111 times. #ocra #tcot #tlot #killbill #hcr\",\n\"political\"],\n [{\n            'v': 2667,\n            'f': \"2667\",\n        },\n{\n            'v': 0,\n            'f': \"0\",\n        },\n\"ves @laureennxo and @cassiiebianca sooooo much its redonc\",\n\"non-political\"],\n [{\n            'v': 709,\n            'f': \"709\",\n        },\n{\n            'v': 1,\n            'f': \"1\",\n        },\n\"Really? RT @gallupnews: Hillary Clinton Now More Popular Than Barack Obama: http://bit.ly/15nqxU #HillaryClinton, #Obama\",\n\"political\"],\n [{\n            'v': 1694,\n            'f': \"1694\",\n        },\n{\n            'v': 0,\n            'f': \"0\",\n        },\n\"cant go to sleep witout a certain someone telling me good night & I havent talked to them in two days\",\n\"non-political\"],\n [{\n            'v': 117,\n            'f': \"117\",\n        },\n{\n            'v': 1,\n            'f': \"1\",\n        },\n\"how are you planning to spend the socialist holiday? http://bit.ly/p3ebG\",\n\"political\"],\n [{\n            'v': 1397,\n            'f': \"1397\",\n        },\n{\n            'v': 1,\n            'f': \"1\",\n        },\n\"Republican or Democrat... you gotta admit that Sarah Palin gave some horrible speeches on her way out. She was much better at the RNC.\",\n\"political\"],\n [{\n            'v': 800,\n            'f': \"800\",\n        },\n{\n            'v': 1,\n            'f': \"1\",\n        },\n\"Local business owners give packs of $2 to emp's to spend in their communities--a local \\\"stimulus\\\" --fascinating! http://PeoplesStimulus.org\",\n\"political\"],\n [{\n            'v': 3198,\n            'f': \"3198\",\n        },\n{\n            'v': 0,\n            'f': \"0\",\n        },\n\"bcamming laugh for the day: I was taking off panties for camshow today - got them stuck in one of the wheels of my chair! lol\",\n\"non-political\"],\n [{\n            'v': 2569,\n            'f': \"2569\",\n        },\n{\n            'v': 0,\n            'f': \"0\",\n        },\n\"ry funny Scotty, now beam down my clothes!\",\n\"non-political\"],\n [{\n            'v': 2323,\n            'f': \"2323\",\n        },\n{\n            'v': 0,\n            'f': \"0\",\n        },\n\"ikkie_nick_x3 lmao right there with ya so my wifey can enjoy a show\",\n\"non-political\"],\n [{\n            'v': 2078,\n            'f': \"2078\",\n        },\n{\n            'v': 0,\n            'f': \"0\",\n        },\n\"ecilyjamelia I think I saw Willie lol. I was gooooooooone!\",\n\"non-political\"],\n [{\n            'v': 1384,\n            'f': \"1384\",\n        },\n{\n            'v': 1,\n            'f': \"1\",\n        },\n\"RT @ZerlinaM RT @peoplegogy public option shld b giving us same options as members of congress. if they fight that, they should b teabagged\",\n\"political\"],\n [{\n            'v': 966,\n            'f': \"966\",\n        },\n{\n            'v': 1,\n            'f': \"1\",\n        },\n\"I am still trying to locate my son, Ryan Kristopher King, who is in Iraq. If anybody hears from him, let me know. Thanks.\",\n\"political\"],\n [{\n            'v': 850,\n            'f': \"850\",\n        },\n{\n            'v': 1,\n            'f': \"1\",\n        },\n\"RT @tweetminster: Clegg \\\"when our troops were massing on the borders of Iraq the conservatives cheered from the sidelines but we said no\\\"\",\n\"political\"],\n [{\n            'v': 1064,\n            'f': \"1064\",\n        },\n{\n            'v': 1,\n            'f': \"1\",\n        },\n\"Video: Taliban Bomb Afghanistan Offices: Taliban gunmen and suicide bombers attack Afghan government build.. http://bit.ly/12Bgrm\",\n\"political\"],\n [{\n            'v': 638,\n            'f': \"638\",\n        },\n{\n            'v': 1,\n            'f': \"1\",\n        },\n\"@SandraLSwanson So when do I get to start blaming Obama for my personal failures and oversights and laziness? We're still in Bush mode. :)\",\n\"political\"],\n [{\n            'v': 937,\n            'f': \"937\",\n        },\n{\n            'v': 1,\n            'f': \"1\",\n        },\n\"6 mnths Since the \\u00e2\\u20ac\\u0153American Recovery and Reinvestment Act\\u00e2\\u20ac\\u009d became law, the United States economy has shed nearly 2.8 million net jobs.\",\n\"political\"],\n [{\n            'v': 2294,\n            'f': \"2294\",\n        },\n{\n            'v': 0,\n            'f': \"0\",\n        },\n\"ere I live most concrete evidence showing the call to prayer..\",\n\"non-political\"],\n [{\n            'v': 1050,\n            'f': \"1050\",\n        },\n{\n            'v': 1,\n            'f': \"1\",\n        },\n\"Electoral crisis in Afghanistan intensifies - The Associated Press http://ow.ly/15VNFv\",\n\"political\"],\n [{\n            'v': 279,\n            'f': \"279\",\n        },\n{\n            'v': 1,\n            'f': \"1\",\n        },\n\"Much as we'd all like to, ya can't make Utah more liberal than it is faster than it wants to go. Beware the blue pies in the skies.\",\n\"political\"],\n [{\n            'v': 1746,\n            'f': \"1746\",\n        },\n{\n            'v': 0,\n            'f': \"0\",\n        },\n\"ntonioamorin Neste domingo (vespera de feriado) tem o melhor sertanejo de SP. visite http://sitemeu.net/vo7fa5 snypm\",\n\"non-political\"],\n [{\n            'v': 1280,\n            'f': \"1280\",\n        },\n{\n            'v': 1,\n            'f': \"1\",\n        },\n\"RT @AgeofMastery: RT @buzztok: RT @sidunn: WIN! Republican Governr of UTAH supports Obama's speech 2 schools http://bit.ly/a6IWN\",\n\"political\"],\n [{\n            'v': 2055,\n            'f': \"2055\",\n        },\n{\n            'v': 0,\n            'f': \"0\",\n        },\n\"halanges What the frak??!?\",\n\"non-political\"],\n [{\n            'v': 1123,\n            'f': \"1123\",\n        },\n{\n            'v': 1,\n            'f': \"1\",\n        },\n\"In Afghanistan: 2 U.S. Troops Killed; Election Nears - http://tinyurl.com/klx3ru\",\n\"political\"],\n [{\n            'v': 2178,\n            'f': \"2178\",\n        },\n{\n            'v': 0,\n            'f': \"0\",\n        },\n\" is anthony\",\n\"non-political\"],\n [{\n            'v': 3179,\n            'f': \"3179\",\n        },\n{\n            'v': 0,\n            'f': \"0\",\n        },\n\"CRealtress LOL! Am I usually a downer? Sorry! I'm very positive: Promise! How is your day & week so far?\",\n\"non-political\"],\n [{\n            'v': 2002,\n            'f': \"2002\",\n        },\n{\n            'v': 0,\n            'f': \"0\",\n        },\n\"ficial first XBL tweet! 'Bout to play some Tekken6\",\n\"non-political\"],\n [{\n            'v': 2028,\n            'f': \"2028\",\n        },\n{\n            'v': 0,\n            'f': \"0\",\n        },\n\" @geheimwissen Die #Schweinegrippe - Pandemie aus der Hexenk\\u00c3\\u00bcche http://tinyurl.com/ykp525u #Pandemie aus der Hexenk\\u00c3\\u00bcche\",\n\"non-political\"],\n [{\n            'v': 1034,\n            'f': \"1034\",\n        },\n{\n            'v': 1,\n            'f': \"1\",\n        },\n\"#servicedesign -ers: Did you like \\\"The Experience Economy\\\" by Pine & Gilmore? If so, why? Found it outdated, america-centered & frightening.\",\n\"political\"],\n [{\n            'v': 3201,\n            'f': \"3201\",\n        },\n{\n            'v': 0,\n            'f': \"0\",\n        },\n\"a my fone iz a DUBB\",\n\"non-political\"],\n [{\n            'v': 392,\n            'f': \"392\",\n        },\n{\n            'v': 1,\n            'f': \"1\",\n        },\n\"Why are Republican so mad at Obama,I know one thing..Gas is $2.50,he kept that shit low all summer..\",\n\"political\"],\n [{\n            'v': 2447,\n            'f': \"2447\",\n        },\n{\n            'v': 0,\n            'f': \"0\",\n        },\n\"ritBoi @Lethal_GCRadio @ProtruckR @LADIBENJAMIN @ASHLYJ21 thanks for the rt love respect! Have a great week!\",\n\"non-political\"],\n [{\n            'v': 841,\n            'f': \"841\",\n        },\n{\n            'v': 1,\n            'f': \"1\",\n        },\n\"Good sign for the economy and #horseracing? #Keeneland Nov. Sale was down but only 6.5% on avg. vs. last year.\",\n\"political\"],\n [{\n            'v': 2776,\n            'f': \"2776\",\n        },\n{\n            'v': 0,\n            'f': \"0\",\n        },\n\"inkajou1015 hm....It's easy to cover someones easy harder to sensor something like that though\",\n\"non-political\"],\n [{\n            'v': 1185,\n            'f': \"1185\",\n        },\n{\n            'v': 1,\n            'f': \"1\",\n        },\n\"Abp York asks govt to make sure troops are properly equipped for operations in #Afghanistan : http://bit.ly/4Ocxqp\",\n\"political\"],\n [{\n            'v': 1667,\n            'f': \"1667\",\n        },\n{\n            'v': 0,\n            'f': \"0\",\n        },\n\"essgraaw CHAMA OS BOMBEIROS QQQQQQ- -n\",\n\"non-political\"],\n [{\n            'v': 3041,\n            'f': \"3041\",\n        },\n{\n            'v': 0,\n            'f': \"0\",\n        },\n\"eroms Sprint Enters The Netbook Game With Dell Mini 10: \\u00c2\\u00a0via:\\u00c2\\u00a0HotHardware.. http://bit.ly/3X741u #wjtglobal\",\n\"non-political\"],\n [{\n            'v': 704,\n            'f': \"704\",\n        },\n{\n            'v': 1,\n            'f': \"1\",\n        },\n\"RT @alejohidalgo: Aunque el otro no le pare, Ch\\u00c3\\u00a1vez sigue enamorado de Obama.\",\n\"political\"],\n [{\n            'v': 1074,\n            'f': \"1074\",\n        },\n{\n            'v': 1,\n            'f': \"1\",\n        },\n\"@daeLAbaby power to you, I feel you on that , no places out here are hiring some terrorist bullshit got the economy shoo\",\n\"political\"],\n [{\n            'v': 2538,\n            'f': \"2538\",\n        },\n{\n            'v': 0,\n            'f': \"0\",\n        },\n\"e Best Advice Ever From The World's Greatest Business Experts! This Will Determine Your Success Or Failure! http://bit.ly/schefren\",\n\"non-political\"],\n [{\n            'v': 2675,\n            'f': \"2675\",\n        },\n{\n            'v': 0,\n            'f': \"0\",\n        },\n\" @mashable WARNING: Twitter Money Scams Spreading Through DMs http://bit.ly/OP6Ot\",\n\"non-political\"],\n [{\n            'v': 1806,\n            'f': \"1806\",\n        },\n{\n            'v': 0,\n            'f': \"0\",\n        },\n\"tp://twitpic.com/ntofo - TODOS ELLOS EN ESTE GRAN LIBRO.\",\n\"non-political\"],\n [{\n            'v': 2001,\n            'f': \"2001\",\n        },\n{\n            'v': 0,\n            'f': \"0\",\n        },\n\"ppy Sunday and all that bullshyt Twitter.\",\n\"non-political\"],\n [{\n            'v': 2933,\n            'f': \"2933\",\n        },\n{\n            'v': 0,\n            'f': \"0\",\n        },\n\"rrently Browsing: http://borderlands.wikia.com\",\n\"non-political\"],\n [{\n            'v': 3057,\n            'f': \"3057\",\n        },\n{\n            'v': 0,\n            'f': \"0\",\n        },\n\"ace your palms onto mine's, tell me how you feel and I'll be yours to keep. @XueErocks\",\n\"non-political\"],\n [{\n            'v': 1912,\n            'f': \"1912\",\n        },\n{\n            'v': 0,\n            'f': \"0\",\n        },\n\"eyalistic Thanks! Just wish we went crazy for Halloween in Aust like you guys do! :)\",\n\"non-political\"],\n [{\n            'v': 2613,\n            'f': \"2613\",\n        },\n{\n            'v': 0,\n            'f': \"0\",\n        },\n\"corpiomaster17 Nissan came and got her a few minutes ago and took her to the hospital. Hopefully they can save her. My poor little baby.\",\n\"non-political\"],\n [{\n            'v': 2460,\n            'f': \"2460\",\n        },\n{\n            'v': 0,\n            'f': \"0\",\n        },\n\"ordan er det \\u00c3\\u00a5 f\\u00c3\\u00a5 et funksjonshemmet barn? Det handler det om i Lang lunsj n\\u00c3\\u00a5, forsker Lars Grue er gjest.\",\n\"non-political\"],\n [{\n            'v': 1226,\n            'f': \"1226\",\n        },\n{\n            'v': 0,\n            'f': \"0\",\n        },\n\" @docmidnight: I, as well as @stacyjill live down the street from our congress woman's house! #lameclaimtofame\",\n\"non-political\"],\n [{\n            'v': 1430,\n            'f': \"1430\",\n        },\n{\n            'v': 1,\n            'f': \"1\",\n        },\n\"@Dumb_Ox new congress report out, cf my post tomorrow http://thomistic.blogspot.com // I will. Thank you. #tcot\",\n\"political\"],\n [{\n            'v': 200,\n            'f': \"200\",\n        },\n{\n            'v': 1,\n            'f': \"1\",\n        },\n\"Progressive Conservatism: property-owning democracy http://tiny.cc/tV1r5\",\n\"political\"],\n [{\n            'v': 671,\n            'f': \"671\",\n        },\n{\n            'v': 1,\n            'f': \"1\",\n        },\n\"RT @ppppolls: 62% of voters in Wilson's district disapprove of his actions, although 42% do think Obama was lying: http://tinyurl.com/mfzcrp\",\n\"political\"],\n [{\n            'v': 2410,\n            'f': \"2410\",\n        },\n{\n            'v': 0,\n            'f': \"0\",\n        },\n\"ck to work tomorrow...geeezzz\",\n\"non-political\"],\n [{\n            'v': 318,\n            'f': \"318\",\n        },\n{\n            'v': 1,\n            'f': \"1\",\n        },\n\"The Pajamahadin: Supreme Court Smacks Down Sotomayor: I still find it amazing that the court's liberals vote.. http://tinyurl.com/mwpyt9\",\n\"political\"],\n [{\n            'v': 2730,\n            'f': \"2730\",\n        },\n{\n            'v': 0,\n            'f': \"0\",\n        },\n\" days left until my 18 birthday!\",\n\"non-political\"],\n [{\n            'v': 2923,\n            'f': \"2923\",\n        },\n{\n            'v': 0,\n            'f': \"0\",\n        },\n\"extips SWALLOW...i cant stress dat enough\",\n\"non-political\"],\n [{\n            'v': 2558,\n            'f': \"2558\",\n        },\n{\n            'v': 0,\n            'f': \"0\",\n        },\n\": @inainaaa: It's time to Sembahyang Purnama w/ @pututuya @ratihdwitaputri @utaridewi :)\",\n\"non-political\"],\n [{\n            'v': 2300,\n            'f': \"2300\",\n        },\n{\n            'v': 0,\n            'f': \"0\",\n        },\n\" @samaralopes >> Juntos, somos mais [+] - @horiceara H\\u00c3\\u201cRI CEARA FC || www.fotolog.com/horiceara\",\n\"non-political\"],\n [{\n            'v': 2066,\n            'f': \"2066\",\n        },\n{\n            'v': 0,\n            'f': \"0\",\n        },\n\"mingo de misa?\",\n\"non-political\"],\n [{\n            'v': 2218,\n            'f': \"2218\",\n        },\n{\n            'v': 0,\n            'f': \"0\",\n        },\n\" @GIZZYGATESIMHIM: LIFES A BITCH U COULD LOSE HER IN A MINUTE BUT QUICKER IN A SECOND DEPENDING ON HOW U HIT IT...\",\n\"non-political\"],\n [{\n            'v': 2500,\n            'f': \"2500\",\n        },\n{\n            'v': 0,\n            'f': \"0\",\n        },\n\"heputeras that is the unfair side ... wkwkwkwkwk\",\n\"non-political\"],\n [{\n            'v': 2373,\n            'f': \"2373\",\n        },\n{\n            'v': 0,\n            'f': \"0\",\n        },\n\"endiplast udah sizuuuu, olahraga di..... =))\",\n\"non-political\"],\n [{\n            'v': 807,\n            'f': \"807\",\n        },\n{\n            'v': 1,\n            'f': \"1\",\n        },\n\"RT @MadamaAmbi: \\u00e2\\u2020\\u2019\\\"Afghanistan: Will Obama Listen to the Women?\\\" ( http://bit.ly/dU2oh ) Pls Sign Letter.\",\n\"political\"],\n [{\n            'v': 2491,\n            'f': \"2491\",\n        },\n{\n            'v': 0,\n            'f': \"0\",\n        },\n\" @FR_BSB Lobby no Brasil correu solto no Judici\\u00c3\\u00a1rio e no MP no feriad\\u00c3\\u00a3o de Finados. Essa turma n\\u00c3\\u00a3o tem nada de morto. http://bit.ly/453BZM\",\n\"non-political\"],\n [{\n            'v': 384,\n            'f': \"384\",\n        },\n{\n            'v': 0,\n            'f': \"0\",\n        },\n\"dians continue series against Angels tonight: Jeremy Sowers faces Jered Weaver tonight at Progressive Field http://bit.ly/NNixb\",\n\"non-political\"],\n [{\n            'v': 712,\n            'f': \"712\",\n        },\n{\n            'v': 1,\n            'f': \"1\",\n        },\n\"Sarah Palin to run with Lou Dobbs in 2012 in The All Quitters Party. http://bit.ly/1P0A5m\",\n\"political\"],\n [{\n            'v': 190,\n            'f': \"190\",\n        },\n{\n            'v': 1,\n            'f': \"1\",\n        },\n\"RT @tierneywigg http://tinyurl.com/klrona Thanks Daniel Hannan for making my choice of not voting @conservatives much easier! #welovetheNHS\",\n\"political\"],\n [{\n            'v': 1643,\n            'f': \"1643\",\n        },\n{\n            'v': 0,\n            'f': \"0\",\n        },\n\" s\\u00c3\\u00a9 pero me siento como mal :S tengo algo raro... como tristeza :S no quiero ir por all\\u00c3\\u00a1 quisiera estar con mis amigas :(\",\n\"non-political\"],\n [{\n            'v': 853,\n            'f': \"853\",\n        },\n{\n            'v': 1,\n            'f': \"1\",\n        },\n\"RT @bbcbreaking: A helicopter has crashed at the main Kandahar air base in southern Afghanistan, killing 16 civilians on board, o.. http ...\",\n\"political\"],\n [{\n            'v': 153,\n            'f': \"153\",\n        },\n{\n            'v': 1,\n            'f': \"1\",\n        },\n\"RT @tonysharon04 @resistance09 Ive been infected w/PATRIOTIC FLU and I am SICK of ur socialist government reforms. STOP NOW! #teaparty #gop\",\n\"political\"],\n [{\n            'v': 775,\n            'f': \"775\",\n        },\n{\n            'v': 1,\n            'f': \"1\",\n        },\n\"RT @ThatGirlCA RT @sherriwilson If Obama cured cancer, the Right would accuse him of putting big pharma out of business.\",\n\"political\"],\n [{\n            'v': 1725,\n            'f': \"1725\",\n        },\n{\n            'v': 0,\n            'f': \"0\",\n        },\n\"ANimo: your night sounds shitty. I'm eating my candy necklace and watching thaw\",\n\"non-political\"],\n [{\n            'v': 419,\n            'f': \"419\",\n        },\n{\n            'v': 1,\n            'f': \"1\",\n        },\n\"What if the extreme conservative media are right? What if Obama really is a terrorist, and soy really is as bad for you as cigarettes?\",\n\"political\"],\n [{\n            'v': 2955,\n            'f': \"2955\",\n        },\n{\n            'v': 0,\n            'f': \"0\",\n        },\n\"annahBenne @misstwinkle, good morning! I have actually only seen season 1 of GG so trying to avoid 3 until i have given in & bought 2!\",\n\"non-political\"],\n [{\n            'v': 2374,\n            'f': \"2374\",\n        },\n{\n            'v': 0,\n            'f': \"0\",\n        },\n\"erecat1 don't refer to his age much...... *winks*\",\n\"non-political\"],\n [{\n            'v': 1788,\n            'f': \"1788\",\n        },\n{\n            'v': 0,\n            'f': \"0\",\n        },\n\"love sven, michel and brandon at the rocket ship to freedom.\",\n\"non-political\"],\n [{\n            'v': 2754,\n            'f': \"2754\",\n        },\n{\n            'v': 0,\n            'f': \"0\",\n        },\n\"m super burrito\",\n\"non-political\"],\n [{\n            'v': 2226,\n            'f': \"2226\",\n        },\n{\n            'v': 0,\n            'f': \"0\",\n        },\n\"tchin hancock wit de nephew.dnt really wanna go 2 skool. my nieces went home.\\u00e2\\u20ac\\u2039VeryGoodWeekend.\\u00e2\\u20ac\\u2039hopin 4 a betta we ... http://lnk.ms/4Hzrl\",\n\"non-political\"],\n [{\n            'v': 1848,\n            'f': \"1848\",\n        },\n{\n            'v': 0,\n            'f': \"0\",\n        },\n\"-li-li-istening to la-la-la-dy gaggagga! REMIXES!\",\n\"non-political\"],\n [{\n            'v': 2906,\n            'f': \"2906\",\n        },\n{\n            'v': 0,\n            'f': \"0\",\n        },\n\"atalietran http://twitpic.com/ff2br - hehe, loving the cowgirl hat:)\",\n\"non-political\"],\n [{\n            'v': 2540,\n            'f': \"2540\",\n        },\n{\n            'v': 0,\n            'f': \"0\",\n        },\n\"day I started OG Mandino's \\\"The Scroll Marked V\\\" and it is sooo informative and motivating that I must share some stuff with u all.\",\n\"non-political\"],\n [{\n            'v': 1577,\n            'f': \"1577\",\n        },\n{\n            'v': 1,\n            'f': \"1\",\n        },\n\"WNB Newsbrief: Action Alert: NAACP calls on the US Senate for swift enactment of expanded Hate cri.. http://tinyurl.com/l87gn7\",\n\"political\"],\n [{\n            'v': 1832,\n            'f': \"1832\",\n        },\n{\n            'v': 0,\n            'f': \"0\",\n        },\n\"st took \\\"what band are you?\\\" and got: paramore! Try it \\u00e2\\u017e\\u201d http://bit.ly/1fWDsa\",\n\"non-political\"],\n [{\n            'v': 2339,\n            'f': \"2339\",\n        },\n{\n            'v': 0,\n            'f': \"0\",\n        },\n\"ANN\\u00e3\\u20ac\\u0081\\u00e3\\u201a\\u00a2\\u00e3\\u0192\\u00ab\\u00e3\\u0192\\u2022\\u00e3\\u201a\\u00a1\\u00e3\\u0192\\u2122\\u00e3\\u0192\\u0192\\u00e3\\u0192\\u02c6\\u00e4\\u00bb\\u00a5\\u00e5\\u00a4\\u2013\\u00e3\\u0081\\u00ae\\u00e3\\u0192\\u2030\\u00e3\\u0192\\u00a1\\u00e3\\u201a\\u00a4\\u00e3\\u0192\\u00b3\\u00e5\\u0090\\u008d\\u00e3\\u0081\\u00ae\\u00e5\\u00b0\\u017d\\u00e5\\u2026\\u00a5\\u00e3\\u201a\\u2019\\u00e6\\u2030\\u00bf\\u00e8\\u00aa\\u008d http://bit.ly/s1t9z\",\n\"non-political\"],\n [{\n            'v': 861,\n            'f': \"861\",\n        },\n{\n            'v': 1,\n            'f': \"1\",\n        },\n\"Another day full of proposals & quotes. The economy may be bad, but we're busy.\",\n\"political\"],\n [{\n            'v': 3095,\n            'f': \"3095\",\n        },\n{\n            'v': 0,\n            'f': \"0\",\n        },\n\"tudio83_Mag Oneday I'll wake up and put ppl to sleep ;)\",\n\"non-political\"],\n [{\n            'v': 589,\n            'f': \"589\",\n        },\n{\n            'v': 1,\n            'f': \"1\",\n        },\n\"smh. RT @Rob2423 Are kidding me are, u telling me that people are actually standing in line to get the BITCH Sarah Palin's dumb ass book.\",\n\"political\"],\n [{\n            'v': 114,\n            'f': \"114\",\n        },\n{\n            'v': 1,\n            'f': \"1\",\n        },\n\"correction for 2nites show. Kit Lang at PL 4 Lobby. Come chat energy bill, obama, liberalism, downfail of US. http://bit.ly/juBF4 Express\",\n\"political\"],\n [{\n            'v': 1998,\n            'f': \"1998\",\n        },\n{\n            'v': 0,\n            'f': \"0\",\n        },\n\"ICKIMINAJ_ oh you changed your name\",\n\"non-political\"],\n [{\n            'v': 108,\n            'f': \"108\",\n        },\n{\n            'v': 1,\n            'f': \"1\",\n        },\n\"The PACIFIC GATE POST: \\u00e2\\u20ac\\u00a2 Government vs. Capitalism http://bit.ly/E5d7E\",\n\"political\"],\n [{\n            'v': 1807,\n            'f': \"1807\",\n        },\n{\n            'v': 0,\n            'f': \"0\",\n        },\n\"favorited a YouTube video -- Ellen with her Hawaii Chair http://bit.ly/16v9R0\",\n\"non-political\"],\n [{\n            'v': 123,\n            'f': \"123\",\n        },\n{\n            'v': 0,\n            'f': \"0\",\n        },\n\"t Quotes online from Geico, Progressive, Nationwide Auto Insurance, And Many More all one website. http://tinyurl.com/y8ngda9\",\n\"non-political\"],\n [{\n            'v': 1488,\n            'f': \"1488\",\n        },\n{\n            'v': 1,\n            'f': \"1\",\n        },\n\"RT @hiphopgrandpa: Why does #Congress keep supporting #Acorn . Stop the flow of money #APORN\",\n\"political\"],\n [{\n            'v': 1082,\n            'f': \"1082\",\n        },\n{\n            'v': 1,\n            'f': \"1\",\n        },\n\"[NEWS] \\u00e2\\u20ac\\u02dcI just wanted him to be safe\\u00e2\\u20ac\\u2122: The family of Rifleman Daniel Wild, who died in Afghanistan, have .. http://bit.ly/11COg2\",\n\"political\"],\n [{\n            'v': 1351,\n            'f': \"1351\",\n        },\n{\n            'v': 0,\n            'f': \"0\",\n        },\n\"ings To Know About Business Grants & Government Grants: To avail any or all of the tax benefits you can im.. http://bit.ly/ewiFX\",\n\"non-political\"],\n [{\n            'v': 1094,\n            'f': \"1094\",\n        },\n{\n            'v': 1,\n            'f': \"1\",\n        },\n\"RT @LDN: Bomb robots used in Afghanistan are to be recycled as London firefighters http://bit.ly/3IxchN Shouldn't they still be out there?\",\n\"political\"],\n [{\n            'v': 1984,\n            'f': \"1984\",\n        },\n{\n            'v': 0,\n            'f': \"0\",\n        },\n\"m diaaa twitters! Estou D E T O N A D A. Casamento da Bel e do Kleine foi \\u00c3\\u00b3timo,s\\u00c3\\u00b3 felicidades agora pra eles! :D\",\n\"non-political\"],\n [{\n            'v': 3086,\n            'f': \"3086\",\n        },\n{\n            'v': 0,\n            'f': \"0\",\n        },\n\"rdopeflow i went to the strip club last night had a wonderful time lol.\",\n\"non-political\"],\n [{\n            'v': 846,\n            'f': \"846\",\n        },\n{\n            'v': 1,\n            'f': \"1\",\n        },\n\"US to give $2.3 bn in stimulus for clean energy - The US will give up to $2.3 billion in tax credits to green manuf... http://ow.ly/15KXJq\",\n\"political\"],\n [{\n            'v': 1216,\n            'f': \"1216\",\n        },\n{\n            'v': 1,\n            'f': \"1\",\n        },\n\"RT @tradingypsy: RT @stockshotz: : CONGRESS is worried abt the impact of the swine flu----I am worried abt THE IMPACT OF CONGRESS!!!! #t ...\",\n\"political\"],\n [{\n            'v': 348,\n            'f': \"348\",\n        },\n{\n            'v': 1,\n            'f': \"1\",\n        },\n\"En la segunda, con Petro o con Vargas? RT @rafaelpardo: El Partido Liberal va a las interpartidistas http://bit.ly/4U2uwm\",\n\"political\"],\n [{\n            'v': 1004,\n            'f': \"1004\",\n        },\n{\n            'v': 1,\n            'f': \"1\",\n        },\n\"NATO soldier killed in Afghanistan: military - AFP http://bit.ly/YrLLt\",\n\"political\"],\n [{\n            'v': 875,\n            'f': \"875\",\n        },\n{\n            'v': 1,\n            'f': \"1\",\n        },\n\"Could a Spike in Bond Yields Cause the Economy to Stumble in the New Year? http://bit.ly/8ZKQFO\",\n\"political\"],\n [{\n            'v': 1809,\n            'f': \"1809\",\n        },\n{\n            'v': 0,\n            'f': \"0\",\n        },\n\"dney: People who default on their mortgage payments will almost double from 25,000 today to 40,000 by the end of 2010 http://tiny.cc/wMUB5\",\n\"non-political\"],\n [{\n            'v': 3124,\n            'f': \"3124\",\n        },\n{\n            'v': 0,\n            'f': \"0\",\n        },\n\"l my wedding is going to be like this...half redneck half metal...check it out and let me know what yall think...http://lnk.ms/2tQrD.\",\n\"non-political\"],\n [{\n            'v': 2670,\n            'f': \"2670\",\n        },\n{\n            'v': 0,\n            'f': \"0\",\n        },\n\"abisworld I have THREE MINUETS of them doing that! That was Halloween night :-)\",\n\"non-political\"],\n [{\n            'v': 2441,\n            'f': \"2441\",\n        },\n{\n            'v': 0,\n            'f': \"0\",\n        },\n\"really want some coffee. A vair stong black coffee with too much sugar and a Curly Wurly. Or an Aero. Or a Kit Kat. Anything chocolate.\",\n\"non-political\"],\n [{\n            'v': 2619,\n            'f': \"2619\",\n        },\n{\n            'v': 0,\n            'f': \"0\",\n        },\n\"men's volleyball team continues winning streak http://theshield.cambrianc.on.ca\",\n\"non-political\"],\n [{\n            'v': 3149,\n            'f': \"3149\",\n        },\n{\n            'v': 0,\n            'f': \"0\",\n        },\n\"at big Walrus lookin dude from OCC just passed me by on the hallway (via @ogabel) did you say \\\"wad up ninja?!\\\"\",\n\"non-political\"],\n [{\n            'v': 2064,\n            'f': \"2064\",\n        },\n{\n            'v': 0,\n            'f': \"0\",\n        },\n\"mm. Natural wine. RT @TheSnarkHunter: Almost to Santa Rosa and our appt @theNPA !\",\n\"non-political\"],\n [{\n            'v': 2692,\n            'f': \"2692\",\n        },\n{\n            'v': 0,\n            'f': \"0\",\n        },\n\"atrinaLomidze i just had the swine flu........it sucks, hope u get better asap!!! i just kept drinkin pomegranate juice\",\n\"non-political\"],\n [{\n            'v': 118,\n            'f': \"118\",\n        },\n{\n            'v': 0,\n            'f': \"0\",\n        },\n\" @civlee RT @ValisProject : RT @happyhomeshop : RT @cupcakes5 : @GreenRoomPro @Florzinhaa_ @anarchists @civlee @expensiveguy @officialtila\",\n\"non-political\"],\n [{\n            'v': 1457,\n            'f': \"1457\",\n        },\n{\n            'v': 1,\n            'f': \"1\",\n        },\n\"BA also in talks with JAL; new government to review JAL restructuring: http://cli.gs/vAjYrm\",\n\"political\"],\n [{\n            'v': 1867,\n            'f': \"1867\",\n        },\n{\n            'v': 0,\n            'f': \"0\",\n        },\n\"f to the race. Thank you 4 your support.\",\n\"non-political\"],\n [{\n            'v': 3170,\n            'f': \"3170\",\n        },\n{\n            'v': 0,\n            'f': \"0\",\n        },\n\"don't know what i'd do without music!!! Different song to suit a different scenario!!! Slow & depressing tonight!!!\",\n\"non-political\"],\n [{\n            'v': 1002,\n            'f': \"1002\",\n        },\n{\n            'v': 1,\n            'f': \"1\",\n        },\n\"Stimulus saved or created 650,000 jobs, White House says: The White House says President Barack Obama's economi.. http://bit.ly/1bVP0Y\",\n\"political\"],\n [{\n            'v': 822,\n            'f': \"822\",\n        },\n{\n            'v': 1,\n            'f': \"1\",\n        },\n\"RT @Heritage: new op-ed: Sotomayor and the Sordid Business of Race http://tr.im/sJAq #tcot\",\n\"political\"],\n [{\n            'v': 1449,\n            'f': \"1449\",\n        },\n{\n            'v': 0,\n            'f': \"0\",\n        },\n\"librarycongress 2010 Calendars Available- Library of Congress:Eight calendars featuringthe wide-ranging collections of http://bit.ly/2ViAr\",\n\"non-political\"],\n [{\n            'v': 2530,\n            'f': \"2530\",\n        },\n{\n            'v': 0,\n            'f': \"0\",\n        },\n\" we are going to the beach and have fun with the girls and the boys\",\n\"non-political\"],\n [{\n            'v': 748,\n            'f': \"748\",\n        },\n{\n            'v': 1,\n            'f': \"1\",\n        },\n\"RT @todayspolitics Obama To Detail His Vision To Remake Health Care #politics http://bit.ly/1oo4Ih\",\n\"political\"],\n [{\n            'v': 834,\n            'f': \"834\",\n        },\n{\n            'v': 0,\n            'f': \"0\",\n        },\n\"xy Bailout Progams - Monthly Lingerie to Give Away One Million ... http://bit.ly/mgwzm\",\n\"non-political\"],\n [{\n            'v': 2672,\n            'f': \"2672\",\n        },\n{\n            'v': 0,\n            'f': \"0\",\n        },\n\"rried about my dad. His coughs are getting louder and worse by the, ahem, cough.\",\n\"non-political\"],\n [{\n            'v': 1300,\n            'f': \"1300\",\n        },\n{\n            'v': 1,\n            'f': \"1\",\n        },\n\"house passes clean energy act. historic. please support senate passage. http://bit.ly/lp5FC\",\n\"political\"],\n [{\n            'v': 1659,\n            'f': \"1659\",\n        },\n{\n            'v': 0,\n            'f': \"0\",\n        },\n\"kratzer It is a college town, so you never know. You could hang out with us tonight. I'm sure we'll have trick or treaters.\",\n\"non-political\"],\n [{\n            'v': 1087,\n            'f': \"1087\",\n        },\n{\n            'v': 1,\n            'f': \"1\",\n        },\n\"The Argentinian President demands Iran to hand over their defence minister , well the next IMF loan is now secure for Argentinian economy\",\n\"political\"],\n [{\n            'v': 1887,\n            'f': \"1887\",\n        },\n{\n            'v': 0,\n            'f': \"0\",\n        },\n\" seems that you need to sprinkle money to people internationally so no bad habits end up biting me back.Judging people is not on my agenda\",\n\"non-political\"],\n [{\n            'v': 2386,\n            'f': \"2386\",\n        },\n{\n            'v': 0,\n            'f': \"0\",\n        },\n\"an bauu :( RT @stellanindya: I'm in the middle of the dark forest.. Aahh so creepyyy hihi http://myloc.me/1iBsj\",\n\"non-political\"],\n [{\n            'v': 1308,\n            'f': \"1308\",\n        },\n{\n            'v': 1,\n            'f': \"1\",\n        },\n\"RT@BarackObama Today is the day\\u00e2\\u20ac\\u201dcan you help OFA generate 100,000 health reform calls to Congress in a single day? http://bit.ly/ls1PC #hc09\",\n\"political\"],\n [{\n            'v': 1908,\n            'f': \"1908\",\n        },\n{\n            'v': 0,\n            'f': \"0\",\n        },\n\"#############################################################################################################################################################################################################################################################\",\n\"non-political\"],\n [{\n            'v': 2353,\n            'f': \"2353\",\n        },\n{\n            'v': 0,\n            'f': \"0\",\n        },\n\" @NinoBless I can't wait to hear the excuses after Cotto tears up Pac ... \\\"oh he's so muc bigger\\\" ..\\\"oh there was a flood in his homeland\",\n\"non-political\"],\n [{\n            'v': 2924,\n            'f': \"2924\",\n        },\n{\n            'v': 0,\n            'f': \"0\",\n        },\n\"raigsteed it put me off my fish and chips :(\",\n\"non-political\"],\n [{\n            'v': 732,\n            'f': \"732\",\n        },\n{\n            'v': 1,\n            'f': \"1\",\n        },\n\"RT @Noagendawiki: #noagenda new page: No Agenda 120: \\\"The Clinton Gore Man Hug\\\" http://bit.ly/13fu0e\",\n\"political\"],\n [{\n            'v': 2517,\n            'f': \"2517\",\n        },\n{\n            'v': 0,\n            'f': \"0\",\n        },\n\"iiits bikin sendiri dong naaad di kost :D RT @nadyahamzah: Iigghh itu dmana nanda??\",\n\"non-political\"],\n [{\n            'v': 1016,\n            'f': \"1016\",\n        },\n{\n            'v': 1,\n            'f': \"1\",\n        },\n\"Slideshow: The Chinese Stimulus Is Working: China\\u00e2\\u20ac\\u2122s stimulus package, which was unveiled in November, will spen.. http://tr.im/v1bS\",\n\"political\"],\n [{\n            'v': 1906,\n            'f': \"1906\",\n        },\n{\n            'v': 0,\n            'f': \"0\",\n        },\n\"larobsten http://twitpic.com/nuy87 - aaaaaaaaaaaaaaaaaaaaaah! Meu eles trouxeram o SOL pra SP! Q diiiiiiiiiia LINDO est\\u00c3\\u00a1 hj =)\",\n\"non-political\"],\n [{\n            'v': 1286,\n            'f': \"1286\",\n        },\n{\n            'v': 1,\n            'f': \"1\",\n        },\n\"EU already acting as a sort of behind-the-scenes IMF: ... and when these are agreed on, the government in quest.. http://bit.ly/3AT1vB\",\n\"political\"],\n [{\n            'v': 2712,\n            'f': \"2712\",\n        },\n{\n            'v': 0,\n            'f': \"0\",\n        },\n\"hahahahahahahahaha RT @nikitheunicorn: im so horny and hungry\",\n\"non-political\"],\n [{\n            'v': 58,\n            'f': \"58\",\n        },\n{\n            'v': 1,\n            'f': \"1\",\n        },\n\"Christians struggling in captive nations.....believers still dying at the hands of atheist communists\",\n\"political\"],\n [{\n            'v': 645,\n            'f': \"645\",\n        },\n{\n            'v': 1,\n            'f': \"1\",\n        },\n\"RT @Miagogo: : Is Obama Really Preparing For Civil War? http://bit.ly/5TUCrM #tcot #tlot #sgp | If he was, maybe he should cut the crap\",\n\"political\"],\n [{\n            'v': 2501,\n            'f': \"2501\",\n        },\n{\n            'v': 0,\n            'f': \"0\",\n        },\n\"nsider how much more you often suffer from your anger and grief, than from those very things for which you are angry & grieved.\",\n\"non-political\"],\n [{\n            'v': 518,\n            'f': \"518\",\n        },\n{\n            'v': 1,\n            'f': \"1\",\n        },\n\"RT @JanSimpson Okay- what are the companies to date that are supporting Obama's thugness and dropped BecK? is State Farm one of em?\",\n\"political\"],\n [{\n            'v': 1400,\n            'f': \"1400\",\n        },\n{\n            'v': 1,\n            'f': \"1\",\n        },\n\"270 Americans died in that Pan-Am flight, and The English government is suppose to be our allie? Utterly disgraceful!\",\n\"political\"],\n [{\n            'v': 3054,\n            'f': \"3054\",\n        },\n{\n            'v': 0,\n            'f': \"0\",\n        },\n\"RINArockstarr Love it!!! \\\"That's MY Attitude!\\\" F*#! what ya heard!!! Can't wait 2 be w/ u IN MIAMI BITCH!!!!\",\n\"non-political\"],\n [{\n            'v': 1565,\n            'f': \"1565\",\n        },\n{\n            'v': 1,\n            'f': \"1\",\n        },\n\"end the travel ban on Cuba for Americans. Call ur Congress People tomorrow. info here: http://bit.ly/NMcr5\",\n\"political\"],\n [{\n            'v': 129,\n            'f': \"129\",\n        },\n{\n            'v': 1,\n            'f': \"1\",\n        },\n\"Don't be CCCP RT @24space48 \\\"Democrats Healthcare Bill\\\": \\\"The Superhighway to SOCIALISM\\\"\",\n\"political\"],\n [{\n            'v': 2961,\n            'f': \"2961\",\n        },\n{\n            'v': 0,\n            'f': \"0\",\n        },\n\"n't know your car's maintenance schedule? Head over to http://tiny.cc/U4Jjm and find one! It'll help you keep things running\",\n\"non-political\"],\n [{\n            'v': 132,\n            'f': \"132\",\n        },\n{\n            'v': 1,\n            'f': \"1\",\n        },\n\"On Your Marx RT @kplo Communist consumer goods make comeback: http://su.pr/8sczfi\",\n\"political\"],\n [{\n            'v': 945,\n            'f': \"945\",\n        },\n{\n            'v': 1,\n            'f': \"1\",\n        },\n\"hi guys just giving a tweet to say hi and what can we do about the worlds economy?\",\n\"political\"],\n [{\n            'v': 2029,\n            'f': \"2029\",\n        },\n{\n            'v': 0,\n            'f': \"0\",\n        },\n\"hadow857 because i don't want you contaminating her shit. duh. you open mouthed kissed a damn horse when you were 8 ughh shall i say more?\",\n\"non-political\"],\n [{\n            'v': 3031,\n            'f': \"3031\",\n        },\n{\n            'v': 0,\n            'f': \"0\",\n        },\n\"want saturday to be here\",\n\"non-political\"],\n [{\n            'v': 2815,\n            'f': \"2815\",\n        },\n{\n            'v': 0,\n            'f': \"0\",\n        },\n\"DueTime..Prayer is my sanity..and God is my Healer!\",\n\"non-political\"],\n [{\n            'v': 63,\n            'f': \"63\",\n        },\n{\n            'v': 1,\n            'f': \"1\",\n        },\n\"ElBaradei?s Swan Song #libertarian http://bit.ly/Gv28q\",\n\"political\"],\n [{\n            'v': 3094,\n            'f': \"3094\",\n        },\n{\n            'v': 0,\n            'f': \"0\",\n        },\n\" @PROMISEMUSIC good morning friends! i'm feeling especially blessed today....God has some great things in store for all us! RECEIVE IT!!\",\n\"non-political\"],\n [{\n            'v': 227,\n            'f': \"227\",\n        },\n{\n            'v': 1,\n            'f': \"1\",\n        },\n\"McCarthy wuz right? RT @bcrumpton this car in front of me has a sticker that says socialism sucks. hahaha.\",\n\"political\"],\n [{\n            'v': 905,\n            'f': \"905\",\n        },\n{\n            'v': 1,\n            'f': \"1\",\n        },\n\"US troops who have died while serving in Afghanistan and the Horn ... http://bit.ly/aldla\",\n\"political\"],\n [{\n            'v': 641,\n            'f': \"641\",\n        },\n{\n            'v': 1,\n            'f': \"1\",\n        },\n\"If opposing Obama makes me a racist that OK cause I no the truth. Well then I guess my black friends that oppose him r 2? Trying 2 figur out\",\n\"political\"],\n [{\n            'v': 2628,\n            'f': \"2628\",\n        },\n{\n            'v': 0,\n            'f': \"0\",\n        },\n\"itter is so much fun! I\",\n\"non-political\"],\n [{\n            'v': 2076,\n            'f': \"2076\",\n        },\n{\n            'v': 0,\n            'f': \"0\",\n        },\n\"lennbeck Glenn I love your show, My mother in Germany would swear America is doing great. Do they have anyone like you in EU? Go green 420\",\n\"non-political\"],\n [{\n            'v': 1446,\n            'f': \"1446\",\n        },\n{\n            'v': 1,\n            'f': \"1\",\n        },\n\"your existence/twitter is a legitimate reason for the government to take(via @cameronachen)fuck outta here u saltine cracker\",\n\"political\"],\n [{\n            'v': 1702,\n            'f': \"1702\",\n        },\n{\n            'v': 0,\n            'f': \"0\",\n        },\n\"k isna PP mks-jkt bwt ngambil hasil lab ayah di jkt yg ketinggalan\",\n\"non-political\"],\n [{\n            'v': 3120,\n            'f': \"3120\",\n        },\n{\n            'v': 0,\n            'f': \"0\",\n        },\n\"'s a long one people...a recap of Voodoo weekend. I hope you enjoy...http://bit.ly/1vGxWG\",\n\"non-political\"],\n [{\n            'v': 2857,\n            'f': \"2857\",\n        },\n{\n            'v': 0,\n            'f': \"0\",\n        },\n\"know I'm a late comer to it, but video editing is kind of fun. Got a cool youtube tutorial for pilot types around the bend. #aviation\",\n\"non-political\"],\n [{\n            'v': 1796,\n            'f': \"1796\",\n        },\n{\n            'v': 0,\n            'f': \"0\",\n        },\n\"sponding to a domestic disturbance in the east village\",\n\"non-political\"],\n [{\n            'v': 2083,\n            'f': \"2083\",\n        },\n{\n            'v': 0,\n            'f': \"0\",\n        },\n\"king the most of my one day off work this week lol cant believe its november already.. what a year its been so far\",\n\"non-political\"],\n [{\n            'v': 1758,\n            'f': \"1758\",\n        },\n{\n            'v': 0,\n            'f': \"0\",\n        },\n\"amNvncyble oopps\",\n\"non-political\"],\n [{\n            'v': 1479,\n            'f': \"1479\",\n        },\n{\n            'v': 0,\n            'f': \"0\",\n        },\n\" the Metropolitan Republican Club for the NY County screening meeting.\",\n\"non-political\"],\n [{\n            'v': 237,\n            'f': \"237\",\n        },\n{\n            'v': 1,\n            'f': \"1\",\n        },\n\"RT @feminismtoday: Should your blog have an hCard? #feminism http://bit.ly/7AE3SW\",\n\"political\"],\n [{\n            'v': 1747,\n            'f': \"1747\",\n        },\n{\n            'v': 0,\n            'f': \"0\",\n        },\n\"ing to bed, I'm tireddddd!! Gotta work tomorrow! Hoping for more Glampire pics of @adamlambert.\",\n\"non-political\"],\n [{\n            'v': 2295,\n            'f': \"2295\",\n        },\n{\n            'v': 0,\n            'f': \"0\",\n        },\n\"ritneypoota http://twitpic.com/nxwai - kkkkkkkkkkkkkkkkkkk morri\",\n\"non-political\"],\n [{\n            'v': 2047,\n            'f': \"2047\",\n        },\n{\n            'v': 0,\n            'f': \"0\",\n        },\n\"loriabell Cherry cinnamon? That sounds quite nice!\",\n\"non-political\"],\n [{\n            'v': 593,\n            'f': \"593\",\n        },\n{\n            'v': 1,\n            'f': \"1\",\n        },\n\"RT @GeminiLuckyLadi #fact obama gonna break allll us black people off with some $$ in due time<<<seriously? obama does not work for the blac\",\n\"political\"],\n [{\n            'v': 309,\n            'f': \"309\",\n        },\n{\n            'v': 1,\n            'f': \"1\",\n        },\n\"RT @C4Liberty How liberals seek to increase dependency to maintain their ranks and expand their power. http://is.gd/52FkG #tlot #welfare\",\n\"political\"],\n [{\n            'v': 1255,\n            'f': \"1255\",\n        },\n{\n            'v': 1,\n            'f': \"1\",\n        },\n\"@teacraftecm Agricultural offsets are important part of Waxman Markey climate bill now in US Senate. Info on biochar: http://bit.ly/13DIB1\",\n\"political\"],\n [{\n            'v': 1031,\n            'f': \"1031\",\n        },\n{\n            'v': 1,\n            'f': \"1\",\n        },\n\"Stimulus funds set to train and hire http://bit.ly/4bSc9k\",\n\"political\"],\n [{\n            'v': 2196,\n            'f': \"2196\",\n        },\n{\n            'v': 0,\n            'f': \"0\",\n        },\n\"lyciameeker nah im loyal to team more but i show appreciation to a legend of the team\",\n\"non-political\"],\n [{\n            'v': 1036,\n            'f': \"1036\",\n        },\n{\n            'v': 1,\n            'f': \"1\",\n        },\n\"@zeiesfirdaus Please don't listen to the media. This better economy is stimulus cash.It will not last. www.rickjohnson01.com/?page_id=2\",\n\"political\"],\n [{\n            'v': 2429,\n            'f': \"2429\",\n        },\n{\n            'v': 0,\n            'f': \"0\",\n        },\n\"o consegui dormir, fui dormir as 3h da manha, tive pesadelos horriveis e acordei as 6h30 da manha. ODEIO. odeio nao ter espa\\u00c3\\u00a7o.\",\n\"non-political\"],\n [{\n            'v': 176,\n            'f': \"176\",\n        },\n{\n            'v': 1,\n            'f': \"1\",\n        },\n\"RT @glennbeck OLIGARH? Really? You are so predictable... don't miss the open. // He left out the 'C' for Communism.\",\n\"political\"],\n [{\n            'v': 1868,\n            'f': \"1868\",\n        },\n{\n            'v': 0,\n            'f': \"0\",\n        },\n\"\\u0160\\u00e5\\u203a\\u017e\\u00e3\\u0081\\u00ae\\u00e3\\u0192\\u2020\\u00e3\\u201a\\u00b9\\u00e3\\u0192\\u02c6\\u00e5\\u2021\\u00a1\\u00e3\\u0192\\u0178\\u00e3\\u201a\\u00b9\\u00e3\\u0081\\u0152\\u00e5\\u00a4\\u0161\\u00e3\\u0081\\u201e\\u00e3\\u0192\\u00bb\\u00e3\\u0192\\u00bb\\u00e3\\u201a\\u00b7\\u00e3\\u0192\\u00a7\\u00e3\\u0192\\u0192\\u00e3\\u201a\\u00af\\u00e3\\u0081\\u00a0\\u00e3\\u20ac\\u201a\",\n\"non-political\"],\n [{\n            'v': 776,\n            'f': \"776\",\n        },\n{\n            'v': 1,\n            'f': \"1\",\n        },\n\"RT @SaveBEESatHOME: Bush Consultant Mark McKinnon: Obama 'Hasn't Gotten All ...: http://bit.ly/4qkjh\",\n\"political\"],\n [{\n            'v': 2822,\n            'f': \"2822\",\n        },\n{\n            'v': 0,\n            'f': \"0\",\n        },\n\" much as I'm down with the Yankees winning it back in the bronx, I would have loved to see all the towel waving Phaggots get silenced.\",\n\"non-political\"],\n [{\n            'v': 2390,\n            'f': \"2390\",\n        },\n{\n            'v': 0,\n            'f': \"0\",\n        },\n\"erything I do, every breath I take, I do it 4 him. I am da best me cause I want him 2 be da best him. My life, my luv, my inspiration...\",\n\"non-political\"],\n [{\n            'v': 2438,\n            'f': \"2438\",\n        },\n{\n            'v': 0,\n            'f': \"0\",\n        },\n\"eambewleyintl OH YEAH they are awesome. the self mag shoot was so sweet. makes me wanna cuddle up .\",\n\"non-political\"],\n [{\n            'v': 797,\n            'f': \"797\",\n        },\n{\n            'v': 1,\n            'f': \"1\",\n        },\n\"yayurl.com/games No. 3 Republican to back Sotomayor for high court (AP) : AP - The Senate's No.. http://bit.ly/BVB5u\",\n\"political\"],\n [{\n            'v': 1058,\n            'f': \"1058\",\n        },\n{\n            'v': 0,\n            'f': \"0\",\n        },\n\" Afghanistan, Part Two http://bit.ly/497SZq\",\n\"non-political\"],\n [{\n            'v': 3181,\n            'f': \"3181\",\n        },\n{\n            'v': 0,\n            'f': \"0\",\n        },\n\"nu trend: Authentic, intense flavors are key to Mexican cuisine: http://bit.ly/3PEYgK\",\n\"non-political\"],\n [{\n            'v': 621,\n            'f': \"621\",\n        },\n{\n            'v': 1,\n            'f': \"1\",\n        },\n\"Watch this video http://metacafe.com/w/3568656/ on Metacafe - Obama Celebrates Winning the Nobel Peace Prize\",\n\"political\"],\n [{\n            'v': 1509,\n            'f': \"1509\",\n        },\n{\n            'v': 1,\n            'f': \"1\",\n        },\n\"Times Of London: Lockerbie Bomber 'Set Free For Oil': The British government decided it was \\\"in the overwhelming.. http://bit.ly/16ZU2l\",\n\"political\"],\n [{\n            'v': 3105,\n            'f': \"3105\",\n        },\n{\n            'v': 0,\n            'f': \"0\",\n        },\n\"y is my Dad calling everyone he knows and bragging about being diagnosed with COPD? I wonder if he realizes that it's NOT a GOOD thing?\",\n\"non-political\"],\n [{\n            'v': 122,\n            'f': \"122\",\n        },\n{\n            'v': 1,\n            'f': \"1\",\n        },\n\"Evil Conservative Radio: Cap and Trade: What a Great Way to ...: search engine marketing \\u00c2\\u00b7 Website Traffic - Web.. http://bit.ly/4bZ6Wp\",\n\"political\"],\n [{\n            'v': 1234,\n            'f': \"1234\",\n        },\n{\n            'v': 0,\n            'f': \"0\",\n        },\n\"vernment issues swine flu advice fo... - The Associated Press http://bit.ly/1Hhkmn\",\n\"non-political\"],\n [{\n            'v': 2236,\n            'f': \"2236\",\n        },\n{\n            'v': 0,\n            'f': \"0\",\n        },\n\"olution deniers like Ray Comfort should be lumped in the same group of crazies as Holocaust deniers. http://bit.ly/1XBmyB\",\n\"non-political\"],\n [{\n            'v': 1907,\n            'f': \"1907\",\n        },\n{\n            'v': 0,\n            'f': \"0\",\n        },\n\"nning Back Your Ex - The Ex Back Trick Starts With A Confident Attitude: http://ping.fm/nhaww\",\n\"non-political\"],\n [{\n            'v': 304,\n            'f': \"304\",\n        },\n{\n            'v': 1,\n            'f': \"1\",\n        },\n\"Quiet day today, met the prime minister and maybe i'll agree to let the conservatives pay for my election campaign to be Queen.\",\n\"political\"],\n [{\n            'v': 2826,\n            'f': \"2826\",\n        },\n{\n            'v': 0,\n            'f': \"0\",\n        },\n\"ady 2 c da falcons get dat asss tapped\",\n\"non-political\"],\n [{\n            'v': 1262,\n            'f': \"1262\",\n        },\n{\n            'v': 0,\n            'f': \"0\",\n        },\n\"am in the process of writing a mock constitution. the principles will be cabinet government and separation of powers.\",\n\"non-political\"],\n [{\n            'v': 504,\n            'f': \"504\",\n        },\n{\n            'v': 1,\n            'f': \"1\",\n        },\n\"In Asia, Obama, Medvedev see nuclear pact progress http://bit.ly/3SfE4N #WorldNews #News #AP\",\n\"political\"],\n [{\n            'v': 403,\n            'f': \"403\",\n        },\n{\n            'v': 0,\n            'f': \"0\",\n        },\n\" @uleadin: RT @ParulBh: Dear #Facebook,U R nt Obama.So plz stop trying 2 bring abt so much change.U won't win a NobelPeacePrize\",\n\"non-political\"],\n [{\n            'v': 1618,\n            'f': \"1618\",\n        },\n{\n            'v': 0,\n            'f': \"0\",\n        },\n\"o! Great Frankenstein Jack-O-Lantern created by my friend Lord Doodlie of Blackstar Amplification. Have a... http://bit.ly/1kNd6g\",\n\"non-political\"],\n [{\n            'v': 1942,\n            'f': \"1942\",\n        },\n{\n            'v': 0,\n            'f': \"0\",\n        },\n\"ansform Day Makeup to Night -- Fast http://bit.ly/4gUna5\",\n\"non-political\"],\n [{\n            'v': 1283,\n            'f': \"1283\",\n        },\n{\n            'v': 1,\n            'f': \"1\",\n        },\n\"Government insists eco-towns work with locals: Developers of first wave of eco-towns told to have closer ties wi.. http://bit.ly/lc9ul\",\n\"political\"],\n [{\n            'v': 914,\n            'f': \"914\",\n        },\n{\n            'v': 1,\n            'f': \"1\",\n        },\n\"Getting thrifty in this bad economy?? Find coupons in your zip code! http://bit.ly/8r7QyT\",\n\"political\"],\n [{\n            'v': 2508,\n            'f': \"2508\",\n        },\n{\n            'v': 0,\n            'f': \"0\",\n        },\n\"rbancool Awesome! I'm glad you like it :)\",\n\"non-political\"],\n [{\n            'v': 673,\n            'f': \"673\",\n        },\n{\n            'v': 1,\n            'f': \"1\",\n        },\n\"{memeorandum} More on Palin - I spoke to a few friends in Alaskan Republican politics yesterday. (M.. http://chilp.it/?1183d2\",\n\"political\"],\n [{\n            'v': 373,\n            'f': \"373\",\n        },\n{\n            'v': 1,\n            'f': \"1\",\n        },\n\"Labour earn more and spend less than the Conservatives in 2008 http://bit.ly/mpylo\",\n\"political\"],\n [{\n            'v': 2679,\n            'f': \"2679\",\n        },\n{\n            'v': 0,\n            'f': \"0\",\n        },\n\"o lazy to do my printmaking so I'll spnd the next hour doing nothing. Awesome !\",\n\"non-political\"],\n [{\n            'v': 2559,\n            'f': \"2559\",\n        },\n{\n            'v': 0,\n            'f': \"0\",\n        },\n\"espres Sorry to hear the whole fam is sick. Chickie soup all around! <ladeling up>\",\n\"non-political\"],\n [{\n            'v': 2420,\n            'f': \"2420\",\n        },\n{\n            'v': 0,\n            'f': \"0\",\n        },\n\"n't Sleep... And my music jst switchd off, and i don't feel like reading now what....? :*)\",\n\"non-political\"],\n [{\n            'v': 2860,\n            'f': \"2860\",\n        },\n{\n            'v': 0,\n            'f': \"0\",\n        },\n\"hernandezcnn Did you click on a link form a DM? If so, I did too! Just change your password.\",\n\"non-political\"],\n [{\n            'v': 1962,\n            'f': \"1962\",\n        },\n{\n            'v': 0,\n            'f': \"0\",\n        },\n\"ihnachtsgeschenke #2: Garmin GPS Forerunner 305 http://twurl.nl/xfkuvw\",\n\"non-political\"],\n [{\n            'v': 1079,\n            'f': \"1079\",\n        },\n{\n            'v': 1,\n            'f': \"1\",\n        },\n\"I like people who bitch about the economy despite the fact the down has risen an average of 500pts a month for the last 7 months\",\n\"political\"],\n [{\n            'v': 616,\n            'f': \"616\",\n        },\n{\n            'v': 1,\n            'f': \"1\",\n        },\n\"White House Stays Mum on Clinton Visit to North Korea http://ow.ly/j32o\",\n\"political\"],\n [{\n            'v': 2405,\n            'f': \"2405\",\n        },\n{\n            'v': 0,\n            'f': \"0\",\n        },\n\"was a soldier but im tumblin over.\",\n\"non-political\"],\n [{\n            'v': 2036,\n            'f': \"2036\",\n        },\n{\n            'v': 0,\n            'f': \"0\",\n        },\n\" @BoukeHaarsma: Completed my first blog entry: \\\"Optimizing SELECT * FROM with mysql_field_table()\\\" - http://bit.ly/IabNq\",\n\"non-political\"],\n [{\n            'v': 463,\n            'f': \"463\",\n        },\n{\n            'v': 1,\n            'f': \"1\",\n        },\n\"Bill Clinton helps free the 2 American journalists being held in NK; He promises not to hit on them during the flight back to the US.\",\n\"political\"],\n [{\n            'v': 1750,\n            'f': \"1750\",\n        },\n{\n            'v': 0,\n            'f': \"0\",\n        },\n\"kinda miss the academia; the only thing I don't miss is not having $$$ :-P\",\n\"non-political\"],\n [{\n            'v': 1567,\n            'f': \"1567\",\n        },\n{\n            'v': 1,\n            'f': \"1\",\n        },\n\"Obama's Hot-Dog Diplomacy with Iranian government! http://bit.ly/1vhf6w\",\n\"political\"],\n [{\n            'v': 969,\n            'f': \"969\",\n        },\n{\n            'v': 1,\n            'f': \"1\",\n        },\n\"UN backs \\\"innovative\\\" solutions for Iraq's war reparations to Kuwait ...http://tinyurl.com/l542w5\",\n\"political\"],\n [{\n            'v': 2203,\n            'f': \"2203\",\n        },\n{\n            'v': 0,\n            'f': \"0\",\n        },\n\"unMaguire_x; you can't remember?\",\n\"non-political\"],\n [{\n            'v': 1027,\n            'f': \"1027\",\n        },\n{\n            'v': 1,\n            'f': \"1\",\n        },\n\"Even w/ the decline in job losses out last week & this news-http://bit.ly/cDnOe, it's still hard for me to feel good about the economy. You?\",\n\"political\"],\n [{\n            'v': 2392,\n            'f': \"2392\",\n        },\n{\n            'v': 0,\n            'f': \"0\",\n        },\n\"a_Smilie : Hmmm.... we worked out and watched and old movie at the same time.. It was only for an hour though. And we didn't betray you.\",\n\"non-political\"],\n [{\n            'v': 902,\n            'f': \"902\",\n        },\n{\n            'v': 1,\n            'f': \"1\",\n        },\n\"RT @sullydoug RT @nobodysnews: Speaker Pelosi's pet project is coming out of your stimulus money http://tinyurl.com/m5qhya #tcot\",\n\"political\"],\n [{\n            'v': 1464,\n            'f': \"1464\",\n        },\n{\n            'v': 1,\n            'f': \"1\",\n        },\n\"Tories denounce Liberal MP\\u00e2\\u20ac\\u2122s immigrant pension bill: The Conservative government is attacking a Liberal MP\\u00e2\\u20ac\\u2122s pr.. http://bit.ly/3evmF3\",\n\"political\"],\n [{\n            'v': 779,\n            'f': \"779\",\n        },\n{\n            'v': 1,\n            'f': \"1\",\n        },\n\"Sailing Against Slavery: Michelle Obama\\u00e2\\u20ac\\u2122s tour of Ghana\\u00e2\\u20ac\\u2122s Cape Coast last month, was a poignant reminder of the .. http://bit.ly/9POj5\",\n\"political\"],\n [{\n            'v': 989,\n            'f': \"989\",\n        },\n{\n            'v': 1,\n            'f': \"1\",\n        },\n\"@queenroyalcrown Im not gonna do it too big. The economy is kinda shaky. Gotta be wise with the gwap lol\",\n\"political\"],\n [{\n            'v': 1012,\n            'f': \"1012\",\n        },\n{\n            'v': 1,\n            'f': \"1\",\n        },\n\"Experts say voter turnout could be a blow to Taliban #afghanistan #taliban http://bit.ly/gwXR8 http://bit.ly/3wFXv8\",\n\"political\"],\n [{\n            'v': 2789,\n            'f': \"2789\",\n        },\n{\n            'v': 0,\n            'f': \"0\",\n        },\n\" @sd_prince: Atlanta secondary is suspect\",\n\"non-political\"],\n [{\n            'v': 3146,\n            'f': \"3146\",\n        },\n{\n            'v': 0,\n            'f': \"0\",\n        },\n\"look and stare so deep in your eyes, I touch on you more and more every time\",\n\"non-political\"],\n [{\n            'v': 2965,\n            'f': \"2965\",\n        },\n{\n            'v': 0,\n            'f': \"0\",\n        },\n\"ihblueberry http://twitpic.com/o2dle - ah,vc mostrou o meu desenho O:\",\n\"non-political\"],\n [{\n            'v': 1717,\n            'f': \"1717\",\n        },\n{\n            'v': 0,\n            'f': \"0\",\n        },\n\"rbara's Unique Antique Boutique - Antiques and Arts Weekly http://ff.im/-aOEAu\",\n\"non-political\"],\n [{\n            'v': 174,\n            'f': \"174\",\n        },\n{\n            'v': 1,\n            'f': \"1\",\n        },\n\"Glad to hear that the Socialist bank bailout STARTED by George Bush and continued by Obama seems to have worked.\",\n\"political\"],\n [{\n            'v': 2071,\n            'f': \"2071\",\n        },\n{\n            'v': 0,\n            'f': \"0\",\n        },\n\" was bound to happen sooner or later...\\\"Channel drift\\\" has struck The Weather Channel! They're now showing...MOVIES? http://bit.ly/2MYjE6\",\n\"non-political\"],\n [{\n            'v': 2976,\n            'f': \"2976\",\n        },\n{\n            'v': 0,\n            'f': \"0\",\n        },\n\"indyparamitha makasi ya win dah bantu ngludahin . :-P\",\n\"non-political\"],\n [{\n            'v': 610,\n            'f': \"610\",\n        },\n{\n            'v': 1,\n            'f': \"1\",\n        },\n\"New blog post: Obama Warns of Return of Swine Flu in the Fall http://bit.ly/UpoGF\",\n\"political\"],\n [{\n            'v': 792,\n            'f': \"792\",\n        },\n{\n            'v': 1,\n            'f': \"1\",\n        },\n\"Calling North Korea's Hand http://tr.im/phQM #NK #JFK #obama\",\n\"political\"],\n [{\n            'v': 243,\n            'f': \"243\",\n        },\n{\n            'v': 0,\n            'f': \"0\",\n        },\n\"ll throw hardcore, metal, progressive rock and another heavy genres today. I'm gonna listening to jazzy tasty music. It's better :x\",\n\"non-political\"],\n [{\n            'v': 447,\n            'f': \"447\",\n        },\n{\n            'v': 1,\n            'f': \"1\",\n        },\n\"RT @nedalives4ever: Obama canceled fundings 4 #iran human rights group,& now he wins nobel prize?? http://bit.ly/2mVcCl #iranelection\",\n\"political\"],\n [{\n            'v': 664,\n            'f': \"664\",\n        },\n{\n            'v': 0,\n            'f': \"0\",\n        },\n\"orn #nsfw Amy Reid under the sun - http://cli.gs/ELh3Z\",\n\"non-political\"],\n [{\n            'v': 2477,\n            'f': \"2477\",\n        },\n{\n            'v': 0,\n            'f': \"0\",\n        },\n\"w to Find Holiday Car Insurance: If you're planning a vacation, you may have begun your search for holiday in.. http://bit.ly/fbfJU\",\n\"non-political\"],\n [{\n            'v': 497,\n            'f': \"497\",\n        },\n{\n            'v': 1,\n            'f': \"1\",\n        },\n\"It is time that America stand up to the nuclear threat which looms over our heads as Obama stands arrogant against us and not the enemies.\",\n\"political\"],\n [{\n            'v': 21,\n            'f': \"21\",\n        },\n{\n            'v': 1,\n            'f': \"1\",\n        },\n\"RT @GOT2SNAP: #CNN PROTEST! #TCOTCan You Hear Us Now? Liberal Media Bias Called Out! Tea P... http://bit.ly/19VJob\",\n\"political\"],\n [{\n            'v': 2849,\n            'f': \"2849\",\n        },\n{\n            'v': 0,\n            'f': \"0\",\n        },\n\"ozhned We want ice and snow! The more days missed for bad weather, the less days Nick's gone during the summer!\",\n\"non-political\"],\n [{\n            'v': 2404,\n            'f': \"2404\",\n        },\n{\n            'v': 0,\n            'f': \"0\",\n        },\n\"st took \\\"Which Disney Darling Are U Most Like?\\\" and got: Demi Lovato! Try it \\u00e2\\u017e\\u201d http://bit.ly/1k4u8c\",\n\"non-political\"],\n [{\n            'v': 1957,\n            'f': \"1957\",\n        },\n{\n            'v': 0,\n            'f': \"0\",\n        },\n\" @janelasky: RIGHT NOW IN NYC: Edward Norton, Christopher Reeve's son run New York Marathon, November 1, 2009 - http://tinyurl.com/ybh7gqm\",\n\"non-political\"],\n [{\n            'v': 1805,\n            'f': \"1805\",\n        },\n{\n            'v': 0,\n            'f': \"0\",\n        },\n\"errellowens ill go\",\n\"non-political\"],\n [{\n            'v': 2351,\n            'f': \"2351\",\n        },\n{\n            'v': 0,\n            'f': \"0\",\n        },\n\"occobocco \\u00e3\\u0081\\u201a\\u00e3\\u201a\\u0160\\u00e3\\u0081\\u0152\\u00e3\\u0081\\u00a8\\u00e3\\u0081\\u2020\\u00ef\\u00bc\\u0081\\u00ef\\u00bc\\u0081\\u00ef\\u00bc\\u0081\\u00e3\\u201a\\u00a2\\u00e3\\u0192\\u0192\\u00e3\\u0192\\u2014\\u00e3\\u0081\\u2014\\u00e3\\u0081\\u00be\\u00e3\\u0081\\u2122\\u00ef\\u00bc\\u0081\",\n\"non-political\"],\n [{\n            'v': 1503,\n            'f': \"1503\",\n        },\n{\n            'v': 1,\n            'f': \"1\",\n        },\n\"[E]ver since the Reagan years, the Republican Party has been dominated by radicals. \\u00e2\\u20ac\\u201dPaul Krugman http://bit.ly/2uJwBy (via @manyko2)\",\n\"political\"],\n [{\n            'v': 856,\n            'f': \"856\",\n        },\n{\n            'v': 1,\n            'f': \"1\",\n        },\n\"Asian markets gain as G20 commits to maintain economic stimulus; Euro in Range, Pound eases: FXstreet.com (Barce.. http://bit.ly/106SRD\",\n\"political\"],\n [{\n            'v': 884,\n            'f': \"884\",\n        },\n{\n            'v': 1,\n            'f': \"1\",\n        },\n\"RT @phmadore made \\\"In the Rear w/the Gear (for Jereme Dean & Set)viddler: http://www.viddler.com/expl... Wow, like, you are in Iraq n shit.\",\n\"political\"],\n [{\n            'v': 1441,\n            'f': \"1441\",\n        },\n{\n            'v': 1,\n            'f': \"1\",\n        },\n\"Health Scheme SABLA For Adolescent Girls From Central Government: \\\"The ministry has als.. http://bit.ly/11PINa http://bit.ly/LO8MJ\",\n\"political\"],\n [{\n            'v': 2121,\n            'f': \"2121\",\n        },\n{\n            'v': 0,\n            'f': \"0\",\n        },\n\"lloween Recap on the blog: http://www.michellesidles.com/\",\n\"non-political\"],\n [{\n            'v': 381,\n            'f': \"381\",\n        },\n{\n            'v': 1,\n            'f': \"1\",\n        },\n\"Conservatives 2009: Shadow Health Secretary Articulates The Tory Vision For The NHS: In his spee.. http://bit.ly/31E3MN - eGov monitor\",\n\"political\"],\n [{\n            'v': 2070,\n            'f': \"2070\",\n        },\n{\n            'v': 0,\n            'f': \"0\",\n        },\n\"anniiMinogue Dannii i was wondering why u don't perform on the x factor coz cheryl did and your waaayyy better!! xx\",\n\"non-political\"],\n [{\n            'v': 1737,\n            'f': \"1737\",\n        },\n{\n            'v': 0,\n            'f': \"0\",\n        },\n\"ok the \\\"Qual desenho animado voc\\u00c3\\u00aa seria?\\\" quiz & got: Arnold! What about you? \\u00e2\\u017e\\u0153 http://bit.ly/3DDNfs\",\n\"non-political\"],\n [{\n            'v': 1940,\n            'f': \"1940\",\n        },\n{\n            'v': 0,\n            'f': \"0\",\n        },\n\"ink my blood pressure just doubled! What a fight between Button & Webber, may have forgotten to breathe for most of that lap#F1\",\n\"non-political\"],\n [{\n            'v': 1797,\n            'f': \"1797\",\n        },\n{\n            'v': 0,\n            'f': \"0\",\n        },\n\"ancespoetwoman why\",\n\"non-political\"],\n [{\n            'v': 2091,\n            'f': \"2091\",\n        },\n{\n            'v': 0,\n            'f': \"0\",\n        },\n\"ackiejonas15 hahaha im just kidding i do too\",\n\"non-political\"],\n [{\n            'v': 2314,\n            'f': \"2314\",\n        },\n{\n            'v': 0,\n            'f': \"0\",\n        },\n\"eohot Old AND new 3GS?\",\n\"non-political\"],\n [{\n            'v': 2713,\n            'f': \"2713\",\n        },\n{\n            'v': 0,\n            'f': \"0\",\n        },\n\"t the Phillies win today! And go back to Yankee stadium to win\",\n\"non-political\"],\n [{\n            'v': 2215,\n            'f': \"2215\",\n        },\n{\n            'v': 0,\n            'f': \"0\",\n        },\n\"uld you imagine a city bus with Swangers ????\",\n\"non-political\"],\n [{\n            'v': 393,\n            'f': \"393\",\n        },\n{\n            'v': 1,\n            'f': \"1\",\n        },\n\"Clinton's Law: 'It's the economy ...' http://ow.ly/15L4Tk\",\n\"political\"],\n [{\n            'v': 2232,\n            'f': \"2232\",\n        },\n{\n            'v': 0,\n            'f': \"0\",\n        },\n\"hnny damon, you're an idiot WHY DID YOU DIVE FOR THAT BALL? Let's go yankees!\",\n\"non-political\"],\n [{\n            'v': 1189,\n            'f': \"1189\",\n        },\n{\n            'v': 1,\n            'f': \"1\",\n        },\n\"Hear Pat Reynolds at itSMF Fusion today at 11:15 CT- Managing the Cloud in the New Economy http://ow.ly/qjcf #cloud #ibm ^KH\",\n\"political\"],\n [{\n            'v': 633,\n            'f': \"633\",\n        },\n{\n            'v': 0,\n            'f': \"0\",\n        },\n\"p! Ahmadinejad, obama and mouammar have just joined us too!! welcome to Lion King dAY Commemorations!!\",\n\"non-political\"],\n [{\n            'v': 1380,\n            'f': \"1380\",\n        },\n{\n            'v': 1,\n            'f': \"1\",\n        },\n\"RT @dylanmsnbc http://bit.ly/19Yyro Ron Paul on Fed.We need to shine light on every aspect of our government.Secrets too often equal theft.\",\n\"political\"],\n [{\n            'v': 2237,\n            'f': \"2237\",\n        },\n{\n            'v': 0,\n            'f': \"0\",\n        },\n\"lvador Dali \\u00c3\\u00a9 um bom nome.\",\n\"non-political\"],\n [{\n            'v': 1701,\n            'f': \"1701\",\n        },\n{\n            'v': 0,\n            'f': \"0\",\n        },\n\"\\u201c\\u00e9\\u0081\\u2022\\u00e3\\u0081\\u00a3\\u00e3\\u0081\\u00a6\\u00e9\\u20ac\\u2020\\u00e3\\u0081\\u00ab\\u00e4\\u00b9\\u2014\\u00e3\\u0081\\u00a3\\u00e3\\u0081\\u00a6\\u00e3\\u0081\\u2014\\u00e3\\u0081\\u00be\\u00e3\\u0081\\u00a3\\u00e3\\u0081\\u00a6\\u00e5\\u201c\\u0081\\u00e5\\u00b7\\u009d\\u00e3\\u0081\\u00be\\u00e3\\u0081\\u00a7\\u00e8\\u00a1\\u0152\\u00e3\\u0081\\u00a3\\u00e3\\u0081\\u00a6\\u00e3\\u0081\\u2014\\u00e3\\u0081\\u00be\\u00e3\\u0081\\u0178(\\u00e3\\u0192\\u017d\\u00e2\\u2013\\u00b3\\u00ef\\u00bc\\u00b4)\",\n\"non-political\"],\n [{\n            'v': 28,\n            'f': \"28\",\n        },\n{\n            'v': 0,\n            'f': \"0\",\n        },\n\"hate Flo from the Progressive commercials. So fkn annoying.\",\n\"non-political\"],\n [{\n            'v': 110,\n            'f': \"110\",\n        },\n{\n            'v': 1,\n            'f': \"1\",\n        },\n\"OMG GOP WTF?! Heard the latest conservative claptrap? Take quiz to benefit lefty org & get the sticker http://bit.ly/yz8wE #p2 #noisemachine\",\n\"political\"],\n [{\n            'v': 2134,\n            'f': \"2134\",\n        },\n{\n            'v': 0,\n            'f': \"0\",\n        },\n\"ckenziewark Did they just take the functional prerequisites of society and replace them with things in academia?\",\n\"non-political\"],\n [{\n            'v': 2904,\n            'f': \"2904\",\n        },\n{\n            'v': 0,\n            'f': \"0\",\n        },\n\" you use twidroid I need your help. How do I see my followers and who I'm following\",\n\"non-political\"],\n [{\n            'v': 2503,\n            'f': \"2503\",\n        },\n{\n            'v': 0,\n            'f': \"0\",\n        },\n\" lupa satu hal lg, dosa jg menumpuk RT @yosie24: Tugas menumpuk.kerjaan menumpuk.lemak diperut ikutan menumpuk!!bagooos\",\n\"non-political\"],\n [{\n            'v': 798,\n            'f': \"798\",\n        },\n{\n            'v': 1,\n            'f': \"1\",\n        },\n\"RT @AMERICAblogGay: The Advocate learns that there still is no strategy for DADT repeal: This is disturbing. As we've been noting, the . ...\",\n\"political\"],\n [{\n            'v': 2809,\n            'f': \"2809\",\n        },\n{\n            'v': 0,\n            'f': \"0\",\n        },\n\"know it's not Friday... but follow @2ndCityHockey. literally the greatest and funniest tweets ever. and they're about hockey. win win.\",\n\"non-political\"],\n [{\n            'v': 2547,\n            'f': \"2547\",\n        },\n{\n            'v': 0,\n            'f': \"0\",\n        },\n\"eathbyChoco You are so right! I wonder why people do some of the things they do to others.\",\n\"non-political\"],\n [{\n            'v': 2928,\n            'f': \"2928\",\n        },\n{\n            'v': 0,\n            'f': \"0\",\n        },\n\"ww 6 minutes and 4 supporters? thanks everyone and thanks @bieberpaparazzi <- follow amazing :)\",\n\"non-political\"],\n [{\n            'v': 3182,\n            'f': \"3182\",\n        },\n{\n            'v': 0,\n            'f': \"0\",\n        },\n\"ether Yes. Their pay is on the low side, about $10/hour, and I'd have to commute from Columbia.\",\n\"non-political\"],\n [{\n            'v': 196,\n            'f': \"196\",\n        },\n{\n            'v': 0,\n            'f': \"0\",\n        },\n\"TM rocks...i remember I saw them for free in 2000 in LA...then got pepper sprayed by LAPD because they thought I was riotting/anarchist.\",\n\"non-political\"],\n [{\n            'v': 1804,\n            'f': \"1804\",\n        },\n{\n            'v': 0,\n            'f': \"0\",\n        },\n\"enePerez YEah!! DONT!!!\",\n\"non-political\"],\n [{\n            'v': 2749,\n            'f': \"2749\",\n        },\n{\n            'v': 0,\n            'f': \"0\",\n        },\n\"ray_ozonemag sounds like you're going on a tour new day new stop\",\n\"non-political\"],\n [{\n            'v': 1493,\n            'f': \"1493\",\n        },\n{\n            'v': 1,\n            'f': \"1\",\n        },\n\"Latest News Healthcare bill limpid's Senate hurdle : A bruising debate on health c.. http://bit.ly/085ls9e MedicExchange.com\",\n\"political\"],\n [{\n            'v': 2676,\n            'f': \"2676\",\n        },\n{\n            'v': 0,\n            'f': \"0\",\n        },\n\"onnieWahlberg Are you here yet? :) I miss you... FINN TWUG!\",\n\"non-political\"],\n [{\n            'v': 2707,\n            'f': \"2707\",\n        },\n{\n            'v': 0,\n            'f': \"0\",\n        },\n\"at pretty much sums it up for crazy iPhone news. I hope you all enjoyed the news and we'll see you again at the Belus launch.\",\n\"non-political\"],\n [{\n            'v': 2315,\n            'f': \"2315\",\n        },\n{\n            'v': 0,\n            'f': \"0\",\n        },\n\"hh just hanging out beofre i go read some of New Moon before i crash!\",\n\"non-political\"],\n [{\n            'v': 2636,\n            'f': \"2636\",\n        },\n{\n            'v': 0,\n            'f': \"0\",\n        },\n\" @canimmigrant: Tips on getting the job - Q&A with immigrant head of human resources at RBC http://bit.ly/2GyhFu\",\n\"non-political\"],\n [{\n            'v': 2384,\n            'f': \"2384\",\n        },\n{\n            'v': 0,\n            'f': \"0\",\n        },\n\"ing to try print ambers card. may get distracted and not come back tbqh. ;D\",\n\"non-political\"],\n [{\n            'v': 167,\n            'f': \"167\",\n        },\n{\n            'v': 0,\n            'f': \"0\",\n        },\n\"wBlue: Josh on JJ and NFL Socialism - http://tinyurl.com/lstgnz\",\n\"non-political\"],\n [{\n            'v': 1391,\n            'f': \"1391\",\n        },\n{\n            'v': 1,\n            'f': \"1\",\n        },\n\"Whole Foods CEO denounces government-run healthcare. Liberals announce boycott; conservatives praise. http://bit.ly/rnHE5\",\n\"political\"],\n [{\n            'v': 1344,\n            'f': \"1344\",\n        },\n{\n            'v': 1,\n            'f': \"1\",\n        },\n\"Democrats hope 'revolution' foments in the Senate http://bit.ly/bML4Y now\",\n\"political\"],\n [{\n            'v': 1205,\n            'f': \"1205\",\n        },\n{\n            'v': 1,\n            'f': \"1\",\n        },\n\"Democrats are stupid. Health Reform bill cuts Medicare. What age group has the highest voter turnout. Look for Republican gains in 2010.\",\n\"political\"],\n [{\n            'v': 2291,\n            'f': \"2291\",\n        },\n{\n            'v': 0,\n            'f': \"0\",\n        },\n\"urillosimoes @gabigomes era pra voces estarem aqui!\",\n\"non-political\"],\n [{\n            'v': 1046,\n            'f': \"1046\",\n        },\n{\n            'v': 1,\n            'f': \"1\",\n        },\n\"Inmate threatened to shoot KS governor, authorities allege: For \\\"wrecking the Kansas economy,\\\" according to a l.. http://bit.ly/4CrHA5\",\n\"political\"],\n [{\n            'v': 2570,\n            'f': \"2570\",\n        },\n{\n            'v': 0,\n            'f': \"0\",\n        },\n\" @OKMagazine: The Last Word with Whitney Port http://bit.ly/KJ2pk\",\n\"non-political\"],\n [{\n            'v': 742,\n            'f': \"742\",\n        },\n{\n            'v': 1,\n            'f': \"1\",\n        },\n\"Swine Flu Prevention Video, Obama Declares Swine Flu National Emergency Video a must see: http://bit.ly/SUxlJ\",\n\"political\"],\n [{\n            'v': 354,\n            'f': \"354\",\n        },\n{\n            'v': 1,\n            'f': \"1\",\n        },\n\"RT @joanwalsh: later re-introduced, from scratch, and resulted in a better outcome for liberals? Because I can't.\",\n\"political\"],\n [{\n            'v': 1155,\n            'f': \"1155\",\n        },\n{\n            'v': 1,\n            'f': \"1\",\n        },\n\"U.S. Army Corps of Engineers, Gulf Region South District employees stationed in Basra, Iraq - Wish you the best of... http://bit.ly/6s55QA\",\n\"political\"],\n [{\n            'v': 2802,\n            'f': \"2802\",\n        },\n{\n            'v': 0,\n            'f': \"0\",\n        },\n\"avalcazara auahuaha eh ruim mesmo. mas vou sentir falta do calor.. quando tiver morando ai em itapeva.. uhasuahs\",\n\"non-political\"],\n [{\n            'v': 5,\n            'f': \"5\",\n        },\n{\n            'v': 1,\n            'f': \"1\",\n        },\n\"@Karoli check @RepJackKimble explains brownshirts. Conservative action plan for august recess http://bit.ly/1902Aa All mtgs disrupted\",\n\"political\"],\n [{\n            'v': 1096,\n            'f': \"1096\",\n        },\n{\n            'v': 1,\n            'f': \"1\",\n        },\n\"Obama to unveil plan to add troops in Afghanistan http://m.apnews.com/ap/db_16026/contentdetail.htm?contentguid=Ea08qqUD\",\n\"political\"],\n [{\n            'v': 2254,\n            'f': \"2254\",\n        },\n{\n            'v': 0,\n            'f': \"0\",\n        },\n\"Keep your voice down, you never know who's listening..\\\"\",\n\"non-political\"],\n [{\n            'v': 116,\n            'f': \"116\",\n        },\n{\n            'v': 1,\n            'f': \"1\",\n        },\n\"@julie_posetti That's because Minchin is really a zombie. My evil plan to infiltrate the Liberal party went wrong and now they... AAGGHH!\",\n\"political\"],\n [{\n            'v': 12,\n            'f': \"12\",\n        },\n{\n            'v': 0,\n            'f': \"0\",\n        },\n\" @pauldramos: RT @pauldramos: RT @Carivintas: Live progressive jazz 2night from 6 till 9 pm! Come jazz and joll?!?\",\n\"non-political\"],\n [{\n            'v': 477,\n            'f': \"477\",\n        },\n{\n            'v': 1,\n            'f': \"1\",\n        },\n\"WHAT'S WRONG WITH MORE WATER ON THE EARTH? :)I LOVE WATER, THE CLIMATE IS MADE TO CHANGE, HOPE AND CHANGE MORE CLIMATE CHANGE OBAMA 4 CHANGE\",\n\"political\"],\n [{\n            'v': 1625,\n            'f': \"1625\",\n        },\n{\n            'v': 0,\n            'f': \"0\",\n        },\n\"tp://twitpic.com/ns5c3 - @ali_sweeney bry pic signed cma fest\",\n\"non-political\"],\n [{\n            'v': 1597,\n            'f': \"1597\",\n        },\n{\n            'v': 1,\n            'f': \"1\",\n        },\n\"Rachel Maddow & The Republican \\\"Obama Birther Caucus\\\" http://bit.ly/jfgTZ\",\n\"political\"],\n [{\n            'v': 1790,\n            'f': \"1790\",\n        },\n{\n            'v': 0,\n            'f': \"0\",\n        },\n\"ews #Environment #Nature Turmoil from climate change poses security risks http://economictimes.indiatimes.com/articleshow/5175652.cms\",\n\"non-political\"],\n [{\n            'v': 3059,\n            'f': \"3059\",\n        },\n{\n            'v': 0,\n            'f': \"0\",\n        },\n\" @RevRunWisdom Stop trying 2 b like everyone else, When ur some1 who's different, fly, dope & unusual, EVERYBODY will try to be like you!\",\n\"non-political\"],\n [{\n            'v': 2113,\n            'f': \"2113\",\n        },\n{\n            'v': 0,\n            'f': \"0\",\n        },\n\"larars_ ainda bem q briga com os pais \\u00c3\\u00b1 dura muito.. minha m\\u00c3\\u00a3e j\\u00c3\\u00a1 t\\u00c3\\u00a1 amavel denovo HDIUSAHDIS mas eles n\\u00c3\\u00a3o entendem a gnt msm, \\u00c3\\u00a9 a vida ;)\",\n\"non-political\"],\n [{\n            'v': 498,\n            'f': \"498\",\n        },\n{\n            'v': 1,\n            'f': \"1\",\n        },\n\"Sarah Palin: bad for America, bad for democracy, and bad at Scrabble: http://bit.ly/55quqm\",\n\"political\"],\n [{\n            'v': 2494,\n            'f': \"2494\",\n        },\n{\n            'v': 0,\n            'f': \"0\",\n        },\n\"ropean shares rose modestly, after big losses in Asia, as solid manufacturing data from the euro zone helped .. http://bit.ly/4bwJYR\",\n\"non-political\"],\n [{\n            'v': 1035,\n            'f': \"1035\",\n        },\n{\n            'v': 1,\n            'f': \"1\",\n        },\n\"in gaylord... signing up for collage classes tomorrow. ukkk...how am i ganna get a job in this economy while i attend school\",\n\"political\"],\n [{\n            'v': 221,\n            'f': \"221\",\n        },\n{\n            'v': 1,\n            'f': \"1\",\n        },\n\"report ComSymps RT @kimberlybryant @danieldelazion \\\"Communism doesn't work because people like to own stuff.\\\" *\",\n\"political\"],\n [{\n            'v': 611,\n            'f': \"611\",\n        },\n{\n            'v': 1,\n            'f': \"1\",\n        },\n\"trur Teknologir\\u00c3\\u00a5det er litt vel forelska i Obama...\",\n\"political\"],\n [{\n            'v': 1856,\n            'f': \"1856\",\n        },\n{\n            'v': 0,\n            'f': \"0\",\n        },\n\"lstar\\\" - meine Lieblingsapfelsorte! *m\\u00c3\\u00bcmmel*mampf*\",\n\"non-political\"],\n [{\n            'v': 2474,\n            'f': \"2474\",\n        },\n{\n            'v': 0,\n            'f': \"0\",\n        },\n\"IT REAL! the past few weeks startin to feel like the late 90s early 00s when we used 2 get trash bag cash! http://lnk.ms/1r8wq\",\n\"non-political\"],\n [{\n            'v': 270,\n            'f': \"270\",\n        },\n{\n            'v': 1,\n            'f': \"1\",\n        },\n\"@RonboTex What about Ted Roosevelt and Taft who busted the trusts and monolopies? Those were the results of free market capitalism.\",\n\"political\"],\n [{\n            'v': 1644,\n            'f': \"1644\",\n        },\n{\n            'v': 0,\n            'f': \"0\",\n        },\n\"andismoye Are you trying to say I have a big bush? #mybushfitsmany @sweetlikesandi\",\n\"non-political\"],\n [{\n            'v': 2936,\n            'f': \"2936\",\n        },\n{\n            'v': 0,\n            'f': \"0\",\n        },\n\" @ms_nunez Attention: @GWPHOTOGRAPHY will be in NY/PA Nov. 12-14!!! Want a shoot? LET ME KNOW! Or tell him! 405 512 4290\",\n\"non-political\"],\n [{\n            'v': 1523,\n            'f': \"1523\",\n        },\n{\n            'v': 1,\n            'f': \"1\",\n        },\n\"Thinking about Health Care Reform. Your thoughts? Should we go with a government option or not? Pros and cons?\",\n\"political\"],\n [{\n            'v': 1531,\n            'f': \"1531\",\n        },\n{\n            'v': 1,\n            'f': \"1\",\n        },\n\"RT @AlexKmn Make your icon green to show support of a people's right to choose their own government #iranelection\",\n\"political\"],\n [{\n            'v': 2044,\n            'f': \"2044\",\n        },\n{\n            'v': 0,\n            'f': \"0\",\n        },\n\" I am not riding with the team today, they are paying to ride, that does not seem right.\",\n\"non-political\"],\n [{\n            'v': 24,\n            'f': \"24\",\n        },\n{\n            'v': 1,\n            'f': \"1\",\n        },\n\"STAND UP FOR BECK:RT @organicsgrow P&G 513-983-1100 Progressive Christy 440-395-0135 Coleen 937-865-1624 here r #s 2 call that dropped ads\",\n\"political\"],\n [{\n            'v': 2741,\n            'f': \"2741\",\n        },\n{\n            'v': 0,\n            'f': \"0\",\n        },\n\"www it was mad good to see you the other night..it felt like the old days again =0) well almost lol @alima_J\",\n\"non-political\"],\n [{\n            'v': 2319,\n            'f': \"2319\",\n        },\n{\n            'v': 0,\n            'f': \"0\",\n        },\n\"CK AT IT RECORD DEAL BOUND !!!!! FOKISSED ON MY BIZ\",\n\"non-political\"],\n [{\n            'v': 1208,\n            'f': \"1208\",\n        },\n{\n            'v': 0,\n            'f': \"0\",\n        },\n\"ease reassure us http://ow.ly/hj3F Government seeks to reassure public over swine flu\",\n\"non-political\"],\n [{\n            'v': 2120,\n            'f': \"2120\",\n        },\n{\n            'v': 0,\n            'f': \"0\",\n        },\n\"d better start practicing! RT @FunFactoryGames We are working on a Skeeball league\",\n\"non-political\"],\n [{\n            'v': 2777,\n            'f': \"2777\",\n        },\n{\n            'v': 0,\n            'f': \"0\",\n        },\n\"tsRayJ MTV aired the 1st episode 3pm earlier... u need to sue them bro\",\n\"non-political\"],\n [{\n            'v': 2982,\n            'f': \"2982\",\n        },\n{\n            'v': 0,\n            'f': \"0\",\n        },\n\"hetisMercurio They never mention how he only had one testicle. My favourite Hitler fact.\",\n\"non-political\"],\n [{\n            'v': 934,\n            'f': \"934\",\n        },\n{\n            'v': 1,\n            'f': \"1\",\n        },\n\"RT @rhondadoty CNN: U.S. soldier captured in Afghanistan, the military said. Missing since June 30. (via @BreakingNews)\",\n\"political\"],\n [{\n            'v': 2465,\n            'f': \"2465\",\n        },\n{\n            'v': 0,\n            'f': \"0\",\n        },\n\": @mobmag: If Elton John dies, who will sing at his funeral? > Fairies I reckon... :P\",\n\"non-political\"],\n [{\n            'v': 2981,\n            'f': \"2981\",\n        },\n{\n            'v': 0,\n            'f': \"0\",\n        },\n\"ecroWolf \\u00d0\\u0178\\u00d1\\u20ac\\u00d0\\u00be\\u00d0\\u00b4\\u00d1\\u017d\\u00d1\\u0081\\u00d0\\u00b5\\u00d1\\u20ac \\u00d1\\u201a\\u00d1\\u20ac\\u00d0\\u00b0\\u00d0\\u00bd\\u00d1\\u0081\\u00d0\\u00be\\u00d0\\u00b2\\u00d0\\u00be\\u00d0\\u00b9 \\u00d0\\u00bc\\u00d1\\u0192\\u00d0\\u00b7\\u00d1\\u2039\\u00d0\\u00ba\\u00d0\\u00b8. \\u00d0\\u0178\\u00d0\\u00be \\u00d0\\u00be\\u00d0\\u00bf\\u00d1\\u2039\\u00d1\\u201a\\u00d1\\u0192 \\u00d0\\u00b7\\u00d0\\u00bd\\u00d0\\u00b0\\u00d1\\u017d, \\u00d1\\u2021\\u00d1\\u201a\\u00d0\\u00be \\u00d0\\u00bc\\u00d0\\u00b5\\u00d1\\u20ac\\u00d1\\u2021\\u00d0\\u00b5\\u00d0\\u00bd\\u00d0\\u00b4\\u00d0\\u00b0\\u00d0\\u00b9\\u00d0\\u00b7\\u00d0\\u00b8\\u00d0\\u00bd\\u00d0\\u00b3 \\u00d0\\u00b4\\u00d0\\u00b0\\u00d0\\u00b5\\u00d1\\u201a \\u00d0\\u00be\\u00d1\\u2021\\u00d0\\u00b5\\u00d0\\u00bd\\u00d1\\u0152 \\u00d0\\u00bc\\u00d0\\u00b0\\u00d0\\u00bb\\u00d0\\u00be.\",\n\"non-political\"],\n [{\n            'v': 654,\n            'f': \"654\",\n        },\n{\n            'v': 1,\n            'f': \"1\",\n        },\n\"Federal Diary: Bargaining rights loom large : President Obama wants to issue an executive order creating panel.. http://bit.ly/3zknc0\",\n\"political\"],\n [{\n            'v': 1469,\n            'f': \"1469\",\n        },\n{\n            'v': 1,\n            'f': \"1\",\n        },\n\"On my way to the Utah County Republican Party Central Committee Meeting! See ya there! #utah #utpol\",\n\"political\"],\n [{\n            'v': 2455,\n            'f': \"2455\",\n        },\n{\n            'v': 0,\n            'f': \"0\",\n        },\n\"need to study, heaps...but my mind is all over the place & i can't concentrate.\",\n\"non-political\"],\n [{\n            'v': 3132,\n            'f': \"3132\",\n        },\n{\n            'v': 0,\n            'f': \"0\",\n        },\n\"oow am i supposed to learn anything when my damn teacher doesnt even know how to do the problem i need help on! ugh\",\n\"non-political\"],\n [{\n            'v': 1779,\n            'f': \"1779\",\n        },\n{\n            'v': 0,\n            'f': \"0\",\n        },\n\"laaaww beyy kesel sm siapanya luu?RT @BeyaNatassha: @sasyanjani hahaha si Lintang noh mau ngajak ribut di D wqwqwq, lama lama kesel gue .\",\n\"non-political\"],\n [{\n            'v': 1519,\n            'f': \"1519\",\n        },\n{\n            'v': 1,\n            'f': \"1\",\n        },\n\"Sri Lanka government not off the hook yet. Execution of captured Tamils, tied and blindfolded, shot. World needs to be aware of police stat\",\n\"political\"],\n [{\n            'v': 2840,\n            'f': \"2840\",\n        },\n{\n            'v': 0,\n            'f': \"0\",\n        },\n\"nadeau I am good and you hun?\",\n\"non-political\"],\n [{\n            'v': 31,\n            'f': \"31\",\n        },\n{\n            'v': 1,\n            'f': \"1\",\n        },\n\"Reds under beds! RT @JaanKyle @nelsontejada oh hell yeah he was, racist as all hell. and socialist\",\n\"political\"],\n [{\n            'v': 62,\n            'f': \"62\",\n        },\n{\n            'v': 0,\n            'f': \"0\",\n        },\n\"imonech I'm generally liberal in deleting those no@no.com comments if they aren't constructive.\",\n\"non-political\"],\n [{\n            'v': 2433,\n            'f': \"2433\",\n        },\n{\n            'v': 0,\n            'f': \"0\",\n        },\n\"CC to offer green technology courses: Her topic focuses on \\u00e2\\u20ac\\u0153Going Green, It's Easier Than You Think.\\u00e2\\u20ac\\u009d Wei.. http://bit.ly/4zxItq\",\n\"non-political\"],\n [{\n            'v': 2943,\n            'f': \"2943\",\n        },\n{\n            'v': 0,\n            'f': \"0\",\n        },\n\"\\u2020\\u00e5\\u00a3\\u00b2\\u00e7\\u00b9\\u0081\\u00e6\\u02dc\\u0152: \\u00ef\\u00bc\\u2018\\u00ef\\u00bc\\u0090\\u00e5\\u00b9\\u00b4\\u00e6\\u009d\\u00a5\\u00e3\\u0081\\u00ae\\u00e5\\u2026\\u02c6\\u00e8\\u00bc\\u00a9\\u00e3\\u0081\\u00a7\\u00e3\\u0081\\u201a\\u00e3\\u201a\\u0160\\u00e5\\u008f\\u2039\\u00e4\\u00ba\\u00ba\\u00e3\\u0081\\u00a7\\u00e3\\u0081\\u201a\\u00e3\\u201a\\u0160\\u00e3\\u0192\\u201c\\u00e3\\u201a\\u00b8\\u00e3\\u0192\\u008d\\u00e3\\u201a\\u00b9\\u00e3\\u0192\\u2018\\u00e3\\u0192\\u00bc\\u00e3\\u0192\\u02c6\\u00e3\\u0192\\u0160\\u00e3\\u0192\\u00bc\\u00e3\\u0081\\u00a7\\u00e3\\u201a\\u201a\\u00e3\\u0081\\u201a\\u00e3\\u201a\\u2039\\u00e4\\u00ba\\u00ba\\u00e3\\u201a\\u02c6\\u00e3\\u201a\\u0160\\u00e3\\u0081\\u00a7\\u00e3\\u0081\\u201e\\u00e3\\u0081\\u0178\\u00e3\\u0081\\u00a0\\u00e3\\u0081\\u008d\\u00e3\\u0081\\u00be\\u00e3\\u0081\\u2014\\u00e3\\u0081\\u0178\\u00e3\\u20ac\\u0081\\u00e3\\u0081\\u00aa\\u00e3\\u0081\\u00ab\\u00e3\\u0081\\u2019\\u00e3\\u0081\\u00ab\\u00e5\\u00ac\\u2030\\u00e3\\u0081\\u2014\\u00e3\\u0081\\u201e\\u00e3\\u201a\\u201a\\u00e3\\u0081\\u00ae\\u00e3\\u0081\\u00a7\\u00e3\\u0081\\u2122\\u00e3\\u20ac\\u201a http://bit.ly/23i0vs\",\n\"non-political\"],\n [{\n            'v': 2016,\n            'f': \"2016\",\n        },\n{\n            'v': 0,\n            'f': \"0\",\n        },\n\"rnKey MovableType Live CD 2009.02-hardy-x86 http://bit.ly/4iIFli\",\n\"non-political\"],\n [{\n            'v': 1917,\n            'f': \"1917\",\n        },\n{\n            'v': 0,\n            'f': \"0\",\n        },\n\"ser RT @corbuzier: Watching MJ This is it!!!!!!\",\n\"non-political\"],\n [{\n            'v': 1707,\n            'f': \"1707\",\n        },\n{\n            'v': 0,\n            'f': \"0\",\n        },\n\"ded to a feed: Phineas replied to SMOKIN's discussion 'sydbma has $1200 for courier cup' http://st.tl/6Cik0\",\n\"non-political\"],\n [{\n            'v': 1829,\n            'f': \"1829\",\n        },\n{\n            'v': 0,\n            'f': \"0\",\n        },\n\"rah... This is it ---> harusnya kita nonton brg ya sir!! I miss you BB!!\",\n\"non-political\"],\n [{\n            'v': 2711,\n            'f': \"2711\",\n        },\n{\n            'v': 0,\n            'f': \"0\",\n        },\n\"need to be able to block certain sites on the internet when I'm trying to do homework because 30mins later I've barely made a dent.\",\n\"non-political\"],\n [{\n            'v': 2423,\n            'f': \"2423\",\n        },\n{\n            'v': 0,\n            'f': \"0\",\n        },\n\"h saya mau juga dooonggg~ RT @wowrizaliwow Asiiik ditraktir suis butcher!! Alhamdulillah rezeki emang ga kemana.hehe\",\n\"non-political\"],\n [{\n            'v': 2828,\n            'f': \"2828\",\n        },\n{\n            'v': 0,\n            'f': \"0\",\n        },\n\"w blog post: Perfume and Cologne Categories and Families: Categories Of Perfume http://www.tomydate.com/blog/?p=16290\",\n\"non-political\"],\n [{\n            'v': 2063,\n            'f': \"2063\",\n        },\n{\n            'v': 0,\n            'f': \"0\",\n        },\n\"iszpanic tNx gurlie. imagine if my future baby fathers saw mii. lmaoo we woulda started the baby mekin last night\",\n\"non-political\"],\n [{\n            'v': 2991,\n            'f': \"2991\",\n        },\n{\n            'v': 0,\n            'f': \"0\",\n        },\n\" @JoLynneValerie Good morning! It's a new day in which to let go of the past and jump w/ both feet into your current life.\",\n\"non-political\"],\n [{\n            'v': 164,\n            'f': \"164\",\n        },\n{\n            'v': 1,\n            'f': \"1\",\n        },\n\"CIA Interrogation investigation - Liberal healthcare distraction, attempt to revive anti-Bush anti-Republican rhetoric, and just plain dumb\",\n\"political\"],\n [{\n            'v': 2780,\n            'f': \"2780\",\n        },\n{\n            'v': 0,\n            'f': \"0\",\n        },\n\"u know what time it is...!\",\n\"non-political\"],\n [{\n            'v': 1945,\n            'f': \"1945\",\n        },\n{\n            'v': 0,\n            'f': \"0\",\n        },\n\"eetsand lolol....this isn't even associated with my real name, I don't think. How the hell DID you find me?\",\n\"non-political\"],\n [{\n            'v': 1566,\n            'f': \"1566\",\n        },\n{\n            'v': 1,\n            'f': \"1\",\n        },\n\"Serfdom via Land Restriction in BC: How The Government Owns You - http://t.atsmix.com/t506152\",\n\"political\"],\n [{\n            'v': 1408,\n            'f': \"1408\",\n        },\n{\n            'v': 1,\n            'f': \"1\",\n        },\n\"RT @PRS_Safety: Welsh Assembly Government signs pledge to reduce work related deaths and injuries - http://tinyurl.com/yhkourb\",\n\"political\"],\n [{\n            'v': 1458,\n            'f': \"1458\",\n        },\n{\n            'v': 1,\n            'f': \"1\",\n        },\n\"RT @TheGreenPlanet: New York Mandates That All New Government Buildings Go Green http://bit.ly/yq3Xt\",\n\"political\"],\n [{\n            'v': 239,\n            'f': \"239\",\n        },\n{\n            'v': 0,\n            'f': \"0\",\n        },\n\"elsVFP LOL. Well it's shiny red and one of the more conservative dresses I own since it comes to my knees. I just membered having it. Win!\",\n\"non-political\"],\n [{\n            'v': 2484,\n            'f': \"2484\",\n        },\n{\n            'v': 0,\n            'f': \"0\",\n        },\n\"OADED87 who is us haha I have a husband ;)\",\n\"non-political\"],\n [{\n            'v': 3058,\n            'f': \"3058\",\n        },\n{\n            'v': 0,\n            'f': \"0\",\n        },\n\"mart-DSL: L\\u00c3\\u00b6sung f\\u00c3\\u00bcr die #Breitband-Unterversorgung im Landkreis G\\u00c3\\u00bcnzburg (BY)? http://tr.im/DXFb\",\n\"non-political\"],\n [{\n            'v': 689,\n            'f': \"689\",\n        },\n{\n            'v': 1,\n            'f': \"1\",\n        },\n\"With Each New Revelation About The Obama-Driven Frenzy For \\\"Healthcare Insurance Reform,\\\" My WHealthcare Idea Looks Better And Better. ...\",\n\"political\"],\n [{\n            'v': 379,\n            'f': \"379\",\n        },\n{\n            'v': 0,\n            'f': \"0\",\n        },\n\": @anarchists Walking around Sydney tweeting from my Ubeaut Chinese quadband phone.. better than #iphone helping chk on homeless &tc. I CA\",\n\"non-political\"],\n [{\n            'v': 2126,\n            'f': \"2126\",\n        },\n{\n            'v': 0,\n            'f': \"0\",\n        },\n\", my wife likes football, and the game is on. The boy complains saying \\\"haven't we watched this show already\\\" FTW!!\",\n\"non-political\"],\n [{\n            'v': 2276,\n            'f': \"2276\",\n        },\n{\n            'v': 0,\n            'f': \"0\",\n        },\n\"hiaton joe - more & more &lt;333\",\n\"non-political\"],\n [{\n            'v': 2769,\n            'f': \"2769\",\n        },\n{\n            'v': 0,\n            'f': \"0\",\n        },\n\"anicmai I experienced the same situation as you at work that day. Apply the same advice you've given me. There's a blessing in disguise :D\",\n\"non-political\"],\n [{\n            'v': 2469,\n            'f': \"2469\",\n        },\n{\n            'v': 0,\n            'f': \"0\",\n        },\n\"tp://tinyurl.com/yk5nc9u Transfuge - Magazine culturel - Litt\\u00c3\\u00a9rature Etrang\\u00c3\\u00a8re, Fran\\u00c3\\u00a7aise et Cin\\u00c3\\u00a9ma\",\n\"non-political\"],\n [{\n            'v': 3012,\n            'f': \"3012\",\n        },\n{\n            'v': 0,\n            'f': \"0\",\n        },\n\"alamanshi Thank you very much.\",\n\"non-political\"],\n [{\n            'v': 3163,\n            'f': \"3163\",\n        },\n{\n            'v': 0,\n            'f': \"0\",\n        },\n\"w York, I will be invading your city tomorrow and Thursday. Consider yourselves warned.\",\n\"non-political\"],\n [{\n            'v': 1715,\n            'f': \"1715\",\n        },\n{\n            'v': 0,\n            'f': \"0\",\n        },\n\"mgmissbee And how can see updates from Twitter? [Haha. I'm such a loser, I know.] :))) lol.\",\n\"non-political\"],\n [{\n            'v': 3167,\n            'f': \"3167\",\n        },\n{\n            'v': 0,\n            'f': \"0\",\n        },\n\"'s Coupon Chaos time! Enter your best savings tips to win coupons http://bit.ly/3jKHoT\",\n\"non-political\"],\n [{\n            'v': 224,\n            'f': \"224\",\n        },\n{\n            'v': 1,\n            'f': \"1\",\n        },\n\"RT @jaketapper: \\\"an interesting look from @TheFix at Neb. Dem Sen. Ben Nelson's pushback to liberal group's attack \\u00c2\\u00bb http://bit.ly/2fhCH\\\"\",\n\"political\"],\n [{\n            'v': 75,\n            'f': \"75\",\n        },\n{\n            'v': 1,\n            'f': \"1\",\n        },\n\"Tomorrow night I guess we're going to have to educate the #p2 crowd that Jesus was NOT a liberal #tcot #ocra #sgp\",\n\"political\"],\n [{\n            'v': 317,\n            'f': \"317\",\n        },\n{\n            'v': 1,\n            'f': \"1\",\n        },\n\"Glen Beck rocks! He's a modern day prophet warning us of the evils of government controled health care and socialism.\",\n\"political\"],\n [{\n            'v': 402,\n            'f': \"402\",\n        },\n{\n            'v': 1,\n            'f': \"1\",\n        },\n\"Obama dodged that race question......I wish he woulda slammed those wackjobs that hate on him at those \\\"rallies\\\"\",\n\"political\"],\n [{\n            'v': 256,\n            'f': \"256\",\n        },\n{\n            'v': 1,\n            'f': \"1\",\n        },\n\"Obama answers questions on conservative talk radio show; guarantees health reform will get done. http://ahlalerts.blogspot.com/\",\n\"political\"],\n [{\n            'v': 1814,\n            'f': \"1814\",\n        },\n{\n            'v': 0,\n            'f': \"0\",\n        },\n\"zarre Inc Such A Feeling 12\\\" Vinyl 1991 Near MINT http://is.gd/4JNup\",\n\"non-political\"],\n [{\n            'v': 466,\n            'f': \"466\",\n        },\n{\n            'v': 1,\n            'f': \"1\",\n        },\n\"RT @instapundit: WHY OBAMA\\u00e2\\u20ac\\u2122S ratings are sinking\\u00e2\\u20ac\\u00a6 http://bit.ly/39wXHM\",\n\"political\"],\n [{\n            'v': 74,\n            'f': \"74\",\n        },\n{\n            'v': 0,\n            'f': \"0\",\n        },\n\" @dailyobamajokes: Why is the liberal drug of choice LSD? They can spell it.\",\n\"non-political\"],\n [{\n            'v': 556,\n            'f': \"556\",\n        },\n{\n            'v': 1,\n            'f': \"1\",\n        },\n\"and nurse practitioners so they aren't drowning in debt when they enter the workforce.\\\" - President Obama, 6/15/2009\",\n\"political\"],\n [{\n            'v': 1199,\n            'f': \"1199\",\n        },\n{\n            'v': 1,\n            'f': \"1\",\n        },\n\"Who can tax the sunshine sprinkle it with goo mix it up with lies and it make it all taste good? The government can! http://bit.ly/fwD64\",\n\"political\"],\n [{\n            'v': 2163,\n            'f': \"2163\",\n        },\n{\n            'v': 0,\n            'f': \"0\",\n        },\n\"ouravghosh It Was Until YOu Showed Up With A Keg! ;)\",\n\"non-political\"],\n [{\n            'v': 4,\n            'f': \"4\",\n        },\n{\n            'v': 1,\n            'f': \"1\",\n        },\n\"@mystic23 I also think that most liberals don't spend a lot of time thinking about tolerating. Tolerance connotes condescension.\",\n\"political\"],\n [{\n            'v': 2527,\n            'f': \"2527\",\n        },\n{\n            'v': 0,\n            'f': \"0\",\n        },\n\"maschaa http://bit.ly/39pyii Ik doe mee aan een wedstrijd.. Wil je please stemmen? thanks <3\",\n\"non-political\"],\n [{\n            'v': 1654,\n            'f': \"1654\",\n        },\n{\n            'v': 0,\n            'f': \"0\",\n        },\n\"feel like I have no life... just sitting watching some tv. i feel like i have no idea what time it is.\",\n\"non-political\"],\n [{\n            'v': 1721,\n            'f': \"1721\",\n        },\n{\n            'v': 0,\n            'f': \"0\",\n        },\n\"\\u00a7\\u00e4\\u00bd\\u0090\\u00e3\\u0081\\u00ae\\u00e4\\u00bd\\u201c\\u00e9\\u00a8\\u201c\\u00ef\\u00bc\\u0161\\u00e3\\u0081\\u009d\\u00e3\\u0081\\u00ae\\u00ef\\u00bc\\u201c http://bit.ly/2gvPJ8\",\n\"non-political\"],\n [{\n            'v': 1309,\n            'f': \"1309\",\n        },\n{\n            'v': 1,\n            'f': \"1\",\n        },\n\"God I hope the senate actually has some sense and votes no\",\n\"political\"],\n [{\n            'v': 2645,\n            'f': \"2645\",\n        },\n{\n            'v': 0,\n            'f': \"0\",\n        },\n\"AO. i just shut my macbook lid & my own legs made me jump...i dont know why but i wasnt expecting to see them lmao.\",\n\"non-political\"],\n [{\n            'v': 1697,\n            'f': \"1697\",\n        },\n{\n            'v': 0,\n            'f': \"0\",\n        },\n\"eam_alex :Thx for the influx of concert fun! But I shall refrain. To see just pictures & not videos. Still want my element of surprise!!\",\n\"non-political\"],\n [{\n            'v': 18,\n            'f': \"18\",\n        },\n{\n            'v': 0,\n            'f': \"0\",\n        },\n\"apter 10 of Ethical Socialism is published: All comments are welcomed.\\u00c2\\u00a0 Click on this link to read it.&n.. http://bit.ly/6L7IJd\",\n\"non-political\"],\n [{\n            'v': 2440,\n            'f': \"2440\",\n        },\n{\n            'v': 0,\n            'f': \"0\",\n        },\n\"asperg I think you have to search in the app, either Android or iPhone...\",\n\"non-political\"],\n [{\n            'v': 1518,\n            'f': \"1518\",\n        },\n{\n            'v': 0,\n            'f': \"0\",\n        },\n\" @ahoppin: getting a demo from @granicus re: streaming media for government, correlated w/ legislation #NYSenateCIO\",\n\"non-political\"],\n [{\n            'v': 2238,\n            'f': \"2238\",\n        },\n{\n            'v': 0,\n            'f': \"0\",\n        },\n\"onews: \\u00e7\\u00aa\\u0081\\u00e7\\u201e\\u00b6\\u00e5\\u00a4\\u2030\\u00e7\\u2022\\u00b0\\u00ef\\u00bc\\u0178\\u00e7\\u2122\\u00bd\\u00e3\\u0081\\u201e\\u00e3\\u201a\\u00ab\\u00e3\\u0192\\u00a2\\u00e3\\u20ac\\u015240\\u00e5\\u00b9\\u00b4\\u00e3\\u0081\\u00a7\\u00e5\\u02c6\\u009d\\u00e3\\u20ac\\u008d http://bit.ly/1Rmoxg\",\n\"non-political\"],\n [{\n            'v': 2873,\n            'f': \"2873\",\n        },\n{\n            'v': 0,\n            'f': \"0\",\n        },\n\"SexyLady Damn, for real. My mama was telling that Whistler suppose to be year round. #FAIL\",\n\"non-political\"],\n [{\n            'v': 1259,\n            'f': \"1259\",\n        },\n{\n            'v': 1,\n            'f': \"1\",\n        },\n\"The government of the United States is not in any sense founded on the Christian religion. John Adams (President of the United States)\",\n\"political\"],\n [{\n            'v': 2102,\n            'f': \"2102\",\n        },\n{\n            'v': 0,\n            'f': \"0\",\n        },\n\"rry bro u know I od od od od od love you so kut it out!!! @BaGzDaBoSS\",\n\"non-political\"],\n [{\n            'v': 1852,\n            'f': \"1852\",\n        },\n{\n            'v': 0,\n            'f': \"0\",\n        },\n\" @JIDF: #Facebook's New #Privacy Policy: Every Step You Take, Facebook Will Be Watching You http://is.gd/4JXum\",\n\"non-political\"],\n [{\n            'v': 2944,\n            'f': \"2944\",\n        },\n{\n            'v': 0,\n            'f': \"0\",\n        },\n\" rotting.mushrooms are growing on my balls.\",\n\"non-political\"],\n [{\n            'v': 3177,\n            'f': \"3177\",\n        },\n{\n            'v': 0,\n            'f': \"0\",\n        },\n\"tp://twitpic.com/o5c91 - FML\",\n\"non-political\"],\n [{\n            'v': 1127,\n            'f': \"1127\",\n        },\n{\n            'v': 0,\n            'f': \"0\",\n        },\n\"p-Economy: RT Brandamentalist: In the future we expect everything to have apps, and apps that'll do almost everything http://bit.ly/86mwk9\",\n\"non-political\"],\n [{\n            'v': 328,\n            'f': \"328\",\n        },\n{\n            'v': 1,\n            'f': \"1\",\n        },\n\"RT @g20actionalert \\\"Capitalism is not working for the G20 & it's not working for us.\\\" -Immigrant rights speaker #g20 #resistg20 #Pittsburgh\",\n\"political\"],\n [{\n            'v': 1881,\n            'f': \"1881\",\n        },\n{\n            'v': 0,\n            'f': \"0\",\n        },\n\" heart was beating when i read inbox from @ichadinia\",\n\"non-political\"],\n [{\n            'v': 897,\n            'f': \"897\",\n        },\n{\n            'v': 1,\n            'f': \"1\",\n        },\n\"snackfeed found http://snfd.tv/2cP9 Bobby Jindal On Hannity-Bobby Jindal on economy, earmarks, Obama and how Republicans can win\",\n\"political\"],\n [{\n            'v': 2651,\n            'f': \"2651\",\n        },\n{\n            'v': 0,\n            'f': \"0\",\n        },\n\" @TheLoop1 Analyst: iPhone making headway in businesses http://tinyurl.com/ylyrzck\",\n\"non-political\"],\n [{\n            'v': 2972,\n            'f': \"2972\",\n        },\n{\n            'v': 0,\n            'f': \"0\",\n        },\n\" day just got better i love it when that happens\",\n\"non-political\"],\n [{\n            'v': 2168,\n            'f': \"2168\",\n        },\n{\n            'v': 0,\n            'f': \"0\",\n        },\n\"pe the yankees win\",\n\"non-political\"],\n [{\n            'v': 1606,\n            'f': \"1606\",\n        },\n{\n            'v': 0,\n            'f': \"0\",\n        },\n\"night was good now time for my treat burr\",\n\"non-political\"],\n [{\n            'v': 2989,\n            'f': \"2989\",\n        },\n{\n            'v': 0,\n            'f': \"0\",\n        },\n\"onorGarry angels with maky faces @ dancehouse sunday 7pm - got you a ticket - you coming?\",\n\"non-political\"],\n [{\n            'v': 3154,\n            'f': \"3154\",\n        },\n{\n            'v': 0,\n            'f': \"0\",\n        },\n\" @FoxxFiles: #LoseMyNumber if you just saw me in public and i just hit you with the nod and kept it moving.\",\n\"non-political\"],\n [{\n            'v': 2787,\n            'f': \"2787\",\n        },\n{\n            'v': 0,\n            'f': \"0\",\n        },\n\"want to get the flu.\",\n\"non-political\"],\n [{\n            'v': 1316,\n            'f': \"1316\",\n        },\n{\n            'v': 1,\n            'f': \"1\",\n        },\n\"gbmiii [ff] - Andhra Congress leader urges Centre to send emissary to clear air on Telangana http://ow.ly/1695Yt\",\n\"political\"],\n [{\n            'v': 1448,\n            'f': \"1448\",\n        },\n{\n            'v': 1,\n            'f': \"1\",\n        },\n\"RT @DukeStJournal: Speaking of Dem Senators who won't take a position without Republican political cover, ladies and gentleman, Evan Bayh.\",\n\"political\"]],\n        columns: [[\"number\", \"index\"], [\"number\", \"label\"], [\"string\", \"text\"], [\"string\", \"label_text\"]],\n        columnOptions: [{\"width\": \"1px\", \"className\": \"index_column\"}],\n        rowsPerPage: 5,\n        helpUrl: \"https://colab.research.google.com/notebooks/data_table.ipynb\",\n        suppressOutputScrolling: true,\n        minimumWidth: undefined,\n      });\n      \n      function appendQuickchartButton(parentElement) {\n        let quickchartButtonContainerElement = document.createElement('div');\n        quickchartButtonContainerElement.innerHTML = `\n    <div id=\"df-3ff76d13-1e08-4d94-8908-efd61c44e1c1\">\n      <button class=\"colab-df-quickchart\" onclick=\"quickchart('df-3ff76d13-1e08-4d94-8908-efd61c44e1c1')\"\n              title=\"Suggest charts.\"\n              style=\"display:none;\">\n\n<svg xmlns=\"http://www.w3.org/2000/svg\" height=\"24px\"viewBox=\"0 0 24 24\"\n     width=\"24px\">\n    <g>\n        <path d=\"M19 3H5c-1.1 0-2 .9-2 2v14c0 1.1.9 2 2 2h14c1.1 0 2-.9 2-2V5c0-1.1-.9-2-2-2zM9 17H7v-7h2v7zm4 0h-2V7h2v10zm4 0h-2v-4h2v4z\"/>\n    </g>\n</svg>\n      </button>\n    </div>\n\n<style>\n  .colab-df-quickchart {\n    background-color: #E8F0FE;\n    border: none;\n    border-radius: 50%;\n    cursor: pointer;\n    display: none;\n    fill: #1967D2;\n    height: 32px;\n    padding: 0 0 0 0;\n    width: 32px;\n  }\n\n  .colab-df-quickchart:hover {\n    background-color: #E2EBFA;\n    box-shadow: 0px 1px 2px rgba(60, 64, 67, 0.3), 0px 1px 3px 1px rgba(60, 64, 67, 0.15);\n    fill: #174EA6;\n  }\n\n  [theme=dark] .colab-df-quickchart {\n    background-color: #3B4455;\n    fill: #D2E3FC;\n  }\n\n  [theme=dark] .colab-df-quickchart:hover {\n    background-color: #434B5C;\n    box-shadow: 0px 1px 3px 1px rgba(0, 0, 0, 0.15);\n    filter: drop-shadow(0px 1px 2px rgba(0, 0, 0, 0.3));\n    fill: #FFFFFF;\n  }\n</style>\n\n    <script>\n      async function quickchart(key) {\n        const containerElement = document.querySelector('#' + key);\n        const charts = await google.colab.kernel.invokeFunction(\n            'suggestCharts', [key], {});\n      }\n    </script>\n`;\n        parentElement.appendChild(quickchartButtonContainerElement);\n        \nfunction displayQuickchartButton(domScope) {\n  let quickchartButtonEl =\n    domScope.querySelector('#df-3ff76d13-1e08-4d94-8908-efd61c44e1c1 button.colab-df-quickchart');\n  quickchartButtonEl.style.display =\n    google.colab.kernel.accessAllowed ? 'block' : 'none';\n}\n\n        displayQuickchartButton(parentElement);\n      }\n    ",
            "text/html": [
              "<div>\n",
              "<style scoped>\n",
              "    .dataframe tbody tr th:only-of-type {\n",
              "        vertical-align: middle;\n",
              "    }\n",
              "\n",
              "    .dataframe tbody tr th {\n",
              "        vertical-align: top;\n",
              "    }\n",
              "\n",
              "    .dataframe thead th {\n",
              "        text-align: right;\n",
              "    }\n",
              "</style>\n",
              "<table border=\"1\" class=\"dataframe\">\n",
              "  <thead>\n",
              "    <tr style=\"text-align: right;\">\n",
              "      <th></th>\n",
              "      <th>label</th>\n",
              "      <th>text</th>\n",
              "      <th>label_text</th>\n",
              "    </tr>\n",
              "  </thead>\n",
              "  <tbody>\n",
              "    <tr>\n",
              "      <th>2573</th>\n",
              "      <td>0</td>\n",
              "      <td>en with an extra hour of sleep, Monday is stil...</td>\n",
              "      <td>non-political</td>\n",
              "    </tr>\n",
              "    <tr>\n",
              "      <th>2853</th>\n",
              "      <td>0</td>\n",
              "      <td>aux #Saints! &lt;3 Psh, and the Falcons used to b...</td>\n",
              "      <td>non-political</td>\n",
              "    </tr>\n",
              "    <tr>\n",
              "      <th>1196</th>\n",
              "      <td>1</td>\n",
              "      <td>We are broadcasting a very special Request Sho...</td>\n",
              "      <td>political</td>\n",
              "    </tr>\n",
              "    <tr>\n",
              "      <th>602</th>\n",
              "      <td>1</td>\n",
              "      <td>RT @jackiewalorski: What a deal! Obama's going...</td>\n",
              "      <td>political</td>\n",
              "    </tr>\n",
              "    <tr>\n",
              "      <th>984</th>\n",
              "      <td>1</td>\n",
              "      <td>With the billions congress wastes spending on ...</td>\n",
              "      <td>political</td>\n",
              "    </tr>\n",
              "    <tr>\n",
              "      <th>...</th>\n",
              "      <td>...</td>\n",
              "      <td>...</td>\n",
              "      <td>...</td>\n",
              "    </tr>\n",
              "    <tr>\n",
              "      <th>2989</th>\n",
              "      <td>0</td>\n",
              "      <td>onorGarry angels with maky faces @ dancehouse ...</td>\n",
              "      <td>non-political</td>\n",
              "    </tr>\n",
              "    <tr>\n",
              "      <th>3154</th>\n",
              "      <td>0</td>\n",
              "      <td>@FoxxFiles: #LoseMyNumber if you just saw me ...</td>\n",
              "      <td>non-political</td>\n",
              "    </tr>\n",
              "    <tr>\n",
              "      <th>2787</th>\n",
              "      <td>0</td>\n",
              "      <td>want to get the flu.</td>\n",
              "      <td>non-political</td>\n",
              "    </tr>\n",
              "    <tr>\n",
              "      <th>1316</th>\n",
              "      <td>1</td>\n",
              "      <td>gbmiii [ff] - Andhra Congress leader urges Cen...</td>\n",
              "      <td>political</td>\n",
              "    </tr>\n",
              "    <tr>\n",
              "      <th>1448</th>\n",
              "      <td>1</td>\n",
              "      <td>RT @DukeStJournal: Speaking of Dem Senators wh...</td>\n",
              "      <td>political</td>\n",
              "    </tr>\n",
              "  </tbody>\n",
              "</table>\n",
              "<p>1000 rows × 3 columns</p>\n",
              "</div>"
            ],
            "text/plain": [
              "<google.colab.data_table.DataTable object>"
            ]
          },
          "execution_count": 9,
          "metadata": {},
          "output_type": "execute_result"
        }
      ],
      "source": [
        "# full training data table\n",
        "DataTable(df_train, num_rows_per_page=5)"
      ]
    },
    {
      "attachments": {},
      "cell_type": "markdown",
      "metadata": {
        "id": "bRcsFtkQupNx"
      },
      "source": [
        "## Data preprocessing"
      ]
    },
    {
      "attachments": {},
      "cell_type": "markdown",
      "metadata": {
        "id": "NKJb7sWwOy7h"
      },
      "source": [
        "<!-- **Prepare the input text**\n",
        "\n",
        "1.) We prepare the target texts by making them more naturally fit to the hypothesis. Here we simply wrap each target text into the string ' The quote: \"{target_text}\" - end of the quote. '\n",
        "\n",
        "2.) We surround the target text by its preceeding and following sentence. Adding context like this systematically increases performance. -->\n"
      ]
    },
    {
      "cell_type": "code",
      "execution_count": 10,
      "metadata": {
        "id": "cMdw-oZ9sCcS"
      },
      "outputs": [],
      "source": [
        "# If your text is long documents instead of just short-text like tweets, you might want to utilize the preceding and following text as well\n",
        "# df_train[\"text\"] = df_train.text_preceding.fillna(\"\") + \" \" + df_train.text_original.fillna(\"\") + \" \" + df_train.text_following.fillna(\"\")\n",
        "# df_test[\"text\"] = df_test.text_preceding.fillna(\"\") + \" \" + df_test.text_original.fillna(\"\") + \" \" + df_test.text_following.fillna(\"\")\n"
      ]
    },
    {
      "cell_type": "code",
      "execution_count": 11,
      "metadata": {
        "id": "3chucB2gocsU"
      },
      "outputs": [],
      "source": [
        "df_train = df_train[[\"label\", \"label_text\", \"text\"]]\n",
        "df_test = df_test[[\"label\", \"label_text\", \"text\"]]"
      ]
    },
    {
      "cell_type": "code",
      "execution_count": 12,
      "metadata": {
        "colab": {
          "base_uri": "https://localhost:8080/",
          "height": 207
        },
        "id": "TA941hmbosM1",
        "outputId": "e528fc2c-e511-41b1-8b36-ef9518c14a57"
      },
      "outputs": [
        {
          "data": {
            "application/vnd.google.colaboratory.module+javascript": "\n      import \"https://ssl.gstatic.com/colaboratory/data_table/881c4a0d49046431/data_table.js\";\n\n      const table = window.createDataTable({\n        data: [[{\n            'v': 2573,\n            'f': \"2573\",\n        },\n{\n            'v': 0,\n            'f': \"0\",\n        },\n\"non-political\",\n\"en with an extra hour of sleep, Monday is still Monday. Why the fuck am I always making the coffee around here?\"],\n [{\n            'v': 2853,\n            'f': \"2853\",\n        },\n{\n            'v': 0,\n            'f': \"0\",\n        },\n\"non-political\",\n\"aux #Saints! <3 Psh, and the Falcons used to be our \\\"rivals\\\" bwahahahaha #whodat #blackandgold\"],\n [{\n            'v': 1196,\n            'f': \"1196\",\n        },\n{\n            'v': 1,\n            'f': \"1\",\n        },\n\"political\",\n\"We are broadcasting a very special Request Show for our troops out in Afghanistan, on Sunday 20 December between 12... http://bit.ly/6Dr3co\"],\n [{\n            'v': 602,\n            'f': \"602\",\n        },\n{\n            'v': 1,\n            'f': \"1\",\n        },\n\"political\",\n\"RT @jackiewalorski: What a deal! Obama's going to provide ALL this with no tax increase!! Incredible...hang on to your wallet.\"],\n [{\n            'v': 984,\n            'f': \"984\",\n        },\n{\n            'v': 1,\n            'f': \"1\",\n        },\n\"political\",\n\"With the billions congress wastes spending on stupid crap every year-we could've ended both middle east wars and fixed the economy years ago\"],\n [{\n            'v': 1943,\n            'f': \"1943\",\n        },\n{\n            'v': 0,\n            'f': \"0\",\n        },\n\"non-political\",\n\"armville naunsa na tawn to ako farmville, cafe world, rollercoaster kingdom, pet s.. http://bit.ly/2UsKhZ >>> Meeewwwhhhhh\"],\n [{\n            'v': 1619,\n            'f': \"1619\",\n        },\n{\n            'v': 0,\n            'f': \"0\",\n        },\n\"non-political\",\n\"yin' to enjoy this beautiful Halloween Night!!!\"],\n [{\n            'v': 2151,\n            'f': \"2151\",\n        },\n{\n            'v': 0,\n            'f': \"0\",\n        },\n\"non-political\",\n\"ok the \\\"Com qual dos Jonas vc namoraria/casaria ?\\\" quiz & got: Kevin Jonas! What about you? \\u00e2\\u017e\\u0153 http://bit.ly/43BGwd\"],\n [{\n            'v': 2053,\n            'f': \"2053\",\n        },\n{\n            'v': 0,\n            'f': \"0\",\n        },\n\"non-political\",\n\"emDotLifer i still have love for you though Mo :-)\"],\n [{\n            'v': 1497,\n            'f': \"1497\",\n        },\n{\n            'v': 1,\n            'f': \"1\",\n        },\n\"political\",\n\"McNerney draws challenger: RT @lvorderbrueggen Republican enters CD11 race. http://bit.ly/EToJ5\"],\n [{\n            'v': 627,\n            'f': \"627\",\n        },\n{\n            'v': 1,\n            'f': \"1\",\n        },\n\"political\",\n\"RT @rsmccain #Copenhagen Obama's Massive FAIL http://tinyurl.com/ykx6nyv (Let It Snow!) PLZ Re-Tweet #tcot #tlot\"],\n [{\n            'v': 43,\n            'f': \"43\",\n        },\n{\n            'v': 1,\n            'f': \"1\",\n        },\n\"political\",\n\"Is the \\\"C\\\" in \\\"C Street\\\" for \\\"Christian Conservative\\\" or \\\"Cultlike?\\\" http://bit.ly/RQjpT\"],\n [{\n            'v': 2427,\n            'f': \"2427\",\n        },\n{\n            'v': 0,\n            'f': \"0\",\n        },\n\"non-political\",\n\"tched this is it w/ the cousins. my first time at an imax since i was......... 4? =/ then we all went biking around the village\"],\n [{\n            'v': 2845,\n            'f': \"2845\",\n        },\n{\n            'v': 0,\n            'f': \"0\",\n        },\n\"non-political\",\n\"m my sister went & left me alone watching #BOO :(\"],\n [{\n            'v': 1067,\n            'f': \"1067\",\n        },\n{\n            'v': 1,\n            'f': \"1\",\n        },\n\"political\",\n\"@mechanicsburg Enjoy! The economy may be in the dump but the trains still run! Say to Tom and Sandy for me.\"],\n [{\n            'v': 1949,\n            'f': \"1949\",\n        },\n{\n            'v': 0,\n            'f': \"0\",\n        },\n\"non-political\",\n\"tes waking up and still being sick, I sound like an old man with a severe case of asthma\"],\n [{\n            'v': 735,\n            'f': \"735\",\n        },\n{\n            'v': 1,\n            'f': \"1\",\n        },\n\"political\",\n\"RT @colombiancoffee: Two DeKalb Cnty Officers suspended for allegedly performing bckgrnd chk on Pres Obama http://bit.ly/qwMJI /NOT Racists!\"],\n [{\n            'v': 1698,\n            'f': \"1698\",\n        },\n{\n            'v': 0,\n            'f': \"0\",\n        },\n\"non-political\",\n\"w... tonight was so much fun ! and i got to spend it with my babe <3\"],\n [{\n            'v': 1533,\n            'f': \"1533\",\n        },\n{\n            'v': 1,\n            'f': \"1\",\n        },\n\"political\",\n\"Senate Twitter Smackdown! Specter and Grassley Get Into It On ... http://bit.ly/RPfJr\"],\n [{\n            'v': 2371,\n            'f': \"2371\",\n        },\n{\n            'v': 0,\n            'f': \"0\",\n        },\n\"non-political\",\n\"\\u2013\\u00e9\\u00aa\\u00a8\\u00e3\\u0081\\u00af\\u00e3\\u0081\\u02dc\\u00e3\\u201a\\u0081\\u00e3\\u0081\\u00be\\u00e3\\u0081\\u2014\\u00e3\\u0081\\u0178\\u00ef\\u00bc\\u0081\"],\n [{\n            'v': 3144,\n            'f': \"3144\",\n        },\n{\n            'v': 0,\n            'f': \"0\",\n        },\n\"non-political\",\n\" @safiDRED I'm so GANGSTA , I sleep with pillowcases full of rocks cuz I'm too G for comfort . <----- where u gettin this shit from lol\"],\n [{\n            'v': 2891,\n            'f': \"2891\",\n        },\n{\n            'v': 0,\n            'f': \"0\",\n        },\n\"non-political\",\n\"\\u009d\\u00e3\\u0081\\u2020\\u00e3\\u0081\\u009d\\u00e3\\u0081\\u2020\\u00e3\\u20ac\\u0081\\u00e3\\u0081\\u201a\\u00e3\\u0081\\u00be\\u00e3\\u201a\\u0160\\u00e8\\u00a7\\u00a6\\u00e3\\u201a\\u0152\\u00e3\\u201a\\u2030\\u00e3\\u201a\\u0152\\u00e3\\u0081\\u00a6\\u00e3\\u0081\\u00aa\\u00e3\\u0081\\u201e\\u00e3\\u0081\\u2018\\u00e3\\u0081\\u00a9\\u00e3\\u20ac\\u0081\\u00e3\\u0081\\u201c\\u00e3\\u201a\\u0152\\u00e3\\u201a\\u201a\\u00e8\\u00a6\\u2013\\u00e8\\u0081\\u00b4\\u00e6\\u017d\\u00a8\\u00e5\\u00a5\\u00a8\\u00ef\\u00bc\\u0161\\u00e3\\u20ac\\u0090\\u00e6\\u0160\\u2022\\u00e3\\u201a\\u00b3\\u00e3\\u0192\\u00a1\\u00e3\\u20ac\\u2018\\u00e3\\u0081\\u00b2\\u00e3\\u0081\\u0090\\u00e3\\u201a\\u2030\\u00e3\\u0081\\u2014\\u00e3\\u0081\\u00ae\\u00e3\\u0081\\u00aa\\u00e3\\u0081\\u008f\\u00e9\\u00a0\\u0192\\u00e3\\u0081\\u00ab\\u00e3\\u20ac\\u0090\\u00ef\\u00bc\\u00b3\\u00ef\\u00bc\\u00a1\\u00ef\\u00bc\\u2020\\u00ef\\u00bc\\u00a3\\u00ef\\u00bc\\u00a1\\u00e3\\u20ac\\u2018\\u00ef\\u00bc\\u0161http://www.nicovideo.jp/watch/nm8102909\"],\n [{\n            'v': 1621,\n            'f': \"1621\",\n        },\n{\n            'v': 0,\n            'f': \"0\",\n        },\n\"non-political\",\n\"ying to make somebody love you is about as useless as trying to control who you fall in love with\"],\n [{\n            'v': 2054,\n            'f': \"2054\",\n        },\n{\n            'v': 0,\n            'f': \"0\",\n        },\n\"non-political\",\n\"ean2014 *grabs another heavy box* Jeez Chuck is going to think his holidays have all come at once!\"],\n [{\n            'v': 189,\n            'f': \"189\",\n        },\n{\n            'v': 0,\n            'f': \"0\",\n        },\n\"non-political\",\n\"n archief van de anarchie is m.i. een contradictie RT @EricHennekam: Anarchism Web Archive http://webarchives.cdlib.org/a/Anarchism\"],\n [{\n            'v': 344,\n            'f': \"344\",\n        },\n{\n            'v': 1,\n            'f': \"1\",\n        },\n\"political\",\n\"Bring back HUAC RT @RichyOmony #classicmoviequotes \\\"Boy, don't start no communist sh!t\\\"\"],\n [{\n            'v': 814,\n            'f': \"814\",\n        },\n{\n            'v': 1,\n            'f': \"1\",\n        },\n\"political\",\n\"I don't want to wait until the economy is better and we're comfortable-we made that mistake before. Mayor Jackson on Sustainable Cleveland\"],\n [{\n            'v': 2596,\n            'f': \"2596\",\n        },\n{\n            'v': 0,\n            'f': \"0\",\n        },\n\"non-political\",\n\"m down to my last ammo..need to recharge my batt..need back up! Does anyone copy?? Need back up!!\"],\n [{\n            'v': 1569,\n            'f': \"1569\",\n        },\n{\n            'v': 1,\n            'f': \"1\",\n        },\n\"political\",\n\"@cspanwj Is Iraq the Republican war and Afganistan the Democrat War?\"],\n [{\n            'v': 2177,\n            'f': \"2177\",\n        },\n{\n            'v': 0,\n            'f': \"0\",\n        },\n\"non-political\",\n\", I said to heck with game and took kids out 2 play. Came back to 24-20. Minn immediately scored. Maybe we shld turn lights on in yrd.\"],\n [{\n            'v': 1600,\n            'f': \"1600\",\n        },\n{\n            'v': 0,\n            'f': \"0\",\n        },\n\"non-political\",\n\"eroween THE STORY OF IEROWEEN! THE VIDEO ->>>>>>>>>>>>>>>>>>>>>> http://bit.ly/2VFPAV <<<< JUST FOR FRANK !!! \\u00c3\\u00a7\"],\n [{\n            'v': 1032,\n            'f': \"1032\",\n        },\n{\n            'v': 0,\n            'f': \"0\",\n        },\n\"non-political\",\n\"\\u201c Fiktive stemmelokaler brukt til fusk i Afghanistan: Mange av stemmene til Afghanistans president Hamid Karzai .. http://snipurl.com/rnfto\"],\n [{\n            'v': 1617,\n            'f': \"1617\",\n        },\n{\n            'v': 0,\n            'f': \"0\",\n        },\n\"non-political\",\n\"iends guilted me into passing out candy tonight. But I forgot to buy some. So I guess I won't. Darn.\"],\n [{\n            'v': 2805,\n            'f': \"2805\",\n        },\n{\n            'v': 0,\n            'f': \"0\",\n        },\n\"non-political\",\n\"\\u00a1\\u00e3\\u0192\\u00ab\\u00e3\\u0192\\u017e\\u00e3\\u201a\\u00ac\\u00e3\\u0081\\u00a8\\u00e3\\u0192\\u2013\\u00e3\\u0192\\u00ad\\u00e3\\u201a\\u00b0\\u00e3\\u0081\\u00a7\\u00e7\\u00a8\\u00bc\\u00e3\\u0081\\u0090\\u00e3\\u201a\\u00a2\\u00e3\\u0192\\u2022\\u00e3\\u201a\\u00a3\\u00e3\\u0192\\u00aa\\u00e3\\u201a\\u00a8\\u00e3\\u201a\\u00a4\\u00e3\\u0192\\u02c6\\u00e3\\u0081\\u00ae\\u00e7\\u00ac\\u00ac\\u00e4\\u00b8\\u20ac\\u00e6\\u00ad\\u00a9 : \\u00e8\\u00b6\\u2026\\u00e5\\u02c6\\u009d\\u00e5\\u00bf\\u0192\\u00e8\\u20ac\\u2026\\u00e3\\u0081\\u2022\\u00e3\\u201a\\u201c\\u00e7\\u201d\\u00a8\\u00e3\\u201a\\u00a2\\u00e3\\u0192\\u2022\\u00e3\\u201a\\u00a3\\u00e3\\u0192\\u00aa\\u00e8\\u00ac\\u203a\\u00e5\\u00ba\\u00a7\\u00e3\\u20ac\\u20ac\\u00e7\\u203a\\u00ae\\u00e6\\u00ac\\u00a1 http://bit.ly/2ELQGA\"],\n [{\n            'v': 649,\n            'f': \"649\",\n        },\n{\n            'v': 1,\n            'f': \"1\",\n        },\n\"political\",\n\"Obama's Colorado Heath Care Town Hall is a joke...total joke and an insult to Colorado and the United States.\"],\n [{\n            'v': 2550,\n            'f': \"2550\",\n        },\n{\n            'v': 0,\n            'f': \"0\",\n        },\n\"non-political\",\n\"ollieLovesYou but you know Hollywood is going to run with it. That Movie looks SCArY!!\"],\n [{\n            'v': 1066,\n            'f': \"1066\",\n        },\n{\n            'v': 1,\n            'f': \"1\",\n        },\n\"political\",\n\"A measure of U.S. participants\\u00e2\\u20ac\\u2122 confidence in the world\\u00e2\\u20ac\\u2122s largest economy rose to 47.3 from 29.5, the survey showed.\"],\n [{\n            'v': 647,\n            'f': \"647\",\n        },\n{\n            'v': 1,\n            'f': \"1\",\n        },\n\"political\",\n\"RT @foxnewspolitics: The Radicalization of Obama's 'Green Czar': Van Jones was arrested in San Francisco in 1992 for... http://bit.ly/NMghu\"],\n [{\n            'v': 289,\n            'f': \"289\",\n        },\n{\n            'v': 1,\n            'f': \"1\",\n        },\n\"political\",\n\"@TPO_Hisself No, I want to REFUSE Socialism!!\"],\n [{\n            'v': 1980,\n            'f': \"1980\",\n        },\n{\n            'v': 0,\n            'f': \"0\",\n        },\n\"non-political\",\n\" @PaintQualityIns Sign up for our upcoming webinar on paint tips and color trends. Registration is at www.paintquality.com\"],\n [{\n            'v': 1710,\n            'f': \"1710\",\n        },\n{\n            'v': 0,\n            'f': \"0\",\n        },\n\"non-political\",\n\"ullenluv hey lady u still on? How's ur nite going so far?\"],\n [{\n            'v': 2898,\n            'f': \"2898\",\n        },\n{\n            'v': 0,\n            'f': \"0\",\n        },\n\"non-political\",\n\"hn n Kate plus eight She says as parent she could fill 10 book contract! Sounds like a plug to me. Kate you have to raise kids to know how\"],\n [{\n            'v': 2146,\n            'f': \"2146\",\n        },\n{\n            'v': 0,\n            'f': \"0\",\n        },\n\"non-political\",\n\"ndysBoBandy For why did you hate music for 4 hours? That hurts my heart!\"],\n [{\n            'v': 2708,\n            'f': \"2708\",\n        },\n{\n            'v': 0,\n            'f': \"0\",\n        },\n\"non-political\",\n\" @lauriebabiiee @purple_kizzes lol FINALLY i literally feel like i havent seen you in a month! ...(aww lol. i feel the same waay.:)...)\"],\n [{\n            'v': 1678,\n            'f': \"1678\",\n        },\n{\n            'v': 0,\n            'f': \"0\",\n        },\n\"non-political\",\n\": Where do you live right now?: wow you live in the Mid East? how is it over there? i know, me 2 http://tinyurl.com/ybmv8tu\"],\n [{\n            'v': 188,\n            'f': \"188\",\n        },\n{\n            'v': 1,\n            'f': \"1\",\n        },\n\"political\",\n\"@lizarddawg It's not advocating Socialism if your idea of single-payer is the patient paying 100% at time of service #PATMOS #HandsOff\"],\n [{\n            'v': 2024,\n            'f': \"2024\",\n        },\n{\n            'v': 0,\n            'f': \"0\",\n        },\n\"non-political\",\n\"learlyItsTati no worries I got it!!\"],\n [{\n            'v': 1598,\n            'f': \"1598\",\n        },\n{\n            'v': 0,\n            'f': \"0\",\n        },\n\"non-political\",\n\"ve our H.S. & colleges failed us? Part of the 1st 2 yr req.curr. should include Am.Gov./Capitalism 101 #GOP #DEM #liberal #p2 #teaparty\"],\n [{\n            'v': 537,\n            'f': \"537\",\n        },\n{\n            'v': 1,\n            'f': \"1\",\n        },\n\"political\",\n\"I hate people like Cam, who assume that Obama is god, and the rest of us are idiots for believing in the REAL God.\"],\n [{\n            'v': 1886,\n            'f': \"1886\",\n        },\n{\n            'v': 0,\n            'f': \"0\",\n        },\n\"non-political\",\n\"\\u2020\\u00e3\\u201a\\u008f\\u00e3\\u20ac\\u0153\\u00e3\\u20ac\\u0153\\u00e3\\u20ac\\u0153\\u00e2\\u20ac\\u00a6\\u00e3\\u0081\\u00aa\\u00e3\\u201a\\u201c\\u00e3\\u0081\\u2039\\u00e3\\u0081\\u2122\\u00e3\\u0081\\u00a3\\u00e3\\u0081\\u2019\\u00e3\\u0192\\u00bc\\u00e3\\u0192\\u00a4\\u00e3\\u0081\\u00aa\\u00e3\\u201a\\u00ab\\u00e3\\u0192\\u00b3\\u00e3\\u201a\\u00b8\\u00e3\\u0081\\u00a3\\u00e3\\u0081\\u2122\\u00e3\\u201a\\u02c6\\u00ef\\u00bc\\u0178\"],\n [{\n            'v': 835,\n            'f': \"835\",\n        },\n{\n            'v': 1,\n            'f': \"1\",\n        },\n\"political\",\n\"RT @hashmarket: RT @marialavis Vive la resistance! :) @RyanIsHungry \\\"All over the country, the underground fruit economy is growing.\\\" ht ...\"],\n [{\n            'v': 1754,\n            'f': \"1754\",\n        },\n{\n            'v': 0,\n            'f': \"0\",\n        },\n\"non-political\",\n\"e aburrimiento:(\"],\n [{\n            'v': 244,\n            'f': \"244\",\n        },\n{\n            'v': 0,\n            'f': \"0\",\n        },\n\"non-political\",\n\" the fringes or in our own center? | Geek Feminism Blog http://bit.ly/jguKp #osbridge\"],\n [{\n            'v': 1170,\n            'f': \"1170\",\n        },\n{\n            'v': 1,\n            'f': \"1\",\n        },\n\"political\",\n\"Interesting: NRA threats on Sotomayor met with shrugs (AP) http://bit.ly/hhfUr @powerpro\"],\n [{\n            'v': 1595,\n            'f': \"1595\",\n        },\n{\n            'v': 1,\n            'f': \"1\",\n        },\n\"political\",\n\"@arditord bro do you know? I got an urgent info from our fellow in China (Dean), he said that Chinesse Government has blocked Facebook\"],\n [{\n            'v': 2048,\n            'f': \"2048\",\n        },\n{\n            'v': 0,\n            'f': \"0\",\n        },\n\"non-political\",\n\"dio church reminded me this morning to \\\"LOVE THY NEIGHBOR AS THYSELF\\\". Great way to start my Sunday by loving you beautiful people! =-D.\"],\n [{\n            'v': 2696,\n            'f': \"2696\",\n        },\n{\n            'v': 0,\n            'f': \"0\",\n        },\n\"non-political\",\n\" @wfitzsimmons: Sleeping pills & beer=bad idea. Passed out in plane isle, came to as attendant yelled for a doctor. Ha!\"],\n [{\n            'v': 1970,\n            'f': \"1970\",\n        },\n{\n            'v': 0,\n            'f': \"0\",\n        },\n\"non-political\",\n\" @kabyeyou: Wack right RT @Liberiangyal: So i saw Paranormal Activity and..yea...<--it ddnt live up to the hype\"],\n [{\n            'v': 2830,\n            'f': \"2830\",\n        },\n{\n            'v': 0,\n            'f': \"0\",\n        },\n\"non-political\",\n\"feel its the only way to be, Most people wake up trying to be ruff,rugged & raw... Its like u wanna be a super thug over pancakes? Lmao\"],\n [{\n            'v': 2434,\n            'f': \"2434\",\n        },\n{\n            'v': 0,\n            'f': \"0\",\n        },\n\"non-political\",\n\"\\u0090\\u00e6\\u00a7\\u2039\\u00e6\\u00ad\\u00b3\\u00e3\\u0081\\u201e\\u00e3\\u0081\\u00a3\\u00e3\\u0081\\u0178\\u00e6\\u201e\\u0178\\u00e3\\u0081\\u02dc\\u00e3\\u0081\\u2039\\u00e3\\u0081\\u00aa\\u00e3\\u20ac\\u201a RT @nayouhei: \\u00e7\\u008f\\u00be\\u00e9\\u2021\\u2018\\u00e5\\u00bc\\u2022\\u00e3\\u0081\\u008d\\u00e5\\u2021\\u00ba\\u00e3\\u0081\\u2014\\u00e3\\u0081\\u0178\\u00e7\\u201d\\u00b7\\u00e3\\u0081\\u00ae\\u00e7\\u201d\\u00bb\\u00e5\\u0192\\u008f\\u00e5\\u2026\\u00ac\\u00e9\\u2013\\u2039\\u00e3\\u20ac\\u20ac\\u00e3\\u20ac\\u20ac\\u00e3\\u20ac\\u20achttp://bit.ly/2dnUyc\"],\n [{\n            'v': 2320,\n            'f': \"2320\",\n        },\n{\n            'v': 0,\n            'f': \"0\",\n        },\n\"non-political\",\n\"afaBBmiss3s well...i'm in Australia and it's around 3:30 in the afternoon lol\"],\n [{\n            'v': 658,\n            'f': \"658\",\n        },\n{\n            'v': 1,\n            'f': \"1\",\n        },\n\"political\",\n\"RT @drelady: RT @BravoAndy best chant so far: \\\"yo, obama, let mama marry mama!\\\" ...WISH I COULD BE THERE!.. #NEM\"],\n [{\n            'v': 1909,\n            'f': \"1909\",\n        },\n{\n            'v': 0,\n            'f': \"0\",\n        },\n\"non-political\",\n\"lakka Povathu Yaaru Junior - 01-11-2009 - Kalakka Povathu Yaaru Junior - Vijay Tv Shows - Part 1: Video: Kala.. http://bit.ly/bwYXY\"],\n [{\n            'v': 2783,\n            'f': \"2783\",\n        },\n{\n            'v': 0,\n            'f': \"0\",\n        },\n\"non-political\",\n\"ll crap, that drive went no where. What happened with you all Falcons. Now we got to punt now.\"],\n [{\n            'v': 80,\n            'f': \"80\",\n        },\n{\n            'v': 1,\n            'f': \"1\",\n        },\n\"political\",\n\"Conservative Party Leader Repeats Labour\\u00e2\\u20ac\\u2122s Afghanistan Lie : The British National Party http://bit.ly/1BQtY\"],\n [{\n            'v': 45,\n            'f': \"45\",\n        },\n{\n            'v': 0,\n            'f': \"0\",\n        },\n\"non-political\",\n\"nator Ted Kennedy , the indefatigable liberal icon has died http://is.gd/2z4wh\"],\n [{\n            'v': 2524,\n            'f': \"2524\",\n        },\n{\n            'v': 0,\n            'f': \"0\",\n        },\n\"non-political\",\n\"RINArockstarr My Dream is To Stay on My Grind and get that paper like you; And also too cop that new album when it come out....= )\"],\n [{\n            'v': 1855,\n            'f': \"1855\",\n        },\n{\n            'v': 0,\n            'f': \"0\",\n        },\n\"non-political\",\n\" @TheDailyBlonde: NYC Marathon 2009 Uses Social Media to Track Results - http://tinyurl.com/yk5s9cp\"],\n [{\n            'v': 2368,\n            'f': \"2368\",\n        },\n{\n            'v': 0,\n            'f': \"0\",\n        },\n\"non-political\",\n\" Little Roo Baby Carrier Slipcover Giveaway http://bit.ly/C5lHi\"],\n [{\n            'v': 987,\n            'f': \"987\",\n        },\n{\n            'v': 1,\n            'f': \"1\",\n        },\n\"political\",\n\"CNN Poll: Obama receives a C on the economy - http://tinyurl.com/nlakbo\"],\n [{\n            'v': 85,\n            'f': \"85\",\n        },\n{\n            'v': 1,\n            'f': \"1\",\n        },\n\"political\",\n\"That's Czary! RT @tuansenangbesar Komunis and communism is 2 different things. If you haven't read economic history.\"],\n [{\n            'v': 3195,\n            'f': \"3195\",\n        },\n{\n            'v': 0,\n            'f': \"0\",\n        },\n\"non-political\",\n\"m bout to pass out. I'm mad sleepy.\"],\n [{\n            'v': 2909,\n            'f': \"2909\",\n        },\n{\n            'v': 0,\n            'f': \"0\",\n        },\n\"non-political\",\n\"ll, I shall be off now, as it's 5.40pm--time to get my dinner! Until we tweet again, stay safe, keep well and be good! ;)\"],\n [{\n            'v': 2328,\n            'f': \"2328\",\n        },\n{\n            'v': 0,\n            'f': \"0\",\n        },\n\"non-political\",\n\"rincook81 haha...well I\\\"m ok with asking @jakeofficial for lunch...it's the rest I might loose my courage for if he doesn't respond!!\"],\n [{\n            'v': 2746,\n            'f': \"2746\",\n        },\n{\n            'v': 0,\n            'f': \"0\",\n        },\n\"non-political\",\n\"obActionDay09: Take Action: 10 Steps for Landing an Entry-Level Job http://ow.ly/y6Vm #CareerCollective Please RT!\"],\n [{\n            'v': 1275,\n            'f': \"1275\",\n        },\n{\n            'v': 0,\n            'f': \"0\",\n        },\n\"non-political\",\n\"ee Government Grants - Part 1 http://bit.ly/DOJT4\"],\n [{\n            'v': 1529,\n            'f': \"1529\",\n        },\n{\n            'v': 1,\n            'f': \"1\",\n        },\n\"political\",\n\"Kennedy's absence leaves Senate void of dealmaker (AP): AP - In an era of bitter political division, Sen. Edward.. http://tinyurl.com/l6pdhp\"],\n [{\n            'v': 1681,\n            'f': \"1681\",\n        },\n{\n            'v': 0,\n            'f': \"0\",\n        },\n\"non-political\",\n\" nunca andei de dinossauro [2]\"],\n [{\n            'v': 1757,\n            'f': \"1757\",\n        },\n{\n            'v': 0,\n            'f': \"0\",\n        },\n\"non-political\",\n\"iwinana I don't know, but you might try putting http://bit.ly/44JzH and see what comes up. :) Or,look in a search engine for it.\"],\n [{\n            'v': 952,\n            'f': \"952\",\n        },\n{\n            'v': 1,\n            'f': \"1\",\n        },\n\"political\",\n\"Video about Soldiers sponsoring a day of fun for children at a Tikrit, Iraq orphanage: http://dvidshub.net/r/d5gkli\"],\n [{\n            'v': 1428,\n            'f': \"1428\",\n        },\n{\n            'v': 1,\n            'f': \"1\",\n        },\n\"political\",\n\"RT @AlterNet Hawks in Congress Willing to Shell Out Trillions for War, but Won't Help Americans Get Decent Health-Care http://bit.ly/18oe85\"],\n [{\n            'v': 1918,\n            'f': \"1918\",\n        },\n{\n            'v': 0,\n            'f': \"0\",\n        },\n\"non-political\",\n\"enjaminmadden @JoelMadden you guys don't share a hotel room?\"],\n [{\n            'v': 1298,\n            'f': \"1298\",\n        },\n{\n            'v': 1,\n            'f': \"1\",\n        },\n\"political\",\n\"There'll be nowhere to run from the new world government http://bit.ly/8YAzrl\"],\n [{\n            'v': 553,\n            'f': \"553\",\n        },\n{\n            'v': 1,\n            'f': \"1\",\n        },\n\"political\",\n\"I just took the \\\"Qual o seu n\\u00c3\\u00advel de ingl\\u00c3\\u00aas?\\\" quiz and got: Dou aulas pro Obama!! Try it \\u00e2\\u017e\\u00a4 http://bit.ly/lhj1T\"],\n [{\n            'v': 1077,\n            'f': \"1077\",\n        },\n{\n            'v': 1,\n            'f': \"1\",\n        },\n\"political\",\n\"I'm soooo expecting 1800$ ounce spot #gold in the next 6 months. The #economy and american #finance has never been so easy to predict!! =)\"],\n [{\n            'v': 823,\n            'f': \"823\",\n        },\n{\n            'v': 1,\n            'f': \"1\",\n        },\n\"political\",\n\"RT @NatGeoChannel: Days after 9/11, CIA agents go to Afghanistan w/ a mission to hunt down al Qaeda & Osama bin Laden. http://ow.ly/smyp\"],\n [{\n            'v': 1084,\n            'f': \"1084\",\n        },\n{\n            'v': 1,\n            'f': \"1\",\n        },\n\"political\",\n\"http://plazacentre.net : The Caning of Kartika: The Legalities and Malaysia's International Standing with Afghanistan, Iran and Sudan\"],\n [{\n            'v': 1315,\n            'f': \"1315\",\n        },\n{\n            'v': 1,\n            'f': \"1\",\n        },\n\"political\",\n\"Subcommittee Examines Federal Government\\u00e2\\u20ac\\u2122s Role in the R&D of Converting Biomass for Heat and Electricity: http://twurl.nl/5r7jpx\"],\n [{\n            'v': 852,\n            'f': \"852\",\n        },\n{\n            'v': 1,\n            'f': \"1\",\n        },\n\"political\",\n\"RT @1D4TW: UN's Kai Eide has been lecturing Karzai, as if Eide were the Colonial Governor of #Afghanistan (http://bit.ly/3T3rQP)\"],\n [{\n            'v': 1592,\n            'f': \"1592\",\n        },\n{\n            'v': 1,\n            'f': \"1\",\n        },\n\"political\",\n\"@foxandfriends $1.1 million for 2 lbs frozen ham sliced. Can our government be anymore out their minds? http://tr.im/t447\"],\n [{\n            'v': 759,\n            'f': \"759\",\n        },\n{\n            'v': 1,\n            'f': \"1\",\n        },\n\"political\",\n\"RT @TGIF_HonAdv: So, Hawaii has Jake Shimabukuro and Bette Midler playing for The Queen tonight, and Makana for Obama tomorrow. How cool ...\"],\n [{\n            'v': 1313,\n            'f': \"1313\",\n        },\n{\n            'v': 1,\n            'f': \"1\",\n        },\n\"political\",\n\"Senator Byrd: The Longest-Serving Member of Congress - http://foxrad.io/5a\"],\n [{\n            'v': 605,\n            'f': \"605\",\n        },\n{\n            'v': 1,\n            'f': \"1\",\n        },\n\"political\",\n\"Biden is there with Obama, Gates and Crowley. I guess they wanted to balance the colors out? #p2\"],\n [{\n            'v': 3085,\n            'f': \"3085\",\n        },\n{\n            'v': 0,\n            'f': \"0\",\n        },\n\"non-political\",\n\"al Madrid star Ronaldo to join forces with Joe Jackson - Tribalfootball.com http://bit.ly/1j0Ack #mj\"],\n [{\n            'v': 2362,\n            'f': \"2362\",\n        },\n{\n            'v': 0,\n            'f': \"0\",\n        },\n\"non-political\",\n\"\\u009d\\u00e9\\u0178\\u00b3\\u00e3\\u0192\\u0178\\u00e3\\u201a\\u00af Studie GLAD BMW Z4\\u00e3\\u0081\\u00ae\\u00ef\\u00bc\\u2018\\u00ef\\u00bc\\u0090\\u00ef\\u00bc\\u008f\\u00ef\\u00bc\\u2018\\u00ef\\u00bc\\u00b2\\u00ef\\u00bc\\u00a3\\u00e3\\u201a\\u00ab\\u00e3\\u0192\\u00bc\\u00ef\\u00bc\\u0081\\u00e3\\u0081\\u009d\\u00e3\\u0081\\u2020\\u00e3\\u0081\\u201e\\u00e3\\u0081\\u2020\\u00e3\\u0081\\u00ae\\u00e3\\u201a\\u201a\\u00e3\\u0081\\u201a\\u00e3\\u201a\\u2039\\u00e3\\u0081\\u00ae\\u00e3\\u0081\\u2039 http://bit.ly/3RZrrO\"],\n [{\n            'v': 326,\n            'f': \"326\",\n        },\n{\n            'v': 1,\n            'f': \"1\",\n        },\n\"political\",\n\"@Sammie_Rhodes Sammieee! Where are you to help me fight the liberals lol :(\"],\n [{\n            'v': 2868,\n            'f': \"2868\",\n        },\n{\n            'v': 0,\n            'f': \"0\",\n        },\n\"non-political\",\n\"ougoftheabaci lol... I'll catch up with you tomorrow. #alwaysCarryingTheBadge\"],\n [{\n            'v': 1827,\n            'f': \"1827\",\n        },\n{\n            'v': 0,\n            'f': \"0\",\n        },\n\"non-political\",\n\"g laying down calling it a niteee;MARSHALL MARSHALL =))) Ahhhh leave me direct messeges.and follow me pweseee! NiTE tweeters;\"],\n [{\n            'v': 1166,\n            'f': \"1166\",\n        },\n{\n            'v': 0,\n            'f': \"0\",\n        },\n\"non-political\",\n\"ghanistan: deux civils tu\\u00c3\\u00a9s par l'attentat de Kaboul (officiel) http://bit.ly/LqvL3\"],\n [{\n            'v': 2731,\n            'f': \"2731\",\n        },\n{\n            'v': 0,\n            'f': \"0\",\n        },\n\"non-political\",\n\"ybody ever read R.A.Schwaller de Lubicz?Just started the Sacred Science joint.Working 2 Temple Of Man already got it just aint read it yet\"],\n [{\n            'v': 1892,\n            'f': \"1892\",\n        },\n{\n            'v': 0,\n            'f': \"0\",\n        },\n\"non-political\",\n\"C: Hodgson refuses to write off Reds: Fulham manager Roy Hodgson warns the Premier League's top teams not.. http://bit.ly/NNKTb\"],\n [{\n            'v': 2394,\n            'f': \"2394\",\n        },\n{\n            'v': 0,\n            'f': \"0\",\n        },\n\"non-political\",\n\"igh high boots\\u00e3\\u0081\\u00a3\\u00e3\\u0081\\u00a6\\u00e7\\u009d\\u20ac\\u00e8\\u201e\\u00b1\\u00e3\\u0081\\u0152\\u00e5\\u00a4\\u00a7\\u00e5\\u00a4\\u2030\\u00e3\\u0081\\u009d\\u00e3\\u0081\\u2020\\u00e3\\u0081\\u00a0\\u00e3\\u0081\\u00aa\\u00e3\\u20ac\\u0153\"],\n [{\n            'v': 2586,\n            'f': \"2586\",\n        },\n{\n            'v': 0,\n            'f': \"0\",\n        },\n\"non-political\",\n\"llyan Schwab, daughter of Christine Schwab, will light up the \\u00e2\\u20ac\\u0153Hot Now\\u00e2\\u20ac\\u009d sign at our new location at 1122 Veterans Parkway tomorrow morning\"],\n [{\n            'v': 2606,\n            'f': \"2606\",\n        },\n{\n            'v': 0,\n            'f': \"0\",\n        },\n\"non-political\",\n\" @CamFrikknTastic: I'm n the mood 4 Burger King <-- me 2\"],\n [{\n            'v': 1869,\n            'f': \"1869\",\n        },\n{\n            'v': 0,\n            'f': \"0\",\n        },\n\"non-political\",\n\"Damn Love with My Twitter Background :@\"],\n [{\n            'v': 1706,\n            'f': \"1706\",\n        },\n{\n            'v': 0,\n            'f': \"0\",\n        },\n\"non-political\",\n\"wilightNinjas have you ever read my blog it's hilarious or I hope it is! http://ramblingsof20something.blogspot.com or @kellebelle1981's\"],\n [{\n            'v': 976,\n            'f': \"976\",\n        },\n{\n            'v': 0,\n            'f': \"0\",\n        },\n\"non-political\",\n\"t next to Sam Rockwell's girlfriend on the way back from LA. Question is, why was she flying economy?\"],\n [{\n            'v': 1399,\n            'f': \"1399\",\n        },\n{\n            'v': 1,\n            'f': \"1\",\n        },\n\"political\",\n\"ACORN Chief Dodges Congressman's Call to Come Before Congress. http://bit.ly/o7Md0\"],\n [{\n            'v': 25,\n            'f': \"25\",\n        },\n{\n            'v': 1,\n            'f': \"1\",\n        },\n\"political\",\n\"RT @SmartGirlNation New article:Is there room in the Republican tent for conservatives? http://tinyurl.com/ygux6cj @mkhammer @karlrove #tcot\"],\n [{\n            'v': 2150,\n            'f': \"2150\",\n        },\n{\n            'v': 0,\n            'f': \"0\",\n        },\n\"non-political\",\n\" @LtGenPanda: Best Homework Ever?? [PIC] http://st.bit.ly/2kbEnu *lol*\"],\n [{\n            'v': 2788,\n            'f': \"2788\",\n        },\n{\n            'v': 0,\n            'f': \"0\",\n        },\n\"non-political\",\n\"o, I don't want anything else. That's why I didn't order it\\\" - me in relation to Popeye's offering you more for more $\"],\n [{\n            'v': 1049,\n            'f': \"1049\",\n        },\n{\n            'v': 0,\n            'f': \"0\",\n        },\n\"non-political\",\n\" @SecretsHQ: I just found $20 on the street so I bought 1 copy of The Big Issue for the price of 4. Random stimulus package.\"],\n [{\n            'v': 559,\n            'f': \"559\",\n        },\n{\n            'v': 1,\n            'f': \"1\",\n        },\n\"political\",\n\"@lauraflyme We need to destroy every company that took any Obama money. Sink the entire banking sector!\"],\n [{\n            'v': 2355,\n            'f': \"2355\",\n        },\n{\n            'v': 0,\n            'f': \"0\",\n        },\n\"non-political\",\n\"oeHoes WYR: Joe tie you to the bed and have kinky sex with you or handcuff you to the bed in the doggiestyle position and do you?\"],\n [{\n            'v': 1813,\n            'f': \"1813\",\n        },\n{\n            'v': 0,\n            'f': \"0\",\n        },\n\"non-political\",\n\" @cuball66: \\u00e0\\u00b8\\u201d\\u00e0\\u00b8\\u00b9\\u00e0\\u00b9\\u201a\\u00e0\\u00b8\\u2030\\u00e0\\u00b8\\u00a1\\u00e0\\u00b8\\u00ab\\u00e0\\u00b8\\u2122\\u00e0\\u00b9\\u2030\\u00e0\\u00b8\\u00b2 \\u00e0\\u00b8\\u0153\\u00e0\\u00b8\\u00b9\\u00e0\\u00b9\\u2030\\u00e0\\u00b8\\u2122\\u00e0\\u00b8\\u00b3\\u00e0\\u00b9\\u20ac\\u00e0\\u00b8\\u0160\\u00e0\\u00b8\\u00b5\\u00e0\\u00b8\\u00a2\\u00e0\\u00b8\\u00a3\\u00e0\\u00b9\\u0152 \\u00e0\\u00b8\\u02c6\\u00e0\\u00b8\\u00b8\\u00e0\\u00b8\\u00ac\\u00e0\\u00b8\\u00b2\\u00e0\\u00b8\\u00af \\u00e0\\u00b8\\u203a\\u00e0\\u00b8\\u00a3\\u00e0\\u00b8\\u00b0\\u00e0\\u00b8\\u02c6\\u00e0\\u00b8\\u00b3 \\u00e0\\u00b8\\u2021\\u00e0\\u00b8\\u00b2\\u00e0\\u00b8\\u2122\\u00e0\\u00b8\\u0161\\u00e0\\u00b8\\u00ad\\u00e0\\u00b8\\u00a566 \\u00e0\\u00b8\\u00aa\\u00e0\\u00b8\\u201d \\u00e0\\u00b9\\u2020 \\u00e0\\u00b8\\u00a3\\u00e0\\u00b9\\u2030\\u00e0\\u00b8\\u00ad\\u00e0\\u00b8\\u2122 \\u00e0\\u00b9\\u2020 \\u00e0\\u00b8\\u2014\\u00e0\\u00b8\\u00b5\\u00e0\\u00b9\\u02c6\\u00e0\\u00b8\\u2122\\u00e0\\u00b8\\u00b5\\u00e0\\u00b9\\u02c6... http://bit.ly/3coiKb\"],\n [{\n            'v': 618,\n            'f': \"618\",\n        },\n{\n            'v': 0,\n            'f': \"0\",\n        },\n\"non-political\",\n\"d you see this yet? Obama throw rug @celebrityauto @connectiosprep ( http://bit.ly/3nCqZ5 )\"],\n [{\n            'v': 360,\n            'f': \"360\",\n        },\n{\n            'v': 1,\n            'f': \"1\",\n        },\n\"political\",\n\"readin' about socialism and financial an\\u00c3\\u00a1lisis, think i'm going for a coffee and a cigarrete...\"],\n [{\n            'v': 743,\n            'f': \"743\",\n        },\n{\n            'v': 1,\n            'f': \"1\",\n        },\n\"political\",\n\"Obama the Mortal http://bit.ly/1fvErZ His wax-wings have melted! #obama #nobama #liberty #handsoff #astroturf #townhalls #RS #glennbeck\"],\n [{\n            'v': 1975,\n            'f': \"1975\",\n        },\n{\n            'v': 0,\n            'f': \"0\",\n        },\n\"non-political\",\n\"BdevinMcquiler and i had an extra ticket if u were here u couldve came fam! lol, i was lookin 4 anota Lenny fan!!\"],\n [{\n            'v': 2536,\n            'f': \"2536\",\n        },\n{\n            'v': 0,\n            'f': \"0\",\n        },\n\"non-political\",\n\"ll apart the double helix like a wishbone.\"],\n [{\n            'v': 838,\n            'f': \"838\",\n        },\n{\n            'v': 1,\n            'f': \"1\",\n        },\n\"political\",\n\"Denver Post. Stimulus as only created 1,000 jobs in Colorado costing billions http://www.denverpost.com/ci_12975374\"],\n [{\n            'v': 465,\n            'f': \"465\",\n        },\n{\n            'v': 1,\n            'f': \"1\",\n        },\n\"political\",\n\"Obama has failed in selling his health care plan to the American public. http://bit.ly/ymh6x\"],\n [{\n            'v': 2391,\n            'f': \"2391\",\n        },\n{\n            'v': 0,\n            'f': \"0\",\n        },\n\"non-political\",\n\"goku level 1 ludeeesss....... Hahahahahah http://pic.gd/57fb0f\"],\n [{\n            'v': 1574,\n            'f': \"1574\",\n        },\n{\n            'v': 1,\n            'f': \"1\",\n        },\n\"political\",\n\"Government employees being wooed like never before http://bit.ly/yVyEx http://bit.ly/nruQF http://bit.ly/vLHEO h.. http://bit.ly/MEXS2\"],\n [{\n            'v': 815,\n            'f': \"815\",\n        },\n{\n            'v': 1,\n            'f': \"1\",\n        },\n\"political\",\n\"RT @dtapscott: The power of Twitter. I tweet about what's wrong with UK Digital Economy bill. MP @Tom_Watson tweets back that the UK g ...\"],\n [{\n            'v': 1834,\n            'f': \"1834\",\n        },\n{\n            'v': 0,\n            'f': \"0\",\n        },\n\"non-political\",\n\"st Halloween of my Life! '09\"],\n [{\n            'v': 1407,\n            'f': \"1407\",\n        },\n{\n            'v': 0,\n            'f': \"0\",\n        },\n\"non-political\",\n\"c: [PRESS RELEASE] Olympic Congress Puts Priority on Youth and Athletes: The XIII Olympic Congress today approved a se http://url4.eu/anFB\"],\n [{\n            'v': 2539,\n            'f': \"2539\",\n        },\n{\n            'v': 0,\n            'f': \"0\",\n        },\n\"non-political\",\n\"by made his girl's pum 2 wide lol RT @pamgreenonline for real though, if you have a girlfriend and a baby...why are you talking to me? smh\"],\n [{\n            'v': 428,\n            'f': \"428\",\n        },\n{\n            'v': 1,\n            'f': \"1\",\n        },\n\"political\",\n\"If this is true then why would Obama care about yours. http://bit.ly/ZOaq3\"],\n [{\n            'v': 1450,\n            'f': \"1450\",\n        },\n{\n            'v': 1,\n            'f': \"1\",\n        },\n\"political\",\n\"Yemeni forces bomb Shiite rebel stronghold near Saudi border, killing dozens: Government forces bombed Shiite re.. http://bit.ly/IYo8p\"],\n [{\n            'v': 1071,\n            'f': \"1071\",\n        },\n{\n            'v': 0,\n            'f': \"0\",\n        },\n\"non-political\",\n\"nges Web och Fotoblogg - Varf\\u00c3\\u00b6r Afghanistan?: F\\u00c3\\u00b6r n\\u00c3\\u00a5gra dagar sedan l\\u00c3\\u00a4ste jag en artikel om kriget i Afghani.. http://bit.ly/1aGGzu\"],\n [{\n            'v': 439,\n            'f': \"439\",\n        },\n{\n            'v': 1,\n            'f': \"1\",\n        },\n\"political\",\n\"Groups grow impatient with Obama on fate of detainees (McClatchy Newspapers) http://bit.ly/15ri0h\"],\n [{\n            'v': 2889,\n            'f': \"2889\",\n        },\n{\n            'v': 0,\n            'f': \"0\",\n        },\n\"non-political\",\n\" @__noodle had an old country moment adding more cabbage to the soup to stretch it a \\\"little farther.\\\"\"],\n [{\n            'v': 222,\n            'f': \"222\",\n        },\n{\n            'v': 1,\n            'f': \"1\",\n        },\n\"political\",\n\"Off to see the communists, then the nomads, the reformed...ish comunists and some of Europe too.\"],\n [{\n            'v': 967,\n            'f': \"967\",\n        },\n{\n            'v': 1,\n            'f': \"1\",\n        },\n\"political\",\n\"National deficit revised downward by @$262B to $1.58T; toomuch $$ set aside for bailout RT @marcambinder\"],\n [{\n            'v': 1846,\n            'f': \"1846\",\n        },\n{\n            'v': 0,\n            'f': \"0\",\n        },\n\"non-political\",\n\"enia279 can do same day\"],\n [{\n            'v': 1068,\n            'f': \"1068\",\n        },\n{\n            'v': 1,\n            'f': \"1\",\n        },\n\"political\",\n\"RT @worldprayr: U.S. soldier captured in Afghanistan, the military said. Missing since June 30. Pray for his safety and peace for his f ...\"],\n [{\n            'v': 1207,\n            'f': \"1207\",\n        },\n{\n            'v': 1,\n            'f': \"1\",\n        },\n\"political\",\n\"You are envious of me & mine. I have suffered greatly & will not much longer.I hate our government & the Bushes.They are traitors to royalty\"],\n [{\n            'v': 1840,\n            'f': \"1840\",\n        },\n{\n            'v': 0,\n            'f': \"0\",\n        },\n\"non-political\",\n\"\\u0090\\u00e6\\u0153\\u00aa\\u00e6\\u2030\\u00bf\\u00e8\\u00ab\\u00be\\u00e5\\u00ba\\u0192\\u00e5\\u2018\\u0160\\u00e3\\u20ac\\u2018 \\u00e6\\u0153\\u00ac\\u00e6\\u2014\\u00a5\\u00e3\\u201a\\u201a\\u00e6\\u2014\\u00a5\\u00e6\\u0153\\u00ac\\u00e3\\u201a\\u00b7\\u00e3\\u0192\\u00aa\\u00e3\\u0192\\u00bc\\u00e3\\u201a\\u00ba\\u00e3\\u0081\\u00a7\\u00e7\\u203a\\u203a\\u00e3\\u201a\\u0160\\u00e4\\u00b8\\u0160\\u00e3\\u0081\\u0152\\u00e3\\u0081\\u00a3\\u00e3\\u0081\\u00a6\\u00e3\\u0081\\u00be\\u00e3\\u0081\\u2122\\u00e3\\u20ac\\u201aTweetPlanet http://bit.ly/2JYvg1 Fighters\\u00e6\\u201d\\u00bb\\u00e6\\u2019\\u0192\\u00e4\\u00b8\\u00ad\\u00ef\\u00bc\\u0081\"],\n [{\n            'v': 1317,\n            'f': \"1317\",\n        },\n{\n            'v': 1,\n            'f': \"1\",\n        },\n\"political\",\n\"Hot Air \\u00c2\\u00bb Blog Archive \\u00c2\\u00bb Fox News poll: America hates Congress ...: They don&#39;t have to quit their law pract.. http://bit.ly/2dJYAM\"],\n [{\n            'v': 1293,\n            'f': \"1293\",\n        },\n{\n            'v': 1,\n            'f': \"1\",\n        },\n\"political\",\n\"Obama to address joint session of Congress tonight http://tinyurl.com/n6b6l4\"],\n [{\n            'v': 1245,\n            'f': \"1245\",\n        },\n{\n            'v': 1,\n            'f': \"1\",\n        },\n\"political\",\n\"Cook County emphasizes ban on video poker: Andy Shaw of the Better Government Association called video poker &q.. http://bit.ly/3qN66n\"],\n [{\n            'v': 303,\n            'f': \"303\",\n        },\n{\n            'v': 1,\n            'f': \"1\",\n        },\n\"political\",\n\"RT @International_L: @arneishaOC:@International_L Capitalism it is!<<<--- i do LIKE a good LOVE story! lmao/lol I kinda wanna see 9 too :-/\"],\n [{\n            'v': 2877,\n            'f': \"2877\",\n        },\n{\n            'v': 0,\n            'f': \"0\",\n        },\n\"non-political\",\n\"ading: \\\"Checking out some awesome NEW MOON content...do you have your tickets yet??? http://bit.ly/18cmhg\\\" (http://twitthis.com/q3gp6p)\"],\n [{\n            'v': 137,\n            'f': \"137\",\n        },\n{\n            'v': 1,\n            'f': \"1\",\n        },\n\"political\",\n\"The Conservative Party | News | News | Spelman condemns stealth ... http://u.mavrev.com/uj14\"],\n [{\n            'v': 3015,\n            'f': \"3015\",\n        },\n{\n            'v': 0,\n            'f': \"0\",\n        },\n\"non-political\",\n\"arlicbug rofl. i'd never be angry at YOU! you're no @TimKring. no one is.\"],\n [{\n            'v': 1691,\n            'f': \"1691\",\n        },\n{\n            'v': 0,\n            'f': \"0\",\n        },\n\"non-political\",\n\"8] I just got 100 followers using http://retwt.me/19KAc .\"],\n [{\n            'v': 1801,\n            'f': \"1801\",\n        },\n{\n            'v': 0,\n            'f': \"0\",\n        },\n\"non-political\",\n\"oshuaConkel huzzah! $17 tavern wench costume from Target zombified=Halloween success. Not my most original, but at least I made an effort.\"],\n [{\n            'v': 1824,\n            'f': \"1824\",\n        },\n{\n            'v': 0,\n            'f': \"0\",\n        },\n\"non-political\",\n\"issKatiePrice ignore the haters babe. your beAutiful and kind xx\"],\n [{\n            'v': 2117,\n            'f': \"2117\",\n        },\n{\n            'v': 0,\n            'f': \"0\",\n        },\n\"non-political\",\n\"artyBoyz247 Yo, you fronted again!! Now you promoting a \\\"bashment\\\" so i guess you not in the building 2nite either... SMH\"],\n [{\n            'v': 198,\n            'f': \"198\",\n        },\n{\n            'v': 1,\n            'f': \"1\",\n        },\n\"political\",\n\"Recommended @exposeliberals to @MrTweet '@exposeliberals great in exposing the liberals out there' http://bit.ly/VsoH5\"],\n [{\n            'v': 1361,\n            'f': \"1361\",\n        },\n{\n            'v': 1,\n            'f': \"1\",\n        },\n\"political\",\n\"RT @nytimes: NYT NEWS ALERT: Republican Wins Race for Virginia Governor\"],\n [{\n            'v': 729,\n            'f': \"729\",\n        },\n{\n            'v': 1,\n            'f': \"1\",\n        },\n\"political\",\n\"LOL haaaa RT @DJDRAMA Bill Clinton proly got the pole on his plane....They rockin out right now....\"],\n [{\n            'v': 1090,\n            'f': \"1090\",\n        },\n{\n            'v': 1,\n            'f': \"1\",\n        },\n\"political\",\n\"Amid all the bad, sad news about struggling dairy families in this current economy, its great to be able to print... http://bit.ly/13L2yc\"],\n [{\n            'v': 2258,\n            'f': \"2258\",\n        },\n{\n            'v': 0,\n            'f': \"0\",\n        },\n\"non-political\",\n\"d ALOT of fun 2day wit Nick,Jhonny,Mae and Jess. the steam is blowin away so im ok 4 now.*903-220-3041*\"],\n [{\n            'v': 2252,\n            'f': \"2252\",\n        },\n{\n            'v': 0,\n            'f': \"0\",\n        },\n\"non-political\",\n\"obably getting of to watch tv than school and than working out and tha going to rake at my grams house to get money to save for VIP\"],\n [{\n            'v': 2717,\n            'f': \"2717\",\n        },\n{\n            'v': 0,\n            'f': \"0\",\n        },\n\"non-political\",\n\"rickstorepub LEE! Twitpic those pictures of Wes & I and the boot from Oktoberfest!\"],\n [{\n            'v': 2927,\n            'f': \"2927\",\n        },\n{\n            'v': 0,\n            'f': \"0\",\n        },\n\"non-political\",\n\"rl im prolly younger than you im asian i age slowly im only 19\"],\n [{\n            'v': 1700,\n            'f': \"1700\",\n        },\n{\n            'v': 0,\n            'f': \"0\",\n        },\n\"non-political\",\n\"Mosley OOppps! wrong button\"],\n [{\n            'v': 971,\n            'f': \"971\",\n        },\n{\n            'v': 1,\n            'f': \"1\",\n        },\n\"political\",\n\"Failing Marks: Stimulus Bill Report Card http://ff.im/-68yeu\"],\n [{\n            'v': 2750,\n            'f': \"2750\",\n        },\n{\n            'v': 0,\n            'f': \"0\",\n        },\n\"non-political\",\n\"d dammit it's Teen Jeopardy. Get ready for the easiest questions in the world\"],\n [{\n            'v': 554,\n            'f': \"554\",\n        },\n{\n            'v': 1,\n            'f': \"1\",\n        },\n\"political\",\n\"RT @Paceset9999: RT @amer_orphan: Health Care Questions Obama Can\\u00e2\\u20ac\\u2122t Answer By Herman Cain http://twurl.nl/fh7dg8 #obamacare #tcot\"],\n [{\n            'v': 2114,\n            'f': \"2114\",\n        },\n{\n            'v': 0,\n            'f': \"0\",\n        },\n\"non-political\",\n\"tto on the jealous! RT @btkennett: @nathaneide jealous. That beats Vikes Pack anyday...\"],\n [{\n            'v': 1926,\n            'f': \"1926\",\n        },\n{\n            'v': 0,\n            'f': \"0\",\n        },\n\"non-political\",\n\"didn't drink, and was plenty hydrated. Why do I feel so hungover?\"],\n [{\n            'v': 1605,\n            'f': \"1605\",\n        },\n{\n            'v': 0,\n            'f': \"0\",\n        },\n\"non-political\",\n\"inyourface take pics of the babies...soooo cute\"],\n [{\n            'v': 2858,\n            'f': \"2858\",\n        },\n{\n            'v': 0,\n            'f': \"0\",\n        },\n\"non-political\",\n\" eggs? :) RT @petapixel Cute - If dogs were like cuckoo birds: http://j.mp/3SIwT7\"],\n [{\n            'v': 1993,\n            'f': \"1993\",\n        },\n{\n            'v': 0,\n            'f': \"0\",\n        },\n\"non-political\",\n\"rking on my first video for the new #youtube channel. It's definitely going to be an acoustic cover of Times Like These - Foo Fighters #ff\"],\n [{\n            'v': 1156,\n            'f': \"1156\",\n        },\n{\n            'v': 1,\n            'f': \"1\",\n        },\n\"political\",\n\"Job Losses, Manufacturing Probably Eased: US Economy Preview: 29 (Bloomberg) -- Employers in the US probably cut fe... http://bit.ly/53kVIu\"],\n [{\n            'v': 2824,\n            'f': \"2824\",\n        },\n{\n            'v': 0,\n            'f': \"0\",\n        },\n\"non-political\",\n\"nally home from the hospital and this lil girl has me wrapped all around her finger. Everything I do now is all for her...my inspiration!\"],\n [{\n            'v': 1769,\n            'f': \"1769\",\n        },\n{\n            'v': 0,\n            'f': \"0\",\n        },\n\"non-political\",\n\"a start painting my face every day and sending a daily picture text to @squishycool just for the fuck of it. :)\"],\n [{\n            'v': 2856,\n            'f': \"2856\",\n        },\n{\n            'v': 0,\n            'f': \"0\",\n        },\n\"non-political\",\n\" @NeNeG0Rd0: @__kire worddd it really is u got my laughing cuz u telling the truth <--always do! lol\"],\n [{\n            'v': 1905,\n            'f': \"1905\",\n        },\n{\n            'v': 0,\n            'f': \"0\",\n        },\n\"non-political\",\n\"ere's a crazy china bitch yelling at the other shop assistants in sportslink. Her english cmi\"],\n [{\n            'v': 2435,\n            'f': \"2435\",\n        },\n{\n            'v': 0,\n            'f': \"0\",\n        },\n\"non-political\",\n\"arahsalway I wandered lonely as a pie/That floats on jelly and pastry/When all at once I saw a sandwich/And that looked far more tasty\"],\n [{\n            'v': 2247,\n            'f': \"2247\",\n        },\n{\n            'v': 0,\n            'f': \"0\",\n        },\n\"non-political\",\n\"really should go to bed but I am so tired I can't sleep....\"],\n [{\n            'v': 3035,\n            'f': \"3035\",\n        },\n{\n            'v': 0,\n            'f': \"0\",\n        },\n\"non-political\",\n\" @Spotify: Robbie Williams\\u00e2\\u20ac\\u2122 new album to debut exclusively on Spotify in the UK http://bit.ly/ZKneZ\"],\n [{\n            'v': 2725,\n            'f': \"2725\",\n        },\n{\n            'v': 0,\n            'f': \"0\",\n        },\n\"non-political\",\n\"sh I had a laptop. I wanna go sit in a park or something and write.\"],\n [{\n            'v': 252,\n            'f': \"252\",\n        },\n{\n            'v': 1,\n            'f': \"1\",\n        },\n\"political\",\n\"RT @secupp: HuffPo wants u 2 boycott FOXNews advertisers. But, um, MSNBC & CNN advertise on FOX...what's a liberal to do? http://is.gd/2swmJ\"],\n [{\n            'v': 84,\n            'f': \"84\",\n        },\n{\n            'v': 1,\n            'f': \"1\",\n        },\n\"political\",\n\"Meet the New Boss ... RT @TWI_news Civil Libertarians Dismayed by Patriot Amendments? http://bit.ly/2aoqEt\"],\n [{\n            'v': 1692,\n            'f': \"1692\",\n        },\n{\n            'v': 0,\n            'f': \"0\",\n        },\n\"non-political\",\n\"illies look like shit. I hate every yankee fan. every single fucking one.\"],\n [{\n            'v': 2774,\n            'f': \"2774\",\n        },\n{\n            'v': 0,\n            'f': \"0\",\n        },\n\"non-political\",\n\" just went live with our new website. Check it out at www.navfund.com And if you like it, please become a fan of NAV on Facebook!!\"],\n [{\n            'v': 1515,\n            'f': \"1515\",\n        },\n{\n            'v': 1,\n            'f': \"1\",\n        },\n\"political\",\n\"RT @Duddy Government to make a 2.4 per cent cut in spending on the areas of innovation, universities and skills .. http://bit.ly/tlGvK\"],\n [{\n            'v': 723,\n            'f': \"723\",\n        },\n{\n            'v': 0,\n            'f': \"0\",\n        },\n\"non-political\",\n\" @jessweiss1: Obama!!!! Naughty! http://bit.ly/A0EPQ\"],\n [{\n            'v': 809,\n            'f': \"809\",\n        },\n{\n            'v': 1,\n            'f': \"1\",\n        },\n\"political\",\n\"International Security Assistance Force service member killed in eastern Afghanistan http://tinyurl.com/n6hdln\"],\n [{\n            'v': 1420,\n            'f': \"1420\",\n        },\n{\n            'v': 1,\n            'f': \"1\",\n        },\n\"political\",\n\"The government used fear and panic to passes laws or acts to violate our freedom and rights as Sovereign Citizens of the United States!\"],\n [{\n            'v': 1188,\n            'f': \"1188\",\n        },\n{\n            'v': 1,\n            'f': \"1\",\n        },\n\"political\",\n\"RT Liberals Insist On Defeat in Afghanistan | HEADLINE BUNKER http://bit.ly/24a9XJ\"],\n [{\n            'v': 784,\n            'f': \"784\",\n        },\n{\n            'v': 1,\n            'f': \"1\",\n        },\n\"political\",\n\"#inaug09 Soros: Obama Improves Openness: A fine bit of stenography from the always compliant Associated .. http://bit.ly/pWSOo\"],\n [{\n            'v': 2661,\n            'f': \"2661\",\n        },\n{\n            'v': 0,\n            'f': \"0\",\n        },\n\"non-political\",\n\"cks re-assign Matt Beleskey to the San Antonio Rampage http://bit.ly/2vF4Ve|ANA|home\"],\n [{\n            'v': 2109,\n            'f': \"2109\",\n        },\n{\n            'v': 0,\n            'f': \"0\",\n        },\n\"non-political\",\n\"uit snacks will get you anywhere with small children.\"],\n [{\n            'v': 767,\n            'f': \"767\",\n        },\n{\n            'v': 1,\n            'f': \"1\",\n        },\n\"political\",\n\"Health-care reform is now in the hands of the President Obama and Sen. Snowe - Seattle Times http://bit.ly/JS3N5\"],\n [{\n            'v': 148,\n            'f': \"148\",\n        },\n{\n            'v': 1,\n            'f': \"1\",\n        },\n\"political\",\n\"RT @huffingtonpost Reese Schonfeld: Cable News Ratings--Liberals Jump Ship http://bit.ly/PkuM2 l #glenn beck\"],\n [{\n            'v': 1451,\n            'f': \"1451\",\n        },\n{\n            'v': 0,\n            'f': \"0\",\n        },\n\"non-political\",\n\"look at the 2nd amend case from yesterday - good read at young republican: http://tinyurl.com/melguv -\"],\n [{\n            'v': 134,\n            'f': \"134\",\n        },\n{\n            'v': 1,\n            'f': \"1\",\n        },\n\"political\",\n\"RT @randomsubu: Hey Republicans+Conservatives: You gave the world George W Bush. So forgive me if I don't give a s*** about your opinion ...\"],\n [{\n            'v': 594,\n            'f': \"594\",\n        },\n{\n            'v': 0,\n            'f': \"0\",\n        },\n\"non-political\",\n\"bHay.com Chelsea Clinton s\\u00e1\\u00ba\\u00afp l\\u00c3\\u00aan xe hoa http://bit.ly/rWvc9\"],\n [{\n            'v': 380,\n            'f': \"380\",\n        },\n{\n            'v': 1,\n            'f': \"1\",\n        },\n\"political\",\n\"Nightmare in Red RT @Smb4252 @ShannonBabygirl do you even know what the word socialist means?\"],\n [{\n            'v': 2306,\n            'f': \"2306\",\n        },\n{\n            'v': 0,\n            'f': \"0\",\n        },\n\"non-political\",\n\"hasityNichole girl I hated dat Ej was all over da place I use to get mad and hit my damn stomach *shh dnt tell nobody lol*.\"],\n [{\n            'v': 591,\n            'f': \"591\",\n        },\n{\n            'v': 1,\n            'f': \"1\",\n        },\n\"political\",\n\"TOMORROW I WILL GIVE YOU THE NAMES OF THE FALLEN SOLDIERS SINCE OBAMA WENT TO COPENHAGEN AND IGNORED THE PLEAS FOR HELP!.BLOOD ON HIS HANDS!\"],\n [{\n            'v': 2553,\n            'f': \"2553\",\n        },\n{\n            'v': 0,\n            'f': \"0\",\n        },\n\"non-political\",\n\"eam_Peter i dont no how to rate but i love your show your kids are gorgous and your doing everything right your great xx\"],\n [{\n            'v': 33,\n            'f': \"33\",\n        },\n{\n            'v': 0,\n            'f': \"0\",\n        },\n\"non-political\",\n\"parently, British twitterers are flocking to defend the NHS with #welovethenhs hashtag. Brainwashed socialists.\"],\n [{\n            'v': 319,\n            'f': \"319\",\n        },\n{\n            'v': 1,\n            'f': \"1\",\n        },\n\"political\",\n\"@Noelzgal I know, and thats what got us in trouble with the first terrorist attack.. the liberal gov't lives in a fantasy...\"],\n [{\n            'v': 1144,\n            'f': \"1144\",\n        },\n{\n            'v': 1,\n            'f': \"1\",\n        },\n\"political\",\n\"California leads with 36% growth in \\u00e2\\u20ac\\u02dcgreen\\u00e2\\u20ac\\u2122 jobs Jobs in California\\u00e2\\u20ac\\u2122s so-called green economy increased by 36% fr.. http://is.gd/5wx8a\"],\n [{\n            'v': 2143,\n            'f': \"2143\",\n        },\n{\n            'v': 0,\n            'f': \"0\",\n        },\n\"non-political\",\n\"mTV Host @KerriPom shares her recent trip to Africa Orphanages LIVE Tuesday 8 PM ET @HeartforAfrica http://bit.ly/1lh69L\"],\n [{\n            'v': 1548,\n            'f': \"1548\",\n        },\n{\n            'v': 0,\n            'f': \"0\",\n        },\n\"non-political\",\n\" Federal Government to Offer Cloud Computing Services: The US Federal Government has plans to offer both Softw.. http://bit.ly/JEtOX\"],\n [{\n            'v': 1638,\n            'f': \"1638\",\n        },\n{\n            'v': 0,\n            'f': \"0\",\n        },\n\"non-political\",\n\" congo natty - junglist - if you don't know it then go and find it. Im not talking d/l, go dig through some crates\"],\n [{\n            'v': 2352,\n            'f': \"2352\",\n        },\n{\n            'v': 0,\n            'f': \"0\",\n        },\n\"non-political\",\n\"adem yok RT @Linovee: Panas bgt yak diLuar...adiiuuhh :(\"],\n [{\n            'v': 746,\n            'f': \"746\",\n        },\n{\n            'v': 1,\n            'f': \"1\",\n        },\n\"political\",\n\"In Radio Address, Obama Touts Successes of Stimulus Plan - Wall Street Journal: MiamiHerald.comIn Radio Address,.. http://bit.ly/mUYTE\"],\n [{\n            'v': 184,\n            'f': \"184\",\n        },\n{\n            'v': 1,\n            'f': \"1\",\n        },\n\"political\",\n\"Teehee, I love the Socialist Party, and their pathetic attempts to get me to buy their ickle newspaper.\"],\n [{\n            'v': 2687,\n            'f': \"2687\",\n        },\n{\n            'v': 0,\n            'f': \"0\",\n        },\n\"non-political\",\n\" @2morrowknight: #Important \\u00e2\\u017e\\u00b2 \\\"What to do when your Twitter account is hacked\\\" - http://j.mp/blf5D (via @BuzzEdition @Twitter_Tips)\"],\n [{\n            'v': 758,\n            'f': \"758\",\n        },\n{\n            'v': 1,\n            'f': \"1\",\n        },\n\"political\",\n\"RT @BikeLeague Response to McCain and Coburn http://ow.ly/jbnl Bicycling IS transportation!\"],\n [{\n            'v': 2562,\n            'f': \"2562\",\n        },\n{\n            'v': 0,\n            'f': \"0\",\n        },\n\"non-political\",\n\"itical Illness Insurance Trade Organization Free Membership http://bit.ly/3IFgy8\"],\n [{\n            'v': 2931,\n            'f': \"2931\",\n        },\n{\n            'v': 0,\n            'f': \"0\",\n        },\n\"non-political\",\n\" @rikycoh \\u00d7\\u201d\\u00d7\\u02dc\\u00d7\\u2022\\u00d7\\u00a8 \\u00d7\\u201d\\u00d7\\u2014\\u00d7\\u201c\\u00d7\\u00a9 \\u00d7\\u00a9\\u00d7\\u0153\\u00d7\\u2122 \\u00d7\\u2018\\u00d7\\u2022\\u00d7\\u2122\\u00d7\\u2122\\u00d7\\u00a0\\u00d7\\u02dc \\u00d7\\u017e\\u00d7\\u201c\\u00d7\\u2018\\u00d7\\u00a8 \\u00d7\\u00a2\\u00d7\\u0153 \\u00d7\\u203a\\u00d7\\u00a1\\u00d7\\u00a3, \\u00d7\\u00a8\\u00d7\\u017e\\u00d7\\u00aa \\u00d7\\u2014\\u00d7\\u2122\\u00d7\\u2122\\u00d7\\u009d, \\u00d7\\u2022\\u00d7\\u2122\\u00d7\\u0153\\u00d7\\u201c\\u00d7\\u2122\\u00d7\\u009d http://bit.ly/4dXcLt \\u00d7\\u017e\\u00d7\\u00a2\\u00d7\\u0153\\u00d7\\u201d \\u00d7\\u00aa\\u00d7\\u201d\\u00d7\\u2122\\u00d7\\u2022\\u00d7\\u00aa \\u00d7\\u00a2\\u00d7\\u00a6\\u00d7\\u2022\\u00d7\\u2018\\u00d7\\u2022\\u00d7\\u00aa \\u00d7\\u00a7\\u00d7\\u00a6\\u00d7\\u00aa \\u00d7\\u00a2\\u00d7\\u0153 \\u00d7\\u017e\\u00d7\\u201d \\u00d7\\u00a0\\u00d7\\u201d\\u00d7\\u2122\\u00d7\\u201d \\u00d7\\u017e\\u00d7\\u0090\\u00d7\\u2122\\u00d7\\u00aa\\u00d7\\u00a0\\u00d7\\u2022.\"],\n [{\n            'v': 1587,\n            'f': \"1587\",\n        },\n{\n            'v': 1,\n            'f': \"1\",\n        },\n\"political\",\n\"Don't pay for your gas any longer... Instead, the government will pay YOU!: http://ping.fm/lqWHy\"],\n [{\n            'v': 730,\n            'f': \"730\",\n        },\n{\n            'v': 1,\n            'f': \"1\",\n        },\n\"political\",\n\"RT @ttjemery God Almighty pls liberate the USA from Obama & his gangsters.In Jesus name, Amen//@dmooney9 Maybe God is black//OR a gangster!\"],\n [{\n            'v': 2321,\n            'f': \"2321\",\n        },\n{\n            'v': 0,\n            'f': \"0\",\n        },\n\"non-political\",\n\"XXJaydenJaymes you need to be trippin to watch that one its some crazy shit\"],\n [{\n            'v': 1713,\n            'f': \"1713\",\n        },\n{\n            'v': 0,\n            'f': \"0\",\n        },\n\"non-political\",\n\"\\u00b7\\u00e3\\u0081\\u201e\\u00e9\\u2013\\u201c\\u00e4\\u00ba\\u00ba\\u00e3\\u0081\\u00ab\\u00e4\\u00bc\\u0161\\u00e3\\u0081\\u00a3\\u00e3\\u0081\\u00a6\\u00e3\\u0081\\u201e\\u00e3\\u0081\\u00aa\\u00e3\\u0081\\u201e\\u00e3\\u0081\\u203a\\u00e3\\u0081\\u201e\\u00e3\\u0081\\u2039\\u00e3\\u20ac\\u0081\\u00e4\\u00ba\\u00ba\\u00e9\\u2013\\u201c\\u00e3\\u201a\\u2019\\u00e7\\u203a\\u00b4\\u00e6\\u017d\\u00a5\\u00e8\\u00a6\\u2039\\u00e3\\u201a\\u2039\\u00e3\\u0081\\u00ae\\u00e3\\u0081\\u0152\\u00e5\\u2021\\u201e\\u00e3\\u0081\\u008f\\u00e6\\u20ac\\u2013\\u00e3\\u0081\\u008f\\u00e6\\u201e\\u0178\\u00e3\\u0081\\u02dc\\u00e3\\u201a\\u2039\\u00e3\\u20ac\\u201a\"],\n [{\n            'v': 2370,\n            'f': \"2370\",\n        },\n{\n            'v': 0,\n            'f': \"0\",\n        },\n\"non-political\",\n\"y does India dosent follow the advertiesments they show on TV!!!Guests are god???????\"],\n [{\n            'v': 1849,\n            'f': \"1849\",\n        },\n{\n            'v': 0,\n            'f': \"0\",\n        },\n\"non-political\",\n\"ppy Birthday to my grandpa, the most amazing person who ever lived in this World.\"],\n [{\n            'v': 476,\n            'f': \"476\",\n        },\n{\n            'v': 1,\n            'f': \"1\",\n        },\n\"political\",\n\"GO PRESIDENT OBAMA!!!!!! So intelligent, so on point, so educated, so inspirational, they cant trip him up! http://myloc.me/An8M\"],\n [{\n            'v': 1736,\n            'f': \"1736\",\n        },\n{\n            'v': 0,\n            'f': \"0\",\n        },\n\"non-political\",\n\"ancynaigle think Victorian era w/ robots. Gears and tech and pinafores.\"],\n [{\n            'v': 1854,\n            'f': \"1854\",\n        },\n{\n            'v': 0,\n            'f': \"0\",\n        },\n\"non-political\",\n\"st voted \\\"KIM HYUNG JUN OPPA\\\" on \\\"ss501\\\" vote too \\u00e2\\u017e\\u201d http://bit.ly/10HGch\"],\n [{\n            'v': 2347,\n            'f': \"2347\",\n        },\n{\n            'v': 0,\n            'f': \"0\",\n        },\n\"non-political\",\n\"brane I&apos;m staying at ApacheCon wed and thurs, in SFO on Fri and Sat. I&apos;m pretty sure the &apos;part.. http://tinyurl.com/yfegvym\"],\n [{\n            'v': 2318,\n            'f': \"2318\",\n        },\n{\n            'v': 0,\n            'f': \"0\",\n        },\n\"non-political\",\n\"ninemusic or if there was a fight at the end of EVERY inning..then I would def check it out\"],\n [{\n            'v': 1884,\n            'f': \"1884\",\n        },\n{\n            'v': 0,\n            'f': \"0\",\n        },\n\"non-political\",\n\"anks to Simon Daniel, now all of my nephews are sneakers freaks. They now talking bout Vans, NikeSB, and Supra. Ckckck.\"],\n [{\n            'v': 2848,\n            'f': \"2848\",\n        },\n{\n            'v': 0,\n            'f': \"0\",\n        },\n\"non-political\",\n\"st spent two hours taking photos of boyfriend in bathroom so he has a \\\"headshot\\\" for his interview for the Charmin Bathroom Attendant job.\"],\n [{\n            'v': 854,\n            'f': \"854\",\n        },\n{\n            'v': 1,\n            'f': \"1\",\n        },\n\"political\",\n\"Telegraph: Dare to resist this new era of intervention : In 1971, Professor Klaus Schwab wr.. http://bit.ly/8lim2J #economy\"],\n [{\n            'v': 803,\n            'f': \"803\",\n        },\n{\n            'v': 1,\n            'f': \"1\",\n        },\n\"political\",\n\"Do you have one of the 12 certifications and licenses that will be needed in the Green Economy? http://bit.ly/dBcJW\"],\n [{\n            'v': 2069,\n            'f': \"2069\",\n        },\n{\n            'v': 0,\n            'f': \"0\",\n        },\n\"non-political\",\n\" @MarvinTowler: The teacher must remain the student if the teacher is to grow. ~ Emmanuel\"],\n [{\n            'v': 923,\n            'f': \"923\",\n        },\n{\n            'v': 1,\n            'f': \"1\",\n        },\n\"political\",\n\"Puyallup Tribe project uses stimulus funds (http://cli.gs/ZdrRQ) Seattle\"],\n [{\n            'v': 1057,\n            'f': \"1057\",\n        },\n{\n            'v': 1,\n            'f': \"1\",\n        },\n\"political\",\n\"The body of an Aldershot soldier, who died in Afghanistan last week, is being flown home. www.964eagle.co.uk\"],\n [{\n            'v': 820,\n            'f': \"820\",\n        },\n{\n            'v': 1,\n            'f': \"1\",\n        },\n\"political\",\n\"RT @Iranpr The Iran Regime Coup Govt mis-manages the economy is in a death spiral w/in 6 months it will collapse #iranelection }} agreed!\"],\n [{\n            'v': 418,\n            'f': \"418\",\n        },\n{\n            'v': 1,\n            'f': \"1\",\n        },\n\"political\",\n\"Ah and yet again this is why I love Peggy Noonan: A Farewell to Harms: Palin was Bad for Republicans and the Republic http://bit.ly/16Ejmz\"],\n [{\n            'v': 2257,\n            'f': \"2257\",\n        },\n{\n            'v': 0,\n            'f': \"0\",\n        },\n\"non-political\",\n\"ttle breeding business: http://wp.me/ptzge-1A\"],\n [{\n            'v': 101,\n            'f': \"101\",\n        },\n{\n            'v': 1,\n            'f': \"1\",\n        },\n\"political\",\n\"2 of my faves. RT @1txsage1957 Naomi Klein Interviews Michael Moore on the Perils of Capitalism http://is.gd/3Frtb\"],\n [{\n            'v': 958,\n            'f': \"958\",\n        },\n{\n            'v': 1,\n            'f': \"1\",\n        },\n\"political\",\n\"Taliban Open Northern Front in Afghanistan - http://bit.ly/62CyO2 Getting ready for Obama and troop increase stretch em thin\"],\n [{\n            'v': 590,\n            'f': \"590\",\n        },\n{\n            'v': 1,\n            'f': \"1\",\n        },\n\"political\",\n\"@WSJWashington RT: Republicans Blame Obama Policies for Job Losses: using today\\u00e2\\u20ac\\u2122s report on further job losses.. http://tinyurl.com/msakvv\"],\n [{\n            'v': 1920,\n            'f': \"1920\",\n        },\n{\n            'v': 0,\n            'f': \"0\",\n        },\n\"non-political\",\n\"s, of course, my husband and I will eat what's left in the candy bowl. The true test: what we do with the unopened bags.\"],\n [{\n            'v': 595,\n            'f': \"595\",\n        },\n{\n            'v': 1,\n            'f': \"1\",\n        },\n\"political\",\n\"The Gaggle: Obama: 'Scare Tactics' Are Causing Poll Numbers to Drop http://bit.ly/Wkc7P\"],\n [{\n            'v': 3153,\n            'f': \"3153\",\n        },\n{\n            'v': 0,\n            'f': \"0\",\n        },\n\"non-political\",\n\"nancial Analyst II - Equity Trader (FIN00877-9): Telus Corporation (Edmonton AB): \\\"...analytic and quant.. http://bit.ly/J9rVz\"],\n [{\n            'v': 527,\n            'f': \"527\",\n        },\n{\n            'v': 1,\n            'f': \"1\",\n        },\n\"political\",\n\"Don't Wait For Obama's Health Care Reform; Initiate Your Own Health Plan http://is.gd/2Fx0h #green #healthyhome #fb\"],\n [{\n            'v': 1723,\n            'f': \"1723\",\n        },\n{\n            'v': 0,\n            'f': \"0\",\n        },\n\"non-political\",\n\"ingpongpanda post a pic of ritzs and your costume!!!! Bet it was crazyyy! I wanna see!!\"],\n [{\n            'v': 2123,\n            'f': \"2123\",\n        },\n{\n            'v': 0,\n            'f': \"0\",\n        },\n\"non-political\",\n\" @jessefeitel: #fest8 #phish YEAH!!! WATER IN THE SKY!\"],\n [{\n            'v': 1412,\n            'f': \"1412\",\n        },\n{\n            'v': 1,\n            'f': \"1\",\n        },\n\"political\",\n\"RT @sheriffjim: For every action there is an equal and opposite government program. ROTFL\"],\n [{\n            'v': 1107,\n            'f': \"1107\",\n        },\n{\n            'v': 1,\n            'f': \"1\",\n        },\n\"political\",\n\"US troops killed in Afghanistan and Africa http://bit.ly/3WxxK\"],\n [{\n            'v': 1941,\n            'f': \"1941\",\n        },\n{\n            'v': 0,\n            'f': \"0\",\n        },\n\"non-political\",\n\"ter weeks and weeks of spazzing over this windmill hat I have finally finished it.....and it goes round in the wind :D\"],\n [{\n            'v': 220,\n            'f': \"220\",\n        },\n{\n            'v': 1,\n            'f': \"1\",\n        },\n\"political\",\n\"Who will be Liberal Leader on Tuesday evening? http://twtpoll.com/mqy0c2 #twtpoll #spill\"],\n [{\n            'v': 2986,\n            'f': \"2986\",\n        },\n{\n            'v': 0,\n            'f': \"0\",\n        },\n\"non-political\",\n\"en's \\\"Feel It\\\" from Three 6 and Tiesto coming out? I need this track more than I need oxygen.\"],\n [{\n            'v': 511,\n            'f': \"511\",\n        },\n{\n            'v': 1,\n            'f': \"1\",\n        },\n\"political\",\n\"Hail! Obama! I think we should all start our tweets with that so we don't get put the Furher's Enemies List. Does that make Pelosi Mussolini\"],\n [{\n            'v': 1955,\n            'f': \"1955\",\n        },\n{\n            'v': 0,\n            'f': \"0\",\n        },\n\"non-political\",\n\"edrictan just sent you the cards. don't say you never receive.\"],\n [{\n            'v': 1785,\n            'f': \"1785\",\n        },\n{\n            'v': 0,\n            'f': \"0\",\n        },\n\"non-political\",\n\"metimes you just can't please yourself and those you care about and when you have to chose... It's a fucking problem. Loner 4 life--\"],\n [{\n            'v': 925,\n            'f': \"925\",\n        },\n{\n            'v': 1,\n            'f': \"1\",\n        },\n\"political\",\n\"I rarely agree with Sen Graham (R-SC) but I totally agree that we shouldn't 'Rumsfeld' Afghanistan http://bit.ly/FqXob\"],\n [{\n            'v': 1204,\n            'f': \"1204\",\n        },\n{\n            'v': 0,\n            'f': \"0\",\n        },\n\"non-political\",\n\"teresting article from the Guardian about the need for local government to embrace Open Source Software: http://bit.ly/L5kF2\"],\n [{\n            'v': 2832,\n            'f': \"2832\",\n        },\n{\n            'v': 0,\n            'f': \"0\",\n        },\n\"non-political\",\n\"te: my dog is a giant fraidy cat. He was scared of the rat.\"],\n [{\n            'v': 2669,\n            'f': \"2669\",\n        },\n{\n            'v': 0,\n            'f': \"0\",\n        },\n\"non-political\",\n\"don't even know if i want either of them..but joey and tyler want me to choose..\"],\n [{\n            'v': 957,\n            'f': \"957\",\n        },\n{\n            'v': 1,\n            'f': \"1\",\n        },\n\"political\",\n\"Great phrase there. Afghanistan, Pakistan... the world's \\\"Terroristan\\\". http://is.gd/4MH4j\"],\n [{\n            'v': 2939,\n            'f': \"2939\",\n        },\n{\n            'v': 0,\n            'f': \"0\",\n        },\n\"non-political\",\n\"ny: Sign of the Times and parking tickets for po\\u00e2\\u20ac\\u2122folk http://bit.ly/g0uGq\"],\n [{\n            'v': 1599,\n            'f': \"1599\",\n        },\n{\n            'v': 0,\n            'f': \"0\",\n        },\n\"non-political\",\n\"mping dj sefs mixtape nowww this is my music new skooooool\"],\n [{\n            'v': 2249,\n            'f': \"2249\",\n        },\n{\n            'v': 0,\n            'f': \"0\",\n        },\n\"non-political\",\n\"sten to Adam Lambert 's new single #4YourEntertainment at adamofficial.com now!!!\"],\n [{\n            'v': 2576,\n            'f': \"2576\",\n        },\n{\n            'v': 0,\n            'f': \"0\",\n        },\n\"non-political\",\n\"nsideHoop Popeye Jones accused of drunk driving: Chris Dell of the Dallas Morning News reports: Former Dallas Maverick http://url4.eu/gmJW\"],\n [{\n            'v': 2767,\n            'f': \"2767\",\n        },\n{\n            'v': 0,\n            'f': \"0\",\n        },\n\"non-political\",\n\"esome take on ads RT @nams: http://bit.ly/3aud5P predicted evolution of #facebook #advertising\"],\n [{\n            'v': 2942,\n            'f': \"2942\",\n        },\n{\n            'v': 0,\n            'f': \"0\",\n        },\n\"non-political\",\n\"ddling with my blog post: How to: Delete Files which cannot be deleted http://bit.ly/4cf9k8\"],\n [{\n            'v': 586,\n            'f': \"586\",\n        },\n{\n            'v': 1,\n            'f': \"1\",\n        },\n\"political\",\n\"RT @LindaDeMerle: India: \\\"Thousands Rally Against Obama Government\\\" http://ow.ly/pMqa #HCR #HUMANRIGHTS #PROLIFE\"],\n [{\n            'v': 569,\n            'f': \"569\",\n        },\n{\n            'v': 1,\n            'f': \"1\",\n        },\n\"political\",\n\"For Public, Obama Didn&#x2019;t Fill in Health Blanks ... http://qrl.cc/ypj6mo\"],\n [{\n            'v': 3102,\n            'f': \"3102\",\n        },\n{\n            'v': 0,\n            'f': \"0\",\n        },\n\"non-political\",\n\"posted 12 photos on Facebook in the album \\\"Just Fun\\\" http://bit.ly/2uqBgz\"],\n [{\n            'v': 1134,\n            'f': \"1134\",\n        },\n{\n            'v': 0,\n            'f': \"0\",\n        },\n\"non-political\",\n\"e 1 thing all relationships need to survive is TRUST. It is the glue that holds our net-enabled knowledge economy together - Dan Burrus\"],\n [{\n            'v': 3112,\n            'f': \"3112\",\n        },\n{\n            'v': 0,\n            'f': \"0\",\n        },\n\"non-political\",\n\"ar drivers, If you already can't drive for shit, a cell phone held to your head isn't going to help things..put it down and drive! Idiots.\"],\n [{\n            'v': 1324,\n            'f': \"1324\",\n        },\n{\n            'v': 1,\n            'f': \"1\",\n        },\n\"political\",\n\"RT @FoodAllergy We\\u00e2\\u20ac\\u2122re excited to welcome families to Washington, D.C. for the 2009 FAAN Kids\\u00e2\\u20ac\\u2122 Congress on Capitol Hill! #FAANkc #foodallergy\"],\n [{\n            'v': 423,\n            'f': \"423\",\n        },\n{\n            'v': 1,\n            'f': \"1\",\n        },\n\"political\",\n\"BARACK OBAMA is not only not a U.S. citizen, but is also part of a Washington D.C. Al-Qaeda terrorist cell that started in the U.S. Senate.\"],\n [{\n            'v': 615,\n            'f': \"615\",\n        },\n{\n            'v': 1,\n            'f': \"1\",\n        },\n\"political\",\n\"LATE RT @scribeguy Obama administration declassifies sea ice photos kept secret by the Bush folks: http://tinyurl.com/lgxxma\"],\n [{\n            'v': 1006,\n            'f': \"1006\",\n        },\n{\n            'v': 0,\n            'f': \"0\",\n        },\n\"non-political\",\n\"w the Iraq oil auction works http://url4.eu/2uTV\"],\n [{\n            'v': 429,\n            'f': \"429\",\n        },\n{\n            'v': 1,\n            'f': \"1\",\n        },\n\"political\",\n\"RT @argylestyle: I think Nancy Pelosi should end withal great big \\\"fuck you!\\\" at the GOP. But that's just me. // and me\"],\n [{\n            'v': 15,\n            'f': \"15\",\n        },\n{\n            'v': 0,\n            'f': \"0\",\n        },\n\"non-political\",\n\"MFlint Have a good time mike ,Capitalism ! Whats not to like ! lol!\"],\n [{\n            'v': 1770,\n            'f': \"1770\",\n        },\n{\n            'v': 0,\n            'f': \"0\",\n        },\n\"non-political\",\n\"wnloading No ceilings official leS C waT I partiallY misseD\"],\n [{\n            'v': 364,\n            'f': \"364\",\n        },\n{\n            'v': 1,\n            'f': \"1\",\n        },\n\"political\",\n\"A recovering feminist from Berkley on the Left's animus toward Sarah Palin. Hard-hitting-Read @ ur own risk. http://tinyurl.com/ykqrulv\"],\n [{\n            'v': 2406,\n            'f': \"2406\",\n        },\n{\n            'v': 0,\n            'f': \"0\",\n        },\n\"non-political\",\n\"rtiledare m\\u00c3\\u00b6ts i debatt: \\u00c3\\u2026lands Framtid bjuder in till traditionsenlig partiledardebatt i samband med att lag.. http://bit.ly/2ehDF7\"],\n [{\n            'v': 2030,\n            'f': \"2030\",\n        },\n{\n            'v': 0,\n            'f': \"0\",\n        },\n\"non-political\",\n\"rPeterAndre hi pete howz u loving the songs on new album howz j ,p and h doing hope there ok hope to hear from u soon xxxx team andre x\"],\n [{\n            'v': 1272,\n            'f': \"1272\",\n        },\n{\n            'v': 1,\n            'f': \"1\",\n        },\n\"political\",\n\"RT @callcolombia: Netizen News Brief: US Secy Locke: Colombia Trade Pact Not Likely ...: SANTIAGO --The U.S. Congress won't l.. http://b..\"],\n [{\n            'v': 3161,\n            'f': \"3161\",\n        },\n{\n            'v': 0,\n            'f': \"0\",\n        },\n\"non-political\",\n\"day I want to see\"],\n [{\n            'v': 3075,\n            'f': \"3075\",\n        },\n{\n            'v': 0,\n            'f': \"0\",\n        },\n\"non-political\",\n\"christiner: awh! I wouldve stayed up with you fool!\"],\n [{\n            'v': 804,\n            'f': \"804\",\n        },\n{\n            'v': 1,\n            'f': \"1\",\n        },\n\"political\",\n\"RT @drkent: RT @HCR_Now: Bad economy creates spike in gun permits requests: http://bit.ly/kJscr\"],\n [{\n            'v': 546,\n            'f': \"546\",\n        },\n{\n            'v': 1,\n            'f': \"1\",\n        },\n\"political\",\n\"I just took the \\\"Qual o seu n\\u00c3\\u00advel de ingl\\u00c3\\u00aas?\\\" quiz and got: Dou aulas pro Obama!! Try it \\u00e2\\u017e\\u00a4 http://bit.ly/CSYph\"],\n [{\n            'v': 773,\n            'f': \"773\",\n        },\n{\n            'v': 1,\n            'f': \"1\",\n        },\n\"political\",\n\"RT @Bound4LIFE This is right outside Speaker Pelosi's office. http://twitpic.com/bti8m\"],\n [{\n            'v': 697,\n            'f': \"697\",\n        },\n{\n            'v': 0,\n            'f': \"0\",\n        },\n\"non-political\",\n\" RT @unicornmajik: RT @BluegrassPundit: Very Funny video: Obama And Friends&apos; Holiday Hip Hop: http://bit.ly/7JqwPC #tcot #lol #f..\"],\n [{\n            'v': 1173,\n            'f': \"1173\",\n        },\n{\n            'v': 1,\n            'f': \"1\",\n        },\n\"political\",\n\"Napa Cabs Need to Watch Their Backs (Washington Wine on the Rise While the Economy Tanks): http://ping.fm/jSy1j\"],\n [{\n            'v': 2952,\n            'f': \"2952\",\n        },\n{\n            'v': 0,\n            'f': \"0\",\n        },\n\"non-political\",\n\"'s bloody raining and I have to cycle to college. Not such a good day after all.\"],\n [{\n            'v': 524,\n            'f': \"524\",\n        },\n{\n            'v': 0,\n            'f': \"0\",\n        },\n\"non-political\",\n\" @romanelli We have 2 SU opening game tickets, free to first person who @ replies, must pick up at our office by 11 a.m. in Clinton\"],\n [{\n            'v': 563,\n            'f': \"563\",\n        },\n{\n            'v': 1,\n            'f': \"1\",\n        },\n\"political\",\n\"@IdaFlo 0bama last night was better than Clinton's finger wagging @ the world(\\\"I did not have sex...\\\"). He's by far a better liar. #tcot\"],\n [{\n            'v': 1003,\n            'f': \"1003\",\n        },\n{\n            'v': 1,\n            'f': \"1\",\n        },\n\"political\",\n\"@huffingtonpost Will should have said Cheney went to Iraq for Halliburton and oil. Deliberate deception, not dithering.\"],\n [{\n            'v': 3190,\n            'f': \"3190\",\n        },\n{\n            'v': 0,\n            'f': \"0\",\n        },\n\"non-political\",\n\"\\u00d1\\u008f\\u00d1\\u2013g\\u00d1\\u2013\\u00d0\\u00b8\\u00ce\\u00b1\\u00e2\\u201e\\u201c \\u00c2\\u00ae \\u00e2\\u201e\\u00a2\\u00d1\\u008f\\u00d1\\u201dcus\\u00d1\\u201d i\\u00d0\\u00bci\\u00cf\\u201e\\u00ce\\u00b1\\u00c3\\u00a7\\u00c3\\u00b5\\u00d1\\u201ds\\u00e2\\u201e\\u00a2 \\u00e2\\u2013\\u02c6\\u00e2\\u2022\\u2018\\u00e2\\u2013\\u0152\\u00e2\\u201d\\u201a\\u00e2\\u2022\\u2018\\u00e2\\u2013\\u0152\\u00e2\\u2022\\u2018\\u00e2\\u2013\\u0152\\u00e2\\u201d\\u201a\\u00e2\\u2013\\u02c6\\u00e2\\u201d\\u201a\\u00e2\\u2013\\u0152\\u00e2\\u2022\\u2018\\u00e2\\u201d\\u201a\\u00e2\\u2013\\u02c6\\u00e2\\u2022\\u2018\\u00e2\\u2013\\u02c6\\u00e2\\u2022\\u2018 - -\\u00e2\\u2022\\u2018\\u00e2\\u201d\\u201a\\u00e2\\u2013\\u02c6\\u00e2\\u2022\\u2018\\u00e2\\u2013\\u02c6\\u00e2\\u2022\\u2018\\u00e2\\u2013\\u02c6\\u00e2\\u2022\\u2018\\u00e2\\u2022\\u2018 \\u00e2\\u2013\\u00ba\\u00e2\\u2013\\u00ba\\u00e2\\u2013\\u00ba http://tweepml.org/sucesso-3/ #NSF!!!!!!!!\"],\n [{\n            'v': 387,\n            'f': \"387\",\n        },\n{\n            'v': 1,\n            'f': \"1\",\n        },\n\"political\",\n\"RT @Cody_K: T Jefferson. Kinda sounds like wingnuts to me. // are you talking about liberals?\"],\n [{\n            'v': 235,\n            'f': \"235\",\n        },\n{\n            'v': 0,\n            'f': \"0\",\n        },\n\"non-political\",\n\"ers89 Yeah, the reappropriation of the German aesthetic of the song for black/feminist/etc. USA revolution propaganda. Lots of material.\"],\n [{\n            'v': 1206,\n            'f': \"1206\",\n        },\n{\n            'v': 1,\n            'f': \"1\",\n        },\n\"political\",\n\"Anyone read \\\"Government Schools Are Bad for Your Kids: What You Need to Know?\\\": I came across James O.. http://bit.ly/072v7TP\"],\n [{\n            'v': 1370,\n            'f': \"1370\",\n        },\n{\n            'v': 1,\n            'f': \"1\",\n        },\n\"political\",\n\"There's a good chance the call for the Government Accountability Office to audit the U.S. Federal, Real Estate http://short.to/ys2f\"],\n [{\n            'v': 1290,\n            'f': \"1290\",\n        },\n{\n            'v': 1,\n            'f': \"1\",\n        },\n\"political\",\n\"RT @Reuters_Iran:Iran's opposition will keep up government protest: Karoubi http://link.reuters.com/was79c #iranelection\"],\n [{\n            'v': 204,\n            'f': \"204\",\n        },\n{\n            'v': 1,\n            'f': \"1\",\n        },\n\"political\",\n\"Socialists should oppose copyrights & the commodification of knowledge & culture as an obstacle to progress & creativity http://is.gd/2IjkZ\"],\n [{\n            'v': 1863,\n            'f': \"1863\",\n        },\n{\n            'v': 0,\n            'f': \"0\",\n        },\n\"non-political\",\n\"yped w garrett for a short while earlier.. can't wait to see him in real person tmr :)\"],\n [{\n            'v': 1660,\n            'f': \"1660\",\n        },\n{\n            'v': 0,\n            'f': \"0\",\n        },\n\"non-political\",\n\"treme Halloween Present: My last post showed pictures of Halloween past of my son.\\u00c2\\u00a0 Here he is today, going o.. http://bit.ly/yNgmb\"],\n [{\n            'v': 769,\n            'f': \"769\",\n        },\n{\n            'v': 0,\n            'f': \"0\",\n        },\n\"non-political\",\n\"radyP09 michelle obama (the hot mama) :)\"],\n [{\n            'v': 684,\n            'f': \"684\",\n        },\n{\n            'v': 1,\n            'f': \"1\",\n        },\n\"political\",\n\"Two-Thirds of Obama's Online Fundraising Was Via Email http://ff.im/-7gTOe\"],\n [{\n            'v': 528,\n            'f': \"528\",\n        },\n{\n            'v': 1,\n            'f': \"1\",\n        },\n\"political\",\n\"Maybe these \\\"birthers\\\" are on to something. I mean, how could someone so intelligent and articulate as Obama have been born in America?\"],\n [{\n            'v': 2921,\n            'f': \"2921\",\n        },\n{\n            'v': 0,\n            'f': \"0\",\n        },\n\"non-political\",\n\"lajaran TIK cuma blajar nglompokin nama temen doang ! Ahahhaha\"],\n [{\n            'v': 305,\n            'f': \"305\",\n        },\n{\n            'v': 1,\n            'f': \"1\",\n        },\n\"political\",\n\"Liberal Camille Paglia calls for Nancy Pelosi to resign immediately. http://bit.ly/4JGDf\"],\n [{\n            'v': 2133,\n            'f': \"2133\",\n        },\n{\n            'v': 0,\n            'f': \"0\",\n        },\n\"non-political\",\n\"s the next one in line for san fransico and they kicked me out. LAME.\"],\n [{\n            'v': 1676,\n            'f': \"1676\",\n        },\n{\n            'v': 0,\n            'f': \"0\",\n        },\n\"non-political\",\n\"les Rep jobs Bradford http://bit.ly/MULEk\"],\n [{\n            'v': 2806,\n            'f': \"2806\",\n        },\n{\n            'v': 0,\n            'f': \"0\",\n        },\n\"non-political\",\n\"eek season finale was good. april is too far away for the new season :[\"],\n [{\n            'v': 1903,\n            'f': \"1903\",\n        },\n{\n            'v': 0,\n            'f': \"0\",\n        },\n\"non-political\",\n\"ages (gab): The Complete Wave Guide [ gabimages.blogspot.com ] [shared by 10 people] .. http://bit.ly/OY3Fi\"],\n [{\n            'v': 714,\n            'f': \"714\",\n        },\n{\n            'v': 1,\n            'f': \"1\",\n        },\n\"political\",\n\"[CNN_Video] Campbell talks with her panel about the Obama administration's \\\"Cash for Clunkers\\\" car re.. http://digg.com/u19weA\"],\n [{\n            'v': 1224,\n            'f': \"1224\",\n        },\n{\n            'v': 1,\n            'f': \"1\",\n        },\n\"political\",\n\"To Sen. Jon Kyl: The country needs you to support the Senate health reform bill http://bit.ly/r2eoE #hc09 #AZ #85224\"],\n [{\n            'v': 2033,\n            'f': \"2033\",\n        },\n{\n            'v': 0,\n            'f': \"0\",\n        },\n\"non-political\",\n\" no interior de Sao Paulo no maior t\\u00c3\\u00a9dio... so PC e joga Xbox, \\u00c3\\u00a9 bom mas eu quero saaaaaaaaaaaaaaaaair pra da um roleeeeeeee\"],\n [{\n            'v': 2266,\n            'f': \"2266\",\n        },\n{\n            'v': 0,\n            'f': \"0\",\n        },\n\"non-political\",\n\"obinec soooo here's your @ reply, just a bit later than intended, haha. also i did a twitpic for you too, you should feel special! :P\"],\n [{\n            'v': 2436,\n            'f': \"2436\",\n        },\n{\n            'v': 0,\n            'f': \"0\",\n        },\n\"non-political\",\n\"ce you get it working Borderlands co-op is awesome fun! I love being the rocket man in the car. I BLOW UP YUR SHIT! BOOOOOM!\"],\n [{\n            'v': 1516,\n            'f': \"1516\",\n        },\n{\n            'v': 1,\n            'f': \"1\",\n        },\n\"political\",\n\"LIVE from Pittsburgh: Inslee urges netroots to help get Waxman/Markey through Senate: The first of today's after.. http://bit.ly/172V9M\"],\n [{\n            'v': 2125,\n            'f': \"2125\",\n        },\n{\n            'v': 0,\n            'f': \"0\",\n        },\n\"non-political\",\n\"alClimate: El Nino, Global Warming, and Anomalous U.S. Winter Warmth http://tinyurl.com/ydm4ot7\"],\n [{\n            'v': 2380,\n            'f': \"2380\",\n        },\n{\n            'v': 0,\n            'f': \"0\",\n        },\n\"non-political\",\n\"glilinis ako ng bahay baka sakali matuwa sakin si mommy. hahahaha!\"],\n [{\n            'v': 395,\n            'f': \"395\",\n        },\n{\n            'v': 1,\n            'f': \"1\",\n        },\n\"political\",\n\"There's spam on my blog (written by \\\"Barack Obama\\\") that's so entertaining, I'm considering publishing it. Except, of course, it's spam.\"],\n [{\n            'v': 2182,\n            'f': \"2182\",\n        },\n{\n            'v': 0,\n            'f': \"0\",\n        },\n\"non-political\",\n\" @pedroh96: Meu novo projeto: Customote - Rode comandos customizados pelo Apple Remote - http://bit.ly/2iNK9T (retwittem!)\"],\n [{\n            'v': 698,\n            'f': \"698\",\n        },\n{\n            'v': 1,\n            'f': \"1\",\n        },\n\"political\",\n\"Helpful tool to compare the House and Senate health care proposals. http://bit.ly/6bBzQG /via @nytimes -- that's no way to talk about Obama\"],\n [{\n            'v': 1279,\n            'f': \"1279\",\n        },\n{\n            'v': 0,\n            'f': \"0\",\n        },\n\"non-political\",\n\"e government says 90,000 ppl will die this winter season from the #swine\"],\n [{\n            'v': 1099,\n            'f': \"1099\",\n        },\n{\n            'v': 1,\n            'f': \"1\",\n        },\n\"political\",\n\"@fitzrogg treo phones was poppin when I had the 1st generation...then the economy started failing. lol.\"],\n [{\n            'v': 1260,\n            'f': \"1260\",\n        },\n{\n            'v': 1,\n            'f': \"1\",\n        },\n\"political\",\n\"Senate gets clean energy vehicle bill http://bit.ly/6JyJWA\"],\n [{\n            'v': 1376,\n            'f': \"1376\",\n        },\n{\n            'v': 1,\n            'f': \"1\",\n        },\n\"political\",\n\"PUBLISHED: White House Party Crashers Called to Testify Before Congress - Political Hotsheet - CBS News - http://is.gd/5814D\"],\n [{\n            'v': 1405,\n            'f': \"1405\",\n        },\n{\n            'v': 1,\n            'f': \"1\",\n        },\n\"political\",\n\"Government Proposes Limiting Restrictions and Fees on Gift Cards \\u00e2\\u20ac\\u201c The New American: OverTheLimit.info (blog) G.. http://bit.ly/11s51h\"],\n [{\n            'v': 1394,\n            'f': \"1394\",\n        },\n{\n            'v': 1,\n            'f': \"1\",\n        },\n\"political\",\n\"RT @OTOOLEFAN Government #hcr is so BAD that we only reserve it for our PARENTS, OUR VETERANS, OUR SOLDIERS NOW & OUR LAWMAKERS\"],\n [{\n            'v': 3017,\n            'f': \"3017\",\n        },\n{\n            'v': 0,\n            'f': \"0\",\n        },\n\"non-political\",\n\"u cannot trust God too much, nor trust yourself too little. Spurgeon\"],\n [{\n            'v': 315,\n            'f': \"315\",\n        },\n{\n            'v': 1,\n            'f': \"1\",\n        },\n\"political\",\n\"Conservative Bible Project- an effort to re-translate the bible by omitting passages seen as too liberal. http://bit.ly/31c8VM #theocracy\"],\n [{\n            'v': 3188,\n            'f': \"3188\",\n        },\n{\n            'v': 0,\n            'f': \"0\",\n        },\n\"non-political\",\n\"ama Loves the new album from Every Avenue\\\" #pictureperfect #pictureperfect #pictureperfect\"],\n [{\n            'v': 1845,\n            'f': \"1845\",\n        },\n{\n            'v': 0,\n            'f': \"0\",\n        },\n\"non-political\",\n\"thing to do on a Sunday morning @ 08:18am in front of my computer :/\"],\n [{\n            'v': 1266,\n            'f': \"1266\",\n        },\n{\n            'v': 1,\n            'f': \"1\",\n        },\n\"political\",\n\"Entergy CEO: EPA sending Congress message to act (AP) (http://cli.gs/Z5eNG) http://cli.gs/Z5eNG\"],\n [{\n            'v': 1375,\n            'f': \"1375\",\n        },\n{\n            'v': 1,\n            'f': \"1\",\n        },\n\"political\",\n\"Senate Health Bill Draws Fire on Both Sides - New York Times.. http://twit.ac/Yu6I\"],\n [{\n            'v': 2770,\n            'f': \"2770\",\n        },\n{\n            'v': 0,\n            'f': \"0\",\n        },\n\"non-political\",\n\" @soffe: Next 10 followers of @Soffe get a FREE Fan pack! ~ Already follow @Soffe? Will choose 5 who ReTweet to get one also\"],\n [{\n            'v': 1362,\n            'f': \"1362\",\n        },\n{\n            'v': 1,\n            'f': \"1\",\n        },\n\"political\",\n\"Senate Hearings on 'Don't Ask, Don't Tell' Postponed Indefinitely /Towleroad News #gay/ - U.S. Senate Armed ... http://tinyurl.com/yj76ke9\"],\n [{\n            'v': 2186,\n            'f': \"2186\",\n        },\n{\n            'v': 0,\n            'f': \"0\",\n        },\n\"non-political\",\n\"\\u0160\\u00e3\\u0081\\u00af\\u00e3\\u0081\\u00aa\\u00e3\\u0081\\u2020\\u00e2\\u20ac\\u00a6in\\u00e3\\u201a\\u00b3\\u00e3\\u201a\\u00bf\\u00e3\\u0192\\u201e\\u00e3\\u20ac\\u201a\\u00e3\\u0081\\u201a\\u00e3\\u0081\\u0081\\u00e3\\u20ac\\u0081\\u00e5\\u00ae\\u0152\\u00e7\\u2019\\u00a7\\u00e3\\u0081\\u00aa\\u00e3\\u201a\\u2039\\u00e5\\u00af\\u009d\\u00e8\\u0090\\u00bd\\u00e3\\u0081\\u00a1\\u00e3\\u0081\\u00a8\\u00e3\\u0081\\u00af\\u00e3\\u0081\\u201c\\u00e3\\u0081\\u00ae\\u00e4\\u00ba\\u2039\\u00e3\\u20ac\\u201a\"],\n [{\n            'v': 720,\n            'f': \"720\",\n        },\n{\n            'v': 1,\n            'f': \"1\",\n        },\n\"political\",\n\"Ahmadinejad Re-Election Doesn't Deter Obama From Engaging Iran - Bloomberg BBC NewsAhmadinejad Re-Election Doesn&.. http://short.to/fmu9\"],\n [{\n            'v': 917,\n            'f': \"917\",\n        },\n{\n            'v': 1,\n            'f': \"1\",\n        },\n\"political\",\n\"Obama Trumpets Stimulus in New Orleans: Separately, the White House Thursday released a report estimating that 3.. http://bit.ly/1eEYTN\"],\n [{\n            'v': 343,\n            'f': \"343\",\n        },\n{\n            'v': 1,\n            'f': \"1\",\n        },\n\"political\",\n\"Liberals continue to show their business savvy in Boycott of Whole Foods. WFMI stock hits 2009 high. http://bit.ly/MkKVg #tcot #fail\"],\n [{\n            'v': 632,\n            'f': \"632\",\n        },\n{\n            'v': 1,\n            'f': \"1\",\n        },\n\"political\",\n\"I have a way to stop obama and socialism everyone stop working\"],\n [{\n            'v': 2443,\n            'f': \"2443\",\n        },\n{\n            'v': 0,\n            'f': \"0\",\n        },\n\"non-political\",\n\"mtisdalex3 lol that good\"],\n [{\n            'v': 1402,\n            'f': \"1402\",\n        },\n{\n            'v': 1,\n            'f': \"1\",\n        },\n\"political\",\n\"RT @ChicagoDiane: RT @mike_elgan: Another insane press release from the North Korean government. http://bit.ly/MPOd Seems normal to me ;-)\"],\n [{\n            'v': 1642,\n            'f': \"1642\",\n        },\n{\n            'v': 0,\n            'f': \"0\",\n        },\n\"non-political\",\n\"xzerosetechaves 103\"],\n [{\n            'v': 1390,\n            'f': \"1390\",\n        },\n{\n            'v': 1,\n            'f': \"1\",\n        },\n\"political\",\n\"RT @Gbastidas: Hurt woman jornalist by Chavez Supporters in front Congress / FOTO => http://twitpic.com/drbmc #freemediave #PLOE\"],\n [{\n            'v': 2098,\n            'f': \"2098\",\n        },\n{\n            'v': 0,\n            'f': \"0\",\n        },\n\"non-political\",\n\"\\u00b4 saindo pro rol\\u00c3\\u00aa galera, esse vai ser bom ! SEGURA PE\\u00c3\\u0192O ! HAHA bem, pelo menos pra mim...\"],\n [{\n            'v': 1352,\n            'f': \"1352\",\n        },\n{\n            'v': 0,\n            'f': \"0\",\n        },\n\"non-political\",\n\"ere is a Video Out there where they KILL an Innocent Motor with a government brewed poison.. Sad waste #tcot Don't drink the..\"],\n [{\n            'v': 2006,\n            'f': \"2006\",\n        },\n{\n            'v': 0,\n            'f': \"0\",\n        },\n\"non-political\",\n\"ernandynhap2 Continuar doendo???\"],\n [{\n            'v': 2364,\n            'f': \"2364\",\n        },\n{\n            'v': 0,\n            'f': \"0\",\n        },\n\"non-political\",\n\"\\u008d\\u00e3\\u201a\\u2021\\u00e3\\u0081\\u2020\\u00e3\\u0081\\u00b9\\u00e3\\u201a\\u201c\\u00e3\\u20ac\\u201a\\u00e8\\u2022\\u00aa\\u00e3\\u0081\\u00ae\\u00e8\\u2018\\u2030\\u00e3\\u0081\\u00be\\u00e3\\u0081\\u0153\\u00e3\\u0081\\u201d\\u00e3\\u0081\\u00af\\u00e3\\u201a\\u201c\\u00e3\\u20ac\\u0081\\u00e8\\u0192\\u00a1\\u00e7\\u201c\\u0153\\u00e3\\u0192\\u00af\\u00e3\\u201a\\u00ab\\u00e3\\u0192\\u00a1\\u00e3\\u0081\\u00ae\\u00e3\\u201a\\u00b5\\u00e3\\u0192\\u00a9\\u00e3\\u0192\\u20ac\\u00e3\\u20ac\\u201a(\\u00e4\\u00b8\\u0160\\u00e6\\u00ae\\u00b5) http://yfrog.com/6ymbij\"],\n [{\n            'v': 2565,\n            'f': \"2565\",\n        },\n{\n            'v': 0,\n            'f': \"0\",\n        },\n\"non-political\",\n\" @GuyKawasaki: How to write a sticky blog post http://om.ly/YrOx\"],\n [{\n            'v': 2245,\n            'f': \"2245\",\n        },\n{\n            'v': 0,\n            'f': \"0\",\n        },\n\"non-political\",\n\"usemate insisted on watching X Factor. I got earwormed by Verdi's Dies Irae. Um. I don't think this is how it's meant to work?\"],\n [{\n            'v': 1828,\n            'f': \"1828\",\n        },\n{\n            'v': 0,\n            'f': \"0\",\n        },\n\"non-political\",\n\"iarMango woman you're crazy! you can partyyyyyy :)\"],\n [{\n            'v': 2593,\n            'f': \"2593\",\n        },\n{\n            'v': 0,\n            'f': \"0\",\n        },\n\"non-political\",\n\"eekjames You did it! 1000 followers! Congratulations!\"],\n [{\n            'v': 275,\n            'f': \"275\",\n        },\n{\n            'v': 1,\n            'f': \"1\",\n        },\n\"political\",\n\"So let me get this straight\\u00e2\\u20ac\\u00a6 Obama = Socialist AND Nazi? I think education reform better be next on the national agenda.\"],\n [{\n            'v': 2629,\n            'f': \"2629\",\n        },\n{\n            'v': 0,\n            'f': \"0\",\n        },\n\"non-political\",\n\"jknucklehead my friend cannot figure out the joke. lol i think it's funny though.\"],\n [{\n            'v': 3162,\n            'f': \"3162\",\n        },\n{\n            'v': 0,\n            'f': \"0\",\n        },\n\"non-political\",\n\"mcwild Well I was a bad gamer last night. I quit on a match because I was becoming \\\"that guy\\\". I am -10 in charisma in L4D to my friends.\"],\n [{\n            'v': 2035,\n            'f': \"2035\",\n        },\n{\n            'v': 0,\n            'f': \"0\",\n        },\n\"non-political\",\n\"morrow I'm taking the brother to the Coastal Carolina Fair. Anyone wanna join us?! Eliz can't go =\\\\\"],\n [{\n            'v': 2612,\n            'f': \"2612\",\n        },\n{\n            'v': 0,\n            'f': \"0\",\n        },\n\"non-political\",\n\"rrylcious http://twitpic.com/ff28e - you can have him lashawn and say what you want because i am not stalking you, nor can i care less. i\"],\n [{\n            'v': 1183,\n            'f': \"1183\",\n        },\n{\n            'v': 1,\n            'f': \"1\",\n        },\n\"political\",\n\"RT U.S. lacks troops in Afghanistan to outdo Taliban \\u00e2\\u20ac\\u201d Gates | HEADLINE BUNKER http://bit.ly/2YmnkU\"],\n [{\n            'v': 2305,\n            'f': \"2305\",\n        },\n{\n            'v': 0,\n            'f': \"0\",\n        },\n\"non-political\",\n\"st threw up . . layinq down prolly asleep.\"],\n [{\n            'v': 1008,\n            'f': \"1008\",\n        },\n{\n            'v': 1,\n            'f': \"1\",\n        },\n\"political\",\n\"@toddmarrone Her argument was that the economy was better under Bush- the only big change is the sitting President's stance on the issue.\"],\n [{\n            'v': 1653,\n            'f': \"1653\",\n        },\n{\n            'v': 0,\n            'f': \"0\",\n        },\n\"non-political\",\n\"ird round is better for Spina, he's more active, landing more and Del Valle sat back most of the round. 29-28 Spina\"],\n [{\n            'v': 916,\n            'f': \"916\",\n        },\n{\n            'v': 1,\n            'f': \"1\",\n        },\n\"political\",\n\"RT @beltain35: RT @SteveAudio: Attn. journalists, Tiger Woods is NOT important. Health care reform, Afghanistan & record jobless is. Ge ...\"],\n [{\n            'v': 1318,\n            'f': \"1318\",\n        },\n{\n            'v': 1,\n            'f': \"1\",\n        },\n\"political\",\n\":: The Republican Health Care Failure http://www.urbanonramps.com/?p=1639\"],\n [{\n            'v': 1268,\n            'f': \"1268\",\n        },\n{\n            'v': 1,\n            'f': \"1\",\n        },\n\"political\",\n\"Queensland government desperate with Traveston dam referral: The long-awaited \\\"referral\\\" of the proposed Tra.. http://bit.ly/3S6uhA\"],\n [{\n            'v': 242,\n            'f': \"242\",\n        },\n{\n            'v': 1,\n            'f': \"1\",\n        },\n\"political\",\n\"Repost! YOUR OBAMA AT WORK OBAMAS GLOBAL TAX! Progressives Back Obama Push for Global Tax! http://short.to/t6os\"],\n [{\n            'v': 1563,\n            'f': \"1563\",\n        },\n{\n            'v': 1,\n            'f': \"1\",\n        },\n\"political\",\n\"@sorokac it's not Drama, the senate was going to cancel the diabetes research fund, and hes there to help them not do that.\"],\n [{\n            'v': 1589,\n            'f': \"1589\",\n        },\n{\n            'v': 1,\n            'f': \"1\",\n        },\n\"political\",\n\"#wibudget Senate passes conference report 17-15 http://tr.im/pOXB\"],\n [{\n            'v': 991,\n            'f': \"991\",\n        },\n{\n            'v': 1,\n            'f': \"1\",\n        },\n\"political\",\n\"Franken Bones Up Ahead of Sotomayor Hearing: The newest member of the Senate Judiciary... http://bit.ly/TnOBn\"],\n [{\n            'v': 2646,\n            'f': \"2646\",\n        },\n{\n            'v': 0,\n            'f': \"0\",\n        },\n\"non-political\",\n\"hemarmybird Taylor and I are in love, and I have chiari!\"],\n [{\n            'v': 667,\n            'f': \"667\",\n        },\n{\n            'v': 1,\n            'f': \"1\",\n        },\n\"political\",\n\"Aw, man... should I file my Israeli taxes or go rogue, \\\"Palin style\\\"? http://bit.ly/VU56F #israel #aliyah #olehchadash #igoogledisrael\"],\n [{\n            'v': 2311,\n            'f': \"2311\",\n        },\n{\n            'v': 0,\n            'f': \"0\",\n        },\n\"non-political\",\n\" LOLI!\"],\n [{\n            'v': 1191,\n            'f': \"1191\",\n        },\n{\n            'v': 0,\n            'f': \"0\",\n        },\n\"non-political\",\n\"promised to update you with all the pics for the Abdali Ride (Kuwait/Iraq border) with HOG, here we go >> http://bit.ly/kELoZ (Nov13)\"],\n [{\n            'v': 993,\n            'f': \"993\",\n        },\n{\n            'v': 1,\n            'f': \"1\",\n        },\n\"political\",\n\"RT @Eduflack: RT @educationweek: #education Will There Be a 'Sotomayor Effect' on Latino Education? http://tr.im/vMEA\"],\n [{\n            'v': 973,\n            'f': \"973\",\n        },\n{\n            'v': 1,\n            'f': \"1\",\n        },\n\"political\",\n\"Love the job- this year, teaching journalism and 2 sections of 9th Literature for ESOL. Demoralized by economy. Please perk up soon!\"],\n [{\n            'v': 882,\n            'f': \"882\",\n        },\n{\n            'v': 1,\n            'f': \"1\",\n        },\n\"political\",\n\"UPI NewsTrack Business: German Economy Minister Karl-Theodor zu Guttenberg reportedly has said the two sides are.. http://bit.ly/F2HMN\"],\n [{\n            'v': 2256,\n            'f': \"2256\",\n        },\n{\n            'v': 0,\n            'f': \"0\",\n        },\n\"non-political\",\n\"an Costello Band - It's My Own Fault: http://blip.fm/~fqjtj via @addthis\"],\n [{\n            'v': 1818,\n            'f': \"1818\",\n        },\n{\n            'v': 0,\n            'f': \"0\",\n        },\n\"non-political\",\n\"out.com Italian Food: Most Popular Articles http://tinyurl.com/y9rmfh9\"],\n [{\n            'v': 2683,\n            'f': \"2683\",\n        },\n{\n            'v': 0,\n            'f': \"0\",\n        },\n\"non-political\",\n\"ly 3more hrs to go...Thank you Jesus!\"],\n [{\n            'v': 206,\n            'f': \"206\",\n        },\n{\n            'v': 1,\n            'f': \"1\",\n        },\n\"political\",\n\"RT @SoccerSealUSA \\\"The Day I Met Sarah Palin...and the Liberal Media\\\" http://bit.ly/31Iv7N #tcot #ocra #sgp #goingrogue #spwbt #tycot\"],\n [{\n            'v': 2489,\n            'f': \"2489\",\n        },\n{\n            'v': 0,\n            'f': \"0\",\n        },\n\"non-political\",\n\"am so sad that its is monday, and that halloween is over! but now I can start planning christmas! yay\"],\n [{\n            'v': 2971,\n            'f': \"2971\",\n        },\n{\n            'v': 0,\n            'f': \"0\",\n        },\n\"non-political\",\n\" na informatica com a @fee__carvalho , @ju__morgado ....\"],\n [{\n            'v': 717,\n            'f': \"717\",\n        },\n{\n            'v': 1,\n            'f': \"1\",\n        },\n\"political\",\n\"RT @electionsdotfm: White House News: Obama Makes the Case to Small Business http://bit.ly/iCZdN\"],\n [{\n            'v': 1051,\n            'f': \"1051\",\n        },\n{\n            'v': 1,\n            'f': \"1\",\n        },\n\"political\",\n\"RBA Raises Rates (source: Wall Street Journal): The Reserve Bank of Australia raised its cash ra... http://twurl.nl/1tzvvi #economy #stocks\"],\n [{\n            'v': 2614,\n            'f': \"2614\",\n        },\n{\n            'v': 0,\n            'f': \"0\",\n        },\n\"non-political\",\n\"uryduty remarkably like waiting at the airport. Maybe we should combine these activities to save everyone time.\"],\n [{\n            'v': 228,\n            'f': \"228\",\n        },\n{\n            'v': 1,\n            'f': \"1\",\n        },\n\"political\",\n\"Millionaire Filmmaker Michael Moore: \\u00e2\\u20ac\\u02dcCapitalism Did Nothing For Me\\u00e2\\u20ac\\u2122 I think He will hae a \\\"BIG ONE SOON!\\\" H1N1 #why Pepeng ...\"],\n [{\n            'v': 1395,\n            'f': \"1395\",\n        },\n{\n            'v': 1,\n            'f': \"1\",\n        },\n\"political\",\n\"There is one thing Republican and Democrate politicians agree on and that is: We have an Unsustainable Healthcare system.\"],\n [{\n            'v': 2893,\n            'f': \"2893\",\n        },\n{\n            'v': 1,\n            'f': \"1\",\n        },\n\"political\",\n\"RT @CNSNews_Com: Since April, 114 Children Have Died from H1N1 -- but 700,000 Have Died from Abortion http://ow.ly/15Z3dW\"],\n [{\n            'v': 1578,\n            'f': \"1578\",\n        },\n{\n            'v': 1,\n            'f': \"1\",\n        },\n\"political\",\n\"I agree with the lady from california, I am sixty six years old and for the first time in my life I am ashamed of our government.\"],\n [{\n            'v': 2735,\n            'f': \"2735\",\n        },\n{\n            'v': 0,\n            'f': \"0\",\n        },\n\"non-political\",\n\" @becks112 RT @PigsknLvngLady: 27 outs from winning their 27th championship. Who else baby, but the most hated and LOVED team in Americ..\"],\n [{\n            'v': 1932,\n            'f': \"1932\",\n        },\n{\n            'v': 0,\n            'f': \"0\",\n        },\n\"non-political\",\n\" @IdolStages: David Archuleta & Demi Lovato final show tonight! Atlantic City NJ http://bit.ly/qlIqY (via @AnnieDAFG)\"],\n [{\n            'v': 2837,\n            'f': \"2837\",\n        },\n{\n            'v': 0,\n            'f': \"0\",\n        },\n\"non-political\",\n\"atepatto well done!! congrats! i was going for him but didnt back him! my dads client owns the horse! and the horse is so beautiful!\"],\n [{\n            'v': 1793,\n            'f': \"1793\",\n        },\n{\n            'v': 0,\n            'f': \"0\",\n        },\n\"non-political\",\n\"d a pretty good time talking to the boys in Apt 132 at 3am. Now 2am cause of Daylight Savings. Met Jake & Matt. Hahaha.\"],\n [{\n            'v': 2430,\n            'f': \"2430\",\n        },\n{\n            'v': 0,\n            'f': \"0\",\n        },\n\"non-political\",\n\"\\u00d1\\u0081\\u00d0\\u00b5\\u00d0\\u00bc \\u00d0\\u00bf\\u00d1\\u20ac\\u00d0\\u00b8\\u00d0\\u00b2\\u00d0\\u00b5\\u00d1\\u201a) Hello\"],\n [{\n            'v': 2867,\n            'f': \"2867\",\n        },\n{\n            'v': 0,\n            'f': \"0\",\n        },\n\"non-political\",\n\"st like Obama himself, the Portuguese water dog Ted Kennedy gave... http://tinyurl.com/yhbr2y9\"],\n [{\n            'v': 2096,\n            'f': \"2096\",\n        },\n{\n            'v': 0,\n            'f': \"0\",\n        },\n\"non-political\",\n\"\\u00d0\\u00be\\u00d0\\u00b2\\u00d0\\u00be\\u00d1\\u20ac\\u00d0\\u00b8\\u00d0\\u00bb\\u00d0\\u00bd\\u00d1\\u008f \\u00d1\\u0081\\u00d0\\u00bf\\u00d0\\u00b0\\u00d0\\u00bc - \\u00d0\\u00a1\\u00d0\\u00bc\\u00d0\\u00b5\\u00d1\\u2026\\u00d1\\u0160\\u00d1\\u201a \\u00d0\\u00b5 \\u00d0\\u00b7\\u00d0\\u00b4\\u00d1\\u20ac\\u00d0\\u00b0\\u00d0\\u00b2\\u00d0\\u00b5 18+ - http://tinyurl.com/ydrt8e8\"],\n [{\n            'v': 1693,\n            'f': \"1693\",\n        },\n{\n            'v': 0,\n            'f': \"0\",\n        },\n\"non-political\",\n\"e Tulsa Run was hard work today. Tulsa has a LOT of hills(AKA:steep hills)! I'm grateful for great run partners though. Thanks Kim & John!\"],\n [{\n            'v': 1473,\n            'f': \"1473\",\n        },\n{\n            'v': 1,\n            'f': \"1\",\n        },\n\"political\",\n\"RT @PoliticalTicker: \\\"Senate Democrats assured of 60 votes to debate health bill \\\" - http://bit.ly/7LIEZL/ YES!!!! TAKE THAT REPUGLICANS!!!\"],\n [{\n            'v': 179,\n            'f': \"179\",\n        },\n{\n            'v': 1,\n            'f': \"1\",\n        },\n\"political\",\n\"The Constitutional Side Of The Health Care Reform Bill http://bit.ly/7HYZQZ #conservative #hcr #iamthemob #gop\"],\n [{\n            'v': 2181,\n            'f': \"2181\",\n        },\n{\n            'v': 0,\n            'f': \"0\",\n        },\n\"non-political\",\n\"just flipped over my desk because I was so pumped up from this Cities. Phish rage #f8 #phish #fest8\"],\n [{\n            'v': 935,\n            'f': \"935\",\n        },\n{\n            'v': 1,\n            'f': \"1\",\n        },\n\"political\",\n\"So that cash-for-clunkers, housing schemes, and other government stimulus programs ... Lemme get back to you on that. Can you hold?\"],\n [{\n            'v': 896,\n            'f': \"896\",\n        },\n{\n            'v': 1,\n            'f': \"1\",\n        },\n\"political\",\n\"Suicide car bomb kills three in western Iraq - Xinhua: Los Angeles TimesSuicide car bomb kills three in western .. http://bit.ly/XTq5y\"],\n [{\n            'v': 2361,\n            'f': \"2361\",\n        },\n{\n            'v': 0,\n            'f': \"0\",\n        },\n\"non-political\",\n\"enochus45 hahahahaha\"],\n [{\n            'v': 2705,\n            'f': \"2705\",\n        },\n{\n            'v': 0,\n            'f': \"0\",\n        },\n\"non-political\",\n\"need new ppl to follow, so NEW followers holla at me if im not following you back!!!\"],\n [{\n            'v': 1237,\n            'f': \"1237\",\n        },\n{\n            'v': 1,\n            'f': \"1\",\n        },\n\"political\",\n\"(NYT) Kennedy Confidant Is Expected to Take Senate Seat http://bit.ly/pWS5E\"],\n [{\n            'v': 2520,\n            'f': \"2520\",\n        },\n{\n            'v': 0,\n            'f': \"0\",\n        },\n\"non-political\",\n\" true! RT @StephCalahan: Everyone can have a balanced life. You just need to want it \\u00e2\\u20ac\\u00a6 and act to achieve it. -Mary Ellen Tribby\"],\n [{\n            'v': 3068,\n            'f': \"3068\",\n        },\n{\n            'v': 1,\n            'f': \"1\",\n        },\n\"political\",\n\"RT @JTANews IDF general: Hamas rockets can reach Tel Aviv http://bit.ly/20WRuc\"],\n [{\n            'v': 2588,\n            'f': \"2588\",\n        },\n{\n            'v': 1,\n            'f': \"1\",\n        },\n\"political\",\n\"@FreedomWorks Michele Bachmann has asked all who can to gather on Capitol Hill Thursday at noon to protest hc bill and visit members.\"],\n [{\n            'v': 988,\n            'f': \"988\",\n        },\n{\n            'v': 0,\n            'f': \"0\",\n        },\n\"non-political\",\n\"10 Honda CR-V Goes On Sale Today, Offers More Power and Better Fuel Economy: The 2010 Honda CR-V went on sal.. http://bit.ly/tGI71\"],\n [{\n            'v': 1042,\n            'f': \"1042\",\n        },\n{\n            'v': 1,\n            'f': \"1\",\n        },\n\"political\",\n\"U.S. government makes $4B profit on bailout loans to big banks http://bit.ly/jZ4eQ\"],\n [{\n            'v': 1471,\n            'f': \"1471\",\n        },\n{\n            'v': 1,\n            'f': \"1\",\n        },\n\"political\",\n\"RT @BarackObama: Health reform just took a huge step\\u00e2\\u20ac\\u201dbut insurance lobby wrkn hard 2 stp it. Urge Congress 2 pass reform: http://u.nu/6jhi3\"],\n [{\n            'v': 1414,\n            'f': \"1414\",\n        },\n{\n            'v': 0,\n            'f': \"0\",\n        },\n\"non-political\",\n\"S. government sets up app store: http://ow.ly/pF7O\"],\n [{\n            'v': 2198,\n            'f': \"2198\",\n        },\n{\n            'v': 0,\n            'f': \"0\",\n        },\n\"non-political\",\n\"s CS4 creative suit!!! Can't wait to use it :D\"],\n [{\n            'v': 1559,\n            'f': \"1559\",\n        },\n{\n            'v': 0,\n            'f': \"0\",\n        },\n\"non-political\",\n\"en it pays to buy used -- Government Computer News http://bit.ly/42aqEE\"],\n [{\n            'v': 420,\n            'f': \"420\",\n        },\n{\n            'v': 1,\n            'f': \"1\",\n        },\n\"political\",\n\"RT @wyclef: RT @Fun_All_Day: President Clinton, is meeting in Haiti's capitol 2 promote economic growth and jobs. Things are moving fo ...\"],\n [{\n            'v': 1620,\n            'f': \"1620\",\n        },\n{\n            'v': 0,\n            'f': \"0\",\n        },\n\"non-political\",\n\": @tplayfair Aaaah Mia...SMDH!>RT @therealmiamazin: RT: @gocharms @SimoneMarie \\u00e2\\u20ac\\u00a2wud PAY 2c alyuh & @tplayfair fight! \\u00e2\\u20ac\\u00a2 #justsaying! Lol\"],\n [{\n            'v': 2813,\n            'f': \"2813\",\n        },\n{\n            'v': 0,\n            'f': \"0\",\n        },\n\"non-political\",\n\"ash Pictures Creates New Online Sites with HushMoney.com: In an effort to make their entertaining lineup of f.. http://bit.ly/2hsqOi\"],\n [{\n            'v': 493,\n            'f': \"493\",\n        },\n{\n            'v': 1,\n            'f': \"1\",\n        },\n\"political\",\n\"RT @Supernola1: @jemelehill I wish I was Michelle Obama's jumpoff\"],\n [{\n            'v': 2724,\n            'f': \"2724\",\n        },\n{\n            'v': 0,\n            'f': \"0\",\n        },\n\"non-political\",\n\"ve to pay another fee for my motorcycle class\"],\n [{\n            'v': 909,\n            'f': \"909\",\n        },\n{\n            'v': 0,\n            'f': \"0\",\n        },\n\"non-political\",\n\"tching the new economy with my daddy. oh my god! i'm SUCH a slacker! OLIVIA, MOVE YOUR ASS! okay :)\"],\n [{\n            'v': 3129,\n            'f': \"3129\",\n        },\n{\n            'v': 1,\n            'f': \"1\",\n        },\n\"political\",\n\"RT @irishelection Exchequer figures out - deficit is \\u00e2\\u201a\\u00ac23bn http://is.gd/4M6XS Facing 2003 budget revenue. <-- Can we have 2003 prosperity?\"],\n [{\n            'v': 1436,\n            'f': \"1436\",\n        },\n{\n            'v': 1,\n            'f': \"1\",\n        },\n\"political\",\n\"@GarlandEHarris I didn't say that you were but Republican have signs saying that. It is possible. Then Black vote was more evenly split\"],\n [{\n            'v': 1549,\n            'f': \"1549\",\n        },\n{\n            'v': 1,\n            'f': \"1\",\n        },\n\"political\",\n\"UBS and US government reach deal over tax evasion dispute http://bit.ly/oDyiA\"],\n [{\n            'v': 2796,\n            'f': \"2796\",\n        },\n{\n            'v': 0,\n            'f': \"0\",\n        },\n\"non-political\",\n\": @ZonaBlackBerry: Tema Navidad para 8900 - Zona BlackBerry | Foro BlackBerry http://bit.ly/1PPgq9\"],\n [{\n            'v': 1916,\n            'f': \"1916\",\n        },\n{\n            'v': 0,\n            'f': \"0\",\n        },\n\"non-political\",\n\"ll, last night was a nightmare\"],\n [{\n            'v': 711,\n            'f': \"711\",\n        },\n{\n            'v': 1,\n            'f': \"1\",\n        },\n\"political\",\n\"People ask is Obama the Antichrist but are there lots of Antichrists? http://bit.ly/2nTUqV\"],\n [{\n            'v': 3047,\n            'f': \"3047\",\n        },\n{\n            'v': 0,\n            'f': \"0\",\n        },\n\"non-political\",\n\"wkwkwk,,,dah loakin aj dah,,lumayan buat jajan,,haha RT @Ichenluphicho: waah part nye aje dikasihin jg kagak ada yg sudi nerima awkawkawk\"],\n [{\n            'v': 1611,\n            'f': \"1611\",\n        },\n{\n            'v': 0,\n            'f': \"0\",\n        },\n\"non-political\",\n\"rianhornback LOL How did you guess?\"],\n [{\n            'v': 469,\n            'f': \"469\",\n        },\n{\n            'v': 1,\n            'f': \"1\",\n        },\n\"political\",\n\"I just took the \\\"Qual o seu n\\u00c3\\u00advel de ingl\\u00c3\\u00aas?\\\" quiz and got: Dou aulas pro Obama!! Try it \\u00e2\\u017e\\u00a4 http://bit.ly/qbHvw\"],\n [{\n            'v': 2472,\n            'f': \"2472\",\n        },\n{\n            'v': 0,\n            'f': \"0\",\n        },\n\"non-political\",\n\"ipex review by megabbott in Prescription Drugs: http://rateitall.com/i-2394883\"],\n [{\n            'v': 655,\n            'f': \"655\",\n        },\n{\n            'v': 1,\n            'f': \"1\",\n        },\n\"political\",\n\"Obama get lukewarm welcome from Russian media - http://bit.ly/zjuKv\"],\n [{\n            'v': 1432,\n            'f': \"1432\",\n        },\n{\n            'v': 1,\n            'f': \"1\",\n        },\n\"political\",\n\"RT @stoptheliberalsplease join the fight. we need everyone's help in fighting this travesty in the Senate! http://bit.ly/o0kxd #stln #tcot\"],\n [{\n            'v': 1971,\n            'f': \"1971\",\n        },\n{\n            'v': 0,\n            'f': \"0\",\n        },\n\"non-political\",\n\"OD MORNING my friends hope your night was great and you have a great day\"],\n [{\n            'v': 1461,\n            'f': \"1461\",\n        },\n{\n            'v': 1,\n            'f': \"1\",\n        },\n\"political\",\n\"U.S. Senate Considering Bill to Slow the Impacts of e-Waste: Photo via Rojer Could cradle-to-cradle design bec.. http://bit.ly/46pnPv\"],\n [{\n            'v': 1302,\n            'f': \"1302\",\n        },\n{\n            'v': 1,\n            'f': \"1\",\n        },\n\"political\",\n\"Congress rushing to try to save 'cash for clunkers' program: WASHINGTON \\u00e2\\u20ac\\u201d The House raced today to pass le.. http://bit.ly/2VNenW\"],\n [{\n            'v': 706,\n            'f': \"706\",\n        },\n{\n            'v': 1,\n            'f': \"1\",\n        },\n\"political\",\n\"Obama has ordered billions of dollars allocated to creating the \\\"Mark of Beast\\\" microchip we'll all soon have in America http://is.gd/2RkHb\"],\n [{\n            'v': 2685,\n            'f': \"2685\",\n        },\n{\n            'v': 0,\n            'f': \"0\",\n        },\n\"non-political\",\n\"f...you seek to control God through your obedience, then all your morality is just a way to use God...\\\" TK\"],\n [{\n            'v': 2233,\n            'f': \"2233\",\n        },\n{\n            'v': 0,\n            'f': \"0\",\n        },\n\"non-political\",\n\"ad it broke while you were still on the ground, lesser of evils. RT @mw55: Our plane broke. Thanks to Kurt Busch I'm headed home !\"],\n [{\n            'v': 2229,\n            'f': \"2229\",\n        },\n{\n            'v': 0,\n            'f': \"0\",\n        },\n\"non-political\",\n\"te qet a tattoo that says E.B on my hip on friday . [ Earl Benjamin ] for @benjnewboyz and C.S for myy Aunt .x3\"],\n [{\n            'v': 2589,\n            'f': \"2589\",\n        },\n{\n            'v': 0,\n            'f': \"0\",\n        },\n\"non-political\",\n\"ew! Yoga kicked my booty today! Feel great for a Monday morning though! Time to work!\"],\n [{\n            'v': 1411,\n            'f': \"1411\",\n        },\n{\n            'v': 1,\n            'f': \"1\",\n        },\n\"political\",\n\"MSP said the Comelec appears to have delisted only those organizations that were highly critical of the Arroyo government. http://ow.ly/DyeO\"],\n [{\n            'v': 2279,\n            'f': \"2279\",\n        },\n{\n            'v': 0,\n            'f': \"0\",\n        },\n\"non-political\",\n\"hate people.\"],\n [{\n            'v': 2189,\n            'f': \"2189\",\n        },\n{\n            'v': 0,\n            'f': \"0\",\n        },\n\"non-political\",\n\"\\u2020\\u00e3\\u0081\\u02c6\\u00e3\\u0081\\u02c6\\u00e3\\u0081\\u02c6\\u00e3\\u0081\\u02c6\\u00e3\\u0081\\u02c6\\u00e3\\u0081\\u02c66\\u00e6\\u2122\\u201a\\u00ef\\u00bc\\u0081\\u00ef\\u00bc\\u0178\\u00e3\\u201a\\u008d\\u00e3\\u0081\\u008f\\u00e3\\u0081\\u02dc\\u00ef\\u00bc\\u0081\"],\n [{\n            'v': 805,\n            'f': \"805\",\n        },\n{\n            'v': 1,\n            'f': \"1\",\n        },\n\"political\",\n\"RT @huffingtonpost Obama Authorizes 13,000 More Troops For Afghanistan War http://retwt.me/SfDR\"],\n [{\n            'v': 471,\n            'f': \"471\",\n        },\n{\n            'v': 1,\n            'f': \"1\",\n        },\n\"political\",\n\"Brasil acompanha poss\\u00c3\\u00advel entrada de Obama em corrida por 2016: RIO (Reuters) - A poss\\u00c3\\u00advel entrada do pr.. http://bit.ly/E3UZL\"],\n [{\n            'v': 2194,\n            'f': \"2194\",\n        },\n{\n            'v': 0,\n            'f': \"0\",\n        },\n\"non-political\",\n\"at used to mark victims of the Holocaust is now painted on a military tank at a checkpoint to prevent human movement. http://ow.ly/i/5MI\"],\n [{\n            'v': 995,\n            'f': \"995\",\n        },\n{\n            'v': 1,\n            'f': \"1\",\n        },\n\"political\",\n\"Saudi Oil: A Weapon Against Iran http://bit.ly/kYADk #Oil #Iran #IranElection #politics #nuclear #Saudi #Economy (via @RealClearWorld)\"],\n [{\n            'v': 2918,\n            'f': \"2918\",\n        },\n{\n            'v': 0,\n            'f': \"0\",\n        },\n\"non-political\",\n\"l work and no play makes Jack a dull boy\"],\n [{\n            'v': 736,\n            'f': \"736\",\n        },\n{\n            'v': 1,\n            'f': \"1\",\n        },\n\"political\",\n\"Why Sarah Palin should not leave the ... - Hot Air http://bit.ly/2DlkZr\"],\n [{\n            'v': 1089,\n            'f': \"1089\",\n        },\n{\n            'v': 1,\n            'f': \"1\",\n        },\n\"political\",\n\"Obama is going to cause all homeowners to be taxed to death and lose their homes with stimulus packages people ...cont.\"],\n [{\n            'v': 1356,\n            'f': \"1356\",\n        },\n{\n            'v': 1,\n            'f': \"1\",\n        },\n\"political\",\n\"RT @BooksMoore Who the fuck constituted this Senate Finance Committee anyway? It does not remotely resemble our election results.\"],\n [{\n            'v': 1588,\n            'f': \"1588\",\n        },\n{\n            'v': 1,\n            'f': \"1\",\n        },\n\"political\",\n\"RT @vlkun Did you know Ted Kennedy was the first Senator to have a web site? (before senate.gov existed!) http://bit.ly/11VYbW\"],\n [{\n            'v': 263,\n            'f': \"263\",\n        },\n{\n            'v': 1,\n            'f': \"1\",\n        },\n\"political\",\n\"Citizens are Revolting againt the liberal washington 7 months of failure and attempt at dictatorship to the rest of the population WAKEUP\"],\n [{\n            'v': 994,\n            'f': \"994\",\n        },\n{\n            'v': 1,\n            'f': \"1\",\n        },\n\"political\",\n\"Obama to banks: 'Rebuild our economy' http://bit.ly/7enu0Q #cnnmoney\"],\n [{\n            'v': 2969,\n            'f': \"2969\",\n        },\n{\n            'v': 0,\n            'f': \"0\",\n        },\n\"non-political\",\n\" @PRBristolblog: RT @lyndoman: way social media set up, few people have the balls to be critical. Everyone terrified of losing followers\"],\n [{\n            'v': 541,\n            'f': \"541\",\n        },\n{\n            'v': 1,\n            'f': \"1\",\n        },\n\"political\",\n\"Direct message!?! Via tweeter??? LOL RT @cnnbrk: Sources confirm Obama sent a direct message to Iranian leader http://bit.ly/1WjSwB\"],\n [{\n            'v': 2014,\n            'f': \"2014\",\n        },\n{\n            'v': 0,\n            'f': \"0\",\n        },\n\"non-political\",\n\" I want a Bacon Cheeseburger From wendys ! >:O\"],\n [{\n            'v': 558,\n            'f': \"558\",\n        },\n{\n            'v': 0,\n            'f': \"0\",\n        },\n\"non-political\",\n\"gg: Leno Told Similar Joke About Palin's Daughter http://tinyurl.com/mp535m\"],\n [{\n            'v': 1295,\n            'f': \"1295\",\n        },\n{\n            'v': 1,\n            'f': \"1\",\n        },\n\"political\",\n\"Urge members of Congress and senators to pass a global warming bill. http://bit.ly/J4ZOF\"],\n [{\n            'v': 208,\n            'f': \"208\",\n        },\n{\n            'v': 1,\n            'f': \"1\",\n        },\n\"political\",\n\"RT @pwire: GOP congressman says he wants to hunt liberal Democrats... http://pwire.us/F2 #p2\"],\n [{\n            'v': 1913,\n            'f': \"1913\",\n        },\n{\n            'v': 0,\n            'f': \"0\",\n        },\n\"non-political\",\n\"dibow loved your show keeps me sane with my two little ones!\"],\n [{\n            'v': 1203,\n            'f': \"1203\",\n        },\n{\n            'v': 1,\n            'f': \"1\",\n        },\n\"political\",\n\"Heh. RT @michellemalkin: #teaparty sign of the week: \\\"Reduce your government footprint\\\" - http://bit.ly/15J1kA #handsoff #capandtax\"],\n [{\n            'v': 2466,\n            'f': \"2466\",\n        },\n{\n            'v': 0,\n            'f': \"0\",\n        },\n\"non-political\",\n\"incsem1874 @sidfernando there does seem to be some relenting. I fear zenyatta won't get any East Coast votes, though\"],\n [{\n            'v': 601,\n            'f': \"601\",\n        },\n{\n            'v': 1,\n            'f': \"1\",\n        },\n\"political\",\n\"STAD UP AND SAY NO TO THIS STUPID OBAMA HEALTH CARE\"],\n [{\n            'v': 597,\n            'f': \"597\",\n        },\n{\n            'v': 1,\n            'f': \"1\",\n        },\n\"political\",\n\"Rede vor der Uno: Obama warnt vor Klimakatastrophe http://bit.ly/pQiei\"],\n [{\n            'v': 72,\n            'f': \"72\",\n        },\n{\n            'v': 1,\n            'f': \"1\",\n        },\n\"political\",\n\"RT @southsalem O holding yr life/lives of loved ones in Chicago socialist Rationing/Death Panel Hands - No time 2 B Polite #JoeWilson #tcot\"],\n [{\n            'v': 2283,\n            'f': \"2283\",\n        },\n{\n            'v': 0,\n            'f': \"0\",\n        },\n\"non-political\",\n\"wirlgrrrl Yep. I used the Aplix on the book bag too. And snaps. Gawd. I have 150 nappies here to snap. #FML\"],\n [{\n            'v': 383,\n            'f': \"383\",\n        },\n{\n            'v': 1,\n            'f': \"1\",\n        },\n\"political\",\n\"Iran's President Rails Against Capitalism http://bit.ly/2LnprN\"],\n [{\n            'v': 895,\n            'f': \"895\",\n        },\n{\n            'v': 1,\n            'f': \"1\",\n        },\n\"political\",\n\"Sadly..we can't get Cha for Tea on a daily basis anymore..stupid economy raise already so I can get some boba!!...and clothes and charity...\"],\n [{\n            'v': 1527,\n            'f': \"1527\",\n        },\n{\n            'v': 1,\n            'f': \"1\",\n        },\n\"political\",\n\"#justcause u work for the government doesn't mean shit. Bitch u don know obama personally\"],\n [{\n            'v': 574,\n            'f': \"574\",\n        },\n{\n            'v': 1,\n            'f': \"1\",\n        },\n\"political\",\n\"Biofuel development a burning priority for Obama camp -- chicagotribune.com http://bit.ly/8CzLK\"],\n [{\n            'v': 860,\n            'f': \"860\",\n        },\n{\n            'v': 1,\n            'f': \"1\",\n        },\n\"political\",\n\"Photo: Get yourself a Recession iPhone Case! It\\u00e2\\u20ac\\u2122s been a tough economy for a while now, so why not buy a... http://tumblr.com/xlc32bepv\"],\n [{\n            'v': 3049,\n            'f': \"3049\",\n        },\n{\n            'v': 0,\n            'f': \"0\",\n        },\n\"non-political\",\n\"ANIdotCOM lmao I am not cuff master flex shut up. You work today?\"],\n [{\n            'v': 1820,\n            'f': \"1820\",\n        },\n{\n            'v': 0,\n            'f': \"0\",\n        },\n\"non-political\",\n\"\\u20ac\\u00e0\\u00b8\\u203a\\u00e0\\u00b8\\u00b4\\u00e0\\u00b8\\u201d twit \\u00e0\\u00b8\\u2022\\u00e0\\u00b8\\u00b4\\u00e0\\u00b8\\u201d\\u00e0\\u00b8\\u2022\\u00e0\\u00b8\\u00b2\\u00e0\\u00b8\\u00a1\\u00e0\\u00b8\\u201a\\u00e0\\u00b9\\u02c6\\u00e0\\u00b8\\u00b2\\u00e0\\u00b8\\u00a7\\u00e0\\u00b8\\u00aa\\u00e0\\u00b8\\u00b2\\u00e0\\u00b8\\u00a3\\u00e0\\u00b8\\u203a\\u00e0\\u00b8\\u00a3\\u00e0\\u00b8\\u00b0\\u00e0\\u00b8\\u02c6\\u00e0\\u00b8\\u00b3\\u00e0\\u00b8\\u00a7\\u00e0\\u00b8\\u00b1\\u00e0\\u00b8\\u2122\\u00e0\\u00b8\\u00ab\\u00e0\\u00b8\\u00a2\\u00e0\\u00b8\\u00b8\\u00e0\\u00b8\\u201d ^_^\"],\n [{\n            'v': 1711,\n            'f': \"1711\",\n        },\n{\n            'v': 0,\n            'f': \"0\",\n        },\n\"non-political\",\n\"hollings i want to be together. lets work it out ok. lets be a family again. it's okay. I promise.\"],\n [{\n            'v': 2694,\n            'f': \"2694\",\n        },\n{\n            'v': 0,\n            'f': \"0\",\n        },\n\"non-political\",\n\"ove to get some Cholies Pizza and realized my Solange CD is M.I.A!!!!!\"],\n [{\n            'v': 2101,\n            'f': \"2101\",\n        },\n{\n            'v': 0,\n            'f': \"0\",\n        },\n\"non-political\",\n\"e top of my hair is blonde and the bottom is black :) i love it so much. now my family's here for a belated pat's birthday celebration.\"],\n [{\n            'v': 2277,\n            'f': \"2277\",\n        },\n{\n            'v': 0,\n            'f': \"0\",\n        },\n\"non-political\",\n\"ST BDAY EVER!\"],\n [{\n            'v': 613,\n            'f': \"613\",\n        },\n{\n            'v': 1,\n            'f': \"1\",\n        },\n\"political\",\n\"@whitehouse RTPres.Obama\\\"We call on the Iranian govt.to stop violent & unjust actions against its people\\\" #Iranelection, #Tehran, #goodnight\"],\n [{\n            'v': 2808,\n            'f': \"2808\",\n        },\n{\n            'v': 0,\n            'f': \"0\",\n        },\n\"non-political\",\n\"mos 2 *-* RT @betynha: Ai gente... depois da tuitada da @officialpausini n\\u00c3\\u00a3o vou deixar de ver o Grammy Latino na quinta! /o/\"],\n [{\n            'v': 431,\n            'f': \"431\",\n        },\n{\n            'v': 1,\n            'f': \"1\",\n        },\n\"political\",\n\"Times: Obama's Miami fundraiser nets $1.5 million http://bit.ly/2fU8HH #sayfie\"],\n [{\n            'v': 1379,\n            'f': \"1379\",\n        },\n{\n            'v': 1,\n            'f': \"1\",\n        },\n\"political\",\n\"[Tweets]: Government takeover of MRT 3 will not increase fare, management assures http://bit.ly/7483W\"],\n [{\n            'v': 299,\n            'f': \"299\",\n        },\n{\n            'v': 1,\n            'f': \"1\",\n        },\n\"political\",\n\"@carney on CNBC calls the push for home ownership \\\"the most toxic ideology since the fall of communism\\\" (via @antderosa) -- I did say that!\"],\n [{\n            'v': 1117,\n            'f': \"1117\",\n        },\n{\n            'v': 0,\n            'f': \"0\",\n        },\n\"non-political\",\n\" @tmarketinglady Join me LIVE on my Marketing in A Tough Economy show on #BlogTalkRadio at http://tobtr.com/s/704765 or call (646) 478-05\"],\n [{\n            'v': 1445,\n            'f': \"1445\",\n        },\n{\n            'v': 0,\n            'f': \"0\",\n        },\n\"non-political\",\n\"w post: Event Alert: 16th ITS World Congress \\u00e2\\u20ac\\u201d Sept 21-25, 2009 @ Stockholm, Sweden - http://tinyurl.com/llbqyd\"],\n [{\n            'v': 417,\n            'f': \"417\",\n        },\n{\n            'v': 0,\n            'f': \"0\",\n        },\n\"non-political\",\n\" you were to sing \\\"Rock me Amadeus\\\" with \\\"ba ba ba\\\" backing singers, you would be singing \\\"Barack Obama\\\" if you got the timing right.\"],\n [{\n            'v': 368,\n            'f': \"368\",\n        },\n{\n            'v': 0,\n            'f': \"0\",\n        },\n\"non-political\",\n\" @anarchists: The Peltier Story video from first hand witnesses http://bit.ly/OOHTM make your own mind #indigenous\"],\n [{\n            'v': 646,\n            'f': \"646\",\n        },\n{\n            'v': 1,\n            'f': \"1\",\n        },\n\"political\",\n\"After Obama: The anxiety is about an extremist minority. The recent arrest of a group of young Americans who so.. http://bit.ly/1cQLyL\"],\n [{\n            'v': 2716,\n            'f': \"2716\",\n        },\n{\n            'v': 0,\n            'f': \"0\",\n        },\n\"non-political\",\n\"r Waterloo Road Clip of the Week (2/11/2009) http://bit.ly/3i4c9P\"],\n [{\n            'v': 2316,\n            'f': \"2316\",\n        },\n{\n            'v': 0,\n            'f': \"0\",\n        },\n\"non-political\",\n\"egendaryMe lmao @ grass ass I need to twit u everytime I get high lol. Ps stop pickin on me on my fb status too :)\"],\n [{\n            'v': 236,\n            'f': \"236\",\n        },\n{\n            'v': 0,\n            'f': \"0\",\n        },\n\"non-political\",\n\"rprise! Apparently a logo on the new 2010 Olympic apparel resembles the Conservative Party logo RT @ctvbc: http://bit.ly/LwLah\"],\n [{\n            'v': 728,\n            'f': \"728\",\n        },\n{\n            'v': 1,\n            'f': \"1\",\n        },\n\"political\",\n\"Want to know where Obama has eaten in the DC Metro area? http://tr.im/qw3Z #obama (via @washingtonpost)\"],\n [{\n            'v': 949,\n            'f': \"949\",\n        },\n{\n            'v': 1,\n            'f': \"1\",\n        },\n\"political\",\n\"@Jack_Scott Well, his opposition to the Iraq war for one. Most of what he was saying in '83 remains valid - many of his ideas haven't yet...\"],\n [{\n            'v': 2922,\n            'f': \"2922\",\n        },\n{\n            'v': 0,\n            'f': \"0\",\n        },\n\"non-political\",\n\" @graciasno: Pens\\u00c3\\u00a9 que se me hab\\u00c3\\u00ada desprendido la retina, pero no, solo es el nuevo avatar de @luisricardu << \\u00c2\\u00a1Funciona!\"],\n [{\n            'v': 310,\n            'f': \"310\",\n        },\n{\n            'v': 0,\n            'f': \"0\",\n        },\n\"non-political\",\n\"rking on my speech for the NFRA convention in Reno this Saturday. Topic is Christianity and the origins of capitalism. #fb\"],\n [{\n            'v': 2968,\n            'f': \"2968\",\n        },\n{\n            'v': 0,\n            'f': \"0\",\n        },\n\"non-political\",\n\" @sheydajahanbin: \\u00d8\\u00aa\\u00d9\\u2021\\u00d8\\u00af\\u00db\\u0152\\u00d8\\u00af\\u00d9\\u2021\\u00d8\\u00a7 \\u00d8\\u00a8\\u00d9\\u2021 \\u00d8\\u00ac\\u00d8\\u00a7\\u00db\\u0152\\u00db\\u0152 \\u00d9\\u2020\\u00d9\\u2026\\u00db\\u0152\\u00d8\\u00b1\\u00d8\\u00b3\\u00d8\\u00af\\u00d8\\u0152 \\u00d8\\u00ad\\u00d8\\u00b6\\u00d9\\u02c6\\u00d8\\u00b1 \\u00d9\\u2026\\u00d8\\u00b1\\u00d8\\u00af\\u00d9\\u2026 \\u00d9\\u201a\\u00d8\\u00b7\\u00d8\\u00b9\\u00db\\u0152 \\u00d8\\u00a7\\u00d8\\u00b3\\u00d8\\u00aa | \\u00d8\\u00b4\\u00db\\u0152\\u00d8\\u00af\\u00d8\\u00a7 \\u00d8\\u00ac\\u00d9\\u2021\\u00d8\\u00a7\\u00d9\\u2020\\u00d8\\u00a8\\u00db\\u0152\\u00d9\\u2020 http://ff.im/aUDEz #iranelection #iran\"],\n [{\n            'v': 2442,\n            'f': \"2442\",\n        },\n{\n            'v': 0,\n            'f': \"0\",\n        },\n\"non-political\",\n\"e design I love... from Norway: http://www.bleed.no/ great website and identity (via @Heuserkampf)\"],\n [{\n            'v': 2757,\n            'f': \"2757\",\n        },\n{\n            'v': 0,\n            'f': \"0\",\n        },\n\"non-political\",\n\"he_Darth_Vader And just because she is your wife doesn't mean she is never at fault.\"],\n [{\n            'v': 3109,\n            'f': \"3109\",\n        },\n{\n            'v': 0,\n            'f': \"0\",\n        },\n\"non-political\",\n\"nths later+it still makes me smile 2remember when my Mom called my pink blackberry a raspberry! I think she did so on purpose which rocks!\"],\n [{\n            'v': 2475,\n            'f': \"2475\",\n        },\n{\n            'v': 0,\n            'f': \"0\",\n        },\n\"non-political\",\n\"ubasheshines suba can you send me the picture of me and tyson? pleaseeee and thank you! love\"],\n [{\n            'v': 1103,\n            'f': \"1103\",\n        },\n{\n            'v': 1,\n            'f': \"1\",\n        },\n\"political\",\n\"RT @Parsa_SH Open Letter to President Obama on Camp #Ashraf http://bit.ly/159I01 #iraq #iran #humanrights\"],\n [{\n            'v': 2632,\n            'f': \"2632\",\n        },\n{\n            'v': 0,\n            'f': \"0\",\n        },\n\"non-political\",\n\"risMcBrain haha, ae taco uns hooks in you\"],\n [{\n            'v': 2413,\n            'f': \"2413\",\n        },\n{\n            'v': 0,\n            'f': \"0\",\n        },\n\"non-political\",\n\"ocolom \\u00e3\\u0081\\u009d\\u00e3\\u0081\\u2020\\u00e3\\u0081\\u201e\\u00e3\\u0081\\u02c6\\u00e3\\u0081\\u00b0\\u00e3\\u0081\\u00ad\\u00e4\\u00bb\\u0160\\u00e6\\u2014\\u00a5\\u00e3\\u0081\\u00aa\\u00e3\\u201a\\u201c\\u00e3\\u0081\\u00a8\\u00e3\\u0081\\u00aa\\u00e3\\u0081\\u008f\\u00e3\\u0192\\u00a9\\u00e3\\u0192\\u00bc\\u00e3\\u0192\\u00a1\\u00e3\\u0192\\u00b3\\u00e5\\u00b1\\u2039\\u00e3\\u0081\\u00ab\\u00e5\\u2026\\u00a5\\u00e3\\u0081\\u00a3\\u00e3\\u0081\\u0178\\u00e3\\u201a\\u2030\\u00e6\\u2122\\u00ae\\u00e9\\u20ac\\u0161\\u00e3\\u0081\\u00ab\\u00e8\\u00b1\\u0161\\u00e3\\u0081\\u00ae\\u00e9\\u00a4\\u0152\\u00e3\\u0081\\u00a0\\u00e3\\u0081\\u2022\\u00e3\\u201a\\u0152\\u00e3\\u0081\\u00a6\\u00e3\\u0081\\u00b3\\u00e3\\u0081\\u00a3\\u00e3\\u0081\\u008f\\u00e3\\u201a\\u0160\\u00e3\\u0081\\u2014\\u00e3\\u0081\\u0178\\u00e3\\u0081\\u00ad \\u00e3\\u0081\\u00be\\u00e3\\u0081\\u0161\\u00e3\\u0081\\u008f\\u00e3\\u0081\\u00af\\u00e3\\u0081\\u00aa\\u00e3\\u0081\\u2039\\u00e3\\u0081\\u00a3\\u00e3\\u0081\\u0178\"],\n [{\n            'v': 86,\n            'f': \"86\",\n        },\n{\n            'v': 1,\n            'f': \"1\",\n        },\n\"political\",\n\"Liberals are stupid and you can't fix stupid!\"],\n [{\n            'v': 2345,\n            'f': \"2345\",\n        },\n{\n            'v': 0,\n            'f': \"0\",\n        },\n\"non-political\",\n\"lxi Review Blog \\u00c2\\u00bb Blog Archive \\u00c2\\u00bb Where You can Enjoy Online Casinos http://cli.gs/YVUQU\"],\n [{\n            'v': 2895,\n            'f': \"2895\",\n        },\n{\n            'v': 0,\n            'f': \"0\",\n        },\n\"non-political\",\n\"riglandorf pshh bitch please i gt a Lexus hahaha\"],\n [{\n            'v': 1459,\n            'f': \"1459\",\n        },\n{\n            'v': 1,\n            'f': \"1\",\n        },\n\"political\",\n\"Korean government plans to increase its spending by 2.5 percent next year to finance more research and development (R&D)\"],\n [{\n            'v': 3100,\n            'f': \"3100\",\n        },\n{\n            'v': 0,\n            'f': \"0\",\n        },\n\"non-political\",\n\" @CrossLifeVero: The will of God for the believer is never guilt-motivated but God motivated.... Christ at work in you the hope of Glory.\"],\n [{\n            'v': 2663,\n            'f': \"2663\",\n        },\n{\n            'v': 0,\n            'f': \"0\",\n        },\n\"non-political\",\n\"upernova111 ahh feel better! i woke up at 3AM to a throat on fire and slept through my first two classes today. :/\"],\n [{\n            'v': 3055,\n            'f': \"3055\",\n        },\n{\n            'v': 0,\n            'f': \"0\",\n        },\n\"non-political\",\n\" @sullivanbc: @seacoastcrepes if you can get through the red tape, we'd love to have you in #portsmouthnh {I second that! Good luck!}\"],\n [{\n            'v': 547,\n            'f': \"547\",\n        },\n{\n            'v': 1,\n            'f': \"1\",\n        },\n\"political\",\n\"RT @bludworth RT @LasVegasSun: Poll: Either GOP challenger could topple Harry Reid http://bit.ly/tgMVL\"],\n [{\n            'v': 104,\n            'f': \"104\",\n        },\n{\n            'v': 0,\n            'f': \"0\",\n        },\n\"non-political\",\n\"en I've had a stupid day, I should get a free back rub. I guess that makes me a socialist!\"],\n [{\n            'v': 1703,\n            'f': \"1703\",\n        },\n{\n            'v': 0,\n            'f': \"0\",\n        },\n\"non-political\",\n\"vanLopp definately!! lah! not much just passing out candy and such....how ya' doin?\"],\n [{\n            'v': 1727,\n            'f': \"1727\",\n        },\n{\n            'v': 0,\n            'f': \"0\",\n        },\n\"non-political\",\n\"stening to \\\"Paul McCartney - Nineteen Hundred And Eighty Five\\\" \\u00e2\\u2122\\u00ab http://blip.fm/~fp50n\"],\n [{\n            'v': 257,\n            'f': \"257\",\n        },\n{\n            'v': 1,\n            'f': \"1\",\n        },\n\"political\",\n\"@irasocol Apparently, the idea that the education of our youth is a shared community responsibility is one small step from socialism.\"],\n [{\n            'v': 351,\n            'f': \"351\",\n        },\n{\n            'v': 1,\n            'f': \"1\",\n        },\n\"political\",\n\"Brilliant summary. RT @BernardKeane: At The Stump: the Liberals and their singular ineptitude at leadership: http://bit.ly/7v35uL\"],\n [{\n            'v': 2211,\n            'f': \"2211\",\n        },\n{\n            'v': 0,\n            'f': \"0\",\n        },\n\"non-political\",\n\"it Amigurumi Sea Creatures http://bit.ly/3u7qGt\"],\n [{\n            'v': 565,\n            'f': \"565\",\n        },\n{\n            'v': 1,\n            'f': \"1\",\n        },\n\"political\",\n\"IRS halts inquiry into Warroad pastor who endorsed McCain from pulpit http://bit.ly/2yCJ7R Fremont Tax Prep\"],\n [{\n            'v': 3027,\n            'f': \"3027\",\n        },\n{\n            'v': 0,\n            'f': \"0\",\n        },\n\"non-political\",\n\"areKnuckleDawg you gone walkabout??\"],\n [{\n            'v': 2647,\n            'f': \"2647\",\n        },\n{\n            'v': 0,\n            'f': \"0\",\n        },\n\"non-political\",\n\"fordable vitamins and multivitamins are custom made for you only:Info@ http://bit.ly/idealH #6220206\"],\n [{\n            'v': 1673,\n            'f': \"1673\",\n        },\n{\n            'v': 0,\n            'f': \"0\",\n        },\n\"non-political\",\n\"isteningto david cook - always be my baby\"],\n [{\n            'v': 112,\n            'f': \"112\",\n        },\n{\n            'v': 1,\n            'f': \"1\",\n        },\n\"political\",\n\"@ohjaycee haha are all your subs on marxism and communism?\"],\n [{\n            'v': 1733,\n            'f': \"1733\",\n        },\n{\n            'v': 0,\n            'f': \"0\",\n        },\n\"non-political\",\n\"\\u00a9\\u00e3\\u0081\\u201e\\u00e3\\u0081\\u00a6\\u00e6\\u2013\\u00b0\\u00e5\\u00ae\\u00bf\\u00e3\\u0081\\u00aa\\u00e3\\u0081\\u2020\\u00e3\\u20ac\\u201a http://twitpic.com/ntyl6\"],\n [{\n            'v': 878,\n            'f': \"878\",\n        },\n{\n            'v': 1,\n            'f': \"1\",\n        },\n\"political\",\n\"Rudy: stimulus money favoring Dem districts [http://tinyurl.com/na879k]\"],\n [{\n            'v': 626,\n            'f': \"626\",\n        },\n{\n            'v': 1,\n            'f': \"1\",\n        },\n\"political\",\n\"Obama's no fun for political comedians... http://bit.ly/JeRz0\"],\n [{\n            'v': 501,\n            'f': \"501\",\n        },\n{\n            'v': 1,\n            'f': \"1\",\n        },\n\"political\",\n\"Obama snubs Bush, and recognizes helen Thomas in a big way. http://bit.ly/UyMEB via @addthis\"],\n [{\n            'v': 2609,\n            'f': \"2609\",\n        },\n{\n            'v': 0,\n            'f': \"0\",\n        },\n\"non-political\",\n\"gger the thief you are, lesser chances of being abused ..\"],\n [{\n            'v': 799,\n            'f': \"799\",\n        },\n{\n            'v': 1,\n            'f': \"1\",\n        },\n\"political\",\n\"@USACBI boycott Canada USA IRAQ IRAN and the whole world dear ... #israel\"],\n [{\n            'v': 2580,\n            'f': \"2580\",\n        },\n{\n            'v': 0,\n            'f': \"0\",\n        },\n\"non-political\",\n\"m going to see Anne early or late.. Pick one & come along RT @TheiTGuRlE: Im off. RT @NadiaNataliax3 What time uGo in on Friday ?\"],\n [{\n            'v': 2297,\n            'f': \"2297\",\n        },\n{\n            'v': 0,\n            'f': \"0\",\n        },\n\"non-political\",\n\"AM Vs TV LIVE FROM VEGAS with SPecial Guest Vegas Own Hip Hop Sensation Retna Later BAM will Have another MC DOC http://tiny.cc/XlLMp\"],\n [{\n            'v': 141,\n            'f': \"141\",\n        },\n{\n            'v': 0,\n            'f': \"0\",\n        },\n\"non-political\",\n\"ogressive Starts Plan To Aid Insurance Agents' Online Sales http://ow.ly/15KTWc\"],\n [{\n            'v': 2129,\n            'f': \"2129\",\n        },\n{\n            'v': 0,\n            'f': \"0\",\n        },\n\"non-political\",\n\"earsmanyhats I did! I think I ate enough for the both of us. I don't feel so well! :)\"],\n [{\n            'v': 2280,\n            'f': \"2280\",\n        },\n{\n            'v': 0,\n            'f': \"0\",\n        },\n\"non-political\",\n\"ota_Angelus Voc\\u00c3\\u00aa falou seu tim\\u00c3\\u00a3o, achei que voc\\u00c3\\u00aa fosse corinthiano haha. Mas enfim, voc\\u00c3\\u00aa \\u00c3\\u00a9? Se n\\u00c3\\u00a3o, qual seu tim\\u00c3\\u00a3o? haha\"],\n [{\n            'v': 2307,\n            'f': \"2307\",\n        },\n{\n            'v': 0,\n            'f': \"0\",\n        },\n\"non-political\",\n\"\\u00a5\\u00e6\\u0153\\u00ac\\u00ef\\u00bd\\u00b5\\u00ef\\u00be\\u0153\\u00ef\\u00be\\u0192\\u00ef\\u00be\\u20ac\\u00ef\\u00bc\\u00bc(\\u00ef\\u00bc\\u00beo\\u00ef\\u00bc\\u00be)\\u00ef\\u00bc\\u008f\"],\n [{\n            'v': 3156,\n            'f': \"3156\",\n        },\n{\n            'v': 0,\n            'f': \"0\",\n        },\n\"non-political\",\n\"have found signal in my class, they need to stop blocking it haha\"],\n [{\n            'v': 680,\n            'f': \"680\",\n        },\n{\n            'v': 1,\n            'f': \"1\",\n        },\n\"political\",\n\"Twitter News Michelle Obama's Mommy Bloomers | Chicago News on Twitter: What wizened, saggy chin.. http://bit.ly/3uZPwc\"],\n [{\n            'v': 576,\n            'f': \"576\",\n        },\n{\n            'v': 0,\n            'f': \"0\",\n        },\n\"non-political\",\n\"-BBC: Obama hosts race row beer reunion . More #Obama #news - http://tinyurl.com/ltvgvk\"],\n [{\n            'v': 2358,\n            'f': \"2358\",\n        },\n{\n            'v': 0,\n            'f': \"0\",\n        },\n\"non-political\",\n\"issMurderFabs lol\"],\n [{\n            'v': 1553,\n            'f': \"1553\",\n        },\n{\n            'v': 1,\n            'f': \"1\",\n        },\n\"political\",\n\"Curt Schilling says Senate run 'would be fun': A day after writing on his blog that he has \\\"some interest\\\" in ru.. http://bit.ly/4tGyYW\"],\n [{\n            'v': 996,\n            'f': \"996\",\n        },\n{\n            'v': 1,\n            'f': \"1\",\n        },\n\"political\",\n\"Lioness - a film about the first women combat vets from Iraq http://www.youtube.com/user/lionessthefilm\"],\n [{\n            'v': 1570,\n            'f': \"1570\",\n        },\n{\n            'v': 1,\n            'f': \"1\",\n        },\n\"political\",\n\"Senate to vote Thursday on 'cash for clunkers': Senate Majority Leader Harry Reid announced an agreement with Re.. http://bit.ly/1zpTQ9\"],\n [{\n            'v': 2681,\n            'f': \"2681\",\n        },\n{\n            'v': 0,\n            'f': \"0\",\n        },\n\"non-political\",\n\"miss you friend! i miss you!\"],\n [{\n            'v': 449,\n            'f': \"449\",\n        },\n{\n            'v': 1,\n            'f': \"1\",\n        },\n\"political\",\n\"NEW: Obama's George Bush Problem http://bit.ly/1aNFy0\"],\n [{\n            'v': 2511,\n            'f': \"2511\",\n        },\n{\n            'v': 0,\n            'f': \"0\",\n        },\n\"non-political\",\n\" @wikidsystems: The Shmoo bus? http://bit.ly/3LMjWr. hahaha!\"],\n [{\n            'v': 682,\n            'f': \"682\",\n        },\n{\n            'v': 1,\n            'f': \"1\",\n        },\n\"political\",\n\"Good column by @JoeNBC about Pres. Obama's attempt to bring the #2016Olympics home and bipartisanship: http://is.gd/3WuI4 #politics\"],\n [{\n            'v': 661,\n            'f': \"661\",\n        },\n{\n            'v': 1,\n            'f': \"1\",\n        },\n\"political\",\n\"WSJ covered Obama's decision to go to Copenhagen http://tinyurl.com/yczfer9. Vote at http://tinyurl.com/dbxh22.\"],\n [{\n            'v': 670,\n            'f': \"670\",\n        },\n{\n            'v': 1,\n            'f': \"1\",\n        },\n\"political\",\n\"What\\u00e2\\u20ac\\u2122s Obama Leaving Out of His Prescription for America?http://bit.ly/4x0Urb\"],\n [{\n            'v': 1596,\n            'f': \"1596\",\n        },\n{\n            'v': 1,\n            'f': \"1\",\n        },\n\"political\",\n\"@senjohnmccain Are you for or against a government-run plan? What will Canadians do, if we wreck our system? #handsoff http://bit.ly/16zQ2P\"],\n [{\n            'v': 3000,\n            'f': \"3000\",\n        },\n{\n            'v': 0,\n            'f': \"0\",\n        },\n\"non-political\",\n\"e best way to get 100 followers faster is using http://snipurl.com/sg0r1 .\"],\n [{\n            'v': 2504,\n            'f': \"2504\",\n        },\n{\n            'v': 0,\n            'f': \"0\",\n        },\n\"non-political\",\n\"sting on Saturday 7th November - \\\"For the start & end of a meal\\\". In the shop. Just turn up.\"],\n [{\n            'v': 2638,\n            'f': \"2638\",\n        },\n{\n            'v': 0,\n            'f': \"0\",\n        },\n\"non-political\",\n\"od morning and happy Monday! Hope people are enjoying that extra hour ;) ... before we all get used to it that is\"],\n [{\n            'v': 3076,\n            'f': \"3076\",\n        },\n{\n            'v': 0,\n            'f': \"0\",\n        },\n\"non-political\",\n\"need 10 CL pva's ASAP will pay for quality and service by seeker28 http://bit.ly/1Y3M3E\"],\n [{\n            'v': 3073,\n            'f': \"3073\",\n        },\n{\n            'v': 0,\n            'f': \"0\",\n        },\n\"non-political\",\n\"y Stories are an Effective Communication Tool for Your Blog: As I write this it is the first Tuesday morning of a ... http://bit.ly/10VFgc\"],\n [{\n            'v': 127,\n            'f': \"127\",\n        },\n{\n            'v': 1,\n            'f': \"1\",\n        },\n\"political\",\n\"#Digg this: Socialists: Big Losers in German Vote - Merkel Wins http://digg.com/u1DDBd #digguser [RT]\"],\n [{\n            'v': 972,\n            'f': \"972\",\n        },\n{\n            'v': 1,\n            'f': \"1\",\n        },\n\"political\",\n\"rt @vtel001 Israel's lively start-up culture keeps economy thriving - http://bit.ly/aLLNP #cnn #israel #palestine #bds #diversify #bdsfail\"],\n [{\n            'v': 2945,\n            'f': \"2945\",\n        },\n{\n            'v': 0,\n            'f': \"0\",\n        },\n\"non-political\",\n\"lckshpby poop. Vancen from bgoz is organising the tour for April. Yayyyyyyyyy\"],\n [{\n            'v': 2135,\n            'f': \"2135\",\n        },\n{\n            'v': 0,\n            'f': \"0\",\n        },\n\"non-political\",\n\"heworst going out wit someone and they say \\\"aw man I forgot my money\\\"\"],\n [{\n            'v': 94,\n            'f': \"94\",\n        },\n{\n            'v': 0,\n            'f': \"0\",\n        },\n\"non-political\",\n\"love360 You're delusional, and have still provided NO EVIDENCE. I'm honestly wondering if this is a racial/nationalist issue for you.\"],\n [{\n            'v': 103,\n            'f': \"103\",\n        },\n{\n            'v': 1,\n            'f': \"1\",\n        },\n\"political\",\n\"@VetsOnTheWatch Libs must hate it when conservatives take their ad-hominems and use them as proud monikers to show who we are.\"],\n [{\n            'v': 2326,\n            'f': \"2326\",\n        },\n{\n            'v': 0,\n            'f': \"0\",\n        },\n\"non-political\",\n\"vin the Magic Mouse; not so much the hangover.\"],\n [{\n            'v': 2042,\n            'f': \"2042\",\n        },\n{\n            'v': 0,\n            'f': \"0\",\n        },\n\"non-political\",\n\" the Broncos lose to the Ravens I will brutally murder Ray Lewis.\"],\n [{\n            'v': 777,\n            'f': \"777\",\n        },\n{\n            'v': 1,\n            'f': \"1\",\n        },\n\"political\",\n\"De-baptism's?? - (Political Hotwire) http://bit.ly/fCt9p #tcot #obama\"],\n [{\n            'v': 901,\n            'f': \"901\",\n        },\n{\n            'v': 1,\n            'f': \"1\",\n        },\n\"political\",\n\"White House: 'Cheney failed on Afghanistan' http://bit.ly/XPVoh http://bit.ly/1zdKiC\"],\n [{\n            'v': 2269,\n            'f': \"2269\",\n        },\n{\n            'v': 0,\n            'f': \"0\",\n        },\n\"non-political\",\n\"lking with some peple on myspace while watching tv and eating popcorns:) how's everyone doing?\"],\n [{\n            'v': 3060,\n            'f': \"3060\",\n        },\n{\n            'v': 0,\n            'f': \"0\",\n        },\n\"non-political\",\n\"tta love old school tv in the morning. man saved by the bell is cheeeeesy\"],\n [{\n            'v': 2068,\n            'f': \"2068\",\n        },\n{\n            'v': 0,\n            'f': \"0\",\n        },\n\"non-political\",\n\"ke this from Kurt Herbert Alder \\\"Tradition is what you resort to when you don't have the time or the money to do it right.\\\"\"],\n [{\n            'v': 335,\n            'f': \"335\",\n        },\n{\n            'v': 1,\n            'f': \"1\",\n        },\n\"political\",\n\"RT @impolitical: Conservatives strike \\\"gender equality\\\" from Canadian foreign policy http://bit.ly/47E3zH\"],\n [{\n            'v': 440,\n            'f': \"440\",\n        },\n{\n            'v': 1,\n            'f': \"1\",\n        },\n\"political\",\n\"RT foxnews President Obama Statement on Iran. Statement by President Barack Obama on Iran November... http://tinyurl.com/yfadmpu\"],\n [{\n            'v': 3010,\n            'f': \"3010\",\n        },\n{\n            'v': 0,\n            'f': \"0\",\n        },\n\"non-political\",\n\"This afternoon I'm going to watch the Michael Jackson film. This is it.\"],\n [{\n            'v': 2791,\n            'f': \"2791\",\n        },\n{\n            'v': 0,\n            'f': \"0\",\n        },\n\"non-political\",\n\"ck.. and only a tweet from @patkSTEREOS would make my day and make me feel somewhat better. i love you pat! -xo\\u00e2\\u2122\\u00a5 (tweet back?)\"],\n [{\n            'v': 2892,\n            'f': \"2892\",\n        },\n{\n            'v': 0,\n            'f': \"0\",\n        },\n\"non-political\",\n\"w to downgrade the psp from firmware 6.10 to 3.75???? anyone please reply???\"],\n [{\n            'v': 2155,\n            'f': \"2155\",\n        },\n{\n            'v': 0,\n            'f': \"0\",\n        },\n\"non-political\",\n\"onajkgirl ;) you seen some of the follows? one in particular\"],\n [{\n            'v': 3174,\n            'f': \"3174\",\n        },\n{\n            'v': 0,\n            'f': \"0\",\n        },\n\"non-political\",\n\"ould I stay my sick ass at home, people? Whats the verdict? I don't usually do sick days. I normally just push through it. Well?\"],\n [{\n            'v': 2506,\n            'f': \"2506\",\n        },\n{\n            'v': 0,\n            'f': \"0\",\n        },\n\"non-political\",\n\"like training ppl . it's awesome . but I much rather go home . I think I have the flu! this doesn't feel like a normal cold!\"],\n [{\n            'v': 1930,\n            'f': \"1930\",\n        },\n{\n            'v': 0,\n            'f': \"0\",\n        },\n\"non-political\",\n\"es Webladen (L\\u00c3\\u00bcbeck, von LobUndTadel): 5 von 5 Punkten Hier bekommt man Bildwebereien, transparent gewebte Be.. http://bit.ly/dHEFg\"],\n [{\n            'v': 119,\n            'f': \"119\",\n        },\n{\n            'v': 1,\n            'f': \"1\",\n        },\n\"political\",\n\"Sigh.Of course the liberal chimes in.. If you think something like that is nasty , ur \\\" homophobic\\\" or \\\" not open minded\\\". @prettipancakes\"],\n [{\n            'v': 2804,\n            'f': \"2804\",\n        },\n{\n            'v': 0,\n            'f': \"0\",\n        },\n\"non-political\",\n\"w Is Ray-J Looking For Love And He About To Have A Child\"],\n [{\n            'v': 353,\n            'f': \"353\",\n        },\n{\n            'v': 1,\n            'f': \"1\",\n        },\n\"political\",\n\"I have no sympathy for dumb liberals who make a million jobs evaporate under their watch. I loved it! Victory for ... http://bit.ly/3PQklJ\"],\n [{\n            'v': 1751,\n            'f': \"1751\",\n        },\n{\n            'v': 0,\n            'f': \"0\",\n        },\n\"non-political\",\n\"like how none of the little kids come to my house cause my drive way is scarey haha. More candy for me!\"],\n [{\n            'v': 2251,\n            'f': \"2251\",\n        },\n{\n            'v': 0,\n            'f': \"0\",\n        },\n\"non-political\",\n\"DUBSLBCgirl heehee. She might have the title.\"],\n [{\n            'v': 314,\n            'f': \"314\",\n        },\n{\n            'v': 1,\n            'f': \"1\",\n        },\n\"political\",\n\"RT @TimOwensby \\\"Life doesn't last longer in socialist countries; it just feels like it.\\\" - Ann Coulter http://bit.ly/YiSPA #ocra #hcr #hc09\"],\n [{\n            'v': 1477,\n            'f': \"1477\",\n        },\n{\n            'v': 1,\n            'f': \"1\",\n        },\n\"political\",\n\"RT @Paloma: \\\"British government tells civil servants to tweet\\\" http://tr.im/BritishTW1\"],\n [{\n            'v': 2722,\n            'f': \"2722\",\n        },\n{\n            'v': 0,\n            'f': \"0\",\n        },\n\"non-political\",\n\"d you know that you could sign up to SponsoredTweets & make some money tweeting! http://bit.ly/3F9FaX #ad\"],\n [{\n            'v': 249,\n            'f': \"249\",\n        },\n{\n            'v': 1,\n            'f': \"1\",\n        },\n\"political\",\n\"America has grown up, despite liberal missives. The business world is well developed and capable of renewal. US govt expansion is not!\"],\n [{\n            'v': 2953,\n            'f': \"2953\",\n        },\n{\n            'v': 0,\n            'f': \"0\",\n        },\n\"non-political\",\n\"D RT @inquirerdotnet: Gov't employees to get tax-free 14th month pay, P15K cash gift http://tinyurl.com/ydn4clq\"],\n [{\n            'v': 577,\n            'f': \"577\",\n        },\n{\n            'v': 1,\n            'f': \"1\",\n        },\n\"political\",\n\"Obama organizers concerned about Palin's health-care clout: http://bit.ly/32tjQb\"],\n [{\n            'v': 1800,\n            'f': \"1800\",\n        },\n{\n            'v': 0,\n            'f': \"0\",\n        },\n\"non-political\",\n\"g. did i tell you how much i love Phil Collins? &lt;3\"],\n [{\n            'v': 216,\n            'f': \"216\",\n        },\n{\n            'v': 1,\n            'f': \"1\",\n        },\n\"political\",\n\"@stopbeck mayB Lexus has found out that it is mostly the conservatives are the 1's who drive and can afford their sticker price?\"],\n [{\n            'v': 1973,\n            'f': \"1973\",\n        },\n{\n            'v': 0,\n            'f': \"0\",\n        },\n\"non-political\",\n\"tp://www.griph1n1.com.ua/\"],\n [{\n            'v': 3143,\n            'f': \"3143\",\n        },\n{\n            'v': 0,\n            'f': \"0\",\n        },\n\"non-political\",\n\" @dotkite: 2 operational years for Dot Kite in Athens. Learn more http://bit.ly/1LckPk\"],\n [{\n            'v': 818,\n            'f': \"818\",\n        },\n{\n            'v': 1,\n            'f': \"1\",\n        },\n\"political\",\n\"Counterinsurgency, Airstrikes and Incoherence in Afghanistan and related posts @ (http://cli.gs/eerPB)\"],\n [{\n            'v': 336,\n            'f': \"336\",\n        },\n{\n            'v': 1,\n            'f': \"1\",\n        },\n\"political\",\n\"Progressive health care reform involves providing opportunity for individuals to increase their personal wealth & health. Public opt doesn't\"],\n [{\n            'v': 2773,\n            'f': \"2773\",\n        },\n{\n            'v': 0,\n            'f': \"0\",\n        },\n\"non-political\",\n\"iedre_Vance No kiddin'. *he selects an open faced cannoli* Gotta talk with the owner about that. Oh wait... *grins* -I- am the owner.\"],\n [{\n            'v': 265,\n            'f': \"265\",\n        },\n{\n            'v': 1,\n            'f': \"1\",\n        },\n\"political\",\n\"CBCtop: Tories making inroads in Toronto, poll suggests: After a summer that saw the federal Conservatives and Liberals http://url4.eu/Vl97\"],\n [{\n            'v': 1337,\n            'f': \"1337\",\n        },\n{\n            'v': 1,\n            'f': \"1\",\n        },\n\"political\",\n\"@cnn @Foxnews 202.224.3121 TELL DEMOCRATS REPUBLICANS & ANY OTHER LIAR WHO VOTES FOR GOVERNMENT RUN HEALTHCARE INSURANCE TO PACK THEIR BAGS\"],\n [{\n            'v': 2259,\n            'f': \"2259\",\n        },\n{\n            'v': 0,\n            'f': \"0\",\n        },\n\"non-political\",\n\"ys http://tinyurl.com/mgfww2 http://plurk.com/p/2h79d3\"],\n [{\n            'v': 707,\n            'f': \"707\",\n        },\n{\n            'v': 1,\n            'f': \"1\",\n        },\n\"political\",\n\"RT @rdickerhoof In the time it takes to read Pelosi's bill, you could have read the Constitution 111 times. #ocra #tcot #tlot #killbill #hcr\"],\n [{\n            'v': 2667,\n            'f': \"2667\",\n        },\n{\n            'v': 0,\n            'f': \"0\",\n        },\n\"non-political\",\n\"ves @laureennxo and @cassiiebianca sooooo much its redonc\"],\n [{\n            'v': 709,\n            'f': \"709\",\n        },\n{\n            'v': 1,\n            'f': \"1\",\n        },\n\"political\",\n\"Really? RT @gallupnews: Hillary Clinton Now More Popular Than Barack Obama: http://bit.ly/15nqxU #HillaryClinton, #Obama\"],\n [{\n            'v': 1694,\n            'f': \"1694\",\n        },\n{\n            'v': 0,\n            'f': \"0\",\n        },\n\"non-political\",\n\"cant go to sleep witout a certain someone telling me good night & I havent talked to them in two days\"],\n [{\n            'v': 117,\n            'f': \"117\",\n        },\n{\n            'v': 1,\n            'f': \"1\",\n        },\n\"political\",\n\"how are you planning to spend the socialist holiday? http://bit.ly/p3ebG\"],\n [{\n            'v': 1397,\n            'f': \"1397\",\n        },\n{\n            'v': 1,\n            'f': \"1\",\n        },\n\"political\",\n\"Republican or Democrat... you gotta admit that Sarah Palin gave some horrible speeches on her way out. She was much better at the RNC.\"],\n [{\n            'v': 800,\n            'f': \"800\",\n        },\n{\n            'v': 1,\n            'f': \"1\",\n        },\n\"political\",\n\"Local business owners give packs of $2 to emp's to spend in their communities--a local \\\"stimulus\\\" --fascinating! http://PeoplesStimulus.org\"],\n [{\n            'v': 3198,\n            'f': \"3198\",\n        },\n{\n            'v': 0,\n            'f': \"0\",\n        },\n\"non-political\",\n\"bcamming laugh for the day: I was taking off panties for camshow today - got them stuck in one of the wheels of my chair! lol\"],\n [{\n            'v': 2569,\n            'f': \"2569\",\n        },\n{\n            'v': 0,\n            'f': \"0\",\n        },\n\"non-political\",\n\"ry funny Scotty, now beam down my clothes!\"],\n [{\n            'v': 2323,\n            'f': \"2323\",\n        },\n{\n            'v': 0,\n            'f': \"0\",\n        },\n\"non-political\",\n\"ikkie_nick_x3 lmao right there with ya so my wifey can enjoy a show\"],\n [{\n            'v': 2078,\n            'f': \"2078\",\n        },\n{\n            'v': 0,\n            'f': \"0\",\n        },\n\"non-political\",\n\"ecilyjamelia I think I saw Willie lol. I was gooooooooone!\"],\n [{\n            'v': 1384,\n            'f': \"1384\",\n        },\n{\n            'v': 1,\n            'f': \"1\",\n        },\n\"political\",\n\"RT @ZerlinaM RT @peoplegogy public option shld b giving us same options as members of congress. if they fight that, they should b teabagged\"],\n [{\n            'v': 966,\n            'f': \"966\",\n        },\n{\n            'v': 1,\n            'f': \"1\",\n        },\n\"political\",\n\"I am still trying to locate my son, Ryan Kristopher King, who is in Iraq. If anybody hears from him, let me know. Thanks.\"],\n [{\n            'v': 850,\n            'f': \"850\",\n        },\n{\n            'v': 1,\n            'f': \"1\",\n        },\n\"political\",\n\"RT @tweetminster: Clegg \\\"when our troops were massing on the borders of Iraq the conservatives cheered from the sidelines but we said no\\\"\"],\n [{\n            'v': 1064,\n            'f': \"1064\",\n        },\n{\n            'v': 1,\n            'f': \"1\",\n        },\n\"political\",\n\"Video: Taliban Bomb Afghanistan Offices: Taliban gunmen and suicide bombers attack Afghan government build.. http://bit.ly/12Bgrm\"],\n [{\n            'v': 638,\n            'f': \"638\",\n        },\n{\n            'v': 1,\n            'f': \"1\",\n        },\n\"political\",\n\"@SandraLSwanson So when do I get to start blaming Obama for my personal failures and oversights and laziness? We're still in Bush mode. :)\"],\n [{\n            'v': 937,\n            'f': \"937\",\n        },\n{\n            'v': 1,\n            'f': \"1\",\n        },\n\"political\",\n\"6 mnths Since the \\u00e2\\u20ac\\u0153American Recovery and Reinvestment Act\\u00e2\\u20ac\\u009d became law, the United States economy has shed nearly 2.8 million net jobs.\"],\n [{\n            'v': 2294,\n            'f': \"2294\",\n        },\n{\n            'v': 0,\n            'f': \"0\",\n        },\n\"non-political\",\n\"ere I live most concrete evidence showing the call to prayer..\"],\n [{\n            'v': 1050,\n            'f': \"1050\",\n        },\n{\n            'v': 1,\n            'f': \"1\",\n        },\n\"political\",\n\"Electoral crisis in Afghanistan intensifies - The Associated Press http://ow.ly/15VNFv\"],\n [{\n            'v': 279,\n            'f': \"279\",\n        },\n{\n            'v': 1,\n            'f': \"1\",\n        },\n\"political\",\n\"Much as we'd all like to, ya can't make Utah more liberal than it is faster than it wants to go. Beware the blue pies in the skies.\"],\n [{\n            'v': 1746,\n            'f': \"1746\",\n        },\n{\n            'v': 0,\n            'f': \"0\",\n        },\n\"non-political\",\n\"ntonioamorin Neste domingo (vespera de feriado) tem o melhor sertanejo de SP. visite http://sitemeu.net/vo7fa5 snypm\"],\n [{\n            'v': 1280,\n            'f': \"1280\",\n        },\n{\n            'v': 1,\n            'f': \"1\",\n        },\n\"political\",\n\"RT @AgeofMastery: RT @buzztok: RT @sidunn: WIN! Republican Governr of UTAH supports Obama's speech 2 schools http://bit.ly/a6IWN\"],\n [{\n            'v': 2055,\n            'f': \"2055\",\n        },\n{\n            'v': 0,\n            'f': \"0\",\n        },\n\"non-political\",\n\"halanges What the frak??!?\"],\n [{\n            'v': 1123,\n            'f': \"1123\",\n        },\n{\n            'v': 1,\n            'f': \"1\",\n        },\n\"political\",\n\"In Afghanistan: 2 U.S. Troops Killed; Election Nears - http://tinyurl.com/klx3ru\"],\n [{\n            'v': 2178,\n            'f': \"2178\",\n        },\n{\n            'v': 0,\n            'f': \"0\",\n        },\n\"non-political\",\n\" is anthony\"],\n [{\n            'v': 3179,\n            'f': \"3179\",\n        },\n{\n            'v': 0,\n            'f': \"0\",\n        },\n\"non-political\",\n\"CRealtress LOL! Am I usually a downer? Sorry! I'm very positive: Promise! How is your day & week so far?\"],\n [{\n            'v': 2002,\n            'f': \"2002\",\n        },\n{\n            'v': 0,\n            'f': \"0\",\n        },\n\"non-political\",\n\"ficial first XBL tweet! 'Bout to play some Tekken6\"],\n [{\n            'v': 2028,\n            'f': \"2028\",\n        },\n{\n            'v': 0,\n            'f': \"0\",\n        },\n\"non-political\",\n\" @geheimwissen Die #Schweinegrippe - Pandemie aus der Hexenk\\u00c3\\u00bcche http://tinyurl.com/ykp525u #Pandemie aus der Hexenk\\u00c3\\u00bcche\"],\n [{\n            'v': 1034,\n            'f': \"1034\",\n        },\n{\n            'v': 1,\n            'f': \"1\",\n        },\n\"political\",\n\"#servicedesign -ers: Did you like \\\"The Experience Economy\\\" by Pine & Gilmore? If so, why? Found it outdated, america-centered & frightening.\"],\n [{\n            'v': 3201,\n            'f': \"3201\",\n        },\n{\n            'v': 0,\n            'f': \"0\",\n        },\n\"non-political\",\n\"a my fone iz a DUBB\"],\n [{\n            'v': 392,\n            'f': \"392\",\n        },\n{\n            'v': 1,\n            'f': \"1\",\n        },\n\"political\",\n\"Why are Republican so mad at Obama,I know one thing..Gas is $2.50,he kept that shit low all summer..\"],\n [{\n            'v': 2447,\n            'f': \"2447\",\n        },\n{\n            'v': 0,\n            'f': \"0\",\n        },\n\"non-political\",\n\"ritBoi @Lethal_GCRadio @ProtruckR @LADIBENJAMIN @ASHLYJ21 thanks for the rt love respect! Have a great week!\"],\n [{\n            'v': 841,\n            'f': \"841\",\n        },\n{\n            'v': 1,\n            'f': \"1\",\n        },\n\"political\",\n\"Good sign for the economy and #horseracing? #Keeneland Nov. Sale was down but only 6.5% on avg. vs. last year.\"],\n [{\n            'v': 2776,\n            'f': \"2776\",\n        },\n{\n            'v': 0,\n            'f': \"0\",\n        },\n\"non-political\",\n\"inkajou1015 hm....It's easy to cover someones easy harder to sensor something like that though\"],\n [{\n            'v': 1185,\n            'f': \"1185\",\n        },\n{\n            'v': 1,\n            'f': \"1\",\n        },\n\"political\",\n\"Abp York asks govt to make sure troops are properly equipped for operations in #Afghanistan : http://bit.ly/4Ocxqp\"],\n [{\n            'v': 1667,\n            'f': \"1667\",\n        },\n{\n            'v': 0,\n            'f': \"0\",\n        },\n\"non-political\",\n\"essgraaw CHAMA OS BOMBEIROS QQQQQQ- -n\"],\n [{\n            'v': 3041,\n            'f': \"3041\",\n        },\n{\n            'v': 0,\n            'f': \"0\",\n        },\n\"non-political\",\n\"eroms Sprint Enters The Netbook Game With Dell Mini 10: \\u00c2\\u00a0via:\\u00c2\\u00a0HotHardware.. http://bit.ly/3X741u #wjtglobal\"],\n [{\n            'v': 704,\n            'f': \"704\",\n        },\n{\n            'v': 1,\n            'f': \"1\",\n        },\n\"political\",\n\"RT @alejohidalgo: Aunque el otro no le pare, Ch\\u00c3\\u00a1vez sigue enamorado de Obama.\"],\n [{\n            'v': 1074,\n            'f': \"1074\",\n        },\n{\n            'v': 1,\n            'f': \"1\",\n        },\n\"political\",\n\"@daeLAbaby power to you, I feel you on that , no places out here are hiring some terrorist bullshit got the economy shoo\"],\n [{\n            'v': 2538,\n            'f': \"2538\",\n        },\n{\n            'v': 0,\n            'f': \"0\",\n        },\n\"non-political\",\n\"e Best Advice Ever From The World's Greatest Business Experts! This Will Determine Your Success Or Failure! http://bit.ly/schefren\"],\n [{\n            'v': 2675,\n            'f': \"2675\",\n        },\n{\n            'v': 0,\n            'f': \"0\",\n        },\n\"non-political\",\n\" @mashable WARNING: Twitter Money Scams Spreading Through DMs http://bit.ly/OP6Ot\"],\n [{\n            'v': 1806,\n            'f': \"1806\",\n        },\n{\n            'v': 0,\n            'f': \"0\",\n        },\n\"non-political\",\n\"tp://twitpic.com/ntofo - TODOS ELLOS EN ESTE GRAN LIBRO.\"],\n [{\n            'v': 2001,\n            'f': \"2001\",\n        },\n{\n            'v': 0,\n            'f': \"0\",\n        },\n\"non-political\",\n\"ppy Sunday and all that bullshyt Twitter.\"],\n [{\n            'v': 2933,\n            'f': \"2933\",\n        },\n{\n            'v': 0,\n            'f': \"0\",\n        },\n\"non-political\",\n\"rrently Browsing: http://borderlands.wikia.com\"],\n [{\n            'v': 3057,\n            'f': \"3057\",\n        },\n{\n            'v': 0,\n            'f': \"0\",\n        },\n\"non-political\",\n\"ace your palms onto mine's, tell me how you feel and I'll be yours to keep. @XueErocks\"],\n [{\n            'v': 1912,\n            'f': \"1912\",\n        },\n{\n            'v': 0,\n            'f': \"0\",\n        },\n\"non-political\",\n\"eyalistic Thanks! Just wish we went crazy for Halloween in Aust like you guys do! :)\"],\n [{\n            'v': 2613,\n            'f': \"2613\",\n        },\n{\n            'v': 0,\n            'f': \"0\",\n        },\n\"non-political\",\n\"corpiomaster17 Nissan came and got her a few minutes ago and took her to the hospital. Hopefully they can save her. My poor little baby.\"],\n [{\n            'v': 2460,\n            'f': \"2460\",\n        },\n{\n            'v': 0,\n            'f': \"0\",\n        },\n\"non-political\",\n\"ordan er det \\u00c3\\u00a5 f\\u00c3\\u00a5 et funksjonshemmet barn? Det handler det om i Lang lunsj n\\u00c3\\u00a5, forsker Lars Grue er gjest.\"],\n [{\n            'v': 1226,\n            'f': \"1226\",\n        },\n{\n            'v': 0,\n            'f': \"0\",\n        },\n\"non-political\",\n\" @docmidnight: I, as well as @stacyjill live down the street from our congress woman's house! #lameclaimtofame\"],\n [{\n            'v': 1430,\n            'f': \"1430\",\n        },\n{\n            'v': 1,\n            'f': \"1\",\n        },\n\"political\",\n\"@Dumb_Ox new congress report out, cf my post tomorrow http://thomistic.blogspot.com // I will. Thank you. #tcot\"],\n [{\n            'v': 200,\n            'f': \"200\",\n        },\n{\n            'v': 1,\n            'f': \"1\",\n        },\n\"political\",\n\"Progressive Conservatism: property-owning democracy http://tiny.cc/tV1r5\"],\n [{\n            'v': 671,\n            'f': \"671\",\n        },\n{\n            'v': 1,\n            'f': \"1\",\n        },\n\"political\",\n\"RT @ppppolls: 62% of voters in Wilson's district disapprove of his actions, although 42% do think Obama was lying: http://tinyurl.com/mfzcrp\"],\n [{\n            'v': 2410,\n            'f': \"2410\",\n        },\n{\n            'v': 0,\n            'f': \"0\",\n        },\n\"non-political\",\n\"ck to work tomorrow...geeezzz\"],\n [{\n            'v': 318,\n            'f': \"318\",\n        },\n{\n            'v': 1,\n            'f': \"1\",\n        },\n\"political\",\n\"The Pajamahadin: Supreme Court Smacks Down Sotomayor: I still find it amazing that the court's liberals vote.. http://tinyurl.com/mwpyt9\"],\n [{\n            'v': 2730,\n            'f': \"2730\",\n        },\n{\n            'v': 0,\n            'f': \"0\",\n        },\n\"non-political\",\n\" days left until my 18 birthday!\"],\n [{\n            'v': 2923,\n            'f': \"2923\",\n        },\n{\n            'v': 0,\n            'f': \"0\",\n        },\n\"non-political\",\n\"extips SWALLOW...i cant stress dat enough\"],\n [{\n            'v': 2558,\n            'f': \"2558\",\n        },\n{\n            'v': 0,\n            'f': \"0\",\n        },\n\"non-political\",\n\": @inainaaa: It's time to Sembahyang Purnama w/ @pututuya @ratihdwitaputri @utaridewi :)\"],\n [{\n            'v': 2300,\n            'f': \"2300\",\n        },\n{\n            'v': 0,\n            'f': \"0\",\n        },\n\"non-political\",\n\" @samaralopes >> Juntos, somos mais [+] - @horiceara H\\u00c3\\u201cRI CEARA FC || www.fotolog.com/horiceara\"],\n [{\n            'v': 2066,\n            'f': \"2066\",\n        },\n{\n            'v': 0,\n            'f': \"0\",\n        },\n\"non-political\",\n\"mingo de misa?\"],\n [{\n            'v': 2218,\n            'f': \"2218\",\n        },\n{\n            'v': 0,\n            'f': \"0\",\n        },\n\"non-political\",\n\" @GIZZYGATESIMHIM: LIFES A BITCH U COULD LOSE HER IN A MINUTE BUT QUICKER IN A SECOND DEPENDING ON HOW U HIT IT...\"],\n [{\n            'v': 2500,\n            'f': \"2500\",\n        },\n{\n            'v': 0,\n            'f': \"0\",\n        },\n\"non-political\",\n\"heputeras that is the unfair side ... wkwkwkwkwk\"],\n [{\n            'v': 2373,\n            'f': \"2373\",\n        },\n{\n            'v': 0,\n            'f': \"0\",\n        },\n\"non-political\",\n\"endiplast udah sizuuuu, olahraga di..... =))\"],\n [{\n            'v': 807,\n            'f': \"807\",\n        },\n{\n            'v': 1,\n            'f': \"1\",\n        },\n\"political\",\n\"RT @MadamaAmbi: \\u00e2\\u2020\\u2019\\\"Afghanistan: Will Obama Listen to the Women?\\\" ( http://bit.ly/dU2oh ) Pls Sign Letter.\"],\n [{\n            'v': 2491,\n            'f': \"2491\",\n        },\n{\n            'v': 0,\n            'f': \"0\",\n        },\n\"non-political\",\n\" @FR_BSB Lobby no Brasil correu solto no Judici\\u00c3\\u00a1rio e no MP no feriad\\u00c3\\u00a3o de Finados. Essa turma n\\u00c3\\u00a3o tem nada de morto. http://bit.ly/453BZM\"],\n [{\n            'v': 384,\n            'f': \"384\",\n        },\n{\n            'v': 0,\n            'f': \"0\",\n        },\n\"non-political\",\n\"dians continue series against Angels tonight: Jeremy Sowers faces Jered Weaver tonight at Progressive Field http://bit.ly/NNixb\"],\n [{\n            'v': 712,\n            'f': \"712\",\n        },\n{\n            'v': 1,\n            'f': \"1\",\n        },\n\"political\",\n\"Sarah Palin to run with Lou Dobbs in 2012 in The All Quitters Party. http://bit.ly/1P0A5m\"],\n [{\n            'v': 190,\n            'f': \"190\",\n        },\n{\n            'v': 1,\n            'f': \"1\",\n        },\n\"political\",\n\"RT @tierneywigg http://tinyurl.com/klrona Thanks Daniel Hannan for making my choice of not voting @conservatives much easier! #welovetheNHS\"],\n [{\n            'v': 1643,\n            'f': \"1643\",\n        },\n{\n            'v': 0,\n            'f': \"0\",\n        },\n\"non-political\",\n\" s\\u00c3\\u00a9 pero me siento como mal :S tengo algo raro... como tristeza :S no quiero ir por all\\u00c3\\u00a1 quisiera estar con mis amigas :(\"],\n [{\n            'v': 853,\n            'f': \"853\",\n        },\n{\n            'v': 1,\n            'f': \"1\",\n        },\n\"political\",\n\"RT @bbcbreaking: A helicopter has crashed at the main Kandahar air base in southern Afghanistan, killing 16 civilians on board, o.. http ...\"],\n [{\n            'v': 153,\n            'f': \"153\",\n        },\n{\n            'v': 1,\n            'f': \"1\",\n        },\n\"political\",\n\"RT @tonysharon04 @resistance09 Ive been infected w/PATRIOTIC FLU and I am SICK of ur socialist government reforms. STOP NOW! #teaparty #gop\"],\n [{\n            'v': 775,\n            'f': \"775\",\n        },\n{\n            'v': 1,\n            'f': \"1\",\n        },\n\"political\",\n\"RT @ThatGirlCA RT @sherriwilson If Obama cured cancer, the Right would accuse him of putting big pharma out of business.\"],\n [{\n            'v': 1725,\n            'f': \"1725\",\n        },\n{\n            'v': 0,\n            'f': \"0\",\n        },\n\"non-political\",\n\"ANimo: your night sounds shitty. I'm eating my candy necklace and watching thaw\"],\n [{\n            'v': 419,\n            'f': \"419\",\n        },\n{\n            'v': 1,\n            'f': \"1\",\n        },\n\"political\",\n\"What if the extreme conservative media are right? What if Obama really is a terrorist, and soy really is as bad for you as cigarettes?\"],\n [{\n            'v': 2955,\n            'f': \"2955\",\n        },\n{\n            'v': 0,\n            'f': \"0\",\n        },\n\"non-political\",\n\"annahBenne @misstwinkle, good morning! I have actually only seen season 1 of GG so trying to avoid 3 until i have given in & bought 2!\"],\n [{\n            'v': 2374,\n            'f': \"2374\",\n        },\n{\n            'v': 0,\n            'f': \"0\",\n        },\n\"non-political\",\n\"erecat1 don't refer to his age much...... *winks*\"],\n [{\n            'v': 1788,\n            'f': \"1788\",\n        },\n{\n            'v': 0,\n            'f': \"0\",\n        },\n\"non-political\",\n\"love sven, michel and brandon at the rocket ship to freedom.\"],\n [{\n            'v': 2754,\n            'f': \"2754\",\n        },\n{\n            'v': 0,\n            'f': \"0\",\n        },\n\"non-political\",\n\"m super burrito\"],\n [{\n            'v': 2226,\n            'f': \"2226\",\n        },\n{\n            'v': 0,\n            'f': \"0\",\n        },\n\"non-political\",\n\"tchin hancock wit de nephew.dnt really wanna go 2 skool. my nieces went home.\\u00e2\\u20ac\\u2039VeryGoodWeekend.\\u00e2\\u20ac\\u2039hopin 4 a betta we ... http://lnk.ms/4Hzrl\"],\n [{\n            'v': 1848,\n            'f': \"1848\",\n        },\n{\n            'v': 0,\n            'f': \"0\",\n        },\n\"non-political\",\n\"-li-li-istening to la-la-la-dy gaggagga! REMIXES!\"],\n [{\n            'v': 2906,\n            'f': \"2906\",\n        },\n{\n            'v': 0,\n            'f': \"0\",\n        },\n\"non-political\",\n\"atalietran http://twitpic.com/ff2br - hehe, loving the cowgirl hat:)\"],\n [{\n            'v': 2540,\n            'f': \"2540\",\n        },\n{\n            'v': 0,\n            'f': \"0\",\n        },\n\"non-political\",\n\"day I started OG Mandino's \\\"The Scroll Marked V\\\" and it is sooo informative and motivating that I must share some stuff with u all.\"],\n [{\n            'v': 1577,\n            'f': \"1577\",\n        },\n{\n            'v': 1,\n            'f': \"1\",\n        },\n\"political\",\n\"WNB Newsbrief: Action Alert: NAACP calls on the US Senate for swift enactment of expanded Hate cri.. http://tinyurl.com/l87gn7\"],\n [{\n            'v': 1832,\n            'f': \"1832\",\n        },\n{\n            'v': 0,\n            'f': \"0\",\n        },\n\"non-political\",\n\"st took \\\"what band are you?\\\" and got: paramore! Try it \\u00e2\\u017e\\u201d http://bit.ly/1fWDsa\"],\n [{\n            'v': 2339,\n            'f': \"2339\",\n        },\n{\n            'v': 0,\n            'f': \"0\",\n        },\n\"non-political\",\n\"ANN\\u00e3\\u20ac\\u0081\\u00e3\\u201a\\u00a2\\u00e3\\u0192\\u00ab\\u00e3\\u0192\\u2022\\u00e3\\u201a\\u00a1\\u00e3\\u0192\\u2122\\u00e3\\u0192\\u0192\\u00e3\\u0192\\u02c6\\u00e4\\u00bb\\u00a5\\u00e5\\u00a4\\u2013\\u00e3\\u0081\\u00ae\\u00e3\\u0192\\u2030\\u00e3\\u0192\\u00a1\\u00e3\\u201a\\u00a4\\u00e3\\u0192\\u00b3\\u00e5\\u0090\\u008d\\u00e3\\u0081\\u00ae\\u00e5\\u00b0\\u017d\\u00e5\\u2026\\u00a5\\u00e3\\u201a\\u2019\\u00e6\\u2030\\u00bf\\u00e8\\u00aa\\u008d http://bit.ly/s1t9z\"],\n [{\n            'v': 861,\n            'f': \"861\",\n        },\n{\n            'v': 1,\n            'f': \"1\",\n        },\n\"political\",\n\"Another day full of proposals & quotes. The economy may be bad, but we're busy.\"],\n [{\n            'v': 3095,\n            'f': \"3095\",\n        },\n{\n            'v': 0,\n            'f': \"0\",\n        },\n\"non-political\",\n\"tudio83_Mag Oneday I'll wake up and put ppl to sleep ;)\"],\n [{\n            'v': 589,\n            'f': \"589\",\n        },\n{\n            'v': 1,\n            'f': \"1\",\n        },\n\"political\",\n\"smh. RT @Rob2423 Are kidding me are, u telling me that people are actually standing in line to get the BITCH Sarah Palin's dumb ass book.\"],\n [{\n            'v': 114,\n            'f': \"114\",\n        },\n{\n            'v': 1,\n            'f': \"1\",\n        },\n\"political\",\n\"correction for 2nites show. Kit Lang at PL 4 Lobby. Come chat energy bill, obama, liberalism, downfail of US. http://bit.ly/juBF4 Express\"],\n [{\n            'v': 1998,\n            'f': \"1998\",\n        },\n{\n            'v': 0,\n            'f': \"0\",\n        },\n\"non-political\",\n\"ICKIMINAJ_ oh you changed your name\"],\n [{\n            'v': 108,\n            'f': \"108\",\n        },\n{\n            'v': 1,\n            'f': \"1\",\n        },\n\"political\",\n\"The PACIFIC GATE POST: \\u00e2\\u20ac\\u00a2 Government vs. Capitalism http://bit.ly/E5d7E\"],\n [{\n            'v': 1807,\n            'f': \"1807\",\n        },\n{\n            'v': 0,\n            'f': \"0\",\n        },\n\"non-political\",\n\"favorited a YouTube video -- Ellen with her Hawaii Chair http://bit.ly/16v9R0\"],\n [{\n            'v': 123,\n            'f': \"123\",\n        },\n{\n            'v': 0,\n            'f': \"0\",\n        },\n\"non-political\",\n\"t Quotes online from Geico, Progressive, Nationwide Auto Insurance, And Many More all one website. http://tinyurl.com/y8ngda9\"],\n [{\n            'v': 1488,\n            'f': \"1488\",\n        },\n{\n            'v': 1,\n            'f': \"1\",\n        },\n\"political\",\n\"RT @hiphopgrandpa: Why does #Congress keep supporting #Acorn . Stop the flow of money #APORN\"],\n [{\n            'v': 1082,\n            'f': \"1082\",\n        },\n{\n            'v': 1,\n            'f': \"1\",\n        },\n\"political\",\n\"[NEWS] \\u00e2\\u20ac\\u02dcI just wanted him to be safe\\u00e2\\u20ac\\u2122: The family of Rifleman Daniel Wild, who died in Afghanistan, have .. http://bit.ly/11COg2\"],\n [{\n            'v': 1351,\n            'f': \"1351\",\n        },\n{\n            'v': 0,\n            'f': \"0\",\n        },\n\"non-political\",\n\"ings To Know About Business Grants & Government Grants: To avail any or all of the tax benefits you can im.. http://bit.ly/ewiFX\"],\n [{\n            'v': 1094,\n            'f': \"1094\",\n        },\n{\n            'v': 1,\n            'f': \"1\",\n        },\n\"political\",\n\"RT @LDN: Bomb robots used in Afghanistan are to be recycled as London firefighters http://bit.ly/3IxchN Shouldn't they still be out there?\"],\n [{\n            'v': 1984,\n            'f': \"1984\",\n        },\n{\n            'v': 0,\n            'f': \"0\",\n        },\n\"non-political\",\n\"m diaaa twitters! Estou D E T O N A D A. Casamento da Bel e do Kleine foi \\u00c3\\u00b3timo,s\\u00c3\\u00b3 felicidades agora pra eles! :D\"],\n [{\n            'v': 3086,\n            'f': \"3086\",\n        },\n{\n            'v': 0,\n            'f': \"0\",\n        },\n\"non-political\",\n\"rdopeflow i went to the strip club last night had a wonderful time lol.\"],\n [{\n            'v': 846,\n            'f': \"846\",\n        },\n{\n            'v': 1,\n            'f': \"1\",\n        },\n\"political\",\n\"US to give $2.3 bn in stimulus for clean energy - The US will give up to $2.3 billion in tax credits to green manuf... http://ow.ly/15KXJq\"],\n [{\n            'v': 1216,\n            'f': \"1216\",\n        },\n{\n            'v': 1,\n            'f': \"1\",\n        },\n\"political\",\n\"RT @tradingypsy: RT @stockshotz: : CONGRESS is worried abt the impact of the swine flu----I am worried abt THE IMPACT OF CONGRESS!!!! #t ...\"],\n [{\n            'v': 348,\n            'f': \"348\",\n        },\n{\n            'v': 1,\n            'f': \"1\",\n        },\n\"political\",\n\"En la segunda, con Petro o con Vargas? RT @rafaelpardo: El Partido Liberal va a las interpartidistas http://bit.ly/4U2uwm\"],\n [{\n            'v': 1004,\n            'f': \"1004\",\n        },\n{\n            'v': 1,\n            'f': \"1\",\n        },\n\"political\",\n\"NATO soldier killed in Afghanistan: military - AFP http://bit.ly/YrLLt\"],\n [{\n            'v': 875,\n            'f': \"875\",\n        },\n{\n            'v': 1,\n            'f': \"1\",\n        },\n\"political\",\n\"Could a Spike in Bond Yields Cause the Economy to Stumble in the New Year? http://bit.ly/8ZKQFO\"],\n [{\n            'v': 1809,\n            'f': \"1809\",\n        },\n{\n            'v': 0,\n            'f': \"0\",\n        },\n\"non-political\",\n\"dney: People who default on their mortgage payments will almost double from 25,000 today to 40,000 by the end of 2010 http://tiny.cc/wMUB5\"],\n [{\n            'v': 3124,\n            'f': \"3124\",\n        },\n{\n            'v': 0,\n            'f': \"0\",\n        },\n\"non-political\",\n\"l my wedding is going to be like this...half redneck half metal...check it out and let me know what yall think...http://lnk.ms/2tQrD.\"],\n [{\n            'v': 2670,\n            'f': \"2670\",\n        },\n{\n            'v': 0,\n            'f': \"0\",\n        },\n\"non-political\",\n\"abisworld I have THREE MINUETS of them doing that! That was Halloween night :-)\"],\n [{\n            'v': 2441,\n            'f': \"2441\",\n        },\n{\n            'v': 0,\n            'f': \"0\",\n        },\n\"non-political\",\n\"really want some coffee. A vair stong black coffee with too much sugar and a Curly Wurly. Or an Aero. Or a Kit Kat. Anything chocolate.\"],\n [{\n            'v': 2619,\n            'f': \"2619\",\n        },\n{\n            'v': 0,\n            'f': \"0\",\n        },\n\"non-political\",\n\"men's volleyball team continues winning streak http://theshield.cambrianc.on.ca\"],\n [{\n            'v': 3149,\n            'f': \"3149\",\n        },\n{\n            'v': 0,\n            'f': \"0\",\n        },\n\"non-political\",\n\"at big Walrus lookin dude from OCC just passed me by on the hallway (via @ogabel) did you say \\\"wad up ninja?!\\\"\"],\n [{\n            'v': 2064,\n            'f': \"2064\",\n        },\n{\n            'v': 0,\n            'f': \"0\",\n        },\n\"non-political\",\n\"mm. Natural wine. RT @TheSnarkHunter: Almost to Santa Rosa and our appt @theNPA !\"],\n [{\n            'v': 2692,\n            'f': \"2692\",\n        },\n{\n            'v': 0,\n            'f': \"0\",\n        },\n\"non-political\",\n\"atrinaLomidze i just had the swine flu........it sucks, hope u get better asap!!! i just kept drinkin pomegranate juice\"],\n [{\n            'v': 118,\n            'f': \"118\",\n        },\n{\n            'v': 0,\n            'f': \"0\",\n        },\n\"non-political\",\n\" @civlee RT @ValisProject : RT @happyhomeshop : RT @cupcakes5 : @GreenRoomPro @Florzinhaa_ @anarchists @civlee @expensiveguy @officialtila\"],\n [{\n            'v': 1457,\n            'f': \"1457\",\n        },\n{\n            'v': 1,\n            'f': \"1\",\n        },\n\"political\",\n\"BA also in talks with JAL; new government to review JAL restructuring: http://cli.gs/vAjYrm\"],\n [{\n            'v': 1867,\n            'f': \"1867\",\n        },\n{\n            'v': 0,\n            'f': \"0\",\n        },\n\"non-political\",\n\"f to the race. Thank you 4 your support.\"],\n [{\n            'v': 3170,\n            'f': \"3170\",\n        },\n{\n            'v': 0,\n            'f': \"0\",\n        },\n\"non-political\",\n\"don't know what i'd do without music!!! Different song to suit a different scenario!!! Slow & depressing tonight!!!\"],\n [{\n            'v': 1002,\n            'f': \"1002\",\n        },\n{\n            'v': 1,\n            'f': \"1\",\n        },\n\"political\",\n\"Stimulus saved or created 650,000 jobs, White House says: The White House says President Barack Obama's economi.. http://bit.ly/1bVP0Y\"],\n [{\n            'v': 822,\n            'f': \"822\",\n        },\n{\n            'v': 1,\n            'f': \"1\",\n        },\n\"political\",\n\"RT @Heritage: new op-ed: Sotomayor and the Sordid Business of Race http://tr.im/sJAq #tcot\"],\n [{\n            'v': 1449,\n            'f': \"1449\",\n        },\n{\n            'v': 0,\n            'f': \"0\",\n        },\n\"non-political\",\n\"librarycongress 2010 Calendars Available- Library of Congress:Eight calendars featuringthe wide-ranging collections of http://bit.ly/2ViAr\"],\n [{\n            'v': 2530,\n            'f': \"2530\",\n        },\n{\n            'v': 0,\n            'f': \"0\",\n        },\n\"non-political\",\n\" we are going to the beach and have fun with the girls and the boys\"],\n [{\n            'v': 748,\n            'f': \"748\",\n        },\n{\n            'v': 1,\n            'f': \"1\",\n        },\n\"political\",\n\"RT @todayspolitics Obama To Detail His Vision To Remake Health Care #politics http://bit.ly/1oo4Ih\"],\n [{\n            'v': 834,\n            'f': \"834\",\n        },\n{\n            'v': 0,\n            'f': \"0\",\n        },\n\"non-political\",\n\"xy Bailout Progams - Monthly Lingerie to Give Away One Million ... http://bit.ly/mgwzm\"],\n [{\n            'v': 2672,\n            'f': \"2672\",\n        },\n{\n            'v': 0,\n            'f': \"0\",\n        },\n\"non-political\",\n\"rried about my dad. His coughs are getting louder and worse by the, ahem, cough.\"],\n [{\n            'v': 1300,\n            'f': \"1300\",\n        },\n{\n            'v': 1,\n            'f': \"1\",\n        },\n\"political\",\n\"house passes clean energy act. historic. please support senate passage. http://bit.ly/lp5FC\"],\n [{\n            'v': 1659,\n            'f': \"1659\",\n        },\n{\n            'v': 0,\n            'f': \"0\",\n        },\n\"non-political\",\n\"kratzer It is a college town, so you never know. You could hang out with us tonight. I'm sure we'll have trick or treaters.\"],\n [{\n            'v': 1087,\n            'f': \"1087\",\n        },\n{\n            'v': 1,\n            'f': \"1\",\n        },\n\"political\",\n\"The Argentinian President demands Iran to hand over their defence minister , well the next IMF loan is now secure for Argentinian economy\"],\n [{\n            'v': 1887,\n            'f': \"1887\",\n        },\n{\n            'v': 0,\n            'f': \"0\",\n        },\n\"non-political\",\n\" seems that you need to sprinkle money to people internationally so no bad habits end up biting me back.Judging people is not on my agenda\"],\n [{\n            'v': 2386,\n            'f': \"2386\",\n        },\n{\n            'v': 0,\n            'f': \"0\",\n        },\n\"non-political\",\n\"an bauu :( RT @stellanindya: I'm in the middle of the dark forest.. Aahh so creepyyy hihi http://myloc.me/1iBsj\"],\n [{\n            'v': 1308,\n            'f': \"1308\",\n        },\n{\n            'v': 1,\n            'f': \"1\",\n        },\n\"political\",\n\"RT@BarackObama Today is the day\\u00e2\\u20ac\\u201dcan you help OFA generate 100,000 health reform calls to Congress in a single day? http://bit.ly/ls1PC #hc09\"],\n [{\n            'v': 1908,\n            'f': \"1908\",\n        },\n{\n            'v': 0,\n            'f': \"0\",\n        },\n\"non-political\",\n\"#############################################################################################################################################################################################################################################################\"],\n [{\n            'v': 2353,\n            'f': \"2353\",\n        },\n{\n            'v': 0,\n            'f': \"0\",\n        },\n\"non-political\",\n\" @NinoBless I can't wait to hear the excuses after Cotto tears up Pac ... \\\"oh he's so muc bigger\\\" ..\\\"oh there was a flood in his homeland\"],\n [{\n            'v': 2924,\n            'f': \"2924\",\n        },\n{\n            'v': 0,\n            'f': \"0\",\n        },\n\"non-political\",\n\"raigsteed it put me off my fish and chips :(\"],\n [{\n            'v': 732,\n            'f': \"732\",\n        },\n{\n            'v': 1,\n            'f': \"1\",\n        },\n\"political\",\n\"RT @Noagendawiki: #noagenda new page: No Agenda 120: \\\"The Clinton Gore Man Hug\\\" http://bit.ly/13fu0e\"],\n [{\n            'v': 2517,\n            'f': \"2517\",\n        },\n{\n            'v': 0,\n            'f': \"0\",\n        },\n\"non-political\",\n\"iiits bikin sendiri dong naaad di kost :D RT @nadyahamzah: Iigghh itu dmana nanda??\"],\n [{\n            'v': 1016,\n            'f': \"1016\",\n        },\n{\n            'v': 1,\n            'f': \"1\",\n        },\n\"political\",\n\"Slideshow: The Chinese Stimulus Is Working: China\\u00e2\\u20ac\\u2122s stimulus package, which was unveiled in November, will spen.. http://tr.im/v1bS\"],\n [{\n            'v': 1906,\n            'f': \"1906\",\n        },\n{\n            'v': 0,\n            'f': \"0\",\n        },\n\"non-political\",\n\"larobsten http://twitpic.com/nuy87 - aaaaaaaaaaaaaaaaaaaaaah! Meu eles trouxeram o SOL pra SP! Q diiiiiiiiiia LINDO est\\u00c3\\u00a1 hj =)\"],\n [{\n            'v': 1286,\n            'f': \"1286\",\n        },\n{\n            'v': 1,\n            'f': \"1\",\n        },\n\"political\",\n\"EU already acting as a sort of behind-the-scenes IMF: ... and when these are agreed on, the government in quest.. http://bit.ly/3AT1vB\"],\n [{\n            'v': 2712,\n            'f': \"2712\",\n        },\n{\n            'v': 0,\n            'f': \"0\",\n        },\n\"non-political\",\n\"hahahahahahahahaha RT @nikitheunicorn: im so horny and hungry\"],\n [{\n            'v': 58,\n            'f': \"58\",\n        },\n{\n            'v': 1,\n            'f': \"1\",\n        },\n\"political\",\n\"Christians struggling in captive nations.....believers still dying at the hands of atheist communists\"],\n [{\n            'v': 645,\n            'f': \"645\",\n        },\n{\n            'v': 1,\n            'f': \"1\",\n        },\n\"political\",\n\"RT @Miagogo: : Is Obama Really Preparing For Civil War? http://bit.ly/5TUCrM #tcot #tlot #sgp | If he was, maybe he should cut the crap\"],\n [{\n            'v': 2501,\n            'f': \"2501\",\n        },\n{\n            'v': 0,\n            'f': \"0\",\n        },\n\"non-political\",\n\"nsider how much more you often suffer from your anger and grief, than from those very things for which you are angry & grieved.\"],\n [{\n            'v': 518,\n            'f': \"518\",\n        },\n{\n            'v': 1,\n            'f': \"1\",\n        },\n\"political\",\n\"RT @JanSimpson Okay- what are the companies to date that are supporting Obama's thugness and dropped BecK? is State Farm one of em?\"],\n [{\n            'v': 1400,\n            'f': \"1400\",\n        },\n{\n            'v': 1,\n            'f': \"1\",\n        },\n\"political\",\n\"270 Americans died in that Pan-Am flight, and The English government is suppose to be our allie? Utterly disgraceful!\"],\n [{\n            'v': 3054,\n            'f': \"3054\",\n        },\n{\n            'v': 0,\n            'f': \"0\",\n        },\n\"non-political\",\n\"RINArockstarr Love it!!! \\\"That's MY Attitude!\\\" F*#! what ya heard!!! Can't wait 2 be w/ u IN MIAMI BITCH!!!!\"],\n [{\n            'v': 1565,\n            'f': \"1565\",\n        },\n{\n            'v': 1,\n            'f': \"1\",\n        },\n\"political\",\n\"end the travel ban on Cuba for Americans. Call ur Congress People tomorrow. info here: http://bit.ly/NMcr5\"],\n [{\n            'v': 129,\n            'f': \"129\",\n        },\n{\n            'v': 1,\n            'f': \"1\",\n        },\n\"political\",\n\"Don't be CCCP RT @24space48 \\\"Democrats Healthcare Bill\\\": \\\"The Superhighway to SOCIALISM\\\"\"],\n [{\n            'v': 2961,\n            'f': \"2961\",\n        },\n{\n            'v': 0,\n            'f': \"0\",\n        },\n\"non-political\",\n\"n't know your car's maintenance schedule? Head over to http://tiny.cc/U4Jjm and find one! It'll help you keep things running\"],\n [{\n            'v': 132,\n            'f': \"132\",\n        },\n{\n            'v': 1,\n            'f': \"1\",\n        },\n\"political\",\n\"On Your Marx RT @kplo Communist consumer goods make comeback: http://su.pr/8sczfi\"],\n [{\n            'v': 945,\n            'f': \"945\",\n        },\n{\n            'v': 1,\n            'f': \"1\",\n        },\n\"political\",\n\"hi guys just giving a tweet to say hi and what can we do about the worlds economy?\"],\n [{\n            'v': 2029,\n            'f': \"2029\",\n        },\n{\n            'v': 0,\n            'f': \"0\",\n        },\n\"non-political\",\n\"hadow857 because i don't want you contaminating her shit. duh. you open mouthed kissed a damn horse when you were 8 ughh shall i say more?\"],\n [{\n            'v': 3031,\n            'f': \"3031\",\n        },\n{\n            'v': 0,\n            'f': \"0\",\n        },\n\"non-political\",\n\"want saturday to be here\"],\n [{\n            'v': 2815,\n            'f': \"2815\",\n        },\n{\n            'v': 0,\n            'f': \"0\",\n        },\n\"non-political\",\n\"DueTime..Prayer is my sanity..and God is my Healer!\"],\n [{\n            'v': 63,\n            'f': \"63\",\n        },\n{\n            'v': 1,\n            'f': \"1\",\n        },\n\"political\",\n\"ElBaradei?s Swan Song #libertarian http://bit.ly/Gv28q\"],\n [{\n            'v': 3094,\n            'f': \"3094\",\n        },\n{\n            'v': 0,\n            'f': \"0\",\n        },\n\"non-political\",\n\" @PROMISEMUSIC good morning friends! i'm feeling especially blessed today....God has some great things in store for all us! RECEIVE IT!!\"],\n [{\n            'v': 227,\n            'f': \"227\",\n        },\n{\n            'v': 1,\n            'f': \"1\",\n        },\n\"political\",\n\"McCarthy wuz right? RT @bcrumpton this car in front of me has a sticker that says socialism sucks. hahaha.\"],\n [{\n            'v': 905,\n            'f': \"905\",\n        },\n{\n            'v': 1,\n            'f': \"1\",\n        },\n\"political\",\n\"US troops who have died while serving in Afghanistan and the Horn ... http://bit.ly/aldla\"],\n [{\n            'v': 641,\n            'f': \"641\",\n        },\n{\n            'v': 1,\n            'f': \"1\",\n        },\n\"political\",\n\"If opposing Obama makes me a racist that OK cause I no the truth. Well then I guess my black friends that oppose him r 2? Trying 2 figur out\"],\n [{\n            'v': 2628,\n            'f': \"2628\",\n        },\n{\n            'v': 0,\n            'f': \"0\",\n        },\n\"non-political\",\n\"itter is so much fun! I\"],\n [{\n            'v': 2076,\n            'f': \"2076\",\n        },\n{\n            'v': 0,\n            'f': \"0\",\n        },\n\"non-political\",\n\"lennbeck Glenn I love your show, My mother in Germany would swear America is doing great. Do they have anyone like you in EU? Go green 420\"],\n [{\n            'v': 1446,\n            'f': \"1446\",\n        },\n{\n            'v': 1,\n            'f': \"1\",\n        },\n\"political\",\n\"your existence/twitter is a legitimate reason for the government to take(via @cameronachen)fuck outta here u saltine cracker\"],\n [{\n            'v': 1702,\n            'f': \"1702\",\n        },\n{\n            'v': 0,\n            'f': \"0\",\n        },\n\"non-political\",\n\"k isna PP mks-jkt bwt ngambil hasil lab ayah di jkt yg ketinggalan\"],\n [{\n            'v': 3120,\n            'f': \"3120\",\n        },\n{\n            'v': 0,\n            'f': \"0\",\n        },\n\"non-political\",\n\"'s a long one people...a recap of Voodoo weekend. I hope you enjoy...http://bit.ly/1vGxWG\"],\n [{\n            'v': 2857,\n            'f': \"2857\",\n        },\n{\n            'v': 0,\n            'f': \"0\",\n        },\n\"non-political\",\n\"know I'm a late comer to it, but video editing is kind of fun. Got a cool youtube tutorial for pilot types around the bend. #aviation\"],\n [{\n            'v': 1796,\n            'f': \"1796\",\n        },\n{\n            'v': 0,\n            'f': \"0\",\n        },\n\"non-political\",\n\"sponding to a domestic disturbance in the east village\"],\n [{\n            'v': 2083,\n            'f': \"2083\",\n        },\n{\n            'v': 0,\n            'f': \"0\",\n        },\n\"non-political\",\n\"king the most of my one day off work this week lol cant believe its november already.. what a year its been so far\"],\n [{\n            'v': 1758,\n            'f': \"1758\",\n        },\n{\n            'v': 0,\n            'f': \"0\",\n        },\n\"non-political\",\n\"amNvncyble oopps\"],\n [{\n            'v': 1479,\n            'f': \"1479\",\n        },\n{\n            'v': 0,\n            'f': \"0\",\n        },\n\"non-political\",\n\" the Metropolitan Republican Club for the NY County screening meeting.\"],\n [{\n            'v': 237,\n            'f': \"237\",\n        },\n{\n            'v': 1,\n            'f': \"1\",\n        },\n\"political\",\n\"RT @feminismtoday: Should your blog have an hCard? #feminism http://bit.ly/7AE3SW\"],\n [{\n            'v': 1747,\n            'f': \"1747\",\n        },\n{\n            'v': 0,\n            'f': \"0\",\n        },\n\"non-political\",\n\"ing to bed, I'm tireddddd!! Gotta work tomorrow! Hoping for more Glampire pics of @adamlambert.\"],\n [{\n            'v': 2295,\n            'f': \"2295\",\n        },\n{\n            'v': 0,\n            'f': \"0\",\n        },\n\"non-political\",\n\"ritneypoota http://twitpic.com/nxwai - kkkkkkkkkkkkkkkkkkk morri\"],\n [{\n            'v': 2047,\n            'f': \"2047\",\n        },\n{\n            'v': 0,\n            'f': \"0\",\n        },\n\"non-political\",\n\"loriabell Cherry cinnamon? That sounds quite nice!\"],\n [{\n            'v': 593,\n            'f': \"593\",\n        },\n{\n            'v': 1,\n            'f': \"1\",\n        },\n\"political\",\n\"RT @GeminiLuckyLadi #fact obama gonna break allll us black people off with some $$ in due time<<<seriously? obama does not work for the blac\"],\n [{\n            'v': 309,\n            'f': \"309\",\n        },\n{\n            'v': 1,\n            'f': \"1\",\n        },\n\"political\",\n\"RT @C4Liberty How liberals seek to increase dependency to maintain their ranks and expand their power. http://is.gd/52FkG #tlot #welfare\"],\n [{\n            'v': 1255,\n            'f': \"1255\",\n        },\n{\n            'v': 1,\n            'f': \"1\",\n        },\n\"political\",\n\"@teacraftecm Agricultural offsets are important part of Waxman Markey climate bill now in US Senate. Info on biochar: http://bit.ly/13DIB1\"],\n [{\n            'v': 1031,\n            'f': \"1031\",\n        },\n{\n            'v': 1,\n            'f': \"1\",\n        },\n\"political\",\n\"Stimulus funds set to train and hire http://bit.ly/4bSc9k\"],\n [{\n            'v': 2196,\n            'f': \"2196\",\n        },\n{\n            'v': 0,\n            'f': \"0\",\n        },\n\"non-political\",\n\"lyciameeker nah im loyal to team more but i show appreciation to a legend of the team\"],\n [{\n            'v': 1036,\n            'f': \"1036\",\n        },\n{\n            'v': 1,\n            'f': \"1\",\n        },\n\"political\",\n\"@zeiesfirdaus Please don't listen to the media. This better economy is stimulus cash.It will not last. www.rickjohnson01.com/?page_id=2\"],\n [{\n            'v': 2429,\n            'f': \"2429\",\n        },\n{\n            'v': 0,\n            'f': \"0\",\n        },\n\"non-political\",\n\"o consegui dormir, fui dormir as 3h da manha, tive pesadelos horriveis e acordei as 6h30 da manha. ODEIO. odeio nao ter espa\\u00c3\\u00a7o.\"],\n [{\n            'v': 176,\n            'f': \"176\",\n        },\n{\n            'v': 1,\n            'f': \"1\",\n        },\n\"political\",\n\"RT @glennbeck OLIGARH? Really? You are so predictable... don't miss the open. // He left out the 'C' for Communism.\"],\n [{\n            'v': 1868,\n            'f': \"1868\",\n        },\n{\n            'v': 0,\n            'f': \"0\",\n        },\n\"non-political\",\n\"\\u0160\\u00e5\\u203a\\u017e\\u00e3\\u0081\\u00ae\\u00e3\\u0192\\u2020\\u00e3\\u201a\\u00b9\\u00e3\\u0192\\u02c6\\u00e5\\u2021\\u00a1\\u00e3\\u0192\\u0178\\u00e3\\u201a\\u00b9\\u00e3\\u0081\\u0152\\u00e5\\u00a4\\u0161\\u00e3\\u0081\\u201e\\u00e3\\u0192\\u00bb\\u00e3\\u0192\\u00bb\\u00e3\\u201a\\u00b7\\u00e3\\u0192\\u00a7\\u00e3\\u0192\\u0192\\u00e3\\u201a\\u00af\\u00e3\\u0081\\u00a0\\u00e3\\u20ac\\u201a\"],\n [{\n            'v': 776,\n            'f': \"776\",\n        },\n{\n            'v': 1,\n            'f': \"1\",\n        },\n\"political\",\n\"RT @SaveBEESatHOME: Bush Consultant Mark McKinnon: Obama 'Hasn't Gotten All ...: http://bit.ly/4qkjh\"],\n [{\n            'v': 2822,\n            'f': \"2822\",\n        },\n{\n            'v': 0,\n            'f': \"0\",\n        },\n\"non-political\",\n\" much as I'm down with the Yankees winning it back in the bronx, I would have loved to see all the towel waving Phaggots get silenced.\"],\n [{\n            'v': 2390,\n            'f': \"2390\",\n        },\n{\n            'v': 0,\n            'f': \"0\",\n        },\n\"non-political\",\n\"erything I do, every breath I take, I do it 4 him. I am da best me cause I want him 2 be da best him. My life, my luv, my inspiration...\"],\n [{\n            'v': 2438,\n            'f': \"2438\",\n        },\n{\n            'v': 0,\n            'f': \"0\",\n        },\n\"non-political\",\n\"eambewleyintl OH YEAH they are awesome. the self mag shoot was so sweet. makes me wanna cuddle up .\"],\n [{\n            'v': 797,\n            'f': \"797\",\n        },\n{\n            'v': 1,\n            'f': \"1\",\n        },\n\"political\",\n\"yayurl.com/games No. 3 Republican to back Sotomayor for high court (AP) : AP - The Senate's No.. http://bit.ly/BVB5u\"],\n [{\n            'v': 1058,\n            'f': \"1058\",\n        },\n{\n            'v': 0,\n            'f': \"0\",\n        },\n\"non-political\",\n\" Afghanistan, Part Two http://bit.ly/497SZq\"],\n [{\n            'v': 3181,\n            'f': \"3181\",\n        },\n{\n            'v': 0,\n            'f': \"0\",\n        },\n\"non-political\",\n\"nu trend: Authentic, intense flavors are key to Mexican cuisine: http://bit.ly/3PEYgK\"],\n [{\n            'v': 621,\n            'f': \"621\",\n        },\n{\n            'v': 1,\n            'f': \"1\",\n        },\n\"political\",\n\"Watch this video http://metacafe.com/w/3568656/ on Metacafe - Obama Celebrates Winning the Nobel Peace Prize\"],\n [{\n            'v': 1509,\n            'f': \"1509\",\n        },\n{\n            'v': 1,\n            'f': \"1\",\n        },\n\"political\",\n\"Times Of London: Lockerbie Bomber 'Set Free For Oil': The British government decided it was \\\"in the overwhelming.. http://bit.ly/16ZU2l\"],\n [{\n            'v': 3105,\n            'f': \"3105\",\n        },\n{\n            'v': 0,\n            'f': \"0\",\n        },\n\"non-political\",\n\"y is my Dad calling everyone he knows and bragging about being diagnosed with COPD? I wonder if he realizes that it's NOT a GOOD thing?\"],\n [{\n            'v': 122,\n            'f': \"122\",\n        },\n{\n            'v': 1,\n            'f': \"1\",\n        },\n\"political\",\n\"Evil Conservative Radio: Cap and Trade: What a Great Way to ...: search engine marketing \\u00c2\\u00b7 Website Traffic - Web.. http://bit.ly/4bZ6Wp\"],\n [{\n            'v': 1234,\n            'f': \"1234\",\n        },\n{\n            'v': 0,\n            'f': \"0\",\n        },\n\"non-political\",\n\"vernment issues swine flu advice fo... - The Associated Press http://bit.ly/1Hhkmn\"],\n [{\n            'v': 2236,\n            'f': \"2236\",\n        },\n{\n            'v': 0,\n            'f': \"0\",\n        },\n\"non-political\",\n\"olution deniers like Ray Comfort should be lumped in the same group of crazies as Holocaust deniers. http://bit.ly/1XBmyB\"],\n [{\n            'v': 1907,\n            'f': \"1907\",\n        },\n{\n            'v': 0,\n            'f': \"0\",\n        },\n\"non-political\",\n\"nning Back Your Ex - The Ex Back Trick Starts With A Confident Attitude: http://ping.fm/nhaww\"],\n [{\n            'v': 304,\n            'f': \"304\",\n        },\n{\n            'v': 1,\n            'f': \"1\",\n        },\n\"political\",\n\"Quiet day today, met the prime minister and maybe i'll agree to let the conservatives pay for my election campaign to be Queen.\"],\n [{\n            'v': 2826,\n            'f': \"2826\",\n        },\n{\n            'v': 0,\n            'f': \"0\",\n        },\n\"non-political\",\n\"ady 2 c da falcons get dat asss tapped\"],\n [{\n            'v': 1262,\n            'f': \"1262\",\n        },\n{\n            'v': 0,\n            'f': \"0\",\n        },\n\"non-political\",\n\"am in the process of writing a mock constitution. the principles will be cabinet government and separation of powers.\"],\n [{\n            'v': 504,\n            'f': \"504\",\n        },\n{\n            'v': 1,\n            'f': \"1\",\n        },\n\"political\",\n\"In Asia, Obama, Medvedev see nuclear pact progress http://bit.ly/3SfE4N #WorldNews #News #AP\"],\n [{\n            'v': 403,\n            'f': \"403\",\n        },\n{\n            'v': 0,\n            'f': \"0\",\n        },\n\"non-political\",\n\" @uleadin: RT @ParulBh: Dear #Facebook,U R nt Obama.So plz stop trying 2 bring abt so much change.U won't win a NobelPeacePrize\"],\n [{\n            'v': 1618,\n            'f': \"1618\",\n        },\n{\n            'v': 0,\n            'f': \"0\",\n        },\n\"non-political\",\n\"o! Great Frankenstein Jack-O-Lantern created by my friend Lord Doodlie of Blackstar Amplification. Have a... http://bit.ly/1kNd6g\"],\n [{\n            'v': 1942,\n            'f': \"1942\",\n        },\n{\n            'v': 0,\n            'f': \"0\",\n        },\n\"non-political\",\n\"ansform Day Makeup to Night -- Fast http://bit.ly/4gUna5\"],\n [{\n            'v': 1283,\n            'f': \"1283\",\n        },\n{\n            'v': 1,\n            'f': \"1\",\n        },\n\"political\",\n\"Government insists eco-towns work with locals: Developers of first wave of eco-towns told to have closer ties wi.. http://bit.ly/lc9ul\"],\n [{\n            'v': 914,\n            'f': \"914\",\n        },\n{\n            'v': 1,\n            'f': \"1\",\n        },\n\"political\",\n\"Getting thrifty in this bad economy?? Find coupons in your zip code! http://bit.ly/8r7QyT\"],\n [{\n            'v': 2508,\n            'f': \"2508\",\n        },\n{\n            'v': 0,\n            'f': \"0\",\n        },\n\"non-political\",\n\"rbancool Awesome! I'm glad you like it :)\"],\n [{\n            'v': 673,\n            'f': \"673\",\n        },\n{\n            'v': 1,\n            'f': \"1\",\n        },\n\"political\",\n\"{memeorandum} More on Palin - I spoke to a few friends in Alaskan Republican politics yesterday. (M.. http://chilp.it/?1183d2\"],\n [{\n            'v': 373,\n            'f': \"373\",\n        },\n{\n            'v': 1,\n            'f': \"1\",\n        },\n\"political\",\n\"Labour earn more and spend less than the Conservatives in 2008 http://bit.ly/mpylo\"],\n [{\n            'v': 2679,\n            'f': \"2679\",\n        },\n{\n            'v': 0,\n            'f': \"0\",\n        },\n\"non-political\",\n\"o lazy to do my printmaking so I'll spnd the next hour doing nothing. Awesome !\"],\n [{\n            'v': 2559,\n            'f': \"2559\",\n        },\n{\n            'v': 0,\n            'f': \"0\",\n        },\n\"non-political\",\n\"espres Sorry to hear the whole fam is sick. Chickie soup all around! <ladeling up>\"],\n [{\n            'v': 2420,\n            'f': \"2420\",\n        },\n{\n            'v': 0,\n            'f': \"0\",\n        },\n\"non-political\",\n\"n't Sleep... And my music jst switchd off, and i don't feel like reading now what....? :*)\"],\n [{\n            'v': 2860,\n            'f': \"2860\",\n        },\n{\n            'v': 0,\n            'f': \"0\",\n        },\n\"non-political\",\n\"hernandezcnn Did you click on a link form a DM? If so, I did too! Just change your password.\"],\n [{\n            'v': 1962,\n            'f': \"1962\",\n        },\n{\n            'v': 0,\n            'f': \"0\",\n        },\n\"non-political\",\n\"ihnachtsgeschenke #2: Garmin GPS Forerunner 305 http://twurl.nl/xfkuvw\"],\n [{\n            'v': 1079,\n            'f': \"1079\",\n        },\n{\n            'v': 1,\n            'f': \"1\",\n        },\n\"political\",\n\"I like people who bitch about the economy despite the fact the down has risen an average of 500pts a month for the last 7 months\"],\n [{\n            'v': 616,\n            'f': \"616\",\n        },\n{\n            'v': 1,\n            'f': \"1\",\n        },\n\"political\",\n\"White House Stays Mum on Clinton Visit to North Korea http://ow.ly/j32o\"],\n [{\n            'v': 2405,\n            'f': \"2405\",\n        },\n{\n            'v': 0,\n            'f': \"0\",\n        },\n\"non-political\",\n\"was a soldier but im tumblin over.\"],\n [{\n            'v': 2036,\n            'f': \"2036\",\n        },\n{\n            'v': 0,\n            'f': \"0\",\n        },\n\"non-political\",\n\" @BoukeHaarsma: Completed my first blog entry: \\\"Optimizing SELECT * FROM with mysql_field_table()\\\" - http://bit.ly/IabNq\"],\n [{\n            'v': 463,\n            'f': \"463\",\n        },\n{\n            'v': 1,\n            'f': \"1\",\n        },\n\"political\",\n\"Bill Clinton helps free the 2 American journalists being held in NK; He promises not to hit on them during the flight back to the US.\"],\n [{\n            'v': 1750,\n            'f': \"1750\",\n        },\n{\n            'v': 0,\n            'f': \"0\",\n        },\n\"non-political\",\n\"kinda miss the academia; the only thing I don't miss is not having $$$ :-P\"],\n [{\n            'v': 1567,\n            'f': \"1567\",\n        },\n{\n            'v': 1,\n            'f': \"1\",\n        },\n\"political\",\n\"Obama's Hot-Dog Diplomacy with Iranian government! http://bit.ly/1vhf6w\"],\n [{\n            'v': 969,\n            'f': \"969\",\n        },\n{\n            'v': 1,\n            'f': \"1\",\n        },\n\"political\",\n\"UN backs \\\"innovative\\\" solutions for Iraq's war reparations to Kuwait ...http://tinyurl.com/l542w5\"],\n [{\n            'v': 2203,\n            'f': \"2203\",\n        },\n{\n            'v': 0,\n            'f': \"0\",\n        },\n\"non-political\",\n\"unMaguire_x; you can't remember?\"],\n [{\n            'v': 1027,\n            'f': \"1027\",\n        },\n{\n            'v': 1,\n            'f': \"1\",\n        },\n\"political\",\n\"Even w/ the decline in job losses out last week & this news-http://bit.ly/cDnOe, it's still hard for me to feel good about the economy. You?\"],\n [{\n            'v': 2392,\n            'f': \"2392\",\n        },\n{\n            'v': 0,\n            'f': \"0\",\n        },\n\"non-political\",\n\"a_Smilie : Hmmm.... we worked out and watched and old movie at the same time.. It was only for an hour though. And we didn't betray you.\"],\n [{\n            'v': 902,\n            'f': \"902\",\n        },\n{\n            'v': 1,\n            'f': \"1\",\n        },\n\"political\",\n\"RT @sullydoug RT @nobodysnews: Speaker Pelosi's pet project is coming out of your stimulus money http://tinyurl.com/m5qhya #tcot\"],\n [{\n            'v': 1464,\n            'f': \"1464\",\n        },\n{\n            'v': 1,\n            'f': \"1\",\n        },\n\"political\",\n\"Tories denounce Liberal MP\\u00e2\\u20ac\\u2122s immigrant pension bill: The Conservative government is attacking a Liberal MP\\u00e2\\u20ac\\u2122s pr.. http://bit.ly/3evmF3\"],\n [{\n            'v': 779,\n            'f': \"779\",\n        },\n{\n            'v': 1,\n            'f': \"1\",\n        },\n\"political\",\n\"Sailing Against Slavery: Michelle Obama\\u00e2\\u20ac\\u2122s tour of Ghana\\u00e2\\u20ac\\u2122s Cape Coast last month, was a poignant reminder of the .. http://bit.ly/9POj5\"],\n [{\n            'v': 989,\n            'f': \"989\",\n        },\n{\n            'v': 1,\n            'f': \"1\",\n        },\n\"political\",\n\"@queenroyalcrown Im not gonna do it too big. The economy is kinda shaky. Gotta be wise with the gwap lol\"],\n [{\n            'v': 1012,\n            'f': \"1012\",\n        },\n{\n            'v': 1,\n            'f': \"1\",\n        },\n\"political\",\n\"Experts say voter turnout could be a blow to Taliban #afghanistan #taliban http://bit.ly/gwXR8 http://bit.ly/3wFXv8\"],\n [{\n            'v': 2789,\n            'f': \"2789\",\n        },\n{\n            'v': 0,\n            'f': \"0\",\n        },\n\"non-political\",\n\" @sd_prince: Atlanta secondary is suspect\"],\n [{\n            'v': 3146,\n            'f': \"3146\",\n        },\n{\n            'v': 0,\n            'f': \"0\",\n        },\n\"non-political\",\n\"look and stare so deep in your eyes, I touch on you more and more every time\"],\n [{\n            'v': 2965,\n            'f': \"2965\",\n        },\n{\n            'v': 0,\n            'f': \"0\",\n        },\n\"non-political\",\n\"ihblueberry http://twitpic.com/o2dle - ah,vc mostrou o meu desenho O:\"],\n [{\n            'v': 1717,\n            'f': \"1717\",\n        },\n{\n            'v': 0,\n            'f': \"0\",\n        },\n\"non-political\",\n\"rbara's Unique Antique Boutique - Antiques and Arts Weekly http://ff.im/-aOEAu\"],\n [{\n            'v': 174,\n            'f': \"174\",\n        },\n{\n            'v': 1,\n            'f': \"1\",\n        },\n\"political\",\n\"Glad to hear that the Socialist bank bailout STARTED by George Bush and continued by Obama seems to have worked.\"],\n [{\n            'v': 2071,\n            'f': \"2071\",\n        },\n{\n            'v': 0,\n            'f': \"0\",\n        },\n\"non-political\",\n\" was bound to happen sooner or later...\\\"Channel drift\\\" has struck The Weather Channel! They're now showing...MOVIES? http://bit.ly/2MYjE6\"],\n [{\n            'v': 2976,\n            'f': \"2976\",\n        },\n{\n            'v': 0,\n            'f': \"0\",\n        },\n\"non-political\",\n\"indyparamitha makasi ya win dah bantu ngludahin . :-P\"],\n [{\n            'v': 610,\n            'f': \"610\",\n        },\n{\n            'v': 1,\n            'f': \"1\",\n        },\n\"political\",\n\"New blog post: Obama Warns of Return of Swine Flu in the Fall http://bit.ly/UpoGF\"],\n [{\n            'v': 792,\n            'f': \"792\",\n        },\n{\n            'v': 1,\n            'f': \"1\",\n        },\n\"political\",\n\"Calling North Korea's Hand http://tr.im/phQM #NK #JFK #obama\"],\n [{\n            'v': 243,\n            'f': \"243\",\n        },\n{\n            'v': 0,\n            'f': \"0\",\n        },\n\"non-political\",\n\"ll throw hardcore, metal, progressive rock and another heavy genres today. I'm gonna listening to jazzy tasty music. It's better :x\"],\n [{\n            'v': 447,\n            'f': \"447\",\n        },\n{\n            'v': 1,\n            'f': \"1\",\n        },\n\"political\",\n\"RT @nedalives4ever: Obama canceled fundings 4 #iran human rights group,& now he wins nobel prize?? http://bit.ly/2mVcCl #iranelection\"],\n [{\n            'v': 664,\n            'f': \"664\",\n        },\n{\n            'v': 0,\n            'f': \"0\",\n        },\n\"non-political\",\n\"orn #nsfw Amy Reid under the sun - http://cli.gs/ELh3Z\"],\n [{\n            'v': 2477,\n            'f': \"2477\",\n        },\n{\n            'v': 0,\n            'f': \"0\",\n        },\n\"non-political\",\n\"w to Find Holiday Car Insurance: If you're planning a vacation, you may have begun your search for holiday in.. http://bit.ly/fbfJU\"],\n [{\n            'v': 497,\n            'f': \"497\",\n        },\n{\n            'v': 1,\n            'f': \"1\",\n        },\n\"political\",\n\"It is time that America stand up to the nuclear threat which looms over our heads as Obama stands arrogant against us and not the enemies.\"],\n [{\n            'v': 21,\n            'f': \"21\",\n        },\n{\n            'v': 1,\n            'f': \"1\",\n        },\n\"political\",\n\"RT @GOT2SNAP: #CNN PROTEST! #TCOTCan You Hear Us Now? Liberal Media Bias Called Out! Tea P... http://bit.ly/19VJob\"],\n [{\n            'v': 2849,\n            'f': \"2849\",\n        },\n{\n            'v': 0,\n            'f': \"0\",\n        },\n\"non-political\",\n\"ozhned We want ice and snow! The more days missed for bad weather, the less days Nick's gone during the summer!\"],\n [{\n            'v': 2404,\n            'f': \"2404\",\n        },\n{\n            'v': 0,\n            'f': \"0\",\n        },\n\"non-political\",\n\"st took \\\"Which Disney Darling Are U Most Like?\\\" and got: Demi Lovato! Try it \\u00e2\\u017e\\u201d http://bit.ly/1k4u8c\"],\n [{\n            'v': 1957,\n            'f': \"1957\",\n        },\n{\n            'v': 0,\n            'f': \"0\",\n        },\n\"non-political\",\n\" @janelasky: RIGHT NOW IN NYC: Edward Norton, Christopher Reeve's son run New York Marathon, November 1, 2009 - http://tinyurl.com/ybh7gqm\"],\n [{\n            'v': 1805,\n            'f': \"1805\",\n        },\n{\n            'v': 0,\n            'f': \"0\",\n        },\n\"non-political\",\n\"errellowens ill go\"],\n [{\n            'v': 2351,\n            'f': \"2351\",\n        },\n{\n            'v': 0,\n            'f': \"0\",\n        },\n\"non-political\",\n\"occobocco \\u00e3\\u0081\\u201a\\u00e3\\u201a\\u0160\\u00e3\\u0081\\u0152\\u00e3\\u0081\\u00a8\\u00e3\\u0081\\u2020\\u00ef\\u00bc\\u0081\\u00ef\\u00bc\\u0081\\u00ef\\u00bc\\u0081\\u00e3\\u201a\\u00a2\\u00e3\\u0192\\u0192\\u00e3\\u0192\\u2014\\u00e3\\u0081\\u2014\\u00e3\\u0081\\u00be\\u00e3\\u0081\\u2122\\u00ef\\u00bc\\u0081\"],\n [{\n            'v': 1503,\n            'f': \"1503\",\n        },\n{\n            'v': 1,\n            'f': \"1\",\n        },\n\"political\",\n\"[E]ver since the Reagan years, the Republican Party has been dominated by radicals. \\u00e2\\u20ac\\u201dPaul Krugman http://bit.ly/2uJwBy (via @manyko2)\"],\n [{\n            'v': 856,\n            'f': \"856\",\n        },\n{\n            'v': 1,\n            'f': \"1\",\n        },\n\"political\",\n\"Asian markets gain as G20 commits to maintain economic stimulus; Euro in Range, Pound eases: FXstreet.com (Barce.. http://bit.ly/106SRD\"],\n [{\n            'v': 884,\n            'f': \"884\",\n        },\n{\n            'v': 1,\n            'f': \"1\",\n        },\n\"political\",\n\"RT @phmadore made \\\"In the Rear w/the Gear (for Jereme Dean & Set)viddler: http://www.viddler.com/expl... Wow, like, you are in Iraq n shit.\"],\n [{\n            'v': 1441,\n            'f': \"1441\",\n        },\n{\n            'v': 1,\n            'f': \"1\",\n        },\n\"political\",\n\"Health Scheme SABLA For Adolescent Girls From Central Government: \\\"The ministry has als.. http://bit.ly/11PINa http://bit.ly/LO8MJ\"],\n [{\n            'v': 2121,\n            'f': \"2121\",\n        },\n{\n            'v': 0,\n            'f': \"0\",\n        },\n\"non-political\",\n\"lloween Recap on the blog: http://www.michellesidles.com/\"],\n [{\n            'v': 381,\n            'f': \"381\",\n        },\n{\n            'v': 1,\n            'f': \"1\",\n        },\n\"political\",\n\"Conservatives 2009: Shadow Health Secretary Articulates The Tory Vision For The NHS: In his spee.. http://bit.ly/31E3MN - eGov monitor\"],\n [{\n            'v': 2070,\n            'f': \"2070\",\n        },\n{\n            'v': 0,\n            'f': \"0\",\n        },\n\"non-political\",\n\"anniiMinogue Dannii i was wondering why u don't perform on the x factor coz cheryl did and your waaayyy better!! xx\"],\n [{\n            'v': 1737,\n            'f': \"1737\",\n        },\n{\n            'v': 0,\n            'f': \"0\",\n        },\n\"non-political\",\n\"ok the \\\"Qual desenho animado voc\\u00c3\\u00aa seria?\\\" quiz & got: Arnold! What about you? \\u00e2\\u017e\\u0153 http://bit.ly/3DDNfs\"],\n [{\n            'v': 1940,\n            'f': \"1940\",\n        },\n{\n            'v': 0,\n            'f': \"0\",\n        },\n\"non-political\",\n\"ink my blood pressure just doubled! What a fight between Button & Webber, may have forgotten to breathe for most of that lap#F1\"],\n [{\n            'v': 1797,\n            'f': \"1797\",\n        },\n{\n            'v': 0,\n            'f': \"0\",\n        },\n\"non-political\",\n\"ancespoetwoman why\"],\n [{\n            'v': 2091,\n            'f': \"2091\",\n        },\n{\n            'v': 0,\n            'f': \"0\",\n        },\n\"non-political\",\n\"ackiejonas15 hahaha im just kidding i do too\"],\n [{\n            'v': 2314,\n            'f': \"2314\",\n        },\n{\n            'v': 0,\n            'f': \"0\",\n        },\n\"non-political\",\n\"eohot Old AND new 3GS?\"],\n [{\n            'v': 2713,\n            'f': \"2713\",\n        },\n{\n            'v': 0,\n            'f': \"0\",\n        },\n\"non-political\",\n\"t the Phillies win today! And go back to Yankee stadium to win\"],\n [{\n            'v': 2215,\n            'f': \"2215\",\n        },\n{\n            'v': 0,\n            'f': \"0\",\n        },\n\"non-political\",\n\"uld you imagine a city bus with Swangers ????\"],\n [{\n            'v': 393,\n            'f': \"393\",\n        },\n{\n            'v': 1,\n            'f': \"1\",\n        },\n\"political\",\n\"Clinton's Law: 'It's the economy ...' http://ow.ly/15L4Tk\"],\n [{\n            'v': 2232,\n            'f': \"2232\",\n        },\n{\n            'v': 0,\n            'f': \"0\",\n        },\n\"non-political\",\n\"hnny damon, you're an idiot WHY DID YOU DIVE FOR THAT BALL? Let's go yankees!\"],\n [{\n            'v': 1189,\n            'f': \"1189\",\n        },\n{\n            'v': 1,\n            'f': \"1\",\n        },\n\"political\",\n\"Hear Pat Reynolds at itSMF Fusion today at 11:15 CT- Managing the Cloud in the New Economy http://ow.ly/qjcf #cloud #ibm ^KH\"],\n [{\n            'v': 633,\n            'f': \"633\",\n        },\n{\n            'v': 0,\n            'f': \"0\",\n        },\n\"non-political\",\n\"p! Ahmadinejad, obama and mouammar have just joined us too!! welcome to Lion King dAY Commemorations!!\"],\n [{\n            'v': 1380,\n            'f': \"1380\",\n        },\n{\n            'v': 1,\n            'f': \"1\",\n        },\n\"political\",\n\"RT @dylanmsnbc http://bit.ly/19Yyro Ron Paul on Fed.We need to shine light on every aspect of our government.Secrets too often equal theft.\"],\n [{\n            'v': 2237,\n            'f': \"2237\",\n        },\n{\n            'v': 0,\n            'f': \"0\",\n        },\n\"non-political\",\n\"lvador Dali \\u00c3\\u00a9 um bom nome.\"],\n [{\n            'v': 1701,\n            'f': \"1701\",\n        },\n{\n            'v': 0,\n            'f': \"0\",\n        },\n\"non-political\",\n\"\\u201c\\u00e9\\u0081\\u2022\\u00e3\\u0081\\u00a3\\u00e3\\u0081\\u00a6\\u00e9\\u20ac\\u2020\\u00e3\\u0081\\u00ab\\u00e4\\u00b9\\u2014\\u00e3\\u0081\\u00a3\\u00e3\\u0081\\u00a6\\u00e3\\u0081\\u2014\\u00e3\\u0081\\u00be\\u00e3\\u0081\\u00a3\\u00e3\\u0081\\u00a6\\u00e5\\u201c\\u0081\\u00e5\\u00b7\\u009d\\u00e3\\u0081\\u00be\\u00e3\\u0081\\u00a7\\u00e8\\u00a1\\u0152\\u00e3\\u0081\\u00a3\\u00e3\\u0081\\u00a6\\u00e3\\u0081\\u2014\\u00e3\\u0081\\u00be\\u00e3\\u0081\\u0178(\\u00e3\\u0192\\u017d\\u00e2\\u2013\\u00b3\\u00ef\\u00bc\\u00b4)\"],\n [{\n            'v': 28,\n            'f': \"28\",\n        },\n{\n            'v': 0,\n            'f': \"0\",\n        },\n\"non-political\",\n\"hate Flo from the Progressive commercials. So fkn annoying.\"],\n [{\n            'v': 110,\n            'f': \"110\",\n        },\n{\n            'v': 1,\n            'f': \"1\",\n        },\n\"political\",\n\"OMG GOP WTF?! Heard the latest conservative claptrap? Take quiz to benefit lefty org & get the sticker http://bit.ly/yz8wE #p2 #noisemachine\"],\n [{\n            'v': 2134,\n            'f': \"2134\",\n        },\n{\n            'v': 0,\n            'f': \"0\",\n        },\n\"non-political\",\n\"ckenziewark Did they just take the functional prerequisites of society and replace them with things in academia?\"],\n [{\n            'v': 2904,\n            'f': \"2904\",\n        },\n{\n            'v': 0,\n            'f': \"0\",\n        },\n\"non-political\",\n\" you use twidroid I need your help. How do I see my followers and who I'm following\"],\n [{\n            'v': 2503,\n            'f': \"2503\",\n        },\n{\n            'v': 0,\n            'f': \"0\",\n        },\n\"non-political\",\n\" lupa satu hal lg, dosa jg menumpuk RT @yosie24: Tugas menumpuk.kerjaan menumpuk.lemak diperut ikutan menumpuk!!bagooos\"],\n [{\n            'v': 798,\n            'f': \"798\",\n        },\n{\n            'v': 1,\n            'f': \"1\",\n        },\n\"political\",\n\"RT @AMERICAblogGay: The Advocate learns that there still is no strategy for DADT repeal: This is disturbing. As we've been noting, the . ...\"],\n [{\n            'v': 2809,\n            'f': \"2809\",\n        },\n{\n            'v': 0,\n            'f': \"0\",\n        },\n\"non-political\",\n\"know it's not Friday... but follow @2ndCityHockey. literally the greatest and funniest tweets ever. and they're about hockey. win win.\"],\n [{\n            'v': 2547,\n            'f': \"2547\",\n        },\n{\n            'v': 0,\n            'f': \"0\",\n        },\n\"non-political\",\n\"eathbyChoco You are so right! I wonder why people do some of the things they do to others.\"],\n [{\n            'v': 2928,\n            'f': \"2928\",\n        },\n{\n            'v': 0,\n            'f': \"0\",\n        },\n\"non-political\",\n\"ww 6 minutes and 4 supporters? thanks everyone and thanks @bieberpaparazzi <- follow amazing :)\"],\n [{\n            'v': 3182,\n            'f': \"3182\",\n        },\n{\n            'v': 0,\n            'f': \"0\",\n        },\n\"non-political\",\n\"ether Yes. Their pay is on the low side, about $10/hour, and I'd have to commute from Columbia.\"],\n [{\n            'v': 196,\n            'f': \"196\",\n        },\n{\n            'v': 0,\n            'f': \"0\",\n        },\n\"non-political\",\n\"TM rocks...i remember I saw them for free in 2000 in LA...then got pepper sprayed by LAPD because they thought I was riotting/anarchist.\"],\n [{\n            'v': 1804,\n            'f': \"1804\",\n        },\n{\n            'v': 0,\n            'f': \"0\",\n        },\n\"non-political\",\n\"enePerez YEah!! DONT!!!\"],\n [{\n            'v': 2749,\n            'f': \"2749\",\n        },\n{\n            'v': 0,\n            'f': \"0\",\n        },\n\"non-political\",\n\"ray_ozonemag sounds like you're going on a tour new day new stop\"],\n [{\n            'v': 1493,\n            'f': \"1493\",\n        },\n{\n            'v': 1,\n            'f': \"1\",\n        },\n\"political\",\n\"Latest News Healthcare bill limpid's Senate hurdle : A bruising debate on health c.. http://bit.ly/085ls9e MedicExchange.com\"],\n [{\n            'v': 2676,\n            'f': \"2676\",\n        },\n{\n            'v': 0,\n            'f': \"0\",\n        },\n\"non-political\",\n\"onnieWahlberg Are you here yet? :) I miss you... FINN TWUG!\"],\n [{\n            'v': 2707,\n            'f': \"2707\",\n        },\n{\n            'v': 0,\n            'f': \"0\",\n        },\n\"non-political\",\n\"at pretty much sums it up for crazy iPhone news. I hope you all enjoyed the news and we'll see you again at the Belus launch.\"],\n [{\n            'v': 2315,\n            'f': \"2315\",\n        },\n{\n            'v': 0,\n            'f': \"0\",\n        },\n\"non-political\",\n\"hh just hanging out beofre i go read some of New Moon before i crash!\"],\n [{\n            'v': 2636,\n            'f': \"2636\",\n        },\n{\n            'v': 0,\n            'f': \"0\",\n        },\n\"non-political\",\n\" @canimmigrant: Tips on getting the job - Q&A with immigrant head of human resources at RBC http://bit.ly/2GyhFu\"],\n [{\n            'v': 2384,\n            'f': \"2384\",\n        },\n{\n            'v': 0,\n            'f': \"0\",\n        },\n\"non-political\",\n\"ing to try print ambers card. may get distracted and not come back tbqh. ;D\"],\n [{\n            'v': 167,\n            'f': \"167\",\n        },\n{\n            'v': 0,\n            'f': \"0\",\n        },\n\"non-political\",\n\"wBlue: Josh on JJ and NFL Socialism - http://tinyurl.com/lstgnz\"],\n [{\n            'v': 1391,\n            'f': \"1391\",\n        },\n{\n            'v': 1,\n            'f': \"1\",\n        },\n\"political\",\n\"Whole Foods CEO denounces government-run healthcare. Liberals announce boycott; conservatives praise. http://bit.ly/rnHE5\"],\n [{\n            'v': 1344,\n            'f': \"1344\",\n        },\n{\n            'v': 1,\n            'f': \"1\",\n        },\n\"political\",\n\"Democrats hope 'revolution' foments in the Senate http://bit.ly/bML4Y now\"],\n [{\n            'v': 1205,\n            'f': \"1205\",\n        },\n{\n            'v': 1,\n            'f': \"1\",\n        },\n\"political\",\n\"Democrats are stupid. Health Reform bill cuts Medicare. What age group has the highest voter turnout. Look for Republican gains in 2010.\"],\n [{\n            'v': 2291,\n            'f': \"2291\",\n        },\n{\n            'v': 0,\n            'f': \"0\",\n        },\n\"non-political\",\n\"urillosimoes @gabigomes era pra voces estarem aqui!\"],\n [{\n            'v': 1046,\n            'f': \"1046\",\n        },\n{\n            'v': 1,\n            'f': \"1\",\n        },\n\"political\",\n\"Inmate threatened to shoot KS governor, authorities allege: For \\\"wrecking the Kansas economy,\\\" according to a l.. http://bit.ly/4CrHA5\"],\n [{\n            'v': 2570,\n            'f': \"2570\",\n        },\n{\n            'v': 0,\n            'f': \"0\",\n        },\n\"non-political\",\n\" @OKMagazine: The Last Word with Whitney Port http://bit.ly/KJ2pk\"],\n [{\n            'v': 742,\n            'f': \"742\",\n        },\n{\n            'v': 1,\n            'f': \"1\",\n        },\n\"political\",\n\"Swine Flu Prevention Video, Obama Declares Swine Flu National Emergency Video a must see: http://bit.ly/SUxlJ\"],\n [{\n            'v': 354,\n            'f': \"354\",\n        },\n{\n            'v': 1,\n            'f': \"1\",\n        },\n\"political\",\n\"RT @joanwalsh: later re-introduced, from scratch, and resulted in a better outcome for liberals? Because I can't.\"],\n [{\n            'v': 1155,\n            'f': \"1155\",\n        },\n{\n            'v': 1,\n            'f': \"1\",\n        },\n\"political\",\n\"U.S. Army Corps of Engineers, Gulf Region South District employees stationed in Basra, Iraq - Wish you the best of... http://bit.ly/6s55QA\"],\n [{\n            'v': 2802,\n            'f': \"2802\",\n        },\n{\n            'v': 0,\n            'f': \"0\",\n        },\n\"non-political\",\n\"avalcazara auahuaha eh ruim mesmo. mas vou sentir falta do calor.. quando tiver morando ai em itapeva.. uhasuahs\"],\n [{\n            'v': 5,\n            'f': \"5\",\n        },\n{\n            'v': 1,\n            'f': \"1\",\n        },\n\"political\",\n\"@Karoli check @RepJackKimble explains brownshirts. Conservative action plan for august recess http://bit.ly/1902Aa All mtgs disrupted\"],\n [{\n            'v': 1096,\n            'f': \"1096\",\n        },\n{\n            'v': 1,\n            'f': \"1\",\n        },\n\"political\",\n\"Obama to unveil plan to add troops in Afghanistan http://m.apnews.com/ap/db_16026/contentdetail.htm?contentguid=Ea08qqUD\"],\n [{\n            'v': 2254,\n            'f': \"2254\",\n        },\n{\n            'v': 0,\n            'f': \"0\",\n        },\n\"non-political\",\n\"Keep your voice down, you never know who's listening..\\\"\"],\n [{\n            'v': 116,\n            'f': \"116\",\n        },\n{\n            'v': 1,\n            'f': \"1\",\n        },\n\"political\",\n\"@julie_posetti That's because Minchin is really a zombie. My evil plan to infiltrate the Liberal party went wrong and now they... AAGGHH!\"],\n [{\n            'v': 12,\n            'f': \"12\",\n        },\n{\n            'v': 0,\n            'f': \"0\",\n        },\n\"non-political\",\n\" @pauldramos: RT @pauldramos: RT @Carivintas: Live progressive jazz 2night from 6 till 9 pm! Come jazz and joll?!?\"],\n [{\n            'v': 477,\n            'f': \"477\",\n        },\n{\n            'v': 1,\n            'f': \"1\",\n        },\n\"political\",\n\"WHAT'S WRONG WITH MORE WATER ON THE EARTH? :)I LOVE WATER, THE CLIMATE IS MADE TO CHANGE, HOPE AND CHANGE MORE CLIMATE CHANGE OBAMA 4 CHANGE\"],\n [{\n            'v': 1625,\n            'f': \"1625\",\n        },\n{\n            'v': 0,\n            'f': \"0\",\n        },\n\"non-political\",\n\"tp://twitpic.com/ns5c3 - @ali_sweeney bry pic signed cma fest\"],\n [{\n            'v': 1597,\n            'f': \"1597\",\n        },\n{\n            'v': 1,\n            'f': \"1\",\n        },\n\"political\",\n\"Rachel Maddow & The Republican \\\"Obama Birther Caucus\\\" http://bit.ly/jfgTZ\"],\n [{\n            'v': 1790,\n            'f': \"1790\",\n        },\n{\n            'v': 0,\n            'f': \"0\",\n        },\n\"non-political\",\n\"ews #Environment #Nature Turmoil from climate change poses security risks http://economictimes.indiatimes.com/articleshow/5175652.cms\"],\n [{\n            'v': 3059,\n            'f': \"3059\",\n        },\n{\n            'v': 0,\n            'f': \"0\",\n        },\n\"non-political\",\n\" @RevRunWisdom Stop trying 2 b like everyone else, When ur some1 who's different, fly, dope & unusual, EVERYBODY will try to be like you!\"],\n [{\n            'v': 2113,\n            'f': \"2113\",\n        },\n{\n            'v': 0,\n            'f': \"0\",\n        },\n\"non-political\",\n\"larars_ ainda bem q briga com os pais \\u00c3\\u00b1 dura muito.. minha m\\u00c3\\u00a3e j\\u00c3\\u00a1 t\\u00c3\\u00a1 amavel denovo HDIUSAHDIS mas eles n\\u00c3\\u00a3o entendem a gnt msm, \\u00c3\\u00a9 a vida ;)\"],\n [{\n            'v': 498,\n            'f': \"498\",\n        },\n{\n            'v': 1,\n            'f': \"1\",\n        },\n\"political\",\n\"Sarah Palin: bad for America, bad for democracy, and bad at Scrabble: http://bit.ly/55quqm\"],\n [{\n            'v': 2494,\n            'f': \"2494\",\n        },\n{\n            'v': 0,\n            'f': \"0\",\n        },\n\"non-political\",\n\"ropean shares rose modestly, after big losses in Asia, as solid manufacturing data from the euro zone helped .. http://bit.ly/4bwJYR\"],\n [{\n            'v': 1035,\n            'f': \"1035\",\n        },\n{\n            'v': 1,\n            'f': \"1\",\n        },\n\"political\",\n\"in gaylord... signing up for collage classes tomorrow. ukkk...how am i ganna get a job in this economy while i attend school\"],\n [{\n            'v': 221,\n            'f': \"221\",\n        },\n{\n            'v': 1,\n            'f': \"1\",\n        },\n\"political\",\n\"report ComSymps RT @kimberlybryant @danieldelazion \\\"Communism doesn't work because people like to own stuff.\\\" *\"],\n [{\n            'v': 611,\n            'f': \"611\",\n        },\n{\n            'v': 1,\n            'f': \"1\",\n        },\n\"political\",\n\"trur Teknologir\\u00c3\\u00a5det er litt vel forelska i Obama...\"],\n [{\n            'v': 1856,\n            'f': \"1856\",\n        },\n{\n            'v': 0,\n            'f': \"0\",\n        },\n\"non-political\",\n\"lstar\\\" - meine Lieblingsapfelsorte! *m\\u00c3\\u00bcmmel*mampf*\"],\n [{\n            'v': 2474,\n            'f': \"2474\",\n        },\n{\n            'v': 0,\n            'f': \"0\",\n        },\n\"non-political\",\n\"IT REAL! the past few weeks startin to feel like the late 90s early 00s when we used 2 get trash bag cash! http://lnk.ms/1r8wq\"],\n [{\n            'v': 270,\n            'f': \"270\",\n        },\n{\n            'v': 1,\n            'f': \"1\",\n        },\n\"political\",\n\"@RonboTex What about Ted Roosevelt and Taft who busted the trusts and monolopies? Those were the results of free market capitalism.\"],\n [{\n            'v': 1644,\n            'f': \"1644\",\n        },\n{\n            'v': 0,\n            'f': \"0\",\n        },\n\"non-political\",\n\"andismoye Are you trying to say I have a big bush? #mybushfitsmany @sweetlikesandi\"],\n [{\n            'v': 2936,\n            'f': \"2936\",\n        },\n{\n            'v': 0,\n            'f': \"0\",\n        },\n\"non-political\",\n\" @ms_nunez Attention: @GWPHOTOGRAPHY will be in NY/PA Nov. 12-14!!! Want a shoot? LET ME KNOW! Or tell him! 405 512 4290\"],\n [{\n            'v': 1523,\n            'f': \"1523\",\n        },\n{\n            'v': 1,\n            'f': \"1\",\n        },\n\"political\",\n\"Thinking about Health Care Reform. Your thoughts? Should we go with a government option or not? Pros and cons?\"],\n [{\n            'v': 1531,\n            'f': \"1531\",\n        },\n{\n            'v': 1,\n            'f': \"1\",\n        },\n\"political\",\n\"RT @AlexKmn Make your icon green to show support of a people's right to choose their own government #iranelection\"],\n [{\n            'v': 2044,\n            'f': \"2044\",\n        },\n{\n            'v': 0,\n            'f': \"0\",\n        },\n\"non-political\",\n\" I am not riding with the team today, they are paying to ride, that does not seem right.\"],\n [{\n            'v': 24,\n            'f': \"24\",\n        },\n{\n            'v': 1,\n            'f': \"1\",\n        },\n\"political\",\n\"STAND UP FOR BECK:RT @organicsgrow P&G 513-983-1100 Progressive Christy 440-395-0135 Coleen 937-865-1624 here r #s 2 call that dropped ads\"],\n [{\n            'v': 2741,\n            'f': \"2741\",\n        },\n{\n            'v': 0,\n            'f': \"0\",\n        },\n\"non-political\",\n\"www it was mad good to see you the other night..it felt like the old days again =0) well almost lol @alima_J\"],\n [{\n            'v': 2319,\n            'f': \"2319\",\n        },\n{\n            'v': 0,\n            'f': \"0\",\n        },\n\"non-political\",\n\"CK AT IT RECORD DEAL BOUND !!!!! FOKISSED ON MY BIZ\"],\n [{\n            'v': 1208,\n            'f': \"1208\",\n        },\n{\n            'v': 0,\n            'f': \"0\",\n        },\n\"non-political\",\n\"ease reassure us http://ow.ly/hj3F Government seeks to reassure public over swine flu\"],\n [{\n            'v': 2120,\n            'f': \"2120\",\n        },\n{\n            'v': 0,\n            'f': \"0\",\n        },\n\"non-political\",\n\"d better start practicing! RT @FunFactoryGames We are working on a Skeeball league\"],\n [{\n            'v': 2777,\n            'f': \"2777\",\n        },\n{\n            'v': 0,\n            'f': \"0\",\n        },\n\"non-political\",\n\"tsRayJ MTV aired the 1st episode 3pm earlier... u need to sue them bro\"],\n [{\n            'v': 2982,\n            'f': \"2982\",\n        },\n{\n            'v': 0,\n            'f': \"0\",\n        },\n\"non-political\",\n\"hetisMercurio They never mention how he only had one testicle. My favourite Hitler fact.\"],\n [{\n            'v': 934,\n            'f': \"934\",\n        },\n{\n            'v': 1,\n            'f': \"1\",\n        },\n\"political\",\n\"RT @rhondadoty CNN: U.S. soldier captured in Afghanistan, the military said. Missing since June 30. (via @BreakingNews)\"],\n [{\n            'v': 2465,\n            'f': \"2465\",\n        },\n{\n            'v': 0,\n            'f': \"0\",\n        },\n\"non-political\",\n\": @mobmag: If Elton John dies, who will sing at his funeral? > Fairies I reckon... :P\"],\n [{\n            'v': 2981,\n            'f': \"2981\",\n        },\n{\n            'v': 0,\n            'f': \"0\",\n        },\n\"non-political\",\n\"ecroWolf \\u00d0\\u0178\\u00d1\\u20ac\\u00d0\\u00be\\u00d0\\u00b4\\u00d1\\u017d\\u00d1\\u0081\\u00d0\\u00b5\\u00d1\\u20ac \\u00d1\\u201a\\u00d1\\u20ac\\u00d0\\u00b0\\u00d0\\u00bd\\u00d1\\u0081\\u00d0\\u00be\\u00d0\\u00b2\\u00d0\\u00be\\u00d0\\u00b9 \\u00d0\\u00bc\\u00d1\\u0192\\u00d0\\u00b7\\u00d1\\u2039\\u00d0\\u00ba\\u00d0\\u00b8. \\u00d0\\u0178\\u00d0\\u00be \\u00d0\\u00be\\u00d0\\u00bf\\u00d1\\u2039\\u00d1\\u201a\\u00d1\\u0192 \\u00d0\\u00b7\\u00d0\\u00bd\\u00d0\\u00b0\\u00d1\\u017d, \\u00d1\\u2021\\u00d1\\u201a\\u00d0\\u00be \\u00d0\\u00bc\\u00d0\\u00b5\\u00d1\\u20ac\\u00d1\\u2021\\u00d0\\u00b5\\u00d0\\u00bd\\u00d0\\u00b4\\u00d0\\u00b0\\u00d0\\u00b9\\u00d0\\u00b7\\u00d0\\u00b8\\u00d0\\u00bd\\u00d0\\u00b3 \\u00d0\\u00b4\\u00d0\\u00b0\\u00d0\\u00b5\\u00d1\\u201a \\u00d0\\u00be\\u00d1\\u2021\\u00d0\\u00b5\\u00d0\\u00bd\\u00d1\\u0152 \\u00d0\\u00bc\\u00d0\\u00b0\\u00d0\\u00bb\\u00d0\\u00be.\"],\n [{\n            'v': 654,\n            'f': \"654\",\n        },\n{\n            'v': 1,\n            'f': \"1\",\n        },\n\"political\",\n\"Federal Diary: Bargaining rights loom large : President Obama wants to issue an executive order creating panel.. http://bit.ly/3zknc0\"],\n [{\n            'v': 1469,\n            'f': \"1469\",\n        },\n{\n            'v': 1,\n            'f': \"1\",\n        },\n\"political\",\n\"On my way to the Utah County Republican Party Central Committee Meeting! See ya there! #utah #utpol\"],\n [{\n            'v': 2455,\n            'f': \"2455\",\n        },\n{\n            'v': 0,\n            'f': \"0\",\n        },\n\"non-political\",\n\"need to study, heaps...but my mind is all over the place & i can't concentrate.\"],\n [{\n            'v': 3132,\n            'f': \"3132\",\n        },\n{\n            'v': 0,\n            'f': \"0\",\n        },\n\"non-political\",\n\"oow am i supposed to learn anything when my damn teacher doesnt even know how to do the problem i need help on! ugh\"],\n [{\n            'v': 1779,\n            'f': \"1779\",\n        },\n{\n            'v': 0,\n            'f': \"0\",\n        },\n\"non-political\",\n\"laaaww beyy kesel sm siapanya luu?RT @BeyaNatassha: @sasyanjani hahaha si Lintang noh mau ngajak ribut di D wqwqwq, lama lama kesel gue .\"],\n [{\n            'v': 1519,\n            'f': \"1519\",\n        },\n{\n            'v': 1,\n            'f': \"1\",\n        },\n\"political\",\n\"Sri Lanka government not off the hook yet. Execution of captured Tamils, tied and blindfolded, shot. World needs to be aware of police stat\"],\n [{\n            'v': 2840,\n            'f': \"2840\",\n        },\n{\n            'v': 0,\n            'f': \"0\",\n        },\n\"non-political\",\n\"nadeau I am good and you hun?\"],\n [{\n            'v': 31,\n            'f': \"31\",\n        },\n{\n            'v': 1,\n            'f': \"1\",\n        },\n\"political\",\n\"Reds under beds! RT @JaanKyle @nelsontejada oh hell yeah he was, racist as all hell. and socialist\"],\n [{\n            'v': 62,\n            'f': \"62\",\n        },\n{\n            'v': 0,\n            'f': \"0\",\n        },\n\"non-political\",\n\"imonech I'm generally liberal in deleting those no@no.com comments if they aren't constructive.\"],\n [{\n            'v': 2433,\n            'f': \"2433\",\n        },\n{\n            'v': 0,\n            'f': \"0\",\n        },\n\"non-political\",\n\"CC to offer green technology courses: Her topic focuses on \\u00e2\\u20ac\\u0153Going Green, It's Easier Than You Think.\\u00e2\\u20ac\\u009d Wei.. http://bit.ly/4zxItq\"],\n [{\n            'v': 2943,\n            'f': \"2943\",\n        },\n{\n            'v': 0,\n            'f': \"0\",\n        },\n\"non-political\",\n\"\\u2020\\u00e5\\u00a3\\u00b2\\u00e7\\u00b9\\u0081\\u00e6\\u02dc\\u0152: \\u00ef\\u00bc\\u2018\\u00ef\\u00bc\\u0090\\u00e5\\u00b9\\u00b4\\u00e6\\u009d\\u00a5\\u00e3\\u0081\\u00ae\\u00e5\\u2026\\u02c6\\u00e8\\u00bc\\u00a9\\u00e3\\u0081\\u00a7\\u00e3\\u0081\\u201a\\u00e3\\u201a\\u0160\\u00e5\\u008f\\u2039\\u00e4\\u00ba\\u00ba\\u00e3\\u0081\\u00a7\\u00e3\\u0081\\u201a\\u00e3\\u201a\\u0160\\u00e3\\u0192\\u201c\\u00e3\\u201a\\u00b8\\u00e3\\u0192\\u008d\\u00e3\\u201a\\u00b9\\u00e3\\u0192\\u2018\\u00e3\\u0192\\u00bc\\u00e3\\u0192\\u02c6\\u00e3\\u0192\\u0160\\u00e3\\u0192\\u00bc\\u00e3\\u0081\\u00a7\\u00e3\\u201a\\u201a\\u00e3\\u0081\\u201a\\u00e3\\u201a\\u2039\\u00e4\\u00ba\\u00ba\\u00e3\\u201a\\u02c6\\u00e3\\u201a\\u0160\\u00e3\\u0081\\u00a7\\u00e3\\u0081\\u201e\\u00e3\\u0081\\u0178\\u00e3\\u0081\\u00a0\\u00e3\\u0081\\u008d\\u00e3\\u0081\\u00be\\u00e3\\u0081\\u2014\\u00e3\\u0081\\u0178\\u00e3\\u20ac\\u0081\\u00e3\\u0081\\u00aa\\u00e3\\u0081\\u00ab\\u00e3\\u0081\\u2019\\u00e3\\u0081\\u00ab\\u00e5\\u00ac\\u2030\\u00e3\\u0081\\u2014\\u00e3\\u0081\\u201e\\u00e3\\u201a\\u201a\\u00e3\\u0081\\u00ae\\u00e3\\u0081\\u00a7\\u00e3\\u0081\\u2122\\u00e3\\u20ac\\u201a http://bit.ly/23i0vs\"],\n [{\n            'v': 2016,\n            'f': \"2016\",\n        },\n{\n            'v': 0,\n            'f': \"0\",\n        },\n\"non-political\",\n\"rnKey MovableType Live CD 2009.02-hardy-x86 http://bit.ly/4iIFli\"],\n [{\n            'v': 1917,\n            'f': \"1917\",\n        },\n{\n            'v': 0,\n            'f': \"0\",\n        },\n\"non-political\",\n\"ser RT @corbuzier: Watching MJ This is it!!!!!!\"],\n [{\n            'v': 1707,\n            'f': \"1707\",\n        },\n{\n            'v': 0,\n            'f': \"0\",\n        },\n\"non-political\",\n\"ded to a feed: Phineas replied to SMOKIN's discussion 'sydbma has $1200 for courier cup' http://st.tl/6Cik0\"],\n [{\n            'v': 1829,\n            'f': \"1829\",\n        },\n{\n            'v': 0,\n            'f': \"0\",\n        },\n\"non-political\",\n\"rah... This is it ---> harusnya kita nonton brg ya sir!! I miss you BB!!\"],\n [{\n            'v': 2711,\n            'f': \"2711\",\n        },\n{\n            'v': 0,\n            'f': \"0\",\n        },\n\"non-political\",\n\"need to be able to block certain sites on the internet when I'm trying to do homework because 30mins later I've barely made a dent.\"],\n [{\n            'v': 2423,\n            'f': \"2423\",\n        },\n{\n            'v': 0,\n            'f': \"0\",\n        },\n\"non-political\",\n\"h saya mau juga dooonggg~ RT @wowrizaliwow Asiiik ditraktir suis butcher!! Alhamdulillah rezeki emang ga kemana.hehe\"],\n [{\n            'v': 2828,\n            'f': \"2828\",\n        },\n{\n            'v': 0,\n            'f': \"0\",\n        },\n\"non-political\",\n\"w blog post: Perfume and Cologne Categories and Families: Categories Of Perfume http://www.tomydate.com/blog/?p=16290\"],\n [{\n            'v': 2063,\n            'f': \"2063\",\n        },\n{\n            'v': 0,\n            'f': \"0\",\n        },\n\"non-political\",\n\"iszpanic tNx gurlie. imagine if my future baby fathers saw mii. lmaoo we woulda started the baby mekin last night\"],\n [{\n            'v': 2991,\n            'f': \"2991\",\n        },\n{\n            'v': 0,\n            'f': \"0\",\n        },\n\"non-political\",\n\" @JoLynneValerie Good morning! It's a new day in which to let go of the past and jump w/ both feet into your current life.\"],\n [{\n            'v': 164,\n            'f': \"164\",\n        },\n{\n            'v': 1,\n            'f': \"1\",\n        },\n\"political\",\n\"CIA Interrogation investigation - Liberal healthcare distraction, attempt to revive anti-Bush anti-Republican rhetoric, and just plain dumb\"],\n [{\n            'v': 2780,\n            'f': \"2780\",\n        },\n{\n            'v': 0,\n            'f': \"0\",\n        },\n\"non-political\",\n\"u know what time it is...!\"],\n [{\n            'v': 1945,\n            'f': \"1945\",\n        },\n{\n            'v': 0,\n            'f': \"0\",\n        },\n\"non-political\",\n\"eetsand lolol....this isn't even associated with my real name, I don't think. How the hell DID you find me?\"],\n [{\n            'v': 1566,\n            'f': \"1566\",\n        },\n{\n            'v': 1,\n            'f': \"1\",\n        },\n\"political\",\n\"Serfdom via Land Restriction in BC: How The Government Owns You - http://t.atsmix.com/t506152\"],\n [{\n            'v': 1408,\n            'f': \"1408\",\n        },\n{\n            'v': 1,\n            'f': \"1\",\n        },\n\"political\",\n\"RT @PRS_Safety: Welsh Assembly Government signs pledge to reduce work related deaths and injuries - http://tinyurl.com/yhkourb\"],\n [{\n            'v': 1458,\n            'f': \"1458\",\n        },\n{\n            'v': 1,\n            'f': \"1\",\n        },\n\"political\",\n\"RT @TheGreenPlanet: New York Mandates That All New Government Buildings Go Green http://bit.ly/yq3Xt\"],\n [{\n            'v': 239,\n            'f': \"239\",\n        },\n{\n            'v': 0,\n            'f': \"0\",\n        },\n\"non-political\",\n\"elsVFP LOL. Well it's shiny red and one of the more conservative dresses I own since it comes to my knees. I just membered having it. Win!\"],\n [{\n            'v': 2484,\n            'f': \"2484\",\n        },\n{\n            'v': 0,\n            'f': \"0\",\n        },\n\"non-political\",\n\"OADED87 who is us haha I have a husband ;)\"],\n [{\n            'v': 3058,\n            'f': \"3058\",\n        },\n{\n            'v': 0,\n            'f': \"0\",\n        },\n\"non-political\",\n\"mart-DSL: L\\u00c3\\u00b6sung f\\u00c3\\u00bcr die #Breitband-Unterversorgung im Landkreis G\\u00c3\\u00bcnzburg (BY)? http://tr.im/DXFb\"],\n [{\n            'v': 689,\n            'f': \"689\",\n        },\n{\n            'v': 1,\n            'f': \"1\",\n        },\n\"political\",\n\"With Each New Revelation About The Obama-Driven Frenzy For \\\"Healthcare Insurance Reform,\\\" My WHealthcare Idea Looks Better And Better. ...\"],\n [{\n            'v': 379,\n            'f': \"379\",\n        },\n{\n            'v': 0,\n            'f': \"0\",\n        },\n\"non-political\",\n\": @anarchists Walking around Sydney tweeting from my Ubeaut Chinese quadband phone.. better than #iphone helping chk on homeless &tc. I CA\"],\n [{\n            'v': 2126,\n            'f': \"2126\",\n        },\n{\n            'v': 0,\n            'f': \"0\",\n        },\n\"non-political\",\n\", my wife likes football, and the game is on. The boy complains saying \\\"haven't we watched this show already\\\" FTW!!\"],\n [{\n            'v': 2276,\n            'f': \"2276\",\n        },\n{\n            'v': 0,\n            'f': \"0\",\n        },\n\"non-political\",\n\"hiaton joe - more & more &lt;333\"],\n [{\n            'v': 2769,\n            'f': \"2769\",\n        },\n{\n            'v': 0,\n            'f': \"0\",\n        },\n\"non-political\",\n\"anicmai I experienced the same situation as you at work that day. Apply the same advice you've given me. There's a blessing in disguise :D\"],\n [{\n            'v': 2469,\n            'f': \"2469\",\n        },\n{\n            'v': 0,\n            'f': \"0\",\n        },\n\"non-political\",\n\"tp://tinyurl.com/yk5nc9u Transfuge - Magazine culturel - Litt\\u00c3\\u00a9rature Etrang\\u00c3\\u00a8re, Fran\\u00c3\\u00a7aise et Cin\\u00c3\\u00a9ma\"],\n [{\n            'v': 3012,\n            'f': \"3012\",\n        },\n{\n            'v': 0,\n            'f': \"0\",\n        },\n\"non-political\",\n\"alamanshi Thank you very much.\"],\n [{\n            'v': 3163,\n            'f': \"3163\",\n        },\n{\n            'v': 0,\n            'f': \"0\",\n        },\n\"non-political\",\n\"w York, I will be invading your city tomorrow and Thursday. Consider yourselves warned.\"],\n [{\n            'v': 1715,\n            'f': \"1715\",\n        },\n{\n            'v': 0,\n            'f': \"0\",\n        },\n\"non-political\",\n\"mgmissbee And how can see updates from Twitter? [Haha. I'm such a loser, I know.] :))) lol.\"],\n [{\n            'v': 3167,\n            'f': \"3167\",\n        },\n{\n            'v': 0,\n            'f': \"0\",\n        },\n\"non-political\",\n\"'s Coupon Chaos time! Enter your best savings tips to win coupons http://bit.ly/3jKHoT\"],\n [{\n            'v': 224,\n            'f': \"224\",\n        },\n{\n            'v': 1,\n            'f': \"1\",\n        },\n\"political\",\n\"RT @jaketapper: \\\"an interesting look from @TheFix at Neb. Dem Sen. Ben Nelson's pushback to liberal group's attack \\u00c2\\u00bb http://bit.ly/2fhCH\\\"\"],\n [{\n            'v': 75,\n            'f': \"75\",\n        },\n{\n            'v': 1,\n            'f': \"1\",\n        },\n\"political\",\n\"Tomorrow night I guess we're going to have to educate the #p2 crowd that Jesus was NOT a liberal #tcot #ocra #sgp\"],\n [{\n            'v': 317,\n            'f': \"317\",\n        },\n{\n            'v': 1,\n            'f': \"1\",\n        },\n\"political\",\n\"Glen Beck rocks! He's a modern day prophet warning us of the evils of government controled health care and socialism.\"],\n [{\n            'v': 402,\n            'f': \"402\",\n        },\n{\n            'v': 1,\n            'f': \"1\",\n        },\n\"political\",\n\"Obama dodged that race question......I wish he woulda slammed those wackjobs that hate on him at those \\\"rallies\\\"\"],\n [{\n            'v': 256,\n            'f': \"256\",\n        },\n{\n            'v': 1,\n            'f': \"1\",\n        },\n\"political\",\n\"Obama answers questions on conservative talk radio show; guarantees health reform will get done. http://ahlalerts.blogspot.com/\"],\n [{\n            'v': 1814,\n            'f': \"1814\",\n        },\n{\n            'v': 0,\n            'f': \"0\",\n        },\n\"non-political\",\n\"zarre Inc Such A Feeling 12\\\" Vinyl 1991 Near MINT http://is.gd/4JNup\"],\n [{\n            'v': 466,\n            'f': \"466\",\n        },\n{\n            'v': 1,\n            'f': \"1\",\n        },\n\"political\",\n\"RT @instapundit: WHY OBAMA\\u00e2\\u20ac\\u2122S ratings are sinking\\u00e2\\u20ac\\u00a6 http://bit.ly/39wXHM\"],\n [{\n            'v': 74,\n            'f': \"74\",\n        },\n{\n            'v': 0,\n            'f': \"0\",\n        },\n\"non-political\",\n\" @dailyobamajokes: Why is the liberal drug of choice LSD? They can spell it.\"],\n [{\n            'v': 556,\n            'f': \"556\",\n        },\n{\n            'v': 1,\n            'f': \"1\",\n        },\n\"political\",\n\"and nurse practitioners so they aren't drowning in debt when they enter the workforce.\\\" - President Obama, 6/15/2009\"],\n [{\n            'v': 1199,\n            'f': \"1199\",\n        },\n{\n            'v': 1,\n            'f': \"1\",\n        },\n\"political\",\n\"Who can tax the sunshine sprinkle it with goo mix it up with lies and it make it all taste good? The government can! http://bit.ly/fwD64\"],\n [{\n            'v': 2163,\n            'f': \"2163\",\n        },\n{\n            'v': 0,\n            'f': \"0\",\n        },\n\"non-political\",\n\"ouravghosh It Was Until YOu Showed Up With A Keg! ;)\"],\n [{\n            'v': 4,\n            'f': \"4\",\n        },\n{\n            'v': 1,\n            'f': \"1\",\n        },\n\"political\",\n\"@mystic23 I also think that most liberals don't spend a lot of time thinking about tolerating. Tolerance connotes condescension.\"],\n [{\n            'v': 2527,\n            'f': \"2527\",\n        },\n{\n            'v': 0,\n            'f': \"0\",\n        },\n\"non-political\",\n\"maschaa http://bit.ly/39pyii Ik doe mee aan een wedstrijd.. Wil je please stemmen? thanks <3\"],\n [{\n            'v': 1654,\n            'f': \"1654\",\n        },\n{\n            'v': 0,\n            'f': \"0\",\n        },\n\"non-political\",\n\"feel like I have no life... just sitting watching some tv. i feel like i have no idea what time it is.\"],\n [{\n            'v': 1721,\n            'f': \"1721\",\n        },\n{\n            'v': 0,\n            'f': \"0\",\n        },\n\"non-political\",\n\"\\u00a7\\u00e4\\u00bd\\u0090\\u00e3\\u0081\\u00ae\\u00e4\\u00bd\\u201c\\u00e9\\u00a8\\u201c\\u00ef\\u00bc\\u0161\\u00e3\\u0081\\u009d\\u00e3\\u0081\\u00ae\\u00ef\\u00bc\\u201c http://bit.ly/2gvPJ8\"],\n [{\n            'v': 1309,\n            'f': \"1309\",\n        },\n{\n            'v': 1,\n            'f': \"1\",\n        },\n\"political\",\n\"God I hope the senate actually has some sense and votes no\"],\n [{\n            'v': 2645,\n            'f': \"2645\",\n        },\n{\n            'v': 0,\n            'f': \"0\",\n        },\n\"non-political\",\n\"AO. i just shut my macbook lid & my own legs made me jump...i dont know why but i wasnt expecting to see them lmao.\"],\n [{\n            'v': 1697,\n            'f': \"1697\",\n        },\n{\n            'v': 0,\n            'f': \"0\",\n        },\n\"non-political\",\n\"eam_alex :Thx for the influx of concert fun! But I shall refrain. To see just pictures & not videos. Still want my element of surprise!!\"],\n [{\n            'v': 18,\n            'f': \"18\",\n        },\n{\n            'v': 0,\n            'f': \"0\",\n        },\n\"non-political\",\n\"apter 10 of Ethical Socialism is published: All comments are welcomed.\\u00c2\\u00a0 Click on this link to read it.&n.. http://bit.ly/6L7IJd\"],\n [{\n            'v': 2440,\n            'f': \"2440\",\n        },\n{\n            'v': 0,\n            'f': \"0\",\n        },\n\"non-political\",\n\"asperg I think you have to search in the app, either Android or iPhone...\"],\n [{\n            'v': 1518,\n            'f': \"1518\",\n        },\n{\n            'v': 0,\n            'f': \"0\",\n        },\n\"non-political\",\n\" @ahoppin: getting a demo from @granicus re: streaming media for government, correlated w/ legislation #NYSenateCIO\"],\n [{\n            'v': 2238,\n            'f': \"2238\",\n        },\n{\n            'v': 0,\n            'f': \"0\",\n        },\n\"non-political\",\n\"onews: \\u00e7\\u00aa\\u0081\\u00e7\\u201e\\u00b6\\u00e5\\u00a4\\u2030\\u00e7\\u2022\\u00b0\\u00ef\\u00bc\\u0178\\u00e7\\u2122\\u00bd\\u00e3\\u0081\\u201e\\u00e3\\u201a\\u00ab\\u00e3\\u0192\\u00a2\\u00e3\\u20ac\\u015240\\u00e5\\u00b9\\u00b4\\u00e3\\u0081\\u00a7\\u00e5\\u02c6\\u009d\\u00e3\\u20ac\\u008d http://bit.ly/1Rmoxg\"],\n [{\n            'v': 2873,\n            'f': \"2873\",\n        },\n{\n            'v': 0,\n            'f': \"0\",\n        },\n\"non-political\",\n\"SexyLady Damn, for real. My mama was telling that Whistler suppose to be year round. #FAIL\"],\n [{\n            'v': 1259,\n            'f': \"1259\",\n        },\n{\n            'v': 1,\n            'f': \"1\",\n        },\n\"political\",\n\"The government of the United States is not in any sense founded on the Christian religion. John Adams (President of the United States)\"],\n [{\n            'v': 2102,\n            'f': \"2102\",\n        },\n{\n            'v': 0,\n            'f': \"0\",\n        },\n\"non-political\",\n\"rry bro u know I od od od od od love you so kut it out!!! @BaGzDaBoSS\"],\n [{\n            'v': 1852,\n            'f': \"1852\",\n        },\n{\n            'v': 0,\n            'f': \"0\",\n        },\n\"non-political\",\n\" @JIDF: #Facebook's New #Privacy Policy: Every Step You Take, Facebook Will Be Watching You http://is.gd/4JXum\"],\n [{\n            'v': 2944,\n            'f': \"2944\",\n        },\n{\n            'v': 0,\n            'f': \"0\",\n        },\n\"non-political\",\n\" rotting.mushrooms are growing on my balls.\"],\n [{\n            'v': 3177,\n            'f': \"3177\",\n        },\n{\n            'v': 0,\n            'f': \"0\",\n        },\n\"non-political\",\n\"tp://twitpic.com/o5c91 - FML\"],\n [{\n            'v': 1127,\n            'f': \"1127\",\n        },\n{\n            'v': 0,\n            'f': \"0\",\n        },\n\"non-political\",\n\"p-Economy: RT Brandamentalist: In the future we expect everything to have apps, and apps that'll do almost everything http://bit.ly/86mwk9\"],\n [{\n            'v': 328,\n            'f': \"328\",\n        },\n{\n            'v': 1,\n            'f': \"1\",\n        },\n\"political\",\n\"RT @g20actionalert \\\"Capitalism is not working for the G20 & it's not working for us.\\\" -Immigrant rights speaker #g20 #resistg20 #Pittsburgh\"],\n [{\n            'v': 1881,\n            'f': \"1881\",\n        },\n{\n            'v': 0,\n            'f': \"0\",\n        },\n\"non-political\",\n\" heart was beating when i read inbox from @ichadinia\"],\n [{\n            'v': 897,\n            'f': \"897\",\n        },\n{\n            'v': 1,\n            'f': \"1\",\n        },\n\"political\",\n\"snackfeed found http://snfd.tv/2cP9 Bobby Jindal On Hannity-Bobby Jindal on economy, earmarks, Obama and how Republicans can win\"],\n [{\n            'v': 2651,\n            'f': \"2651\",\n        },\n{\n            'v': 0,\n            'f': \"0\",\n        },\n\"non-political\",\n\" @TheLoop1 Analyst: iPhone making headway in businesses http://tinyurl.com/ylyrzck\"],\n [{\n            'v': 2972,\n            'f': \"2972\",\n        },\n{\n            'v': 0,\n            'f': \"0\",\n        },\n\"non-political\",\n\" day just got better i love it when that happens\"],\n [{\n            'v': 2168,\n            'f': \"2168\",\n        },\n{\n            'v': 0,\n            'f': \"0\",\n        },\n\"non-political\",\n\"pe the yankees win\"],\n [{\n            'v': 1606,\n            'f': \"1606\",\n        },\n{\n            'v': 0,\n            'f': \"0\",\n        },\n\"non-political\",\n\"night was good now time for my treat burr\"],\n [{\n            'v': 2989,\n            'f': \"2989\",\n        },\n{\n            'v': 0,\n            'f': \"0\",\n        },\n\"non-political\",\n\"onorGarry angels with maky faces @ dancehouse sunday 7pm - got you a ticket - you coming?\"],\n [{\n            'v': 3154,\n            'f': \"3154\",\n        },\n{\n            'v': 0,\n            'f': \"0\",\n        },\n\"non-political\",\n\" @FoxxFiles: #LoseMyNumber if you just saw me in public and i just hit you with the nod and kept it moving.\"],\n [{\n            'v': 2787,\n            'f': \"2787\",\n        },\n{\n            'v': 0,\n            'f': \"0\",\n        },\n\"non-political\",\n\"want to get the flu.\"],\n [{\n            'v': 1316,\n            'f': \"1316\",\n        },\n{\n            'v': 1,\n            'f': \"1\",\n        },\n\"political\",\n\"gbmiii [ff] - Andhra Congress leader urges Centre to send emissary to clear air on Telangana http://ow.ly/1695Yt\"],\n [{\n            'v': 1448,\n            'f': \"1448\",\n        },\n{\n            'v': 1,\n            'f': \"1\",\n        },\n\"political\",\n\"RT @DukeStJournal: Speaking of Dem Senators who won't take a position without Republican political cover, ladies and gentleman, Evan Bayh.\"]],\n        columns: [[\"number\", \"index\"], [\"number\", \"label\"], [\"string\", \"label_text\"], [\"string\", \"text\"]],\n        columnOptions: [{\"width\": \"1px\", \"className\": \"index_column\"}],\n        rowsPerPage: 5,\n        helpUrl: \"https://colab.research.google.com/notebooks/data_table.ipynb\",\n        suppressOutputScrolling: true,\n        minimumWidth: undefined,\n      });\n      \n      function appendQuickchartButton(parentElement) {\n        let quickchartButtonContainerElement = document.createElement('div');\n        quickchartButtonContainerElement.innerHTML = `\n    <div id=\"df-cec14d17-1916-4124-850e-66688ce7f2bc\">\n      <button class=\"colab-df-quickchart\" onclick=\"quickchart('df-cec14d17-1916-4124-850e-66688ce7f2bc')\"\n              title=\"Suggest charts.\"\n              style=\"display:none;\">\n\n<svg xmlns=\"http://www.w3.org/2000/svg\" height=\"24px\"viewBox=\"0 0 24 24\"\n     width=\"24px\">\n    <g>\n        <path d=\"M19 3H5c-1.1 0-2 .9-2 2v14c0 1.1.9 2 2 2h14c1.1 0 2-.9 2-2V5c0-1.1-.9-2-2-2zM9 17H7v-7h2v7zm4 0h-2V7h2v10zm4 0h-2v-4h2v4z\"/>\n    </g>\n</svg>\n      </button>\n    </div>\n\n<style>\n  .colab-df-quickchart {\n    background-color: #E8F0FE;\n    border: none;\n    border-radius: 50%;\n    cursor: pointer;\n    display: none;\n    fill: #1967D2;\n    height: 32px;\n    padding: 0 0 0 0;\n    width: 32px;\n  }\n\n  .colab-df-quickchart:hover {\n    background-color: #E2EBFA;\n    box-shadow: 0px 1px 2px rgba(60, 64, 67, 0.3), 0px 1px 3px 1px rgba(60, 64, 67, 0.15);\n    fill: #174EA6;\n  }\n\n  [theme=dark] .colab-df-quickchart {\n    background-color: #3B4455;\n    fill: #D2E3FC;\n  }\n\n  [theme=dark] .colab-df-quickchart:hover {\n    background-color: #434B5C;\n    box-shadow: 0px 1px 3px 1px rgba(0, 0, 0, 0.15);\n    filter: drop-shadow(0px 1px 2px rgba(0, 0, 0, 0.3));\n    fill: #FFFFFF;\n  }\n</style>\n\n    <script>\n      async function quickchart(key) {\n        const containerElement = document.querySelector('#' + key);\n        const charts = await google.colab.kernel.invokeFunction(\n            'suggestCharts', [key], {});\n      }\n    </script>\n`;\n        parentElement.appendChild(quickchartButtonContainerElement);\n        \nfunction displayQuickchartButton(domScope) {\n  let quickchartButtonEl =\n    domScope.querySelector('#df-cec14d17-1916-4124-850e-66688ce7f2bc button.colab-df-quickchart');\n  quickchartButtonEl.style.display =\n    google.colab.kernel.accessAllowed ? 'block' : 'none';\n}\n\n        displayQuickchartButton(parentElement);\n      }\n    ",
            "text/html": [
              "<div>\n",
              "<style scoped>\n",
              "    .dataframe tbody tr th:only-of-type {\n",
              "        vertical-align: middle;\n",
              "    }\n",
              "\n",
              "    .dataframe tbody tr th {\n",
              "        vertical-align: top;\n",
              "    }\n",
              "\n",
              "    .dataframe thead th {\n",
              "        text-align: right;\n",
              "    }\n",
              "</style>\n",
              "<table border=\"1\" class=\"dataframe\">\n",
              "  <thead>\n",
              "    <tr style=\"text-align: right;\">\n",
              "      <th></th>\n",
              "      <th>label</th>\n",
              "      <th>label_text</th>\n",
              "      <th>text</th>\n",
              "    </tr>\n",
              "  </thead>\n",
              "  <tbody>\n",
              "    <tr>\n",
              "      <th>2573</th>\n",
              "      <td>0</td>\n",
              "      <td>non-political</td>\n",
              "      <td>en with an extra hour of sleep, Monday is stil...</td>\n",
              "    </tr>\n",
              "    <tr>\n",
              "      <th>2853</th>\n",
              "      <td>0</td>\n",
              "      <td>non-political</td>\n",
              "      <td>aux #Saints! &lt;3 Psh, and the Falcons used to b...</td>\n",
              "    </tr>\n",
              "    <tr>\n",
              "      <th>1196</th>\n",
              "      <td>1</td>\n",
              "      <td>political</td>\n",
              "      <td>We are broadcasting a very special Request Sho...</td>\n",
              "    </tr>\n",
              "    <tr>\n",
              "      <th>602</th>\n",
              "      <td>1</td>\n",
              "      <td>political</td>\n",
              "      <td>RT @jackiewalorski: What a deal! Obama's going...</td>\n",
              "    </tr>\n",
              "    <tr>\n",
              "      <th>984</th>\n",
              "      <td>1</td>\n",
              "      <td>political</td>\n",
              "      <td>With the billions congress wastes spending on ...</td>\n",
              "    </tr>\n",
              "    <tr>\n",
              "      <th>...</th>\n",
              "      <td>...</td>\n",
              "      <td>...</td>\n",
              "      <td>...</td>\n",
              "    </tr>\n",
              "    <tr>\n",
              "      <th>2989</th>\n",
              "      <td>0</td>\n",
              "      <td>non-political</td>\n",
              "      <td>onorGarry angels with maky faces @ dancehouse ...</td>\n",
              "    </tr>\n",
              "    <tr>\n",
              "      <th>3154</th>\n",
              "      <td>0</td>\n",
              "      <td>non-political</td>\n",
              "      <td>@FoxxFiles: #LoseMyNumber if you just saw me ...</td>\n",
              "    </tr>\n",
              "    <tr>\n",
              "      <th>2787</th>\n",
              "      <td>0</td>\n",
              "      <td>non-political</td>\n",
              "      <td>want to get the flu.</td>\n",
              "    </tr>\n",
              "    <tr>\n",
              "      <th>1316</th>\n",
              "      <td>1</td>\n",
              "      <td>political</td>\n",
              "      <td>gbmiii [ff] - Andhra Congress leader urges Cen...</td>\n",
              "    </tr>\n",
              "    <tr>\n",
              "      <th>1448</th>\n",
              "      <td>1</td>\n",
              "      <td>political</td>\n",
              "      <td>RT @DukeStJournal: Speaking of Dem Senators wh...</td>\n",
              "    </tr>\n",
              "  </tbody>\n",
              "</table>\n",
              "<p>1000 rows × 3 columns</p>\n",
              "</div>"
            ],
            "text/plain": [
              "<google.colab.data_table.DataTable object>"
            ]
          },
          "execution_count": 12,
          "metadata": {},
          "output_type": "execute_result"
        }
      ],
      "source": [
        "DataTable(df_train, num_rows_per_page=5)"
      ]
    },
    {
      "attachments": {},
      "cell_type": "markdown",
      "metadata": {
        "id": "G_PCMiyIw7mf"
      },
      "source": [
        "## Load a Transformer"
      ]
    },
    {
      "attachments": {},
      "cell_type": "markdown",
      "metadata": {
        "id": "17a2ENVfVZQU"
      },
      "source": [
        "We use [Hugging Face Transformers](https://huggingface.co/docs/transformers/index) for loading and training our model. They provide great documentation and also a very good [course](https://huggingface.co/course/chapter1/1) on how to use Transformers."
      ]
    },
    {
      "attachments": {},
      "cell_type": "markdown",
      "metadata": {
        "id": "l8Z3f3TtRCaJ"
      },
      "source": [
        "**Choosing a Transformer model**\n",
        "\n",
        "You can can use any classification model on the [Hugging Face Hub](https://huggingface.co/models?sort=downloads). I suggest testing these models:\n",
        "\n",
        "\n",
        "\n",
        "*   Original BERT: `bert-base-uncased`\n",
        "*   Small efficient model: `distilbert-base-uncased`\n",
        "*   Newer version of BERT: `microsoft/deberta-v3-base`\n",
        "*   Large, high-performance model: `microsoft/deberta-v3-large`\n",
        "*   Multilingual model: `microsoft/mdeberta-v3-base`\n",
        "\n",
        "\n",
        "\n"
      ]
    },
    {
      "cell_type": "code",
      "execution_count": 13,
      "metadata": {
        "colab": {
          "base_uri": "https://localhost:8080/",
          "height": 304,
          "referenced_widgets": [
            "fc3020d3c068491685cda4c1361c645f",
            "b09177a35a3f47f7ab2b657017905f51",
            "dc41d213f23741bc860518f5ec57ffaa",
            "3e9c06b40ee440d9b258b8a955e66157",
            "7c203dc8a320408fad519e53a67993f7",
            "8de71cc8e7464b08ada4bbdb9623f582",
            "b188f98c8add4e879e53e5b46faec628",
            "bcd13671379a4a9da3d2d0ed72d2c1fc",
            "294ebebda97d41d79edfe48c227c8199",
            "20142ffee25346918c8cb123e9a18d27",
            "22c9a20e382a4bc4810b68d2a9fc2116",
            "ad50e0abaa974533a930bb5f6774f857",
            "07079b11313f4686992ebb1dd57326b8",
            "bf047c62b882428a817d7406fd4742f6",
            "60cd44563af74da9b0dbac1323f79d59",
            "e6adcf7767b849a89d938ce8386e4e7d",
            "500e418e65c14e208b7af5c738c52863",
            "c6db032e4d93463890dfaeeaa0cc9b2f",
            "6f8415892ce148058b62a0b37baef447",
            "32b53d8b2ce5494d90354180bef1acd8",
            "5d584ecd561949d0a06c285e6521a5f1",
            "8156015cf57d45839034a9a615118ee1",
            "31aa575064384b848c17e7590850c658",
            "c4d1df10d2cb4168a53e75371cec6260",
            "5660fd0546bd4dfea5ca0079cbe99837",
            "8b02a228b18c42c8961d566b5da65c15",
            "edfed13b0d9a4d16a5d4a35ddf061f99",
            "238cdfef37924bf19254fd59010f9645",
            "b796bee636c54589a2c0d0872b8baa17",
            "7440edbb011949b5b630aec9cb495cfc",
            "625b6e0f0a234dec9ab1cb646c5a03f2",
            "a143abd996f84a5f8ee9147b9583e8ef",
            "aa64a34bc206407f9c7be96de763d44b",
            "cc96ca5a1835407b9e4fc7dfae585a68",
            "a1fd694247bd4d65b7d222c46cef78a8",
            "e0414e9764194613b13e50e834be19e4",
            "61222542d0174ad1a9705d36fac9f062",
            "f1ce72c531a24e00b9e3968e30e81894",
            "09f2db1a1bd04ad6b142e642df609392",
            "856eae1dc8f449ba9c8f0c801e3309be",
            "5c10e8613816441ea34208b051d79e8d",
            "6d89da4aea504eeca9770bf34383c789",
            "d972c9fd228845ff98e3057964ffd163",
            "b43aa7963cb847f1bd0180f4af179d41",
            "b7ba76192f2a406aac7b8dd66192895c",
            "6d7cd3e7c19a41a3ab31e54fa22df0fe",
            "c4712ef9a87f48268afbf948cbe61f62",
            "1874b57524ce4a8380dbe7754f42537c",
            "9e9f239c34164c678e91964b95b440b0",
            "9dd6f29c00444a2c979170f5718dff6d",
            "893d9108b2d04539aa46bcba815555a8",
            "66eff5f921c94edeb238217b2c3df540",
            "15b68c8667774e3dbbbccb77fd3c9a6f",
            "bfd19f169eff46b09d400d4e7dd6132a",
            "bd97250d3909463d93bb4cd2b1f99c2b"
          ]
        },
        "id": "yC4VuOspw9cW",
        "outputId": "29299c4f-5f62-4368-b064-f9c9443ab7c1"
      },
      "outputs": [
        {
          "data": {
            "application/vnd.jupyter.widget-view+json": {
              "model_id": "fc3020d3c068491685cda4c1361c645f",
              "version_major": 2,
              "version_minor": 0
            },
            "text/plain": [
              "Downloading (…)okenizer_config.json:   0%|          | 0.00/28.0 [00:00<?, ?B/s]"
            ]
          },
          "metadata": {},
          "output_type": "display_data"
        },
        {
          "data": {
            "application/vnd.jupyter.widget-view+json": {
              "model_id": "ad50e0abaa974533a930bb5f6774f857",
              "version_major": 2,
              "version_minor": 0
            },
            "text/plain": [
              "Downloading (…)lve/main/config.json:   0%|          | 0.00/483 [00:00<?, ?B/s]"
            ]
          },
          "metadata": {},
          "output_type": "display_data"
        },
        {
          "data": {
            "application/vnd.jupyter.widget-view+json": {
              "model_id": "31aa575064384b848c17e7590850c658",
              "version_major": 2,
              "version_minor": 0
            },
            "text/plain": [
              "Downloading (…)solve/main/vocab.txt:   0%|          | 0.00/232k [00:00<?, ?B/s]"
            ]
          },
          "metadata": {},
          "output_type": "display_data"
        },
        {
          "data": {
            "application/vnd.jupyter.widget-view+json": {
              "model_id": "cc96ca5a1835407b9e4fc7dfae585a68",
              "version_major": 2,
              "version_minor": 0
            },
            "text/plain": [
              "Downloading (…)/main/tokenizer.json:   0%|          | 0.00/466k [00:00<?, ?B/s]"
            ]
          },
          "metadata": {},
          "output_type": "display_data"
        },
        {
          "data": {
            "application/vnd.jupyter.widget-view+json": {
              "model_id": "b7ba76192f2a406aac7b8dd66192895c",
              "version_major": 2,
              "version_minor": 0
            },
            "text/plain": [
              "Downloading pytorch_model.bin:   0%|          | 0.00/268M [00:00<?, ?B/s]"
            ]
          },
          "metadata": {},
          "output_type": "display_data"
        },
        {
          "name": "stderr",
          "output_type": "stream",
          "text": [
            "Some weights of the model checkpoint at distilbert-base-uncased were not used when initializing DistilBertForSequenceClassification: ['vocab_transform.weight', 'vocab_layer_norm.weight', 'vocab_projector.bias', 'vocab_layer_norm.bias', 'vocab_transform.bias', 'vocab_projector.weight']\n",
            "- This IS expected if you are initializing DistilBertForSequenceClassification from the checkpoint of a model trained on another task or with another architecture (e.g. initializing a BertForSequenceClassification model from a BertForPreTraining model).\n",
            "- This IS NOT expected if you are initializing DistilBertForSequenceClassification from the checkpoint of a model that you expect to be exactly identical (initializing a BertForSequenceClassification model from a BertForSequenceClassification model).\n",
            "Some weights of DistilBertForSequenceClassification were not initialized from the model checkpoint at distilbert-base-uncased and are newly initialized: ['classifier.bias', 'pre_classifier.weight', 'pre_classifier.bias', 'classifier.weight']\n",
            "You should probably TRAIN this model on a down-stream task to be able to use it for predictions and inference.\n"
          ]
        },
        {
          "name": "stdout",
          "output_type": "stream",
          "text": [
            "Device: cuda\n"
          ]
        }
      ],
      "source": [
        "from transformers import AutoTokenizer, AutoModelForSequenceClassification, AutoConfig\n",
        "import torch\n",
        "\n",
        "## load a model and its tokenizer\n",
        "model_name = \"distilbert-base-uncased\"  # specify the model to be used\n",
        "tokenizer = AutoTokenizer.from_pretrained(model_name, use_fast=True, model_max_length=512)  # load the tokenizer associated with the model\n",
        "\n",
        "# create mappings between numeric labels and label texts\n",
        "label_text = np.sort(df_test.label_text.unique()).tolist()  # get unique label texts and sort them\n",
        "label2id = dict(zip(np.sort(label_text), np.sort(pd.factorize(label_text, sort=True)[0]).tolist()))  # map sorted label texts to their corresponding numeric IDs\n",
        "id2label = dict(zip(np.sort(pd.factorize(label_text, sort=True)[0]).tolist(), np.sort(label_text)))  # map numeric IDs to their corresponding label texts\n",
        "\n",
        "# create a model configuration\n",
        "config = AutoConfig.from_pretrained(model_name, label2id=label2id, id2label=id2label, num_labels=len(label2id));\n",
        "\n",
        "# load model using the above configuration\n",
        "model = AutoModelForSequenceClassification.from_pretrained(model_name, config=config, ignore_mismatched_sizes=True);\n",
        "\n",
        "# specify the device to be used for computation\n",
        "device = \"cuda\" if torch.cuda.is_available() else \"cpu\"  # use GPU if available, else use CPU\n",
        "print(f\"Device: {device}\")\n",
        "model.to(device);  # move the model to the specified device"
      ]
    },
    {
      "attachments": {},
      "cell_type": "markdown",
      "metadata": {
        "id": "Y2qMjRt2SRMc"
      },
      "source": [
        "## Tokenize data"
      ]
    },
    {
      "attachments": {},
      "cell_type": "markdown",
      "metadata": {
        "id": "tEcGIPg9dVkt"
      },
      "source": [
        "Tokenization is the process of breaking down text into smaller units, called tokens. Tokens can be individual words, phrases, or even individual characters - they're often individual words or subwords. The purpose of tokenization is to convert human-readable text into a format that a ML model can understand.\n",
        "\n",
        "This tokenization process is particularly important for models like DistilBERT, which operate on tokens rather than raw text. Each token corresponds to an entry in the model's vocabulary, and the model learns to associate these tokens with specific meanings and contexts during training."
      ]
    },
    {
      "cell_type": "code",
      "execution_count": 14,
      "metadata": {
        "colab": {
          "base_uri": "https://localhost:8080/",
          "height": 17,
          "referenced_widgets": [
            "a990c4ca783c41289cf0d898ff94484a",
            "b47e62de32ce405198cdb80aab1ca6b2",
            "766df022f3ba4549998d958ee903a8e6",
            "b7f784f64f104b96b935752d872abb95",
            "5bef894cb0dd45ac99b3fda70178e107",
            "c5a3f636d2ae4f3796299552315f4394",
            "d4386d5f9dc8437f8ea79014f745c02b",
            "3c697e3353b14d6baf63a27b82b75ab6",
            "bf149176ab2f466e8cf999c5fe20f254",
            "a56e9d9a40a74045a180542f924fec92",
            "f2032966e4084290a7f7918cbe4abaf2",
            "69decd0865694f53b745639b9128b191",
            "cb33e30c873d46a3b3fb6a021b620fbd",
            "36928087231648349e4795c39897a1c3",
            "bbd0ccd9ed3e43d08387d76103e3a736",
            "4f160ceb0e8d42a0bc8f945f6615d175",
            "368974fb7133416ca89b060ea0972c68",
            "adbce4f2a65e408aafeef2a2b663b929",
            "9c05b224497d4a50aaad684adad16e87",
            "fb4d117f50314c66a07943e6aafc2609",
            "c816e461b7154831870cb678906abae5",
            "6a05f6a9198d47c8bdfaf567cbfca6b8"
          ]
        },
        "id": "nyvO3Xr01NmR",
        "outputId": "21a90009-f1a9-4db6-86dc-71a2e19f38eb"
      },
      "outputs": [
        {
          "data": {
            "application/vnd.jupyter.widget-view+json": {
              "model_id": "a990c4ca783c41289cf0d898ff94484a",
              "version_major": 2,
              "version_minor": 0
            },
            "text/plain": [
              "Map:   0%|          | 0/1000 [00:00<?, ? examples/s]"
            ]
          },
          "metadata": {},
          "output_type": "display_data"
        },
        {
          "data": {
            "application/vnd.jupyter.widget-view+json": {
              "model_id": "69decd0865694f53b745639b9128b191",
              "version_major": 2,
              "version_minor": 0
            },
            "text/plain": [
              "Map:   0%|          | 0/800 [00:00<?, ? examples/s]"
            ]
          },
          "metadata": {},
          "output_type": "display_data"
        }
      ],
      "source": [
        "# convert pandas dataframes to Hugging Face dataset object to facilitate pre-processing\n",
        "import datasets\n",
        "\n",
        "dataset = datasets.DatasetDict({\n",
        "    \"train\": datasets.Dataset.from_pandas(df_train),\n",
        "    \"test\": datasets.Dataset.from_pandas(df_test)\n",
        "})\n",
        "\n",
        "# tokenize\n",
        "def tokenize(examples):\n",
        "  return tokenizer(examples[\"text\"], truncation=True, max_length=512)  # max_length can be reduced to e.g. 256 to increase speed, but long texts will be cut off\n",
        "\n",
        "dataset[\"train\"] = dataset[\"train\"].map(tokenize, batched=True)\n",
        "dataset[\"test\"] = dataset[\"test\"].map(tokenize, batched=True)\n",
        "\n",
        "# remove unnecessary columns for model training\n",
        "dataset = dataset.remove_columns(['label_text'])"
      ]
    },
    {
      "attachments": {},
      "cell_type": "markdown",
      "metadata": {
        "id": "XMSuf_2BSwE2"
      },
      "source": [
        "**Inspect processed data**"
      ]
    },
    {
      "cell_type": "code",
      "execution_count": 15,
      "metadata": {
        "colab": {
          "base_uri": "https://localhost:8080/"
        },
        "id": "dtVbrtfx4Bke",
        "outputId": "759769f8-c0e2-40ac-8ef7-2824f2f34370"
      },
      "outputs": [
        {
          "name": "stdout",
          "output_type": "stream",
          "text": [
            "The overall structure of the pre-processed train and test sets:\n",
            "\n",
            "DatasetDict({\n",
            "    train: Dataset({\n",
            "        features: ['label', 'text', '__index_level_0__', 'input_ids', 'attention_mask'],\n",
            "        num_rows: 1000\n",
            "    })\n",
            "    test: Dataset({\n",
            "        features: ['label', 'text', '__index_level_0__', 'input_ids', 'attention_mask'],\n",
            "        num_rows: 800\n",
            "    })\n",
            "})\n",
            "\n",
            "\n",
            "An example for a tokenized hypothesis-context pair:\n",
            "\n",
            "{'label': 0, 'text': \"yin' to enjoy this beautiful Halloween Night!!!\", '__index_level_0__': 1619, 'input_ids': [101, 18208, 1005, 2000, 5959, 2023, 3376, 14414, 2305, 999, 999, 999, 102], 'attention_mask': [1, 1, 1, 1, 1, 1, 1, 1, 1, 1, 1, 1, 1]}\n"
          ]
        }
      ],
      "source": [
        "print(\"The overall structure of the pre-processed train and test sets:\\n\")\n",
        "print(dataset)"
      ]
    },
    {
      "attachments": {},
      "cell_type": "markdown",
      "metadata": {
        "id": "mYAPVubATCCM"
      },
      "source": [
        "## Setting training arguments / hyperparameters"
      ]
    },
    {
      "attachments": {},
      "cell_type": "markdown",
      "metadata": {
        "id": "ylyp52i6T-NG"
      },
      "source": [
        "The following cells set several important hyperparameters. We chose parameters that work well in general to avoid the need for hyperparameter search. Further below, we also provide code for hyperparameter search, if researchers want to try to increase performance by a few percentage points."
      ]
    },
    {
      "cell_type": "code",
      "execution_count": 16,
      "metadata": {
        "id": "fOo4B5uNMZax"
      },
      "outputs": [],
      "source": [
        "# Set the directory to write the fine-tuned model and training logs to.\n",
        "# With google colab, this will create a temporary folder, which will be deleted once you disconnect.\n",
        "# You can connect to your personal google drive to save models and logs properly.\n",
        "training_directory = \"BERT-demo\"\n",
        "\n",
        "# FP16 is a hyperparameter which can increase training speed and reduce memory consumption, but only on GPU and if batch-size > 8, see here: https://huggingface.co/transformers/performance.html?#fp16\n",
        "# FP16 does not work on CPU or for multilingual mDeBERTa models\n",
        "fp16_bool = True if torch.cuda.is_available() else False\n",
        "if \"mdeberta\" in model_name.lower(): fp16_bool = False  # multilingual mDeBERTa does not support FP16 yet: https://github.com/microsoft/DeBERTa/issues/77\n",
        "# in case of hyperparameter search end the end: FP16 has to be set to False. The integrated hyperparameter search with the Hugging Face Trainer can lead to errors otherwise.\n",
        "fp16_bool = False"
      ]
    },
    {
      "cell_type": "code",
      "execution_count": 17,
      "metadata": {
        "id": "M4bWptLg4qin"
      },
      "outputs": [],
      "source": [
        "from transformers import TrainingArguments, Trainer, logging\n",
        "\n",
        "LEARNING_RATE = 2e-5  # can try: 6e-5\n",
        "EPOCHS = 5  # can try: 10\n",
        "\n",
        "# Hugging Face tipps to increase training speed and decrease out-of-memory (OOM) issues: https://huggingface.co/transformers/performance.html?\n",
        "# Overview of all training arguments: https://huggingface.co/transformers/main_classes/trainer.html#transformers.TrainingArguments\n",
        "train_args = TrainingArguments(\n",
        "    output_dir=f'./results/{training_directory}',\n",
        "    logging_dir=f'./logs/{training_directory}',\n",
        "    num_train_epochs=EPOCHS,  # this can be increased, but higher values increase training time. Good values for NLI are between 3 and 20.\n",
        "    learning_rate=LEARNING_RATE,\n",
        "    per_device_train_batch_size=8,  # if you get an out-of-memory error, reduce this value to 8 or 4 and restart the runtime. Higher values increase training speed, but also increase memory requirements. Ideal values here are always a multiple of 8.\n",
        "    per_device_eval_batch_size=80,  # if you get an out-of-memory error, reduce this value, e.g. to 40 and restart the runtime\n",
        "    gradient_accumulation_steps=2, # Can be used in case of memory problems to reduce effective batch size. accumulates gradients over X steps, only then backward/update. decreases memory usage, but also slightly speed. (!adapt/halve batch size accordingly)\n",
        "    warmup_ratio=0.06,  # a good normal default value is 0.06 for normal BERT-base models, but since we want to reuse prior NLI knowledge and avoid catastrophic forgetting, we set the value higher\n",
        "    weight_decay=0.1,\n",
        "    seed=SEED_GLOBAL,\n",
        "    load_best_model_at_end=True,\n",
        "    metric_for_best_model=\"accuracy\",\n",
        "    fp16=fp16_bool,  # Can speed up training and reduce memory consumption, but only makes sense at batch-size > 8. loads two copies of model weights, which creates overhead. https://huggingface.co/transformers/performance.html?#fp16\n",
        "    fp16_full_eval=fp16_bool,\n",
        "    evaluation_strategy=\"epoch\", # options: \"no\"/\"steps\"/\"epoch\"\n",
        "    #eval_steps=10_000,  # evaluate after n steps if evaluation_strategy!='steps'. defaults to logging_steps\n",
        "    save_strategy = \"epoch\",  # options: \"no\"/\"steps\"/\"epoch\"\n",
        "    #save_steps=10_000,              # Number of updates steps before two checkpoint saves.\n",
        "    #save_total_limit=10,             # If a value is passed, will limit the total amount of checkpoints. Deletes the older checkpoints in output_dir\n",
        "    #logging_strategy=\"steps\",\n",
        "    report_to=\"all\",  # \"all\"  # logging\n",
        "    #push_to_hub=False,\n",
        "    #push_to_hub_model_id=f\"{model_name}-finetuned-{task}\",\n",
        ")\n"
      ]
    },
    {
      "cell_type": "code",
      "execution_count": 18,
      "metadata": {
        "id": "lcXPQ25F77gG"
      },
      "outputs": [],
      "source": [
        "### Function to calculate metrics\n",
        "from sklearn.metrics import balanced_accuracy_score, precision_recall_fscore_support, accuracy_score, classification_report\n",
        "import warnings\n",
        "\n",
        "def compute_metrics_standard(eval_pred):\n",
        "    with warnings.catch_warnings():\n",
        "        warnings.filterwarnings(\"ignore\")\n",
        "\n",
        "        labels = eval_pred.label_ids\n",
        "        pred_logits = eval_pred.predictions\n",
        "        preds_max = np.argmax(pred_logits, axis=1)  # argmax on each row (axis=1) in the tensor\n",
        "\n",
        "        # metrics\n",
        "        precision_macro, recall_macro, f1_macro, _ = precision_recall_fscore_support(labels, preds_max, average='macro')  # https://scikit-learn.org/stable/modules/generated/sklearn.metrics.precision_recall_fscore_support.html\n",
        "        precision_micro, recall_micro, f1_micro, _ = precision_recall_fscore_support(labels, preds_max, average='micro')  # https://scikit-learn.org/stable/modules/generated/sklearn.metrics.precision_recall_fscore_support.html\n",
        "        acc_balanced = balanced_accuracy_score(labels, preds_max)\n",
        "        acc_not_balanced = accuracy_score(labels, preds_max)\n",
        "\n",
        "        metrics = {\n",
        "            'accuracy': acc_not_balanced,\n",
        "            'f1_macro': f1_macro,\n",
        "            'accuracy_balanced': acc_balanced,\n",
        "            'f1_micro': f1_micro,\n",
        "            'precision_macro': precision_macro,\n",
        "            'recall_macro': recall_macro,\n",
        "            'precision_micro': precision_micro,\n",
        "            'recall_micro': recall_micro,\n",
        "        }\n",
        "\n",
        "        return metrics\n"
      ]
    },
    {
      "attachments": {},
      "cell_type": "markdown",
      "metadata": {
        "id": "06NpYcJtVz7O"
      },
      "source": [
        "## Fine-tuning and evaluation"
      ]
    },
    {
      "attachments": {},
      "cell_type": "markdown",
      "metadata": {
        "id": "DYLN5SaWXVOH"
      },
      "source": [
        "Let's start fine-tuning the model!\n",
        "\n",
        "If you get an 'out-of-memory' error, reduce the **per_device_train_batch_size** to 8 or 4 in the `TrainingArguments` above and **restart** the runtime ('Runtime' > 'Restart runtime')"
      ]
    },
    {
      "cell_type": "code",
      "execution_count": 19,
      "metadata": {
        "colab": {
          "base_uri": "https://localhost:8080/",
          "height": 341
        },
        "id": "w2PIfFvKVmlp",
        "outputId": "5a81b425-dbd0-45ae-bd70-cac2f5398109"
      },
      "outputs": [
        {
          "name": "stderr",
          "output_type": "stream",
          "text": [
            "/usr/local/lib/python3.10/dist-packages/transformers/optimization.py:391: FutureWarning: This implementation of AdamW is deprecated and will be removed in a future version. Use the PyTorch implementation torch.optim.AdamW instead, or set `no_deprecation_warning=True` to disable this warning\n",
            "  warnings.warn(\n",
            "You're using a DistilBertTokenizerFast tokenizer. Please note that with a fast tokenizer, using the `__call__` method is faster than using a method to encode the text followed by a call to the `pad` method to get a padded encoding.\n"
          ]
        },
        {
          "data": {
            "text/html": [
              "\n",
              "    <div>\n",
              "      \n",
              "      <progress value='310' max='310' style='width:300px; height:20px; vertical-align: middle;'></progress>\n",
              "      [310/310 01:10, Epoch 4/5]\n",
              "    </div>\n",
              "    <table border=\"1\" class=\"dataframe\">\n",
              "  <thead>\n",
              " <tr style=\"text-align: left;\">\n",
              "      <th>Epoch</th>\n",
              "      <th>Training Loss</th>\n",
              "      <th>Validation Loss</th>\n",
              "      <th>Accuracy</th>\n",
              "      <th>F1 Macro</th>\n",
              "      <th>Accuracy Balanced</th>\n",
              "      <th>F1 Micro</th>\n",
              "      <th>Precision Macro</th>\n",
              "      <th>Recall Macro</th>\n",
              "      <th>Precision Micro</th>\n",
              "      <th>Recall Micro</th>\n",
              "    </tr>\n",
              "  </thead>\n",
              "  <tbody>\n",
              "    <tr>\n",
              "      <td>0</td>\n",
              "      <td>No log</td>\n",
              "      <td>0.251266</td>\n",
              "      <td>0.917500</td>\n",
              "      <td>0.915401</td>\n",
              "      <td>0.912445</td>\n",
              "      <td>0.917500</td>\n",
              "      <td>0.919844</td>\n",
              "      <td>0.912445</td>\n",
              "      <td>0.917500</td>\n",
              "      <td>0.917500</td>\n",
              "    </tr>\n",
              "    <tr>\n",
              "      <td>2</td>\n",
              "      <td>No log</td>\n",
              "      <td>0.302962</td>\n",
              "      <td>0.911250</td>\n",
              "      <td>0.910696</td>\n",
              "      <td>0.916501</td>\n",
              "      <td>0.911250</td>\n",
              "      <td>0.909772</td>\n",
              "      <td>0.916501</td>\n",
              "      <td>0.911250</td>\n",
              "      <td>0.911250</td>\n",
              "    </tr>\n",
              "    <tr>\n",
              "      <td>2</td>\n",
              "      <td>No log</td>\n",
              "      <td>0.279826</td>\n",
              "      <td>0.920000</td>\n",
              "      <td>0.918975</td>\n",
              "      <td>0.920939</td>\n",
              "      <td>0.920000</td>\n",
              "      <td>0.917594</td>\n",
              "      <td>0.920939</td>\n",
              "      <td>0.920000</td>\n",
              "      <td>0.920000</td>\n",
              "    </tr>\n",
              "    <tr>\n",
              "      <td>4</td>\n",
              "      <td>No log</td>\n",
              "      <td>0.288575</td>\n",
              "      <td>0.922500</td>\n",
              "      <td>0.921551</td>\n",
              "      <td>0.923812</td>\n",
              "      <td>0.922500</td>\n",
              "      <td>0.920052</td>\n",
              "      <td>0.923812</td>\n",
              "      <td>0.922500</td>\n",
              "      <td>0.922500</td>\n",
              "    </tr>\n",
              "    <tr>\n",
              "      <td>4</td>\n",
              "      <td>No log</td>\n",
              "      <td>0.301137</td>\n",
              "      <td>0.926250</td>\n",
              "      <td>0.924855</td>\n",
              "      <td>0.924156</td>\n",
              "      <td>0.926250</td>\n",
              "      <td>0.925630</td>\n",
              "      <td>0.924156</td>\n",
              "      <td>0.926250</td>\n",
              "      <td>0.926250</td>\n",
              "    </tr>\n",
              "  </tbody>\n",
              "</table><p>"
            ],
            "text/plain": [
              "<IPython.core.display.HTML object>"
            ]
          },
          "metadata": {},
          "output_type": "display_data"
        },
        {
          "data": {
            "text/plain": [
              "TrainOutput(global_step=310, training_loss=0.15450115819131174, metrics={'train_runtime': 73.5744, 'train_samples_per_second': 67.958, 'train_steps_per_second': 4.213, 'total_flos': 70629961120896.0, 'train_loss': 0.15450115819131174, 'epoch': 4.96})"
            ]
          },
          "execution_count": 19,
          "metadata": {},
          "output_type": "execute_result"
        }
      ],
      "source": [
        "# training\n",
        "trainer = Trainer(\n",
        "    model=model,\n",
        "    tokenizer=tokenizer,\n",
        "    args=train_args,\n",
        "    train_dataset=dataset[\"train\"],\n",
        "    eval_dataset=dataset[\"test\"],\n",
        "    compute_metrics=compute_metrics_standard\n",
        ")\n",
        "\n",
        "trainer.train()\n"
      ]
    },
    {
      "cell_type": "code",
      "execution_count": 20,
      "metadata": {
        "colab": {
          "base_uri": "https://localhost:8080/",
          "height": 75
        },
        "id": "tgXO927fVmlq",
        "outputId": "93d0170e-a136-4429-aa84-3b06525c1d6f"
      },
      "outputs": [
        {
          "data": {
            "text/html": [
              "\n",
              "    <div>\n",
              "      \n",
              "      <progress value='10' max='10' style='width:300px; height:20px; vertical-align: middle;'></progress>\n",
              "      [10/10 00:02]\n",
              "    </div>\n",
              "    "
            ],
            "text/plain": [
              "<IPython.core.display.HTML object>"
            ]
          },
          "metadata": {},
          "output_type": "display_data"
        },
        {
          "name": "stdout",
          "output_type": "stream",
          "text": [
            "{'eval_loss': 0.30113667249679565, 'eval_accuracy': 0.92625, 'eval_f1_macro': 0.924855003590084, 'eval_accuracy_balanced': 0.9241557318685789, 'eval_f1_micro': 0.92625, 'eval_precision_macro': 0.9256304584978724, 'eval_recall_macro': 0.9241557318685789, 'eval_precision_micro': 0.92625, 'eval_recall_micro': 0.92625, 'eval_runtime': 3.2785, 'eval_samples_per_second': 244.013, 'eval_steps_per_second': 3.05, 'epoch': 4.96}\n"
          ]
        }
      ],
      "source": [
        "# Evaluate the fine-tuned model on the held-out test set\n",
        "results = trainer.evaluate()\n",
        "print(results)"
      ]
    },
    {
      "attachments": {},
      "cell_type": "markdown",
      "metadata": {
        "id": "9JhJrGOjztvN"
      },
      "source": [
        "## Inference with your fine-tuned model"
      ]
    },
    {
      "cell_type": "code",
      "execution_count": 21,
      "metadata": {
        "id": "9LkW5nyxztvV"
      },
      "outputs": [],
      "source": [
        "from transformers import pipeline\n",
        "import torch\n",
        "device = \"cuda:0\" if torch.cuda.is_available() else \"cpu\"  # use GPU (cuda) if available, otherwise use CPU\n",
        "\n",
        "# documentation: https://huggingface.co/docs/transformers/main_classes/pipelines#transformers.ZeroShotClassificationPipeline\n",
        "pipe_classifier = pipeline(\n",
        "    \"text-classification\",\n",
        "    model=model,  # if you have trained a model above, load_best_model_at_end in the training arguments has automatically replaced model with the fine-tuned model\n",
        "    tokenizer=tokenizer,\n",
        "    framework=\"pt\",\n",
        "    device=device,\n",
        ")"
      ]
    },
    {
      "attachments": {},
      "cell_type": "markdown",
      "metadata": {
        "id": "aVztII75ztvV"
      },
      "source": [
        "We now apply the pipeline to unseen texts. We re-use the df_test data-frame here for simplicity, but it could be any other dataset. It only needs a text column. Note that we do not need to re-format the text data anymore here, as this is handled internally by the Hugging Face zero-shot pipeline. If you want to better understand the arguments in the pipeline below, I'd recommend reading the [documentation here](https://huggingface.co/docs/transformers/main_classes/pipelines#transformers.ZeroShotClassificationPipeline)."
      ]
    },
    {
      "cell_type": "code",
      "execution_count": 22,
      "metadata": {
        "colab": {
          "base_uri": "https://localhost:8080/"
        },
        "id": "YqRkUax5ztvV",
        "outputId": "c08972d3-c736-4618-ecdb-02f07315b4cc"
      },
      "outputs": [
        {
          "name": "stdout",
          "output_type": "stream",
          "text": [
            "[{'label': 'non-political', 'score': 0.99785977602005}, {'label': 'non-political', 'score': 0.9977198243141174}, {'label': 'non-political', 'score': 0.9971897006034851}, {'label': 'non-political', 'score': 0.9952951073646545}, {'label': 'political', 'score': 0.9939175844192505}, {'label': 'non-political', 'score': 0.9974752068519592}, {'label': 'political', 'score': 0.9940033555030823}, {'label': 'non-political', 'score': 0.9979459643363953}, {'label': 'political', 'score': 0.9931082725524902}, {'label': 'non-political', 'score': 0.998141884803772}, {'label': 'political', 'score': 0.9829419851303101}, {'label': 'political', 'score': 0.9931381344795227}, {'label': 'non-political', 'score': 0.9979761242866516}, {'label': 'non-political', 'score': 0.9938741326332092}, {'label': 'non-political', 'score': 0.9974325299263}, {'label': 'political', 'score': 0.9933236241340637}, {'label': 'political', 'score': 0.9835572242736816}, {'label': 'non-political', 'score': 0.9974848031997681}, {'label': 'political', 'score': 0.9941428303718567}, {'label': 'non-political', 'score': 0.9974814057350159}, {'label': 'political', 'score': 0.990027129650116}, {'label': 'non-political', 'score': 0.9974493384361267}, {'label': 'political', 'score': 0.9922992587089539}, {'label': 'non-political', 'score': 0.9976537823677063}, {'label': 'non-political', 'score': 0.9977633953094482}, {'label': 'political', 'score': 0.9922338724136353}, {'label': 'non-political', 'score': 0.9980331063270569}, {'label': 'non-political', 'score': 0.9977802634239197}, {'label': 'non-political', 'score': 0.9926525354385376}, {'label': 'non-political', 'score': 0.996658205986023}, {'label': 'non-political', 'score': 0.9978360533714294}, {'label': 'political', 'score': 0.986645519733429}, {'label': 'non-political', 'score': 0.9979705214500427}, {'label': 'political', 'score': 0.9920964241027832}, {'label': 'non-political', 'score': 0.9975401163101196}, {'label': 'non-political', 'score': 0.9958208799362183}, {'label': 'non-political', 'score': 0.9978245496749878}, {'label': 'political', 'score': 0.9943390488624573}, {'label': 'political', 'score': 0.9939145445823669}, {'label': 'political', 'score': 0.9891784191131592}, {'label': 'non-political', 'score': 0.9979390501976013}, {'label': 'non-political', 'score': 0.9970638155937195}, {'label': 'political', 'score': 0.9898030757904053}, {'label': 'non-political', 'score': 0.9974656105041504}, {'label': 'non-political', 'score': 0.9978154897689819}, {'label': 'non-political', 'score': 0.9969915151596069}, {'label': 'non-political', 'score': 0.9980311989784241}, {'label': 'non-political', 'score': 0.997516393661499}, {'label': 'non-political', 'score': 0.9604801535606384}, {'label': 'non-political', 'score': 0.99760901927948}, {'label': 'political', 'score': 0.9934461712837219}, {'label': 'political', 'score': 0.9943530559539795}, {'label': 'non-political', 'score': 0.5658572316169739}, {'label': 'non-political', 'score': 0.9975662231445312}, {'label': 'political', 'score': 0.9740986227989197}, {'label': 'political', 'score': 0.9946807026863098}, {'label': 'non-political', 'score': 0.9970434308052063}, {'label': 'non-political', 'score': 0.9974838495254517}, {'label': 'non-political', 'score': 0.9652708172798157}, {'label': 'non-political', 'score': 0.9960567951202393}, {'label': 'non-political', 'score': 0.9971312284469604}, {'label': 'non-political', 'score': 0.9977832436561584}, {'label': 'political', 'score': 0.9932581186294556}, {'label': 'political', 'score': 0.9932677745819092}, {'label': 'non-political', 'score': 0.997495710849762}, {'label': 'political', 'score': 0.9942747950553894}, {'label': 'political', 'score': 0.9914871454238892}, {'label': 'political', 'score': 0.8146193623542786}, {'label': 'political', 'score': 0.9938504695892334}, {'label': 'political', 'score': 0.9770947098731995}, {'label': 'non-political', 'score': 0.9977278113365173}, {'label': 'political', 'score': 0.9944785833358765}, {'label': 'non-political', 'score': 0.9977779984474182}, {'label': 'non-political', 'score': 0.9971417784690857}, {'label': 'non-political', 'score': 0.9976199269294739}, {'label': 'political', 'score': 0.9947124719619751}, {'label': 'political', 'score': 0.994392454624176}, {'label': 'political', 'score': 0.9828606843948364}, {'label': 'non-political', 'score': 0.9977970123291016}, {'label': 'non-political', 'score': 0.9979788661003113}, {'label': 'non-political', 'score': 0.9959486722946167}, {'label': 'non-political', 'score': 0.9978933930397034}, {'label': 'non-political', 'score': 0.9945040941238403}, {'label': 'non-political', 'score': 0.8322356939315796}, {'label': 'political', 'score': 0.8513360023498535}, {'label': 'non-political', 'score': 0.9975476861000061}, {'label': 'political', 'score': 0.9919794797897339}, {'label': 'political', 'score': 0.9943231344223022}, {'label': 'non-political', 'score': 0.9936608076095581}, {'label': 'political', 'score': 0.9828765988349915}, {'label': 'non-political', 'score': 0.9972808361053467}, {'label': 'non-political', 'score': 0.9972442388534546}, {'label': 'political', 'score': 0.9937637448310852}, {'label': 'political', 'score': 0.9910818338394165}, {'label': 'non-political', 'score': 0.9977078437805176}, {'label': 'non-political', 'score': 0.9978122711181641}, {'label': 'political', 'score': 0.9942774176597595}, {'label': 'non-political', 'score': 0.9978639483451843}, {'label': 'non-political', 'score': 0.9980146884918213}, {'label': 'political', 'score': 0.9849622249603271}, {'label': 'political', 'score': 0.9922316074371338}, {'label': 'non-political', 'score': 0.9900654554367065}, {'label': 'non-political', 'score': 0.9977090358734131}, {'label': 'political', 'score': 0.9945942759513855}, {'label': 'political', 'score': 0.9858004450798035}, {'label': 'non-political', 'score': 0.9959326386451721}, {'label': 'non-political', 'score': 0.9977195858955383}, {'label': 'non-political', 'score': 0.9976807832717896}, {'label': 'political', 'score': 0.9795268177986145}, {'label': 'non-political', 'score': 0.9970694184303284}, {'label': 'political', 'score': 0.9943171143531799}, {'label': 'political', 'score': 0.9924927353858948}, {'label': 'political', 'score': 0.9904143214225769}, {'label': 'political', 'score': 0.9939063191413879}, {'label': 'non-political', 'score': 0.9975090026855469}, {'label': 'political', 'score': 0.9940144419670105}, {'label': 'political', 'score': 0.9931309819221497}, {'label': 'non-political', 'score': 0.9972410202026367}, {'label': 'political', 'score': 0.9928230047225952}, {'label': 'political', 'score': 0.9921196699142456}, {'label': 'political', 'score': 0.9899225831031799}, {'label': 'non-political', 'score': 0.9976468682289124}, {'label': 'political', 'score': 0.9944728016853333}, {'label': 'non-political', 'score': 0.9976698756217957}, {'label': 'political', 'score': 0.9830561876296997}, {'label': 'non-political', 'score': 0.9978787899017334}, {'label': 'political', 'score': 0.9940136075019836}, {'label': 'political', 'score': 0.9936256408691406}, {'label': 'non-political', 'score': 0.9977144002914429}, {'label': 'political', 'score': 0.982138991355896}, {'label': 'non-political', 'score': 0.9978663325309753}, {'label': 'non-political', 'score': 0.9976924657821655}, {'label': 'political', 'score': 0.9859467148780823}, {'label': 'non-political', 'score': 0.99777752161026}, {'label': 'non-political', 'score': 0.9971528053283691}, {'label': 'non-political', 'score': 0.9980431795120239}, {'label': 'political', 'score': 0.994396448135376}, {'label': 'non-political', 'score': 0.9977266192436218}, {'label': 'non-political', 'score': 0.9979574680328369}, {'label': 'political', 'score': 0.9933763146400452}, {'label': 'political', 'score': 0.9936105608940125}, {'label': 'political', 'score': 0.9946264624595642}, {'label': 'non-political', 'score': 0.9980137348175049}, {'label': 'non-political', 'score': 0.9964070916175842}, {'label': 'political', 'score': 0.9933679699897766}, {'label': 'political', 'score': 0.9935511350631714}, {'label': 'non-political', 'score': 0.8660565614700317}, {'label': 'political', 'score': 0.9942359328269958}, {'label': 'non-political', 'score': 0.9972360730171204}, {'label': 'non-political', 'score': 0.9977542757987976}, {'label': 'non-political', 'score': 0.9976905584335327}, {'label': 'political', 'score': 0.979612410068512}, {'label': 'non-political', 'score': 0.9952834248542786}, {'label': 'political', 'score': 0.9941984415054321}, {'label': 'political', 'score': 0.9873184561729431}, {'label': 'non-political', 'score': 0.9924095869064331}, {'label': 'political', 'score': 0.915179967880249}, {'label': 'non-political', 'score': 0.9976316690444946}, {'label': 'political', 'score': 0.9944023489952087}, {'label': 'political', 'score': 0.9944397211074829}, {'label': 'non-political', 'score': 0.990022599697113}, {'label': 'political', 'score': 0.9924594759941101}, {'label': 'non-political', 'score': 0.996727705001831}, {'label': 'political', 'score': 0.9934490323066711}, {'label': 'non-political', 'score': 0.9979094862937927}, {'label': 'political', 'score': 0.9937939643859863}, {'label': 'political', 'score': 0.9904599189758301}, {'label': 'non-political', 'score': 0.9975390434265137}, {'label': 'political', 'score': 0.9909494519233704}, {'label': 'non-political', 'score': 0.9967817068099976}, {'label': 'non-political', 'score': 0.9975409507751465}, {'label': 'non-political', 'score': 0.997516393661499}, {'label': 'political', 'score': 0.9930778741836548}, {'label': 'non-political', 'score': 0.9980048537254333}, {'label': 'political', 'score': 0.9943709969520569}, {'label': 'political', 'score': 0.9919691681861877}, {'label': 'non-political', 'score': 0.9972513318061829}, {'label': 'political', 'score': 0.9766787886619568}, {'label': 'non-political', 'score': 0.9977453351020813}, {'label': 'non-political', 'score': 0.9979516863822937}, {'label': 'non-political', 'score': 0.9974712133407593}, {'label': 'political', 'score': 0.9942107200622559}, {'label': 'political', 'score': 0.9887645244598389}, {'label': 'political', 'score': 0.9866892695426941}, {'label': 'non-political', 'score': 0.9958985447883606}, {'label': 'non-political', 'score': 0.9973457455635071}, {'label': 'non-political', 'score': 0.9976738095283508}, {'label': 'non-political', 'score': 0.9972436428070068}, {'label': 'non-political', 'score': 0.997844934463501}, {'label': 'non-political', 'score': 0.9965575933456421}, {'label': 'political', 'score': 0.9938165545463562}, {'label': 'non-political', 'score': 0.997060239315033}, {'label': 'political', 'score': 0.9912561178207397}, {'label': 'non-political', 'score': 0.9974023103713989}, {'label': 'non-political', 'score': 0.9975658655166626}, {'label': 'non-political', 'score': 0.9978805780410767}, {'label': 'non-political', 'score': 0.9977483153343201}, {'label': 'non-political', 'score': 0.9924542307853699}, {'label': 'non-political', 'score': 0.9970478415489197}, {'label': 'political', 'score': 0.9890531897544861}, {'label': 'non-political', 'score': 0.9979092478752136}, {'label': 'non-political', 'score': 0.9980123043060303}, {'label': 'non-political', 'score': 0.9977337121963501}, {'label': 'political', 'score': 0.9934707880020142}, {'label': 'non-political', 'score': 0.9954817295074463}, {'label': 'non-political', 'score': 0.9980089068412781}, {'label': 'non-political', 'score': 0.9978343844413757}, {'label': 'political', 'score': 0.9786624312400818}, {'label': 'non-political', 'score': 0.9979043006896973}, {'label': 'non-political', 'score': 0.9972516894340515}, {'label': 'non-political', 'score': 0.9980171918869019}, {'label': 'non-political', 'score': 0.9346649646759033}, {'label': 'non-political', 'score': 0.9974159002304077}, {'label': 'political', 'score': 0.9945499300956726}, {'label': 'political', 'score': 0.994745135307312}, {'label': 'political', 'score': 0.9933290481567383}, {'label': 'political', 'score': 0.937631368637085}, {'label': 'non-political', 'score': 0.9972904920578003}, {'label': 'political', 'score': 0.9943631887435913}, {'label': 'political', 'score': 0.9656561017036438}, {'label': 'non-political', 'score': 0.9974507689476013}, {'label': 'non-political', 'score': 0.9976726174354553}, {'label': 'non-political', 'score': 0.9975797533988953}, {'label': 'political', 'score': 0.9352728128433228}, {'label': 'political', 'score': 0.9939500093460083}, {'label': 'non-political', 'score': 0.9979227185249329}, {'label': 'non-political', 'score': 0.9960364699363708}, {'label': 'non-political', 'score': 0.9977585077285767}, {'label': 'non-political', 'score': 0.9978565573692322}, {'label': 'non-political', 'score': 0.9979122281074524}, {'label': 'non-political', 'score': 0.9979013204574585}, {'label': 'political', 'score': 0.9915101528167725}, {'label': 'political', 'score': 0.9918323755264282}, {'label': 'non-political', 'score': 0.9945131540298462}, {'label': 'non-political', 'score': 0.9976937174797058}, {'label': 'non-political', 'score': 0.9977151155471802}, {'label': 'political', 'score': 0.9935640692710876}, {'label': 'political', 'score': 0.994076132774353}, {'label': 'non-political', 'score': 0.9973524808883667}, {'label': 'non-political', 'score': 0.980846107006073}, {'label': 'political', 'score': 0.9874898791313171}, {'label': 'non-political', 'score': 0.9978054165840149}, {'label': 'non-political', 'score': 0.9973483085632324}, {'label': 'political', 'score': 0.9948838353157043}, {'label': 'political', 'score': 0.994425892829895}, {'label': 'non-political', 'score': 0.9977747797966003}, {'label': 'non-political', 'score': 0.9968254566192627}, {'label': 'non-political', 'score': 0.9977201819419861}, {'label': 'non-political', 'score': 0.745908796787262}, {'label': 'political', 'score': 0.9935653805732727}, {'label': 'political', 'score': 0.9602813720703125}, {'label': 'political', 'score': 0.9713836908340454}, {'label': 'non-political', 'score': 0.997944176197052}, {'label': 'political', 'score': 0.991257905960083}, {'label': 'political', 'score': 0.9935572743415833}, {'label': 'non-political', 'score': 0.997829258441925}, {'label': 'non-political', 'score': 0.9978792667388916}, {'label': 'political', 'score': 0.9920752048492432}, {'label': 'political', 'score': 0.9939901828765869}, {'label': 'non-political', 'score': 0.9971523284912109}, {'label': 'political', 'score': 0.9932253956794739}, {'label': 'political', 'score': 0.9935654997825623}, {'label': 'non-political', 'score': 0.997825562953949}, {'label': 'political', 'score': 0.9942654967308044}, {'label': 'political', 'score': 0.9926958084106445}, {'label': 'political', 'score': 0.7237038612365723}, {'label': 'non-political', 'score': 0.9967377781867981}, {'label': 'non-political', 'score': 0.9976307153701782}, {'label': 'political', 'score': 0.9927794337272644}, {'label': 'non-political', 'score': 0.9869286417961121}, {'label': 'non-political', 'score': 0.9688804745674133}, {'label': 'political', 'score': 0.9943853616714478}, {'label': 'non-political', 'score': 0.9979168772697449}, {'label': 'non-political', 'score': 0.9976568222045898}, {'label': 'political', 'score': 0.9893332123756409}, {'label': 'non-political', 'score': 0.9937030673027039}, {'label': 'political', 'score': 0.994662880897522}, {'label': 'non-political', 'score': 0.998130738735199}, {'label': 'political', 'score': 0.993366539478302}, {'label': 'political', 'score': 0.994397759437561}, {'label': 'non-political', 'score': 0.9973043203353882}, {'label': 'non-political', 'score': 0.9979495406150818}, {'label': 'non-political', 'score': 0.8274082541465759}, {'label': 'non-political', 'score': 0.9967425465583801}, {'label': 'non-political', 'score': 0.9978697299957275}, {'label': 'non-political', 'score': 0.9977503418922424}, {'label': 'political', 'score': 0.9937341809272766}, {'label': 'non-political', 'score': 0.9978777170181274}, {'label': 'political', 'score': 0.9932760000228882}, {'label': 'political', 'score': 0.9945291876792908}, {'label': 'non-political', 'score': 0.997920572757721}, {'label': 'non-political', 'score': 0.9974285960197449}, {'label': 'non-political', 'score': 0.9973853230476379}, {'label': 'political', 'score': 0.9905924201011658}, {'label': 'non-political', 'score': 0.997707724571228}, {'label': 'political', 'score': 0.9933680891990662}, {'label': 'political', 'score': 0.9946781396865845}, {'label': 'non-political', 'score': 0.9942834973335266}, {'label': 'political', 'score': 0.9862901568412781}, {'label': 'non-political', 'score': 0.9979137778282166}, {'label': 'non-political', 'score': 0.9978877902030945}, {'label': 'political', 'score': 0.994938850402832}, {'label': 'political', 'score': 0.993946373462677}, {'label': 'non-political', 'score': 0.9962223768234253}, {'label': 'non-political', 'score': 0.9961643218994141}, {'label': 'non-political', 'score': 0.9967929720878601}, {'label': 'political', 'score': 0.9917452931404114}, {'label': 'non-political', 'score': 0.9978967905044556}, {'label': 'non-political', 'score': 0.9973624348640442}, {'label': 'political', 'score': 0.9945299029350281}, {'label': 'non-political', 'score': 0.9972566962242126}, {'label': 'political', 'score': 0.9945259690284729}, {'label': 'non-political', 'score': 0.9898876547813416}, {'label': 'non-political', 'score': 0.997081458568573}, {'label': 'political', 'score': 0.9939409494400024}, {'label': 'political', 'score': 0.9936842322349548}, {'label': 'political', 'score': 0.9922601580619812}, {'label': 'non-political', 'score': 0.9976401329040527}, {'label': 'political', 'score': 0.9941344857215881}, {'label': 'political', 'score': 0.9947486519813538}, {'label': 'political', 'score': 0.9946990013122559}, {'label': 'political', 'score': 0.9929216504096985}, {'label': 'political', 'score': 0.9827037453651428}, {'label': 'non-political', 'score': 0.9977254271507263}, {'label': 'political', 'score': 0.9607638716697693}, {'label': 'non-political', 'score': 0.9980897307395935}, {'label': 'political', 'score': 0.8039079308509827}, {'label': 'non-political', 'score': 0.9978066086769104}, {'label': 'political', 'score': 0.8799969553947449}, {'label': 'non-political', 'score': 0.9979131817817688}, {'label': 'political', 'score': 0.9925221800804138}, {'label': 'political', 'score': 0.9939338564872742}, {'label': 'political', 'score': 0.9945894479751587}, {'label': 'political', 'score': 0.9935266971588135}, {'label': 'non-political', 'score': 0.997752845287323}, {'label': 'non-political', 'score': 0.9978499412536621}, {'label': 'political', 'score': 0.9922318458557129}, {'label': 'non-political', 'score': 0.9978085160255432}, {'label': 'non-political', 'score': 0.9951340556144714}, {'label': 'non-political', 'score': 0.9977501034736633}, {'label': 'political', 'score': 0.9919717311859131}, {'label': 'non-political', 'score': 0.9969742298126221}, {'label': 'political', 'score': 0.9938445091247559}, {'label': 'political', 'score': 0.9945735335350037}, {'label': 'political', 'score': 0.9919247031211853}, {'label': 'non-political', 'score': 0.9979627132415771}, {'label': 'non-political', 'score': 0.9974613189697266}, {'label': 'non-political', 'score': 0.9978744983673096}, {'label': 'non-political', 'score': 0.9960148334503174}, {'label': 'non-political', 'score': 0.9977710247039795}, {'label': 'political', 'score': 0.8755243420600891}, {'label': 'non-political', 'score': 0.5172004103660583}, {'label': 'non-political', 'score': 0.9971801042556763}, {'label': 'non-political', 'score': 0.99785977602005}, {'label': 'non-political', 'score': 0.9949272871017456}, {'label': 'non-political', 'score': 0.9931558966636658}, {'label': 'political', 'score': 0.99395751953125}, {'label': 'non-political', 'score': 0.9978569149971008}, {'label': 'non-political', 'score': 0.997648298740387}, {'label': 'non-political', 'score': 0.997887909412384}, {'label': 'political', 'score': 0.994619607925415}, {'label': 'political', 'score': 0.9927595853805542}, {'label': 'non-political', 'score': 0.9975893497467041}, {'label': 'non-political', 'score': 0.9979807734489441}, {'label': 'political', 'score': 0.993847668170929}, {'label': 'non-political', 'score': 0.9973352551460266}, {'label': 'non-political', 'score': 0.9966357350349426}, {'label': 'non-political', 'score': 0.9943752288818359}, {'label': 'political', 'score': 0.994814395904541}, {'label': 'political', 'score': 0.9921119213104248}, {'label': 'non-political', 'score': 0.9965173006057739}, {'label': 'non-political', 'score': 0.9973676800727844}, {'label': 'non-political', 'score': 0.9978329539299011}, {'label': 'political', 'score': 0.9920759201049805}, {'label': 'non-political', 'score': 0.9975841045379639}, {'label': 'non-political', 'score': 0.9977929592132568}, {'label': 'non-political', 'score': 0.9973123073577881}, {'label': 'non-political', 'score': 0.9974088072776794}, {'label': 'non-political', 'score': 0.9976884126663208}, {'label': 'political', 'score': 0.9768014550209045}, {'label': 'political', 'score': 0.992856502532959}, {'label': 'non-political', 'score': 0.9976001381874084}, {'label': 'non-political', 'score': 0.9974510073661804}, {'label': 'political', 'score': 0.9943471550941467}, {'label': 'non-political', 'score': 0.9974657297134399}, {'label': 'political', 'score': 0.9784687161445618}, {'label': 'non-political', 'score': 0.9977130889892578}, {'label': 'non-political', 'score': 0.9970312118530273}, {'label': 'non-political', 'score': 0.9978669285774231}, {'label': 'non-political', 'score': 0.9979782700538635}, {'label': 'non-political', 'score': 0.9980168342590332}, {'label': 'non-political', 'score': 0.9979548454284668}, {'label': 'non-political', 'score': 0.9974602460861206}, {'label': 'political', 'score': 0.9926873445510864}, {'label': 'political', 'score': 0.9938083291053772}, {'label': 'non-political', 'score': 0.9977353811264038}, {'label': 'non-political', 'score': 0.9980021119117737}, {'label': 'non-political', 'score': 0.9980200529098511}, {'label': 'political', 'score': 0.9929360747337341}, {'label': 'non-political', 'score': 0.9977930784225464}, {'label': 'non-political', 'score': 0.9975334405899048}, {'label': 'non-political', 'score': 0.997722327709198}, {'label': 'political', 'score': 0.9923357367515564}, {'label': 'non-political', 'score': 0.9897719025611877}, {'label': 'non-political', 'score': 0.5351675152778625}, {'label': 'non-political', 'score': 0.9977070093154907}, {'label': 'political', 'score': 0.993992030620575}, {'label': 'political', 'score': 0.9932329654693604}, {'label': 'political', 'score': 0.9930398464202881}, {'label': 'political', 'score': 0.9948029518127441}, {'label': 'political', 'score': 0.9929238557815552}, {'label': 'political', 'score': 0.9934034943580627}, {'label': 'non-political', 'score': 0.9972012042999268}, {'label': 'political', 'score': 0.9934953451156616}, {'label': 'political', 'score': 0.9773197174072266}, {'label': 'non-political', 'score': 0.993854820728302}, {'label': 'political', 'score': 0.994418740272522}, {'label': 'political', 'score': 0.9910085797309875}, {'label': 'political', 'score': 0.9856166839599609}, {'label': 'non-political', 'score': 0.9978137016296387}, {'label': 'political', 'score': 0.9585922360420227}, {'label': 'political', 'score': 0.9814715385437012}, {'label': 'non-political', 'score': 0.9968505501747131}, {'label': 'non-political', 'score': 0.9976325035095215}, {'label': 'non-political', 'score': 0.9975640773773193}, {'label': 'non-political', 'score': 0.9979079961776733}, {'label': 'non-political', 'score': 0.9980151653289795}, {'label': 'non-political', 'score': 0.996600329875946}, {'label': 'non-political', 'score': 0.9967212080955505}, {'label': 'political', 'score': 0.9942933320999146}, {'label': 'political', 'score': 0.994154155254364}, {'label': 'non-political', 'score': 0.8472340106964111}, {'label': 'political', 'score': 0.7464274168014526}, {'label': 'non-political', 'score': 0.9972746968269348}, {'label': 'political', 'score': 0.9932154417037964}, {'label': 'political', 'score': 0.9925382733345032}, {'label': 'non-political', 'score': 0.9974984526634216}, {'label': 'political', 'score': 0.9926718473434448}, {'label': 'non-political', 'score': 0.9978596568107605}, {'label': 'non-political', 'score': 0.9975511431694031}, {'label': 'political', 'score': 0.9940358400344849}, {'label': 'non-political', 'score': 0.9973949193954468}, {'label': 'political', 'score': 0.9934451580047607}, {'label': 'political', 'score': 0.9944872260093689}, {'label': 'non-political', 'score': 0.9977613687515259}, {'label': 'political', 'score': 0.9600759744644165}, {'label': 'non-political', 'score': 0.9931719303131104}, {'label': 'non-political', 'score': 0.9979684948921204}, {'label': 'non-political', 'score': 0.9976786971092224}, {'label': 'political', 'score': 0.9920519590377808}, {'label': 'non-political', 'score': 0.9978529214859009}, {'label': 'political', 'score': 0.9926707744598389}, {'label': 'non-political', 'score': 0.9682331085205078}, {'label': 'non-political', 'score': 0.9976170063018799}, {'label': 'political', 'score': 0.9940061569213867}, {'label': 'political', 'score': 0.6582445502281189}, {'label': 'political', 'score': 0.9908310174942017}, {'label': 'non-political', 'score': 0.9975503087043762}, {'label': 'political', 'score': 0.9943398833274841}, {'label': 'non-political', 'score': 0.9976198077201843}, {'label': 'political', 'score': 0.9949524402618408}, {'label': 'non-political', 'score': 0.9977204203605652}, {'label': 'political', 'score': 0.9938951134681702}, {'label': 'non-political', 'score': 0.9974002838134766}, {'label': 'non-political', 'score': 0.9958826303482056}, {'label': 'non-political', 'score': 0.99795001745224}, {'label': 'non-political', 'score': 0.9976046085357666}, {'label': 'non-political', 'score': 0.9979273080825806}, {'label': 'non-political', 'score': 0.9976195693016052}, {'label': 'political', 'score': 0.993183434009552}, {'label': 'non-political', 'score': 0.9972898960113525}, {'label': 'political', 'score': 0.9926204681396484}, {'label': 'non-political', 'score': 0.9976679682731628}, {'label': 'non-political', 'score': 0.9977413415908813}, {'label': 'non-political', 'score': 0.9976537823677063}, {'label': 'non-political', 'score': 0.9978011250495911}, {'label': 'non-political', 'score': 0.997663140296936}, {'label': 'political', 'score': 0.8385037779808044}, {'label': 'non-political', 'score': 0.9960805773735046}, {'label': 'political', 'score': 0.7521635293960571}, {'label': 'non-political', 'score': 0.997815728187561}, {'label': 'political', 'score': 0.9946574568748474}, {'label': 'non-political', 'score': 0.9978817105293274}, {'label': 'non-political', 'score': 0.9971892237663269}, {'label': 'political', 'score': 0.9884260892868042}, {'label': 'non-political', 'score': 0.8802536725997925}, {'label': 'political', 'score': 0.9940552711486816}, {'label': 'political', 'score': 0.9943357110023499}, {'label': 'non-political', 'score': 0.9924542307853699}, {'label': 'non-political', 'score': 0.9977606534957886}, {'label': 'non-political', 'score': 0.9977174997329712}, {'label': 'political', 'score': 0.9913239479064941}, {'label': 'political', 'score': 0.9773865938186646}, {'label': 'political', 'score': 0.9941368103027344}, {'label': 'political', 'score': 0.9860090613365173}, {'label': 'non-political', 'score': 0.9978740215301514}, {'label': 'non-political', 'score': 0.9977419376373291}, {'label': 'non-political', 'score': 0.9976054430007935}, {'label': 'non-political', 'score': 0.9977267384529114}, {'label': 'political', 'score': 0.9933944344520569}, {'label': 'non-political', 'score': 0.9601044058799744}, {'label': 'non-political', 'score': 0.9980912804603577}, {'label': 'political', 'score': 0.9935454726219177}, {'label': 'non-political', 'score': 0.9974055886268616}, {'label': 'non-political', 'score': 0.9972009658813477}, {'label': 'non-political', 'score': 0.5713571906089783}, {'label': 'non-political', 'score': 0.9967178702354431}, {'label': 'non-political', 'score': 0.9978873133659363}, {'label': 'non-political', 'score': 0.9976321458816528}, {'label': 'non-political', 'score': 0.9918224215507507}, {'label': 'political', 'score': 0.9932851791381836}, {'label': 'non-political', 'score': 0.9971555471420288}, {'label': 'political', 'score': 0.9946584105491638}, {'label': 'non-political', 'score': 0.9978470802307129}, {'label': 'non-political', 'score': 0.9975444674491882}, {'label': 'political', 'score': 0.9940823912620544}, {'label': 'non-political', 'score': 0.997944176197052}, {'label': 'non-political', 'score': 0.9979560375213623}, {'label': 'non-political', 'score': 0.9972801208496094}, {'label': 'political', 'score': 0.9920870661735535}, {'label': 'non-political', 'score': 0.9974225759506226}, {'label': 'non-political', 'score': 0.9976211190223694}, {'label': 'non-political', 'score': 0.9980320334434509}, {'label': 'non-political', 'score': 0.9976634979248047}, {'label': 'non-political', 'score': 0.9971755743026733}, {'label': 'political', 'score': 0.9926033616065979}, {'label': 'non-political', 'score': 0.9946860074996948}, {'label': 'political', 'score': 0.9947741627693176}, {'label': 'non-political', 'score': 0.9977278113365173}, {'label': 'non-political', 'score': 0.997420072555542}, {'label': 'political', 'score': 0.9919300079345703}, {'label': 'political', 'score': 0.994376540184021}, {'label': 'political', 'score': 0.9755973815917969}, {'label': 'non-political', 'score': 0.997771143913269}, {'label': 'non-political', 'score': 0.6507129669189453}, {'label': 'non-political', 'score': 0.996056318283081}, {'label': 'political', 'score': 0.9874328970909119}, {'label': 'non-political', 'score': 0.9975607395172119}, {'label': 'non-political', 'score': 0.9978645443916321}, {'label': 'political', 'score': 0.9925137162208557}, {'label': 'political', 'score': 0.9947550296783447}, {'label': 'political', 'score': 0.9893109798431396}, {'label': 'non-political', 'score': 0.9977596998214722}, {'label': 'non-political', 'score': 0.9976007342338562}, {'label': 'non-political', 'score': 0.9976438879966736}, {'label': 'non-political', 'score': 0.9978360533714294}, {'label': 'non-political', 'score': 0.9979063272476196}, {'label': 'political', 'score': 0.9893327951431274}, {'label': 'non-political', 'score': 0.9978165626525879}, {'label': 'non-political', 'score': 0.9975970387458801}, {'label': 'political', 'score': 0.9943143725395203}, {'label': 'non-political', 'score': 0.9979496598243713}, {'label': 'non-political', 'score': 0.9977922439575195}, {'label': 'political', 'score': 0.993770182132721}, {'label': 'non-political', 'score': 0.9979423880577087}, {'label': 'non-political', 'score': 0.997883141040802}, {'label': 'non-political', 'score': 0.9975020289421082}, {'label': 'non-political', 'score': 0.9973468780517578}, {'label': 'non-political', 'score': 0.9962798953056335}, {'label': 'political', 'score': 0.9914205074310303}, {'label': 'political', 'score': 0.993064820766449}, {'label': 'political', 'score': 0.9941403269767761}, {'label': 'non-political', 'score': 0.9975107908248901}, {'label': 'political', 'score': 0.9939025640487671}, {'label': 'non-political', 'score': 0.9976794123649597}, {'label': 'political', 'score': 0.9935263395309448}, {'label': 'non-political', 'score': 0.99712735414505}, {'label': 'non-political', 'score': 0.9974812865257263}, {'label': 'political', 'score': 0.9926193356513977}, {'label': 'political', 'score': 0.9925421476364136}, {'label': 'non-political', 'score': 0.995642900466919}, {'label': 'political', 'score': 0.9947403073310852}, {'label': 'non-political', 'score': 0.9977501034736633}, {'label': 'non-political', 'score': 0.9965016841888428}, {'label': 'non-political', 'score': 0.9978658556938171}, {'label': 'political', 'score': 0.9654243588447571}, {'label': 'non-political', 'score': 0.9977630376815796}, {'label': 'non-political', 'score': 0.9976703524589539}, {'label': 'non-political', 'score': 0.9979654550552368}, {'label': 'political', 'score': 0.9947815537452698}, {'label': 'non-political', 'score': 0.997885525226593}, {'label': 'political', 'score': 0.9942150712013245}, {'label': 'political', 'score': 0.9945011138916016}, {'label': 'non-political', 'score': 0.9702706933021545}, {'label': 'political', 'score': 0.9891123175621033}, {'label': 'non-political', 'score': 0.997189462184906}, {'label': 'non-political', 'score': 0.9977116584777832}, {'label': 'non-political', 'score': 0.9953658580780029}, {'label': 'political', 'score': 0.9930450320243835}, {'label': 'political', 'score': 0.9914270639419556}, {'label': 'political', 'score': 0.9929372668266296}, {'label': 'political', 'score': 0.9920057654380798}, {'label': 'non-political', 'score': 0.8055067658424377}, {'label': 'political', 'score': 0.9941695928573608}, {'label': 'political', 'score': 0.994041383266449}, {'label': 'political', 'score': 0.9946687817573547}, {'label': 'non-political', 'score': 0.9978494644165039}, {'label': 'political', 'score': 0.9929823875427246}, {'label': 'non-political', 'score': 0.9941965341567993}, {'label': 'non-political', 'score': 0.9975469708442688}, {'label': 'political', 'score': 0.9911070466041565}, {'label': 'political', 'score': 0.9936075210571289}, {'label': 'political', 'score': 0.9935579895973206}, {'label': 'non-political', 'score': 0.9980371594429016}, {'label': 'non-political', 'score': 0.9524666666984558}, {'label': 'non-political', 'score': 0.997636079788208}, {'label': 'political', 'score': 0.9941522479057312}, {'label': 'political', 'score': 0.9936717748641968}, {'label': 'political', 'score': 0.9913329482078552}, {'label': 'non-political', 'score': 0.9967972636222839}, {'label': 'non-political', 'score': 0.9910731911659241}, {'label': 'non-political', 'score': 0.9978489875793457}, {'label': 'political', 'score': 0.9922628402709961}, {'label': 'political', 'score': 0.9937637448310852}, {'label': 'non-political', 'score': 0.9976924657821655}, {'label': 'non-political', 'score': 0.9976654052734375}, {'label': 'political', 'score': 0.9864360690116882}, {'label': 'political', 'score': 0.9942426085472107}, {'label': 'non-political', 'score': 0.9942600727081299}, {'label': 'non-political', 'score': 0.9961575865745544}, {'label': 'non-political', 'score': 0.9977017045021057}, {'label': 'political', 'score': 0.9922813773155212}, {'label': 'non-political', 'score': 0.997505247592926}, {'label': 'non-political', 'score': 0.9965826869010925}, {'label': 'political', 'score': 0.7472571134567261}, {'label': 'non-political', 'score': 0.9971587657928467}, {'label': 'non-political', 'score': 0.9966269731521606}, {'label': 'non-political', 'score': 0.9975729584693909}, {'label': 'non-political', 'score': 0.997750461101532}, {'label': 'political', 'score': 0.993064820766449}, {'label': 'political', 'score': 0.9878137111663818}, {'label': 'non-political', 'score': 0.9967678785324097}, {'label': 'non-political', 'score': 0.9924542307853699}, {'label': 'non-political', 'score': 0.7036841511726379}, {'label': 'non-political', 'score': 0.9973840117454529}, {'label': 'political', 'score': 0.9943734407424927}, {'label': 'political', 'score': 0.9943310022354126}, {'label': 'non-political', 'score': 0.9948214292526245}, {'label': 'non-political', 'score': 0.9979276657104492}, {'label': 'political', 'score': 0.9947668313980103}, {'label': 'non-political', 'score': 0.9967153072357178}, {'label': 'non-political', 'score': 0.9978006482124329}, {'label': 'political', 'score': 0.9943880438804626}, {'label': 'non-political', 'score': 0.997986912727356}, {'label': 'non-political', 'score': 0.9967635869979858}, {'label': 'political', 'score': 0.9943510293960571}, {'label': 'non-political', 'score': 0.9979161620140076}, {'label': 'political', 'score': 0.9927347898483276}, {'label': 'non-political', 'score': 0.9945936799049377}, {'label': 'political', 'score': 0.9939536452293396}, {'label': 'non-political', 'score': 0.9973798394203186}, {'label': 'non-political', 'score': 0.9978061318397522}, {'label': 'political', 'score': 0.9939355254173279}, {'label': 'political', 'score': 0.9931198358535767}, {'label': 'non-political', 'score': 0.9955049157142639}, {'label': 'political', 'score': 0.9922637939453125}, {'label': 'political', 'score': 0.9800400733947754}, {'label': 'non-political', 'score': 0.9973504543304443}, {'label': 'non-political', 'score': 0.9979077577590942}, {'label': 'non-political', 'score': 0.9955068826675415}, {'label': 'political', 'score': 0.994763970375061}, {'label': 'non-political', 'score': 0.9979754090309143}, {'label': 'non-political', 'score': 0.9975979924201965}, {'label': 'political', 'score': 0.9262136816978455}, {'label': 'non-political', 'score': 0.9973676800727844}, {'label': 'non-political', 'score': 0.9979608058929443}, {'label': 'non-political', 'score': 0.9973031282424927}, {'label': 'political', 'score': 0.9680256247520447}, {'label': 'political', 'score': 0.9936953186988831}, {'label': 'political', 'score': 0.9641116261482239}, {'label': 'non-political', 'score': 0.9975645542144775}, {'label': 'non-political', 'score': 0.997197151184082}, {'label': 'political', 'score': 0.9940651655197144}, {'label': 'non-political', 'score': 0.9976493716239929}, {'label': 'non-political', 'score': 0.9976493716239929}, {'label': 'political', 'score': 0.9510807991027832}, {'label': 'non-political', 'score': 0.9975200295448303}, {'label': 'political', 'score': 0.9918009638786316}, {'label': 'non-political', 'score': 0.997820258140564}, {'label': 'political', 'score': 0.9911895990371704}, {'label': 'political', 'score': 0.9939863681793213}, {'label': 'political', 'score': 0.9853158593177795}, {'label': 'non-political', 'score': 0.9975540041923523}, {'label': 'non-political', 'score': 0.9976798892021179}, {'label': 'non-political', 'score': 0.9973402619361877}, {'label': 'political', 'score': 0.9930785298347473}, {'label': 'non-political', 'score': 0.5497457385063171}, {'label': 'non-political', 'score': 0.9973668456077576}, {'label': 'non-political', 'score': 0.9979166388511658}, {'label': 'non-political', 'score': 0.9979816675186157}, {'label': 'non-political', 'score': 0.997761607170105}, {'label': 'non-political', 'score': 0.9977992177009583}, {'label': 'non-political', 'score': 0.997866690158844}, {'label': 'non-political', 'score': 0.9979704022407532}, {'label': 'political', 'score': 0.9930210709571838}, {'label': 'non-political', 'score': 0.9977346658706665}, {'label': 'political', 'score': 0.9942228198051453}, {'label': 'non-political', 'score': 0.9971168041229248}, {'label': 'political', 'score': 0.9920179843902588}, {'label': 'non-political', 'score': 0.9978095889091492}, {'label': 'non-political', 'score': 0.9976925849914551}, {'label': 'political', 'score': 0.9921597838401794}, {'label': 'non-political', 'score': 0.987498939037323}, {'label': 'non-political', 'score': 0.9949624538421631}, {'label': 'non-political', 'score': 0.9973164200782776}, {'label': 'non-political', 'score': 0.9777876138687134}, {'label': 'non-political', 'score': 0.9960700273513794}, {'label': 'political', 'score': 0.9940537810325623}, {'label': 'political', 'score': 0.9940027594566345}, {'label': 'non-political', 'score': 0.9912850260734558}, {'label': 'political', 'score': 0.9927652478218079}, {'label': 'political', 'score': 0.9886581301689148}, {'label': 'non-political', 'score': 0.9980922341346741}, {'label': 'non-political', 'score': 0.9979515671730042}, {'label': 'non-political', 'score': 0.9969300627708435}, {'label': 'non-political', 'score': 0.9972487092018127}, {'label': 'political', 'score': 0.9947463870048523}, {'label': 'political', 'score': 0.9848812818527222}, {'label': 'non-political', 'score': 0.9978988170623779}, {'label': 'political', 'score': 0.994658887386322}, {'label': 'non-political', 'score': 0.99769526720047}, {'label': 'political', 'score': 0.9931502938270569}, {'label': 'political', 'score': 0.992608368396759}, {'label': 'non-political', 'score': 0.9975013136863708}, {'label': 'non-political', 'score': 0.99628746509552}, {'label': 'non-political', 'score': 0.9978708028793335}, {'label': 'political', 'score': 0.9720780849456787}, {'label': 'non-political', 'score': 0.9961475133895874}, {'label': 'non-political', 'score': 0.9978803396224976}, {'label': 'political', 'score': 0.9943631887435913}, {'label': 'non-political', 'score': 0.996780276298523}, {'label': 'political', 'score': 0.9190993905067444}, {'label': 'political', 'score': 0.9911206364631653}, {'label': 'non-political', 'score': 0.9972604513168335}, {'label': 'non-political', 'score': 0.9969250559806824}, {'label': 'non-political', 'score': 0.9977026581764221}, {'label': 'non-political', 'score': 0.9975318908691406}, {'label': 'non-political', 'score': 0.9969321489334106}, {'label': 'political', 'score': 0.9898290038108826}, {'label': 'political', 'score': 0.9903558492660522}, {'label': 'non-political', 'score': 0.9980159997940063}, {'label': 'political', 'score': 0.9939591884613037}, {'label': 'political', 'score': 0.9883384704589844}, {'label': 'non-political', 'score': 0.9976281523704529}, {'label': 'political', 'score': 0.9944954514503479}, {'label': 'political', 'score': 0.9940630793571472}, {'label': 'non-political', 'score': 0.9929694533348083}, {'label': 'political', 'score': 0.9939350485801697}, {'label': 'non-political', 'score': 0.9975761771202087}, {'label': 'political', 'score': 0.9947301149368286}, {'label': 'political', 'score': 0.9928948283195496}, {'label': 'political', 'score': 0.980148434638977}, {'label': 'non-political', 'score': 0.9974706172943115}, {'label': 'non-political', 'score': 0.997548520565033}, {'label': 'political', 'score': 0.9938071370124817}, {'label': 'political', 'score': 0.9944319128990173}, {'label': 'non-political', 'score': 0.9976382255554199}, {'label': 'political', 'score': 0.9940574169158936}, {'label': 'non-political', 'score': 0.9975600242614746}, {'label': 'political', 'score': 0.9728491902351379}, {'label': 'non-political', 'score': 0.9979262351989746}, {'label': 'political', 'score': 0.9932888150215149}, {'label': 'non-political', 'score': 0.997771143913269}, {'label': 'non-political', 'score': 0.9976153373718262}, {'label': 'political', 'score': 0.9929989576339722}, {'label': 'political', 'score': 0.9854668378829956}, {'label': 'political', 'score': 0.9237431883811951}, {'label': 'political', 'score': 0.9876063466072083}, {'label': 'non-political', 'score': 0.9977682828903198}, {'label': 'political', 'score': 0.9947845339775085}, {'label': 'political', 'score': 0.993560791015625}, {'label': 'political', 'score': 0.9932643175125122}, {'label': 'political', 'score': 0.9892693161964417}, {'label': 'non-political', 'score': 0.997793436050415}, {'label': 'non-political', 'score': 0.9975739121437073}, {'label': 'political', 'score': 0.994208574295044}, {'label': 'political', 'score': 0.9945008754730225}, {'label': 'political', 'score': 0.9937244057655334}, {'label': 'political', 'score': 0.9940578937530518}, {'label': 'political', 'score': 0.990105926990509}, {'label': 'non-political', 'score': 0.5040079951286316}, {'label': 'non-political', 'score': 0.9829429388046265}, {'label': 'political', 'score': 0.9847545623779297}, {'label': 'political', 'score': 0.992763340473175}, {'label': 'non-political', 'score': 0.9979385733604431}, {'label': 'political', 'score': 0.9946921467781067}, {'label': 'political', 'score': 0.9947303533554077}, {'label': 'non-political', 'score': 0.9961152076721191}, {'label': 'political', 'score': 0.9930746555328369}, {'label': 'non-political', 'score': 0.996990442276001}, {'label': 'political', 'score': 0.9934940934181213}, {'label': 'non-political', 'score': 0.9974234104156494}, {'label': 'political', 'score': 0.9720746874809265}, {'label': 'non-political', 'score': 0.997768759727478}, {'label': 'political', 'score': 0.9949200749397278}, {'label': 'political', 'score': 0.992510199546814}, {'label': 'non-political', 'score': 0.9922084808349609}, {'label': 'non-political', 'score': 0.9966670870780945}, {'label': 'non-political', 'score': 0.9978030323982239}, {'label': 'non-political', 'score': 0.9976950287818909}]\n"
          ]
        }
      ],
      "source": [
        "# create a dummy data frame for illustration\n",
        "# Take a random sample of size 1000 or the entire dataframe if it contains fewer than 1000 rows\n",
        "df_inference = df_test[[\"text\", \"label_text\"]].sample(n=min(1000, df_test.shape[0]), random_state=123).copy(deep=True)\n",
        "\n",
        "\n",
        "text_lst = df_inference[\"text\"].tolist()\n",
        "\n",
        "# use the pipeline with your chosen model for inference (prediction)\n",
        "pipe_output = pipe_classifier(\n",
        "    text_lst,  # input any list of texts here\n",
        "    batch_size=32  # reduce this number to 8 or 16 if you get an out-of-memory error\n",
        ")\n",
        "print(pipe_output)\n",
        "\n",
        "df_output = pd.DataFrame(pipe_output)\n",
        "\n",
        "# add inference data to your original dataframe\n",
        "df_inference[\"label_text_pred\"] = df_output[\"label\"].tolist()\n",
        "df_inference[\"label_text_pred_probability\"] = df_output[\"score\"].round(2).tolist()\n"
      ]
    },
    {
      "cell_type": "code",
      "execution_count": 23,
      "metadata": {
        "colab": {
          "base_uri": "https://localhost:8080/",
          "height": 424
        },
        "id": "TenfEfSMNnuw",
        "outputId": "bae06a47-f163-484d-8d82-2b5ee76f8069"
      },
      "outputs": [
        {
          "data": {
            "text/html": [
              "\n",
              "  <div id=\"df-30b90184-8390-4164-9b09-4915b2d0a29a\">\n",
              "    <div class=\"colab-df-container\">\n",
              "      <div>\n",
              "<style scoped>\n",
              "    .dataframe tbody tr th:only-of-type {\n",
              "        vertical-align: middle;\n",
              "    }\n",
              "\n",
              "    .dataframe tbody tr th {\n",
              "        vertical-align: top;\n",
              "    }\n",
              "\n",
              "    .dataframe thead th {\n",
              "        text-align: right;\n",
              "    }\n",
              "</style>\n",
              "<table border=\"1\" class=\"dataframe\">\n",
              "  <thead>\n",
              "    <tr style=\"text-align: right;\">\n",
              "      <th></th>\n",
              "      <th>text</th>\n",
              "      <th>label_text</th>\n",
              "      <th>label_text_pred</th>\n",
              "      <th>label_text_pred_probability</th>\n",
              "    </tr>\n",
              "  </thead>\n",
              "  <tbody>\n",
              "    <tr>\n",
              "      <th>669</th>\n",
              "      <td>RETTYSHAQ u kno what ur right, but I thought a...</td>\n",
              "      <td>non-political</td>\n",
              "      <td>non-political</td>\n",
              "      <td>1.00</td>\n",
              "    </tr>\n",
              "    <tr>\n",
              "      <th>634</th>\n",
              "      <td>ni tutorial on Box2D http://bit.ly/lsZBz</td>\n",
              "      <td>non-political</td>\n",
              "      <td>non-political</td>\n",
              "      <td>1.00</td>\n",
              "    </tr>\n",
              "    <tr>\n",
              "      <th>415</th>\n",
              "      <td>am working on starting my on clothing line. Lo...</td>\n",
              "      <td>non-political</td>\n",
              "      <td>non-political</td>\n",
              "      <td>1.00</td>\n",
              "    </tr>\n",
              "    <tr>\n",
              "      <th>457</th>\n",
              "      <td>ixtape] Lil Wayne - No Ceilings (Official): He...</td>\n",
              "      <td>non-political</td>\n",
              "      <td>non-political</td>\n",
              "      <td>1.00</td>\n",
              "    </tr>\n",
              "    <tr>\n",
              "      <th>336</th>\n",
              "      <td>Tories plan to reduce Big Brother state: A FUT...</td>\n",
              "      <td>political</td>\n",
              "      <td>political</td>\n",
              "      <td>0.99</td>\n",
              "    </tr>\n",
              "    <tr>\n",
              "      <th>...</th>\n",
              "      <td>...</td>\n",
              "      <td>...</td>\n",
              "      <td>...</td>\n",
              "      <td>...</td>\n",
              "    </tr>\n",
              "    <tr>\n",
              "      <th>13</th>\n",
              "      <td>Jerry Falwell - The conservative elite and cor...</td>\n",
              "      <td>political</td>\n",
              "      <td>political</td>\n",
              "      <td>0.99</td>\n",
              "    </tr>\n",
              "    <tr>\n",
              "      <th>30</th>\n",
              "      <td>in us in 30 minutes for the Common Man Common ...</td>\n",
              "      <td>non-political</td>\n",
              "      <td>non-political</td>\n",
              "      <td>0.99</td>\n",
              "    </tr>\n",
              "    <tr>\n",
              "      <th>756</th>\n",
              "      <td>@BigBassFishing Phillips Rode Flipping Bite T...</td>\n",
              "      <td>non-political</td>\n",
              "      <td>non-political</td>\n",
              "      <td>1.00</td>\n",
              "    </tr>\n",
              "    <tr>\n",
              "      <th>745</th>\n",
              "      <td>@Neg10540: Hope y'all had a greatMon MJ fans....</td>\n",
              "      <td>non-political</td>\n",
              "      <td>non-political</td>\n",
              "      <td>1.00</td>\n",
              "    </tr>\n",
              "    <tr>\n",
              "      <th>709</th>\n",
              "      <td>onnieWahlberg I bought my ticket hoping I coul...</td>\n",
              "      <td>non-political</td>\n",
              "      <td>non-political</td>\n",
              "      <td>1.00</td>\n",
              "    </tr>\n",
              "  </tbody>\n",
              "</table>\n",
              "<p>800 rows × 4 columns</p>\n",
              "</div>\n",
              "      <button class=\"colab-df-convert\" onclick=\"convertToInteractive('df-30b90184-8390-4164-9b09-4915b2d0a29a')\"\n",
              "              title=\"Convert this dataframe to an interactive table.\"\n",
              "              style=\"display:none;\">\n",
              "        \n",
              "  <svg xmlns=\"http://www.w3.org/2000/svg\" height=\"24px\"viewBox=\"0 0 24 24\"\n",
              "       width=\"24px\">\n",
              "    <path d=\"M0 0h24v24H0V0z\" fill=\"none\"/>\n",
              "    <path d=\"M18.56 5.44l.94 2.06.94-2.06 2.06-.94-2.06-.94-.94-2.06-.94 2.06-2.06.94zm-11 1L8.5 8.5l.94-2.06 2.06-.94-2.06-.94L8.5 2.5l-.94 2.06-2.06.94zm10 10l.94 2.06.94-2.06 2.06-.94-2.06-.94-.94-2.06-.94 2.06-2.06.94z\"/><path d=\"M17.41 7.96l-1.37-1.37c-.4-.4-.92-.59-1.43-.59-.52 0-1.04.2-1.43.59L10.3 9.45l-7.72 7.72c-.78.78-.78 2.05 0 2.83L4 21.41c.39.39.9.59 1.41.59.51 0 1.02-.2 1.41-.59l7.78-7.78 2.81-2.81c.8-.78.8-2.07 0-2.86zM5.41 20L4 18.59l7.72-7.72 1.47 1.35L5.41 20z\"/>\n",
              "  </svg>\n",
              "      </button>\n",
              "      \n",
              "  <style>\n",
              "    .colab-df-container {\n",
              "      display:flex;\n",
              "      flex-wrap:wrap;\n",
              "      gap: 12px;\n",
              "    }\n",
              "\n",
              "    .colab-df-convert {\n",
              "      background-color: #E8F0FE;\n",
              "      border: none;\n",
              "      border-radius: 50%;\n",
              "      cursor: pointer;\n",
              "      display: none;\n",
              "      fill: #1967D2;\n",
              "      height: 32px;\n",
              "      padding: 0 0 0 0;\n",
              "      width: 32px;\n",
              "    }\n",
              "\n",
              "    .colab-df-convert:hover {\n",
              "      background-color: #E2EBFA;\n",
              "      box-shadow: 0px 1px 2px rgba(60, 64, 67, 0.3), 0px 1px 3px 1px rgba(60, 64, 67, 0.15);\n",
              "      fill: #174EA6;\n",
              "    }\n",
              "\n",
              "    [theme=dark] .colab-df-convert {\n",
              "      background-color: #3B4455;\n",
              "      fill: #D2E3FC;\n",
              "    }\n",
              "\n",
              "    [theme=dark] .colab-df-convert:hover {\n",
              "      background-color: #434B5C;\n",
              "      box-shadow: 0px 1px 3px 1px rgba(0, 0, 0, 0.15);\n",
              "      filter: drop-shadow(0px 1px 2px rgba(0, 0, 0, 0.3));\n",
              "      fill: #FFFFFF;\n",
              "    }\n",
              "  </style>\n",
              "\n",
              "      <script>\n",
              "        const buttonEl =\n",
              "          document.querySelector('#df-30b90184-8390-4164-9b09-4915b2d0a29a button.colab-df-convert');\n",
              "        buttonEl.style.display =\n",
              "          google.colab.kernel.accessAllowed ? 'block' : 'none';\n",
              "\n",
              "        async function convertToInteractive(key) {\n",
              "          const element = document.querySelector('#df-30b90184-8390-4164-9b09-4915b2d0a29a');\n",
              "          const dataTable =\n",
              "            await google.colab.kernel.invokeFunction('convertToInteractive',\n",
              "                                                     [key], {});\n",
              "          if (!dataTable) return;\n",
              "\n",
              "          const docLinkHtml = 'Like what you see? Visit the ' +\n",
              "            '<a target=\"_blank\" href=https://colab.research.google.com/notebooks/data_table.ipynb>data table notebook</a>'\n",
              "            + ' to learn more about interactive tables.';\n",
              "          element.innerHTML = '';\n",
              "          dataTable['output_type'] = 'display_data';\n",
              "          await google.colab.output.renderOutput(dataTable, element);\n",
              "          const docLink = document.createElement('div');\n",
              "          docLink.innerHTML = docLinkHtml;\n",
              "          element.appendChild(docLink);\n",
              "        }\n",
              "      </script>\n",
              "    </div>\n",
              "  </div>\n",
              "  "
            ],
            "text/plain": [
              "                                                  text     label_text  \\\n",
              "669  RETTYSHAQ u kno what ur right, but I thought a...  non-political   \n",
              "634           ni tutorial on Box2D http://bit.ly/lsZBz  non-political   \n",
              "415  am working on starting my on clothing line. Lo...  non-political   \n",
              "457  ixtape] Lil Wayne - No Ceilings (Official): He...  non-political   \n",
              "336  Tories plan to reduce Big Brother state: A FUT...      political   \n",
              "..                                                 ...            ...   \n",
              "13   Jerry Falwell - The conservative elite and cor...      political   \n",
              "30   in us in 30 minutes for the Common Man Common ...  non-political   \n",
              "756   @BigBassFishing Phillips Rode Flipping Bite T...  non-political   \n",
              "745   @Neg10540: Hope y'all had a greatMon MJ fans....  non-political   \n",
              "709  onnieWahlberg I bought my ticket hoping I coul...  non-political   \n",
              "\n",
              "    label_text_pred  label_text_pred_probability  \n",
              "669   non-political                         1.00  \n",
              "634   non-political                         1.00  \n",
              "415   non-political                         1.00  \n",
              "457   non-political                         1.00  \n",
              "336       political                         0.99  \n",
              "..              ...                          ...  \n",
              "13        political                         0.99  \n",
              "30    non-political                         0.99  \n",
              "756   non-political                         1.00  \n",
              "745   non-political                         1.00  \n",
              "709   non-political                         1.00  \n",
              "\n",
              "[800 rows x 4 columns]"
            ]
          },
          "execution_count": 23,
          "metadata": {},
          "output_type": "execute_result"
        }
      ],
      "source": [
        "df_inference"
      ]
    },
    {
      "attachments": {},
      "cell_type": "markdown",
      "metadata": {
        "id": "U8z91l2jn-kl"
      },
      "source": [
        "## Workshop exercise"
      ]
    },
    {
      "attachments": {},
      "cell_type": "markdown",
      "metadata": {
        "id": "E1amMcHyoE63"
      },
      "source": [
        "1. `Runtime > Run all`\n",
        "2. Inspect the output; Google/ChatGPT some terms you don’t know\n",
        "3. Choose a more powerful model and adapt `model_name`\n",
        "4. `Runtime > Restart and Run All`\n",
        "5. Inspect the output; (optionally rerun again with different hyperparameters)\n",
        "6. Optional: Create a [Hugging Face account](https://huggingface.co/) and upload your model with the code below\n",
        "7. Optional: Try hyperparameter search with the code below (takes very long)"
      ]
    },
    {
      "cell_type": "code",
      "execution_count": 24,
      "metadata": {
        "colab": {
          "base_uri": "https://localhost:8080/",
          "height": 187
        },
        "id": "a5jSsFxmA_KV",
        "outputId": "dac61a63-de6e-4adf-ec2c-c9895c48ad6c"
      },
      "outputs": [
        {
          "ename": "AssertionError",
          "evalue": "ignored",
          "output_type": "error",
          "traceback": [
            "\u001b[0;31m---------------------------------------------------------------------------\u001b[0m",
            "\u001b[0;31mAssertionError\u001b[0m                            Traceback (most recent call last)",
            "\u001b[0;32m<ipython-input-24-02bb981a27af>\u001b[0m in \u001b[0;36m<cell line: 2>\u001b[0;34m()\u001b[0m\n\u001b[1;32m      1\u001b[0m \u001b[0mrun_code_below\u001b[0m \u001b[0;34m=\u001b[0m \u001b[0;32mFalse\u001b[0m \u001b[0;31m# If you want to run the whole script, including the hyper-parameter tuning below, change this into True\u001b[0m\u001b[0;34m\u001b[0m\u001b[0;34m\u001b[0m\u001b[0m\n\u001b[0;32m----> 2\u001b[0;31m \u001b[0;32massert\u001b[0m \u001b[0mrun_code_below\u001b[0m\u001b[0;34m,\u001b[0m \u001b[0;34m\"Stopping code here to avoid accidental runs of the code below with Runtime > Run all\"\u001b[0m\u001b[0;34m\u001b[0m\u001b[0;34m\u001b[0m\u001b[0m\n\u001b[0m",
            "\u001b[0;31mAssertionError\u001b[0m: Stopping code here to avoid accidental runs of the code below with Runtime > Run all"
          ]
        }
      ],
      "source": [
        "run_code_below = False # If you want to run the whole script, including the hyper-parameter tuning below, change this into True\n",
        "assert run_code_below, \"Stopping code here to avoid accidental runs of the code below with Runtime > Run all\""
      ]
    },
    {
      "attachments": {},
      "cell_type": "markdown",
      "metadata": {
        "id": "k__JobJ6vuPi"
      },
      "source": [
        "## Bonus: Save and load your fine-tuned model"
      ]
    },
    {
      "attachments": {},
      "cell_type": "markdown",
      "metadata": {
        "id": "QQdcTrT-yWW7"
      },
      "source": [
        "### Saving your model to Google Drive"
      ]
    },
    {
      "cell_type": "code",
      "execution_count": 25,
      "metadata": {
        "colab": {
          "base_uri": "https://localhost:8080/",
          "height": 389
        },
        "id": "9NzeLxsLysX-",
        "outputId": "53d75af1-7cf2-447c-9ba7-2efc9994000a"
      },
      "outputs": [
        {
          "ename": "MessageError",
          "evalue": "ignored",
          "output_type": "error",
          "traceback": [
            "\u001b[0;31m---------------------------------------------------------------------------\u001b[0m",
            "\u001b[0;31mMessageError\u001b[0m                              Traceback (most recent call last)",
            "\u001b[0;32m<ipython-input-25-1daedeb53ee6>\u001b[0m in \u001b[0;36m<cell line: 4>\u001b[0;34m()\u001b[0m\n\u001b[1;32m      2\u001b[0m \u001b[0;32mfrom\u001b[0m \u001b[0mgoogle\u001b[0m\u001b[0;34m.\u001b[0m\u001b[0mcolab\u001b[0m \u001b[0;32mimport\u001b[0m \u001b[0mdrive\u001b[0m\u001b[0;34m\u001b[0m\u001b[0;34m\u001b[0m\u001b[0m\n\u001b[1;32m      3\u001b[0m \u001b[0;32mimport\u001b[0m \u001b[0mos\u001b[0m\u001b[0;34m\u001b[0m\u001b[0;34m\u001b[0m\u001b[0m\n\u001b[0;32m----> 4\u001b[0;31m \u001b[0mdrive\u001b[0m\u001b[0;34m.\u001b[0m\u001b[0mmount\u001b[0m\u001b[0;34m(\u001b[0m\u001b[0;34m'/content/drive'\u001b[0m\u001b[0;34m,\u001b[0m \u001b[0mforce_remount\u001b[0m\u001b[0;34m=\u001b[0m\u001b[0;32mFalse\u001b[0m\u001b[0;34m)\u001b[0m\u001b[0;34m\u001b[0m\u001b[0;34m\u001b[0m\u001b[0m\n\u001b[0m\u001b[1;32m      5\u001b[0m \u001b[0;31m#drive.flush_and_unmount()\u001b[0m\u001b[0;34m\u001b[0m\u001b[0;34m\u001b[0m\u001b[0m\n\u001b[1;32m      6\u001b[0m \u001b[0;34m\u001b[0m\u001b[0m\n",
            "\u001b[0;32m/usr/local/lib/python3.10/dist-packages/google/colab/drive.py\u001b[0m in \u001b[0;36mmount\u001b[0;34m(mountpoint, force_remount, timeout_ms, readonly)\u001b[0m\n\u001b[1;32m    101\u001b[0m \u001b[0;32mdef\u001b[0m \u001b[0mmount\u001b[0m\u001b[0;34m(\u001b[0m\u001b[0mmountpoint\u001b[0m\u001b[0;34m,\u001b[0m \u001b[0mforce_remount\u001b[0m\u001b[0;34m=\u001b[0m\u001b[0;32mFalse\u001b[0m\u001b[0;34m,\u001b[0m \u001b[0mtimeout_ms\u001b[0m\u001b[0;34m=\u001b[0m\u001b[0;36m120000\u001b[0m\u001b[0;34m,\u001b[0m \u001b[0mreadonly\u001b[0m\u001b[0;34m=\u001b[0m\u001b[0;32mFalse\u001b[0m\u001b[0;34m)\u001b[0m\u001b[0;34m:\u001b[0m\u001b[0;34m\u001b[0m\u001b[0;34m\u001b[0m\u001b[0m\n\u001b[1;32m    102\u001b[0m   \u001b[0;34m\"\"\"Mount your Google Drive at the specified mountpoint path.\"\"\"\u001b[0m\u001b[0;34m\u001b[0m\u001b[0;34m\u001b[0m\u001b[0m\n\u001b[0;32m--> 103\u001b[0;31m   return _mount(\n\u001b[0m\u001b[1;32m    104\u001b[0m       \u001b[0mmountpoint\u001b[0m\u001b[0;34m,\u001b[0m\u001b[0;34m\u001b[0m\u001b[0;34m\u001b[0m\u001b[0m\n\u001b[1;32m    105\u001b[0m       \u001b[0mforce_remount\u001b[0m\u001b[0;34m=\u001b[0m\u001b[0mforce_remount\u001b[0m\u001b[0;34m,\u001b[0m\u001b[0;34m\u001b[0m\u001b[0;34m\u001b[0m\u001b[0m\n",
            "\u001b[0;32m/usr/local/lib/python3.10/dist-packages/google/colab/drive.py\u001b[0m in \u001b[0;36m_mount\u001b[0;34m(mountpoint, force_remount, timeout_ms, ephemeral, readonly)\u001b[0m\n\u001b[1;32m    130\u001b[0m   )\n\u001b[1;32m    131\u001b[0m   \u001b[0;32mif\u001b[0m \u001b[0mephemeral\u001b[0m\u001b[0;34m:\u001b[0m\u001b[0;34m\u001b[0m\u001b[0;34m\u001b[0m\u001b[0m\n\u001b[0;32m--> 132\u001b[0;31m     _message.blocking_request(\n\u001b[0m\u001b[1;32m    133\u001b[0m         \u001b[0;34m'request_auth'\u001b[0m\u001b[0;34m,\u001b[0m \u001b[0mrequest\u001b[0m\u001b[0;34m=\u001b[0m\u001b[0;34m{\u001b[0m\u001b[0;34m'authType'\u001b[0m\u001b[0;34m:\u001b[0m \u001b[0;34m'dfs_ephemeral'\u001b[0m\u001b[0;34m}\u001b[0m\u001b[0;34m,\u001b[0m \u001b[0mtimeout_sec\u001b[0m\u001b[0;34m=\u001b[0m\u001b[0;32mNone\u001b[0m\u001b[0;34m\u001b[0m\u001b[0;34m\u001b[0m\u001b[0m\n\u001b[1;32m    134\u001b[0m     )\n",
            "\u001b[0;32m/usr/local/lib/python3.10/dist-packages/google/colab/_message.py\u001b[0m in \u001b[0;36mblocking_request\u001b[0;34m(request_type, request, timeout_sec, parent)\u001b[0m\n\u001b[1;32m    174\u001b[0m       \u001b[0mrequest_type\u001b[0m\u001b[0;34m,\u001b[0m \u001b[0mrequest\u001b[0m\u001b[0;34m,\u001b[0m \u001b[0mparent\u001b[0m\u001b[0;34m=\u001b[0m\u001b[0mparent\u001b[0m\u001b[0;34m,\u001b[0m \u001b[0mexpect_reply\u001b[0m\u001b[0;34m=\u001b[0m\u001b[0;32mTrue\u001b[0m\u001b[0;34m\u001b[0m\u001b[0;34m\u001b[0m\u001b[0m\n\u001b[1;32m    175\u001b[0m   )\n\u001b[0;32m--> 176\u001b[0;31m   \u001b[0;32mreturn\u001b[0m \u001b[0mread_reply_from_input\u001b[0m\u001b[0;34m(\u001b[0m\u001b[0mrequest_id\u001b[0m\u001b[0;34m,\u001b[0m \u001b[0mtimeout_sec\u001b[0m\u001b[0;34m)\u001b[0m\u001b[0;34m\u001b[0m\u001b[0;34m\u001b[0m\u001b[0m\n\u001b[0m",
            "\u001b[0;32m/usr/local/lib/python3.10/dist-packages/google/colab/_message.py\u001b[0m in \u001b[0;36mread_reply_from_input\u001b[0;34m(message_id, timeout_sec)\u001b[0m\n\u001b[1;32m    101\u001b[0m     ):\n\u001b[1;32m    102\u001b[0m       \u001b[0;32mif\u001b[0m \u001b[0;34m'error'\u001b[0m \u001b[0;32min\u001b[0m \u001b[0mreply\u001b[0m\u001b[0;34m:\u001b[0m\u001b[0;34m\u001b[0m\u001b[0;34m\u001b[0m\u001b[0m\n\u001b[0;32m--> 103\u001b[0;31m         \u001b[0;32mraise\u001b[0m \u001b[0mMessageError\u001b[0m\u001b[0;34m(\u001b[0m\u001b[0mreply\u001b[0m\u001b[0;34m[\u001b[0m\u001b[0;34m'error'\u001b[0m\u001b[0;34m]\u001b[0m\u001b[0;34m)\u001b[0m\u001b[0;34m\u001b[0m\u001b[0;34m\u001b[0m\u001b[0m\n\u001b[0m\u001b[1;32m    104\u001b[0m       \u001b[0;32mreturn\u001b[0m \u001b[0mreply\u001b[0m\u001b[0;34m.\u001b[0m\u001b[0mget\u001b[0m\u001b[0;34m(\u001b[0m\u001b[0;34m'data'\u001b[0m\u001b[0;34m,\u001b[0m \u001b[0;32mNone\u001b[0m\u001b[0;34m)\u001b[0m\u001b[0;34m\u001b[0m\u001b[0;34m\u001b[0m\u001b[0m\n\u001b[1;32m    105\u001b[0m \u001b[0;34m\u001b[0m\u001b[0m\n",
            "\u001b[0;31mMessageError\u001b[0m: Error: credential propagation was unsuccessful"
          ]
        }
      ],
      "source": [
        "## first you need to connect to your google drive with your google account\n",
        "from google.colab import drive\n",
        "import os\n",
        "drive.mount('/content/drive', force_remount=False)\n",
        "#drive.flush_and_unmount()\n",
        "\n",
        "# insert the path where you want to save the model\n",
        "os.chdir(\"/content/drive/My Drive/\")\n",
        "print(os.getcwd())\n"
      ]
    },
    {
      "cell_type": "code",
      "execution_count": null,
      "metadata": {
        "id": "-N6_0rWevyuD"
      },
      "outputs": [],
      "source": [
        "### save best model to google drive\n",
        "directory_save_model = f\"{training_directory}/\"\n",
        "model_name_custom = f\"{model_name.split('/')[-1]}-custom\"\n",
        "mode_custom_path = directory_save_model + model_name_custom\n",
        "\n",
        "trainer.save_model(output_dir=mode_custom_path)"
      ]
    },
    {
      "attachments": {},
      "cell_type": "markdown",
      "metadata": {
        "id": "yenZQN1wo12X"
      },
      "source": [
        "### Upload your model to the Hugging Face Hub"
      ]
    },
    {
      "cell_type": "code",
      "execution_count": null,
      "metadata": {
        "id": "-sj7P7u1xWAS"
      },
      "outputs": [],
      "source": [
        "### Push to Hugging Face hub\n",
        "# install necessary dependencies\n",
        "# you need to create an account on https://huggingface.co/ for this\n",
        "!sudo apt-get install git-lfs\n",
        "!huggingface-cli login"
      ]
    },
    {
      "cell_type": "code",
      "execution_count": null,
      "metadata": {
        "id": "d_nAvq0YQTQf"
      },
      "outputs": [],
      "source": [
        "# load your models and tokenizer saved before from disk\n",
        "model = AutoModelForSequenceClassification.from_pretrained(mode_custom_path)\n",
        "tokenizer = AutoTokenizer.from_pretrained(mode_custom_path, use_fast=True, model_max_length=512)  # we load the tokenizer from the original BERT-NLI model"
      ]
    },
    {
      "cell_type": "code",
      "execution_count": null,
      "metadata": {
        "id": "040Vwn-pxTfX"
      },
      "outputs": [],
      "source": [
        "# https://huggingface.co/docs/transformers/main_classes/model#transformers.PreTrainedModel.push_to_hub\n",
        "repo_id = '<your-user-name>/<your-model-name>'  # e.g. \"JaneJones/DeBERTa-v3-nli-custom\". note that the repo name is case-sensitive\n",
        "model.push_to_hub(repo_id=repo_id, use_temp_dir=True, private=True, use_auth_token=\"<your-huggingface-token>\")\n",
        "tokenizer.push_to_hub(repo_id=repo_id, use_temp_dir=True, private=True, use_auth_token=\"<your-huggingface-token>\")\n"
      ]
    },
    {
      "attachments": {},
      "cell_type": "markdown",
      "metadata": {
        "id": "qkTjWn2VVZ9g"
      },
      "source": [
        "## Bonus: Hyperparameter Search"
      ]
    },
    {
      "attachments": {},
      "cell_type": "markdown",
      "metadata": {
        "id": "9TUHQYU2WKkQ"
      },
      "source": [
        "To increase performance, you can also conduct a hyperparameter search (hp-search), to try and find the best hyperparameters for your specific task and dataset. The trade-off is that hp-search is very compute intensive, but finding better hyperparameters for your task can increase performance. Make sure to conduct hp-search on a sub-set of the training set (i.e. validation set) and not the final test set to avoid data leakage of the test set before final testing.\n",
        "\n",
        "Note that for small datasets, running the hp-search only on one train-validation split is not ideal. For datasets with less than around 2000 training data points, we recommend running the hp-search on two different random train-validation split. We implemented this for our paper, but not in this notebook as this would make the code harder to understand.\n",
        "\n",
        "Documentation with more information on hp-search with Hugging Face Transformers is available [here](https://huggingface.co/docs/transformers/main/hpo_train)."
      ]
    },
    {
      "cell_type": "code",
      "execution_count": null,
      "metadata": {
        "id": "_igmvJD2YSYO"
      },
      "outputs": [],
      "source": [
        "## train-validation split - test set should not be visible during hp-search\n",
        "# https://huggingface.co/docs/datasets/v2.5.1/en/package_reference/main_classes#datasets.Dataset.train_test_split\n",
        "\n",
        "# the ideal size of the validation set depends on the size of your training data. Each label should have at the very least a few dozen examples in the validation set (ideally several hundred)\n",
        "validation_set_size = 0.4  # for a training data size of 1000 with 3 classes we use 40% of the training data for validating hyperparameters\n",
        "\n",
        "# reformatting of label column to enable dataset stratification\n",
        "from datasets import ClassLabel\n",
        "new_features = dataset[\"train\"].features.copy()\n",
        "label_names = list(model.config.label2id.keys())\n",
        "\n",
        "new_features['label'] = ClassLabel(names=label_names)\n",
        "dataset = dataset.cast(new_features)\n",
        "\n",
        "# train-validation split for hp-search\n",
        "dataset_hp = dataset[\"train\"].train_test_split(test_size=validation_set_size, seed=SEED_GLOBAL, shuffle=True, stratify_by_column=\"label\")\n",
        "print(dataset_hp)"
      ]
    },
    {
      "cell_type": "code",
      "execution_count": null,
      "metadata": {
        "id": "D-WAgcsVs1Zr"
      },
      "outputs": [],
      "source": [
        "# helper function to clean memory and reduce risk of out-of-memory error\n",
        "import gc\n",
        "def clean_memory():\n",
        "  #del(model)\n",
        "  if torch.cuda.is_available():\n",
        "    torch.cuda.empty_cache()\n",
        "    torch.cuda.ipc_collect()\n",
        "  gc.collect()\n",
        "\n",
        "clean_memory()"
      ]
    },
    {
      "cell_type": "code",
      "execution_count": null,
      "metadata": {
        "id": "aX31mUPb7r6C"
      },
      "outputs": [],
      "source": [
        "## Reinitialize trainer for hp-search\n",
        "# https://discuss.huggingface.co/t/using-hyperparameter-search-in-trainer/785/10\n",
        "\n",
        "def model_init():\n",
        "    clean_memory()\n",
        "\n",
        "    # link the numeric labels to the label texts\n",
        "    label_text = np.sort(df_test.label_text.unique()).tolist()\n",
        "    label2id = dict(zip(np.sort(label_text), np.sort(pd.factorize(label_text, sort=True)[0]).tolist()))\n",
        "    id2label = dict(zip(np.sort(pd.factorize(label_text, sort=True)[0]).tolist(), np.sort(label_text)))\n",
        "    config = AutoConfig.from_pretrained(model_name, label2id=label2id, id2label=id2label, num_labels=len(label2id));\n",
        "\n",
        "    return AutoModelForSequenceClassification.from_pretrained(model_name, config=config, ignore_mismatched_sizes=True).to(device)\n",
        "\n",
        "trainer = Trainer(\n",
        "    model_init=model_init,\n",
        "    tokenizer=tokenizer,\n",
        "    args=train_args,\n",
        "    train_dataset=dataset_hp[\"train\"],\n",
        "    eval_dataset=dataset_hp[\"test\"],\n",
        "    compute_metrics=compute_metrics_standard\n",
        ");\n"
      ]
    },
    {
      "attachments": {},
      "cell_type": "markdown",
      "metadata": {
        "id": "_AL-t2KBeMqM"
      },
      "source": [
        "**Define the hyperparameters you want to optimise**\n",
        "\n",
        "For a detailed discussion of different hyperparameters, see the appendix of our paper."
      ]
    },
    {
      "cell_type": "code",
      "execution_count": null,
      "metadata": {
        "id": "LqIHNkWFahaD"
      },
      "outputs": [],
      "source": [
        "# we use Optuna for hp-search: https://optuna.readthedocs.io/en/stable/\n",
        "def my_hp_space(trial):\n",
        "    return {\n",
        "        \"learning_rate\": trial.suggest_categorical(\"learning_rate\", [9e-6, 2e-5, 4e-5]),\n",
        "        \"num_train_epochs\": trial.suggest_int(\"num_train_epochs\", 4, 24, log=False, step=4),   # increasing the maximum number of epochs here could increase performance but will take (much) longer to train\n",
        "        #\"warmup_ratio\": trial.suggest_float(\"warmup_ratio\", 0.1, 0.6, log=True),\n",
        "        \"per_device_train_batch_size\": 16,  # lower this value in case of out-of-memory errors and restart the runtime\n",
        "        #\"per_device_train_batch_size\": trial.suggest_categorical(\"per_device_train_batch_size\", [8, 16, 32]),\n",
        "        \"evaluation_strategy\": \"no\",\n",
        "        \"save_strategy\": \"no\",\n",
        "    }\n"
      ]
    },
    {
      "attachments": {},
      "cell_type": "markdown",
      "metadata": {
        "id": "3vo_UH43d9yB"
      },
      "source": [
        "**Run HP search!**\n",
        "\n",
        "Choose the number of hyperparameter configurations you want to test. In our experiments we found that after 10 to 15 trials with around 4 hyperparameters, performance is unlikely to increase meaningfully. 15 trials seems to be a safe value, but can take a while to run."
      ]
    },
    {
      "cell_type": "code",
      "execution_count": null,
      "metadata": {
        "id": "B0gvfJ9xGuM3"
      },
      "outputs": [],
      "source": [
        "import optuna\n",
        "\n",
        "# number of differen hp configurations to test\n",
        "numer_of_trials = 10  # increasing this value can lead to better hyperparameters, but will take longer\n",
        "# chose the sampler for sampling hp configurations\n",
        "optuna_sampler = optuna.samplers.TPESampler(\n",
        "    seed=SEED_GLOBAL, consider_prior=True, prior_weight=1.0, consider_magic_clip=True,\n",
        "    consider_endpoints=False, n_startup_trials=numer_of_trials/2, n_ei_candidates=24,\n",
        "    multivariate=False, group=False, warn_independent_sampling=True, constant_liar=False\n",
        ")  # https://optuna.readthedocs.io/en/stable/reference/generated/optuna.samplers.TPESampler.html#optuna.samplers.TPESampler\n",
        "\n",
        "# Hugging Face Documentation: https://huggingface.co/docs/transformers/main/en/main_classes/trainer#transformers.Trainer.hyperparameter_search\n",
        "best_run = trainer.hyperparameter_search(\n",
        "    n_trials=numer_of_trials,\n",
        "    direction=\"maximize\",\n",
        "    hp_space=my_hp_space,\n",
        "    backend='optuna',\n",
        "    **{\"sampler\": optuna_sampler}\n",
        ")"
      ]
    },
    {
      "cell_type": "code",
      "execution_count": null,
      "metadata": {
        "id": "AjG3MjZQK-8J"
      },
      "outputs": [],
      "source": [
        "# show best hyperparameters based on hp-search\n",
        "print(best_run)"
      ]
    },
    {
      "attachments": {},
      "cell_type": "markdown",
      "metadata": {
        "id": "J8SWpFU7ep0k"
      },
      "source": [
        "**Training Time with optimised hyperparameters!**\n",
        "\n",
        "Here we can use the original train and test set again."
      ]
    },
    {
      "cell_type": "code",
      "execution_count": null,
      "metadata": {
        "id": "E5cmYQpse1HN"
      },
      "outputs": [],
      "source": [
        "# update the training arguments with the best hyperparameters\n",
        "for k,v in best_run.hyperparameters.items():\n",
        "    setattr(train_args, k, v)\n",
        "print(\"\\n\", train_args)\n",
        "\n",
        "# hp-search with hf causes errors with FP16 for some reason\n",
        "#setattr(train_args, \"fp16\", False)\n",
        "#setattr(train_args, \"fp16_full_eval\", False)"
      ]
    },
    {
      "cell_type": "code",
      "execution_count": null,
      "metadata": {
        "id": "tPpkHag7crY5"
      },
      "outputs": [],
      "source": [
        "# reinitialize the model to avoid re-using a trained model from a step further above\n",
        "#model_name = \"XXX\"\n",
        "tokenizer = AutoTokenizer.from_pretrained(model_name, use_fast=True, model_max_length=512)\n",
        "\n",
        "# link the numeric labels to the label texts\n",
        "label_text = np.sort(df_test.label_text.unique()).tolist()\n",
        "label2id = dict(zip(np.sort(label_text), np.sort(pd.factorize(label_text, sort=True)[0]).tolist()))\n",
        "id2label = dict(zip(np.sort(pd.factorize(label_text, sort=True)[0]).tolist(), np.sort(label_text)))\n",
        "config = AutoConfig.from_pretrained(model_name, label2id=label2id, id2label=id2label, num_labels=len(label2id));\n",
        "\n",
        "# load model with config\n",
        "model = AutoModelForSequenceClassification.from_pretrained(model_name, config=config, ignore_mismatched_sizes=True);\n"
      ]
    },
    {
      "cell_type": "code",
      "execution_count": null,
      "metadata": {
        "id": "e3ymtsQtxVzx"
      },
      "outputs": [],
      "source": [
        "# Training\n",
        "trainer = Trainer(\n",
        "    model=model,\n",
        "    tokenizer=tokenizer,\n",
        "    args=train_args,\n",
        "    train_dataset=dataset[\"train\"],  #.shard(index=1, num_shards=100),  # https://huggingface.co/docs/datasets/processing.html#sharding-the-dataset-shard\n",
        "    eval_dataset=dataset[\"test\"],  #.shard(index=1, num_shards=100),\n",
        "    compute_metrics=lambda eval_pred: compute_metrics_nli_binary(eval_pred, label_text_alphabetical=label_text_alphabetical)\n",
        ")\n",
        "\n",
        "trainer.train()\n"
      ]
    },
    {
      "cell_type": "code",
      "execution_count": null,
      "metadata": {
        "id": "dhCLUKZG__v1"
      },
      "outputs": [],
      "source": [
        "## Evaluate the fine-tuned model on the held-out test set\n",
        "results = trainer.evaluate()\n"
      ]
    },
    {
      "cell_type": "code",
      "execution_count": null,
      "metadata": {
        "id": "kWzFrtCY-HKv"
      },
      "outputs": [],
      "source": [
        "print(results)"
      ]
    },
    {
      "attachments": {},
      "cell_type": "markdown",
      "metadata": {
        "id": "_8WF9C-cxdSl"
      },
      "source": [
        "Note that hyperparameter searches do not necessarily lead to better results, as they need to be searched on a smaller validation set of the train set, which might impact generalisation. Especially for smaller training sets, hyperparameter searches might lead to similar values as good default values."
      ]
    },
    {
      "cell_type": "code",
      "execution_count": null,
      "metadata": {
        "id": "wJr982xxnOZ4"
      },
      "outputs": [],
      "source": []
    }
  ],
  "metadata": {
    "accelerator": "GPU",
    "colab": {
      "collapsed_sections": [
        "yenZQN1wo12X"
      ],
      "gpuType": "T4",
      "provenance": []
    },
    "gpuClass": "standard",
    "kernelspec": {
      "display_name": "Python 3",
      "name": "python3"
    },
    "language_info": {
      "name": "python"
    },
    "widgets": {
      "application/vnd.jupyter.widget-state+json": {
        "07079b11313f4686992ebb1dd57326b8": {
          "model_module": "@jupyter-widgets/controls",
          "model_module_version": "1.5.0",
          "model_name": "HTMLModel",
          "state": {
            "_dom_classes": [],
            "_model_module": "@jupyter-widgets/controls",
            "_model_module_version": "1.5.0",
            "_model_name": "HTMLModel",
            "_view_count": null,
            "_view_module": "@jupyter-widgets/controls",
            "_view_module_version": "1.5.0",
            "_view_name": "HTMLView",
            "description": "",
            "description_tooltip": null,
            "layout": "IPY_MODEL_500e418e65c14e208b7af5c738c52863",
            "placeholder": "​",
            "style": "IPY_MODEL_c6db032e4d93463890dfaeeaa0cc9b2f",
            "value": "Downloading (…)lve/main/config.json: 100%"
          }
        },
        "09f2db1a1bd04ad6b142e642df609392": {
          "model_module": "@jupyter-widgets/base",
          "model_module_version": "1.2.0",
          "model_name": "LayoutModel",
          "state": {
            "_model_module": "@jupyter-widgets/base",
            "_model_module_version": "1.2.0",
            "_model_name": "LayoutModel",
            "_view_count": null,
            "_view_module": "@jupyter-widgets/base",
            "_view_module_version": "1.2.0",
            "_view_name": "LayoutView",
            "align_content": null,
            "align_items": null,
            "align_self": null,
            "border": null,
            "bottom": null,
            "display": null,
            "flex": null,
            "flex_flow": null,
            "grid_area": null,
            "grid_auto_columns": null,
            "grid_auto_flow": null,
            "grid_auto_rows": null,
            "grid_column": null,
            "grid_gap": null,
            "grid_row": null,
            "grid_template_areas": null,
            "grid_template_columns": null,
            "grid_template_rows": null,
            "height": null,
            "justify_content": null,
            "justify_items": null,
            "left": null,
            "margin": null,
            "max_height": null,
            "max_width": null,
            "min_height": null,
            "min_width": null,
            "object_fit": null,
            "object_position": null,
            "order": null,
            "overflow": null,
            "overflow_x": null,
            "overflow_y": null,
            "padding": null,
            "right": null,
            "top": null,
            "visibility": null,
            "width": null
          }
        },
        "15b68c8667774e3dbbbccb77fd3c9a6f": {
          "model_module": "@jupyter-widgets/controls",
          "model_module_version": "1.5.0",
          "model_name": "ProgressStyleModel",
          "state": {
            "_model_module": "@jupyter-widgets/controls",
            "_model_module_version": "1.5.0",
            "_model_name": "ProgressStyleModel",
            "_view_count": null,
            "_view_module": "@jupyter-widgets/base",
            "_view_module_version": "1.2.0",
            "_view_name": "StyleView",
            "bar_color": null,
            "description_width": ""
          }
        },
        "1874b57524ce4a8380dbe7754f42537c": {
          "model_module": "@jupyter-widgets/controls",
          "model_module_version": "1.5.0",
          "model_name": "HTMLModel",
          "state": {
            "_dom_classes": [],
            "_model_module": "@jupyter-widgets/controls",
            "_model_module_version": "1.5.0",
            "_model_name": "HTMLModel",
            "_view_count": null,
            "_view_module": "@jupyter-widgets/controls",
            "_view_module_version": "1.5.0",
            "_view_name": "HTMLView",
            "description": "",
            "description_tooltip": null,
            "layout": "IPY_MODEL_bfd19f169eff46b09d400d4e7dd6132a",
            "placeholder": "​",
            "style": "IPY_MODEL_bd97250d3909463d93bb4cd2b1f99c2b",
            "value": " 268M/268M [00:05&lt;00:00, 22.4MB/s]"
          }
        },
        "20142ffee25346918c8cb123e9a18d27": {
          "model_module": "@jupyter-widgets/base",
          "model_module_version": "1.2.0",
          "model_name": "LayoutModel",
          "state": {
            "_model_module": "@jupyter-widgets/base",
            "_model_module_version": "1.2.0",
            "_model_name": "LayoutModel",
            "_view_count": null,
            "_view_module": "@jupyter-widgets/base",
            "_view_module_version": "1.2.0",
            "_view_name": "LayoutView",
            "align_content": null,
            "align_items": null,
            "align_self": null,
            "border": null,
            "bottom": null,
            "display": null,
            "flex": null,
            "flex_flow": null,
            "grid_area": null,
            "grid_auto_columns": null,
            "grid_auto_flow": null,
            "grid_auto_rows": null,
            "grid_column": null,
            "grid_gap": null,
            "grid_row": null,
            "grid_template_areas": null,
            "grid_template_columns": null,
            "grid_template_rows": null,
            "height": null,
            "justify_content": null,
            "justify_items": null,
            "left": null,
            "margin": null,
            "max_height": null,
            "max_width": null,
            "min_height": null,
            "min_width": null,
            "object_fit": null,
            "object_position": null,
            "order": null,
            "overflow": null,
            "overflow_x": null,
            "overflow_y": null,
            "padding": null,
            "right": null,
            "top": null,
            "visibility": null,
            "width": null
          }
        },
        "22c9a20e382a4bc4810b68d2a9fc2116": {
          "model_module": "@jupyter-widgets/controls",
          "model_module_version": "1.5.0",
          "model_name": "DescriptionStyleModel",
          "state": {
            "_model_module": "@jupyter-widgets/controls",
            "_model_module_version": "1.5.0",
            "_model_name": "DescriptionStyleModel",
            "_view_count": null,
            "_view_module": "@jupyter-widgets/base",
            "_view_module_version": "1.2.0",
            "_view_name": "StyleView",
            "description_width": ""
          }
        },
        "238cdfef37924bf19254fd59010f9645": {
          "model_module": "@jupyter-widgets/base",
          "model_module_version": "1.2.0",
          "model_name": "LayoutModel",
          "state": {
            "_model_module": "@jupyter-widgets/base",
            "_model_module_version": "1.2.0",
            "_model_name": "LayoutModel",
            "_view_count": null,
            "_view_module": "@jupyter-widgets/base",
            "_view_module_version": "1.2.0",
            "_view_name": "LayoutView",
            "align_content": null,
            "align_items": null,
            "align_self": null,
            "border": null,
            "bottom": null,
            "display": null,
            "flex": null,
            "flex_flow": null,
            "grid_area": null,
            "grid_auto_columns": null,
            "grid_auto_flow": null,
            "grid_auto_rows": null,
            "grid_column": null,
            "grid_gap": null,
            "grid_row": null,
            "grid_template_areas": null,
            "grid_template_columns": null,
            "grid_template_rows": null,
            "height": null,
            "justify_content": null,
            "justify_items": null,
            "left": null,
            "margin": null,
            "max_height": null,
            "max_width": null,
            "min_height": null,
            "min_width": null,
            "object_fit": null,
            "object_position": null,
            "order": null,
            "overflow": null,
            "overflow_x": null,
            "overflow_y": null,
            "padding": null,
            "right": null,
            "top": null,
            "visibility": null,
            "width": null
          }
        },
        "294ebebda97d41d79edfe48c227c8199": {
          "model_module": "@jupyter-widgets/controls",
          "model_module_version": "1.5.0",
          "model_name": "ProgressStyleModel",
          "state": {
            "_model_module": "@jupyter-widgets/controls",
            "_model_module_version": "1.5.0",
            "_model_name": "ProgressStyleModel",
            "_view_count": null,
            "_view_module": "@jupyter-widgets/base",
            "_view_module_version": "1.2.0",
            "_view_name": "StyleView",
            "bar_color": null,
            "description_width": ""
          }
        },
        "31aa575064384b848c17e7590850c658": {
          "model_module": "@jupyter-widgets/controls",
          "model_module_version": "1.5.0",
          "model_name": "HBoxModel",
          "state": {
            "_dom_classes": [],
            "_model_module": "@jupyter-widgets/controls",
            "_model_module_version": "1.5.0",
            "_model_name": "HBoxModel",
            "_view_count": null,
            "_view_module": "@jupyter-widgets/controls",
            "_view_module_version": "1.5.0",
            "_view_name": "HBoxView",
            "box_style": "",
            "children": [
              "IPY_MODEL_c4d1df10d2cb4168a53e75371cec6260",
              "IPY_MODEL_5660fd0546bd4dfea5ca0079cbe99837",
              "IPY_MODEL_8b02a228b18c42c8961d566b5da65c15"
            ],
            "layout": "IPY_MODEL_edfed13b0d9a4d16a5d4a35ddf061f99"
          }
        },
        "32b53d8b2ce5494d90354180bef1acd8": {
          "model_module": "@jupyter-widgets/controls",
          "model_module_version": "1.5.0",
          "model_name": "ProgressStyleModel",
          "state": {
            "_model_module": "@jupyter-widgets/controls",
            "_model_module_version": "1.5.0",
            "_model_name": "ProgressStyleModel",
            "_view_count": null,
            "_view_module": "@jupyter-widgets/base",
            "_view_module_version": "1.2.0",
            "_view_name": "StyleView",
            "bar_color": null,
            "description_width": ""
          }
        },
        "368974fb7133416ca89b060ea0972c68": {
          "model_module": "@jupyter-widgets/base",
          "model_module_version": "1.2.0",
          "model_name": "LayoutModel",
          "state": {
            "_model_module": "@jupyter-widgets/base",
            "_model_module_version": "1.2.0",
            "_model_name": "LayoutModel",
            "_view_count": null,
            "_view_module": "@jupyter-widgets/base",
            "_view_module_version": "1.2.0",
            "_view_name": "LayoutView",
            "align_content": null,
            "align_items": null,
            "align_self": null,
            "border": null,
            "bottom": null,
            "display": null,
            "flex": null,
            "flex_flow": null,
            "grid_area": null,
            "grid_auto_columns": null,
            "grid_auto_flow": null,
            "grid_auto_rows": null,
            "grid_column": null,
            "grid_gap": null,
            "grid_row": null,
            "grid_template_areas": null,
            "grid_template_columns": null,
            "grid_template_rows": null,
            "height": null,
            "justify_content": null,
            "justify_items": null,
            "left": null,
            "margin": null,
            "max_height": null,
            "max_width": null,
            "min_height": null,
            "min_width": null,
            "object_fit": null,
            "object_position": null,
            "order": null,
            "overflow": null,
            "overflow_x": null,
            "overflow_y": null,
            "padding": null,
            "right": null,
            "top": null,
            "visibility": null,
            "width": null
          }
        },
        "36928087231648349e4795c39897a1c3": {
          "model_module": "@jupyter-widgets/controls",
          "model_module_version": "1.5.0",
          "model_name": "FloatProgressModel",
          "state": {
            "_dom_classes": [],
            "_model_module": "@jupyter-widgets/controls",
            "_model_module_version": "1.5.0",
            "_model_name": "FloatProgressModel",
            "_view_count": null,
            "_view_module": "@jupyter-widgets/controls",
            "_view_module_version": "1.5.0",
            "_view_name": "ProgressView",
            "bar_style": "",
            "description": "",
            "description_tooltip": null,
            "layout": "IPY_MODEL_9c05b224497d4a50aaad684adad16e87",
            "max": 800,
            "min": 0,
            "orientation": "horizontal",
            "style": "IPY_MODEL_fb4d117f50314c66a07943e6aafc2609",
            "value": 800
          }
        },
        "3c697e3353b14d6baf63a27b82b75ab6": {
          "model_module": "@jupyter-widgets/base",
          "model_module_version": "1.2.0",
          "model_name": "LayoutModel",
          "state": {
            "_model_module": "@jupyter-widgets/base",
            "_model_module_version": "1.2.0",
            "_model_name": "LayoutModel",
            "_view_count": null,
            "_view_module": "@jupyter-widgets/base",
            "_view_module_version": "1.2.0",
            "_view_name": "LayoutView",
            "align_content": null,
            "align_items": null,
            "align_self": null,
            "border": null,
            "bottom": null,
            "display": null,
            "flex": null,
            "flex_flow": null,
            "grid_area": null,
            "grid_auto_columns": null,
            "grid_auto_flow": null,
            "grid_auto_rows": null,
            "grid_column": null,
            "grid_gap": null,
            "grid_row": null,
            "grid_template_areas": null,
            "grid_template_columns": null,
            "grid_template_rows": null,
            "height": null,
            "justify_content": null,
            "justify_items": null,
            "left": null,
            "margin": null,
            "max_height": null,
            "max_width": null,
            "min_height": null,
            "min_width": null,
            "object_fit": null,
            "object_position": null,
            "order": null,
            "overflow": null,
            "overflow_x": null,
            "overflow_y": null,
            "padding": null,
            "right": null,
            "top": null,
            "visibility": null,
            "width": null
          }
        },
        "3e9c06b40ee440d9b258b8a955e66157": {
          "model_module": "@jupyter-widgets/controls",
          "model_module_version": "1.5.0",
          "model_name": "HTMLModel",
          "state": {
            "_dom_classes": [],
            "_model_module": "@jupyter-widgets/controls",
            "_model_module_version": "1.5.0",
            "_model_name": "HTMLModel",
            "_view_count": null,
            "_view_module": "@jupyter-widgets/controls",
            "_view_module_version": "1.5.0",
            "_view_name": "HTMLView",
            "description": "",
            "description_tooltip": null,
            "layout": "IPY_MODEL_20142ffee25346918c8cb123e9a18d27",
            "placeholder": "​",
            "style": "IPY_MODEL_22c9a20e382a4bc4810b68d2a9fc2116",
            "value": " 28.0/28.0 [00:00&lt;00:00, 380B/s]"
          }
        },
        "4f160ceb0e8d42a0bc8f945f6615d175": {
          "model_module": "@jupyter-widgets/base",
          "model_module_version": "1.2.0",
          "model_name": "LayoutModel",
          "state": {
            "_model_module": "@jupyter-widgets/base",
            "_model_module_version": "1.2.0",
            "_model_name": "LayoutModel",
            "_view_count": null,
            "_view_module": "@jupyter-widgets/base",
            "_view_module_version": "1.2.0",
            "_view_name": "LayoutView",
            "align_content": null,
            "align_items": null,
            "align_self": null,
            "border": null,
            "bottom": null,
            "display": null,
            "flex": null,
            "flex_flow": null,
            "grid_area": null,
            "grid_auto_columns": null,
            "grid_auto_flow": null,
            "grid_auto_rows": null,
            "grid_column": null,
            "grid_gap": null,
            "grid_row": null,
            "grid_template_areas": null,
            "grid_template_columns": null,
            "grid_template_rows": null,
            "height": null,
            "justify_content": null,
            "justify_items": null,
            "left": null,
            "margin": null,
            "max_height": null,
            "max_width": null,
            "min_height": null,
            "min_width": null,
            "object_fit": null,
            "object_position": null,
            "order": null,
            "overflow": null,
            "overflow_x": null,
            "overflow_y": null,
            "padding": null,
            "right": null,
            "top": null,
            "visibility": "hidden",
            "width": null
          }
        },
        "500e418e65c14e208b7af5c738c52863": {
          "model_module": "@jupyter-widgets/base",
          "model_module_version": "1.2.0",
          "model_name": "LayoutModel",
          "state": {
            "_model_module": "@jupyter-widgets/base",
            "_model_module_version": "1.2.0",
            "_model_name": "LayoutModel",
            "_view_count": null,
            "_view_module": "@jupyter-widgets/base",
            "_view_module_version": "1.2.0",
            "_view_name": "LayoutView",
            "align_content": null,
            "align_items": null,
            "align_self": null,
            "border": null,
            "bottom": null,
            "display": null,
            "flex": null,
            "flex_flow": null,
            "grid_area": null,
            "grid_auto_columns": null,
            "grid_auto_flow": null,
            "grid_auto_rows": null,
            "grid_column": null,
            "grid_gap": null,
            "grid_row": null,
            "grid_template_areas": null,
            "grid_template_columns": null,
            "grid_template_rows": null,
            "height": null,
            "justify_content": null,
            "justify_items": null,
            "left": null,
            "margin": null,
            "max_height": null,
            "max_width": null,
            "min_height": null,
            "min_width": null,
            "object_fit": null,
            "object_position": null,
            "order": null,
            "overflow": null,
            "overflow_x": null,
            "overflow_y": null,
            "padding": null,
            "right": null,
            "top": null,
            "visibility": null,
            "width": null
          }
        },
        "5660fd0546bd4dfea5ca0079cbe99837": {
          "model_module": "@jupyter-widgets/controls",
          "model_module_version": "1.5.0",
          "model_name": "FloatProgressModel",
          "state": {
            "_dom_classes": [],
            "_model_module": "@jupyter-widgets/controls",
            "_model_module_version": "1.5.0",
            "_model_name": "FloatProgressModel",
            "_view_count": null,
            "_view_module": "@jupyter-widgets/controls",
            "_view_module_version": "1.5.0",
            "_view_name": "ProgressView",
            "bar_style": "success",
            "description": "",
            "description_tooltip": null,
            "layout": "IPY_MODEL_7440edbb011949b5b630aec9cb495cfc",
            "max": 231508,
            "min": 0,
            "orientation": "horizontal",
            "style": "IPY_MODEL_625b6e0f0a234dec9ab1cb646c5a03f2",
            "value": 231508
          }
        },
        "5bef894cb0dd45ac99b3fda70178e107": {
          "model_module": "@jupyter-widgets/base",
          "model_module_version": "1.2.0",
          "model_name": "LayoutModel",
          "state": {
            "_model_module": "@jupyter-widgets/base",
            "_model_module_version": "1.2.0",
            "_model_name": "LayoutModel",
            "_view_count": null,
            "_view_module": "@jupyter-widgets/base",
            "_view_module_version": "1.2.0",
            "_view_name": "LayoutView",
            "align_content": null,
            "align_items": null,
            "align_self": null,
            "border": null,
            "bottom": null,
            "display": null,
            "flex": null,
            "flex_flow": null,
            "grid_area": null,
            "grid_auto_columns": null,
            "grid_auto_flow": null,
            "grid_auto_rows": null,
            "grid_column": null,
            "grid_gap": null,
            "grid_row": null,
            "grid_template_areas": null,
            "grid_template_columns": null,
            "grid_template_rows": null,
            "height": null,
            "justify_content": null,
            "justify_items": null,
            "left": null,
            "margin": null,
            "max_height": null,
            "max_width": null,
            "min_height": null,
            "min_width": null,
            "object_fit": null,
            "object_position": null,
            "order": null,
            "overflow": null,
            "overflow_x": null,
            "overflow_y": null,
            "padding": null,
            "right": null,
            "top": null,
            "visibility": "hidden",
            "width": null
          }
        },
        "5c10e8613816441ea34208b051d79e8d": {
          "model_module": "@jupyter-widgets/base",
          "model_module_version": "1.2.0",
          "model_name": "LayoutModel",
          "state": {
            "_model_module": "@jupyter-widgets/base",
            "_model_module_version": "1.2.0",
            "_model_name": "LayoutModel",
            "_view_count": null,
            "_view_module": "@jupyter-widgets/base",
            "_view_module_version": "1.2.0",
            "_view_name": "LayoutView",
            "align_content": null,
            "align_items": null,
            "align_self": null,
            "border": null,
            "bottom": null,
            "display": null,
            "flex": null,
            "flex_flow": null,
            "grid_area": null,
            "grid_auto_columns": null,
            "grid_auto_flow": null,
            "grid_auto_rows": null,
            "grid_column": null,
            "grid_gap": null,
            "grid_row": null,
            "grid_template_areas": null,
            "grid_template_columns": null,
            "grid_template_rows": null,
            "height": null,
            "justify_content": null,
            "justify_items": null,
            "left": null,
            "margin": null,
            "max_height": null,
            "max_width": null,
            "min_height": null,
            "min_width": null,
            "object_fit": null,
            "object_position": null,
            "order": null,
            "overflow": null,
            "overflow_x": null,
            "overflow_y": null,
            "padding": null,
            "right": null,
            "top": null,
            "visibility": null,
            "width": null
          }
        },
        "5d584ecd561949d0a06c285e6521a5f1": {
          "model_module": "@jupyter-widgets/base",
          "model_module_version": "1.2.0",
          "model_name": "LayoutModel",
          "state": {
            "_model_module": "@jupyter-widgets/base",
            "_model_module_version": "1.2.0",
            "_model_name": "LayoutModel",
            "_view_count": null,
            "_view_module": "@jupyter-widgets/base",
            "_view_module_version": "1.2.0",
            "_view_name": "LayoutView",
            "align_content": null,
            "align_items": null,
            "align_self": null,
            "border": null,
            "bottom": null,
            "display": null,
            "flex": null,
            "flex_flow": null,
            "grid_area": null,
            "grid_auto_columns": null,
            "grid_auto_flow": null,
            "grid_auto_rows": null,
            "grid_column": null,
            "grid_gap": null,
            "grid_row": null,
            "grid_template_areas": null,
            "grid_template_columns": null,
            "grid_template_rows": null,
            "height": null,
            "justify_content": null,
            "justify_items": null,
            "left": null,
            "margin": null,
            "max_height": null,
            "max_width": null,
            "min_height": null,
            "min_width": null,
            "object_fit": null,
            "object_position": null,
            "order": null,
            "overflow": null,
            "overflow_x": null,
            "overflow_y": null,
            "padding": null,
            "right": null,
            "top": null,
            "visibility": null,
            "width": null
          }
        },
        "60cd44563af74da9b0dbac1323f79d59": {
          "model_module": "@jupyter-widgets/controls",
          "model_module_version": "1.5.0",
          "model_name": "HTMLModel",
          "state": {
            "_dom_classes": [],
            "_model_module": "@jupyter-widgets/controls",
            "_model_module_version": "1.5.0",
            "_model_name": "HTMLModel",
            "_view_count": null,
            "_view_module": "@jupyter-widgets/controls",
            "_view_module_version": "1.5.0",
            "_view_name": "HTMLView",
            "description": "",
            "description_tooltip": null,
            "layout": "IPY_MODEL_5d584ecd561949d0a06c285e6521a5f1",
            "placeholder": "​",
            "style": "IPY_MODEL_8156015cf57d45839034a9a615118ee1",
            "value": " 483/483 [00:00&lt;00:00, 6.31kB/s]"
          }
        },
        "61222542d0174ad1a9705d36fac9f062": {
          "model_module": "@jupyter-widgets/controls",
          "model_module_version": "1.5.0",
          "model_name": "HTMLModel",
          "state": {
            "_dom_classes": [],
            "_model_module": "@jupyter-widgets/controls",
            "_model_module_version": "1.5.0",
            "_model_name": "HTMLModel",
            "_view_count": null,
            "_view_module": "@jupyter-widgets/controls",
            "_view_module_version": "1.5.0",
            "_view_name": "HTMLView",
            "description": "",
            "description_tooltip": null,
            "layout": "IPY_MODEL_d972c9fd228845ff98e3057964ffd163",
            "placeholder": "​",
            "style": "IPY_MODEL_b43aa7963cb847f1bd0180f4af179d41",
            "value": " 466k/466k [00:00&lt;00:00, 1.93MB/s]"
          }
        },
        "625b6e0f0a234dec9ab1cb646c5a03f2": {
          "model_module": "@jupyter-widgets/controls",
          "model_module_version": "1.5.0",
          "model_name": "ProgressStyleModel",
          "state": {
            "_model_module": "@jupyter-widgets/controls",
            "_model_module_version": "1.5.0",
            "_model_name": "ProgressStyleModel",
            "_view_count": null,
            "_view_module": "@jupyter-widgets/base",
            "_view_module_version": "1.2.0",
            "_view_name": "StyleView",
            "bar_color": null,
            "description_width": ""
          }
        },
        "66eff5f921c94edeb238217b2c3df540": {
          "model_module": "@jupyter-widgets/base",
          "model_module_version": "1.2.0",
          "model_name": "LayoutModel",
          "state": {
            "_model_module": "@jupyter-widgets/base",
            "_model_module_version": "1.2.0",
            "_model_name": "LayoutModel",
            "_view_count": null,
            "_view_module": "@jupyter-widgets/base",
            "_view_module_version": "1.2.0",
            "_view_name": "LayoutView",
            "align_content": null,
            "align_items": null,
            "align_self": null,
            "border": null,
            "bottom": null,
            "display": null,
            "flex": null,
            "flex_flow": null,
            "grid_area": null,
            "grid_auto_columns": null,
            "grid_auto_flow": null,
            "grid_auto_rows": null,
            "grid_column": null,
            "grid_gap": null,
            "grid_row": null,
            "grid_template_areas": null,
            "grid_template_columns": null,
            "grid_template_rows": null,
            "height": null,
            "justify_content": null,
            "justify_items": null,
            "left": null,
            "margin": null,
            "max_height": null,
            "max_width": null,
            "min_height": null,
            "min_width": null,
            "object_fit": null,
            "object_position": null,
            "order": null,
            "overflow": null,
            "overflow_x": null,
            "overflow_y": null,
            "padding": null,
            "right": null,
            "top": null,
            "visibility": null,
            "width": null
          }
        },
        "69decd0865694f53b745639b9128b191": {
          "model_module": "@jupyter-widgets/controls",
          "model_module_version": "1.5.0",
          "model_name": "HBoxModel",
          "state": {
            "_dom_classes": [],
            "_model_module": "@jupyter-widgets/controls",
            "_model_module_version": "1.5.0",
            "_model_name": "HBoxModel",
            "_view_count": null,
            "_view_module": "@jupyter-widgets/controls",
            "_view_module_version": "1.5.0",
            "_view_name": "HBoxView",
            "box_style": "",
            "children": [
              "IPY_MODEL_cb33e30c873d46a3b3fb6a021b620fbd",
              "IPY_MODEL_36928087231648349e4795c39897a1c3",
              "IPY_MODEL_bbd0ccd9ed3e43d08387d76103e3a736"
            ],
            "layout": "IPY_MODEL_4f160ceb0e8d42a0bc8f945f6615d175"
          }
        },
        "6a05f6a9198d47c8bdfaf567cbfca6b8": {
          "model_module": "@jupyter-widgets/controls",
          "model_module_version": "1.5.0",
          "model_name": "DescriptionStyleModel",
          "state": {
            "_model_module": "@jupyter-widgets/controls",
            "_model_module_version": "1.5.0",
            "_model_name": "DescriptionStyleModel",
            "_view_count": null,
            "_view_module": "@jupyter-widgets/base",
            "_view_module_version": "1.2.0",
            "_view_name": "StyleView",
            "description_width": ""
          }
        },
        "6d7cd3e7c19a41a3ab31e54fa22df0fe": {
          "model_module": "@jupyter-widgets/controls",
          "model_module_version": "1.5.0",
          "model_name": "HTMLModel",
          "state": {
            "_dom_classes": [],
            "_model_module": "@jupyter-widgets/controls",
            "_model_module_version": "1.5.0",
            "_model_name": "HTMLModel",
            "_view_count": null,
            "_view_module": "@jupyter-widgets/controls",
            "_view_module_version": "1.5.0",
            "_view_name": "HTMLView",
            "description": "",
            "description_tooltip": null,
            "layout": "IPY_MODEL_9dd6f29c00444a2c979170f5718dff6d",
            "placeholder": "​",
            "style": "IPY_MODEL_893d9108b2d04539aa46bcba815555a8",
            "value": "Downloading pytorch_model.bin: 100%"
          }
        },
        "6d89da4aea504eeca9770bf34383c789": {
          "model_module": "@jupyter-widgets/controls",
          "model_module_version": "1.5.0",
          "model_name": "ProgressStyleModel",
          "state": {
            "_model_module": "@jupyter-widgets/controls",
            "_model_module_version": "1.5.0",
            "_model_name": "ProgressStyleModel",
            "_view_count": null,
            "_view_module": "@jupyter-widgets/base",
            "_view_module_version": "1.2.0",
            "_view_name": "StyleView",
            "bar_color": null,
            "description_width": ""
          }
        },
        "6f8415892ce148058b62a0b37baef447": {
          "model_module": "@jupyter-widgets/base",
          "model_module_version": "1.2.0",
          "model_name": "LayoutModel",
          "state": {
            "_model_module": "@jupyter-widgets/base",
            "_model_module_version": "1.2.0",
            "_model_name": "LayoutModel",
            "_view_count": null,
            "_view_module": "@jupyter-widgets/base",
            "_view_module_version": "1.2.0",
            "_view_name": "LayoutView",
            "align_content": null,
            "align_items": null,
            "align_self": null,
            "border": null,
            "bottom": null,
            "display": null,
            "flex": null,
            "flex_flow": null,
            "grid_area": null,
            "grid_auto_columns": null,
            "grid_auto_flow": null,
            "grid_auto_rows": null,
            "grid_column": null,
            "grid_gap": null,
            "grid_row": null,
            "grid_template_areas": null,
            "grid_template_columns": null,
            "grid_template_rows": null,
            "height": null,
            "justify_content": null,
            "justify_items": null,
            "left": null,
            "margin": null,
            "max_height": null,
            "max_width": null,
            "min_height": null,
            "min_width": null,
            "object_fit": null,
            "object_position": null,
            "order": null,
            "overflow": null,
            "overflow_x": null,
            "overflow_y": null,
            "padding": null,
            "right": null,
            "top": null,
            "visibility": null,
            "width": null
          }
        },
        "7440edbb011949b5b630aec9cb495cfc": {
          "model_module": "@jupyter-widgets/base",
          "model_module_version": "1.2.0",
          "model_name": "LayoutModel",
          "state": {
            "_model_module": "@jupyter-widgets/base",
            "_model_module_version": "1.2.0",
            "_model_name": "LayoutModel",
            "_view_count": null,
            "_view_module": "@jupyter-widgets/base",
            "_view_module_version": "1.2.0",
            "_view_name": "LayoutView",
            "align_content": null,
            "align_items": null,
            "align_self": null,
            "border": null,
            "bottom": null,
            "display": null,
            "flex": null,
            "flex_flow": null,
            "grid_area": null,
            "grid_auto_columns": null,
            "grid_auto_flow": null,
            "grid_auto_rows": null,
            "grid_column": null,
            "grid_gap": null,
            "grid_row": null,
            "grid_template_areas": null,
            "grid_template_columns": null,
            "grid_template_rows": null,
            "height": null,
            "justify_content": null,
            "justify_items": null,
            "left": null,
            "margin": null,
            "max_height": null,
            "max_width": null,
            "min_height": null,
            "min_width": null,
            "object_fit": null,
            "object_position": null,
            "order": null,
            "overflow": null,
            "overflow_x": null,
            "overflow_y": null,
            "padding": null,
            "right": null,
            "top": null,
            "visibility": null,
            "width": null
          }
        },
        "766df022f3ba4549998d958ee903a8e6": {
          "model_module": "@jupyter-widgets/controls",
          "model_module_version": "1.5.0",
          "model_name": "FloatProgressModel",
          "state": {
            "_dom_classes": [],
            "_model_module": "@jupyter-widgets/controls",
            "_model_module_version": "1.5.0",
            "_model_name": "FloatProgressModel",
            "_view_count": null,
            "_view_module": "@jupyter-widgets/controls",
            "_view_module_version": "1.5.0",
            "_view_name": "ProgressView",
            "bar_style": "",
            "description": "",
            "description_tooltip": null,
            "layout": "IPY_MODEL_3c697e3353b14d6baf63a27b82b75ab6",
            "max": 1000,
            "min": 0,
            "orientation": "horizontal",
            "style": "IPY_MODEL_bf149176ab2f466e8cf999c5fe20f254",
            "value": 1000
          }
        },
        "7c203dc8a320408fad519e53a67993f7": {
          "model_module": "@jupyter-widgets/base",
          "model_module_version": "1.2.0",
          "model_name": "LayoutModel",
          "state": {
            "_model_module": "@jupyter-widgets/base",
            "_model_module_version": "1.2.0",
            "_model_name": "LayoutModel",
            "_view_count": null,
            "_view_module": "@jupyter-widgets/base",
            "_view_module_version": "1.2.0",
            "_view_name": "LayoutView",
            "align_content": null,
            "align_items": null,
            "align_self": null,
            "border": null,
            "bottom": null,
            "display": null,
            "flex": null,
            "flex_flow": null,
            "grid_area": null,
            "grid_auto_columns": null,
            "grid_auto_flow": null,
            "grid_auto_rows": null,
            "grid_column": null,
            "grid_gap": null,
            "grid_row": null,
            "grid_template_areas": null,
            "grid_template_columns": null,
            "grid_template_rows": null,
            "height": null,
            "justify_content": null,
            "justify_items": null,
            "left": null,
            "margin": null,
            "max_height": null,
            "max_width": null,
            "min_height": null,
            "min_width": null,
            "object_fit": null,
            "object_position": null,
            "order": null,
            "overflow": null,
            "overflow_x": null,
            "overflow_y": null,
            "padding": null,
            "right": null,
            "top": null,
            "visibility": null,
            "width": null
          }
        },
        "8156015cf57d45839034a9a615118ee1": {
          "model_module": "@jupyter-widgets/controls",
          "model_module_version": "1.5.0",
          "model_name": "DescriptionStyleModel",
          "state": {
            "_model_module": "@jupyter-widgets/controls",
            "_model_module_version": "1.5.0",
            "_model_name": "DescriptionStyleModel",
            "_view_count": null,
            "_view_module": "@jupyter-widgets/base",
            "_view_module_version": "1.2.0",
            "_view_name": "StyleView",
            "description_width": ""
          }
        },
        "856eae1dc8f449ba9c8f0c801e3309be": {
          "model_module": "@jupyter-widgets/controls",
          "model_module_version": "1.5.0",
          "model_name": "DescriptionStyleModel",
          "state": {
            "_model_module": "@jupyter-widgets/controls",
            "_model_module_version": "1.5.0",
            "_model_name": "DescriptionStyleModel",
            "_view_count": null,
            "_view_module": "@jupyter-widgets/base",
            "_view_module_version": "1.2.0",
            "_view_name": "StyleView",
            "description_width": ""
          }
        },
        "893d9108b2d04539aa46bcba815555a8": {
          "model_module": "@jupyter-widgets/controls",
          "model_module_version": "1.5.0",
          "model_name": "DescriptionStyleModel",
          "state": {
            "_model_module": "@jupyter-widgets/controls",
            "_model_module_version": "1.5.0",
            "_model_name": "DescriptionStyleModel",
            "_view_count": null,
            "_view_module": "@jupyter-widgets/base",
            "_view_module_version": "1.2.0",
            "_view_name": "StyleView",
            "description_width": ""
          }
        },
        "8b02a228b18c42c8961d566b5da65c15": {
          "model_module": "@jupyter-widgets/controls",
          "model_module_version": "1.5.0",
          "model_name": "HTMLModel",
          "state": {
            "_dom_classes": [],
            "_model_module": "@jupyter-widgets/controls",
            "_model_module_version": "1.5.0",
            "_model_name": "HTMLModel",
            "_view_count": null,
            "_view_module": "@jupyter-widgets/controls",
            "_view_module_version": "1.5.0",
            "_view_name": "HTMLView",
            "description": "",
            "description_tooltip": null,
            "layout": "IPY_MODEL_a143abd996f84a5f8ee9147b9583e8ef",
            "placeholder": "​",
            "style": "IPY_MODEL_aa64a34bc206407f9c7be96de763d44b",
            "value": " 232k/232k [00:00&lt;00:00, 1.41MB/s]"
          }
        },
        "8de71cc8e7464b08ada4bbdb9623f582": {
          "model_module": "@jupyter-widgets/base",
          "model_module_version": "1.2.0",
          "model_name": "LayoutModel",
          "state": {
            "_model_module": "@jupyter-widgets/base",
            "_model_module_version": "1.2.0",
            "_model_name": "LayoutModel",
            "_view_count": null,
            "_view_module": "@jupyter-widgets/base",
            "_view_module_version": "1.2.0",
            "_view_name": "LayoutView",
            "align_content": null,
            "align_items": null,
            "align_self": null,
            "border": null,
            "bottom": null,
            "display": null,
            "flex": null,
            "flex_flow": null,
            "grid_area": null,
            "grid_auto_columns": null,
            "grid_auto_flow": null,
            "grid_auto_rows": null,
            "grid_column": null,
            "grid_gap": null,
            "grid_row": null,
            "grid_template_areas": null,
            "grid_template_columns": null,
            "grid_template_rows": null,
            "height": null,
            "justify_content": null,
            "justify_items": null,
            "left": null,
            "margin": null,
            "max_height": null,
            "max_width": null,
            "min_height": null,
            "min_width": null,
            "object_fit": null,
            "object_position": null,
            "order": null,
            "overflow": null,
            "overflow_x": null,
            "overflow_y": null,
            "padding": null,
            "right": null,
            "top": null,
            "visibility": null,
            "width": null
          }
        },
        "9c05b224497d4a50aaad684adad16e87": {
          "model_module": "@jupyter-widgets/base",
          "model_module_version": "1.2.0",
          "model_name": "LayoutModel",
          "state": {
            "_model_module": "@jupyter-widgets/base",
            "_model_module_version": "1.2.0",
            "_model_name": "LayoutModel",
            "_view_count": null,
            "_view_module": "@jupyter-widgets/base",
            "_view_module_version": "1.2.0",
            "_view_name": "LayoutView",
            "align_content": null,
            "align_items": null,
            "align_self": null,
            "border": null,
            "bottom": null,
            "display": null,
            "flex": null,
            "flex_flow": null,
            "grid_area": null,
            "grid_auto_columns": null,
            "grid_auto_flow": null,
            "grid_auto_rows": null,
            "grid_column": null,
            "grid_gap": null,
            "grid_row": null,
            "grid_template_areas": null,
            "grid_template_columns": null,
            "grid_template_rows": null,
            "height": null,
            "justify_content": null,
            "justify_items": null,
            "left": null,
            "margin": null,
            "max_height": null,
            "max_width": null,
            "min_height": null,
            "min_width": null,
            "object_fit": null,
            "object_position": null,
            "order": null,
            "overflow": null,
            "overflow_x": null,
            "overflow_y": null,
            "padding": null,
            "right": null,
            "top": null,
            "visibility": null,
            "width": null
          }
        },
        "9dd6f29c00444a2c979170f5718dff6d": {
          "model_module": "@jupyter-widgets/base",
          "model_module_version": "1.2.0",
          "model_name": "LayoutModel",
          "state": {
            "_model_module": "@jupyter-widgets/base",
            "_model_module_version": "1.2.0",
            "_model_name": "LayoutModel",
            "_view_count": null,
            "_view_module": "@jupyter-widgets/base",
            "_view_module_version": "1.2.0",
            "_view_name": "LayoutView",
            "align_content": null,
            "align_items": null,
            "align_self": null,
            "border": null,
            "bottom": null,
            "display": null,
            "flex": null,
            "flex_flow": null,
            "grid_area": null,
            "grid_auto_columns": null,
            "grid_auto_flow": null,
            "grid_auto_rows": null,
            "grid_column": null,
            "grid_gap": null,
            "grid_row": null,
            "grid_template_areas": null,
            "grid_template_columns": null,
            "grid_template_rows": null,
            "height": null,
            "justify_content": null,
            "justify_items": null,
            "left": null,
            "margin": null,
            "max_height": null,
            "max_width": null,
            "min_height": null,
            "min_width": null,
            "object_fit": null,
            "object_position": null,
            "order": null,
            "overflow": null,
            "overflow_x": null,
            "overflow_y": null,
            "padding": null,
            "right": null,
            "top": null,
            "visibility": null,
            "width": null
          }
        },
        "9e9f239c34164c678e91964b95b440b0": {
          "model_module": "@jupyter-widgets/base",
          "model_module_version": "1.2.0",
          "model_name": "LayoutModel",
          "state": {
            "_model_module": "@jupyter-widgets/base",
            "_model_module_version": "1.2.0",
            "_model_name": "LayoutModel",
            "_view_count": null,
            "_view_module": "@jupyter-widgets/base",
            "_view_module_version": "1.2.0",
            "_view_name": "LayoutView",
            "align_content": null,
            "align_items": null,
            "align_self": null,
            "border": null,
            "bottom": null,
            "display": null,
            "flex": null,
            "flex_flow": null,
            "grid_area": null,
            "grid_auto_columns": null,
            "grid_auto_flow": null,
            "grid_auto_rows": null,
            "grid_column": null,
            "grid_gap": null,
            "grid_row": null,
            "grid_template_areas": null,
            "grid_template_columns": null,
            "grid_template_rows": null,
            "height": null,
            "justify_content": null,
            "justify_items": null,
            "left": null,
            "margin": null,
            "max_height": null,
            "max_width": null,
            "min_height": null,
            "min_width": null,
            "object_fit": null,
            "object_position": null,
            "order": null,
            "overflow": null,
            "overflow_x": null,
            "overflow_y": null,
            "padding": null,
            "right": null,
            "top": null,
            "visibility": null,
            "width": null
          }
        },
        "a143abd996f84a5f8ee9147b9583e8ef": {
          "model_module": "@jupyter-widgets/base",
          "model_module_version": "1.2.0",
          "model_name": "LayoutModel",
          "state": {
            "_model_module": "@jupyter-widgets/base",
            "_model_module_version": "1.2.0",
            "_model_name": "LayoutModel",
            "_view_count": null,
            "_view_module": "@jupyter-widgets/base",
            "_view_module_version": "1.2.0",
            "_view_name": "LayoutView",
            "align_content": null,
            "align_items": null,
            "align_self": null,
            "border": null,
            "bottom": null,
            "display": null,
            "flex": null,
            "flex_flow": null,
            "grid_area": null,
            "grid_auto_columns": null,
            "grid_auto_flow": null,
            "grid_auto_rows": null,
            "grid_column": null,
            "grid_gap": null,
            "grid_row": null,
            "grid_template_areas": null,
            "grid_template_columns": null,
            "grid_template_rows": null,
            "height": null,
            "justify_content": null,
            "justify_items": null,
            "left": null,
            "margin": null,
            "max_height": null,
            "max_width": null,
            "min_height": null,
            "min_width": null,
            "object_fit": null,
            "object_position": null,
            "order": null,
            "overflow": null,
            "overflow_x": null,
            "overflow_y": null,
            "padding": null,
            "right": null,
            "top": null,
            "visibility": null,
            "width": null
          }
        },
        "a1fd694247bd4d65b7d222c46cef78a8": {
          "model_module": "@jupyter-widgets/controls",
          "model_module_version": "1.5.0",
          "model_name": "HTMLModel",
          "state": {
            "_dom_classes": [],
            "_model_module": "@jupyter-widgets/controls",
            "_model_module_version": "1.5.0",
            "_model_name": "HTMLModel",
            "_view_count": null,
            "_view_module": "@jupyter-widgets/controls",
            "_view_module_version": "1.5.0",
            "_view_name": "HTMLView",
            "description": "",
            "description_tooltip": null,
            "layout": "IPY_MODEL_09f2db1a1bd04ad6b142e642df609392",
            "placeholder": "​",
            "style": "IPY_MODEL_856eae1dc8f449ba9c8f0c801e3309be",
            "value": "Downloading (…)/main/tokenizer.json: 100%"
          }
        },
        "a56e9d9a40a74045a180542f924fec92": {
          "model_module": "@jupyter-widgets/base",
          "model_module_version": "1.2.0",
          "model_name": "LayoutModel",
          "state": {
            "_model_module": "@jupyter-widgets/base",
            "_model_module_version": "1.2.0",
            "_model_name": "LayoutModel",
            "_view_count": null,
            "_view_module": "@jupyter-widgets/base",
            "_view_module_version": "1.2.0",
            "_view_name": "LayoutView",
            "align_content": null,
            "align_items": null,
            "align_self": null,
            "border": null,
            "bottom": null,
            "display": null,
            "flex": null,
            "flex_flow": null,
            "grid_area": null,
            "grid_auto_columns": null,
            "grid_auto_flow": null,
            "grid_auto_rows": null,
            "grid_column": null,
            "grid_gap": null,
            "grid_row": null,
            "grid_template_areas": null,
            "grid_template_columns": null,
            "grid_template_rows": null,
            "height": null,
            "justify_content": null,
            "justify_items": null,
            "left": null,
            "margin": null,
            "max_height": null,
            "max_width": null,
            "min_height": null,
            "min_width": null,
            "object_fit": null,
            "object_position": null,
            "order": null,
            "overflow": null,
            "overflow_x": null,
            "overflow_y": null,
            "padding": null,
            "right": null,
            "top": null,
            "visibility": null,
            "width": null
          }
        },
        "a990c4ca783c41289cf0d898ff94484a": {
          "model_module": "@jupyter-widgets/controls",
          "model_module_version": "1.5.0",
          "model_name": "HBoxModel",
          "state": {
            "_dom_classes": [],
            "_model_module": "@jupyter-widgets/controls",
            "_model_module_version": "1.5.0",
            "_model_name": "HBoxModel",
            "_view_count": null,
            "_view_module": "@jupyter-widgets/controls",
            "_view_module_version": "1.5.0",
            "_view_name": "HBoxView",
            "box_style": "",
            "children": [
              "IPY_MODEL_b47e62de32ce405198cdb80aab1ca6b2",
              "IPY_MODEL_766df022f3ba4549998d958ee903a8e6",
              "IPY_MODEL_b7f784f64f104b96b935752d872abb95"
            ],
            "layout": "IPY_MODEL_5bef894cb0dd45ac99b3fda70178e107"
          }
        },
        "aa64a34bc206407f9c7be96de763d44b": {
          "model_module": "@jupyter-widgets/controls",
          "model_module_version": "1.5.0",
          "model_name": "DescriptionStyleModel",
          "state": {
            "_model_module": "@jupyter-widgets/controls",
            "_model_module_version": "1.5.0",
            "_model_name": "DescriptionStyleModel",
            "_view_count": null,
            "_view_module": "@jupyter-widgets/base",
            "_view_module_version": "1.2.0",
            "_view_name": "StyleView",
            "description_width": ""
          }
        },
        "ad50e0abaa974533a930bb5f6774f857": {
          "model_module": "@jupyter-widgets/controls",
          "model_module_version": "1.5.0",
          "model_name": "HBoxModel",
          "state": {
            "_dom_classes": [],
            "_model_module": "@jupyter-widgets/controls",
            "_model_module_version": "1.5.0",
            "_model_name": "HBoxModel",
            "_view_count": null,
            "_view_module": "@jupyter-widgets/controls",
            "_view_module_version": "1.5.0",
            "_view_name": "HBoxView",
            "box_style": "",
            "children": [
              "IPY_MODEL_07079b11313f4686992ebb1dd57326b8",
              "IPY_MODEL_bf047c62b882428a817d7406fd4742f6",
              "IPY_MODEL_60cd44563af74da9b0dbac1323f79d59"
            ],
            "layout": "IPY_MODEL_e6adcf7767b849a89d938ce8386e4e7d"
          }
        },
        "adbce4f2a65e408aafeef2a2b663b929": {
          "model_module": "@jupyter-widgets/controls",
          "model_module_version": "1.5.0",
          "model_name": "DescriptionStyleModel",
          "state": {
            "_model_module": "@jupyter-widgets/controls",
            "_model_module_version": "1.5.0",
            "_model_name": "DescriptionStyleModel",
            "_view_count": null,
            "_view_module": "@jupyter-widgets/base",
            "_view_module_version": "1.2.0",
            "_view_name": "StyleView",
            "description_width": ""
          }
        },
        "b09177a35a3f47f7ab2b657017905f51": {
          "model_module": "@jupyter-widgets/controls",
          "model_module_version": "1.5.0",
          "model_name": "HTMLModel",
          "state": {
            "_dom_classes": [],
            "_model_module": "@jupyter-widgets/controls",
            "_model_module_version": "1.5.0",
            "_model_name": "HTMLModel",
            "_view_count": null,
            "_view_module": "@jupyter-widgets/controls",
            "_view_module_version": "1.5.0",
            "_view_name": "HTMLView",
            "description": "",
            "description_tooltip": null,
            "layout": "IPY_MODEL_8de71cc8e7464b08ada4bbdb9623f582",
            "placeholder": "​",
            "style": "IPY_MODEL_b188f98c8add4e879e53e5b46faec628",
            "value": "Downloading (…)okenizer_config.json: 100%"
          }
        },
        "b188f98c8add4e879e53e5b46faec628": {
          "model_module": "@jupyter-widgets/controls",
          "model_module_version": "1.5.0",
          "model_name": "DescriptionStyleModel",
          "state": {
            "_model_module": "@jupyter-widgets/controls",
            "_model_module_version": "1.5.0",
            "_model_name": "DescriptionStyleModel",
            "_view_count": null,
            "_view_module": "@jupyter-widgets/base",
            "_view_module_version": "1.2.0",
            "_view_name": "StyleView",
            "description_width": ""
          }
        },
        "b43aa7963cb847f1bd0180f4af179d41": {
          "model_module": "@jupyter-widgets/controls",
          "model_module_version": "1.5.0",
          "model_name": "DescriptionStyleModel",
          "state": {
            "_model_module": "@jupyter-widgets/controls",
            "_model_module_version": "1.5.0",
            "_model_name": "DescriptionStyleModel",
            "_view_count": null,
            "_view_module": "@jupyter-widgets/base",
            "_view_module_version": "1.2.0",
            "_view_name": "StyleView",
            "description_width": ""
          }
        },
        "b47e62de32ce405198cdb80aab1ca6b2": {
          "model_module": "@jupyter-widgets/controls",
          "model_module_version": "1.5.0",
          "model_name": "HTMLModel",
          "state": {
            "_dom_classes": [],
            "_model_module": "@jupyter-widgets/controls",
            "_model_module_version": "1.5.0",
            "_model_name": "HTMLModel",
            "_view_count": null,
            "_view_module": "@jupyter-widgets/controls",
            "_view_module_version": "1.5.0",
            "_view_name": "HTMLView",
            "description": "",
            "description_tooltip": null,
            "layout": "IPY_MODEL_c5a3f636d2ae4f3796299552315f4394",
            "placeholder": "​",
            "style": "IPY_MODEL_d4386d5f9dc8437f8ea79014f745c02b",
            "value": "Map: 100%"
          }
        },
        "b796bee636c54589a2c0d0872b8baa17": {
          "model_module": "@jupyter-widgets/controls",
          "model_module_version": "1.5.0",
          "model_name": "DescriptionStyleModel",
          "state": {
            "_model_module": "@jupyter-widgets/controls",
            "_model_module_version": "1.5.0",
            "_model_name": "DescriptionStyleModel",
            "_view_count": null,
            "_view_module": "@jupyter-widgets/base",
            "_view_module_version": "1.2.0",
            "_view_name": "StyleView",
            "description_width": ""
          }
        },
        "b7ba76192f2a406aac7b8dd66192895c": {
          "model_module": "@jupyter-widgets/controls",
          "model_module_version": "1.5.0",
          "model_name": "HBoxModel",
          "state": {
            "_dom_classes": [],
            "_model_module": "@jupyter-widgets/controls",
            "_model_module_version": "1.5.0",
            "_model_name": "HBoxModel",
            "_view_count": null,
            "_view_module": "@jupyter-widgets/controls",
            "_view_module_version": "1.5.0",
            "_view_name": "HBoxView",
            "box_style": "",
            "children": [
              "IPY_MODEL_6d7cd3e7c19a41a3ab31e54fa22df0fe",
              "IPY_MODEL_c4712ef9a87f48268afbf948cbe61f62",
              "IPY_MODEL_1874b57524ce4a8380dbe7754f42537c"
            ],
            "layout": "IPY_MODEL_9e9f239c34164c678e91964b95b440b0"
          }
        },
        "b7f784f64f104b96b935752d872abb95": {
          "model_module": "@jupyter-widgets/controls",
          "model_module_version": "1.5.0",
          "model_name": "HTMLModel",
          "state": {
            "_dom_classes": [],
            "_model_module": "@jupyter-widgets/controls",
            "_model_module_version": "1.5.0",
            "_model_name": "HTMLModel",
            "_view_count": null,
            "_view_module": "@jupyter-widgets/controls",
            "_view_module_version": "1.5.0",
            "_view_name": "HTMLView",
            "description": "",
            "description_tooltip": null,
            "layout": "IPY_MODEL_a56e9d9a40a74045a180542f924fec92",
            "placeholder": "​",
            "style": "IPY_MODEL_f2032966e4084290a7f7918cbe4abaf2",
            "value": " 1000/1000 [00:00&lt;00:00, 3541.48 examples/s]"
          }
        },
        "bbd0ccd9ed3e43d08387d76103e3a736": {
          "model_module": "@jupyter-widgets/controls",
          "model_module_version": "1.5.0",
          "model_name": "HTMLModel",
          "state": {
            "_dom_classes": [],
            "_model_module": "@jupyter-widgets/controls",
            "_model_module_version": "1.5.0",
            "_model_name": "HTMLModel",
            "_view_count": null,
            "_view_module": "@jupyter-widgets/controls",
            "_view_module_version": "1.5.0",
            "_view_name": "HTMLView",
            "description": "",
            "description_tooltip": null,
            "layout": "IPY_MODEL_c816e461b7154831870cb678906abae5",
            "placeholder": "​",
            "style": "IPY_MODEL_6a05f6a9198d47c8bdfaf567cbfca6b8",
            "value": " 800/800 [00:00&lt;00:00, 4493.13 examples/s]"
          }
        },
        "bcd13671379a4a9da3d2d0ed72d2c1fc": {
          "model_module": "@jupyter-widgets/base",
          "model_module_version": "1.2.0",
          "model_name": "LayoutModel",
          "state": {
            "_model_module": "@jupyter-widgets/base",
            "_model_module_version": "1.2.0",
            "_model_name": "LayoutModel",
            "_view_count": null,
            "_view_module": "@jupyter-widgets/base",
            "_view_module_version": "1.2.0",
            "_view_name": "LayoutView",
            "align_content": null,
            "align_items": null,
            "align_self": null,
            "border": null,
            "bottom": null,
            "display": null,
            "flex": null,
            "flex_flow": null,
            "grid_area": null,
            "grid_auto_columns": null,
            "grid_auto_flow": null,
            "grid_auto_rows": null,
            "grid_column": null,
            "grid_gap": null,
            "grid_row": null,
            "grid_template_areas": null,
            "grid_template_columns": null,
            "grid_template_rows": null,
            "height": null,
            "justify_content": null,
            "justify_items": null,
            "left": null,
            "margin": null,
            "max_height": null,
            "max_width": null,
            "min_height": null,
            "min_width": null,
            "object_fit": null,
            "object_position": null,
            "order": null,
            "overflow": null,
            "overflow_x": null,
            "overflow_y": null,
            "padding": null,
            "right": null,
            "top": null,
            "visibility": null,
            "width": null
          }
        },
        "bd97250d3909463d93bb4cd2b1f99c2b": {
          "model_module": "@jupyter-widgets/controls",
          "model_module_version": "1.5.0",
          "model_name": "DescriptionStyleModel",
          "state": {
            "_model_module": "@jupyter-widgets/controls",
            "_model_module_version": "1.5.0",
            "_model_name": "DescriptionStyleModel",
            "_view_count": null,
            "_view_module": "@jupyter-widgets/base",
            "_view_module_version": "1.2.0",
            "_view_name": "StyleView",
            "description_width": ""
          }
        },
        "bf047c62b882428a817d7406fd4742f6": {
          "model_module": "@jupyter-widgets/controls",
          "model_module_version": "1.5.0",
          "model_name": "FloatProgressModel",
          "state": {
            "_dom_classes": [],
            "_model_module": "@jupyter-widgets/controls",
            "_model_module_version": "1.5.0",
            "_model_name": "FloatProgressModel",
            "_view_count": null,
            "_view_module": "@jupyter-widgets/controls",
            "_view_module_version": "1.5.0",
            "_view_name": "ProgressView",
            "bar_style": "success",
            "description": "",
            "description_tooltip": null,
            "layout": "IPY_MODEL_6f8415892ce148058b62a0b37baef447",
            "max": 483,
            "min": 0,
            "orientation": "horizontal",
            "style": "IPY_MODEL_32b53d8b2ce5494d90354180bef1acd8",
            "value": 483
          }
        },
        "bf149176ab2f466e8cf999c5fe20f254": {
          "model_module": "@jupyter-widgets/controls",
          "model_module_version": "1.5.0",
          "model_name": "ProgressStyleModel",
          "state": {
            "_model_module": "@jupyter-widgets/controls",
            "_model_module_version": "1.5.0",
            "_model_name": "ProgressStyleModel",
            "_view_count": null,
            "_view_module": "@jupyter-widgets/base",
            "_view_module_version": "1.2.0",
            "_view_name": "StyleView",
            "bar_color": null,
            "description_width": ""
          }
        },
        "bfd19f169eff46b09d400d4e7dd6132a": {
          "model_module": "@jupyter-widgets/base",
          "model_module_version": "1.2.0",
          "model_name": "LayoutModel",
          "state": {
            "_model_module": "@jupyter-widgets/base",
            "_model_module_version": "1.2.0",
            "_model_name": "LayoutModel",
            "_view_count": null,
            "_view_module": "@jupyter-widgets/base",
            "_view_module_version": "1.2.0",
            "_view_name": "LayoutView",
            "align_content": null,
            "align_items": null,
            "align_self": null,
            "border": null,
            "bottom": null,
            "display": null,
            "flex": null,
            "flex_flow": null,
            "grid_area": null,
            "grid_auto_columns": null,
            "grid_auto_flow": null,
            "grid_auto_rows": null,
            "grid_column": null,
            "grid_gap": null,
            "grid_row": null,
            "grid_template_areas": null,
            "grid_template_columns": null,
            "grid_template_rows": null,
            "height": null,
            "justify_content": null,
            "justify_items": null,
            "left": null,
            "margin": null,
            "max_height": null,
            "max_width": null,
            "min_height": null,
            "min_width": null,
            "object_fit": null,
            "object_position": null,
            "order": null,
            "overflow": null,
            "overflow_x": null,
            "overflow_y": null,
            "padding": null,
            "right": null,
            "top": null,
            "visibility": null,
            "width": null
          }
        },
        "c4712ef9a87f48268afbf948cbe61f62": {
          "model_module": "@jupyter-widgets/controls",
          "model_module_version": "1.5.0",
          "model_name": "FloatProgressModel",
          "state": {
            "_dom_classes": [],
            "_model_module": "@jupyter-widgets/controls",
            "_model_module_version": "1.5.0",
            "_model_name": "FloatProgressModel",
            "_view_count": null,
            "_view_module": "@jupyter-widgets/controls",
            "_view_module_version": "1.5.0",
            "_view_name": "ProgressView",
            "bar_style": "success",
            "description": "",
            "description_tooltip": null,
            "layout": "IPY_MODEL_66eff5f921c94edeb238217b2c3df540",
            "max": 267967963,
            "min": 0,
            "orientation": "horizontal",
            "style": "IPY_MODEL_15b68c8667774e3dbbbccb77fd3c9a6f",
            "value": 267967963
          }
        },
        "c4d1df10d2cb4168a53e75371cec6260": {
          "model_module": "@jupyter-widgets/controls",
          "model_module_version": "1.5.0",
          "model_name": "HTMLModel",
          "state": {
            "_dom_classes": [],
            "_model_module": "@jupyter-widgets/controls",
            "_model_module_version": "1.5.0",
            "_model_name": "HTMLModel",
            "_view_count": null,
            "_view_module": "@jupyter-widgets/controls",
            "_view_module_version": "1.5.0",
            "_view_name": "HTMLView",
            "description": "",
            "description_tooltip": null,
            "layout": "IPY_MODEL_238cdfef37924bf19254fd59010f9645",
            "placeholder": "​",
            "style": "IPY_MODEL_b796bee636c54589a2c0d0872b8baa17",
            "value": "Downloading (…)solve/main/vocab.txt: 100%"
          }
        },
        "c5a3f636d2ae4f3796299552315f4394": {
          "model_module": "@jupyter-widgets/base",
          "model_module_version": "1.2.0",
          "model_name": "LayoutModel",
          "state": {
            "_model_module": "@jupyter-widgets/base",
            "_model_module_version": "1.2.0",
            "_model_name": "LayoutModel",
            "_view_count": null,
            "_view_module": "@jupyter-widgets/base",
            "_view_module_version": "1.2.0",
            "_view_name": "LayoutView",
            "align_content": null,
            "align_items": null,
            "align_self": null,
            "border": null,
            "bottom": null,
            "display": null,
            "flex": null,
            "flex_flow": null,
            "grid_area": null,
            "grid_auto_columns": null,
            "grid_auto_flow": null,
            "grid_auto_rows": null,
            "grid_column": null,
            "grid_gap": null,
            "grid_row": null,
            "grid_template_areas": null,
            "grid_template_columns": null,
            "grid_template_rows": null,
            "height": null,
            "justify_content": null,
            "justify_items": null,
            "left": null,
            "margin": null,
            "max_height": null,
            "max_width": null,
            "min_height": null,
            "min_width": null,
            "object_fit": null,
            "object_position": null,
            "order": null,
            "overflow": null,
            "overflow_x": null,
            "overflow_y": null,
            "padding": null,
            "right": null,
            "top": null,
            "visibility": null,
            "width": null
          }
        },
        "c6db032e4d93463890dfaeeaa0cc9b2f": {
          "model_module": "@jupyter-widgets/controls",
          "model_module_version": "1.5.0",
          "model_name": "DescriptionStyleModel",
          "state": {
            "_model_module": "@jupyter-widgets/controls",
            "_model_module_version": "1.5.0",
            "_model_name": "DescriptionStyleModel",
            "_view_count": null,
            "_view_module": "@jupyter-widgets/base",
            "_view_module_version": "1.2.0",
            "_view_name": "StyleView",
            "description_width": ""
          }
        },
        "c816e461b7154831870cb678906abae5": {
          "model_module": "@jupyter-widgets/base",
          "model_module_version": "1.2.0",
          "model_name": "LayoutModel",
          "state": {
            "_model_module": "@jupyter-widgets/base",
            "_model_module_version": "1.2.0",
            "_model_name": "LayoutModel",
            "_view_count": null,
            "_view_module": "@jupyter-widgets/base",
            "_view_module_version": "1.2.0",
            "_view_name": "LayoutView",
            "align_content": null,
            "align_items": null,
            "align_self": null,
            "border": null,
            "bottom": null,
            "display": null,
            "flex": null,
            "flex_flow": null,
            "grid_area": null,
            "grid_auto_columns": null,
            "grid_auto_flow": null,
            "grid_auto_rows": null,
            "grid_column": null,
            "grid_gap": null,
            "grid_row": null,
            "grid_template_areas": null,
            "grid_template_columns": null,
            "grid_template_rows": null,
            "height": null,
            "justify_content": null,
            "justify_items": null,
            "left": null,
            "margin": null,
            "max_height": null,
            "max_width": null,
            "min_height": null,
            "min_width": null,
            "object_fit": null,
            "object_position": null,
            "order": null,
            "overflow": null,
            "overflow_x": null,
            "overflow_y": null,
            "padding": null,
            "right": null,
            "top": null,
            "visibility": null,
            "width": null
          }
        },
        "cb33e30c873d46a3b3fb6a021b620fbd": {
          "model_module": "@jupyter-widgets/controls",
          "model_module_version": "1.5.0",
          "model_name": "HTMLModel",
          "state": {
            "_dom_classes": [],
            "_model_module": "@jupyter-widgets/controls",
            "_model_module_version": "1.5.0",
            "_model_name": "HTMLModel",
            "_view_count": null,
            "_view_module": "@jupyter-widgets/controls",
            "_view_module_version": "1.5.0",
            "_view_name": "HTMLView",
            "description": "",
            "description_tooltip": null,
            "layout": "IPY_MODEL_368974fb7133416ca89b060ea0972c68",
            "placeholder": "​",
            "style": "IPY_MODEL_adbce4f2a65e408aafeef2a2b663b929",
            "value": "Map: 100%"
          }
        },
        "cc96ca5a1835407b9e4fc7dfae585a68": {
          "model_module": "@jupyter-widgets/controls",
          "model_module_version": "1.5.0",
          "model_name": "HBoxModel",
          "state": {
            "_dom_classes": [],
            "_model_module": "@jupyter-widgets/controls",
            "_model_module_version": "1.5.0",
            "_model_name": "HBoxModel",
            "_view_count": null,
            "_view_module": "@jupyter-widgets/controls",
            "_view_module_version": "1.5.0",
            "_view_name": "HBoxView",
            "box_style": "",
            "children": [
              "IPY_MODEL_a1fd694247bd4d65b7d222c46cef78a8",
              "IPY_MODEL_e0414e9764194613b13e50e834be19e4",
              "IPY_MODEL_61222542d0174ad1a9705d36fac9f062"
            ],
            "layout": "IPY_MODEL_f1ce72c531a24e00b9e3968e30e81894"
          }
        },
        "d4386d5f9dc8437f8ea79014f745c02b": {
          "model_module": "@jupyter-widgets/controls",
          "model_module_version": "1.5.0",
          "model_name": "DescriptionStyleModel",
          "state": {
            "_model_module": "@jupyter-widgets/controls",
            "_model_module_version": "1.5.0",
            "_model_name": "DescriptionStyleModel",
            "_view_count": null,
            "_view_module": "@jupyter-widgets/base",
            "_view_module_version": "1.2.0",
            "_view_name": "StyleView",
            "description_width": ""
          }
        },
        "d972c9fd228845ff98e3057964ffd163": {
          "model_module": "@jupyter-widgets/base",
          "model_module_version": "1.2.0",
          "model_name": "LayoutModel",
          "state": {
            "_model_module": "@jupyter-widgets/base",
            "_model_module_version": "1.2.0",
            "_model_name": "LayoutModel",
            "_view_count": null,
            "_view_module": "@jupyter-widgets/base",
            "_view_module_version": "1.2.0",
            "_view_name": "LayoutView",
            "align_content": null,
            "align_items": null,
            "align_self": null,
            "border": null,
            "bottom": null,
            "display": null,
            "flex": null,
            "flex_flow": null,
            "grid_area": null,
            "grid_auto_columns": null,
            "grid_auto_flow": null,
            "grid_auto_rows": null,
            "grid_column": null,
            "grid_gap": null,
            "grid_row": null,
            "grid_template_areas": null,
            "grid_template_columns": null,
            "grid_template_rows": null,
            "height": null,
            "justify_content": null,
            "justify_items": null,
            "left": null,
            "margin": null,
            "max_height": null,
            "max_width": null,
            "min_height": null,
            "min_width": null,
            "object_fit": null,
            "object_position": null,
            "order": null,
            "overflow": null,
            "overflow_x": null,
            "overflow_y": null,
            "padding": null,
            "right": null,
            "top": null,
            "visibility": null,
            "width": null
          }
        },
        "dc41d213f23741bc860518f5ec57ffaa": {
          "model_module": "@jupyter-widgets/controls",
          "model_module_version": "1.5.0",
          "model_name": "FloatProgressModel",
          "state": {
            "_dom_classes": [],
            "_model_module": "@jupyter-widgets/controls",
            "_model_module_version": "1.5.0",
            "_model_name": "FloatProgressModel",
            "_view_count": null,
            "_view_module": "@jupyter-widgets/controls",
            "_view_module_version": "1.5.0",
            "_view_name": "ProgressView",
            "bar_style": "success",
            "description": "",
            "description_tooltip": null,
            "layout": "IPY_MODEL_bcd13671379a4a9da3d2d0ed72d2c1fc",
            "max": 28,
            "min": 0,
            "orientation": "horizontal",
            "style": "IPY_MODEL_294ebebda97d41d79edfe48c227c8199",
            "value": 28
          }
        },
        "e0414e9764194613b13e50e834be19e4": {
          "model_module": "@jupyter-widgets/controls",
          "model_module_version": "1.5.0",
          "model_name": "FloatProgressModel",
          "state": {
            "_dom_classes": [],
            "_model_module": "@jupyter-widgets/controls",
            "_model_module_version": "1.5.0",
            "_model_name": "FloatProgressModel",
            "_view_count": null,
            "_view_module": "@jupyter-widgets/controls",
            "_view_module_version": "1.5.0",
            "_view_name": "ProgressView",
            "bar_style": "success",
            "description": "",
            "description_tooltip": null,
            "layout": "IPY_MODEL_5c10e8613816441ea34208b051d79e8d",
            "max": 466062,
            "min": 0,
            "orientation": "horizontal",
            "style": "IPY_MODEL_6d89da4aea504eeca9770bf34383c789",
            "value": 466062
          }
        },
        "e6adcf7767b849a89d938ce8386e4e7d": {
          "model_module": "@jupyter-widgets/base",
          "model_module_version": "1.2.0",
          "model_name": "LayoutModel",
          "state": {
            "_model_module": "@jupyter-widgets/base",
            "_model_module_version": "1.2.0",
            "_model_name": "LayoutModel",
            "_view_count": null,
            "_view_module": "@jupyter-widgets/base",
            "_view_module_version": "1.2.0",
            "_view_name": "LayoutView",
            "align_content": null,
            "align_items": null,
            "align_self": null,
            "border": null,
            "bottom": null,
            "display": null,
            "flex": null,
            "flex_flow": null,
            "grid_area": null,
            "grid_auto_columns": null,
            "grid_auto_flow": null,
            "grid_auto_rows": null,
            "grid_column": null,
            "grid_gap": null,
            "grid_row": null,
            "grid_template_areas": null,
            "grid_template_columns": null,
            "grid_template_rows": null,
            "height": null,
            "justify_content": null,
            "justify_items": null,
            "left": null,
            "margin": null,
            "max_height": null,
            "max_width": null,
            "min_height": null,
            "min_width": null,
            "object_fit": null,
            "object_position": null,
            "order": null,
            "overflow": null,
            "overflow_x": null,
            "overflow_y": null,
            "padding": null,
            "right": null,
            "top": null,
            "visibility": null,
            "width": null
          }
        },
        "edfed13b0d9a4d16a5d4a35ddf061f99": {
          "model_module": "@jupyter-widgets/base",
          "model_module_version": "1.2.0",
          "model_name": "LayoutModel",
          "state": {
            "_model_module": "@jupyter-widgets/base",
            "_model_module_version": "1.2.0",
            "_model_name": "LayoutModel",
            "_view_count": null,
            "_view_module": "@jupyter-widgets/base",
            "_view_module_version": "1.2.0",
            "_view_name": "LayoutView",
            "align_content": null,
            "align_items": null,
            "align_self": null,
            "border": null,
            "bottom": null,
            "display": null,
            "flex": null,
            "flex_flow": null,
            "grid_area": null,
            "grid_auto_columns": null,
            "grid_auto_flow": null,
            "grid_auto_rows": null,
            "grid_column": null,
            "grid_gap": null,
            "grid_row": null,
            "grid_template_areas": null,
            "grid_template_columns": null,
            "grid_template_rows": null,
            "height": null,
            "justify_content": null,
            "justify_items": null,
            "left": null,
            "margin": null,
            "max_height": null,
            "max_width": null,
            "min_height": null,
            "min_width": null,
            "object_fit": null,
            "object_position": null,
            "order": null,
            "overflow": null,
            "overflow_x": null,
            "overflow_y": null,
            "padding": null,
            "right": null,
            "top": null,
            "visibility": null,
            "width": null
          }
        },
        "f1ce72c531a24e00b9e3968e30e81894": {
          "model_module": "@jupyter-widgets/base",
          "model_module_version": "1.2.0",
          "model_name": "LayoutModel",
          "state": {
            "_model_module": "@jupyter-widgets/base",
            "_model_module_version": "1.2.0",
            "_model_name": "LayoutModel",
            "_view_count": null,
            "_view_module": "@jupyter-widgets/base",
            "_view_module_version": "1.2.0",
            "_view_name": "LayoutView",
            "align_content": null,
            "align_items": null,
            "align_self": null,
            "border": null,
            "bottom": null,
            "display": null,
            "flex": null,
            "flex_flow": null,
            "grid_area": null,
            "grid_auto_columns": null,
            "grid_auto_flow": null,
            "grid_auto_rows": null,
            "grid_column": null,
            "grid_gap": null,
            "grid_row": null,
            "grid_template_areas": null,
            "grid_template_columns": null,
            "grid_template_rows": null,
            "height": null,
            "justify_content": null,
            "justify_items": null,
            "left": null,
            "margin": null,
            "max_height": null,
            "max_width": null,
            "min_height": null,
            "min_width": null,
            "object_fit": null,
            "object_position": null,
            "order": null,
            "overflow": null,
            "overflow_x": null,
            "overflow_y": null,
            "padding": null,
            "right": null,
            "top": null,
            "visibility": null,
            "width": null
          }
        },
        "f2032966e4084290a7f7918cbe4abaf2": {
          "model_module": "@jupyter-widgets/controls",
          "model_module_version": "1.5.0",
          "model_name": "DescriptionStyleModel",
          "state": {
            "_model_module": "@jupyter-widgets/controls",
            "_model_module_version": "1.5.0",
            "_model_name": "DescriptionStyleModel",
            "_view_count": null,
            "_view_module": "@jupyter-widgets/base",
            "_view_module_version": "1.2.0",
            "_view_name": "StyleView",
            "description_width": ""
          }
        },
        "fb4d117f50314c66a07943e6aafc2609": {
          "model_module": "@jupyter-widgets/controls",
          "model_module_version": "1.5.0",
          "model_name": "ProgressStyleModel",
          "state": {
            "_model_module": "@jupyter-widgets/controls",
            "_model_module_version": "1.5.0",
            "_model_name": "ProgressStyleModel",
            "_view_count": null,
            "_view_module": "@jupyter-widgets/base",
            "_view_module_version": "1.2.0",
            "_view_name": "StyleView",
            "bar_color": null,
            "description_width": ""
          }
        },
        "fc3020d3c068491685cda4c1361c645f": {
          "model_module": "@jupyter-widgets/controls",
          "model_module_version": "1.5.0",
          "model_name": "HBoxModel",
          "state": {
            "_dom_classes": [],
            "_model_module": "@jupyter-widgets/controls",
            "_model_module_version": "1.5.0",
            "_model_name": "HBoxModel",
            "_view_count": null,
            "_view_module": "@jupyter-widgets/controls",
            "_view_module_version": "1.5.0",
            "_view_name": "HBoxView",
            "box_style": "",
            "children": [
              "IPY_MODEL_b09177a35a3f47f7ab2b657017905f51",
              "IPY_MODEL_dc41d213f23741bc860518f5ec57ffaa",
              "IPY_MODEL_3e9c06b40ee440d9b258b8a955e66157"
            ],
            "layout": "IPY_MODEL_7c203dc8a320408fad519e53a67993f7"
          }
        }
      }
    }
  },
  "nbformat": 4,
  "nbformat_minor": 0
}
